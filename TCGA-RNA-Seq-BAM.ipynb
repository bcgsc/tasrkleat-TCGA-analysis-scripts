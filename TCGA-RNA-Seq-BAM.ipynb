{
 "cells": [
  {
   "cell_type": "code",
   "execution_count": 2,
   "metadata": {
    "collapsed": true
   },
   "outputs": [],
   "source": [
    "import pandas as pd\n",
    "df = pd.read_csv('https://cghub.ucsc.edu/reports/SUMMARY_STATS/LATEST_MANIFEST.tsv',\n",
    "                 low_memory=False, sep='\\t')"
   ]
  },
  {
   "cell_type": "code",
   "execution_count": 3,
   "metadata": {
    "collapsed": false
   },
   "outputs": [
    {
     "name": "stdout",
     "output_type": "stream",
     "text": [
      "2016-03-24\n"
     ]
    }
   ],
   "source": [
    "# Last time it's run:\n",
    "import datetime\n",
    "print(datetime.datetime.today().date())"
   ]
  },
  {
   "cell_type": "code",
   "execution_count": 17,
   "metadata": {
    "collapsed": false
   },
   "outputs": [],
   "source": [
    "# only interested in those with state equals Live\n",
    "ndf = df[(df.study == 'TCGA') & (df.library_type == 'RNA-Seq') & (df.state == 'Live') & (df.file_type == 'bam')]"
   ]
  },
  {
   "cell_type": "code",
   "execution_count": 18,
   "metadata": {
    "collapsed": false
   },
   "outputs": [],
   "source": [
    "from misc import utils"
   ]
  },
  {
   "cell_type": "markdown",
   "metadata": {},
   "source": [
    "## Library types"
   ]
  },
  {
   "cell_type": "code",
   "execution_count": 19,
   "metadata": {
    "collapsed": false
   },
   "outputs": [
    {
     "data": {
      "text/html": [
       "<div>\n",
       "<table border=\"1\" class=\"dataframe\">\n",
       "  <thead>\n",
       "    <tr style=\"text-align: right;\">\n",
       "      <th></th>\n",
       "      <th>study</th>\n",
       "      <th>percent</th>\n",
       "    </tr>\n",
       "    <tr>\n",
       "      <th>library_type</th>\n",
       "      <th></th>\n",
       "      <th></th>\n",
       "    </tr>\n",
       "  </thead>\n",
       "  <tbody>\n",
       "    <tr>\n",
       "      <th>RNA-Seq</th>\n",
       "      <td>14484</td>\n",
       "      <td>100.00%</td>\n",
       "    </tr>\n",
       "  </tbody>\n",
       "</table>\n",
       "</div>"
      ],
      "text/plain": [
       "              study  percent\n",
       "library_type                \n",
       "RNA-Seq       14484  100.00%"
      ]
     },
     "execution_count": 19,
     "metadata": {},
     "output_type": "execute_result"
    }
   ],
   "source": [
    "count(ndf, 'library_type')"
   ]
  },
  {
   "cell_type": "markdown",
   "metadata": {},
   "source": [
    "## File types"
   ]
  },
  {
   "cell_type": "code",
   "execution_count": 20,
   "metadata": {
    "collapsed": false
   },
   "outputs": [
    {
     "data": {
      "text/html": [
       "<div>\n",
       "<table border=\"1\" class=\"dataframe\">\n",
       "  <thead>\n",
       "    <tr style=\"text-align: right;\">\n",
       "      <th></th>\n",
       "      <th>study</th>\n",
       "      <th>percent</th>\n",
       "    </tr>\n",
       "    <tr>\n",
       "      <th>file_type</th>\n",
       "      <th></th>\n",
       "      <th></th>\n",
       "    </tr>\n",
       "  </thead>\n",
       "  <tbody>\n",
       "    <tr>\n",
       "      <th>bam</th>\n",
       "      <td>14484</td>\n",
       "      <td>100.00%</td>\n",
       "    </tr>\n",
       "  </tbody>\n",
       "</table>\n",
       "</div>"
      ],
      "text/plain": [
       "           study  percent\n",
       "file_type                \n",
       "bam        14484  100.00%"
      ]
     },
     "execution_count": 20,
     "metadata": {},
     "output_type": "execute_result"
    }
   ],
   "source": [
    "count(ndf, 'file_type')"
   ]
  },
  {
   "cell_type": "markdown",
   "metadata": {},
   "source": [
    "## Diesase types"
   ]
  },
  {
   "cell_type": "code",
   "execution_count": 51,
   "metadata": {
    "collapsed": false
   },
   "outputs": [
    {
     "data": {
      "text/html": [
       "<div>\n",
       "<table border=\"1\" class=\"dataframe\">\n",
       "  <thead>\n",
       "    <tr style=\"text-align: right;\">\n",
       "      <th></th>\n",
       "      <th></th>\n",
       "      <th>study</th>\n",
       "      <th>percent</th>\n",
       "    </tr>\n",
       "    <tr>\n",
       "      <th>disease</th>\n",
       "      <th>disease_name</th>\n",
       "      <th></th>\n",
       "      <th></th>\n",
       "    </tr>\n",
       "  </thead>\n",
       "  <tbody>\n",
       "    <tr>\n",
       "      <th>CNTL</th>\n",
       "      <th>CONTROLS</th>\n",
       "      <td>1</td>\n",
       "      <td>0.01%</td>\n",
       "    </tr>\n",
       "    <tr>\n",
       "      <th>CHOL</th>\n",
       "      <th>CHOLANGIOCARCINOMA</th>\n",
       "      <td>45</td>\n",
       "      <td>0.31%</td>\n",
       "    </tr>\n",
       "    <tr>\n",
       "      <th>DLBC</th>\n",
       "      <th>LYMPHOID NEOPLASM DIFFUSE LARGE B-CELL LYMPHOMA</th>\n",
       "      <td>48</td>\n",
       "      <td>0.33%</td>\n",
       "    </tr>\n",
       "    <tr>\n",
       "      <th>UCS</th>\n",
       "      <th>UTERINE CARCINOSARCOMA</th>\n",
       "      <td>57</td>\n",
       "      <td>0.39%</td>\n",
       "    </tr>\n",
       "    <tr>\n",
       "      <th>ACC</th>\n",
       "      <th>ADRENOCORTICAL CARCINOMA</th>\n",
       "      <td>79</td>\n",
       "      <td>0.55%</td>\n",
       "    </tr>\n",
       "    <tr>\n",
       "      <th>UVM</th>\n",
       "      <th>UVEAL MELANOMA</th>\n",
       "      <td>80</td>\n",
       "      <td>0.55%</td>\n",
       "    </tr>\n",
       "    <tr>\n",
       "      <th>MESO</th>\n",
       "      <th>MESOTHELIOMA</th>\n",
       "      <td>87</td>\n",
       "      <td>0.60%</td>\n",
       "    </tr>\n",
       "    <tr>\n",
       "      <th>KICH</th>\n",
       "      <th>KIDNEY CHROMOPHOBE</th>\n",
       "      <td>91</td>\n",
       "      <td>0.63%</td>\n",
       "    </tr>\n",
       "    <tr>\n",
       "      <th>THYM</th>\n",
       "      <th>THYMOMA</th>\n",
       "      <td>122</td>\n",
       "      <td>0.84%</td>\n",
       "    </tr>\n",
       "    <tr>\n",
       "      <th>TGCT</th>\n",
       "      <th>TESTICULAR GERM CELL TUMORS</th>\n",
       "      <td>156</td>\n",
       "      <td>1.08%</td>\n",
       "    </tr>\n",
       "    <tr>\n",
       "      <th>PAAD</th>\n",
       "      <th>PANCREATIC ADENOCARCINOMA</th>\n",
       "      <td>183</td>\n",
       "      <td>1.26%</td>\n",
       "    </tr>\n",
       "    <tr>\n",
       "      <th>PCPG</th>\n",
       "      <th>PHEOCHROMOCYTOMA AND PARAGANGLIOMA</th>\n",
       "      <td>187</td>\n",
       "      <td>1.29%</td>\n",
       "    </tr>\n",
       "    <tr>\n",
       "      <th>READ</th>\n",
       "      <th>RECTUM ADENOCARCINOMA</th>\n",
       "      <td>248</td>\n",
       "      <td>1.71%</td>\n",
       "    </tr>\n",
       "    <tr>\n",
       "      <th>SARC</th>\n",
       "      <th>SARCOMA</th>\n",
       "      <td>265</td>\n",
       "      <td>1.83%</td>\n",
       "    </tr>\n",
       "    <tr>\n",
       "      <th>CESC</th>\n",
       "      <th>CERVICAL SQUAMOUS CELL CARCINOMA AND ENDOCERVICAL ADENOCARCINOMA</th>\n",
       "      <td>309</td>\n",
       "      <td>2.13%</td>\n",
       "    </tr>\n",
       "    <tr>\n",
       "      <th>KIRP</th>\n",
       "      <th>KIDNEY RENAL PAPILLARY CELL CARCINOMA</th>\n",
       "      <td>323</td>\n",
       "      <td>2.23%</td>\n",
       "    </tr>\n",
       "    <tr>\n",
       "      <th>LAML</th>\n",
       "      <th>ACUTE MYELOID LEUKEMIA</th>\n",
       "      <td>351</td>\n",
       "      <td>2.42%</td>\n",
       "    </tr>\n",
       "    <tr>\n",
       "      <th>GBM</th>\n",
       "      <th>GLIOBLASTOMA MULTIFORME</th>\n",
       "      <td>361</td>\n",
       "      <td>2.49%</td>\n",
       "    </tr>\n",
       "    <tr>\n",
       "      <th>ESCA</th>\n",
       "      <th>ESOPHAGEAL CARCINOMA</th>\n",
       "      <td>395</td>\n",
       "      <td>2.73%</td>\n",
       "    </tr>\n",
       "    <tr>\n",
       "      <th>LIHC</th>\n",
       "      <th>LIVER HEPATOCELLULAR CARCINOMA</th>\n",
       "      <td>424</td>\n",
       "      <td>2.93%</td>\n",
       "    </tr>\n",
       "    <tr>\n",
       "      <th>BLCA</th>\n",
       "      <th>BLADDER UROTHELIAL CARCINOMA</th>\n",
       "      <td>437</td>\n",
       "      <td>3.02%</td>\n",
       "    </tr>\n",
       "    <tr>\n",
       "      <th>SKCM</th>\n",
       "      <th>SKIN CUTANEOUS MELANOMA</th>\n",
       "      <td>473</td>\n",
       "      <td>3.27%</td>\n",
       "    </tr>\n",
       "    <tr>\n",
       "      <th>LGG</th>\n",
       "      <th>BRAIN LOWER GRADE GLIOMA</th>\n",
       "      <td>534</td>\n",
       "      <td>3.69%</td>\n",
       "    </tr>\n",
       "    <tr>\n",
       "      <th>LUSC</th>\n",
       "      <th>LUNG SQUAMOUS CELL CARCINOMA</th>\n",
       "      <td>553</td>\n",
       "      <td>3.82%</td>\n",
       "    </tr>\n",
       "    <tr>\n",
       "      <th>PRAD</th>\n",
       "      <th>PROSTATE ADENOCARCINOMA</th>\n",
       "      <td>558</td>\n",
       "      <td>3.85%</td>\n",
       "    </tr>\n",
       "    <tr>\n",
       "      <th>HNSC</th>\n",
       "      <th>HEAD AND NECK SQUAMOUS CELL CARCINOMA</th>\n",
       "      <td>566</td>\n",
       "      <td>3.91%</td>\n",
       "    </tr>\n",
       "    <tr>\n",
       "      <th>THCA</th>\n",
       "      <th>THYROID CARCINOMA</th>\n",
       "      <td>572</td>\n",
       "      <td>3.95%</td>\n",
       "    </tr>\n",
       "    <tr>\n",
       "      <th>LUAD</th>\n",
       "      <th>LUNG ADENOCARCINOMA</th>\n",
       "      <td>621</td>\n",
       "      <td>4.29%</td>\n",
       "    </tr>\n",
       "    <tr>\n",
       "      <th>COAD</th>\n",
       "      <th>COLON ADENOCARCINOMA</th>\n",
       "      <td>757</td>\n",
       "      <td>5.23%</td>\n",
       "    </tr>\n",
       "    <tr>\n",
       "      <th>UCEC</th>\n",
       "      <th>UTERINE CORPUS ENDOMETRIOID CARCINOMA</th>\n",
       "      <td>918</td>\n",
       "      <td>6.34%</td>\n",
       "    </tr>\n",
       "    <tr>\n",
       "      <th>KIRC</th>\n",
       "      <th>KIDNEY RENAL CLEAR CELL CARCINOMA</th>\n",
       "      <td>1060</td>\n",
       "      <td>7.32%</td>\n",
       "    </tr>\n",
       "    <tr>\n",
       "      <th>OV</th>\n",
       "      <th>OVARIAN SEROUS CYSTADENOCARCINOMA</th>\n",
       "      <td>1149</td>\n",
       "      <td>7.93%</td>\n",
       "    </tr>\n",
       "    <tr>\n",
       "      <th>STAD</th>\n",
       "      <th>STOMACH ADENOCARCINOMA</th>\n",
       "      <td>1220</td>\n",
       "      <td>8.42%</td>\n",
       "    </tr>\n",
       "    <tr>\n",
       "      <th>BRCA</th>\n",
       "      <th>BREAST INVASIVE CARCINOMA</th>\n",
       "      <td>1254</td>\n",
       "      <td>8.66%</td>\n",
       "    </tr>\n",
       "  </tbody>\n",
       "</table>\n",
       "</div>"
      ],
      "text/plain": [
       "                                                            study percent\n",
       "disease disease_name                                                     \n",
       "CNTL    CONTROLS                                                1   0.01%\n",
       "CHOL    CHOLANGIOCARCINOMA                                     45   0.31%\n",
       "DLBC    LYMPHOID NEOPLASM DIFFUSE LARGE B-CELL LYMPHOMA        48   0.33%\n",
       "UCS     UTERINE CARCINOSARCOMA                                 57   0.39%\n",
       "ACC     ADRENOCORTICAL CARCINOMA                               79   0.55%\n",
       "UVM     UVEAL MELANOMA                                         80   0.55%\n",
       "MESO    MESOTHELIOMA                                           87   0.60%\n",
       "KICH    KIDNEY CHROMOPHOBE                                     91   0.63%\n",
       "THYM    THYMOMA                                               122   0.84%\n",
       "TGCT    TESTICULAR GERM CELL TUMORS                           156   1.08%\n",
       "PAAD    PANCREATIC ADENOCARCINOMA                             183   1.26%\n",
       "PCPG    PHEOCHROMOCYTOMA AND PARAGANGLIOMA                    187   1.29%\n",
       "READ    RECTUM ADENOCARCINOMA                                 248   1.71%\n",
       "SARC    SARCOMA                                               265   1.83%\n",
       "CESC    CERVICAL SQUAMOUS CELL CARCINOMA AND ENDOCERVIC...    309   2.13%\n",
       "KIRP    KIDNEY RENAL PAPILLARY CELL CARCINOMA                 323   2.23%\n",
       "LAML    ACUTE MYELOID LEUKEMIA                                351   2.42%\n",
       "GBM     GLIOBLASTOMA MULTIFORME                               361   2.49%\n",
       "ESCA    ESOPHAGEAL CARCINOMA                                  395   2.73%\n",
       "LIHC    LIVER HEPATOCELLULAR CARCINOMA                        424   2.93%\n",
       "BLCA    BLADDER UROTHELIAL CARCINOMA                          437   3.02%\n",
       "SKCM    SKIN CUTANEOUS MELANOMA                               473   3.27%\n",
       "LGG     BRAIN LOWER GRADE GLIOMA                              534   3.69%\n",
       "LUSC    LUNG SQUAMOUS CELL CARCINOMA                          553   3.82%\n",
       "PRAD    PROSTATE ADENOCARCINOMA                               558   3.85%\n",
       "HNSC    HEAD AND NECK SQUAMOUS CELL CARCINOMA                 566   3.91%\n",
       "THCA    THYROID CARCINOMA                                     572   3.95%\n",
       "LUAD    LUNG ADENOCARCINOMA                                   621   4.29%\n",
       "COAD    COLON ADENOCARCINOMA                                  757   5.23%\n",
       "UCEC    UTERINE CORPUS ENDOMETRIOID CARCINOMA                 918   6.34%\n",
       "KIRC    KIDNEY RENAL CLEAR CELL CARCINOMA                    1060   7.32%\n",
       "OV      OVARIAN SEROUS CYSTADENOCARCINOMA                    1149   7.93%\n",
       "STAD    STOMACH ADENOCARCINOMA                               1220   8.42%\n",
       "BRCA    BREAST INVASIVE CARCINOMA                            1254   8.66%"
      ]
     },
     "execution_count": 51,
     "metadata": {},
     "output_type": "execute_result"
    }
   ],
   "source": [
    "utils.count(ndf, ['disease', 'disease_name'])"
   ]
  },
  {
   "cell_type": "markdown",
   "metadata": {},
   "source": [
    "## Number of samples"
   ]
  },
  {
   "cell_type": "code",
   "execution_count": 10,
   "metadata": {
    "collapsed": false
   },
   "outputs": [
    {
     "data": {
      "text/plain": [
       "14484"
      ]
     },
     "execution_count": 10,
     "metadata": {},
     "output_type": "execute_result"
    }
   ],
   "source": [
    "ndf.shape[0]"
   ]
  },
  {
   "cell_type": "markdown",
   "metadata": {},
   "source": [
    "## File sizes"
   ]
  },
  {
   "cell_type": "code",
   "execution_count": 11,
   "metadata": {
    "collapsed": false
   },
   "outputs": [
    {
     "data": {
      "text/plain": [
       "count     14.1 KB\n",
       "mean       7.1 GB\n",
       "std        3.6 GB\n",
       "min      132.3 MB\n",
       "25%        5.0 GB\n",
       "50%        6.4 GB\n",
       "75%        8.2 GB\n",
       "max       45.5 GB\n",
       "Name: files_size, dtype: object"
      ]
     },
     "execution_count": 11,
     "metadata": {},
     "output_type": "execute_result"
    }
   ],
   "source": [
    "# Note: the count doesn't make sense when converting to filesize, so it's shown separately\n",
    "from misc.utils import sizeof_fmt\n",
    "# args: pass a sep character for better readbility. See sizeof_fmt?? for more details\n",
    "ndf.files_size.describe().apply(sizeof_fmt, args=(' ',))"
   ]
  },
  {
   "cell_type": "markdown",
   "metadata": {},
   "source": [
    "#### Would be interesting to find out what the smallest and biggest files are"
   ]
  },
  {
   "cell_type": "code",
   "execution_count": 12,
   "metadata": {
    "collapsed": false
   },
   "outputs": [
    {
     "data": {
      "text/html": [
       "<div>\n",
       "<table border=\"1\" class=\"dataframe\">\n",
       "  <thead>\n",
       "    <tr style=\"text-align: right;\">\n",
       "      <th></th>\n",
       "      <th>disease_name</th>\n",
       "      <th>sample_type_name</th>\n",
       "      <th>filename</th>\n",
       "      <th>file_type</th>\n",
       "      <th>files_size</th>\n",
       "      <th>files_size_readable</th>\n",
       "      <th>library_type</th>\n",
       "      <th>state</th>\n",
       "    </tr>\n",
       "  </thead>\n",
       "  <tbody>\n",
       "    <tr>\n",
       "      <th>0</th>\n",
       "      <td>LUNG ADENOCARCINOMA</td>\n",
       "      <td>Primary solid Tumor</td>\n",
       "      <td>G92910.TCGA-44-2666-01A-01R-A46X-36.2.bam</td>\n",
       "      <td>bam</td>\n",
       "      <td>1.387423e+08</td>\n",
       "      <td>132.3 MB</td>\n",
       "      <td>RNA-Seq</td>\n",
       "      <td>Live</td>\n",
       "    </tr>\n",
       "    <tr>\n",
       "      <th>14483</th>\n",
       "      <td>COLON ADENOCARCINOMA</td>\n",
       "      <td>Primary solid Tumor</td>\n",
       "      <td>G92910.TCGA-A6-5656-01B-02R-A46X-36.2.bam</td>\n",
       "      <td>bam</td>\n",
       "      <td>4.888392e+10</td>\n",
       "      <td>45.5 GB</td>\n",
       "      <td>RNA-Seq</td>\n",
       "      <td>Live</td>\n",
       "    </tr>\n",
       "  </tbody>\n",
       "</table>\n",
       "</div>"
      ],
      "text/plain": [
       "               disease_name     sample_type_name                                   filename file_type    files_size files_size_readable library_type state\n",
       "0       LUNG ADENOCARCINOMA  Primary solid Tumor  G92910.TCGA-44-2666-01A-01R-A46X-36.2.bam       bam  1.387423e+08            132.3 MB      RNA-Seq  Live\n",
       "14483  COLON ADENOCARCINOMA  Primary solid Tumor  G92910.TCGA-A6-5656-01B-02R-A46X-36.2.bam       bam  4.888392e+10             45.5 GB      RNA-Seq  Live"
      ]
     },
     "execution_count": 12,
     "metadata": {},
     "output_type": "execute_result"
    }
   ],
   "source": [
    "cols_to_show = ['disease_name', 'sample_type_name', 'filename', 'file_type',\n",
    "                'files_size', 'files_size_readable', 'library_type', 'state']\n",
    "# turn off warning, http://stackoverflow.com/questions/20625582/how-to-deal-with-this-pandas-warning\n",
    "ndf.is_copy = False\n",
    "ndf['files_size_readable'] = ndf.files_size.apply(sizeof_fmt)\n",
    "sorted_ndf = ndf.sort_values('files_size').reset_index()\n",
    "sorted_ndf.ix[[0,sorted_ndf.shape[0]-1]][cols_to_show]"
   ]
  },
  {
   "cell_type": "markdown",
   "metadata": {},
   "source": [
    "## File sizes distribution"
   ]
  },
  {
   "cell_type": "code",
   "execution_count": 13,
   "metadata": {
    "collapsed": false
   },
   "outputs": [],
   "source": [
    "import matplotlib\n",
    "import matplotlib.pyplot as plt\n",
    "matplotlib.style.use('ggplot')\n",
    "%matplotlib inline\n",
    "pd.set_option('display.width', 200)\n",
    "pd.set_option('max_columns', 20)"
   ]
  },
  {
   "cell_type": "code",
   "execution_count": 14,
   "metadata": {
    "collapsed": false
   },
   "outputs": [
    {
     "data": {
      "text/plain": [
       "<matplotlib.axes._subplots.AxesSubplot at 0x7f3f37abe210>"
      ]
     },
     "execution_count": 14,
     "metadata": {},
     "output_type": "execute_result"
    },
    {
     "data": {
      "image/png": "[encoded data removed]",
      "text/plain": [
       "<matplotlib.figure.Figure at 0x7f3f40bfdf10>"
      ]
     },
     "metadata": {},
     "output_type": "display_data"
    }
   ],
   "source": [
    "ndf.files_size.plot(kind='hist', bins=40)"
   ]
  },
  {
   "cell_type": "code",
   "execution_count": 15,
   "metadata": {
    "collapsed": false
   },
   "outputs": [
    {
     "data": {
      "text/plain": [
       "'18.6 GB'"
      ]
     },
     "execution_count": 15,
     "metadata": {},
     "output_type": "execute_result"
    }
   ],
   "source": [
    "sizeof_fmt(2e10)"
   ]
  },
  {
   "cell_type": "code",
   "execution_count": 16,
   "metadata": {
    "collapsed": false
   },
   "outputs": [
    {
     "data": {
      "text/plain": [
       "'0.81%'"
      ]
     },
     "execution_count": 16,
     "metadata": {},
     "output_type": "execute_result"
    }
   ],
   "source": [
    "'{0:.2%}'.format(ndf[ndf.files_size > 2e10].shape[0] / float(ndf.shape[0]))"
   ]
  },
  {
   "cell_type": "markdown",
   "metadata": {},
   "source": [
    "So only 0.81% of the files are above 18.6 GB, and the majority are below."
   ]
  }
 ],
 "metadata": {
  "kernelspec": {
   "display_name": "Python 2",
   "language": "python",
   "name": "python2"
  },
  "language_info": {
   "codemirror_mode": {
    "name": "ipython",
    "version": 2
   },
   "file_extension": ".py",
   "mimetype": "text/x-python",
   "name": "python",
   "nbconvert_exporter": "python",
   "pygments_lexer": "ipython2",
   "version": "2.7.11"
  }
 },
 "nbformat": 4,
 "nbformat_minor": 0
}
