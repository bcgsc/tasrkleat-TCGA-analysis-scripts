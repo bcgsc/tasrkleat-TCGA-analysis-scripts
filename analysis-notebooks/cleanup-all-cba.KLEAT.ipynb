{
 "cells": [
  {
   "cell_type": "code",
   "execution_count": 1,
   "metadata": {
    "collapsed": false
   },
   "outputs": [],
   "source": [
    "from eda_import import *"
   ]
  },
  {
   "cell_type": "code",
   "execution_count": 2,
   "metadata": {
    "collapsed": false
   },
   "outputs": [
    {
     "name": "stdout",
     "output_type": "stream",
     "text": [
      "2018-05-08\n"
     ]
    }
   ],
   "source": [
    "print(datetime.datetime.today().date())"
   ]
  },
  {
   "cell_type": "code",
   "execution_count": 3,
   "metadata": {
    "collapsed": false
   },
   "outputs": [
    {
     "name": "stdout",
     "output_type": "stream",
     "text": [
      "CPU times: user 54.4 s, sys: 2min 25s, total: 3min 19s\n",
      "Wall time: 3min 46s\n"
     ]
    }
   ],
   "source": [
    "%time df = pd.read_pickle('./results/all_cba.KLEAT.pkl')"
   ]
  },
  {
   "cell_type": "code",
   "execution_count": 4,
   "metadata": {
    "collapsed": false
   },
   "outputs": [],
   "source": [
    "TOTAL_NUM_CALLS = 67544140\n",
    "assert df.shape[0] == TOTAL_NUM_CALLS"
   ]
  },
  {
   "cell_type": "markdown",
   "metadata": {},
   "source": [
    "# Filter by target genes"
   ]
  },
  {
   "cell_type": "code",
   "execution_count": 5,
   "metadata": {
    "collapsed": true
   },
   "outputs": [],
   "source": [
    "TARGET_GENES = []\n",
    "with open('./reference_data/target_genes.txt') as inf:\n",
    "    for line in inf:\n",
    "        TARGET_GENES.append(line.strip())"
   ]
  },
  {
   "cell_type": "code",
   "execution_count": 6,
   "metadata": {
    "collapsed": false
   },
   "outputs": [
    {
     "name": "stdout",
     "output_type": "stream",
     "text": [
      "CPU times: user 2min 27s, sys: 1min 45s, total: 4min 13s\n",
      "Wall time: 4min 18s\n"
     ]
    }
   ],
   "source": [
    "%time ndf = df[df.gene.isin(TARGET_GENES)]"
   ]
  },
  {
   "cell_type": "code",
   "execution_count": 7,
   "metadata": {
    "collapsed": false
   },
   "outputs": [
    {
     "data": {
      "text/plain": [
       "(11489199, 23)"
      ]
     },
     "execution_count": 7,
     "metadata": {},
     "output_type": "execute_result"
    }
   ],
   "source": [
    "ndf.shape"
   ]
  },
  {
   "cell_type": "code",
   "execution_count": 8,
   "metadata": {
    "collapsed": false
   },
   "outputs": [
    {
     "data": {
      "text/html": [
       "<div>\n",
       "<style>\n",
       "    .dataframe thead tr:only-child th {\n",
       "        text-align: right;\n",
       "    }\n",
       "\n",
       "    .dataframe thead th {\n",
       "        text-align: left;\n",
       "    }\n",
       "\n",
       "    .dataframe tbody tr th {\n",
       "        vertical-align: top;\n",
       "    }\n",
       "</style>\n",
       "<table border=\"1\" class=\"dataframe\">\n",
       "  <thead>\n",
       "    <tr style=\"text-align: right;\">\n",
       "      <th></th>\n",
       "      <th>gene</th>\n",
       "      <th>transcript</th>\n",
       "      <th>transcript_strand</th>\n",
       "      <th>coding</th>\n",
       "      <th>contig</th>\n",
       "      <th>chromosome</th>\n",
       "      <th>cleavage_site</th>\n",
       "      <th>within_UTR</th>\n",
       "      <th>distance_from_annotated_site</th>\n",
       "      <th>ESTs</th>\n",
       "      <th>length_of_tail_in_contig</th>\n",
       "      <th>number_of_tail_reads</th>\n",
       "      <th>number_of_bridge_reads</th>\n",
       "      <th>max_bridge_read_tail_length</th>\n",
       "      <th>bridge_read_identities</th>\n",
       "      <th>tail+bridge_reads</th>\n",
       "      <th>number_of_link_pairs</th>\n",
       "      <th>max_link_pair_length</th>\n",
       "      <th>link_pair_identities</th>\n",
       "      <th>hexamer_loc+id</th>\n",
       "      <th>3UTR_start_end</th>\n",
       "      <th>flag</th>\n",
       "      <th>kleat_fname</th>\n",
       "    </tr>\n",
       "  </thead>\n",
       "  <tbody>\n",
       "    <tr>\n",
       "      <th>8</th>\n",
       "      <td>RTCA</td>\n",
       "      <td>ENST00000370126</td>\n",
       "      <td>+</td>\n",
       "      <td>yes</td>\n",
       "      <td>A0.S130911</td>\n",
       "      <td>chr1</td>\n",
       "      <td>100732395</td>\n",
       "      <td>yes</td>\n",
       "      <td>90</td>\n",
       "      <td>-</td>\n",
       "      <td>0</td>\n",
       "      <td>0</td>\n",
       "      <td>0</td>\n",
       "      <td>0</td>\n",
       "      <td>-</td>\n",
       "      <td>0</td>\n",
       "      <td>0</td>\n",
       "      <td>0</td>\n",
       "      <td>-</td>\n",
       "      <td>-</td>\n",
       "      <td>-</td>\n",
       "      <td>2</td>\n",
       "      <td>/projects/btl/zxue/tasrkleat-TCGA-results/tcga/KICH/RNA/RNA-Seq/UNC-LCCC/ILLUMINA/UNCID_2186137.d42c9589-3960-4964-be28-83d275bdc672.121106_UNC11-SN627_0258_AC11WRACXX_6_TGACCA.tar.gz/tasrkleat-results/kleat/cba.KLEAT</td>\n",
       "    </tr>\n",
       "  </tbody>\n",
       "</table>\n",
       "</div>"
      ],
      "text/plain": [
       "   gene       transcript transcript_strand coding      contig chromosome  cleavage_site within_UTR  distance_from_annotated_site ESTs  length_of_tail_in_contig  number_of_tail_reads  number_of_bridge_reads  max_bridge_read_tail_length bridge_read_identities  tail+bridge_reads  \\\n",
       "8  RTCA  ENST00000370126  +                 yes    A0.S130911  chr1       100732395      yes        90                            -    0                         0                     0                       0                            -                      0                   \n",
       "\n",
       "   number_of_link_pairs  max_link_pair_length link_pair_identities hexamer_loc+id 3UTR_start_end  flag  \\\n",
       "8  0                     0                     -                    -              -              2      \n",
       "\n",
       "                                                                                                                                                                                                                 kleat_fname  \n",
       "8  /projects/btl/zxue/tasrkleat-TCGA-results/tcga/KICH/RNA/RNA-Seq/UNC-LCCC/ILLUMINA/UNCID_2186137.d42c9589-3960-4964-be28-83d275bdc672.121106_UNC11-SN627_0258_AC11WRACXX_6_TGACCA.tar.gz/tasrkleat-results/kleat/cba.KLEAT  "
      ]
     },
     "execution_count": 8,
     "metadata": {},
     "output_type": "execute_result"
    }
   ],
   "source": [
    "ndf.head(1)"
   ]
  },
  {
   "cell_type": "code",
   "execution_count": null,
   "metadata": {
    "collapsed": true
   },
   "outputs": [],
   "source": []
  },
  {
   "cell_type": "markdown",
   "metadata": {},
   "source": [
    "# Map kleat_fname to analysis_id"
   ]
  },
  {
   "cell_type": "code",
   "execution_count": 9,
   "metadata": {
    "collapsed": false
   },
   "outputs": [
    {
     "data": {
      "text/html": [
       "<div>\n",
       "<style>\n",
       "    .dataframe thead tr:only-child th {\n",
       "        text-align: right;\n",
       "    }\n",
       "\n",
       "    .dataframe thead th {\n",
       "        text-align: left;\n",
       "    }\n",
       "\n",
       "    .dataframe tbody tr th {\n",
       "        vertical-align: top;\n",
       "    }\n",
       "</style>\n",
       "<table border=\"1\" class=\"dataframe\">\n",
       "  <thead>\n",
       "    <tr style=\"text-align: right;\">\n",
       "      <th></th>\n",
       "      <th>analysis_id</th>\n",
       "      <th>GCSobject</th>\n",
       "      <th>kleat_fname</th>\n",
       "    </tr>\n",
       "  </thead>\n",
       "  <tbody>\n",
       "    <tr>\n",
       "      <th>0</th>\n",
       "      <td>00007994-abeb-4b16-a6ad-7230300a29e9</td>\n",
       "      <td>gs://5aa919de-0aa0-43ec-9ec3-288481102b6d/tcga/COAD/RNA/RNA-Seq/UNC-LCCC/ILLUMINA/UNCID_1620885.c18465ae-447d-46c8-8b54-0156ab502265.sorted_genome_alignments.bam</td>\n",
       "      <td>/projects/btl/zxue/tasrkleat-TCGA-results/tcga/COAD/RNA/RNA-Seq/UNC-LCCC/ILLUMINA/UNCID_1620885.c18465ae-447d-46c8-8b54-0156ab502265.sorted_genome_alignments.bam/tasrkleat-results/kleat/cba.KLEAT</td>\n",
       "    </tr>\n",
       "  </tbody>\n",
       "</table>\n",
       "</div>"
      ],
      "text/plain": [
       "                            analysis_id                                                                                                                                                          GCSobject  \\\n",
       "0  00007994-abeb-4b16-a6ad-7230300a29e9  gs://5aa919de-0aa0-43ec-9ec3-288481102b6d/tcga/COAD/RNA/RNA-Seq/UNC-LCCC/ILLUMINA/UNCID_1620885.c18465ae-447d-46c8-8b54-0156ab502265.sorted_genome_alignments.bam   \n",
       "\n",
       "                                                                                                                                                                                           kleat_fname  \n",
       "0  /projects/btl/zxue/tasrkleat-TCGA-results/tcga/COAD/RNA/RNA-Seq/UNC-LCCC/ILLUMINA/UNCID_1620885.c18465ae-447d-46c8-8b54-0156ab502265.sorted_genome_alignments.bam/tasrkleat-results/kleat/cba.KLEAT  "
      ]
     },
     "execution_count": 9,
     "metadata": {},
     "output_type": "execute_result"
    }
   ],
   "source": [
    "df_meta = pd.read_csv('./metadata/GCS_listing_27apr2016.csv.gz', compression='gzip',\n",
    "                      usecols=['CGHubAnalysisID', 'GCSobject'])\n",
    "\n",
    "df_meta = df_meta.rename(columns={'CGHubAnalysisID': 'analysis_id'})\n",
    "df_meta = df_meta.drop_duplicates()\n",
    "\n",
    "df_meta['kleat_fname'] = df_meta.GCSobject.apply(\n",
    "    lambda x: x.replace('gs://5aa919de-0aa0-43ec-9ec3-288481102b6d/', \n",
    "                        '/projects/btl/zxue/tasrkleat-TCGA-results/') + '/tasrkleat-results/kleat/cba.KLEAT')\n",
    "df_meta.head(1)"
   ]
  },
  {
   "cell_type": "code",
   "execution_count": 10,
   "metadata": {
    "collapsed": false
   },
   "outputs": [
    {
     "name": "stdout",
     "output_type": "stream",
     "text": [
      "CPU times: user 10.7 s, sys: 4.84 s, total: 15.5 s\n",
      "Wall time: 15.5 s\n"
     ]
    }
   ],
   "source": [
    "%time merged = ndf.merge(df_meta, how='left', on='kleat_fname')"
   ]
  },
  {
   "cell_type": "code",
   "execution_count": 11,
   "metadata": {
    "collapsed": false
   },
   "outputs": [
    {
     "data": {
      "text/html": [
       "<div>\n",
       "<style>\n",
       "    .dataframe thead tr:only-child th {\n",
       "        text-align: right;\n",
       "    }\n",
       "\n",
       "    .dataframe thead th {\n",
       "        text-align: left;\n",
       "    }\n",
       "\n",
       "    .dataframe tbody tr th {\n",
       "        vertical-align: top;\n",
       "    }\n",
       "</style>\n",
       "<table border=\"1\" class=\"dataframe\">\n",
       "  <thead>\n",
       "    <tr style=\"text-align: right;\">\n",
       "      <th></th>\n",
       "      <th>gene</th>\n",
       "      <th>transcript</th>\n",
       "      <th>transcript_strand</th>\n",
       "      <th>coding</th>\n",
       "      <th>contig</th>\n",
       "      <th>chromosome</th>\n",
       "      <th>cleavage_site</th>\n",
       "      <th>within_UTR</th>\n",
       "      <th>distance_from_annotated_site</th>\n",
       "      <th>ESTs</th>\n",
       "      <th>length_of_tail_in_contig</th>\n",
       "      <th>number_of_tail_reads</th>\n",
       "      <th>number_of_bridge_reads</th>\n",
       "      <th>max_bridge_read_tail_length</th>\n",
       "      <th>bridge_read_identities</th>\n",
       "      <th>tail+bridge_reads</th>\n",
       "      <th>number_of_link_pairs</th>\n",
       "      <th>max_link_pair_length</th>\n",
       "      <th>link_pair_identities</th>\n",
       "      <th>hexamer_loc+id</th>\n",
       "      <th>3UTR_start_end</th>\n",
       "      <th>flag</th>\n",
       "      <th>kleat_fname</th>\n",
       "      <th>analysis_id</th>\n",
       "      <th>GCSobject</th>\n",
       "    </tr>\n",
       "  </thead>\n",
       "  <tbody>\n",
       "    <tr>\n",
       "      <th>0</th>\n",
       "      <td>RTCA</td>\n",
       "      <td>ENST00000370126</td>\n",
       "      <td>+</td>\n",
       "      <td>yes</td>\n",
       "      <td>A0.S130911</td>\n",
       "      <td>chr1</td>\n",
       "      <td>100732395</td>\n",
       "      <td>yes</td>\n",
       "      <td>90</td>\n",
       "      <td>-</td>\n",
       "      <td>0</td>\n",
       "      <td>0</td>\n",
       "      <td>0</td>\n",
       "      <td>0</td>\n",
       "      <td>-</td>\n",
       "      <td>0</td>\n",
       "      <td>0</td>\n",
       "      <td>0</td>\n",
       "      <td>-</td>\n",
       "      <td>-</td>\n",
       "      <td>-</td>\n",
       "      <td>2</td>\n",
       "      <td>/projects/btl/zxue/tasrkleat-TCGA-results/tcga/KICH/RNA/RNA-Seq/UNC-LCCC/ILLUMINA/UNCID_2186137.d42c9589-3960-4964-be28-83d275bdc672.121106_UNC11-SN627_0258_AC11WRACXX_6_TGACCA.tar.gz/tasrkleat-results/kleat/cba.KLEAT</td>\n",
       "      <td>1d811d54-caa1-41f3-bfc2-400eebdd97ef</td>\n",
       "      <td>gs://5aa919de-0aa0-43ec-9ec3-288481102b6d/tcga/KICH/RNA/RNA-Seq/UNC-LCCC/ILLUMINA/UNCID_2186137.d42c9589-3960-4964-be28-83d275bdc672.121106_UNC11-SN627_0258_AC11WRACXX_6_TGACCA.tar.gz</td>\n",
       "    </tr>\n",
       "  </tbody>\n",
       "</table>\n",
       "</div>"
      ],
      "text/plain": [
       "   gene       transcript transcript_strand coding      contig chromosome  cleavage_site within_UTR  distance_from_annotated_site ESTs  length_of_tail_in_contig  number_of_tail_reads  number_of_bridge_reads  max_bridge_read_tail_length bridge_read_identities  tail+bridge_reads  \\\n",
       "0  RTCA  ENST00000370126  +                 yes    A0.S130911  chr1       100732395      yes        90                            -    0                         0                     0                       0                            -                      0                   \n",
       "\n",
       "   number_of_link_pairs  max_link_pair_length link_pair_identities hexamer_loc+id 3UTR_start_end  flag  \\\n",
       "0  0                     0                     -                    -              -              2      \n",
       "\n",
       "                                                                                                                                                                                                                 kleat_fname                           analysis_id  \\\n",
       "0  /projects/btl/zxue/tasrkleat-TCGA-results/tcga/KICH/RNA/RNA-Seq/UNC-LCCC/ILLUMINA/UNCID_2186137.d42c9589-3960-4964-be28-83d275bdc672.121106_UNC11-SN627_0258_AC11WRACXX_6_TGACCA.tar.gz/tasrkleat-results/kleat/cba.KLEAT  1d811d54-caa1-41f3-bfc2-400eebdd97ef   \n",
       "\n",
       "                                                                                                                                                                                 GCSobject  \n",
       "0  gs://5aa919de-0aa0-43ec-9ec3-288481102b6d/tcga/KICH/RNA/RNA-Seq/UNC-LCCC/ILLUMINA/UNCID_2186137.d42c9589-3960-4964-be28-83d275bdc672.121106_UNC11-SN627_0258_AC11WRACXX_6_TGACCA.tar.gz  "
      ]
     },
     "execution_count": 11,
     "metadata": {},
     "output_type": "execute_result"
    }
   ],
   "source": [
    "merged.head(1)"
   ]
  },
  {
   "cell_type": "code",
   "execution_count": null,
   "metadata": {
    "collapsed": true
   },
   "outputs": [],
   "source": []
  },
  {
   "cell_type": "markdown",
   "metadata": {},
   "source": [
    "# Remove unused columns"
   ]
  },
  {
   "cell_type": "code",
   "execution_count": 12,
   "metadata": {
    "collapsed": false
   },
   "outputs": [
    {
     "name": "stdout",
     "output_type": "stream",
     "text": [
      "CPU times: user 6.5 s, sys: 13.1 s, total: 19.6 s\n",
      "Wall time: 19.6 s\n"
     ]
    }
   ],
   "source": [
    "wanted_cols = [\n",
    "    'gene',\n",
    "    'transcript_strand',\n",
    "    'chromosome',\n",
    "    'cleavage_site',\n",
    "    'length_of_tail_in_contig',\n",
    "    'number_of_bridge_reads',\n",
    "    'max_bridge_read_tail_length',\n",
    "    'analysis_id'\n",
    "]\n",
    "\n",
    "%time odf = merged[wanted_cols].copy()"
   ]
  },
  {
   "cell_type": "code",
   "execution_count": 13,
   "metadata": {
    "collapsed": false
   },
   "outputs": [
    {
     "name": "stdout",
     "output_type": "stream",
     "text": [
      "<class 'pandas.core.frame.DataFrame'>\n",
      "Int64Index: 11489199 entries, 0 to 11489198\n",
      "Data columns (total 8 columns):\n",
      "gene                           object\n",
      "transcript_strand              object\n",
      "chromosome                     object\n",
      "cleavage_site                  int64\n",
      "length_of_tail_in_contig       int64\n",
      "number_of_bridge_reads         int64\n",
      "max_bridge_read_tail_length    int64\n",
      "analysis_id                    object\n",
      "dtypes: int64(4), object(4)\n",
      "memory usage: 788.9+ MB\n"
     ]
    }
   ],
   "source": [
    "odf.info()"
   ]
  },
  {
   "cell_type": "code",
   "execution_count": 15,
   "metadata": {
    "collapsed": false
   },
   "outputs": [],
   "source": [
    "odf.rename(columns={\n",
    "    'gene': 'gene_name',\n",
    "    'cleavage_site': 'clv', \n",
    "    'transcript': 'transcript_id',\n",
    "    'transcript_strand': 'strand',\n",
    "    'chromosome': 'seqname'}, inplace=True)"
   ]
  },
  {
   "cell_type": "code",
   "execution_count": 16,
   "metadata": {
    "collapsed": true
   },
   "outputs": [],
   "source": [
    "ON_TARGET_NUM_CALLS = 11489199\n",
    "assert odf.shape[0] == ON_TARGET_NUM_CALLS"
   ]
  },
  {
   "cell_type": "code",
   "execution_count": 17,
   "metadata": {
    "collapsed": false
   },
   "outputs": [
    {
     "data": {
      "text/html": [
       "<div>\n",
       "<style>\n",
       "    .dataframe thead tr:only-child th {\n",
       "        text-align: right;\n",
       "    }\n",
       "\n",
       "    .dataframe thead th {\n",
       "        text-align: left;\n",
       "    }\n",
       "\n",
       "    .dataframe tbody tr th {\n",
       "        vertical-align: top;\n",
       "    }\n",
       "</style>\n",
       "<table border=\"1\" class=\"dataframe\">\n",
       "  <thead>\n",
       "    <tr style=\"text-align: right;\">\n",
       "      <th></th>\n",
       "      <th>gene_name</th>\n",
       "      <th>strand</th>\n",
       "      <th>seqname</th>\n",
       "      <th>clv</th>\n",
       "      <th>length_of_tail_in_contig</th>\n",
       "      <th>number_of_bridge_reads</th>\n",
       "      <th>max_bridge_read_tail_length</th>\n",
       "      <th>analysis_id</th>\n",
       "    </tr>\n",
       "  </thead>\n",
       "  <tbody>\n",
       "    <tr>\n",
       "      <th>0</th>\n",
       "      <td>RTCA</td>\n",
       "      <td>+</td>\n",
       "      <td>chr1</td>\n",
       "      <td>100732395</td>\n",
       "      <td>0</td>\n",
       "      <td>0</td>\n",
       "      <td>0</td>\n",
       "      <td>1d811d54-caa1-41f3-bfc2-400eebdd97ef</td>\n",
       "    </tr>\n",
       "  </tbody>\n",
       "</table>\n",
       "</div>"
      ],
      "text/plain": [
       "  gene_name strand seqname        clv  length_of_tail_in_contig  number_of_bridge_reads  max_bridge_read_tail_length                           analysis_id\n",
       "0  RTCA      +      chr1    100732395  0                         0                       0                            1d811d54-caa1-41f3-bfc2-400eebdd97ef"
      ]
     },
     "execution_count": 17,
     "metadata": {},
     "output_type": "execute_result"
    }
   ],
   "source": [
    "odf.head(1)"
   ]
  },
  {
   "cell_type": "code",
   "execution_count": 18,
   "metadata": {
    "collapsed": true
   },
   "outputs": [],
   "source": [
    "assert odf.gene_name.unique().shape[0] == 114"
   ]
  },
  {
   "cell_type": "code",
   "execution_count": 20,
   "metadata": {
    "collapsed": false
   },
   "outputs": [
    {
     "name": "stdout",
     "output_type": "stream",
     "text": [
      "17.010% data remained\n"
     ]
    }
   ],
   "source": [
    "print('{0:.3%} data remained'.format(odf.shape[0] / TOTAL_NUM_CALLS))"
   ]
  },
  {
   "cell_type": "code",
   "execution_count": 21,
   "metadata": {
    "collapsed": false
   },
   "outputs": [
    {
     "name": "stdout",
     "output_type": "stream",
     "text": [
      "CPU times: user 3.02 s, sys: 5.68 s, total: 8.7 s\n",
      "Wall time: 11.6 s\n"
     ]
    }
   ],
   "source": [
    "%time odf.to_pickle('./results/all_cba.KLEAT.on-target-cleaned.pkl')"
   ]
  },
  {
   "cell_type": "code",
   "execution_count": null,
   "metadata": {
    "collapsed": true
   },
   "outputs": [],
   "source": []
  }
 ],
 "metadata": {
  "anaconda-cloud": {},
  "kernelspec": {
   "display_name": "Python [default]",
   "language": "python",
   "name": "python3"
  },
  "language_info": {
   "codemirror_mode": {
    "name": "ipython",
    "version": 3
   },
   "file_extension": ".py",
   "mimetype": "text/x-python",
   "name": "python",
   "nbconvert_exporter": "python",
   "pygments_lexer": "ipython3",
   "version": "3.5.3"
  }
 },
 "nbformat": 4,
 "nbformat_minor": 1
}
