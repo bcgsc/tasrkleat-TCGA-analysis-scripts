{
 "cells": [
  {
   "cell_type": "code",
   "execution_count": 1,
   "metadata": {
    "collapsed": false
   },
   "outputs": [],
   "source": [
    "import sys\n",
    "sys.path.insert(0, '..')\n",
    "from eda_import import *\n",
    "\n",
    "from utils.cluster import cluster_clv_sites"
   ]
  },
  {
   "cell_type": "code",
   "execution_count": 2,
   "metadata": {
    "collapsed": false,
    "scrolled": true
   },
   "outputs": [
    {
     "name": "stdout",
     "output_type": "stream",
     "text": [
      "2018-05-11\n"
     ]
    }
   ],
   "source": [
    "print(datetime.datetime.today().date())"
   ]
  },
  {
   "cell_type": "code",
   "execution_count": 3,
   "metadata": {
    "collapsed": true
   },
   "outputs": [],
   "source": [
    "TOTAL_NUM_CALLS = 67544140"
   ]
  },
  {
   "cell_type": "code",
   "execution_count": 5,
   "metadata": {
    "collapsed": false
   },
   "outputs": [
    {
     "name": "stdout",
     "output_type": "stream",
     "text": [
      "CPU times: user 574 ms, sys: 572 ms, total: 1.15 s\n",
      "Wall time: 1.74 s\n"
     ]
    }
   ],
   "source": [
    "%time adf = pd.read_pickle('../__results/all_cba.KLEAT.on-target-cleaned.filtered.pkl')"
   ]
  },
  {
   "cell_type": "code",
   "execution_count": 6,
   "metadata": {
    "collapsed": false
   },
   "outputs": [],
   "source": [
    "assert adf.shape[0] == 3420253"
   ]
  },
  {
   "cell_type": "code",
   "execution_count": 7,
   "metadata": {
    "collapsed": false,
    "scrolled": true
   },
   "outputs": [
    {
     "name": "stdout",
     "output_type": "stream",
     "text": [
      "5.064% data remained\n"
     ]
    }
   ],
   "source": [
    "print('{0:.3%} data remained'.format(adf.shape[0] / TOTAL_NUM_CALLS))"
   ]
  },
  {
   "cell_type": "code",
   "execution_count": null,
   "metadata": {
    "collapsed": true
   },
   "outputs": [],
   "source": []
  },
  {
   "cell_type": "markdown",
   "metadata": {},
   "source": [
    "# Add metadata"
   ]
  },
  {
   "cell_type": "code",
   "execution_count": 9,
   "metadata": {
    "collapsed": false
   },
   "outputs": [],
   "source": [
    "_cols = ['study', 'barcode', 'disease', 'disease_name', 'sample_type', 'sample_type_name', \n",
    "        'analyte_type', 'center', 'filename', 'files_size', 'checksum', 'analysis_id',\n",
    "        'aliquot_id', 'participant_id', 'sample_id',  'tss_id', 'sample_accession',\n",
    "        'published', 'uploaded', 'modified', 'sample_type_code',\n",
    "        'analyte_type_code', 'platform_full_name']\n",
    "df_manifest = pd.read_csv(\n",
    "    '../metadata/LATEST_MANIFEST.final.tsv.gz', low_memory=False,\n",
    "    usecols=_cols, sep='\\t', compression='gzip')"
   ]
  },
  {
   "cell_type": "code",
   "execution_count": 10,
   "metadata": {
    "collapsed": false
   },
   "outputs": [
    {
     "name": "stdout",
     "output_type": "stream",
     "text": [
      "CPU times: user 1.46 s, sys: 637 ms, total: 2.1 s\n",
      "Wall time: 2.09 s\n"
     ]
    }
   ],
   "source": [
    "%time bdf = adf.merge(df_manifest, on='analysis_id', how='left')"
   ]
  },
  {
   "cell_type": "code",
   "execution_count": 11,
   "metadata": {
    "collapsed": false
   },
   "outputs": [],
   "source": [
    "assert bdf.shape[0] == adf.shape[0]"
   ]
  },
  {
   "cell_type": "code",
   "execution_count": null,
   "metadata": {
    "collapsed": true
   },
   "outputs": [],
   "source": []
  },
  {
   "cell_type": "markdown",
   "metadata": {
    "collapsed": true
   },
   "source": [
    "# Single-linkage Cluster"
   ]
  },
  {
   "cell_type": "code",
   "execution_count": 12,
   "metadata": {
    "collapsed": true
   },
   "outputs": [],
   "source": [
    "def cluster_to_stable(input_df):\n",
    "    # This has the same effect with loop and then pd.concat, \n",
    "    # so function for apply returns a dataframe is fine\n",
    "\n",
    "    # hierarchical clustering help reveal local structure, so clustering over all relevant data first.\n",
    "    # In other words, cluster-then-filter instead of filter-then-cluster\n",
    "    _df = input_df.copy()\n",
    "    for i in range(2):\n",
    "        print('{0} clustering...'.format(i))\n",
    "        # cluster twice to final results more stable, see the experiment below\n",
    "        # NOTE: %time magic inside function may mess up with the returned value\n",
    "        _df = _df.groupby('gene_name').apply(cluster_clv_sites, 20).reset_index(drop=True)\n",
    "    return _df"
   ]
  },
  {
   "cell_type": "code",
   "execution_count": 13,
   "metadata": {
    "collapsed": false,
    "scrolled": false
   },
   "outputs": [
    {
     "name": "stdout",
     "output_type": "stream",
     "text": [
      "0 clustering...\n",
      "1 clustering...\n",
      "CPU times: user 29.8 s, sys: 4.46 s, total: 34.2 s\n",
      "Wall time: 34.2 s\n"
     ]
    }
   ],
   "source": [
    "%time cdf = cluster_to_stable(bdf)"
   ]
  },
  {
   "cell_type": "markdown",
   "metadata": {},
   "source": [
    "### Update aclv with regard to mclv\n",
    "\n",
    "aclv (annotated median CSs) was initially calculated with CSs before filtering (clv), their distances were used for filtering. After clusterings, due to the following possibilities,\n",
    "\n",
    "1. because 2 clv could corresponding to 2 aclv, but still be clustered together\n",
    "1. median could take an average, check np.median([2, 4]) is 3, so better just redo mapping\n",
    "\n",
    "so update alcv"
   ]
  },
  {
   "cell_type": "code",
   "execution_count": 14,
   "metadata": {
    "collapsed": false
   },
   "outputs": [],
   "source": [
    "df_clv_sc = pd.read_csv('../__results/annotated-clv-sc-mapping.csv')\n",
    "# first create a dict of gene-to-clvs map\n",
    "# ONLY use the mclv value in annotation, its clv is mainly for debugging purpose\n",
    "ANNOT_GENE2CLV_DD = df_clv_sc.groupby(['gene_name']).apply(lambda g: g.aclv.unique())\n",
    "def map_kclv2aclv(row):\n",
    "    \"\"\"map KLEAT predicted clv to a closest annotated clv\"\"\"\n",
    "    gene = row.gene_name\n",
    "    kclv = row['mclv']\n",
    "    poss_aclvs = ANNOT_GENE2CLV_DD[gene]\n",
    "    return poss_aclvs[np.argmin(np.abs(poss_aclvs - kclv))]"
   ]
  },
  {
   "cell_type": "code",
   "execution_count": 15,
   "metadata": {
    "collapsed": true
   },
   "outputs": [],
   "source": [
    "cdf2 = cdf.copy()"
   ]
  },
  {
   "cell_type": "code",
   "execution_count": 16,
   "metadata": {
    "collapsed": false
   },
   "outputs": [],
   "source": [
    "_df = cdf[['gene_name', 'mclv']].drop_duplicates()"
   ]
  },
  {
   "cell_type": "code",
   "execution_count": 17,
   "metadata": {
    "collapsed": false
   },
   "outputs": [],
   "source": [
    "_df['aclv'] = _df.apply(map_kclv2aclv, axis=1)"
   ]
  },
  {
   "cell_type": "code",
   "execution_count": 18,
   "metadata": {
    "collapsed": false
   },
   "outputs": [],
   "source": [
    "assert _df.shape == (2136, 3)"
   ]
  },
  {
   "cell_type": "code",
   "execution_count": 19,
   "metadata": {
    "collapsed": false
   },
   "outputs": [
    {
     "data": {
      "text/html": [
       "<div>\n",
       "<style>\n",
       "    .dataframe thead tr:only-child th {\n",
       "        text-align: right;\n",
       "    }\n",
       "\n",
       "    .dataframe thead th {\n",
       "        text-align: left;\n",
       "    }\n",
       "\n",
       "    .dataframe tbody tr th {\n",
       "        vertical-align: top;\n",
       "    }\n",
       "</style>\n",
       "<table border=\"1\" class=\"dataframe\">\n",
       "  <thead>\n",
       "    <tr style=\"text-align: right;\">\n",
       "      <th></th>\n",
       "      <th>gene_name</th>\n",
       "      <th>mclv</th>\n",
       "      <th>aclv</th>\n",
       "    </tr>\n",
       "  </thead>\n",
       "  <tbody>\n",
       "    <tr>\n",
       "      <th>0</th>\n",
       "      <td>ABL1</td>\n",
       "      <td>133763062</td>\n",
       "      <td>133763062</td>\n",
       "    </tr>\n",
       "    <tr>\n",
       "      <th>14</th>\n",
       "      <td>ABL1</td>\n",
       "      <td>133589972</td>\n",
       "      <td>133763062</td>\n",
       "    </tr>\n",
       "  </tbody>\n",
       "</table>\n",
       "</div>"
      ],
      "text/plain": [
       "   gene_name       mclv       aclv\n",
       "0   ABL1      133763062  133763062\n",
       "14  ABL1      133589972  133763062"
      ]
     },
     "execution_count": 19,
     "metadata": {},
     "output_type": "execute_result"
    }
   ],
   "source": [
    "_df.head(2)"
   ]
  },
  {
   "cell_type": "code",
   "execution_count": 20,
   "metadata": {
    "collapsed": true
   },
   "outputs": [],
   "source": [
    "cdf2.drop('aclv', axis=1, inplace=True)"
   ]
  },
  {
   "cell_type": "code",
   "execution_count": 21,
   "metadata": {
    "collapsed": false
   },
   "outputs": [
    {
     "name": "stdout",
     "output_type": "stream",
     "text": [
      "CPU times: user 3.38 s, sys: 453 ms, total: 3.84 s\n",
      "Wall time: 3.83 s\n"
     ]
    }
   ],
   "source": [
    "%time cdf2 = cdf2.merge(_df, on=['gene_name', 'mclv'], how='left')"
   ]
  },
  {
   "cell_type": "code",
   "execution_count": 22,
   "metadata": {
    "collapsed": false
   },
   "outputs": [],
   "source": [
    "# only additional columns are added, the number of rows shouldn't change\n",
    "assert cdf2.shape[0] == bdf.shape[0] "
   ]
  },
  {
   "cell_type": "markdown",
   "metadata": {},
   "source": [
    "# Compare dist(clv, mclv) and dist(clv, aclv)"
   ]
  },
  {
   "cell_type": "code",
   "execution_count": 23,
   "metadata": {
    "collapsed": false
   },
   "outputs": [],
   "source": [
    "# ax = cdf2.signed_NDA.plot.hist(bins=np.arange(-25, 25, 1), label='Dist. to annotated CS', normed=True, histtype='step')\n",
    "# (cdf2['clv'] - cdf2['mclv']).plot.hist(bins=np.arange(-25, 25, 1), ax=ax, label='Dist. to rep. CS', normed=True, histtype='step')"
   ]
  },
  {
   "cell_type": "code",
   "execution_count": 24,
   "metadata": {
    "collapsed": false
   },
   "outputs": [
    {
     "data": {
      "image/png": "[encoded data removed]",
      "text/plain": [
       "<matplotlib.figure.Figure at 0x7f2f16b89a90>"
      ]
     },
     "metadata": {},
     "output_type": "display_data"
    }
   ],
   "source": [
    "fig, axes = plt.subplots(1, 2, figsize=(12, 3.5), gridspec_kw={'wspace': 0.15})\n",
    "axes = axes.ravel()\n",
    "\n",
    "ax1 = axes[0]\n",
    "\n",
    "# cdf2.signed_NDA.value_counts().sort_index().plot(ax1=ax1, lw=1, label='Dist. to annotated CS')\n",
    "(cdf2['clv'] - cdf2['mclv']).value_counts().sort_index().plot(ax=ax1, color='k', lw=1)\n",
    "\n",
    "ax1.legend().remove()\n",
    "ax1.set_xlim(-40, 40)\n",
    "ax1.set_xlabel('Distance between a predicted CS \\nand the associated representative CS (bp)')\n",
    "ax1.set_ylabel('# predicted CSs')\n",
    "ax1.ticklabel_format(style='sci', axis='y', scilimits=(0,0))\n",
    "ax1.text(0.75, 0.85, 'C = 20 bp', transform=ax1.transAxes, fontsize=11, bbox=dict(facecolor='white'))\n",
    "ax1.grid()\n",
    "\n",
    "ax2 = axes[1]\n",
    "_df = cdf2[['seqname', 'gene_name', 'strand', 'mclv', 'aclv']].drop_duplicates()\n",
    "_df['sdist_mclv2aclv'] = _df['mclv'] - _df['aclv']\n",
    "# _df['NDA'] = _df['sdist_mclv2aclv'].abs().values\n",
    "_df['sdist_mclv2aclv'].value_counts().sort_index().plot(ax=ax2, lw=1, color='k', marker='o', markersize=3)\n",
    "ax2.legend().remove()\n",
    "ax2.set_xlim(-40, 40)\n",
    "ax2.set_ylim(0, 80)\n",
    "ax2.set_xlabel('Distance between a representative CS \\nand the closest annotated CS (bp)')\n",
    "ax2.set_ylabel('# representative CSs')\n",
    "ax2.text(0.75, 0.85, 'C = 20 bp', transform=ax2.transAxes, fontsize=11, bbox=dict(facecolor='white'))\n",
    "ax2.grid()\n",
    "\n",
    "# plt.tight_layout()"
   ]
  },
  {
   "cell_type": "code",
   "execution_count": null,
   "metadata": {
    "collapsed": true
   },
   "outputs": [],
   "source": []
  },
  {
   "cell_type": "code",
   "execution_count": null,
   "metadata": {
    "collapsed": true
   },
   "outputs": [],
   "source": []
  },
  {
   "cell_type": "code",
   "execution_count": null,
   "metadata": {
    "collapsed": true
   },
   "outputs": [],
   "source": []
  },
  {
   "cell_type": "code",
   "execution_count": 25,
   "metadata": {
    "collapsed": true
   },
   "outputs": [],
   "source": [
    "uniq_clv_sites = cdf2.groupby(['gene_name', 'seqname', 'strand']).apply(lambda g: np.sort(g.mclv.unique())).reset_index(name='clv_sites')\n",
    "uniq_clv_sites['neighbor_dist'] = uniq_clv_sites.clv_sites.apply(lambda v: np.diff(v))\n",
    "uniq_clv_sites['max_neighbor_dist'] = uniq_clv_sites.neighbor_dist.apply(lambda v: max(v) if len(v) > 0 else 0)\n",
    "uniq_clv_sites['min_neighbor_dist'] = uniq_clv_sites.neighbor_dist.apply(lambda v: min(v) if len(v) > 0 else 0)"
   ]
  },
  {
   "cell_type": "code",
   "execution_count": 26,
   "metadata": {
    "collapsed": false
   },
   "outputs": [
    {
     "data": {
      "text/html": [
       "<div>\n",
       "<style>\n",
       "    .dataframe thead tr:only-child th {\n",
       "        text-align: right;\n",
       "    }\n",
       "\n",
       "    .dataframe thead th {\n",
       "        text-align: left;\n",
       "    }\n",
       "\n",
       "    .dataframe tbody tr th {\n",
       "        vertical-align: top;\n",
       "    }\n",
       "</style>\n",
       "<table border=\"1\" class=\"dataframe\">\n",
       "  <thead>\n",
       "    <tr style=\"text-align: right;\">\n",
       "      <th></th>\n",
       "      <th>gene_name</th>\n",
       "      <th>seqname</th>\n",
       "      <th>strand</th>\n",
       "      <th>clv_sites</th>\n",
       "      <th>neighbor_dist</th>\n",
       "      <th>max_neighbor_dist</th>\n",
       "      <th>min_neighbor_dist</th>\n",
       "    </tr>\n",
       "  </thead>\n",
       "  <tbody>\n",
       "    <tr>\n",
       "      <th>6</th>\n",
       "      <td>ATM</td>\n",
       "      <td>chr11</td>\n",
       "      <td>+</td>\n",
       "      <td>[108098580, 108099025, 108100091, 108106758, 108107768, 108110228, 108114962, 108121651, 108122015, 108124556, 108127108, 108137384, 108138304, 108138908, 108143692, 108153590, 108158310, 108159785, 108166714, 108167520, 108168108, 108168542, 108168723, 108172552, 108173763, 108173894, 108178439, 108179944, 108186638, 108188186, 108188207, 108189117, 108194673, 108196846, 108198597, 108202793, 108207135, 108207637, 108207845, 108209473, 108212292, 108213968, 108214136, 108214829, 108216800, 108216904, 108226866, 108226948, 108227321, 108235808, 108236933, 108237216, 108239440, 108239609, 108239827, 108240226, 108243826, 108250380, 108272055]</td>\n",
       "      <td>[445, 1066, 6667, 1010, 2460, 4734, 6689, 364, 2541, 2552, 10276, 920, 604, 4784, 9898, 4720, 1475, 6929, 806, 588, 434, 181, 3829, 1211, 131, 4545, 1505, 6694, 1548, 21, 910, 5556, 2173, 1751, 4196, 4342, 502, 208, 1628, 2819, 1676, 168, 693, 1971, 104, 9962, 82, 373, 8487, 1125, 283, 2224, 169, 218, 399, 3600, 6554, 21675]</td>\n",
       "      <td>21675</td>\n",
       "      <td>21</td>\n",
       "    </tr>\n",
       "    <tr>\n",
       "      <th>83</th>\n",
       "      <td>PTCH1</td>\n",
       "      <td>chr9</td>\n",
       "      <td>-</td>\n",
       "      <td>[98180252, 98205278, 98205693, 98206117, 98206430, 98208439, 98208647, 98219609, 98219724, 98223833, 98223854, 98242763, 98242800, 98243963, 98244110, 98244231, 98248136, 98264897, 98266344, 98268689, 98268715, 98269924, 98272361, 98272770, 98273969, 98276946]</td>\n",
       "      <td>[25026, 415, 424, 313, 2009, 208, 10962, 115, 4109, 21, 18909, 37, 1163, 147, 121, 3905, 16761, 1447, 2345, 26, 1209, 2437, 409, 1199, 2977]</td>\n",
       "      <td>25026</td>\n",
       "      <td>21</td>\n",
       "    </tr>\n",
       "  </tbody>\n",
       "</table>\n",
       "</div>"
      ],
      "text/plain": [
       "   gene_name seqname strand  \\\n",
       "6   ATM       chr11   +       \n",
       "83  PTCH1     chr9    -       \n",
       "\n",
       "                                                                                                                                                                                                                                                                                                                                                                                                                                                                                                                                                                                                                                                                    clv_sites  \\\n",
       "6   [108098580, 108099025, 108100091, 108106758, 108107768, 108110228, 108114962, 108121651, 108122015, 108124556, 108127108, 108137384, 108138304, 108138908, 108143692, 108153590, 108158310, 108159785, 108166714, 108167520, 108168108, 108168542, 108168723, 108172552, 108173763, 108173894, 108178439, 108179944, 108186638, 108188186, 108188207, 108189117, 108194673, 108196846, 108198597, 108202793, 108207135, 108207637, 108207845, 108209473, 108212292, 108213968, 108214136, 108214829, 108216800, 108216904, 108226866, 108226948, 108227321, 108235808, 108236933, 108237216, 108239440, 108239609, 108239827, 108240226, 108243826, 108250380, 108272055]   \n",
       "83  [98180252, 98205278, 98205693, 98206117, 98206430, 98208439, 98208647, 98219609, 98219724, 98223833, 98223854, 98242763, 98242800, 98243963, 98244110, 98244231, 98248136, 98264897, 98266344, 98268689, 98268715, 98269924, 98272361, 98272770, 98273969, 98276946]                                                                                                                                                                                                                                                                                                                                                                                                        \n",
       "\n",
       "                                                                                                                                                                                                                                                                                                                             neighbor_dist  \\\n",
       "6   [445, 1066, 6667, 1010, 2460, 4734, 6689, 364, 2541, 2552, 10276, 920, 604, 4784, 9898, 4720, 1475, 6929, 806, 588, 434, 181, 3829, 1211, 131, 4545, 1505, 6694, 1548, 21, 910, 5556, 2173, 1751, 4196, 4342, 502, 208, 1628, 2819, 1676, 168, 693, 1971, 104, 9962, 82, 373, 8487, 1125, 283, 2224, 169, 218, 399, 3600, 6554, 21675]   \n",
       "83  [25026, 415, 424, 313, 2009, 208, 10962, 115, 4109, 21, 18909, 37, 1163, 147, 121, 3905, 16761, 1447, 2345, 26, 1209, 2437, 409, 1199, 2977]                                                                                                                                                                                             \n",
       "\n",
       "    max_neighbor_dist  min_neighbor_dist  \n",
       "6   21675              21                 \n",
       "83  25026              21                 "
      ]
     },
     "execution_count": 26,
     "metadata": {},
     "output_type": "execute_result"
    }
   ],
   "source": [
    "# filter > 0 because some of clv sites list have only 1 element\n",
    "uniq_clv_sites.query('min_neighbor_dist > 0').sort_values('min_neighbor_dist').head(2)"
   ]
  },
  {
   "cell_type": "code",
   "execution_count": 27,
   "metadata": {
    "collapsed": false
   },
   "outputs": [
    {
     "data": {
      "text/html": [
       "<div>\n",
       "<style>\n",
       "    .dataframe thead tr:only-child th {\n",
       "        text-align: right;\n",
       "    }\n",
       "\n",
       "    .dataframe thead th {\n",
       "        text-align: left;\n",
       "    }\n",
       "\n",
       "    .dataframe tbody tr th {\n",
       "        vertical-align: top;\n",
       "    }\n",
       "</style>\n",
       "<table border=\"1\" class=\"dataframe\">\n",
       "  <thead>\n",
       "    <tr style=\"text-align: right;\">\n",
       "      <th></th>\n",
       "      <th>gene_name</th>\n",
       "      <th>seqname</th>\n",
       "      <th>strand</th>\n",
       "      <th>clv_sites</th>\n",
       "      <th>neighbor_dist</th>\n",
       "      <th>max_neighbor_dist</th>\n",
       "      <th>min_neighbor_dist</th>\n",
       "    </tr>\n",
       "  </thead>\n",
       "  <tbody>\n",
       "    <tr>\n",
       "      <th>14</th>\n",
       "      <td>CCND1</td>\n",
       "      <td>chr11</td>\n",
       "      <td>+</td>\n",
       "      <td>[69456448, 69463021, 69463298, 69463478, 69469242, 69469769, 69882117]</td>\n",
       "      <td>[6573, 277, 180, 5764, 527, 412348]</td>\n",
       "      <td>412348</td>\n",
       "      <td>180</td>\n",
       "    </tr>\n",
       "    <tr>\n",
       "      <th>19</th>\n",
       "      <td>CDKN2A</td>\n",
       "      <td>chr9</td>\n",
       "      <td>-</td>\n",
       "      <td>[21653556, 21967755, 21967992, 21968200, 21968733, 21969564, 21970697, 21973076, 21974215, 21980502, 21982173, 21986307, 21987209, 21987318, 21988068, 21988205, 21989339, 21993202, 21994884, 21995265]</td>\n",
       "      <td>[314199, 237, 208, 533, 831, 1133, 2379, 1139, 6287, 1671, 4134, 902, 109, 750, 137, 1134, 3863, 1682, 381]</td>\n",
       "      <td>314199</td>\n",
       "      <td>109</td>\n",
       "    </tr>\n",
       "  </tbody>\n",
       "</table>\n",
       "</div>"
      ],
      "text/plain": [
       "   gene_name seqname strand                                                                                                                                                                                                 clv_sites  \\\n",
       "14  CCND1     chr11   +      [69456448, 69463021, 69463298, 69463478, 69469242, 69469769, 69882117]                                                                                                                                     \n",
       "19  CDKN2A    chr9    -      [21653556, 21967755, 21967992, 21968200, 21968733, 21969564, 21970697, 21973076, 21974215, 21980502, 21982173, 21986307, 21987209, 21987318, 21988068, 21988205, 21989339, 21993202, 21994884, 21995265]   \n",
       "\n",
       "                                                                                                  neighbor_dist  max_neighbor_dist  min_neighbor_dist  \n",
       "14  [6573, 277, 180, 5764, 527, 412348]                                                                          412348             180                \n",
       "19  [314199, 237, 208, 533, 831, 1133, 2379, 1139, 6287, 1671, 4134, 902, 109, 750, 137, 1134, 3863, 1682, 381]  314199             109                "
      ]
     },
     "execution_count": 27,
     "metadata": {},
     "output_type": "execute_result"
    }
   ],
   "source": [
    "uniq_clv_sites.query('max_neighbor_dist > 0').sort_values('max_neighbor_dist').iloc[::-1].head(2)"
   ]
  },
  {
   "cell_type": "code",
   "execution_count": 28,
   "metadata": {
    "collapsed": false
   },
   "outputs": [
    {
     "data": {
      "text/html": [
       "<div>\n",
       "<style>\n",
       "    .dataframe thead tr:only-child th {\n",
       "        text-align: right;\n",
       "    }\n",
       "\n",
       "    .dataframe thead th {\n",
       "        text-align: left;\n",
       "    }\n",
       "\n",
       "    .dataframe tbody tr th {\n",
       "        vertical-align: top;\n",
       "    }\n",
       "</style>\n",
       "<table border=\"1\" class=\"dataframe\">\n",
       "  <thead>\n",
       "    <tr style=\"text-align: right;\">\n",
       "      <th></th>\n",
       "      <th>count</th>\n",
       "      <th>mean</th>\n",
       "      <th>std</th>\n",
       "      <th>min</th>\n",
       "      <th>25%</th>\n",
       "      <th>50%</th>\n",
       "      <th>75%</th>\n",
       "      <th>max</th>\n",
       "    </tr>\n",
       "  </thead>\n",
       "  <tbody>\n",
       "    <tr>\n",
       "      <th>0</th>\n",
       "      <td>2022.0</td>\n",
       "      <td>4733.832839</td>\n",
       "      <td>14722.233129</td>\n",
       "      <td>21.0</td>\n",
       "      <td>308.5</td>\n",
       "      <td>1195.0</td>\n",
       "      <td>4664.5</td>\n",
       "      <td>412348.0</td>\n",
       "    </tr>\n",
       "  </tbody>\n",
       "</table>\n",
       "</div>"
      ],
      "text/plain": [
       "    count         mean           std   min    25%     50%     75%       max\n",
       "0  2022.0  4733.832839  14722.233129  21.0  308.5  1195.0  4664.5  412348.0"
      ]
     },
     "execution_count": 28,
     "metadata": {},
     "output_type": "execute_result"
    }
   ],
   "source": [
    "flat_dists = pd.Series(list(itertools.chain(*uniq_clv_sites.neighbor_dist.values)))\n",
    "flat_dists.describe().to_frame().T"
   ]
  },
  {
   "cell_type": "code",
   "execution_count": null,
   "metadata": {
    "collapsed": true
   },
   "outputs": [],
   "source": []
  },
  {
   "cell_type": "code",
   "execution_count": null,
   "metadata": {
    "collapsed": true
   },
   "outputs": [],
   "source": []
  },
  {
   "cell_type": "code",
   "execution_count": 29,
   "metadata": {
    "collapsed": false,
    "scrolled": true
   },
   "outputs": [
    {
     "data": {
      "text/plain": [
       "Index(['gene_name', 'strand', 'seqname', 'clv', 'length_of_tail_in_contig', 'number_of_bridge_reads', 'max_bridge_read_tail_length', 'analysis_id', 'clv0', 'hexamer', 'hexamer_id', 'hexamer_loc0', 'hexamer_loc', 'signed_NDA', 'NDA', 'study', 'barcode', 'disease', 'disease_name', 'sample_type',\n",
       "       'sample_type_name', 'analyte_type', 'center', 'filename', 'files_size', 'checksum', 'aliquot_id', 'participant_id', 'sample_id', 'tss_id', 'sample_accession', 'published', 'uploaded', 'modified', 'sample_type_code', 'analyte_type_code', 'platform_full_name', 'cluster_idx', 'mclv', 'aclv'],\n",
       "      dtype='object')"
      ]
     },
     "execution_count": 29,
     "metadata": {},
     "output_type": "execute_result"
    }
   ],
   "source": [
    "cdf2.columns"
   ]
  },
  {
   "cell_type": "code",
   "execution_count": 30,
   "metadata": {
    "collapsed": false
   },
   "outputs": [],
   "source": [
    "ddf = cdf2.drop([\n",
    "        'length_of_tail_in_contig', \n",
    "        'number_of_bridge_reads', \n",
    "        'max_bridge_read_tail_length',\n",
    "        \n",
    "        'signed_NDA', \n",
    "        'NDA',\n",
    "        'study',\n",
    "      \n",
    "        'analyte_type', 'files_size', 'checksum', 'aliquot_id', \n",
    "        'sample_accession', 'published', 'uploaded', 'modified', \n",
    "        'sample_type_code', 'analyte_type_code', 'platform_full_name',\n",
    "    ], axis=1)"
   ]
  },
  {
   "cell_type": "code",
   "execution_count": 31,
   "metadata": {
    "collapsed": false,
    "scrolled": true
   },
   "outputs": [
    {
     "name": "stdout",
     "output_type": "stream",
     "text": [
      "<class 'pandas.core.frame.DataFrame'>\n",
      "Int64Index: 3420253 entries, 0 to 3420252\n",
      "Columns: 23 entries, gene_name to aclv\n",
      "dtypes: int64(8), object(15)\n",
      "memory usage: 626.3+ MB\n"
     ]
    }
   ],
   "source": [
    "ddf.info(verbose=False)"
   ]
  },
  {
   "cell_type": "code",
   "execution_count": 32,
   "metadata": {
    "collapsed": false
   },
   "outputs": [
    {
     "data": {
      "text/html": [
       "<div>\n",
       "<style>\n",
       "    .dataframe thead tr:only-child th {\n",
       "        text-align: right;\n",
       "    }\n",
       "\n",
       "    .dataframe thead th {\n",
       "        text-align: left;\n",
       "    }\n",
       "\n",
       "    .dataframe tbody tr th {\n",
       "        vertical-align: top;\n",
       "    }\n",
       "</style>\n",
       "<table border=\"1\" class=\"dataframe\">\n",
       "  <thead>\n",
       "    <tr style=\"text-align: right;\">\n",
       "      <th></th>\n",
       "      <th>gene_name</th>\n",
       "      <th>strand</th>\n",
       "      <th>seqname</th>\n",
       "      <th>clv</th>\n",
       "      <th>analysis_id</th>\n",
       "      <th>clv0</th>\n",
       "      <th>hexamer</th>\n",
       "      <th>hexamer_id</th>\n",
       "      <th>hexamer_loc0</th>\n",
       "      <th>hexamer_loc</th>\n",
       "      <th>barcode</th>\n",
       "      <th>disease</th>\n",
       "      <th>disease_name</th>\n",
       "      <th>sample_type</th>\n",
       "      <th>sample_type_name</th>\n",
       "      <th>center</th>\n",
       "      <th>filename</th>\n",
       "      <th>participant_id</th>\n",
       "      <th>sample_id</th>\n",
       "      <th>tss_id</th>\n",
       "      <th>cluster_idx</th>\n",
       "      <th>mclv</th>\n",
       "      <th>aclv</th>\n",
       "    </tr>\n",
       "  </thead>\n",
       "  <tbody>\n",
       "    <tr>\n",
       "      <th>0</th>\n",
       "      <td>ABL1</td>\n",
       "      <td>+</td>\n",
       "      <td>chr9</td>\n",
       "      <td>133763062</td>\n",
       "      <td>1d811d54-caa1-41f3-bfc2-400eebdd97ef</td>\n",
       "      <td>133763061</td>\n",
       "      <td>AATAAA</td>\n",
       "      <td>1</td>\n",
       "      <td>133763038</td>\n",
       "      <td>133763039</td>\n",
       "      <td>TCGA-KN-8425-01A-11R-2315-07</td>\n",
       "      <td>KICH</td>\n",
       "      <td>KIDNEY CHROMOPHOBE</td>\n",
       "      <td>TP</td>\n",
       "      <td>Primary solid Tumor</td>\n",
       "      <td>UNC-LCCC</td>\n",
       "      <td>UNCID_2186137.d42c9589-3960-4964-be28-83d275bdc672.121106_UNC11-SN627_0258_AC11WRACXX_6_TGACCA.tar.gz</td>\n",
       "      <td>cc316faf-dcb1-4dea-b8b0-a17d000ff40f</td>\n",
       "      <td>84ed1792-cec8-4f98-9988-74b3f5f6f516</td>\n",
       "      <td>KN</td>\n",
       "      <td>1</td>\n",
       "      <td>133763062</td>\n",
       "      <td>133763062</td>\n",
       "    </tr>\n",
       "  </tbody>\n",
       "</table>\n",
       "</div>"
      ],
      "text/plain": [
       "  gene_name strand seqname        clv                           analysis_id       clv0 hexamer  hexamer_id  hexamer_loc0  hexamer_loc                       barcode disease        disease_name sample_type     sample_type_name    center  \\\n",
       "0  ABL1      +      chr9    133763062  1d811d54-caa1-41f3-bfc2-400eebdd97ef  133763061  AATAAA  1           133763038     133763039    TCGA-KN-8425-01A-11R-2315-07  KICH    KIDNEY CHROMOPHOBE  TP          Primary solid Tumor  UNC-LCCC   \n",
       "\n",
       "                                                                                                filename                        participant_id                             sample_id tss_id  cluster_idx       mclv       aclv  \n",
       "0  UNCID_2186137.d42c9589-3960-4964-be28-83d275bdc672.121106_UNC11-SN627_0258_AC11WRACXX_6_TGACCA.tar.gz  cc316faf-dcb1-4dea-b8b0-a17d000ff40f  84ed1792-cec8-4f98-9988-74b3f5f6f516  KN     1            133763062  133763062  "
      ]
     },
     "execution_count": 32,
     "metadata": {},
     "output_type": "execute_result"
    }
   ],
   "source": [
    "ddf.head(1)"
   ]
  },
  {
   "cell_type": "code",
   "execution_count": 33,
   "metadata": {
    "collapsed": false
   },
   "outputs": [],
   "source": [
    "assert ddf.shape[0] == adf.shape[0]"
   ]
  },
  {
   "cell_type": "code",
   "execution_count": 34,
   "metadata": {
    "collapsed": true
   },
   "outputs": [],
   "source": [
    "ddf['sstype'] = ddf.sample_type.apply(lambda x: 'normal' if x == 'NT' else 'tumour')"
   ]
  },
  {
   "cell_type": "code",
   "execution_count": 35,
   "metadata": {
    "collapsed": true
   },
   "outputs": [],
   "source": [
    "def add_kid(df):\n",
    "    \"\"\"kid: cleavage site id\"\"\"\n",
    "    df['kid'] = (df.seqname.astype(str)\n",
    "          + '|' + df.gene_name\n",
    "          + '|' + df.strand\n",
    "          + '|' + df.clv.astype(str))\n",
    "    \n",
    "def add_mkid(df):\n",
    "    \"\"\"mkid: mode cleavage site id\"\"\"\n",
    "    df['mkid'] = (df.seqname.astype(str)\n",
    "          + '|' + df.gene_name\n",
    "          + '|' + df.strand\n",
    "          + '|' + df.mclv.astype(str))\n",
    "    \n",
    "def add_akid(df):\n",
    "    \"\"\"akid: annotated mode cleavage site id\"\"\"\n",
    "    df['akid'] = (df.seqname.astype(str)\n",
    "          + '|' + df.gene_name\n",
    "          + '|' + df.strand\n",
    "          + '|' + df.aclv.astype(str))"
   ]
  },
  {
   "cell_type": "code",
   "execution_count": 36,
   "metadata": {
    "collapsed": false
   },
   "outputs": [
    {
     "name": "stdout",
     "output_type": "stream",
     "text": [
      "CPU times: user 20.4 s, sys: 2.61 s, total: 23 s\n",
      "Wall time: 23 s\n"
     ]
    }
   ],
   "source": [
    "%%time\n",
    "add_kid(ddf)\n",
    "add_mkid(ddf)\n",
    "add_akid(ddf)"
   ]
  },
  {
   "cell_type": "code",
   "execution_count": 38,
   "metadata": {
    "collapsed": false
   },
   "outputs": [
    {
     "name": "stdout",
     "output_type": "stream",
     "text": [
      "CPU times: user 55.1 s, sys: 1.41 s, total: 56.5 s\n",
      "Wall time: 57.9 s\n"
     ]
    }
   ],
   "source": [
    "%%time\n",
    "# Since this will be released for public, csv is more portable though much slower than pickle\n",
    "ddf.to_csv('../__results/all_cba.KLEAT.on-target-cleaned.filtered.clustered.csv',\n",
    "              index=False)"
   ]
  },
  {
   "cell_type": "code",
   "execution_count": 39,
   "metadata": {
    "collapsed": false
   },
   "outputs": [],
   "source": [
    "assert ddf.shape[0] == 3420253"
   ]
  },
  {
   "cell_type": "code",
   "execution_count": 40,
   "metadata": {
    "collapsed": false,
    "scrolled": false
   },
   "outputs": [
    {
     "data": {
      "text/html": [
       "<div>\n",
       "<style>\n",
       "    .dataframe thead tr:only-child th {\n",
       "        text-align: right;\n",
       "    }\n",
       "\n",
       "    .dataframe thead th {\n",
       "        text-align: left;\n",
       "    }\n",
       "\n",
       "    .dataframe tbody tr th {\n",
       "        vertical-align: top;\n",
       "    }\n",
       "</style>\n",
       "<table border=\"1\" class=\"dataframe\">\n",
       "  <thead>\n",
       "    <tr style=\"text-align: right;\">\n",
       "      <th></th>\n",
       "      <th>gene_name</th>\n",
       "      <th>strand</th>\n",
       "      <th>seqname</th>\n",
       "      <th>clv</th>\n",
       "      <th>analysis_id</th>\n",
       "      <th>clv0</th>\n",
       "      <th>hexamer</th>\n",
       "      <th>hexamer_id</th>\n",
       "      <th>hexamer_loc0</th>\n",
       "      <th>hexamer_loc</th>\n",
       "      <th>barcode</th>\n",
       "      <th>disease</th>\n",
       "      <th>disease_name</th>\n",
       "      <th>sample_type</th>\n",
       "      <th>sample_type_name</th>\n",
       "      <th>center</th>\n",
       "      <th>filename</th>\n",
       "      <th>participant_id</th>\n",
       "      <th>sample_id</th>\n",
       "      <th>tss_id</th>\n",
       "      <th>cluster_idx</th>\n",
       "      <th>mclv</th>\n",
       "      <th>aclv</th>\n",
       "      <th>sstype</th>\n",
       "      <th>kid</th>\n",
       "      <th>mkid</th>\n",
       "      <th>akid</th>\n",
       "    </tr>\n",
       "  </thead>\n",
       "  <tbody>\n",
       "    <tr>\n",
       "      <th>0</th>\n",
       "      <td>ABL1</td>\n",
       "      <td>+</td>\n",
       "      <td>chr9</td>\n",
       "      <td>133763062</td>\n",
       "      <td>1d811d54-caa1-41f3-bfc2-400eebdd97ef</td>\n",
       "      <td>133763061</td>\n",
       "      <td>AATAAA</td>\n",
       "      <td>1</td>\n",
       "      <td>133763038</td>\n",
       "      <td>133763039</td>\n",
       "      <td>TCGA-KN-8425-01A-11R-2315-07</td>\n",
       "      <td>KICH</td>\n",
       "      <td>KIDNEY CHROMOPHOBE</td>\n",
       "      <td>TP</td>\n",
       "      <td>Primary solid Tumor</td>\n",
       "      <td>UNC-LCCC</td>\n",
       "      <td>UNCID_2186137.d42c9589-3960-4964-be28-83d275bdc672.121106_UNC11-SN627_0258_AC11WRACXX_6_TGACCA.tar.gz</td>\n",
       "      <td>cc316faf-dcb1-4dea-b8b0-a17d000ff40f</td>\n",
       "      <td>84ed1792-cec8-4f98-9988-74b3f5f6f516</td>\n",
       "      <td>KN</td>\n",
       "      <td>1</td>\n",
       "      <td>133763062</td>\n",
       "      <td>133763062</td>\n",
       "      <td>tumour</td>\n",
       "      <td>chr9|ABL1|+|133763062</td>\n",
       "      <td>chr9|ABL1|+|133763062</td>\n",
       "      <td>chr9|ABL1|+|133763062</td>\n",
       "    </tr>\n",
       "    <tr>\n",
       "      <th>1</th>\n",
       "      <td>ABL1</td>\n",
       "      <td>+</td>\n",
       "      <td>chr9</td>\n",
       "      <td>133763062</td>\n",
       "      <td>3f5db931-1844-42e6-ab69-54f851b34693</td>\n",
       "      <td>133763061</td>\n",
       "      <td>AATAAA</td>\n",
       "      <td>1</td>\n",
       "      <td>133763038</td>\n",
       "      <td>133763039</td>\n",
       "      <td>TCGA-KN-8419-11A-01R-2315-07</td>\n",
       "      <td>KICH</td>\n",
       "      <td>KIDNEY CHROMOPHOBE</td>\n",
       "      <td>NT</td>\n",
       "      <td>Solid Tissue Normal</td>\n",
       "      <td>UNC-LCCC</td>\n",
       "      <td>UNCID_2186044.0d5727f8-2f06-4b7e-bc23-0241d44594cc.121106_UNC11-SN627_0258_AC11WRACXX_4_GTGAAA.tar.gz</td>\n",
       "      <td>dc04b82c-e1e8-4917-ba19-c2fea4a1b69a</td>\n",
       "      <td>04ab90cd-4030-46bc-8a3b-279b9dfaa24c</td>\n",
       "      <td>KN</td>\n",
       "      <td>1</td>\n",
       "      <td>133763062</td>\n",
       "      <td>133763062</td>\n",
       "      <td>normal</td>\n",
       "      <td>chr9|ABL1|+|133763062</td>\n",
       "      <td>chr9|ABL1|+|133763062</td>\n",
       "      <td>chr9|ABL1|+|133763062</td>\n",
       "    </tr>\n",
       "  </tbody>\n",
       "</table>\n",
       "</div>"
      ],
      "text/plain": [
       "  gene_name strand seqname        clv                           analysis_id       clv0 hexamer  hexamer_id  hexamer_loc0  hexamer_loc                       barcode disease        disease_name sample_type     sample_type_name    center  \\\n",
       "0  ABL1      +      chr9    133763062  1d811d54-caa1-41f3-bfc2-400eebdd97ef  133763061  AATAAA  1           133763038     133763039    TCGA-KN-8425-01A-11R-2315-07  KICH    KIDNEY CHROMOPHOBE  TP          Primary solid Tumor  UNC-LCCC   \n",
       "1  ABL1      +      chr9    133763062  3f5db931-1844-42e6-ab69-54f851b34693  133763061  AATAAA  1           133763038     133763039    TCGA-KN-8419-11A-01R-2315-07  KICH    KIDNEY CHROMOPHOBE  NT          Solid Tissue Normal  UNC-LCCC   \n",
       "\n",
       "                                                                                                filename                        participant_id                             sample_id tss_id  cluster_idx       mclv       aclv  sstype                    kid                   mkid  \\\n",
       "0  UNCID_2186137.d42c9589-3960-4964-be28-83d275bdc672.121106_UNC11-SN627_0258_AC11WRACXX_6_TGACCA.tar.gz  cc316faf-dcb1-4dea-b8b0-a17d000ff40f  84ed1792-cec8-4f98-9988-74b3f5f6f516  KN     1            133763062  133763062  tumour  chr9|ABL1|+|133763062  chr9|ABL1|+|133763062   \n",
       "1  UNCID_2186044.0d5727f8-2f06-4b7e-bc23-0241d44594cc.121106_UNC11-SN627_0258_AC11WRACXX_4_GTGAAA.tar.gz  dc04b82c-e1e8-4917-ba19-c2fea4a1b69a  04ab90cd-4030-46bc-8a3b-279b9dfaa24c  KN     1            133763062  133763062  normal  chr9|ABL1|+|133763062  chr9|ABL1|+|133763062   \n",
       "\n",
       "                    akid  \n",
       "0  chr9|ABL1|+|133763062  \n",
       "1  chr9|ABL1|+|133763062  "
      ]
     },
     "execution_count": 40,
     "metadata": {},
     "output_type": "execute_result"
    }
   ],
   "source": [
    "ddf.head(2)"
   ]
  },
  {
   "cell_type": "code",
   "execution_count": 41,
   "metadata": {
    "collapsed": false
   },
   "outputs": [],
   "source": [
    "assert ddf.mkid.unique().shape[0] == 2136"
   ]
  },
  {
   "cell_type": "code",
   "execution_count": 42,
   "metadata": {
    "collapsed": false
   },
   "outputs": [],
   "source": [
    "assert ddf[['seqname', 'gene_name', 'cluster_idx']].drop_duplicates().shape[0] == 2136"
   ]
  },
  {
   "cell_type": "code",
   "execution_count": 43,
   "metadata": {
    "collapsed": true
   },
   "outputs": [],
   "source": [
    "assert ddf.shape[0] == adf.shape[0]"
   ]
  },
  {
   "cell_type": "code",
   "execution_count": null,
   "metadata": {
    "collapsed": true
   },
   "outputs": [],
   "source": []
  }
 ],
 "metadata": {
  "anaconda-cloud": {},
  "kernelspec": {
   "display_name": "Python [default]",
   "language": "python",
   "name": "python3"
  },
  "language_info": {
   "codemirror_mode": {
    "name": "ipython",
    "version": 3
   },
   "file_extension": ".py",
   "mimetype": "text/x-python",
   "name": "python",
   "nbconvert_exporter": "python",
   "pygments_lexer": "ipython3",
   "version": "3.5.3"
  }
 },
 "nbformat": 4,
 "nbformat_minor": 1
}
