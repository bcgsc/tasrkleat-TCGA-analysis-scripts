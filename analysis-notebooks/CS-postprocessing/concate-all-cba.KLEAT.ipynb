{
 "cells": [
  {
   "cell_type": "code",
   "execution_count": 1,
   "metadata": {
    "collapsed": false
   },
   "outputs": [],
   "source": [
    "from eda_import import *"
   ]
  },
  {
   "cell_type": "code",
   "execution_count": 2,
   "metadata": {
    "collapsed": false
   },
   "outputs": [
    {
     "name": "stdout",
     "output_type": "stream",
     "text": [
      "2018-05-08\n"
     ]
    }
   ],
   "source": [
    "print(datetime.datetime.today().date())"
   ]
  },
  {
   "cell_type": "code",
   "execution_count": 3,
   "metadata": {
    "collapsed": false
   },
   "outputs": [
    {
     "name": "stdout",
     "output_type": "stream",
     "text": [
      "processed 500 files,processed 1000 files,processed 1500 files,processed 2000 files,processed 2500 files,processed 3000 files,processed 3500 files,processed 4000 files,processed 4500 files,processed 5000 files,processed 5500 files,processed 6000 files,processed 6500 files,processed 7000 files,processed 7500 files,processed 8000 files,processed 8500 files,processed 9000 files,processed 9500 files,processed 10000 files,processed 10500 files,CPU times: user 5min 42s, sys: 3min 19s, total: 9min 2s\n",
      "Wall time: 20min 38s\n"
     ]
    }
   ],
   "source": [
    "%%time\n",
    "dfs = []\n",
    "with open('./ls-output-local.cba.KLEAT.txt') as inf:\n",
    "    for k, line in enumerate(inf):\n",
    "        fname = line.strip()\n",
    "        _df = pd.read_csv(fname, sep='\\t')\n",
    "        _df['kleat_fname'] = fname\n",
    "        dfs.append(_df)\n",
    "        if (k + 1) % 500 == 0:\n",
    "            print('processed {0} files'.format(k + 1), end=',')"
   ]
  },
  {
   "cell_type": "code",
   "execution_count": 4,
   "metadata": {
    "collapsed": false
   },
   "outputs": [
    {
     "name": "stdout",
     "output_type": "stream",
     "text": [
      "CPU times: user 56 s, sys: 1min 8s, total: 2min 4s\n",
      "Wall time: 2min 10s\n"
     ]
    }
   ],
   "source": [
    "%time df = pd.concat(dfs)"
   ]
  },
  {
   "cell_type": "code",
   "execution_count": 5,
   "metadata": {
    "collapsed": true
   },
   "outputs": [],
   "source": [
    "TOTAL_NUM_CALLS = 67544140\n",
    "assert df.shape[0] == TOTAL_NUM_CALLS"
   ]
  },
  {
   "cell_type": "code",
   "execution_count": 8,
   "metadata": {
    "collapsed": false
   },
   "outputs": [
    {
     "data": {
      "text/plain": [
       "(67544140, 23)"
      ]
     },
     "execution_count": 8,
     "metadata": {},
     "output_type": "execute_result"
    }
   ],
   "source": [
    "df.shape"
   ]
  },
  {
   "cell_type": "code",
   "execution_count": 6,
   "metadata": {
    "collapsed": false
   },
   "outputs": [
    {
     "data": {
      "text/html": [
       "<div>\n",
       "<style>\n",
       "    .dataframe thead tr:only-child th {\n",
       "        text-align: right;\n",
       "    }\n",
       "\n",
       "    .dataframe thead th {\n",
       "        text-align: left;\n",
       "    }\n",
       "\n",
       "    .dataframe tbody tr th {\n",
       "        vertical-align: top;\n",
       "    }\n",
       "</style>\n",
       "<table border=\"1\" class=\"dataframe\">\n",
       "  <thead>\n",
       "    <tr style=\"text-align: right;\">\n",
       "      <th></th>\n",
       "      <th>gene</th>\n",
       "      <th>transcript</th>\n",
       "      <th>transcript_strand</th>\n",
       "      <th>coding</th>\n",
       "      <th>contig</th>\n",
       "      <th>chromosome</th>\n",
       "      <th>cleavage_site</th>\n",
       "      <th>within_UTR</th>\n",
       "      <th>distance_from_annotated_site</th>\n",
       "      <th>ESTs</th>\n",
       "      <th>length_of_tail_in_contig</th>\n",
       "      <th>number_of_tail_reads</th>\n",
       "      <th>number_of_bridge_reads</th>\n",
       "      <th>max_bridge_read_tail_length</th>\n",
       "      <th>bridge_read_identities</th>\n",
       "      <th>tail+bridge_reads</th>\n",
       "      <th>number_of_link_pairs</th>\n",
       "      <th>max_link_pair_length</th>\n",
       "      <th>link_pair_identities</th>\n",
       "      <th>hexamer_loc+id</th>\n",
       "      <th>3UTR_start_end</th>\n",
       "      <th>flag</th>\n",
       "      <th>kleat_fname</th>\n",
       "    </tr>\n",
       "  </thead>\n",
       "  <tbody>\n",
       "    <tr>\n",
       "      <th>0</th>\n",
       "      <td>NMNAT1</td>\n",
       "      <td>ENST00000403197</td>\n",
       "      <td>+</td>\n",
       "      <td>yes</td>\n",
       "      <td>A1.S22802</td>\n",
       "      <td>chr1</td>\n",
       "      <td>10016721</td>\n",
       "      <td>yes</td>\n",
       "      <td>25103</td>\n",
       "      <td>0</td>\n",
       "      <td>1</td>\n",
       "      <td>0</td>\n",
       "      <td>0</td>\n",
       "      <td>0</td>\n",
       "      <td>-</td>\n",
       "      <td>0</td>\n",
       "      <td>0</td>\n",
       "      <td>0</td>\n",
       "      <td>-</td>\n",
       "      <td>-</td>\n",
       "      <td>-</td>\n",
       "      <td>1</td>\n",
       "      <td>/projects/btl/zxue/tasrkleat-TCGA-results/tcga/KICH/RNA/RNA-Seq/UNC-LCCC/ILLUMINA/UNCID_2186137.d42c9589-3960-4964-be28-83d275bdc672.121106_UNC11-SN627_0258_AC11WRACXX_6_TGACCA.tar.gz/tasrkleat-results/kleat/cba.KLEAT</td>\n",
       "    </tr>\n",
       "    <tr>\n",
       "      <th>1</th>\n",
       "      <td>NMNAT1</td>\n",
       "      <td>ENST00000492735</td>\n",
       "      <td>+</td>\n",
       "      <td>no</td>\n",
       "      <td>A1.S23490</td>\n",
       "      <td>chr1</td>\n",
       "      <td>10032510</td>\n",
       "      <td>yes</td>\n",
       "      <td>51</td>\n",
       "      <td>-</td>\n",
       "      <td>0</td>\n",
       "      <td>0</td>\n",
       "      <td>0</td>\n",
       "      <td>0</td>\n",
       "      <td>-</td>\n",
       "      <td>0</td>\n",
       "      <td>0</td>\n",
       "      <td>0</td>\n",
       "      <td>-</td>\n",
       "      <td>-</td>\n",
       "      <td>-</td>\n",
       "      <td>2</td>\n",
       "      <td>/projects/btl/zxue/tasrkleat-TCGA-results/tcga/KICH/RNA/RNA-Seq/UNC-LCCC/ILLUMINA/UNCID_2186137.d42c9589-3960-4964-be28-83d275bdc672.121106_UNC11-SN627_0258_AC11WRACXX_6_TGACCA.tar.gz/tasrkleat-results/kleat/cba.KLEAT</td>\n",
       "    </tr>\n",
       "  </tbody>\n",
       "</table>\n",
       "</div>"
      ],
      "text/plain": [
       "     gene       transcript transcript_strand coding     contig chromosome  cleavage_site within_UTR  distance_from_annotated_site ESTs  length_of_tail_in_contig  number_of_tail_reads  number_of_bridge_reads  max_bridge_read_tail_length bridge_read_identities  tail+bridge_reads  \\\n",
       "0  NMNAT1  ENST00000403197  +                 yes    A1.S22802  chr1       10016721       yes        25103                         0    1                         0                     0                       0                            -                      0                   \n",
       "1  NMNAT1  ENST00000492735  +                 no     A1.S23490  chr1       10032510       yes        51                            -    0                         0                     0                       0                            -                      0                   \n",
       "\n",
       "   number_of_link_pairs  max_link_pair_length link_pair_identities hexamer_loc+id 3UTR_start_end  flag  \\\n",
       "0  0                     0                     -                    -              -              1      \n",
       "1  0                     0                     -                    -              -              2      \n",
       "\n",
       "                                                                                                                                                                                                                 kleat_fname  \n",
       "0  /projects/btl/zxue/tasrkleat-TCGA-results/tcga/KICH/RNA/RNA-Seq/UNC-LCCC/ILLUMINA/UNCID_2186137.d42c9589-3960-4964-be28-83d275bdc672.121106_UNC11-SN627_0258_AC11WRACXX_6_TGACCA.tar.gz/tasrkleat-results/kleat/cba.KLEAT  \n",
       "1  /projects/btl/zxue/tasrkleat-TCGA-results/tcga/KICH/RNA/RNA-Seq/UNC-LCCC/ILLUMINA/UNCID_2186137.d42c9589-3960-4964-be28-83d275bdc672.121106_UNC11-SN627_0258_AC11WRACXX_6_TGACCA.tar.gz/tasrkleat-results/kleat/cba.KLEAT  "
      ]
     },
     "execution_count": 6,
     "metadata": {},
     "output_type": "execute_result"
    }
   ],
   "source": [
    "df.head(2)"
   ]
  },
  {
   "cell_type": "code",
   "execution_count": 9,
   "metadata": {
    "collapsed": false
   },
   "outputs": [
    {
     "name": "stdout",
     "output_type": "stream",
     "text": [
      "CPU times: user 2min 42s, sys: 4min 24s, total: 7min 7s\n",
      "Wall time: 8min 6s\n"
     ]
    }
   ],
   "source": [
    "%time df.to_pickle('./results/all_cba.KLEAT.pkl')"
   ]
  }
 ],
 "metadata": {
  "anaconda-cloud": {},
  "kernelspec": {
   "display_name": "Python [default]",
   "language": "python",
   "name": "python3"
  },
  "language_info": {
   "codemirror_mode": {
    "name": "ipython",
    "version": 3
   },
   "file_extension": ".py",
   "mimetype": "text/x-python",
   "name": "python",
   "nbconvert_exporter": "python",
   "pygments_lexer": "ipython3",
   "version": "3.5.3"
  }
 },
 "nbformat": 4,
 "nbformat_minor": 1
}
