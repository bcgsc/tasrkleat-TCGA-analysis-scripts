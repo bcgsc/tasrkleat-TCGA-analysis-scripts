{
 "cells": [
  {
   "cell_type": "code",
   "execution_count": 1,
   "metadata": {
    "collapsed": false
   },
   "outputs": [],
   "source": [
    "from eda_import import *"
   ]
  },
  {
   "cell_type": "code",
   "execution_count": 2,
   "metadata": {
    "collapsed": true
   },
   "outputs": [],
   "source": [
    "import pysam"
   ]
  },
  {
   "cell_type": "code",
   "execution_count": 3,
   "metadata": {
    "collapsed": false,
    "scrolled": true
   },
   "outputs": [
    {
     "name": "stdout",
     "output_type": "stream",
     "text": [
      "2018-05-08\n"
     ]
    }
   ],
   "source": [
    "print(datetime.datetime.today().date())"
   ]
  },
  {
   "cell_type": "code",
   "execution_count": 4,
   "metadata": {
    "collapsed": true
   },
   "outputs": [],
   "source": [
    "TOTAL_NUM_CALLS = 67544140"
   ]
  },
  {
   "cell_type": "code",
   "execution_count": 5,
   "metadata": {
    "collapsed": false
   },
   "outputs": [
    {
     "name": "stdout",
     "output_type": "stream",
     "text": [
      "CPU times: user 1.19 s, sys: 896 ms, total: 2.09 s\n",
      "Wall time: 2.81 s\n"
     ]
    }
   ],
   "source": [
    "%time adf = pd.read_pickle('./results/all_cba.KLEAT.on-target-cleaned.pkl')"
   ]
  },
  {
   "cell_type": "code",
   "execution_count": 6,
   "metadata": {
    "collapsed": false
   },
   "outputs": [],
   "source": [
    "ON_TARGET_NUM_CALLS = 11489199\n",
    "assert adf.shape[0] == ON_TARGET_NUM_CALLS"
   ]
  },
  {
   "cell_type": "code",
   "execution_count": null,
   "metadata": {
    "collapsed": true
   },
   "outputs": [],
   "source": []
  },
  {
   "cell_type": "markdown",
   "metadata": {},
   "source": [
    "# Redo hexamer search"
   ]
  },
  {
   "cell_type": "code",
   "execution_count": 7,
   "metadata": {
    "collapsed": true
   },
   "outputs": [],
   "source": [
    "adf2 = adf.copy()"
   ]
  },
  {
   "cell_type": "code",
   "execution_count": 8,
   "metadata": {
    "collapsed": true
   },
   "outputs": [],
   "source": [
    "# convert 1-based to 0-based\n",
    "adf2['clv0'] = adf2['clv'] - 1"
   ]
  },
  {
   "cell_type": "code",
   "execution_count": 9,
   "metadata": {
    "collapsed": false
   },
   "outputs": [],
   "source": [
    "REF_FA = './reference_data/Homo_sapiens.GRCh37.75.dna_sm.primary_assembly.fa'\n",
    "refseq = pysam.FastaFile(REF_FA)"
   ]
  },
  {
   "cell_type": "code",
   "execution_count": 10,
   "metadata": {
    "collapsed": true
   },
   "outputs": [],
   "source": [
    "clv0s_df = adf2[['seqname', 'gene_name', 'clv0', 'strand']].drop_duplicates()"
   ]
  },
  {
   "cell_type": "code",
   "execution_count": 11,
   "metadata": {
    "collapsed": true
   },
   "outputs": [],
   "source": [
    "assert clv0s_df.shape[0] == 459113"
   ]
  },
  {
   "cell_type": "code",
   "execution_count": 12,
   "metadata": {
    "collapsed": true
   },
   "outputs": [],
   "source": [
    "# hexamer_search code is part of tasrkleat, https://github.com/bcgsc/tasrkleat/\n",
    "from hexamer_search import search_hexamer\n",
    "\n",
    "def search_hexamer_wrapper(refseq, chrm, clv, strand, window=50):\n",
    "    chrm = chrm.replace('chr', '')\n",
    "    res = search_hexamer.search(refseq, chrm, clv, strand, window)\n",
    "    if res is None:\n",
    "        res = ['NA', -1, -1]\n",
    "    return pd.Series(res, index=['hexamer', 'hexamer_id', 'hexamer_loc0'])"
   ]
  },
  {
   "cell_type": "code",
   "execution_count": 13,
   "metadata": {
    "collapsed": false
   },
   "outputs": [
    {
     "name": "stdout",
     "output_type": "stream",
     "text": [
      "CPU times: user 3min 8s, sys: 6.72 s, total: 3min 15s\n",
      "Wall time: 3min 15s\n"
     ]
    }
   ],
   "source": [
    "%%time\n",
    "hexm_df = clv0s_df.apply(\n",
    "    lambda row: search_hexamer_wrapper(refseq, row.seqname, row.clv0, row.strand), \n",
    "    axis=1)"
   ]
  },
  {
   "cell_type": "code",
   "execution_count": 14,
   "metadata": {
    "collapsed": false
   },
   "outputs": [
    {
     "name": "stdout",
     "output_type": "stream",
     "text": [
      "CPU times: user 233 ms, sys: 9.09 ms, total: 242 ms\n",
      "Wall time: 239 ms\n"
     ]
    }
   ],
   "source": [
    "# convert to 1-based\n",
    "%time hexm_df['hexamer_loc'] = hexm_df.hexamer_loc0.apply(lambda v: v + 1 if v != -1 else v)"
   ]
  },
  {
   "cell_type": "code",
   "execution_count": 15,
   "metadata": {
    "collapsed": false
   },
   "outputs": [
    {
     "data": {
      "text/html": [
       "<div>\n",
       "<style>\n",
       "    .dataframe thead tr:only-child th {\n",
       "        text-align: right;\n",
       "    }\n",
       "\n",
       "    .dataframe thead th {\n",
       "        text-align: left;\n",
       "    }\n",
       "\n",
       "    .dataframe tbody tr th {\n",
       "        vertical-align: top;\n",
       "    }\n",
       "</style>\n",
       "<table border=\"1\" class=\"dataframe\">\n",
       "  <thead>\n",
       "    <tr style=\"text-align: right;\">\n",
       "      <th></th>\n",
       "      <th>hexamer</th>\n",
       "      <th>hexamer_id</th>\n",
       "      <th>hexamer_loc0</th>\n",
       "      <th>hexamer_loc</th>\n",
       "    </tr>\n",
       "  </thead>\n",
       "  <tbody>\n",
       "    <tr>\n",
       "      <th>0</th>\n",
       "      <td>NA</td>\n",
       "      <td>-1</td>\n",
       "      <td>-1</td>\n",
       "      <td>-1</td>\n",
       "    </tr>\n",
       "    <tr>\n",
       "      <th>1</th>\n",
       "      <td>TTTAAA</td>\n",
       "      <td>14</td>\n",
       "      <td>100732435</td>\n",
       "      <td>100732436</td>\n",
       "    </tr>\n",
       "  </tbody>\n",
       "</table>\n",
       "</div>"
      ],
      "text/plain": [
       "  hexamer  hexamer_id  hexamer_loc0  hexamer_loc\n",
       "0  NA     -1          -1            -1          \n",
       "1  TTTAAA  14          100732435     100732436  "
      ]
     },
     "execution_count": 15,
     "metadata": {},
     "output_type": "execute_result"
    }
   ],
   "source": [
    "hexm_df.head(2)"
   ]
  },
  {
   "cell_type": "code",
   "execution_count": 16,
   "metadata": {
    "collapsed": false
   },
   "outputs": [
    {
     "data": {
      "text/plain": [
       "(459113, 4)"
      ]
     },
     "execution_count": 16,
     "metadata": {},
     "output_type": "execute_result"
    }
   ],
   "source": [
    "hexm_df.shape"
   ]
  },
  {
   "cell_type": "code",
   "execution_count": 17,
   "metadata": {
    "collapsed": false
   },
   "outputs": [],
   "source": [
    "hexm_ndf = pd.concat([clv0s_df, hexm_df], axis=1)"
   ]
  },
  {
   "cell_type": "code",
   "execution_count": 18,
   "metadata": {
    "collapsed": false
   },
   "outputs": [
    {
     "data": {
      "text/plain": [
       "(459113, 8)"
      ]
     },
     "execution_count": 18,
     "metadata": {},
     "output_type": "execute_result"
    }
   ],
   "source": [
    "hexm_ndf.shape"
   ]
  },
  {
   "cell_type": "code",
   "execution_count": 19,
   "metadata": {
    "collapsed": true
   },
   "outputs": [],
   "source": [
    "adf3 = adf2.merge(hexm_ndf, on=['seqname', 'gene_name', 'clv0', 'strand'], how='left')"
   ]
  },
  {
   "cell_type": "code",
   "execution_count": 20,
   "metadata": {
    "collapsed": false
   },
   "outputs": [],
   "source": [
    "assert adf3.shape[0] == adf.shape[0]"
   ]
  },
  {
   "cell_type": "code",
   "execution_count": 21,
   "metadata": {
    "collapsed": false
   },
   "outputs": [],
   "source": [
    "adf4 = adf3.drop(['clv0', 'hexamer_loc0'], axis=1)"
   ]
  },
  {
   "cell_type": "code",
   "execution_count": 22,
   "metadata": {
    "collapsed": false
   },
   "outputs": [
    {
     "data": {
      "text/html": [
       "<div>\n",
       "<style>\n",
       "    .dataframe thead tr:only-child th {\n",
       "        text-align: right;\n",
       "    }\n",
       "\n",
       "    .dataframe thead th {\n",
       "        text-align: left;\n",
       "    }\n",
       "\n",
       "    .dataframe tbody tr th {\n",
       "        vertical-align: top;\n",
       "    }\n",
       "</style>\n",
       "<table border=\"1\" class=\"dataframe\">\n",
       "  <thead>\n",
       "    <tr style=\"text-align: right;\">\n",
       "      <th></th>\n",
       "      <th>gene_name</th>\n",
       "      <th>strand</th>\n",
       "      <th>seqname</th>\n",
       "      <th>clv</th>\n",
       "      <th>length_of_tail_in_contig</th>\n",
       "      <th>number_of_bridge_reads</th>\n",
       "      <th>max_bridge_read_tail_length</th>\n",
       "      <th>analysis_id</th>\n",
       "      <th>hexamer</th>\n",
       "      <th>hexamer_id</th>\n",
       "      <th>hexamer_loc</th>\n",
       "    </tr>\n",
       "  </thead>\n",
       "  <tbody>\n",
       "    <tr>\n",
       "      <th>0</th>\n",
       "      <td>RTCA</td>\n",
       "      <td>+</td>\n",
       "      <td>chr1</td>\n",
       "      <td>100732395</td>\n",
       "      <td>0</td>\n",
       "      <td>0</td>\n",
       "      <td>0</td>\n",
       "      <td>1d811d54-caa1-41f3-bfc2-400eebdd97ef</td>\n",
       "      <td>NA</td>\n",
       "      <td>-1</td>\n",
       "      <td>-1</td>\n",
       "    </tr>\n",
       "    <tr>\n",
       "      <th>1</th>\n",
       "      <td>RTCA</td>\n",
       "      <td>+</td>\n",
       "      <td>chr1</td>\n",
       "      <td>100732476</td>\n",
       "      <td>0</td>\n",
       "      <td>0</td>\n",
       "      <td>0</td>\n",
       "      <td>1d811d54-caa1-41f3-bfc2-400eebdd97ef</td>\n",
       "      <td>TTTAAA</td>\n",
       "      <td>14</td>\n",
       "      <td>100732436</td>\n",
       "    </tr>\n",
       "  </tbody>\n",
       "</table>\n",
       "</div>"
      ],
      "text/plain": [
       "  gene_name strand seqname        clv  length_of_tail_in_contig  number_of_bridge_reads  max_bridge_read_tail_length                           analysis_id hexamer  hexamer_id  hexamer_loc\n",
       "0  RTCA      +      chr1    100732395  0                         0                       0                            1d811d54-caa1-41f3-bfc2-400eebdd97ef  NA     -1          -1          \n",
       "1  RTCA      +      chr1    100732476  0                         0                       0                            1d811d54-caa1-41f3-bfc2-400eebdd97ef  TTTAAA  14          100732436  "
      ]
     },
     "execution_count": 22,
     "metadata": {},
     "output_type": "execute_result"
    }
   ],
   "source": [
    "adf4.head(2)"
   ]
  },
  {
   "cell_type": "code",
   "execution_count": 23,
   "metadata": {
    "collapsed": false
   },
   "outputs": [
    {
     "name": "stdout",
     "output_type": "stream",
     "text": [
      "CPU times: user 0 ns, sys: 28.2 s, total: 28.2 s\n",
      "Wall time: 37.8 s\n"
     ]
    }
   ],
   "source": [
    "%time adf3.to_pickle('./results/all_cba.KLEAT.on-target-cleaned-hexamer-researched.pkl')"
   ]
  }
 ],
 "metadata": {
  "anaconda-cloud": {},
  "kernelspec": {
   "display_name": "Python [default]",
   "language": "python",
   "name": "python3"
  },
  "language_info": {
   "codemirror_mode": {
    "name": "ipython",
    "version": 3
   },
   "file_extension": ".py",
   "mimetype": "text/x-python",
   "name": "python",
   "nbconvert_exporter": "python",
   "pygments_lexer": "ipython3",
   "version": "3.5.3"
  }
 },
 "nbformat": 4,
 "nbformat_minor": 1
}
