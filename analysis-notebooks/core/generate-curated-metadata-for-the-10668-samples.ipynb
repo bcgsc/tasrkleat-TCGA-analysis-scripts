{
 "cells": [
  {
   "cell_type": "code",
   "execution_count": 24,
   "metadata": {
    "collapsed": false
   },
   "outputs": [],
   "source": [
    "from eda_import import *"
   ]
  },
  {
   "cell_type": "code",
   "execution_count": 25,
   "metadata": {
    "collapsed": true
   },
   "outputs": [],
   "source": [
    "def sizeof_fmt(num, sep=''):\n",
    "    '''\n",
    "    :param sep': separate between the number of unit, sometimes it's preferred\n",
    "    for better readability\n",
    "    '''\n",
    "    for unit in ['Bytes', 'KB', 'MB', 'GB', 'TB', 'PB', 'EB', 'ZB']:\n",
    "        if abs(num) < 1024.0:\n",
    "            return \"%3.1f%s\" % (num, unit)\n",
    "        num /= 1024.0\n",
    "    return \"%.1f%s\" % (num, 'YB')"
   ]
  },
  {
   "cell_type": "code",
   "execution_count": 26,
   "metadata": {
    "collapsed": false
   },
   "outputs": [
    {
     "name": "stdout",
     "output_type": "stream",
     "text": [
      "2018-05-08\n"
     ]
    }
   ],
   "source": [
    "print(datetime.datetime.now().date())"
   ]
  },
  {
   "cell_type": "code",
   "execution_count": 28,
   "metadata": {
    "collapsed": false
   },
   "outputs": [
    {
     "name": "stdout",
     "output_type": "stream",
     "text": [
      "CPU times: user 4.83 s, sys: 1.99 s, total: 6.82 s\n",
      "Wall time: 6.83 s\n"
     ]
    }
   ],
   "source": [
    "%%time\n",
    "df0 = pd.read_csv('./metadata/LATEST_MANIFEST.final.tsv.gz', low_memory=False, sep='\\t', compression='gzip')\n",
    "df1 = pd.read_csv('./metadata/RNAseq_FastQC.csv.gz', compression='gzip')\n",
    "df2 = pd.read_csv('./metadata/GCS_listing_27apr2016.csv.gz', compression='gzip')"
   ]
  },
  {
   "cell_type": "code",
   "execution_count": 29,
   "metadata": {
    "collapsed": false
   },
   "outputs": [],
   "source": [
    "df2['pretty_size'] = df2.objectSizeBytes.apply(sizeof_fmt)"
   ]
  },
  {
   "cell_type": "code",
   "execution_count": 30,
   "metadata": {
    "collapsed": false
   },
   "outputs": [
    {
     "name": "stdout",
     "output_type": "stream",
     "text": [
      "(128399, 37)\n",
      "(22408, 174)\n",
      "(83451, 6)\n"
     ]
    }
   ],
   "source": [
    "print(df0.shape)\n",
    "print(df1.shape)\n",
    "print(df2.shape)"
   ]
  },
  {
   "cell_type": "code",
   "execution_count": 31,
   "metadata": {
    "collapsed": false
   },
   "outputs": [],
   "source": [
    "ndf = df1.merge(df0, left_on='CGHub_analysisID', right_on='analysis_id')\n",
    "ndf = ndf.merge(df2, left_on=['CGHub_analysisID', 'AliquotBarcode'], right_on=['CGHubAnalysisID', 'AliquotBarcode'])"
   ]
  },
  {
   "cell_type": "code",
   "execution_count": 32,
   "metadata": {
    "collapsed": false
   },
   "outputs": [
    {
     "data": {
      "text/plain": [
       "(11340,)"
      ]
     },
     "execution_count": 32,
     "metadata": {},
     "output_type": "execute_result"
    }
   ],
   "source": [
    "ndf.analysis_id.unique().shape"
   ]
  },
  {
   "cell_type": "markdown",
   "metadata": {},
   "source": [
    "So in total, there were 11340 samples"
   ]
  },
  {
   "cell_type": "code",
   "execution_count": 33,
   "metadata": {
    "collapsed": false
   },
   "outputs": [
    {
     "data": {
      "text/plain": [
       "(22408, 216)"
      ]
     },
     "execution_count": 33,
     "metadata": {},
     "output_type": "execute_result"
    }
   ],
   "source": [
    "ndf.shape"
   ]
  },
  {
   "cell_type": "markdown",
   "metadata": {},
   "source": [
    "Samples very often have multiple files, which is why there are many more files than samples "
   ]
  },
  {
   "cell_type": "code",
   "execution_count": 34,
   "metadata": {
    "collapsed": false
   },
   "outputs": [
    {
     "data": {
      "text/plain": [
       "array(['CGHub_analysisID', 'AliquotBarcode', 'fastqFilename',\n",
       "       'FastQC_html_url', 'FastQC_zip_url', 'BasicStats', 'numTotalSeq',\n",
       "       'numPoorSeq', 'minLength', 'maxLength', 'delLength', 'pctGC',\n",
       "       'PerBaseSeqQual', 'PBSQ10_0', 'PBSQ50_0', 'PBSQ10_1', 'PBSQ50_1',\n",
       "       'PBSQ10_2', 'PBSQ50_2', 'PBSQ10_3'], dtype=object)"
      ]
     },
     "execution_count": 34,
     "metadata": {},
     "output_type": "execute_result"
    }
   ],
   "source": [
    "ndf.columns.values[:20]"
   ]
  },
  {
   "cell_type": "markdown",
   "metadata": {},
   "source": [
    "## Verified that not a single poor read was found"
   ]
  },
  {
   "cell_type": "code",
   "execution_count": 35,
   "metadata": {
    "collapsed": false,
    "scrolled": true
   },
   "outputs": [],
   "source": [
    "assert ndf.numPoorSeq.unique().tolist() == [0]"
   ]
  },
  {
   "cell_type": "code",
   "execution_count": 36,
   "metadata": {
    "collapsed": false,
    "scrolled": true
   },
   "outputs": [
    {
     "data": {
      "text/plain": [
       "0    https://storage.cloud.google.com/isb-cgc-open/tcga-qc/KIRP/RNA/RNA-Seq/UNC-LCCC/ILLUMINA/00065a62-5e18-4223-a884-12fca053a109-140516_UNC12-SN629_0369_AC4GGKACXX_GGCTAC_L002_1_fastqc.html\n",
       "Name: FastQC_html_url, dtype: object"
      ]
     },
     "execution_count": 36,
     "metadata": {},
     "output_type": "execute_result"
    }
   ],
   "source": [
    "ndf.FastQC_html_url.head(1)"
   ]
  },
  {
   "cell_type": "code",
   "execution_count": 26,
   "metadata": {
    "collapsed": false
   },
   "outputs": [
    {
     "data": {
      "text/plain": [
       "pass    20427\n",
       "fail    1945 \n",
       "warn    36   \n",
       "Name: PerBaseSeqQual, dtype: int64"
      ]
     },
     "execution_count": 26,
     "metadata": {},
     "output_type": "execute_result"
    }
   ],
   "source": [
    "ndf.PerBaseSeqQual.value_counts()"
   ]
  },
  {
   "cell_type": "markdown",
   "metadata": {
    "collapsed": true
   },
   "source": [
    "There were still poor bases though"
   ]
  },
  {
   "cell_type": "code",
   "execution_count": null,
   "metadata": {
    "collapsed": true
   },
   "outputs": [],
   "source": []
  },
  {
   "cell_type": "markdown",
   "metadata": {},
   "source": [
    "Add some handy columns"
   ]
  },
  {
   "cell_type": "code",
   "execution_count": 37,
   "metadata": {
    "collapsed": false
   },
   "outputs": [],
   "source": [
    "ndf['handy_disease_names'] = ndf.apply(lambda x: '{0}: {1}'.format(\n",
    "        x.disease, ' '.join([_.capitalize() for _ in x.disease_name.split()])), axis=1)"
   ]
  },
  {
   "cell_type": "code",
   "execution_count": 38,
   "metadata": {
    "collapsed": false
   },
   "outputs": [],
   "source": [
    "# Drop columns that are not interested at the moment\n",
    "cols = ndf.columns.values\n",
    "cols_to_drop = [_ for _ in cols if re.search('^Per|^PBSQ|^PSQC|^PBSC|^PSGCC|^PBNC|^SLD_|^Dedup_|^OverRepSeq|^Kmer_', _)]\n",
    "ndf.drop(cols_to_drop, axis=1, inplace=True)"
   ]
  },
  {
   "cell_type": "code",
   "execution_count": 39,
   "metadata": {
    "collapsed": false
   },
   "outputs": [
    {
     "data": {
      "text/html": [
       "<div>\n",
       "<style>\n",
       "    .dataframe thead tr:only-child th {\n",
       "        text-align: right;\n",
       "    }\n",
       "\n",
       "    .dataframe thead th {\n",
       "        text-align: left;\n",
       "    }\n",
       "\n",
       "    .dataframe tbody tr th {\n",
       "        vertical-align: top;\n",
       "    }\n",
       "</style>\n",
       "<table border=\"1\" class=\"dataframe\">\n",
       "  <thead>\n",
       "    <tr style=\"text-align: right;\">\n",
       "      <th></th>\n",
       "      <th>CGHub_analysisID</th>\n",
       "      <th>AliquotBarcode</th>\n",
       "      <th>fastqFilename</th>\n",
       "      <th>FastQC_html_url</th>\n",
       "      <th>FastQC_zip_url</th>\n",
       "      <th>BasicStats</th>\n",
       "      <th>numTotalSeq</th>\n",
       "      <th>numPoorSeq</th>\n",
       "      <th>minLength</th>\n",
       "      <th>maxLength</th>\n",
       "      <th>delLength</th>\n",
       "      <th>pctGC</th>\n",
       "      <th>SeqLenDist</th>\n",
       "      <th>SeqDupLev</th>\n",
       "      <th>Total_Dedup_Pct</th>\n",
       "      <th>OverrepSeq</th>\n",
       "      <th>AdaptCont</th>\n",
       "      <th>KmerCont</th>\n",
       "      <th>study</th>\n",
       "      <th>barcode</th>\n",
       "      <th>disease</th>\n",
       "      <th>disease_name</th>\n",
       "      <th>sample_type</th>\n",
       "      <th>sample_type_name</th>\n",
       "      <th>analyte_type</th>\n",
       "      <th>library_type</th>\n",
       "      <th>center</th>\n",
       "      <th>center_name</th>\n",
       "      <th>platform</th>\n",
       "      <th>platform_name</th>\n",
       "      <th>assembly</th>\n",
       "      <th>filename</th>\n",
       "      <th>files_size</th>\n",
       "      <th>checksum</th>\n",
       "      <th>analysis_id</th>\n",
       "      <th>aliquot_id</th>\n",
       "      <th>participant_id</th>\n",
       "      <th>sample_id</th>\n",
       "      <th>tss_id</th>\n",
       "      <th>sample_accession</th>\n",
       "      <th>published</th>\n",
       "      <th>uploaded</th>\n",
       "      <th>modified</th>\n",
       "      <th>state</th>\n",
       "      <th>sample_type_code</th>\n",
       "      <th>analyte_type_code</th>\n",
       "      <th>platform_full_name</th>\n",
       "      <th>file_type</th>\n",
       "      <th>reason</th>\n",
       "      <th>reagent_vendor</th>\n",
       "      <th>reagent_name</th>\n",
       "      <th>catalog_number</th>\n",
       "      <th>is_custom</th>\n",
       "      <th>target_file_url</th>\n",
       "      <th>probe_file_url</th>\n",
       "      <th>CGHubAnalysisID</th>\n",
       "      <th>AliquotUUID</th>\n",
       "      <th>GCSobject</th>\n",
       "      <th>objectSizeBytes</th>\n",
       "      <th>pretty_size</th>\n",
       "      <th>handy_disease_names</th>\n",
       "    </tr>\n",
       "  </thead>\n",
       "  <tbody>\n",
       "    <tr>\n",
       "      <th>12268</th>\n",
       "      <td>8b846cc9-2c7b-4445-aa7e-c9b5af8beedd</td>\n",
       "      <td>TCGA-P6-A5OF-01A-11R-A29S-07</td>\n",
       "      <td>130807_UNC12-SN629_0325_BD2BD7ACXX_TTAGGC_L008_1.fastq</td>\n",
       "      <td>https://storage.cloud.google.com/isb-cgc-open/tcga-qc/ACC/RNA/RNA-Seq/UNC-LCCC/ILLUMINA/8b846cc9-2c7b-4445-aa7e-c9b5af8beedd-130807_UNC12-SN629_0325_BD2BD7ACXX_TTAGGC_L008_1_fastqc.html</td>\n",
       "      <td>https://storage.cloud.google.com/isb-cgc-open/tcga-qc/ACC/RNA/RNA-Seq/UNC-LCCC/ILLUMINA/8b846cc9-2c7b-4445-aa7e-c9b5af8beedd-130807_UNC12-SN629_0325_BD2BD7ACXX_TTAGGC_L008_1_fastqc.zip</td>\n",
       "      <td>pass</td>\n",
       "      <td>72562760</td>\n",
       "      <td>0</td>\n",
       "      <td>48</td>\n",
       "      <td>48</td>\n",
       "      <td>1</td>\n",
       "      <td>49</td>\n",
       "      <td>pass</td>\n",
       "      <td>fail</td>\n",
       "      <td>38.184442</td>\n",
       "      <td>warn</td>\n",
       "      <td>pass</td>\n",
       "      <td>fail</td>\n",
       "      <td>TCGA</td>\n",
       "      <td>TCGA-P6-A5OF-01A-11R-A29S-07</td>\n",
       "      <td>ACC</td>\n",
       "      <td>ADRENOCORTICAL CARCINOMA</td>\n",
       "      <td>TP</td>\n",
       "      <td>Primary solid Tumor</td>\n",
       "      <td>RNA</td>\n",
       "      <td>RNA-Seq</td>\n",
       "      <td>UNC-LCCC</td>\n",
       "      <td>NaN</td>\n",
       "      <td>ILLUMINA</td>\n",
       "      <td>Illumina</td>\n",
       "      <td>unaligned</td>\n",
       "      <td>UNCID_2202571.ca5f547a-8ec9-4436-9878-1f1cab2fa329.130807_UNC12-SN629_0325_BD2BD7ACXX_8_TTAGGC.tar.gz</td>\n",
       "      <td>6.513721e+09</td>\n",
       "      <td>b662e7d30ed31b4e9b815bf074dd0d63</td>\n",
       "      <td>8b846cc9-2c7b-4445-aa7e-c9b5af8beedd</td>\n",
       "      <td>ca5f547a-8ec9-4436-9878-1f1cab2fa329</td>\n",
       "      <td>888a7158-2319-4563-849b-573705c72ab7</td>\n",
       "      <td>42e0c347-e8d1-4490-a6bb-8a43e5a21013</td>\n",
       "      <td>P6</td>\n",
       "      <td>NaN</td>\n",
       "      <td>2013-09-25</td>\n",
       "      <td>2013-09-25</td>\n",
       "      <td>2013-09-25</td>\n",
       "      <td>Live</td>\n",
       "      <td>01</td>\n",
       "      <td>R</td>\n",
       "      <td>Illumina HiSeq 2000</td>\n",
       "      <td>fasta</td>\n",
       "      <td>NaN</td>\n",
       "      <td>NaN</td>\n",
       "      <td>NaN</td>\n",
       "      <td>NaN</td>\n",
       "      <td>NaN</td>\n",
       "      <td>NaN</td>\n",
       "      <td>NaN</td>\n",
       "      <td>8b846cc9-2c7b-4445-aa7e-c9b5af8beedd</td>\n",
       "      <td>ca5f547a-8ec9-4436-9878-1f1cab2fa329</td>\n",
       "      <td>gs://5aa919de-0aa0-43ec-9ec3-288481102b6d/tcga/ACC/RNA/RNA-Seq/UNC-LCCC/ILLUMINA/UNCID_2202571.ca5f547a-8ec9-4436-9878-1f1cab2fa329.130807_UNC12-SN629_0325_BD2BD7ACXX_8_TTAGGC.tar.gz</td>\n",
       "      <td>6513721325</td>\n",
       "      <td>6.1GB</td>\n",
       "      <td>ACC: Adrenocortical Carcinoma</td>\n",
       "    </tr>\n",
       "    <tr>\n",
       "      <th>12269</th>\n",
       "      <td>8b846cc9-2c7b-4445-aa7e-c9b5af8beedd</td>\n",
       "      <td>TCGA-P6-A5OF-01A-11R-A29S-07</td>\n",
       "      <td>130807_UNC12-SN629_0325_BD2BD7ACXX_TTAGGC_L008_2.fastq</td>\n",
       "      <td>https://storage.cloud.google.com/isb-cgc-open/tcga-qc/ACC/RNA/RNA-Seq/UNC-LCCC/ILLUMINA/8b846cc9-2c7b-4445-aa7e-c9b5af8beedd-130807_UNC12-SN629_0325_BD2BD7ACXX_TTAGGC_L008_2_fastqc.html</td>\n",
       "      <td>https://storage.cloud.google.com/isb-cgc-open/tcga-qc/ACC/RNA/RNA-Seq/UNC-LCCC/ILLUMINA/8b846cc9-2c7b-4445-aa7e-c9b5af8beedd-130807_UNC12-SN629_0325_BD2BD7ACXX_TTAGGC_L008_2_fastqc.zip</td>\n",
       "      <td>pass</td>\n",
       "      <td>72562760</td>\n",
       "      <td>0</td>\n",
       "      <td>48</td>\n",
       "      <td>48</td>\n",
       "      <td>1</td>\n",
       "      <td>49</td>\n",
       "      <td>pass</td>\n",
       "      <td>fail</td>\n",
       "      <td>39.669957</td>\n",
       "      <td>pass</td>\n",
       "      <td>pass</td>\n",
       "      <td>fail</td>\n",
       "      <td>TCGA</td>\n",
       "      <td>TCGA-P6-A5OF-01A-11R-A29S-07</td>\n",
       "      <td>ACC</td>\n",
       "      <td>ADRENOCORTICAL CARCINOMA</td>\n",
       "      <td>TP</td>\n",
       "      <td>Primary solid Tumor</td>\n",
       "      <td>RNA</td>\n",
       "      <td>RNA-Seq</td>\n",
       "      <td>UNC-LCCC</td>\n",
       "      <td>NaN</td>\n",
       "      <td>ILLUMINA</td>\n",
       "      <td>Illumina</td>\n",
       "      <td>unaligned</td>\n",
       "      <td>UNCID_2202571.ca5f547a-8ec9-4436-9878-1f1cab2fa329.130807_UNC12-SN629_0325_BD2BD7ACXX_8_TTAGGC.tar.gz</td>\n",
       "      <td>6.513721e+09</td>\n",
       "      <td>b662e7d30ed31b4e9b815bf074dd0d63</td>\n",
       "      <td>8b846cc9-2c7b-4445-aa7e-c9b5af8beedd</td>\n",
       "      <td>ca5f547a-8ec9-4436-9878-1f1cab2fa329</td>\n",
       "      <td>888a7158-2319-4563-849b-573705c72ab7</td>\n",
       "      <td>42e0c347-e8d1-4490-a6bb-8a43e5a21013</td>\n",
       "      <td>P6</td>\n",
       "      <td>NaN</td>\n",
       "      <td>2013-09-25</td>\n",
       "      <td>2013-09-25</td>\n",
       "      <td>2013-09-25</td>\n",
       "      <td>Live</td>\n",
       "      <td>01</td>\n",
       "      <td>R</td>\n",
       "      <td>Illumina HiSeq 2000</td>\n",
       "      <td>fasta</td>\n",
       "      <td>NaN</td>\n",
       "      <td>NaN</td>\n",
       "      <td>NaN</td>\n",
       "      <td>NaN</td>\n",
       "      <td>NaN</td>\n",
       "      <td>NaN</td>\n",
       "      <td>NaN</td>\n",
       "      <td>8b846cc9-2c7b-4445-aa7e-c9b5af8beedd</td>\n",
       "      <td>ca5f547a-8ec9-4436-9878-1f1cab2fa329</td>\n",
       "      <td>gs://5aa919de-0aa0-43ec-9ec3-288481102b6d/tcga/ACC/RNA/RNA-Seq/UNC-LCCC/ILLUMINA/UNCID_2202571.ca5f547a-8ec9-4436-9878-1f1cab2fa329.130807_UNC12-SN629_0325_BD2BD7ACXX_8_TTAGGC.tar.gz</td>\n",
       "      <td>6513721325</td>\n",
       "      <td>6.1GB</td>\n",
       "      <td>ACC: Adrenocortical Carcinoma</td>\n",
       "    </tr>\n",
       "  </tbody>\n",
       "</table>\n",
       "</div>"
      ],
      "text/plain": [
       "                           CGHub_analysisID                AliquotBarcode                                           fastqFilename  \\\n",
       "12268  8b846cc9-2c7b-4445-aa7e-c9b5af8beedd  TCGA-P6-A5OF-01A-11R-A29S-07  130807_UNC12-SN629_0325_BD2BD7ACXX_TTAGGC_L008_1.fastq   \n",
       "12269  8b846cc9-2c7b-4445-aa7e-c9b5af8beedd  TCGA-P6-A5OF-01A-11R-A29S-07  130807_UNC12-SN629_0325_BD2BD7ACXX_TTAGGC_L008_2.fastq   \n",
       "\n",
       "                                                                                                                                                                                 FastQC_html_url  \\\n",
       "12268  https://storage.cloud.google.com/isb-cgc-open/tcga-qc/ACC/RNA/RNA-Seq/UNC-LCCC/ILLUMINA/8b846cc9-2c7b-4445-aa7e-c9b5af8beedd-130807_UNC12-SN629_0325_BD2BD7ACXX_TTAGGC_L008_1_fastqc.html   \n",
       "12269  https://storage.cloud.google.com/isb-cgc-open/tcga-qc/ACC/RNA/RNA-Seq/UNC-LCCC/ILLUMINA/8b846cc9-2c7b-4445-aa7e-c9b5af8beedd-130807_UNC12-SN629_0325_BD2BD7ACXX_TTAGGC_L008_2_fastqc.html   \n",
       "\n",
       "                                                                                                                                                                                 FastQC_zip_url BasicStats  numTotalSeq  numPoorSeq  minLength  maxLength  delLength  pctGC SeqLenDist SeqDupLev  \\\n",
       "12268  https://storage.cloud.google.com/isb-cgc-open/tcga-qc/ACC/RNA/RNA-Seq/UNC-LCCC/ILLUMINA/8b846cc9-2c7b-4445-aa7e-c9b5af8beedd-130807_UNC12-SN629_0325_BD2BD7ACXX_TTAGGC_L008_1_fastqc.zip  pass       72562760     0           48         48         1          49     pass       fail       \n",
       "12269  https://storage.cloud.google.com/isb-cgc-open/tcga-qc/ACC/RNA/RNA-Seq/UNC-LCCC/ILLUMINA/8b846cc9-2c7b-4445-aa7e-c9b5af8beedd-130807_UNC12-SN629_0325_BD2BD7ACXX_TTAGGC_L008_2_fastqc.zip  pass       72562760     0           48         48         1          49     pass       fail       \n",
       "\n",
       "       Total_Dedup_Pct OverrepSeq AdaptCont KmerCont study                       barcode disease              disease_name sample_type     sample_type_name analyte_type library_type    center  center_name  platform platform_name   assembly  \\\n",
       "12268  38.184442        warn       pass      fail     TCGA  TCGA-P6-A5OF-01A-11R-A29S-07  ACC     ADRENOCORTICAL CARCINOMA  TP          Primary solid Tumor  RNA          RNA-Seq      UNC-LCCC NaN           ILLUMINA  Illumina      unaligned   \n",
       "12269  39.669957        pass       pass      fail     TCGA  TCGA-P6-A5OF-01A-11R-A29S-07  ACC     ADRENOCORTICAL CARCINOMA  TP          Primary solid Tumor  RNA          RNA-Seq      UNC-LCCC NaN           ILLUMINA  Illumina      unaligned   \n",
       "\n",
       "                                                                                                    filename    files_size                          checksum                           analysis_id                            aliquot_id                        participant_id  \\\n",
       "12268  UNCID_2202571.ca5f547a-8ec9-4436-9878-1f1cab2fa329.130807_UNC12-SN629_0325_BD2BD7ACXX_8_TTAGGC.tar.gz  6.513721e+09  b662e7d30ed31b4e9b815bf074dd0d63  8b846cc9-2c7b-4445-aa7e-c9b5af8beedd  ca5f547a-8ec9-4436-9878-1f1cab2fa329  888a7158-2319-4563-849b-573705c72ab7   \n",
       "12269  UNCID_2202571.ca5f547a-8ec9-4436-9878-1f1cab2fa329.130807_UNC12-SN629_0325_BD2BD7ACXX_8_TTAGGC.tar.gz  6.513721e+09  b662e7d30ed31b4e9b815bf074dd0d63  8b846cc9-2c7b-4445-aa7e-c9b5af8beedd  ca5f547a-8ec9-4436-9878-1f1cab2fa329  888a7158-2319-4563-849b-573705c72ab7   \n",
       "\n",
       "                                  sample_id tss_id sample_accession   published    uploaded    modified state sample_type_code analyte_type_code   platform_full_name file_type reason reagent_vendor reagent_name catalog_number is_custom target_file_url probe_file_url  \\\n",
       "12268  42e0c347-e8d1-4490-a6bb-8a43e5a21013  P6     NaN              2013-09-25  2013-09-25  2013-09-25  Live  01               R                 Illumina HiSeq 2000  fasta     NaN    NaN            NaN          NaN            NaN       NaN             NaN             \n",
       "12269  42e0c347-e8d1-4490-a6bb-8a43e5a21013  P6     NaN              2013-09-25  2013-09-25  2013-09-25  Live  01               R                 Illumina HiSeq 2000  fasta     NaN    NaN            NaN          NaN            NaN       NaN             NaN             \n",
       "\n",
       "                            CGHubAnalysisID                           AliquotUUID                                                                                                                                                                               GCSobject  objectSizeBytes pretty_size  \\\n",
       "12268  8b846cc9-2c7b-4445-aa7e-c9b5af8beedd  ca5f547a-8ec9-4436-9878-1f1cab2fa329  gs://5aa919de-0aa0-43ec-9ec3-288481102b6d/tcga/ACC/RNA/RNA-Seq/UNC-LCCC/ILLUMINA/UNCID_2202571.ca5f547a-8ec9-4436-9878-1f1cab2fa329.130807_UNC12-SN629_0325_BD2BD7ACXX_8_TTAGGC.tar.gz  6513721325       6.1GB        \n",
       "12269  8b846cc9-2c7b-4445-aa7e-c9b5af8beedd  ca5f547a-8ec9-4436-9878-1f1cab2fa329  gs://5aa919de-0aa0-43ec-9ec3-288481102b6d/tcga/ACC/RNA/RNA-Seq/UNC-LCCC/ILLUMINA/UNCID_2202571.ca5f547a-8ec9-4436-9878-1f1cab2fa329.130807_UNC12-SN629_0325_BD2BD7ACXX_8_TTAGGC.tar.gz  6513721325       6.1GB        \n",
       "\n",
       "                 handy_disease_names  \n",
       "12268  ACC: Adrenocortical Carcinoma  \n",
       "12269  ACC: Adrenocortical Carcinoma  "
      ]
     },
     "execution_count": 39,
     "metadata": {},
     "output_type": "execute_result"
    }
   ],
   "source": [
    "ndf[ndf.filename.str.contains('UNCID_2202571.ca5f547a-8ec9-4436-9878-1f1cab2fa329.130807_UNC12-SN629_0325_BD2BD7ACXX_8_TTAGGC.tar.gz')]"
   ]
  },
  {
   "cell_type": "code",
   "execution_count": null,
   "metadata": {
    "collapsed": true
   },
   "outputs": [],
   "source": []
  },
  {
   "cell_type": "markdown",
   "metadata": {},
   "source": [
    "### Some verification"
   ]
  },
  {
   "cell_type": "code",
   "execution_count": 44,
   "metadata": {
    "collapsed": false
   },
   "outputs": [
    {
     "data": {
      "text/plain": [
       "TCGA    22408\n",
       "Name: study, dtype: int64"
      ]
     },
     "metadata": {},
     "output_type": "display_data"
    },
    {
     "data": {
      "text/plain": [
       "RNA-Seq    22408\n",
       "Name: library_type, dtype: int64"
      ]
     },
     "metadata": {},
     "output_type": "display_data"
    },
    {
     "data": {
      "text/plain": [
       "Live    22408\n",
       "Name: state, dtype: int64"
      ]
     },
     "metadata": {},
     "output_type": "display_data"
    },
    {
     "data": {
      "text/plain": [
       "fasta    22408\n",
       "Name: file_type, dtype: int64"
      ]
     },
     "metadata": {},
     "output_type": "display_data"
    }
   ],
   "source": [
    "for col in ['study', 'library_type', 'state', 'file_type']:\n",
    "    display(ndf[col].value_counts())\n",
    "    print"
   ]
  },
  {
   "cell_type": "markdown",
   "metadata": {},
   "source": [
    "#### Drop analysis ids with inconsistent read length"
   ]
  },
  {
   "cell_type": "code",
   "execution_count": 45,
   "metadata": {
    "collapsed": false,
    "scrolled": false
   },
   "outputs": [
    {
     "data": {
      "text/plain": [
       "1     22407\n",
       "45    1    \n",
       "Name: delLength, dtype: int64"
      ]
     },
     "execution_count": 45,
     "metadata": {},
     "output_type": "execute_result"
    }
   ],
   "source": [
    "ndf.delLength.value_counts()"
   ]
  },
  {
   "cell_type": "code",
   "execution_count": 46,
   "metadata": {
    "collapsed": false,
    "scrolled": true
   },
   "outputs": [
    {
     "data": {
      "text/html": [
       "<div>\n",
       "<style>\n",
       "    .dataframe thead tr:only-child th {\n",
       "        text-align: right;\n",
       "    }\n",
       "\n",
       "    .dataframe thead th {\n",
       "        text-align: left;\n",
       "    }\n",
       "\n",
       "    .dataframe tbody tr th {\n",
       "        vertical-align: top;\n",
       "    }\n",
       "</style>\n",
       "<table border=\"1\" class=\"dataframe\">\n",
       "  <thead>\n",
       "    <tr style=\"text-align: right;\">\n",
       "      <th></th>\n",
       "      <th>CGHub_analysisID</th>\n",
       "      <th>AliquotBarcode</th>\n",
       "      <th>fastqFilename</th>\n",
       "      <th>FastQC_html_url</th>\n",
       "      <th>FastQC_zip_url</th>\n",
       "      <th>BasicStats</th>\n",
       "      <th>numTotalSeq</th>\n",
       "      <th>numPoorSeq</th>\n",
       "      <th>minLength</th>\n",
       "      <th>maxLength</th>\n",
       "      <th>delLength</th>\n",
       "      <th>pctGC</th>\n",
       "      <th>SeqLenDist</th>\n",
       "      <th>SeqDupLev</th>\n",
       "      <th>Total_Dedup_Pct</th>\n",
       "      <th>OverrepSeq</th>\n",
       "      <th>AdaptCont</th>\n",
       "      <th>KmerCont</th>\n",
       "      <th>study</th>\n",
       "      <th>barcode</th>\n",
       "      <th>disease</th>\n",
       "      <th>disease_name</th>\n",
       "      <th>sample_type</th>\n",
       "      <th>sample_type_name</th>\n",
       "      <th>analyte_type</th>\n",
       "      <th>library_type</th>\n",
       "      <th>center</th>\n",
       "      <th>center_name</th>\n",
       "      <th>platform</th>\n",
       "      <th>platform_name</th>\n",
       "      <th>assembly</th>\n",
       "      <th>filename</th>\n",
       "      <th>files_size</th>\n",
       "      <th>checksum</th>\n",
       "      <th>analysis_id</th>\n",
       "      <th>aliquot_id</th>\n",
       "      <th>participant_id</th>\n",
       "      <th>sample_id</th>\n",
       "      <th>tss_id</th>\n",
       "      <th>sample_accession</th>\n",
       "      <th>published</th>\n",
       "      <th>uploaded</th>\n",
       "      <th>modified</th>\n",
       "      <th>state</th>\n",
       "      <th>sample_type_code</th>\n",
       "      <th>analyte_type_code</th>\n",
       "      <th>platform_full_name</th>\n",
       "      <th>file_type</th>\n",
       "      <th>reason</th>\n",
       "      <th>reagent_vendor</th>\n",
       "      <th>reagent_name</th>\n",
       "      <th>catalog_number</th>\n",
       "      <th>is_custom</th>\n",
       "      <th>target_file_url</th>\n",
       "      <th>probe_file_url</th>\n",
       "      <th>CGHubAnalysisID</th>\n",
       "      <th>AliquotUUID</th>\n",
       "      <th>GCSobject</th>\n",
       "      <th>objectSizeBytes</th>\n",
       "      <th>pretty_size</th>\n",
       "      <th>handy_disease_names</th>\n",
       "    </tr>\n",
       "  </thead>\n",
       "  <tbody>\n",
       "    <tr>\n",
       "      <th>3462</th>\n",
       "      <td>261c8bb3-0c4e-4cfd-bcaa-c0d156cf2990</td>\n",
       "      <td>TCGA-AB-2909-03A-01T-0744-13</td>\n",
       "      <td>61YETAAXX_1_ATCACG_2.fastq.gz</td>\n",
       "      <td>https://storage.cloud.google.com/isb-cgc-open/tcga-qc/LAML/Total_RNA/RNA-Seq/BCCAGSC/ILLUMINA/261c8bb3-0c4e-4cfd-bcaa-c0d156cf2990-61YETAAXX_1_ATCACG_2_fastqc.html</td>\n",
       "      <td>https://storage.cloud.google.com/isb-cgc-open/tcga-qc/LAML/Total_RNA/RNA-Seq/BCCAGSC/ILLUMINA/261c8bb3-0c4e-4cfd-bcaa-c0d156cf2990-61YETAAXX_1_ATCACG_2_fastqc.zip</td>\n",
       "      <td>pass</td>\n",
       "      <td>83121778</td>\n",
       "      <td>0</td>\n",
       "      <td>6</td>\n",
       "      <td>50</td>\n",
       "      <td>45</td>\n",
       "      <td>47</td>\n",
       "      <td>warn</td>\n",
       "      <td>fail</td>\n",
       "      <td>0.410745</td>\n",
       "      <td>fail</td>\n",
       "      <td>pass</td>\n",
       "      <td>warn</td>\n",
       "      <td>TCGA</td>\n",
       "      <td>TCGA-AB-2909-03A-01T-0744-13</td>\n",
       "      <td>LAML</td>\n",
       "      <td>ACUTE MYELOID LEUKEMIA</td>\n",
       "      <td>TB</td>\n",
       "      <td>Primary Blood Derived Cancer - Peripheral Blood</td>\n",
       "      <td>Total RNA</td>\n",
       "      <td>RNA-Seq</td>\n",
       "      <td>BCCAGSC</td>\n",
       "      <td>NaN</td>\n",
       "      <td>ILLUMINA</td>\n",
       "      <td>Illumina</td>\n",
       "      <td>unaligned</td>\n",
       "      <td>TCGA-AB-2909-03A-01T-0744-13_rnaseq_fastq.tar</td>\n",
       "      <td>6.494423e+09</td>\n",
       "      <td>6924e520152b16158c3ea24ef20550af</td>\n",
       "      <td>261c8bb3-0c4e-4cfd-bcaa-c0d156cf2990</td>\n",
       "      <td>77952b61-6b89-4285-9443-a41246a7d8f2</td>\n",
       "      <td>ab60901b-d2ad-401a-9742-52df35ce1de0</td>\n",
       "      <td>40168b34-bbfe-4ee2-b7b5-2e33fbf64a18</td>\n",
       "      <td>AB</td>\n",
       "      <td>SRS131131</td>\n",
       "      <td>2014-05-13</td>\n",
       "      <td>2014-05-13</td>\n",
       "      <td>2014-05-13</td>\n",
       "      <td>Live</td>\n",
       "      <td>03</td>\n",
       "      <td>T</td>\n",
       "      <td>Illumina Genome Analyzer IIx</td>\n",
       "      <td>fasta</td>\n",
       "      <td>NaN</td>\n",
       "      <td>NaN</td>\n",
       "      <td>NaN</td>\n",
       "      <td>NaN</td>\n",
       "      <td>NaN</td>\n",
       "      <td>NaN</td>\n",
       "      <td>NaN</td>\n",
       "      <td>261c8bb3-0c4e-4cfd-bcaa-c0d156cf2990</td>\n",
       "      <td>77952b61-6b89-4285-9443-a41246a7d8f2</td>\n",
       "      <td>gs://5aa919de-0aa0-43ec-9ec3-288481102b6d/tcga/LAML/Total_RNA/RNA-Seq/BCCAGSC/ILLUMINA/TCGA-AB-2909-03A-01T-0744-13_rnaseq_fastq.tar</td>\n",
       "      <td>6494423040</td>\n",
       "      <td>6.0GB</td>\n",
       "      <td>LAML: Acute Myeloid Leukemia</td>\n",
       "    </tr>\n",
       "  </tbody>\n",
       "</table>\n",
       "</div>"
      ],
      "text/plain": [
       "                          CGHub_analysisID                AliquotBarcode                  fastqFilename                                                                                                                                                      FastQC_html_url  \\\n",
       "3462  261c8bb3-0c4e-4cfd-bcaa-c0d156cf2990  TCGA-AB-2909-03A-01T-0744-13  61YETAAXX_1_ATCACG_2.fastq.gz  https://storage.cloud.google.com/isb-cgc-open/tcga-qc/LAML/Total_RNA/RNA-Seq/BCCAGSC/ILLUMINA/261c8bb3-0c4e-4cfd-bcaa-c0d156cf2990-61YETAAXX_1_ATCACG_2_fastqc.html   \n",
       "\n",
       "                                                                                                                                                          FastQC_zip_url BasicStats  numTotalSeq  numPoorSeq  minLength  maxLength  delLength  pctGC SeqLenDist SeqDupLev  Total_Dedup_Pct OverrepSeq  \\\n",
       "3462  https://storage.cloud.google.com/isb-cgc-open/tcga-qc/LAML/Total_RNA/RNA-Seq/BCCAGSC/ILLUMINA/261c8bb3-0c4e-4cfd-bcaa-c0d156cf2990-61YETAAXX_1_ATCACG_2_fastqc.zip  pass       83121778     0           6          50         45         47     warn       fail      0.410745         fail        \n",
       "\n",
       "     AdaptCont KmerCont study                       barcode disease            disease_name sample_type                                 sample_type_name analyte_type library_type   center  center_name  platform platform_name   assembly                                       filename    files_size  \\\n",
       "3462  pass      warn     TCGA  TCGA-AB-2909-03A-01T-0744-13  LAML    ACUTE MYELOID LEUKEMIA  TB          Primary Blood Derived Cancer - Peripheral Blood  Total RNA    RNA-Seq      BCCAGSC NaN           ILLUMINA  Illumina      unaligned  TCGA-AB-2909-03A-01T-0744-13_rnaseq_fastq.tar  6.494423e+09   \n",
       "\n",
       "                              checksum                           analysis_id                            aliquot_id                        participant_id                             sample_id tss_id sample_accession   published    uploaded    modified state sample_type_code analyte_type_code  \\\n",
       "3462  6924e520152b16158c3ea24ef20550af  261c8bb3-0c4e-4cfd-bcaa-c0d156cf2990  77952b61-6b89-4285-9443-a41246a7d8f2  ab60901b-d2ad-401a-9742-52df35ce1de0  40168b34-bbfe-4ee2-b7b5-2e33fbf64a18  AB     SRS131131        2014-05-13  2014-05-13  2014-05-13  Live  03               T                  \n",
       "\n",
       "                platform_full_name file_type reason reagent_vendor reagent_name catalog_number is_custom target_file_url probe_file_url                       CGHubAnalysisID                           AliquotUUID  \\\n",
       "3462  Illumina Genome Analyzer IIx  fasta     NaN    NaN            NaN          NaN            NaN       NaN             NaN            261c8bb3-0c4e-4cfd-bcaa-c0d156cf2990  77952b61-6b89-4285-9443-a41246a7d8f2   \n",
       "\n",
       "                                                                                                                                 GCSobject  objectSizeBytes pretty_size           handy_disease_names  \n",
       "3462  gs://5aa919de-0aa0-43ec-9ec3-288481102b6d/tcga/LAML/Total_RNA/RNA-Seq/BCCAGSC/ILLUMINA/TCGA-AB-2909-03A-01T-0744-13_rnaseq_fastq.tar  6494423040       6.0GB       LAML: Acute Myeloid Leukemia  "
      ]
     },
     "execution_count": 46,
     "metadata": {},
     "output_type": "execute_result"
    }
   ],
   "source": [
    "ndf[ndf.delLength == 45]"
   ]
  },
  {
   "cell_type": "markdown",
   "metadata": {},
   "source": [
    "#### Take a look at its odd read length distribution"
   ]
  },
  {
   "cell_type": "code",
   "execution_count": 47,
   "metadata": {
    "collapsed": false
   },
   "outputs": [
    {
     "data": {
      "text/html": [
       "<img src=\"data:image/png;base64,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\"/>"
      ],
      "text/plain": [
       "<IPython.core.display.Image object>"
      ]
     },
     "execution_count": 47,
     "metadata": {},
     "output_type": "execute_result"
    }
   ],
   "source": [
    "from IPython.display import Image\n",
    "from IPython.core.display import HTML \n",
    "Image(url= \"data:image/png;base64,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\")"
   ]
  },
  {
   "cell_type": "code",
   "execution_count": 48,
   "metadata": {
    "collapsed": false
   },
   "outputs": [
    {
     "data": {
      "text/html": [
       "<div>\n",
       "<style>\n",
       "    .dataframe thead tr:only-child th {\n",
       "        text-align: right;\n",
       "    }\n",
       "\n",
       "    .dataframe thead th {\n",
       "        text-align: left;\n",
       "    }\n",
       "\n",
       "    .dataframe tbody tr th {\n",
       "        vertical-align: top;\n",
       "    }\n",
       "</style>\n",
       "<table border=\"1\" class=\"dataframe\">\n",
       "  <thead>\n",
       "    <tr style=\"text-align: right;\">\n",
       "      <th></th>\n",
       "      <th>CGHub_analysisID</th>\n",
       "      <th>AliquotBarcode</th>\n",
       "      <th>fastqFilename</th>\n",
       "      <th>FastQC_html_url</th>\n",
       "      <th>FastQC_zip_url</th>\n",
       "      <th>BasicStats</th>\n",
       "      <th>numTotalSeq</th>\n",
       "      <th>numPoorSeq</th>\n",
       "      <th>minLength</th>\n",
       "      <th>maxLength</th>\n",
       "      <th>delLength</th>\n",
       "      <th>pctGC</th>\n",
       "      <th>SeqLenDist</th>\n",
       "      <th>SeqDupLev</th>\n",
       "      <th>Total_Dedup_Pct</th>\n",
       "      <th>OverrepSeq</th>\n",
       "      <th>AdaptCont</th>\n",
       "      <th>KmerCont</th>\n",
       "      <th>study</th>\n",
       "      <th>barcode</th>\n",
       "      <th>disease</th>\n",
       "      <th>disease_name</th>\n",
       "      <th>sample_type</th>\n",
       "      <th>sample_type_name</th>\n",
       "      <th>analyte_type</th>\n",
       "      <th>library_type</th>\n",
       "      <th>center</th>\n",
       "      <th>center_name</th>\n",
       "      <th>platform</th>\n",
       "      <th>platform_name</th>\n",
       "      <th>assembly</th>\n",
       "      <th>filename</th>\n",
       "      <th>files_size</th>\n",
       "      <th>checksum</th>\n",
       "      <th>analysis_id</th>\n",
       "      <th>aliquot_id</th>\n",
       "      <th>participant_id</th>\n",
       "      <th>sample_id</th>\n",
       "      <th>tss_id</th>\n",
       "      <th>sample_accession</th>\n",
       "      <th>published</th>\n",
       "      <th>uploaded</th>\n",
       "      <th>modified</th>\n",
       "      <th>state</th>\n",
       "      <th>sample_type_code</th>\n",
       "      <th>analyte_type_code</th>\n",
       "      <th>platform_full_name</th>\n",
       "      <th>file_type</th>\n",
       "      <th>reason</th>\n",
       "      <th>reagent_vendor</th>\n",
       "      <th>reagent_name</th>\n",
       "      <th>catalog_number</th>\n",
       "      <th>is_custom</th>\n",
       "      <th>target_file_url</th>\n",
       "      <th>probe_file_url</th>\n",
       "      <th>CGHubAnalysisID</th>\n",
       "      <th>AliquotUUID</th>\n",
       "      <th>GCSobject</th>\n",
       "      <th>objectSizeBytes</th>\n",
       "      <th>pretty_size</th>\n",
       "      <th>handy_disease_names</th>\n",
       "    </tr>\n",
       "  </thead>\n",
       "  <tbody>\n",
       "    <tr>\n",
       "      <th>3461</th>\n",
       "      <td>261c8bb3-0c4e-4cfd-bcaa-c0d156cf2990</td>\n",
       "      <td>TCGA-AB-2909-03A-01T-0744-13</td>\n",
       "      <td>61YETAAXX_1_ATCACG_1.fastq.gz</td>\n",
       "      <td>https://storage.cloud.google.com/isb-cgc-open/tcga-qc/LAML/Total_RNA/RNA-Seq/BCCAGSC/ILLUMINA/261c8bb3-0c4e-4cfd-bcaa-c0d156cf2990-61YETAAXX_1_ATCACG_1_fastqc.html</td>\n",
       "      <td>https://storage.cloud.google.com/isb-cgc-open/tcga-qc/LAML/Total_RNA/RNA-Seq/BCCAGSC/ILLUMINA/261c8bb3-0c4e-4cfd-bcaa-c0d156cf2990-61YETAAXX_1_ATCACG_1_fastqc.zip</td>\n",
       "      <td>pass</td>\n",
       "      <td>41560889</td>\n",
       "      <td>0</td>\n",
       "      <td>50</td>\n",
       "      <td>50</td>\n",
       "      <td>1</td>\n",
       "      <td>47</td>\n",
       "      <td>pass</td>\n",
       "      <td>pass</td>\n",
       "      <td>80.327895</td>\n",
       "      <td>warn</td>\n",
       "      <td>pass</td>\n",
       "      <td>warn</td>\n",
       "      <td>TCGA</td>\n",
       "      <td>TCGA-AB-2909-03A-01T-0744-13</td>\n",
       "      <td>LAML</td>\n",
       "      <td>ACUTE MYELOID LEUKEMIA</td>\n",
       "      <td>TB</td>\n",
       "      <td>Primary Blood Derived Cancer - Peripheral Blood</td>\n",
       "      <td>Total RNA</td>\n",
       "      <td>RNA-Seq</td>\n",
       "      <td>BCCAGSC</td>\n",
       "      <td>NaN</td>\n",
       "      <td>ILLUMINA</td>\n",
       "      <td>Illumina</td>\n",
       "      <td>unaligned</td>\n",
       "      <td>TCGA-AB-2909-03A-01T-0744-13_rnaseq_fastq.tar</td>\n",
       "      <td>6.494423e+09</td>\n",
       "      <td>6924e520152b16158c3ea24ef20550af</td>\n",
       "      <td>261c8bb3-0c4e-4cfd-bcaa-c0d156cf2990</td>\n",
       "      <td>77952b61-6b89-4285-9443-a41246a7d8f2</td>\n",
       "      <td>ab60901b-d2ad-401a-9742-52df35ce1de0</td>\n",
       "      <td>40168b34-bbfe-4ee2-b7b5-2e33fbf64a18</td>\n",
       "      <td>AB</td>\n",
       "      <td>SRS131131</td>\n",
       "      <td>2014-05-13</td>\n",
       "      <td>2014-05-13</td>\n",
       "      <td>2014-05-13</td>\n",
       "      <td>Live</td>\n",
       "      <td>03</td>\n",
       "      <td>T</td>\n",
       "      <td>Illumina Genome Analyzer IIx</td>\n",
       "      <td>fasta</td>\n",
       "      <td>NaN</td>\n",
       "      <td>NaN</td>\n",
       "      <td>NaN</td>\n",
       "      <td>NaN</td>\n",
       "      <td>NaN</td>\n",
       "      <td>NaN</td>\n",
       "      <td>NaN</td>\n",
       "      <td>261c8bb3-0c4e-4cfd-bcaa-c0d156cf2990</td>\n",
       "      <td>77952b61-6b89-4285-9443-a41246a7d8f2</td>\n",
       "      <td>gs://5aa919de-0aa0-43ec-9ec3-288481102b6d/tcga/LAML/Total_RNA/RNA-Seq/BCCAGSC/ILLUMINA/TCGA-AB-2909-03A-01T-0744-13_rnaseq_fastq.tar</td>\n",
       "      <td>6494423040</td>\n",
       "      <td>6.0GB</td>\n",
       "      <td>LAML: Acute Myeloid Leukemia</td>\n",
       "    </tr>\n",
       "    <tr>\n",
       "      <th>3462</th>\n",
       "      <td>261c8bb3-0c4e-4cfd-bcaa-c0d156cf2990</td>\n",
       "      <td>TCGA-AB-2909-03A-01T-0744-13</td>\n",
       "      <td>61YETAAXX_1_ATCACG_2.fastq.gz</td>\n",
       "      <td>https://storage.cloud.google.com/isb-cgc-open/tcga-qc/LAML/Total_RNA/RNA-Seq/BCCAGSC/ILLUMINA/261c8bb3-0c4e-4cfd-bcaa-c0d156cf2990-61YETAAXX_1_ATCACG_2_fastqc.html</td>\n",
       "      <td>https://storage.cloud.google.com/isb-cgc-open/tcga-qc/LAML/Total_RNA/RNA-Seq/BCCAGSC/ILLUMINA/261c8bb3-0c4e-4cfd-bcaa-c0d156cf2990-61YETAAXX_1_ATCACG_2_fastqc.zip</td>\n",
       "      <td>pass</td>\n",
       "      <td>83121778</td>\n",
       "      <td>0</td>\n",
       "      <td>6</td>\n",
       "      <td>50</td>\n",
       "      <td>45</td>\n",
       "      <td>47</td>\n",
       "      <td>warn</td>\n",
       "      <td>fail</td>\n",
       "      <td>0.410745</td>\n",
       "      <td>fail</td>\n",
       "      <td>pass</td>\n",
       "      <td>warn</td>\n",
       "      <td>TCGA</td>\n",
       "      <td>TCGA-AB-2909-03A-01T-0744-13</td>\n",
       "      <td>LAML</td>\n",
       "      <td>ACUTE MYELOID LEUKEMIA</td>\n",
       "      <td>TB</td>\n",
       "      <td>Primary Blood Derived Cancer - Peripheral Blood</td>\n",
       "      <td>Total RNA</td>\n",
       "      <td>RNA-Seq</td>\n",
       "      <td>BCCAGSC</td>\n",
       "      <td>NaN</td>\n",
       "      <td>ILLUMINA</td>\n",
       "      <td>Illumina</td>\n",
       "      <td>unaligned</td>\n",
       "      <td>TCGA-AB-2909-03A-01T-0744-13_rnaseq_fastq.tar</td>\n",
       "      <td>6.494423e+09</td>\n",
       "      <td>6924e520152b16158c3ea24ef20550af</td>\n",
       "      <td>261c8bb3-0c4e-4cfd-bcaa-c0d156cf2990</td>\n",
       "      <td>77952b61-6b89-4285-9443-a41246a7d8f2</td>\n",
       "      <td>ab60901b-d2ad-401a-9742-52df35ce1de0</td>\n",
       "      <td>40168b34-bbfe-4ee2-b7b5-2e33fbf64a18</td>\n",
       "      <td>AB</td>\n",
       "      <td>SRS131131</td>\n",
       "      <td>2014-05-13</td>\n",
       "      <td>2014-05-13</td>\n",
       "      <td>2014-05-13</td>\n",
       "      <td>Live</td>\n",
       "      <td>03</td>\n",
       "      <td>T</td>\n",
       "      <td>Illumina Genome Analyzer IIx</td>\n",
       "      <td>fasta</td>\n",
       "      <td>NaN</td>\n",
       "      <td>NaN</td>\n",
       "      <td>NaN</td>\n",
       "      <td>NaN</td>\n",
       "      <td>NaN</td>\n",
       "      <td>NaN</td>\n",
       "      <td>NaN</td>\n",
       "      <td>261c8bb3-0c4e-4cfd-bcaa-c0d156cf2990</td>\n",
       "      <td>77952b61-6b89-4285-9443-a41246a7d8f2</td>\n",
       "      <td>gs://5aa919de-0aa0-43ec-9ec3-288481102b6d/tcga/LAML/Total_RNA/RNA-Seq/BCCAGSC/ILLUMINA/TCGA-AB-2909-03A-01T-0744-13_rnaseq_fastq.tar</td>\n",
       "      <td>6494423040</td>\n",
       "      <td>6.0GB</td>\n",
       "      <td>LAML: Acute Myeloid Leukemia</td>\n",
       "    </tr>\n",
       "    <tr>\n",
       "      <th>3463</th>\n",
       "      <td>261c8bb3-0c4e-4cfd-bcaa-c0d156cf2990</td>\n",
       "      <td>TCGA-AB-2909-03A-01T-0744-13</td>\n",
       "      <td>622DDAAXX_1_1.fastq.gz</td>\n",
       "      <td>https://storage.cloud.google.com/isb-cgc-open/tcga-qc/LAML/Total_RNA/RNA-Seq/BCCAGSC/ILLUMINA/261c8bb3-0c4e-4cfd-bcaa-c0d156cf2990-622DDAAXX_1_1_fastqc.html</td>\n",
       "      <td>https://storage.cloud.google.com/isb-cgc-open/tcga-qc/LAML/Total_RNA/RNA-Seq/BCCAGSC/ILLUMINA/261c8bb3-0c4e-4cfd-bcaa-c0d156cf2990-622DDAAXX_1_1_fastqc.zip</td>\n",
       "      <td>pass</td>\n",
       "      <td>34582299</td>\n",
       "      <td>0</td>\n",
       "      <td>50</td>\n",
       "      <td>50</td>\n",
       "      <td>1</td>\n",
       "      <td>47</td>\n",
       "      <td>pass</td>\n",
       "      <td>pass</td>\n",
       "      <td>79.626184</td>\n",
       "      <td>warn</td>\n",
       "      <td>pass</td>\n",
       "      <td>fail</td>\n",
       "      <td>TCGA</td>\n",
       "      <td>TCGA-AB-2909-03A-01T-0744-13</td>\n",
       "      <td>LAML</td>\n",
       "      <td>ACUTE MYELOID LEUKEMIA</td>\n",
       "      <td>TB</td>\n",
       "      <td>Primary Blood Derived Cancer - Peripheral Blood</td>\n",
       "      <td>Total RNA</td>\n",
       "      <td>RNA-Seq</td>\n",
       "      <td>BCCAGSC</td>\n",
       "      <td>NaN</td>\n",
       "      <td>ILLUMINA</td>\n",
       "      <td>Illumina</td>\n",
       "      <td>unaligned</td>\n",
       "      <td>TCGA-AB-2909-03A-01T-0744-13_rnaseq_fastq.tar</td>\n",
       "      <td>6.494423e+09</td>\n",
       "      <td>6924e520152b16158c3ea24ef20550af</td>\n",
       "      <td>261c8bb3-0c4e-4cfd-bcaa-c0d156cf2990</td>\n",
       "      <td>77952b61-6b89-4285-9443-a41246a7d8f2</td>\n",
       "      <td>ab60901b-d2ad-401a-9742-52df35ce1de0</td>\n",
       "      <td>40168b34-bbfe-4ee2-b7b5-2e33fbf64a18</td>\n",
       "      <td>AB</td>\n",
       "      <td>SRS131131</td>\n",
       "      <td>2014-05-13</td>\n",
       "      <td>2014-05-13</td>\n",
       "      <td>2014-05-13</td>\n",
       "      <td>Live</td>\n",
       "      <td>03</td>\n",
       "      <td>T</td>\n",
       "      <td>Illumina Genome Analyzer IIx</td>\n",
       "      <td>fasta</td>\n",
       "      <td>NaN</td>\n",
       "      <td>NaN</td>\n",
       "      <td>NaN</td>\n",
       "      <td>NaN</td>\n",
       "      <td>NaN</td>\n",
       "      <td>NaN</td>\n",
       "      <td>NaN</td>\n",
       "      <td>261c8bb3-0c4e-4cfd-bcaa-c0d156cf2990</td>\n",
       "      <td>77952b61-6b89-4285-9443-a41246a7d8f2</td>\n",
       "      <td>gs://5aa919de-0aa0-43ec-9ec3-288481102b6d/tcga/LAML/Total_RNA/RNA-Seq/BCCAGSC/ILLUMINA/TCGA-AB-2909-03A-01T-0744-13_rnaseq_fastq.tar</td>\n",
       "      <td>6494423040</td>\n",
       "      <td>6.0GB</td>\n",
       "      <td>LAML: Acute Myeloid Leukemia</td>\n",
       "    </tr>\n",
       "    <tr>\n",
       "      <th>3464</th>\n",
       "      <td>261c8bb3-0c4e-4cfd-bcaa-c0d156cf2990</td>\n",
       "      <td>TCGA-AB-2909-03A-01T-0744-13</td>\n",
       "      <td>622DDAAXX_1_2.fastq.gz</td>\n",
       "      <td>https://storage.cloud.google.com/isb-cgc-open/tcga-qc/LAML/Total_RNA/RNA-Seq/BCCAGSC/ILLUMINA/261c8bb3-0c4e-4cfd-bcaa-c0d156cf2990-622DDAAXX_1_2_fastqc.html</td>\n",
       "      <td>https://storage.cloud.google.com/isb-cgc-open/tcga-qc/LAML/Total_RNA/RNA-Seq/BCCAGSC/ILLUMINA/261c8bb3-0c4e-4cfd-bcaa-c0d156cf2990-622DDAAXX_1_2_fastqc.zip</td>\n",
       "      <td>pass</td>\n",
       "      <td>34582299</td>\n",
       "      <td>0</td>\n",
       "      <td>50</td>\n",
       "      <td>50</td>\n",
       "      <td>1</td>\n",
       "      <td>47</td>\n",
       "      <td>pass</td>\n",
       "      <td>pass</td>\n",
       "      <td>83.822852</td>\n",
       "      <td>warn</td>\n",
       "      <td>pass</td>\n",
       "      <td>warn</td>\n",
       "      <td>TCGA</td>\n",
       "      <td>TCGA-AB-2909-03A-01T-0744-13</td>\n",
       "      <td>LAML</td>\n",
       "      <td>ACUTE MYELOID LEUKEMIA</td>\n",
       "      <td>TB</td>\n",
       "      <td>Primary Blood Derived Cancer - Peripheral Blood</td>\n",
       "      <td>Total RNA</td>\n",
       "      <td>RNA-Seq</td>\n",
       "      <td>BCCAGSC</td>\n",
       "      <td>NaN</td>\n",
       "      <td>ILLUMINA</td>\n",
       "      <td>Illumina</td>\n",
       "      <td>unaligned</td>\n",
       "      <td>TCGA-AB-2909-03A-01T-0744-13_rnaseq_fastq.tar</td>\n",
       "      <td>6.494423e+09</td>\n",
       "      <td>6924e520152b16158c3ea24ef20550af</td>\n",
       "      <td>261c8bb3-0c4e-4cfd-bcaa-c0d156cf2990</td>\n",
       "      <td>77952b61-6b89-4285-9443-a41246a7d8f2</td>\n",
       "      <td>ab60901b-d2ad-401a-9742-52df35ce1de0</td>\n",
       "      <td>40168b34-bbfe-4ee2-b7b5-2e33fbf64a18</td>\n",
       "      <td>AB</td>\n",
       "      <td>SRS131131</td>\n",
       "      <td>2014-05-13</td>\n",
       "      <td>2014-05-13</td>\n",
       "      <td>2014-05-13</td>\n",
       "      <td>Live</td>\n",
       "      <td>03</td>\n",
       "      <td>T</td>\n",
       "      <td>Illumina Genome Analyzer IIx</td>\n",
       "      <td>fasta</td>\n",
       "      <td>NaN</td>\n",
       "      <td>NaN</td>\n",
       "      <td>NaN</td>\n",
       "      <td>NaN</td>\n",
       "      <td>NaN</td>\n",
       "      <td>NaN</td>\n",
       "      <td>NaN</td>\n",
       "      <td>261c8bb3-0c4e-4cfd-bcaa-c0d156cf2990</td>\n",
       "      <td>77952b61-6b89-4285-9443-a41246a7d8f2</td>\n",
       "      <td>gs://5aa919de-0aa0-43ec-9ec3-288481102b6d/tcga/LAML/Total_RNA/RNA-Seq/BCCAGSC/ILLUMINA/TCGA-AB-2909-03A-01T-0744-13_rnaseq_fastq.tar</td>\n",
       "      <td>6494423040</td>\n",
       "      <td>6.0GB</td>\n",
       "      <td>LAML: Acute Myeloid Leukemia</td>\n",
       "    </tr>\n",
       "  </tbody>\n",
       "</table>\n",
       "</div>"
      ],
      "text/plain": [
       "                          CGHub_analysisID                AliquotBarcode                  fastqFilename                                                                                                                                                      FastQC_html_url  \\\n",
       "3461  261c8bb3-0c4e-4cfd-bcaa-c0d156cf2990  TCGA-AB-2909-03A-01T-0744-13  61YETAAXX_1_ATCACG_1.fastq.gz  https://storage.cloud.google.com/isb-cgc-open/tcga-qc/LAML/Total_RNA/RNA-Seq/BCCAGSC/ILLUMINA/261c8bb3-0c4e-4cfd-bcaa-c0d156cf2990-61YETAAXX_1_ATCACG_1_fastqc.html   \n",
       "3462  261c8bb3-0c4e-4cfd-bcaa-c0d156cf2990  TCGA-AB-2909-03A-01T-0744-13  61YETAAXX_1_ATCACG_2.fastq.gz  https://storage.cloud.google.com/isb-cgc-open/tcga-qc/LAML/Total_RNA/RNA-Seq/BCCAGSC/ILLUMINA/261c8bb3-0c4e-4cfd-bcaa-c0d156cf2990-61YETAAXX_1_ATCACG_2_fastqc.html   \n",
       "3463  261c8bb3-0c4e-4cfd-bcaa-c0d156cf2990  TCGA-AB-2909-03A-01T-0744-13  622DDAAXX_1_1.fastq.gz         https://storage.cloud.google.com/isb-cgc-open/tcga-qc/LAML/Total_RNA/RNA-Seq/BCCAGSC/ILLUMINA/261c8bb3-0c4e-4cfd-bcaa-c0d156cf2990-622DDAAXX_1_1_fastqc.html          \n",
       "3464  261c8bb3-0c4e-4cfd-bcaa-c0d156cf2990  TCGA-AB-2909-03A-01T-0744-13  622DDAAXX_1_2.fastq.gz         https://storage.cloud.google.com/isb-cgc-open/tcga-qc/LAML/Total_RNA/RNA-Seq/BCCAGSC/ILLUMINA/261c8bb3-0c4e-4cfd-bcaa-c0d156cf2990-622DDAAXX_1_2_fastqc.html          \n",
       "\n",
       "                                                                                                                                                          FastQC_zip_url BasicStats  numTotalSeq  numPoorSeq  minLength  maxLength  delLength  pctGC SeqLenDist SeqDupLev  Total_Dedup_Pct OverrepSeq  \\\n",
       "3461  https://storage.cloud.google.com/isb-cgc-open/tcga-qc/LAML/Total_RNA/RNA-Seq/BCCAGSC/ILLUMINA/261c8bb3-0c4e-4cfd-bcaa-c0d156cf2990-61YETAAXX_1_ATCACG_1_fastqc.zip  pass       41560889     0           50         50         1          47     pass       pass      80.327895        warn        \n",
       "3462  https://storage.cloud.google.com/isb-cgc-open/tcga-qc/LAML/Total_RNA/RNA-Seq/BCCAGSC/ILLUMINA/261c8bb3-0c4e-4cfd-bcaa-c0d156cf2990-61YETAAXX_1_ATCACG_2_fastqc.zip  pass       83121778     0           6          50         45         47     warn       fail      0.410745         fail        \n",
       "3463  https://storage.cloud.google.com/isb-cgc-open/tcga-qc/LAML/Total_RNA/RNA-Seq/BCCAGSC/ILLUMINA/261c8bb3-0c4e-4cfd-bcaa-c0d156cf2990-622DDAAXX_1_1_fastqc.zip         pass       34582299     0           50         50         1          47     pass       pass      79.626184        warn        \n",
       "3464  https://storage.cloud.google.com/isb-cgc-open/tcga-qc/LAML/Total_RNA/RNA-Seq/BCCAGSC/ILLUMINA/261c8bb3-0c4e-4cfd-bcaa-c0d156cf2990-622DDAAXX_1_2_fastqc.zip         pass       34582299     0           50         50         1          47     pass       pass      83.822852        warn        \n",
       "\n",
       "     AdaptCont KmerCont study                       barcode disease            disease_name sample_type                                 sample_type_name analyte_type library_type   center  center_name  platform platform_name   assembly                                       filename    files_size  \\\n",
       "3461  pass      warn     TCGA  TCGA-AB-2909-03A-01T-0744-13  LAML    ACUTE MYELOID LEUKEMIA  TB          Primary Blood Derived Cancer - Peripheral Blood  Total RNA    RNA-Seq      BCCAGSC NaN           ILLUMINA  Illumina      unaligned  TCGA-AB-2909-03A-01T-0744-13_rnaseq_fastq.tar  6.494423e+09   \n",
       "3462  pass      warn     TCGA  TCGA-AB-2909-03A-01T-0744-13  LAML    ACUTE MYELOID LEUKEMIA  TB          Primary Blood Derived Cancer - Peripheral Blood  Total RNA    RNA-Seq      BCCAGSC NaN           ILLUMINA  Illumina      unaligned  TCGA-AB-2909-03A-01T-0744-13_rnaseq_fastq.tar  6.494423e+09   \n",
       "3463  pass      fail     TCGA  TCGA-AB-2909-03A-01T-0744-13  LAML    ACUTE MYELOID LEUKEMIA  TB          Primary Blood Derived Cancer - Peripheral Blood  Total RNA    RNA-Seq      BCCAGSC NaN           ILLUMINA  Illumina      unaligned  TCGA-AB-2909-03A-01T-0744-13_rnaseq_fastq.tar  6.494423e+09   \n",
       "3464  pass      warn     TCGA  TCGA-AB-2909-03A-01T-0744-13  LAML    ACUTE MYELOID LEUKEMIA  TB          Primary Blood Derived Cancer - Peripheral Blood  Total RNA    RNA-Seq      BCCAGSC NaN           ILLUMINA  Illumina      unaligned  TCGA-AB-2909-03A-01T-0744-13_rnaseq_fastq.tar  6.494423e+09   \n",
       "\n",
       "                              checksum                           analysis_id                            aliquot_id                        participant_id                             sample_id tss_id sample_accession   published    uploaded    modified state sample_type_code analyte_type_code  \\\n",
       "3461  6924e520152b16158c3ea24ef20550af  261c8bb3-0c4e-4cfd-bcaa-c0d156cf2990  77952b61-6b89-4285-9443-a41246a7d8f2  ab60901b-d2ad-401a-9742-52df35ce1de0  40168b34-bbfe-4ee2-b7b5-2e33fbf64a18  AB     SRS131131        2014-05-13  2014-05-13  2014-05-13  Live  03               T                  \n",
       "3462  6924e520152b16158c3ea24ef20550af  261c8bb3-0c4e-4cfd-bcaa-c0d156cf2990  77952b61-6b89-4285-9443-a41246a7d8f2  ab60901b-d2ad-401a-9742-52df35ce1de0  40168b34-bbfe-4ee2-b7b5-2e33fbf64a18  AB     SRS131131        2014-05-13  2014-05-13  2014-05-13  Live  03               T                  \n",
       "3463  6924e520152b16158c3ea24ef20550af  261c8bb3-0c4e-4cfd-bcaa-c0d156cf2990  77952b61-6b89-4285-9443-a41246a7d8f2  ab60901b-d2ad-401a-9742-52df35ce1de0  40168b34-bbfe-4ee2-b7b5-2e33fbf64a18  AB     SRS131131        2014-05-13  2014-05-13  2014-05-13  Live  03               T                  \n",
       "3464  6924e520152b16158c3ea24ef20550af  261c8bb3-0c4e-4cfd-bcaa-c0d156cf2990  77952b61-6b89-4285-9443-a41246a7d8f2  ab60901b-d2ad-401a-9742-52df35ce1de0  40168b34-bbfe-4ee2-b7b5-2e33fbf64a18  AB     SRS131131        2014-05-13  2014-05-13  2014-05-13  Live  03               T                  \n",
       "\n",
       "                platform_full_name file_type reason reagent_vendor reagent_name catalog_number is_custom target_file_url probe_file_url                       CGHubAnalysisID                           AliquotUUID  \\\n",
       "3461  Illumina Genome Analyzer IIx  fasta     NaN    NaN            NaN          NaN            NaN       NaN             NaN            261c8bb3-0c4e-4cfd-bcaa-c0d156cf2990  77952b61-6b89-4285-9443-a41246a7d8f2   \n",
       "3462  Illumina Genome Analyzer IIx  fasta     NaN    NaN            NaN          NaN            NaN       NaN             NaN            261c8bb3-0c4e-4cfd-bcaa-c0d156cf2990  77952b61-6b89-4285-9443-a41246a7d8f2   \n",
       "3463  Illumina Genome Analyzer IIx  fasta     NaN    NaN            NaN          NaN            NaN       NaN             NaN            261c8bb3-0c4e-4cfd-bcaa-c0d156cf2990  77952b61-6b89-4285-9443-a41246a7d8f2   \n",
       "3464  Illumina Genome Analyzer IIx  fasta     NaN    NaN            NaN          NaN            NaN       NaN             NaN            261c8bb3-0c4e-4cfd-bcaa-c0d156cf2990  77952b61-6b89-4285-9443-a41246a7d8f2   \n",
       "\n",
       "                                                                                                                                 GCSobject  objectSizeBytes pretty_size           handy_disease_names  \n",
       "3461  gs://5aa919de-0aa0-43ec-9ec3-288481102b6d/tcga/LAML/Total_RNA/RNA-Seq/BCCAGSC/ILLUMINA/TCGA-AB-2909-03A-01T-0744-13_rnaseq_fastq.tar  6494423040       6.0GB       LAML: Acute Myeloid Leukemia  \n",
       "3462  gs://5aa919de-0aa0-43ec-9ec3-288481102b6d/tcga/LAML/Total_RNA/RNA-Seq/BCCAGSC/ILLUMINA/TCGA-AB-2909-03A-01T-0744-13_rnaseq_fastq.tar  6494423040       6.0GB       LAML: Acute Myeloid Leukemia  \n",
       "3463  gs://5aa919de-0aa0-43ec-9ec3-288481102b6d/tcga/LAML/Total_RNA/RNA-Seq/BCCAGSC/ILLUMINA/TCGA-AB-2909-03A-01T-0744-13_rnaseq_fastq.tar  6494423040       6.0GB       LAML: Acute Myeloid Leukemia  \n",
       "3464  gs://5aa919de-0aa0-43ec-9ec3-288481102b6d/tcga/LAML/Total_RNA/RNA-Seq/BCCAGSC/ILLUMINA/TCGA-AB-2909-03A-01T-0744-13_rnaseq_fastq.tar  6494423040       6.0GB       LAML: Acute Myeloid Leukemia  "
      ]
     },
     "execution_count": 48,
     "metadata": {},
     "output_type": "execute_result"
    }
   ],
   "source": [
    "ndf[ndf.CGHub_analysisID == '261c8bb3-0c4e-4cfd-bcaa-c0d156cf2990']"
   ]
  },
  {
   "cell_type": "code",
   "execution_count": 49,
   "metadata": {
    "collapsed": false
   },
   "outputs": [],
   "source": [
    "ndf.drop(range(3461, 3461 + 4), inplace=True)"
   ]
  },
  {
   "cell_type": "code",
   "execution_count": 50,
   "metadata": {
    "collapsed": false
   },
   "outputs": [
    {
     "data": {
      "text/plain": [
       "(11339,)"
      ]
     },
     "execution_count": 50,
     "metadata": {},
     "output_type": "execute_result"
    }
   ],
   "source": [
    "ndf.analysis_id.unique().shape"
   ]
  },
  {
   "cell_type": "markdown",
   "metadata": {},
   "source": [
    "#### Drop analysis ids with inconsistent read length between first-end and second-end fastq files "
   ]
  },
  {
   "cell_type": "code",
   "execution_count": 51,
   "metadata": {
    "collapsed": true
   },
   "outputs": [],
   "source": [
    "num_unique_max_len = ndf.groupby('analysis_id').apply(lambda g: g.maxLength.unique().shape[0])"
   ]
  },
  {
   "cell_type": "code",
   "execution_count": 52,
   "metadata": {
    "collapsed": false
   },
   "outputs": [],
   "source": [
    "_df = num_unique_max_len[num_unique_max_len > 1]"
   ]
  },
  {
   "cell_type": "code",
   "execution_count": 53,
   "metadata": {
    "collapsed": false
   },
   "outputs": [
    {
     "data": {
      "text/plain": [
       "(22,)"
      ]
     },
     "execution_count": 53,
     "metadata": {},
     "output_type": "execute_result"
    }
   ],
   "source": [
    "_df.shape"
   ]
  },
  {
   "cell_type": "code",
   "execution_count": 54,
   "metadata": {
    "collapsed": false
   },
   "outputs": [
    {
     "data": {
      "text/plain": [
       "analysis_id\n",
       "003fece6-0f44-46b8-8b9f-bfe26feda298    [48, 49]\n",
       "05622bc5-f9d4-4ff4-8841-f0800b2d06e9    [48, 49]\n",
       "2097392d-ebce-4f2a-b6f6-25c6255276af    [50, 45]\n",
       "39ecb705-8b3d-48e4-8eb2-381e1d90941f    [50, 45]\n",
       "40a709bd-0217-46c4-9232-7e57918d894b    [48, 49]\n",
       "4ad528d8-8194-452f-a935-19179925cf8d    [50, 45]\n",
       "4d5d77b4-f1a5-4f4e-8689-033bab3ccd17    [48, 49]\n",
       "6332c788-e2be-4a18-9a79-c4d3acfcc216    [48, 49]\n",
       "6bfa4a3a-539f-408b-a3a6-b6876ac34211    [48, 49]\n",
       "72620215-610c-430a-9271-cf7c27ec6902    [48, 49]\n",
       "813d0e86-0b45-4e7a-b3f9-2bbd7b02be3d    [50, 45]\n",
       "8af5e509-aacc-4a0b-aca8-d20583b40200    [48, 49]\n",
       "945091fc-94e8-45b3-a686-7072b6f012bd    [48, 49]\n",
       "a67de5cc-e395-4618-8102-e3b8a74ab3dd    [50, 45]\n",
       "b1d0a32e-f119-4103-817e-093ddd641a5c    [48, 49]\n",
       "dab394a4-a14f-488d-8cac-d3a3a790dc0e    [50, 45]\n",
       "dae0442e-0c19-4c01-9008-edb6f3d34882    [48, 49]\n",
       "db547aab-382f-4532-804a-0c985e418774    [48, 49]\n",
       "dd24129e-ffa0-49f8-9d79-7d4600d17b6b    [48, 49]\n",
       "e05d9be5-2938-4a5d-8882-92346f1ac009    [48, 49]\n",
       "eeba9aa8-809f-4d31-956a-b816e662d15c    [50, 45]\n",
       "fa152198-0750-452b-ad1a-c325d38e7232    [48, 49]\n",
       "dtype: object"
      ]
     },
     "execution_count": 54,
     "metadata": {},
     "output_type": "execute_result"
    }
   ],
   "source": [
    "ndf[ndf.analysis_id.isin(_df.index)].groupby('analysis_id').apply(lambda g: g.maxLength.unique())"
   ]
  },
  {
   "cell_type": "code",
   "execution_count": 55,
   "metadata": {
    "collapsed": false
   },
   "outputs": [
    {
     "data": {
      "text/plain": [
       "array(['UNC-LCCC'], dtype=object)"
      ]
     },
     "execution_count": 55,
     "metadata": {},
     "output_type": "execute_result"
    }
   ],
   "source": [
    "ndf[ndf.analysis_id.isin(_df.index)].center.unique()"
   ]
  },
  {
   "cell_type": "code",
   "execution_count": 56,
   "metadata": {
    "collapsed": false
   },
   "outputs": [],
   "source": [
    "ndf.drop(ndf[ndf.analysis_id.isin(_df.index)].index, inplace=True)"
   ]
  },
  {
   "cell_type": "code",
   "execution_count": 57,
   "metadata": {
    "collapsed": false
   },
   "outputs": [
    {
     "data": {
      "text/plain": [
       "(11317,)"
      ]
     },
     "execution_count": 57,
     "metadata": {},
     "output_type": "execute_result"
    }
   ],
   "source": [
    "ndf.analysis_id.unique().shape"
   ]
  },
  {
   "cell_type": "markdown",
   "metadata": {},
   "source": [
    "#### Drop another one sample that's not analyzed successfully "
   ]
  },
  {
   "cell_type": "markdown",
   "metadata": {},
   "source": [
    "```\n",
    "gcp-transfer[0]:pwd\n",
    "/projects/btl2/zxue/tasrkleat/TCGA-results/error\n",
    "gcp-transfer[0]:ls\n",
    "error.txt\n",
    "gcp-transfer[0]:cat error.txt \n",
    "gsutil cat gs://tasrkleat/tcga/LAML/Total_RNA/RNA-Seq/BCCAGSC/ILLUMINA/TCGA-AB-2992-03A-01T-0735-13_rnaseq_fastq.tar/logs/EIbhjL7uKhj3uOSYxoOR0jggjsPE-6kaKg9wcm9kdWN0aW9uUXVldWU-stderr.log\n",
    "\n",
    "WARNING|[2016-09-01 22:29:15,664]|utils:stderr: Read IDs do not match\n",
    "WARNING|[2016-09-01 22:29:15,665]|utils:stderr: SOLEXA4_1:3:111:9271:12183\n",
    "WARNING|[2016-09-01 22:29:15,665]|utils:stderr: SOLEXA4_1:3:111:9721:18091\n",
    "WARNING|[2016-09-01 22:29:15,665]|utils:stderr: Read IDs do not match\n",
    "WARNING|[2016-09-01 22:29:15,665]|utils:stderr: SOLEXA4_1:3:111:9271:15474\n",
    "WARNING|[2016-09-01 22:29:15,666]|utils:stderr: SOLEXA4_1:3:111:9721:19530\n",
    "WARNING|[2016-09-01 22:29:15,666]|utils:stderr: Read IDs do not match\n",
    "WARNING|[2016-09-01 22:29:15,666]|utils:stderr: SOLEXA4_1:3:111:9271:12958\n",
    "WARNING|[2016-09-01 22:29:15,666]|utils:stderr: SOLEXA4_1:3:111:9721:14690\n",
    "                        ```"
   ]
  },
  {
   "cell_type": "code",
   "execution_count": 58,
   "metadata": {
    "collapsed": false
   },
   "outputs": [
    {
     "data": {
      "text/plain": [
       "(11317,)"
      ]
     },
     "execution_count": 58,
     "metadata": {},
     "output_type": "execute_result"
    }
   ],
   "source": [
    "ndf.analysis_id.unique().shape"
   ]
  },
  {
   "cell_type": "code",
   "execution_count": 59,
   "metadata": {
    "collapsed": false,
    "scrolled": true
   },
   "outputs": [
    {
     "data": {
      "text/plain": [
       "array(['a1d922bb-a14c-48e5-86df-c6e74413955e'], dtype=object)"
      ]
     },
     "execution_count": 59,
     "metadata": {},
     "output_type": "execute_result"
    }
   ],
   "source": [
    "ndf[ndf.GCSobject.str.contains('TCGA-AB-2992-03A-01T-0735-13_rnaseq_fastq.tar')].analysis_id.unique()"
   ]
  },
  {
   "cell_type": "code",
   "execution_count": 60,
   "metadata": {
    "collapsed": false
   },
   "outputs": [],
   "source": [
    "ndf.drop(ndf.analysis_id == 'a1d922bb-a14c-48e5-86df-c6e74413955e', inplace=True)"
   ]
  },
  {
   "cell_type": "code",
   "execution_count": 61,
   "metadata": {
    "collapsed": false
   },
   "outputs": [
    {
     "data": {
      "text/plain": [
       "(11316,)"
      ]
     },
     "execution_count": 61,
     "metadata": {},
     "output_type": "execute_result"
    }
   ],
   "source": [
    "ndf.analysis_id.unique().shape"
   ]
  },
  {
   "cell_type": "code",
   "execution_count": null,
   "metadata": {
    "collapsed": true
   },
   "outputs": [],
   "source": []
  },
  {
   "cell_type": "markdown",
   "metadata": {},
   "source": [
    "## Analysis for group by analysis_id"
   ]
  },
  {
   "cell_type": "code",
   "execution_count": 62,
   "metadata": {
    "collapsed": true
   },
   "outputs": [],
   "source": [
    "grouped = ndf.groupby('CGHub_analysisID')"
   ]
  },
  {
   "cell_type": "markdown",
   "metadata": {},
   "source": [
    "### Count of reads for each analysis_id"
   ]
  },
  {
   "cell_type": "code",
   "execution_count": 63,
   "metadata": {
    "collapsed": false
   },
   "outputs": [],
   "source": [
    "df_num_total_seq = grouped.sum()['numTotalSeq'].sort_values().to_frame().reset_index()"
   ]
  },
  {
   "cell_type": "code",
   "execution_count": 64,
   "metadata": {
    "collapsed": false
   },
   "outputs": [
    {
     "data": {
      "text/html": [
       "<div>\n",
       "<style>\n",
       "    .dataframe thead tr:only-child th {\n",
       "        text-align: right;\n",
       "    }\n",
       "\n",
       "    .dataframe thead th {\n",
       "        text-align: left;\n",
       "    }\n",
       "\n",
       "    .dataframe tbody tr th {\n",
       "        vertical-align: top;\n",
       "    }\n",
       "</style>\n",
       "<table border=\"1\" class=\"dataframe\">\n",
       "  <thead>\n",
       "    <tr style=\"text-align: right;\">\n",
       "      <th></th>\n",
       "      <th>CGHub_analysisID</th>\n",
       "      <th>numTotalSeq</th>\n",
       "    </tr>\n",
       "  </thead>\n",
       "  <tbody>\n",
       "    <tr>\n",
       "      <th>0</th>\n",
       "      <td>b754648b-5fb4-4467-aee3-65cc7c6a9d07</td>\n",
       "      <td>5271052</td>\n",
       "    </tr>\n",
       "    <tr>\n",
       "      <th>1</th>\n",
       "      <td>badd1f12-80de-4573-aee7-c39ed96455f9</td>\n",
       "      <td>5578774</td>\n",
       "    </tr>\n",
       "    <tr>\n",
       "      <th>2</th>\n",
       "      <td>39fa3aa6-aed7-4a80-9506-e67a9ebcaab2</td>\n",
       "      <td>7246057</td>\n",
       "    </tr>\n",
       "    <tr>\n",
       "      <th>3</th>\n",
       "      <td>97ca938d-3709-4ca2-b550-9c1dbbdfedb6</td>\n",
       "      <td>8822545</td>\n",
       "    </tr>\n",
       "    <tr>\n",
       "      <th>4</th>\n",
       "      <td>eb32ddf3-6e22-4aa9-a4a7-00728cb76e46</td>\n",
       "      <td>10046008</td>\n",
       "    </tr>\n",
       "  </tbody>\n",
       "</table>\n",
       "</div>"
      ],
      "text/plain": [
       "                       CGHub_analysisID  numTotalSeq\n",
       "0  b754648b-5fb4-4467-aee3-65cc7c6a9d07  5271052    \n",
       "1  badd1f12-80de-4573-aee7-c39ed96455f9  5578774    \n",
       "2  39fa3aa6-aed7-4a80-9506-e67a9ebcaab2  7246057    \n",
       "3  97ca938d-3709-4ca2-b550-9c1dbbdfedb6  8822545    \n",
       "4  eb32ddf3-6e22-4aa9-a4a7-00728cb76e46  10046008   "
      ]
     },
     "execution_count": 64,
     "metadata": {},
     "output_type": "execute_result"
    }
   ],
   "source": [
    "df_num_total_seq.head()"
   ]
  },
  {
   "cell_type": "code",
   "execution_count": 65,
   "metadata": {
    "collapsed": false
   },
   "outputs": [],
   "source": [
    "cols = ['CGHub_analysisID', 'handy_disease_names', 'center', 'maxLength']\n",
    "mdf = df_num_total_seq.merge(ndf[cols].drop_duplicates(), on='CGHub_analysisID')"
   ]
  },
  {
   "cell_type": "code",
   "execution_count": 66,
   "metadata": {
    "collapsed": false
   },
   "outputs": [
    {
     "data": {
      "text/html": [
       "<div>\n",
       "<style>\n",
       "    .dataframe thead tr:only-child th {\n",
       "        text-align: right;\n",
       "    }\n",
       "\n",
       "    .dataframe thead th {\n",
       "        text-align: left;\n",
       "    }\n",
       "\n",
       "    .dataframe tbody tr th {\n",
       "        vertical-align: top;\n",
       "    }\n",
       "</style>\n",
       "<table border=\"1\" class=\"dataframe\">\n",
       "  <thead>\n",
       "    <tr style=\"text-align: right;\">\n",
       "      <th></th>\n",
       "      <th>CGHub_analysisID</th>\n",
       "      <th>numTotalSeq</th>\n",
       "      <th>handy_disease_names</th>\n",
       "      <th>center</th>\n",
       "      <th>maxLength</th>\n",
       "    </tr>\n",
       "  </thead>\n",
       "  <tbody>\n",
       "    <tr>\n",
       "      <th>0</th>\n",
       "      <td>b754648b-5fb4-4467-aee3-65cc7c6a9d07</td>\n",
       "      <td>5271052</td>\n",
       "      <td>COAD: Colon Adenocarcinoma</td>\n",
       "      <td>UNC-LCCC</td>\n",
       "      <td>76</td>\n",
       "    </tr>\n",
       "    <tr>\n",
       "      <th>1</th>\n",
       "      <td>badd1f12-80de-4573-aee7-c39ed96455f9</td>\n",
       "      <td>5578774</td>\n",
       "      <td>COAD: Colon Adenocarcinoma</td>\n",
       "      <td>UNC-LCCC</td>\n",
       "      <td>76</td>\n",
       "    </tr>\n",
       "    <tr>\n",
       "      <th>2</th>\n",
       "      <td>39fa3aa6-aed7-4a80-9506-e67a9ebcaab2</td>\n",
       "      <td>7246057</td>\n",
       "      <td>COAD: Colon Adenocarcinoma</td>\n",
       "      <td>UNC-LCCC</td>\n",
       "      <td>76</td>\n",
       "    </tr>\n",
       "    <tr>\n",
       "      <th>3</th>\n",
       "      <td>97ca938d-3709-4ca2-b550-9c1dbbdfedb6</td>\n",
       "      <td>8822545</td>\n",
       "      <td>COAD: Colon Adenocarcinoma</td>\n",
       "      <td>UNC-LCCC</td>\n",
       "      <td>76</td>\n",
       "    </tr>\n",
       "    <tr>\n",
       "      <th>4</th>\n",
       "      <td>eb32ddf3-6e22-4aa9-a4a7-00728cb76e46</td>\n",
       "      <td>10046008</td>\n",
       "      <td>COAD: Colon Adenocarcinoma</td>\n",
       "      <td>UNC-LCCC</td>\n",
       "      <td>76</td>\n",
       "    </tr>\n",
       "  </tbody>\n",
       "</table>\n",
       "</div>"
      ],
      "text/plain": [
       "                       CGHub_analysisID  numTotalSeq         handy_disease_names    center  maxLength\n",
       "0  b754648b-5fb4-4467-aee3-65cc7c6a9d07  5271052      COAD: Colon Adenocarcinoma  UNC-LCCC  76       \n",
       "1  badd1f12-80de-4573-aee7-c39ed96455f9  5578774      COAD: Colon Adenocarcinoma  UNC-LCCC  76       \n",
       "2  39fa3aa6-aed7-4a80-9506-e67a9ebcaab2  7246057      COAD: Colon Adenocarcinoma  UNC-LCCC  76       \n",
       "3  97ca938d-3709-4ca2-b550-9c1dbbdfedb6  8822545      COAD: Colon Adenocarcinoma  UNC-LCCC  76       \n",
       "4  eb32ddf3-6e22-4aa9-a4a7-00728cb76e46  10046008     COAD: Colon Adenocarcinoma  UNC-LCCC  76       "
      ]
     },
     "execution_count": 66,
     "metadata": {},
     "output_type": "execute_result"
    }
   ],
   "source": [
    "mdf.sort_values('numTotalSeq').head()"
   ]
  },
  {
   "cell_type": "code",
   "execution_count": 67,
   "metadata": {
    "collapsed": false
   },
   "outputs": [
    {
     "data": {
      "text/html": [
       "<div>\n",
       "<style>\n",
       "    .dataframe thead tr:only-child th {\n",
       "        text-align: right;\n",
       "    }\n",
       "\n",
       "    .dataframe thead th {\n",
       "        text-align: left;\n",
       "    }\n",
       "\n",
       "    .dataframe tbody tr th {\n",
       "        vertical-align: top;\n",
       "    }\n",
       "</style>\n",
       "<table border=\"1\" class=\"dataframe\">\n",
       "  <thead>\n",
       "    <tr style=\"text-align: right;\">\n",
       "      <th></th>\n",
       "      <th>CGHub_analysisID</th>\n",
       "      <th>numTotalSeq</th>\n",
       "      <th>handy_disease_names</th>\n",
       "      <th>center</th>\n",
       "      <th>maxLength</th>\n",
       "    </tr>\n",
       "  </thead>\n",
       "  <tbody>\n",
       "    <tr>\n",
       "      <th>11311</th>\n",
       "      <td>2f9595fd-c47b-495c-bd91-cb04712587cc</td>\n",
       "      <td>411815388</td>\n",
       "      <td>OV: Ovarian Serous Cystadenocarcinoma</td>\n",
       "      <td>BCCAGSC</td>\n",
       "      <td>75</td>\n",
       "    </tr>\n",
       "    <tr>\n",
       "      <th>11312</th>\n",
       "      <td>81f8a6ab-ad47-4379-b7c2-7b58dd32a4dc</td>\n",
       "      <td>415583602</td>\n",
       "      <td>OV: Ovarian Serous Cystadenocarcinoma</td>\n",
       "      <td>BCCAGSC</td>\n",
       "      <td>75</td>\n",
       "    </tr>\n",
       "    <tr>\n",
       "      <th>11313</th>\n",
       "      <td>32838fec-3b3d-4261-9dd6-53db2521a27c</td>\n",
       "      <td>420951962</td>\n",
       "      <td>OV: Ovarian Serous Cystadenocarcinoma</td>\n",
       "      <td>BCCAGSC</td>\n",
       "      <td>75</td>\n",
       "    </tr>\n",
       "    <tr>\n",
       "      <th>11314</th>\n",
       "      <td>29a8a6ec-0541-40c8-a6d3-4c8eec54b054</td>\n",
       "      <td>432954454</td>\n",
       "      <td>OV: Ovarian Serous Cystadenocarcinoma</td>\n",
       "      <td>BCCAGSC</td>\n",
       "      <td>75</td>\n",
       "    </tr>\n",
       "    <tr>\n",
       "      <th>11315</th>\n",
       "      <td>a4e0037c-8afa-4d50-947f-a7354ddd34fc</td>\n",
       "      <td>452162088</td>\n",
       "      <td>OV: Ovarian Serous Cystadenocarcinoma</td>\n",
       "      <td>BCCAGSC</td>\n",
       "      <td>75</td>\n",
       "    </tr>\n",
       "  </tbody>\n",
       "</table>\n",
       "</div>"
      ],
      "text/plain": [
       "                           CGHub_analysisID  numTotalSeq                    handy_disease_names   center  maxLength\n",
       "11311  2f9595fd-c47b-495c-bd91-cb04712587cc  411815388    OV: Ovarian Serous Cystadenocarcinoma  BCCAGSC  75       \n",
       "11312  81f8a6ab-ad47-4379-b7c2-7b58dd32a4dc  415583602    OV: Ovarian Serous Cystadenocarcinoma  BCCAGSC  75       \n",
       "11313  32838fec-3b3d-4261-9dd6-53db2521a27c  420951962    OV: Ovarian Serous Cystadenocarcinoma  BCCAGSC  75       \n",
       "11314  29a8a6ec-0541-40c8-a6d3-4c8eec54b054  432954454    OV: Ovarian Serous Cystadenocarcinoma  BCCAGSC  75       \n",
       "11315  a4e0037c-8afa-4d50-947f-a7354ddd34fc  452162088    OV: Ovarian Serous Cystadenocarcinoma  BCCAGSC  75       "
      ]
     },
     "execution_count": 67,
     "metadata": {},
     "output_type": "execute_result"
    }
   ],
   "source": [
    "mdf.tail()"
   ]
  },
  {
   "cell_type": "code",
   "execution_count": 68,
   "metadata": {
    "collapsed": false
   },
   "outputs": [],
   "source": [
    "# Count of bases for each analysis_id\n",
    "mdf['numTotalBases'] = mdf.numTotalSeq * mdf.maxLength"
   ]
  },
  {
   "cell_type": "code",
   "execution_count": 69,
   "metadata": {
    "collapsed": false
   },
   "outputs": [
    {
     "data": {
      "text/html": [
       "<div>\n",
       "<style>\n",
       "    .dataframe thead tr:only-child th {\n",
       "        text-align: right;\n",
       "    }\n",
       "\n",
       "    .dataframe thead th {\n",
       "        text-align: left;\n",
       "    }\n",
       "\n",
       "    .dataframe tbody tr th {\n",
       "        vertical-align: top;\n",
       "    }\n",
       "</style>\n",
       "<table border=\"1\" class=\"dataframe\">\n",
       "  <thead>\n",
       "    <tr style=\"text-align: right;\">\n",
       "      <th></th>\n",
       "      <th>numTotalSeq</th>\n",
       "      <th>maxLength</th>\n",
       "      <th>numTotalBases</th>\n",
       "    </tr>\n",
       "  </thead>\n",
       "  <tbody>\n",
       "    <tr>\n",
       "      <th>count</th>\n",
       "      <td>1.131600e+04</td>\n",
       "      <td>11316.000000</td>\n",
       "      <td>1.131600e+04</td>\n",
       "    </tr>\n",
       "    <tr>\n",
       "      <th>mean</th>\n",
       "      <td>1.413005e+08</td>\n",
       "      <td>52.872305</td>\n",
       "      <td>7.489960e+09</td>\n",
       "    </tr>\n",
       "    <tr>\n",
       "      <th>std</th>\n",
       "      <td>5.220856e+07</td>\n",
       "      <td>10.059542</td>\n",
       "      <td>3.747335e+09</td>\n",
       "    </tr>\n",
       "    <tr>\n",
       "      <th>min</th>\n",
       "      <td>5.271052e+06</td>\n",
       "      <td>48.000000</td>\n",
       "      <td>4.006000e+08</td>\n",
       "    </tr>\n",
       "    <tr>\n",
       "      <th>25%</th>\n",
       "      <td>1.134778e+08</td>\n",
       "      <td>48.000000</td>\n",
       "      <td>5.506724e+09</td>\n",
       "    </tr>\n",
       "    <tr>\n",
       "      <th>50%</th>\n",
       "      <td>1.379771e+08</td>\n",
       "      <td>48.000000</td>\n",
       "      <td>6.766456e+09</td>\n",
       "    </tr>\n",
       "    <tr>\n",
       "      <th>75%</th>\n",
       "      <td>1.680918e+08</td>\n",
       "      <td>50.000000</td>\n",
       "      <td>8.415522e+09</td>\n",
       "    </tr>\n",
       "    <tr>\n",
       "      <th>max</th>\n",
       "      <td>4.521621e+08</td>\n",
       "      <td>100.000000</td>\n",
       "      <td>3.391216e+10</td>\n",
       "    </tr>\n",
       "  </tbody>\n",
       "</table>\n",
       "</div>"
      ],
      "text/plain": [
       "        numTotalSeq     maxLength  numTotalBases\n",
       "count  1.131600e+04  11316.000000  1.131600e+04 \n",
       "mean   1.413005e+08  52.872305     7.489960e+09 \n",
       "std    5.220856e+07  10.059542     3.747335e+09 \n",
       "min    5.271052e+06  48.000000     4.006000e+08 \n",
       "25%    1.134778e+08  48.000000     5.506724e+09 \n",
       "50%    1.379771e+08  48.000000     6.766456e+09 \n",
       "75%    1.680918e+08  50.000000     8.415522e+09 \n",
       "max    4.521621e+08  100.000000    3.391216e+10 "
      ]
     },
     "execution_count": 69,
     "metadata": {},
     "output_type": "execute_result"
    }
   ],
   "source": [
    "mdf.describe()"
   ]
  },
  {
   "cell_type": "markdown",
   "metadata": {},
   "source": [
    "### Count of files number for each analysis_id"
   ]
  },
  {
   "cell_type": "code",
   "execution_count": 70,
   "metadata": {
    "collapsed": false
   },
   "outputs": [
    {
     "data": {
      "text/plain": [
       "2    10482\n",
       "1    648  \n",
       "4    185  \n",
       "6    1    \n",
       "Name: AliquotBarcode, dtype: int64"
      ]
     },
     "execution_count": 70,
     "metadata": {},
     "output_type": "execute_result"
    }
   ],
   "source": [
    "grouped.count().iloc[:,0].value_counts()"
   ]
  },
  {
   "cell_type": "markdown",
   "metadata": {},
   "source": [
    "So interestingly, some analysis ids have more than 2 files (e.g. 4 & 6)."
   ]
  },
  {
   "cell_type": "code",
   "execution_count": 71,
   "metadata": {
    "collapsed": false
   },
   "outputs": [],
   "source": [
    "count_df = ndf.groupby('CGHub_analysisID').count()['study']"
   ]
  },
  {
   "cell_type": "markdown",
   "metadata": {},
   "source": [
    "#### First let's look at those with only 1 file"
   ]
  },
  {
   "cell_type": "code",
   "execution_count": 72,
   "metadata": {
    "collapsed": false
   },
   "outputs": [],
   "source": [
    "anal_ids_1f = count_df[count_df == 1].index.values\n",
    "df_1f = ndf[ndf.CGHub_analysisID.isin(anal_ids_1f)]"
   ]
  },
  {
   "cell_type": "code",
   "execution_count": 73,
   "metadata": {
    "collapsed": false
   },
   "outputs": [
    {
     "data": {
      "text/plain": [
       "UNC-LCCC    648\n",
       "Name: center, dtype: int64"
      ]
     },
     "execution_count": 73,
     "metadata": {},
     "output_type": "execute_result"
    }
   ],
   "source": [
    "df_1f.center.value_counts()"
   ]
  },
  {
   "cell_type": "code",
   "execution_count": 74,
   "metadata": {
    "collapsed": false
   },
   "outputs": [
    {
     "data": {
      "text/plain": [
       "UCEC: Uterine Corpus Endometrioid Carcinoma    384\n",
       "COAD: Colon Adenocarcinoma                     192\n",
       "READ: Rectum Adenocarcinoma                    72 \n",
       "Name: handy_disease_names, dtype: int64"
      ]
     },
     "execution_count": 74,
     "metadata": {},
     "output_type": "execute_result"
    }
   ],
   "source": [
    "df_1f.handy_disease_names.value_counts()"
   ]
  },
  {
   "cell_type": "code",
   "execution_count": 75,
   "metadata": {
    "collapsed": false
   },
   "outputs": [
    {
     "data": {
      "text/html": [
       "<div>\n",
       "<style>\n",
       "    .dataframe thead tr:only-child th {\n",
       "        text-align: right;\n",
       "    }\n",
       "\n",
       "    .dataframe thead th {\n",
       "        text-align: left;\n",
       "    }\n",
       "\n",
       "    .dataframe tbody tr th {\n",
       "        vertical-align: top;\n",
       "    }\n",
       "</style>\n",
       "<table border=\"1\" class=\"dataframe\">\n",
       "  <thead>\n",
       "    <tr style=\"text-align: right;\">\n",
       "      <th></th>\n",
       "      <th>CGHub_analysisID</th>\n",
       "      <th>AliquotBarcode</th>\n",
       "      <th>fastqFilename</th>\n",
       "      <th>FastQC_html_url</th>\n",
       "      <th>FastQC_zip_url</th>\n",
       "      <th>BasicStats</th>\n",
       "      <th>numTotalSeq</th>\n",
       "      <th>numPoorSeq</th>\n",
       "      <th>minLength</th>\n",
       "      <th>maxLength</th>\n",
       "      <th>delLength</th>\n",
       "      <th>pctGC</th>\n",
       "      <th>SeqLenDist</th>\n",
       "      <th>SeqDupLev</th>\n",
       "      <th>Total_Dedup_Pct</th>\n",
       "      <th>OverrepSeq</th>\n",
       "      <th>AdaptCont</th>\n",
       "      <th>KmerCont</th>\n",
       "      <th>study</th>\n",
       "      <th>barcode</th>\n",
       "      <th>disease</th>\n",
       "      <th>disease_name</th>\n",
       "      <th>sample_type</th>\n",
       "      <th>sample_type_name</th>\n",
       "      <th>analyte_type</th>\n",
       "      <th>library_type</th>\n",
       "      <th>center</th>\n",
       "      <th>center_name</th>\n",
       "      <th>platform</th>\n",
       "      <th>platform_name</th>\n",
       "      <th>assembly</th>\n",
       "      <th>filename</th>\n",
       "      <th>files_size</th>\n",
       "      <th>checksum</th>\n",
       "      <th>analysis_id</th>\n",
       "      <th>aliquot_id</th>\n",
       "      <th>participant_id</th>\n",
       "      <th>sample_id</th>\n",
       "      <th>tss_id</th>\n",
       "      <th>sample_accession</th>\n",
       "      <th>published</th>\n",
       "      <th>uploaded</th>\n",
       "      <th>modified</th>\n",
       "      <th>state</th>\n",
       "      <th>sample_type_code</th>\n",
       "      <th>analyte_type_code</th>\n",
       "      <th>platform_full_name</th>\n",
       "      <th>file_type</th>\n",
       "      <th>reason</th>\n",
       "      <th>reagent_vendor</th>\n",
       "      <th>reagent_name</th>\n",
       "      <th>catalog_number</th>\n",
       "      <th>is_custom</th>\n",
       "      <th>target_file_url</th>\n",
       "      <th>probe_file_url</th>\n",
       "      <th>CGHubAnalysisID</th>\n",
       "      <th>AliquotUUID</th>\n",
       "      <th>GCSobject</th>\n",
       "      <th>objectSizeBytes</th>\n",
       "      <th>pretty_size</th>\n",
       "      <th>handy_disease_names</th>\n",
       "    </tr>\n",
       "  </thead>\n",
       "  <tbody>\n",
       "    <tr>\n",
       "      <th>142</th>\n",
       "      <td>019cce43-61a7-4c3a-aecd-00a3fb93f747</td>\n",
       "      <td>TCGA-AX-A0IU-01A-11R-A16W-07</td>\n",
       "      <td>110728_UNC6-RDR300211_00118_FC_70KA8AAXX.3.fastq</td>\n",
       "      <td>https://storage.cloud.google.com/isb-cgc-open/tcga-qc/UCEC/RNA/RNA-Seq/UNC-LCCC/ILLUMINA/019cce43-61a7-4c3a-aecd-00a3fb93f747-110728_UNC6-RDR300211_00118_FC_70KA8AAXX.3_fastqc.html</td>\n",
       "      <td>https://storage.cloud.google.com/isb-cgc-open/tcga-qc/UCEC/RNA/RNA-Seq/UNC-LCCC/ILLUMINA/019cce43-61a7-4c3a-aecd-00a3fb93f747-110728_UNC6-RDR300211_00118_FC_70KA8AAXX.3_fastqc.zip</td>\n",
       "      <td>pass</td>\n",
       "      <td>31515522</td>\n",
       "      <td>0</td>\n",
       "      <td>76</td>\n",
       "      <td>76</td>\n",
       "      <td>1</td>\n",
       "      <td>52</td>\n",
       "      <td>pass</td>\n",
       "      <td>fail</td>\n",
       "      <td>47.831905</td>\n",
       "      <td>warn</td>\n",
       "      <td>warn</td>\n",
       "      <td>fail</td>\n",
       "      <td>TCGA</td>\n",
       "      <td>TCGA-AX-A0IU-01A-11R-A16W-07</td>\n",
       "      <td>UCEC</td>\n",
       "      <td>UTERINE CORPUS ENDOMETRIOID CARCINOMA</td>\n",
       "      <td>TP</td>\n",
       "      <td>Primary solid Tumor</td>\n",
       "      <td>RNA</td>\n",
       "      <td>RNA-Seq</td>\n",
       "      <td>UNC-LCCC</td>\n",
       "      <td>NaN</td>\n",
       "      <td>ILLUMINA</td>\n",
       "      <td>Illumina</td>\n",
       "      <td>unaligned</td>\n",
       "      <td>UNCID_2207050.fb355c45-282b-4eff-8d06-074d9acf1ea5.110728_UNC6-RDR300211_00118_FC_70KA8AAXX_3.tar.gz</td>\n",
       "      <td>2.036157e+09</td>\n",
       "      <td>50280ae2e774be434cb5ec86ce7886a9</td>\n",
       "      <td>019cce43-61a7-4c3a-aecd-00a3fb93f747</td>\n",
       "      <td>fb355c45-282b-4eff-8d06-074d9acf1ea5</td>\n",
       "      <td>7e64ea6c-a3db-48eb-91be-131361510a92</td>\n",
       "      <td>dc4b3695-ce62-48d5-9f1d-7dd70d049c97</td>\n",
       "      <td>AX</td>\n",
       "      <td>NaN</td>\n",
       "      <td>2013-09-28</td>\n",
       "      <td>2013-09-28</td>\n",
       "      <td>2013-09-28</td>\n",
       "      <td>Live</td>\n",
       "      <td>01</td>\n",
       "      <td>R</td>\n",
       "      <td>Illumina Genome Analyzer II</td>\n",
       "      <td>fasta</td>\n",
       "      <td>NaN</td>\n",
       "      <td>NaN</td>\n",
       "      <td>NaN</td>\n",
       "      <td>NaN</td>\n",
       "      <td>NaN</td>\n",
       "      <td>NaN</td>\n",
       "      <td>NaN</td>\n",
       "      <td>019cce43-61a7-4c3a-aecd-00a3fb93f747</td>\n",
       "      <td>fb355c45-282b-4eff-8d06-074d9acf1ea5</td>\n",
       "      <td>gs://5aa919de-0aa0-43ec-9ec3-288481102b6d/tcga/UCEC/RNA/RNA-Seq/UNC-LCCC/ILLUMINA/UNCID_2207050.fb355c45-282b-4eff-8d06-074d9acf1ea5.110728_UNC6-RDR300211_00118_FC_70KA8AAXX_3.tar.gz</td>\n",
       "      <td>2036157248</td>\n",
       "      <td>1.9GB</td>\n",
       "      <td>UCEC: Uterine Corpus Endometrioid Carcinoma</td>\n",
       "    </tr>\n",
       "  </tbody>\n",
       "</table>\n",
       "</div>"
      ],
      "text/plain": [
       "                         CGHub_analysisID                AliquotBarcode                                     fastqFilename  \\\n",
       "142  019cce43-61a7-4c3a-aecd-00a3fb93f747  TCGA-AX-A0IU-01A-11R-A16W-07  110728_UNC6-RDR300211_00118_FC_70KA8AAXX.3.fastq   \n",
       "\n",
       "                                                                                                                                                                          FastQC_html_url  \\\n",
       "142  https://storage.cloud.google.com/isb-cgc-open/tcga-qc/UCEC/RNA/RNA-Seq/UNC-LCCC/ILLUMINA/019cce43-61a7-4c3a-aecd-00a3fb93f747-110728_UNC6-RDR300211_00118_FC_70KA8AAXX.3_fastqc.html   \n",
       "\n",
       "                                                                                                                                                                          FastQC_zip_url BasicStats  numTotalSeq  numPoorSeq  minLength  maxLength  delLength  pctGC SeqLenDist SeqDupLev  \\\n",
       "142  https://storage.cloud.google.com/isb-cgc-open/tcga-qc/UCEC/RNA/RNA-Seq/UNC-LCCC/ILLUMINA/019cce43-61a7-4c3a-aecd-00a3fb93f747-110728_UNC6-RDR300211_00118_FC_70KA8AAXX.3_fastqc.zip  pass       31515522     0           76         76         1          52     pass       fail       \n",
       "\n",
       "     Total_Dedup_Pct OverrepSeq AdaptCont KmerCont study                       barcode disease                           disease_name sample_type     sample_type_name analyte_type library_type    center  center_name  platform platform_name   assembly  \\\n",
       "142  47.831905        warn       warn      fail     TCGA  TCGA-AX-A0IU-01A-11R-A16W-07  UCEC    UTERINE CORPUS ENDOMETRIOID CARCINOMA  TP          Primary solid Tumor  RNA          RNA-Seq      UNC-LCCC NaN           ILLUMINA  Illumina      unaligned   \n",
       "\n",
       "                                                                                                 filename    files_size                          checksum                           analysis_id                            aliquot_id                        participant_id  \\\n",
       "142  UNCID_2207050.fb355c45-282b-4eff-8d06-074d9acf1ea5.110728_UNC6-RDR300211_00118_FC_70KA8AAXX_3.tar.gz  2.036157e+09  50280ae2e774be434cb5ec86ce7886a9  019cce43-61a7-4c3a-aecd-00a3fb93f747  fb355c45-282b-4eff-8d06-074d9acf1ea5  7e64ea6c-a3db-48eb-91be-131361510a92   \n",
       "\n",
       "                                sample_id tss_id sample_accession   published    uploaded    modified state sample_type_code analyte_type_code           platform_full_name file_type reason reagent_vendor reagent_name catalog_number is_custom target_file_url probe_file_url  \\\n",
       "142  dc4b3695-ce62-48d5-9f1d-7dd70d049c97  AX     NaN              2013-09-28  2013-09-28  2013-09-28  Live  01               R                 Illumina Genome Analyzer II  fasta     NaN    NaN            NaN          NaN            NaN       NaN             NaN             \n",
       "\n",
       "                          CGHubAnalysisID                           AliquotUUID                                                                                                                                                                               GCSobject  objectSizeBytes pretty_size  \\\n",
       "142  019cce43-61a7-4c3a-aecd-00a3fb93f747  fb355c45-282b-4eff-8d06-074d9acf1ea5  gs://5aa919de-0aa0-43ec-9ec3-288481102b6d/tcga/UCEC/RNA/RNA-Seq/UNC-LCCC/ILLUMINA/UNCID_2207050.fb355c45-282b-4eff-8d06-074d9acf1ea5.110728_UNC6-RDR300211_00118_FC_70KA8AAXX_3.tar.gz  2036157248       1.9GB        \n",
       "\n",
       "                             handy_disease_names  \n",
       "142  UCEC: Uterine Corpus Endometrioid Carcinoma  "
      ]
     },
     "execution_count": 75,
     "metadata": {},
     "output_type": "execute_result"
    }
   ],
   "source": [
    "df_1f.head(1)"
   ]
  },
  {
   "cell_type": "markdown",
   "metadata": {},
   "source": [
    "#### Confirm all analysis ids in df_1f are single-end sequencing results"
   ]
  },
  {
   "cell_type": "code",
   "execution_count": 76,
   "metadata": {
    "collapsed": false
   },
   "outputs": [],
   "source": [
    "df_1f = df_1f.copy()\n",
    "df_1f['cghub_xml_curl_cmd'] = df_1f.CGHub_analysisID.apply(\n",
    "    lambda x: 'curl https://cghub.ucsc.edu/cghub/metadata/analysisFull?analysis_id={0} > {0}.xml'.format(x))"
   ]
  },
  {
   "cell_type": "code",
   "execution_count": 77,
   "metadata": {
    "collapsed": false
   },
   "outputs": [],
   "source": [
    "# with tempfile.NamedTemporaryFile(mode='w+t', suffix='_curl.csv', delete=False) as opf:\n",
    "#     df_1f.cghub_xml_curl_cmd.to_csv(opf, index=False)"
   ]
  },
  {
   "cell_type": "code",
   "execution_count": 78,
   "metadata": {
    "collapsed": false
   },
   "outputs": [],
   "source": [
    "# opf.name"
   ]
  },
  {
   "cell_type": "markdown",
   "metadata": {},
   "source": [
    "Then go to tmp directory and execute the above csv using something like `parallel < tmplNTk4q_curl.csv`, and confirm with `grep Single-End | wc`. Make sure the wc output matches the number of items in `df_1f`. e.g.\n",
    "\n",
    "```\n",
    "$ grep Single-End *.xml | head -n 3\n",
    "019cce43-61a7-4c3a-aecd-00a3fb93f747.xml:        <DESIGN_DESCRIPTION>TCGA RNA-Seq Single-End Experiment</DESIGN_DESCRIPTION>\n",
    "02190b44-579d-492c-8e9c-c0103d252721.xml:        <DESIGN_DESCRIPTION>TCGA RNA-Seq Single-End Experiment</DESIGN_DESCRIPTION>\n",
    "027e7b3c-189d-4e1e-9658-9d66c0254ded.xml:        <DESIGN_DESCRIPTION>TCGA RNA-Seq Single-End Experiment</DESIGN_DESCRIPTION>\n",
    "$ grep Single-End *.xml | wc -l\n",
    "648\n",
    "```\n",
    "\n",
    "648 checks out :D"
   ]
  },
  {
   "cell_type": "markdown",
   "metadata": {},
   "source": [
    "#### Now, ready to drop all Single-End analysis IDs"
   ]
  },
  {
   "cell_type": "code",
   "execution_count": 79,
   "metadata": {
    "collapsed": false
   },
   "outputs": [
    {
     "data": {
      "text/plain": [
       "(648,)"
      ]
     },
     "execution_count": 79,
     "metadata": {},
     "output_type": "execute_result"
    }
   ],
   "source": [
    "df_1f.analysis_id.unique().shape"
   ]
  },
  {
   "cell_type": "code",
   "execution_count": 80,
   "metadata": {
    "collapsed": false
   },
   "outputs": [
    {
     "name": "stdout",
     "output_type": "stream",
     "text": [
      "2.90%\n"
     ]
    }
   ],
   "source": [
    "# That's about this percentage of samples to drop\n",
    "print('{0:.2%}'.format(648. / ndf.shape[0]))"
   ]
  },
  {
   "cell_type": "code",
   "execution_count": 81,
   "metadata": {
    "collapsed": false
   },
   "outputs": [],
   "source": [
    "ndf.drop(df_1f.index, inplace=True)"
   ]
  },
  {
   "cell_type": "code",
   "execution_count": 82,
   "metadata": {
    "collapsed": false
   },
   "outputs": [
    {
     "data": {
      "text/plain": [
       "(10668,)"
      ]
     },
     "execution_count": 82,
     "metadata": {},
     "output_type": "execute_result"
    }
   ],
   "source": [
    "ndf.analysis_id.unique().shape"
   ]
  },
  {
   "cell_type": "code",
   "execution_count": 83,
   "metadata": {
    "collapsed": false
   },
   "outputs": [
    {
     "data": {
      "text/plain": [
       "(21710, 61)"
      ]
     },
     "execution_count": 83,
     "metadata": {},
     "output_type": "execute_result"
    }
   ],
   "source": [
    "ndf.shape"
   ]
  },
  {
   "cell_type": "code",
   "execution_count": 84,
   "metadata": {
    "collapsed": false
   },
   "outputs": [
    {
     "data": {
      "text/plain": [
       "2    10482\n",
       "4    185  \n",
       "6    1    \n",
       "Name: study, dtype: int64"
      ]
     },
     "execution_count": 84,
     "metadata": {},
     "output_type": "execute_result"
    }
   ],
   "source": [
    "# Reconfirm single-end results have been removed\n",
    "ndf.groupby('CGHub_analysisID').count()['study'].value_counts()"
   ]
  },
  {
   "cell_type": "markdown",
   "metadata": {},
   "source": [
    "all files ends with either `.tar.gz` or `.tar`"
   ]
  },
  {
   "cell_type": "code",
   "execution_count": 89,
   "metadata": {
    "collapsed": false
   },
   "outputs": [],
   "source": [
    "assert ndf[ndf.GCSobject.apply(os.path.basename).apply(\n",
    "    lambda x: re.search('\\.tar\\.gz$|\\.tar$', x) is None)].shape[0] == 0"
   ]
  },
  {
   "cell_type": "code",
   "execution_count": 90,
   "metadata": {
    "collapsed": false
   },
   "outputs": [],
   "source": [
    "ndf['GCSobject_ext'] = ndf.GCSobject.apply(os.path.basename).apply(\n",
    "    lambda x: re.search('\\.tar\\.gz$|\\.tar$', x).group())"
   ]
  },
  {
   "cell_type": "code",
   "execution_count": 91,
   "metadata": {
    "collapsed": false
   },
   "outputs": [
    {
     "data": {
      "text/plain": [
       ".tar.gz    18884\n",
       ".tar       2826 \n",
       "Name: GCSobject_ext, dtype: int64"
      ]
     },
     "execution_count": 91,
     "metadata": {},
     "output_type": "execute_result"
    }
   ],
   "source": [
    "ndf.GCSobject_ext.value_counts()"
   ]
  },
  {
   "cell_type": "code",
   "execution_count": 92,
   "metadata": {
    "collapsed": false
   },
   "outputs": [
    {
     "data": {
      "text/plain": [
       "BCCAGSC    2826\n",
       "Name: center, dtype: int64"
      ]
     },
     "execution_count": 92,
     "metadata": {},
     "output_type": "execute_result"
    }
   ],
   "source": [
    "# All un-gzipped tarball are from BCCAGSC\n",
    "ndf[ndf.GCSobject.str.endswith('.tar')].center.value_counts()"
   ]
  },
  {
   "cell_type": "code",
   "execution_count": 93,
   "metadata": {
    "collapsed": false
   },
   "outputs": [
    {
     "data": {
      "text/plain": [
       "UNC-LCCC    18544\n",
       "BI          340  \n",
       "Name: center, dtype: int64"
      ]
     },
     "execution_count": 93,
     "metadata": {},
     "output_type": "execute_result"
    }
   ],
   "source": [
    "ndf[ndf.GCSobject.str.endswith('.tar.gz')].center.value_counts()"
   ]
  },
  {
   "cell_type": "markdown",
   "metadata": {},
   "source": [
    "#### Now let's look at those with only 6 files since there is only 1 case"
   ]
  },
  {
   "cell_type": "code",
   "execution_count": 94,
   "metadata": {
    "collapsed": true
   },
   "outputs": [],
   "source": [
    "# gt2f: greater than 2 files\n",
    "anal_ids_6f = count_df[(count_df == 6)].index.values\n",
    "df_6f = ndf[ndf.CGHub_analysisID.isin(anal_ids_6f)]"
   ]
  },
  {
   "cell_type": "code",
   "execution_count": 95,
   "metadata": {
    "collapsed": false
   },
   "outputs": [
    {
     "data": {
      "text/html": [
       "<div>\n",
       "<style>\n",
       "    .dataframe thead tr:only-child th {\n",
       "        text-align: right;\n",
       "    }\n",
       "\n",
       "    .dataframe thead th {\n",
       "        text-align: left;\n",
       "    }\n",
       "\n",
       "    .dataframe tbody tr th {\n",
       "        vertical-align: top;\n",
       "    }\n",
       "</style>\n",
       "<table border=\"1\" class=\"dataframe\">\n",
       "  <thead>\n",
       "    <tr style=\"text-align: right;\">\n",
       "      <th></th>\n",
       "      <th>CGHub_analysisID</th>\n",
       "      <th>AliquotBarcode</th>\n",
       "      <th>fastqFilename</th>\n",
       "      <th>center</th>\n",
       "      <th>disease</th>\n",
       "      <th>disease_name</th>\n",
       "      <th>platform_full_name</th>\n",
       "      <th>GCSobject</th>\n",
       "    </tr>\n",
       "  </thead>\n",
       "  <tbody>\n",
       "    <tr>\n",
       "      <th>20520</th>\n",
       "      <td>eb28bd24-74a2-4c68-83d9-c0982c7688b4</td>\n",
       "      <td>TCGA-BR-8592-01A-11R-2402-13</td>\n",
       "      <td>C1V55ACXX_7_AACTTG_1.fastq.gz</td>\n",
       "      <td>BCCAGSC</td>\n",
       "      <td>STAD</td>\n",
       "      <td>STOMACH ADENOCARCINOMA</td>\n",
       "      <td>Illumina HiSeq 2000</td>\n",
       "      <td>gs://5aa919de-0aa0-43ec-9ec3-288481102b6d/tcga/STAD/RNA/RNA-Seq/BCCAGSC/ILLUMINA/TCGA-BR-8592-01A-11R-2402-13_rnaseq_fastq.tar</td>\n",
       "    </tr>\n",
       "  </tbody>\n",
       "</table>\n",
       "</div>"
      ],
      "text/plain": [
       "                           CGHub_analysisID                AliquotBarcode                  fastqFilename   center disease            disease_name   platform_full_name                                                                                                                       GCSobject\n",
       "20520  eb28bd24-74a2-4c68-83d9-c0982c7688b4  TCGA-BR-8592-01A-11R-2402-13  C1V55ACXX_7_AACTTG_1.fastq.gz  BCCAGSC  STAD    STOMACH ADENOCARCINOMA  Illumina HiSeq 2000  gs://5aa919de-0aa0-43ec-9ec3-288481102b6d/tcga/STAD/RNA/RNA-Seq/BCCAGSC/ILLUMINA/TCGA-BR-8592-01A-11R-2402-13_rnaseq_fastq.tar"
      ]
     },
     "execution_count": 95,
     "metadata": {},
     "output_type": "execute_result"
    }
   ],
   "source": [
    "cols = ['CGHub_analysisID', 'AliquotBarcode', 'fastqFilename',\n",
    "        'center', 'disease', 'disease_name', 'platform_full_name', 'GCSobject']\n",
    "df_6f[cols].head(1)"
   ]
  },
  {
   "cell_type": "code",
   "execution_count": 96,
   "metadata": {
    "collapsed": true
   },
   "outputs": [],
   "source": [
    "def gen_gsutil_cmd(gcs_object_url):\n",
    "    return 'gsutil -m cp {0} .'.format(gcs_object_url)"
   ]
  },
  {
   "cell_type": "code",
   "execution_count": 97,
   "metadata": {
    "collapsed": false
   },
   "outputs": [
    {
     "name": "stdout",
     "output_type": "stream",
     "text": [
      "gsutil -m cp gs://5aa919de-0aa0-43ec-9ec3-288481102b6d/tcga/STAD/RNA/RNA-Seq/BCCAGSC/ILLUMINA/TCGA-BR-8592-01A-11R-2402-13_rnaseq_fastq.tar .\n"
     ]
    }
   ],
   "source": [
    "print(gen_gsutil_cmd(df_6f.GCSobject.unique()[0]))"
   ]
  },
  {
   "cell_type": "markdown",
   "metadata": {},
   "source": [
    "#### At last, let's look at those with only 4 files"
   ]
  },
  {
   "cell_type": "code",
   "execution_count": 98,
   "metadata": {
    "collapsed": true
   },
   "outputs": [],
   "source": [
    "anal_ids_4f = count_df[(count_df == 4)].index.values\n",
    "df_4f = ndf[ndf.CGHub_analysisID.isin(anal_ids_4f)]"
   ]
  },
  {
   "cell_type": "code",
   "execution_count": 99,
   "metadata": {
    "collapsed": false
   },
   "outputs": [
    {
     "data": {
      "text/plain": [
       "BCCAGSC    740\n",
       "Name: center, dtype: int64"
      ]
     },
     "execution_count": 99,
     "metadata": {},
     "output_type": "execute_result"
    }
   ],
   "source": [
    "df_4f.center.value_counts()"
   ]
  },
  {
   "cell_type": "code",
   "execution_count": 100,
   "metadata": {
    "collapsed": false,
    "scrolled": true
   },
   "outputs": [
    {
     "data": {
      "text/html": [
       "<div>\n",
       "<style>\n",
       "    .dataframe thead tr:only-child th {\n",
       "        text-align: right;\n",
       "    }\n",
       "\n",
       "    .dataframe thead th {\n",
       "        text-align: left;\n",
       "    }\n",
       "\n",
       "    .dataframe tbody tr th {\n",
       "        vertical-align: top;\n",
       "    }\n",
       "</style>\n",
       "<table border=\"1\" class=\"dataframe\">\n",
       "  <thead>\n",
       "    <tr style=\"text-align: right;\">\n",
       "      <th></th>\n",
       "      <th>CGHub_analysisID</th>\n",
       "      <th>AliquotBarcode</th>\n",
       "      <th>fastqFilename</th>\n",
       "      <th>center</th>\n",
       "      <th>disease</th>\n",
       "      <th>disease_name</th>\n",
       "      <th>platform_full_name</th>\n",
       "      <th>GCSobject</th>\n",
       "    </tr>\n",
       "  </thead>\n",
       "  <tbody>\n",
       "    <tr>\n",
       "      <th>120</th>\n",
       "      <td>014ee344-2844-4bc4-842e-e6d6e1e8fd9b</td>\n",
       "      <td>TCGA-AB-2882-03A-01T-0740-13</td>\n",
       "      <td>7043VAAXX_3_1.fastq.gz</td>\n",
       "      <td>BCCAGSC</td>\n",
       "      <td>LAML</td>\n",
       "      <td>ACUTE MYELOID LEUKEMIA</td>\n",
       "      <td>Illumina Genome Analyzer IIx</td>\n",
       "      <td>gs://5aa919de-0aa0-43ec-9ec3-288481102b6d/tcga/LAML/Total_RNA/RNA-Seq/BCCAGSC/ILLUMINA/TCGA-AB-2882-03A-01T-0740-13_rnaseq_fastq.tar</td>\n",
       "    </tr>\n",
       "    <tr>\n",
       "      <th>121</th>\n",
       "      <td>014ee344-2844-4bc4-842e-e6d6e1e8fd9b</td>\n",
       "      <td>TCGA-AB-2882-03A-01T-0740-13</td>\n",
       "      <td>7043VAAXX_3_2.fastq.gz</td>\n",
       "      <td>BCCAGSC</td>\n",
       "      <td>LAML</td>\n",
       "      <td>ACUTE MYELOID LEUKEMIA</td>\n",
       "      <td>Illumina Genome Analyzer IIx</td>\n",
       "      <td>gs://5aa919de-0aa0-43ec-9ec3-288481102b6d/tcga/LAML/Total_RNA/RNA-Seq/BCCAGSC/ILLUMINA/TCGA-AB-2882-03A-01T-0740-13_rnaseq_fastq.tar</td>\n",
       "    </tr>\n",
       "  </tbody>\n",
       "</table>\n",
       "</div>"
      ],
      "text/plain": [
       "                         CGHub_analysisID                AliquotBarcode           fastqFilename   center disease            disease_name            platform_full_name  \\\n",
       "120  014ee344-2844-4bc4-842e-e6d6e1e8fd9b  TCGA-AB-2882-03A-01T-0740-13  7043VAAXX_3_1.fastq.gz  BCCAGSC  LAML    ACUTE MYELOID LEUKEMIA  Illumina Genome Analyzer IIx   \n",
       "121  014ee344-2844-4bc4-842e-e6d6e1e8fd9b  TCGA-AB-2882-03A-01T-0740-13  7043VAAXX_3_2.fastq.gz  BCCAGSC  LAML    ACUTE MYELOID LEUKEMIA  Illumina Genome Analyzer IIx   \n",
       "\n",
       "                                                                                                                                GCSobject  \n",
       "120  gs://5aa919de-0aa0-43ec-9ec3-288481102b6d/tcga/LAML/Total_RNA/RNA-Seq/BCCAGSC/ILLUMINA/TCGA-AB-2882-03A-01T-0740-13_rnaseq_fastq.tar  \n",
       "121  gs://5aa919de-0aa0-43ec-9ec3-288481102b6d/tcga/LAML/Total_RNA/RNA-Seq/BCCAGSC/ILLUMINA/TCGA-AB-2882-03A-01T-0740-13_rnaseq_fastq.tar  "
      ]
     },
     "execution_count": 100,
     "metadata": {},
     "output_type": "execute_result"
    }
   ],
   "source": [
    "df_4f[cols].head(2)"
   ]
  },
  {
   "cell_type": "code",
   "execution_count": 101,
   "metadata": {
    "collapsed": false
   },
   "outputs": [
    {
     "data": {
      "text/plain": [
       "185"
      ]
     },
     "execution_count": 101,
     "metadata": {},
     "output_type": "execute_result"
    }
   ],
   "source": [
    "len(df_4f.GCSobject.unique())"
   ]
  },
  {
   "cell_type": "code",
   "execution_count": 102,
   "metadata": {
    "collapsed": false
   },
   "outputs": [
    {
     "data": {
      "text/plain": [
       "ACUTE MYELOID LEUKEMIA    604\n",
       "STOMACH ADENOCARCINOMA    136\n",
       "Name: disease_name, dtype: int64"
      ]
     },
     "execution_count": 102,
     "metadata": {},
     "output_type": "execute_result"
    }
   ],
   "source": [
    "df_4f.disease_name.value_counts()"
   ]
  },
  {
   "cell_type": "code",
   "execution_count": 103,
   "metadata": {
    "collapsed": false
   },
   "outputs": [
    {
     "data": {
      "text/plain": [
       "Illumina Genome Analyzer IIx    732\n",
       "Illumina HiSeq 2000             8  \n",
       "Name: platform_full_name, dtype: int64"
      ]
     },
     "execution_count": 103,
     "metadata": {},
     "output_type": "execute_result"
    }
   ],
   "source": [
    "df_4f.platform_full_name.value_counts()"
   ]
  },
  {
   "cell_type": "markdown",
   "metadata": {
    "collapsed": true
   },
   "source": [
    "# Summary:"
   ]
  },
  {
   "cell_type": "markdown",
   "metadata": {},
   "source": [
    "Inconsistency in the data format mainly comes from BCCAGSC:\n",
    "1. All BCCAGSC sample (sample and analysis ID are used interchangeably) tarballs are not gzipped\n",
    "2. BCCAGSC samples can container over 2 (i.e. 4, 6) fastq files.\n",
    "3. There is one sample in BCCAGSC that have bad read length distribution, while all other samples have consistent read length per sample"
   ]
  },
  {
   "cell_type": "markdown",
   "metadata": {},
   "source": [
    "## aliquot_id and analysis_id don't always have one-to-one relationship"
   ]
  },
  {
   "cell_type": "code",
   "execution_count": 104,
   "metadata": {
    "collapsed": false
   },
   "outputs": [
    {
     "data": {
      "text/plain": [
       "(10630,)"
      ]
     },
     "execution_count": 104,
     "metadata": {},
     "output_type": "execute_result"
    }
   ],
   "source": [
    "ndf.aliquot_id.unique().shape"
   ]
  },
  {
   "cell_type": "code",
   "execution_count": 105,
   "metadata": {
    "collapsed": false
   },
   "outputs": [
    {
     "data": {
      "text/plain": [
       "(10668,)"
      ]
     },
     "execution_count": 105,
     "metadata": {},
     "output_type": "execute_result"
    }
   ],
   "source": [
    "ndf.analysis_id.unique().shape"
   ]
  },
  {
   "cell_type": "code",
   "execution_count": 106,
   "metadata": {
    "collapsed": false
   },
   "outputs": [],
   "source": [
    "tmp_count_df = ndf.groupby('aliquot_id').count().iloc[:,1]"
   ]
  },
  {
   "cell_type": "code",
   "execution_count": 107,
   "metadata": {
    "collapsed": false,
    "scrolled": true
   },
   "outputs": [
    {
     "data": {
      "text/plain": [
       "aliquot_id\n",
       "00055bad-54b7-4898-a9ae-3dd8036e62d3    2\n",
       "000b3ce1-5bcf-4dd5-b7e4-e4f9367a939b    2\n",
       "000d877f-8d03-44bc-8607-27b5ba84b5fe    2\n",
       "001443c3-137d-46ae-a767-87d453b32fbb    2\n",
       "00168e86-d23a-48ae-8c60-36d970051907    2\n",
       "Name: AliquotBarcode, dtype: int64"
      ]
     },
     "execution_count": 107,
     "metadata": {},
     "output_type": "execute_result"
    }
   ],
   "source": [
    "tmp_count_df[tmp_count_df > 1].head()"
   ]
  },
  {
   "cell_type": "markdown",
   "metadata": {},
   "source": [
    "### Check the first few in more detail"
   ]
  },
  {
   "cell_type": "code",
   "execution_count": 108,
   "metadata": {
    "collapsed": false
   },
   "outputs": [
    {
     "data": {
      "text/html": [
       "<div>\n",
       "<style>\n",
       "    .dataframe thead tr:only-child th {\n",
       "        text-align: right;\n",
       "    }\n",
       "\n",
       "    .dataframe thead th {\n",
       "        text-align: left;\n",
       "    }\n",
       "\n",
       "    .dataframe tbody tr th {\n",
       "        vertical-align: top;\n",
       "    }\n",
       "</style>\n",
       "<table border=\"1\" class=\"dataframe\">\n",
       "  <thead>\n",
       "    <tr style=\"text-align: right;\">\n",
       "      <th></th>\n",
       "      <th>CGHub_analysisID</th>\n",
       "      <th>AliquotBarcode</th>\n",
       "      <th>fastqFilename</th>\n",
       "      <th>FastQC_html_url</th>\n",
       "      <th>FastQC_zip_url</th>\n",
       "      <th>BasicStats</th>\n",
       "      <th>numTotalSeq</th>\n",
       "      <th>numPoorSeq</th>\n",
       "      <th>minLength</th>\n",
       "      <th>maxLength</th>\n",
       "      <th>delLength</th>\n",
       "      <th>pctGC</th>\n",
       "      <th>SeqLenDist</th>\n",
       "      <th>SeqDupLev</th>\n",
       "      <th>Total_Dedup_Pct</th>\n",
       "      <th>OverrepSeq</th>\n",
       "      <th>AdaptCont</th>\n",
       "      <th>KmerCont</th>\n",
       "      <th>study</th>\n",
       "      <th>barcode</th>\n",
       "      <th>disease</th>\n",
       "      <th>disease_name</th>\n",
       "      <th>sample_type</th>\n",
       "      <th>sample_type_name</th>\n",
       "      <th>analyte_type</th>\n",
       "      <th>library_type</th>\n",
       "      <th>center</th>\n",
       "      <th>center_name</th>\n",
       "      <th>platform</th>\n",
       "      <th>platform_name</th>\n",
       "      <th>assembly</th>\n",
       "      <th>filename</th>\n",
       "      <th>files_size</th>\n",
       "      <th>checksum</th>\n",
       "      <th>analysis_id</th>\n",
       "      <th>aliquot_id</th>\n",
       "      <th>participant_id</th>\n",
       "      <th>sample_id</th>\n",
       "      <th>tss_id</th>\n",
       "      <th>sample_accession</th>\n",
       "      <th>published</th>\n",
       "      <th>uploaded</th>\n",
       "      <th>modified</th>\n",
       "      <th>state</th>\n",
       "      <th>sample_type_code</th>\n",
       "      <th>analyte_type_code</th>\n",
       "      <th>platform_full_name</th>\n",
       "      <th>file_type</th>\n",
       "      <th>reason</th>\n",
       "      <th>reagent_vendor</th>\n",
       "      <th>reagent_name</th>\n",
       "      <th>catalog_number</th>\n",
       "      <th>is_custom</th>\n",
       "      <th>target_file_url</th>\n",
       "      <th>probe_file_url</th>\n",
       "      <th>CGHubAnalysisID</th>\n",
       "      <th>AliquotUUID</th>\n",
       "      <th>GCSobject</th>\n",
       "      <th>objectSizeBytes</th>\n",
       "      <th>pretty_size</th>\n",
       "      <th>handy_disease_names</th>\n",
       "      <th>GCSobject_ext</th>\n",
       "    </tr>\n",
       "  </thead>\n",
       "  <tbody>\n",
       "    <tr>\n",
       "      <th>12748</th>\n",
       "      <td>9166c72f-8a43-425e-96d9-7fa6923a7f9e</td>\n",
       "      <td>TCGA-AZ-4313-01A-01R-1410-07</td>\n",
       "      <td>121206_UNC15-SN850_0244_AD1H97ACXX_GGCTAC_L003_1.fastq</td>\n",
       "      <td>https://storage.cloud.google.com/isb-cgc-open/tcga-qc/COAD/RNA/RNA-Seq/UNC-LCCC/ILLUMINA/9166c72f-8a43-425e-96d9-7fa6923a7f9e-121206_UNC15-SN850_0244_AD1H97ACXX_GGCTAC_L003_1_fastqc.html</td>\n",
       "      <td>https://storage.cloud.google.com/isb-cgc-open/tcga-qc/COAD/RNA/RNA-Seq/UNC-LCCC/ILLUMINA/9166c72f-8a43-425e-96d9-7fa6923a7f9e-121206_UNC15-SN850_0244_AD1H97ACXX_GGCTAC_L003_1_fastqc.zip</td>\n",
       "      <td>pass</td>\n",
       "      <td>54851583</td>\n",
       "      <td>0</td>\n",
       "      <td>48</td>\n",
       "      <td>48</td>\n",
       "      <td>1</td>\n",
       "      <td>50</td>\n",
       "      <td>pass</td>\n",
       "      <td>fail</td>\n",
       "      <td>32.809265</td>\n",
       "      <td>pass</td>\n",
       "      <td>pass</td>\n",
       "      <td>fail</td>\n",
       "      <td>TCGA</td>\n",
       "      <td>TCGA-AZ-4313-01A-01R-1410-07</td>\n",
       "      <td>COAD</td>\n",
       "      <td>COLON ADENOCARCINOMA</td>\n",
       "      <td>TP</td>\n",
       "      <td>Primary solid Tumor</td>\n",
       "      <td>RNA</td>\n",
       "      <td>RNA-Seq</td>\n",
       "      <td>UNC-LCCC</td>\n",
       "      <td>NaN</td>\n",
       "      <td>ILLUMINA</td>\n",
       "      <td>Illumina</td>\n",
       "      <td>unaligned</td>\n",
       "      <td>UNCID_2185736.14d89fac-d1b8-41fb-b812-0ba78aa61d90.121206_UNC15-SN850_0244_AD1H97ACXX_3_GGCTAC.tar.gz</td>\n",
       "      <td>4.873865e+09</td>\n",
       "      <td>aee63edd4e1b2588445927f8495ea4d5</td>\n",
       "      <td>9166c72f-8a43-425e-96d9-7fa6923a7f9e</td>\n",
       "      <td>14d89fac-d1b8-41fb-b812-0ba78aa61d90</td>\n",
       "      <td>1fd75c4d-e74c-410c-a150-814722c6c1cc</td>\n",
       "      <td>475f161c-2f7f-43a2-b187-de6038752f39</td>\n",
       "      <td>AZ</td>\n",
       "      <td>SRS157358</td>\n",
       "      <td>2013-09-15</td>\n",
       "      <td>2013-09-15</td>\n",
       "      <td>2013-09-15</td>\n",
       "      <td>Live</td>\n",
       "      <td>01</td>\n",
       "      <td>R</td>\n",
       "      <td>Illumina HiSeq 2000</td>\n",
       "      <td>fasta</td>\n",
       "      <td>NaN</td>\n",
       "      <td>NaN</td>\n",
       "      <td>NaN</td>\n",
       "      <td>NaN</td>\n",
       "      <td>NaN</td>\n",
       "      <td>NaN</td>\n",
       "      <td>NaN</td>\n",
       "      <td>9166c72f-8a43-425e-96d9-7fa6923a7f9e</td>\n",
       "      <td>14d89fac-d1b8-41fb-b812-0ba78aa61d90</td>\n",
       "      <td>gs://5aa919de-0aa0-43ec-9ec3-288481102b6d/tcga/COAD/RNA/RNA-Seq/UNC-LCCC/ILLUMINA/UNCID_2185736.14d89fac-d1b8-41fb-b812-0ba78aa61d90.121206_UNC15-SN850_0244_AD1H97ACXX_3_GGCTAC.tar.gz</td>\n",
       "      <td>4873865017</td>\n",
       "      <td>4.5GB</td>\n",
       "      <td>COAD: Colon Adenocarcinoma</td>\n",
       "      <td>.tar.gz</td>\n",
       "    </tr>\n",
       "    <tr>\n",
       "      <th>12749</th>\n",
       "      <td>9166c72f-8a43-425e-96d9-7fa6923a7f9e</td>\n",
       "      <td>TCGA-AZ-4313-01A-01R-1410-07</td>\n",
       "      <td>121206_UNC15-SN850_0244_AD1H97ACXX_GGCTAC_L003_2.fastq</td>\n",
       "      <td>https://storage.cloud.google.com/isb-cgc-open/tcga-qc/COAD/RNA/RNA-Seq/UNC-LCCC/ILLUMINA/9166c72f-8a43-425e-96d9-7fa6923a7f9e-121206_UNC15-SN850_0244_AD1H97ACXX_GGCTAC_L003_2_fastqc.html</td>\n",
       "      <td>https://storage.cloud.google.com/isb-cgc-open/tcga-qc/COAD/RNA/RNA-Seq/UNC-LCCC/ILLUMINA/9166c72f-8a43-425e-96d9-7fa6923a7f9e-121206_UNC15-SN850_0244_AD1H97ACXX_GGCTAC_L003_2_fastqc.zip</td>\n",
       "      <td>pass</td>\n",
       "      <td>54851583</td>\n",
       "      <td>0</td>\n",
       "      <td>48</td>\n",
       "      <td>48</td>\n",
       "      <td>1</td>\n",
       "      <td>50</td>\n",
       "      <td>pass</td>\n",
       "      <td>fail</td>\n",
       "      <td>35.626612</td>\n",
       "      <td>pass</td>\n",
       "      <td>pass</td>\n",
       "      <td>fail</td>\n",
       "      <td>TCGA</td>\n",
       "      <td>TCGA-AZ-4313-01A-01R-1410-07</td>\n",
       "      <td>COAD</td>\n",
       "      <td>COLON ADENOCARCINOMA</td>\n",
       "      <td>TP</td>\n",
       "      <td>Primary solid Tumor</td>\n",
       "      <td>RNA</td>\n",
       "      <td>RNA-Seq</td>\n",
       "      <td>UNC-LCCC</td>\n",
       "      <td>NaN</td>\n",
       "      <td>ILLUMINA</td>\n",
       "      <td>Illumina</td>\n",
       "      <td>unaligned</td>\n",
       "      <td>UNCID_2185736.14d89fac-d1b8-41fb-b812-0ba78aa61d90.121206_UNC15-SN850_0244_AD1H97ACXX_3_GGCTAC.tar.gz</td>\n",
       "      <td>4.873865e+09</td>\n",
       "      <td>aee63edd4e1b2588445927f8495ea4d5</td>\n",
       "      <td>9166c72f-8a43-425e-96d9-7fa6923a7f9e</td>\n",
       "      <td>14d89fac-d1b8-41fb-b812-0ba78aa61d90</td>\n",
       "      <td>1fd75c4d-e74c-410c-a150-814722c6c1cc</td>\n",
       "      <td>475f161c-2f7f-43a2-b187-de6038752f39</td>\n",
       "      <td>AZ</td>\n",
       "      <td>SRS157358</td>\n",
       "      <td>2013-09-15</td>\n",
       "      <td>2013-09-15</td>\n",
       "      <td>2013-09-15</td>\n",
       "      <td>Live</td>\n",
       "      <td>01</td>\n",
       "      <td>R</td>\n",
       "      <td>Illumina HiSeq 2000</td>\n",
       "      <td>fasta</td>\n",
       "      <td>NaN</td>\n",
       "      <td>NaN</td>\n",
       "      <td>NaN</td>\n",
       "      <td>NaN</td>\n",
       "      <td>NaN</td>\n",
       "      <td>NaN</td>\n",
       "      <td>NaN</td>\n",
       "      <td>9166c72f-8a43-425e-96d9-7fa6923a7f9e</td>\n",
       "      <td>14d89fac-d1b8-41fb-b812-0ba78aa61d90</td>\n",
       "      <td>gs://5aa919de-0aa0-43ec-9ec3-288481102b6d/tcga/COAD/RNA/RNA-Seq/UNC-LCCC/ILLUMINA/UNCID_2185736.14d89fac-d1b8-41fb-b812-0ba78aa61d90.121206_UNC15-SN850_0244_AD1H97ACXX_3_GGCTAC.tar.gz</td>\n",
       "      <td>4873865017</td>\n",
       "      <td>4.5GB</td>\n",
       "      <td>COAD: Colon Adenocarcinoma</td>\n",
       "      <td>.tar.gz</td>\n",
       "    </tr>\n",
       "  </tbody>\n",
       "</table>\n",
       "</div>"
      ],
      "text/plain": [
       "                           CGHub_analysisID                AliquotBarcode                                           fastqFilename  \\\n",
       "12748  9166c72f-8a43-425e-96d9-7fa6923a7f9e  TCGA-AZ-4313-01A-01R-1410-07  121206_UNC15-SN850_0244_AD1H97ACXX_GGCTAC_L003_1.fastq   \n",
       "12749  9166c72f-8a43-425e-96d9-7fa6923a7f9e  TCGA-AZ-4313-01A-01R-1410-07  121206_UNC15-SN850_0244_AD1H97ACXX_GGCTAC_L003_2.fastq   \n",
       "\n",
       "                                                                                                                                                                                  FastQC_html_url  \\\n",
       "12748  https://storage.cloud.google.com/isb-cgc-open/tcga-qc/COAD/RNA/RNA-Seq/UNC-LCCC/ILLUMINA/9166c72f-8a43-425e-96d9-7fa6923a7f9e-121206_UNC15-SN850_0244_AD1H97ACXX_GGCTAC_L003_1_fastqc.html   \n",
       "12749  https://storage.cloud.google.com/isb-cgc-open/tcga-qc/COAD/RNA/RNA-Seq/UNC-LCCC/ILLUMINA/9166c72f-8a43-425e-96d9-7fa6923a7f9e-121206_UNC15-SN850_0244_AD1H97ACXX_GGCTAC_L003_2_fastqc.html   \n",
       "\n",
       "                                                                                                                                                                                  FastQC_zip_url BasicStats  numTotalSeq  numPoorSeq  minLength  maxLength  delLength  pctGC SeqLenDist SeqDupLev  \\\n",
       "12748  https://storage.cloud.google.com/isb-cgc-open/tcga-qc/COAD/RNA/RNA-Seq/UNC-LCCC/ILLUMINA/9166c72f-8a43-425e-96d9-7fa6923a7f9e-121206_UNC15-SN850_0244_AD1H97ACXX_GGCTAC_L003_1_fastqc.zip  pass       54851583     0           48         48         1          50     pass       fail       \n",
       "12749  https://storage.cloud.google.com/isb-cgc-open/tcga-qc/COAD/RNA/RNA-Seq/UNC-LCCC/ILLUMINA/9166c72f-8a43-425e-96d9-7fa6923a7f9e-121206_UNC15-SN850_0244_AD1H97ACXX_GGCTAC_L003_2_fastqc.zip  pass       54851583     0           48         48         1          50     pass       fail       \n",
       "\n",
       "       Total_Dedup_Pct OverrepSeq AdaptCont KmerCont study                       barcode disease          disease_name sample_type     sample_type_name analyte_type library_type    center  center_name  platform platform_name   assembly  \\\n",
       "12748  32.809265        pass       pass      fail     TCGA  TCGA-AZ-4313-01A-01R-1410-07  COAD    COLON ADENOCARCINOMA  TP          Primary solid Tumor  RNA          RNA-Seq      UNC-LCCC NaN           ILLUMINA  Illumina      unaligned   \n",
       "12749  35.626612        pass       pass      fail     TCGA  TCGA-AZ-4313-01A-01R-1410-07  COAD    COLON ADENOCARCINOMA  TP          Primary solid Tumor  RNA          RNA-Seq      UNC-LCCC NaN           ILLUMINA  Illumina      unaligned   \n",
       "\n",
       "                                                                                                    filename    files_size                          checksum                           analysis_id                            aliquot_id                        participant_id  \\\n",
       "12748  UNCID_2185736.14d89fac-d1b8-41fb-b812-0ba78aa61d90.121206_UNC15-SN850_0244_AD1H97ACXX_3_GGCTAC.tar.gz  4.873865e+09  aee63edd4e1b2588445927f8495ea4d5  9166c72f-8a43-425e-96d9-7fa6923a7f9e  14d89fac-d1b8-41fb-b812-0ba78aa61d90  1fd75c4d-e74c-410c-a150-814722c6c1cc   \n",
       "12749  UNCID_2185736.14d89fac-d1b8-41fb-b812-0ba78aa61d90.121206_UNC15-SN850_0244_AD1H97ACXX_3_GGCTAC.tar.gz  4.873865e+09  aee63edd4e1b2588445927f8495ea4d5  9166c72f-8a43-425e-96d9-7fa6923a7f9e  14d89fac-d1b8-41fb-b812-0ba78aa61d90  1fd75c4d-e74c-410c-a150-814722c6c1cc   \n",
       "\n",
       "                                  sample_id tss_id sample_accession   published    uploaded    modified state sample_type_code analyte_type_code   platform_full_name file_type reason reagent_vendor reagent_name catalog_number is_custom target_file_url probe_file_url  \\\n",
       "12748  475f161c-2f7f-43a2-b187-de6038752f39  AZ     SRS157358        2013-09-15  2013-09-15  2013-09-15  Live  01               R                 Illumina HiSeq 2000  fasta     NaN    NaN            NaN          NaN            NaN       NaN             NaN             \n",
       "12749  475f161c-2f7f-43a2-b187-de6038752f39  AZ     SRS157358        2013-09-15  2013-09-15  2013-09-15  Live  01               R                 Illumina HiSeq 2000  fasta     NaN    NaN            NaN          NaN            NaN       NaN             NaN             \n",
       "\n",
       "                            CGHubAnalysisID                           AliquotUUID                                                                                                                                                                                GCSobject  objectSizeBytes pretty_size  \\\n",
       "12748  9166c72f-8a43-425e-96d9-7fa6923a7f9e  14d89fac-d1b8-41fb-b812-0ba78aa61d90  gs://5aa919de-0aa0-43ec-9ec3-288481102b6d/tcga/COAD/RNA/RNA-Seq/UNC-LCCC/ILLUMINA/UNCID_2185736.14d89fac-d1b8-41fb-b812-0ba78aa61d90.121206_UNC15-SN850_0244_AD1H97ACXX_3_GGCTAC.tar.gz  4873865017       4.5GB        \n",
       "12749  9166c72f-8a43-425e-96d9-7fa6923a7f9e  14d89fac-d1b8-41fb-b812-0ba78aa61d90  gs://5aa919de-0aa0-43ec-9ec3-288481102b6d/tcga/COAD/RNA/RNA-Seq/UNC-LCCC/ILLUMINA/UNCID_2185736.14d89fac-d1b8-41fb-b812-0ba78aa61d90.121206_UNC15-SN850_0244_AD1H97ACXX_3_GGCTAC.tar.gz  4873865017       4.5GB        \n",
       "\n",
       "              handy_disease_names GCSobject_ext  \n",
       "12748  COAD: Colon Adenocarcinoma  .tar.gz       \n",
       "12749  COAD: Colon Adenocarcinoma  .tar.gz       "
      ]
     },
     "execution_count": 108,
     "metadata": {},
     "output_type": "execute_result"
    }
   ],
   "source": [
    "ndf[ndf.aliquot_id == '14d89fac-d1b8-41fb-b812-0ba78aa61d90']"
   ]
  },
  {
   "cell_type": "code",
   "execution_count": 109,
   "metadata": {
    "collapsed": false
   },
   "outputs": [
    {
     "data": {
      "text/html": [
       "<div>\n",
       "<style>\n",
       "    .dataframe thead tr:only-child th {\n",
       "        text-align: right;\n",
       "    }\n",
       "\n",
       "    .dataframe thead th {\n",
       "        text-align: left;\n",
       "    }\n",
       "\n",
       "    .dataframe tbody tr th {\n",
       "        vertical-align: top;\n",
       "    }\n",
       "</style>\n",
       "<table border=\"1\" class=\"dataframe\">\n",
       "  <thead>\n",
       "    <tr style=\"text-align: right;\">\n",
       "      <th></th>\n",
       "      <th>CGHub_analysisID</th>\n",
       "      <th>AliquotBarcode</th>\n",
       "      <th>fastqFilename</th>\n",
       "      <th>FastQC_html_url</th>\n",
       "      <th>FastQC_zip_url</th>\n",
       "      <th>BasicStats</th>\n",
       "      <th>numTotalSeq</th>\n",
       "      <th>numPoorSeq</th>\n",
       "      <th>minLength</th>\n",
       "      <th>maxLength</th>\n",
       "      <th>delLength</th>\n",
       "      <th>pctGC</th>\n",
       "      <th>SeqLenDist</th>\n",
       "      <th>SeqDupLev</th>\n",
       "      <th>Total_Dedup_Pct</th>\n",
       "      <th>OverrepSeq</th>\n",
       "      <th>AdaptCont</th>\n",
       "      <th>KmerCont</th>\n",
       "      <th>study</th>\n",
       "      <th>barcode</th>\n",
       "      <th>disease</th>\n",
       "      <th>disease_name</th>\n",
       "      <th>sample_type</th>\n",
       "      <th>sample_type_name</th>\n",
       "      <th>analyte_type</th>\n",
       "      <th>library_type</th>\n",
       "      <th>center</th>\n",
       "      <th>center_name</th>\n",
       "      <th>platform</th>\n",
       "      <th>platform_name</th>\n",
       "      <th>assembly</th>\n",
       "      <th>filename</th>\n",
       "      <th>files_size</th>\n",
       "      <th>checksum</th>\n",
       "      <th>analysis_id</th>\n",
       "      <th>aliquot_id</th>\n",
       "      <th>participant_id</th>\n",
       "      <th>sample_id</th>\n",
       "      <th>tss_id</th>\n",
       "      <th>sample_accession</th>\n",
       "      <th>published</th>\n",
       "      <th>uploaded</th>\n",
       "      <th>modified</th>\n",
       "      <th>state</th>\n",
       "      <th>sample_type_code</th>\n",
       "      <th>analyte_type_code</th>\n",
       "      <th>platform_full_name</th>\n",
       "      <th>file_type</th>\n",
       "      <th>reason</th>\n",
       "      <th>reagent_vendor</th>\n",
       "      <th>reagent_name</th>\n",
       "      <th>catalog_number</th>\n",
       "      <th>is_custom</th>\n",
       "      <th>target_file_url</th>\n",
       "      <th>probe_file_url</th>\n",
       "      <th>CGHubAnalysisID</th>\n",
       "      <th>AliquotUUID</th>\n",
       "      <th>GCSobject</th>\n",
       "      <th>objectSizeBytes</th>\n",
       "      <th>pretty_size</th>\n",
       "      <th>handy_disease_names</th>\n",
       "      <th>GCSobject_ext</th>\n",
       "    </tr>\n",
       "  </thead>\n",
       "  <tbody>\n",
       "    <tr>\n",
       "      <th>1081</th>\n",
       "      <td>0c30f5b1-5ed5-48d1-b8df-df4611761dd3</td>\n",
       "      <td>TCGA-A7-A26F-01B-04R-A22O-07</td>\n",
       "      <td>121011_UNC15-SN850_0238_AD13P9ACXX_NoIndex_L003_1.fastq</td>\n",
       "      <td>https://storage.cloud.google.com/isb-cgc-open/tcga-qc/BRCA/RNA/RNA-Seq/UNC-LCCC/ILLUMINA/0c30f5b1-5ed5-48d1-b8df-df4611761dd3-121011_UNC15-SN850_0238_AD13P9ACXX_NoIndex_L003_1_fastqc.html</td>\n",
       "      <td>https://storage.cloud.google.com/isb-cgc-open/tcga-qc/BRCA/RNA/RNA-Seq/UNC-LCCC/ILLUMINA/0c30f5b1-5ed5-48d1-b8df-df4611761dd3-121011_UNC15-SN850_0238_AD13P9ACXX_NoIndex_L003_1_fastqc.zip</td>\n",
       "      <td>pass</td>\n",
       "      <td>139083102</td>\n",
       "      <td>0</td>\n",
       "      <td>50</td>\n",
       "      <td>50</td>\n",
       "      <td>1</td>\n",
       "      <td>46</td>\n",
       "      <td>pass</td>\n",
       "      <td>warn</td>\n",
       "      <td>50.359123</td>\n",
       "      <td>warn</td>\n",
       "      <td>pass</td>\n",
       "      <td>fail</td>\n",
       "      <td>TCGA</td>\n",
       "      <td>TCGA-A7-A26F-01B-04R-A22O-07</td>\n",
       "      <td>BRCA</td>\n",
       "      <td>BREAST INVASIVE CARCINOMA</td>\n",
       "      <td>TP</td>\n",
       "      <td>Primary solid Tumor</td>\n",
       "      <td>RNA</td>\n",
       "      <td>RNA-Seq</td>\n",
       "      <td>UNC-LCCC</td>\n",
       "      <td>NaN</td>\n",
       "      <td>ILLUMINA</td>\n",
       "      <td>Illumina</td>\n",
       "      <td>unaligned</td>\n",
       "      <td>UNCID_2364669.1B907925-B33C-4E4A-96E0-65F15B4712B9.121011_UNC15-SN850_0238_AD13P9ACXX_3_CAGATC.tar.gz</td>\n",
       "      <td>1.174962e+10</td>\n",
       "      <td>b2635cc07552bd262a14101d51cc3586</td>\n",
       "      <td>0c30f5b1-5ed5-48d1-b8df-df4611761dd3</td>\n",
       "      <td>1B907925-B33C-4E4A-96E0-65F15B4712B9</td>\n",
       "      <td>3b7b9c1e-a84c-47ed-983c-9e4b00cbf01a</td>\n",
       "      <td>29619d1e-e8b4-411e-bbba-07f2cfb69e8a</td>\n",
       "      <td>A7</td>\n",
       "      <td>NaN</td>\n",
       "      <td>2014-02-28</td>\n",
       "      <td>2014-02-28</td>\n",
       "      <td>2014-02-28</td>\n",
       "      <td>Live</td>\n",
       "      <td>01</td>\n",
       "      <td>R</td>\n",
       "      <td>Illumina HiSeq 2000</td>\n",
       "      <td>fasta</td>\n",
       "      <td>NaN</td>\n",
       "      <td>NaN</td>\n",
       "      <td>NaN</td>\n",
       "      <td>NaN</td>\n",
       "      <td>NaN</td>\n",
       "      <td>NaN</td>\n",
       "      <td>NaN</td>\n",
       "      <td>0c30f5b1-5ed5-48d1-b8df-df4611761dd3</td>\n",
       "      <td>1b907925-b33c-4e4a-96e0-65f15b4712b9</td>\n",
       "      <td>gs://5aa919de-0aa0-43ec-9ec3-288481102b6d/tcga/BRCA/RNA/RNA-Seq/UNC-LCCC/ILLUMINA/UNCID_2364669.1B907925-B33C-4E4A-96E0-65F15B4712B9.121011_UNC15-SN850_0238_AD13P9ACXX_3_CAGATC.tar.gz</td>\n",
       "      <td>11749619702</td>\n",
       "      <td>10.9GB</td>\n",
       "      <td>BRCA: Breast Invasive Carcinoma</td>\n",
       "      <td>.tar.gz</td>\n",
       "    </tr>\n",
       "    <tr>\n",
       "      <th>1082</th>\n",
       "      <td>0c30f5b1-5ed5-48d1-b8df-df4611761dd3</td>\n",
       "      <td>TCGA-A7-A26F-01B-04R-A22O-07</td>\n",
       "      <td>121011_UNC15-SN850_0238_AD13P9ACXX_NoIndex_L003_2.fastq</td>\n",
       "      <td>https://storage.cloud.google.com/isb-cgc-open/tcga-qc/BRCA/RNA/RNA-Seq/UNC-LCCC/ILLUMINA/0c30f5b1-5ed5-48d1-b8df-df4611761dd3-121011_UNC15-SN850_0238_AD13P9ACXX_NoIndex_L003_2_fastqc.html</td>\n",
       "      <td>https://storage.cloud.google.com/isb-cgc-open/tcga-qc/BRCA/RNA/RNA-Seq/UNC-LCCC/ILLUMINA/0c30f5b1-5ed5-48d1-b8df-df4611761dd3-121011_UNC15-SN850_0238_AD13P9ACXX_NoIndex_L003_2_fastqc.zip</td>\n",
       "      <td>pass</td>\n",
       "      <td>139083102</td>\n",
       "      <td>0</td>\n",
       "      <td>50</td>\n",
       "      <td>50</td>\n",
       "      <td>1</td>\n",
       "      <td>46</td>\n",
       "      <td>pass</td>\n",
       "      <td>warn</td>\n",
       "      <td>50.832837</td>\n",
       "      <td>warn</td>\n",
       "      <td>pass</td>\n",
       "      <td>fail</td>\n",
       "      <td>TCGA</td>\n",
       "      <td>TCGA-A7-A26F-01B-04R-A22O-07</td>\n",
       "      <td>BRCA</td>\n",
       "      <td>BREAST INVASIVE CARCINOMA</td>\n",
       "      <td>TP</td>\n",
       "      <td>Primary solid Tumor</td>\n",
       "      <td>RNA</td>\n",
       "      <td>RNA-Seq</td>\n",
       "      <td>UNC-LCCC</td>\n",
       "      <td>NaN</td>\n",
       "      <td>ILLUMINA</td>\n",
       "      <td>Illumina</td>\n",
       "      <td>unaligned</td>\n",
       "      <td>UNCID_2364669.1B907925-B33C-4E4A-96E0-65F15B4712B9.121011_UNC15-SN850_0238_AD13P9ACXX_3_CAGATC.tar.gz</td>\n",
       "      <td>1.174962e+10</td>\n",
       "      <td>b2635cc07552bd262a14101d51cc3586</td>\n",
       "      <td>0c30f5b1-5ed5-48d1-b8df-df4611761dd3</td>\n",
       "      <td>1B907925-B33C-4E4A-96E0-65F15B4712B9</td>\n",
       "      <td>3b7b9c1e-a84c-47ed-983c-9e4b00cbf01a</td>\n",
       "      <td>29619d1e-e8b4-411e-bbba-07f2cfb69e8a</td>\n",
       "      <td>A7</td>\n",
       "      <td>NaN</td>\n",
       "      <td>2014-02-28</td>\n",
       "      <td>2014-02-28</td>\n",
       "      <td>2014-02-28</td>\n",
       "      <td>Live</td>\n",
       "      <td>01</td>\n",
       "      <td>R</td>\n",
       "      <td>Illumina HiSeq 2000</td>\n",
       "      <td>fasta</td>\n",
       "      <td>NaN</td>\n",
       "      <td>NaN</td>\n",
       "      <td>NaN</td>\n",
       "      <td>NaN</td>\n",
       "      <td>NaN</td>\n",
       "      <td>NaN</td>\n",
       "      <td>NaN</td>\n",
       "      <td>0c30f5b1-5ed5-48d1-b8df-df4611761dd3</td>\n",
       "      <td>1b907925-b33c-4e4a-96e0-65f15b4712b9</td>\n",
       "      <td>gs://5aa919de-0aa0-43ec-9ec3-288481102b6d/tcga/BRCA/RNA/RNA-Seq/UNC-LCCC/ILLUMINA/UNCID_2364669.1B907925-B33C-4E4A-96E0-65F15B4712B9.121011_UNC15-SN850_0238_AD13P9ACXX_3_CAGATC.tar.gz</td>\n",
       "      <td>11749619702</td>\n",
       "      <td>10.9GB</td>\n",
       "      <td>BRCA: Breast Invasive Carcinoma</td>\n",
       "      <td>.tar.gz</td>\n",
       "    </tr>\n",
       "    <tr>\n",
       "      <th>11467</th>\n",
       "      <td>822d3bb2-b845-4073-a5fb-7ecf9e5c10a1</td>\n",
       "      <td>TCGA-A7-A26F-01B-04R-A22O-07</td>\n",
       "      <td>120710_UNC12-SN629_0215_BC0WRNACXX_TGACCA_L004_1.fastq</td>\n",
       "      <td>https://storage.cloud.google.com/isb-cgc-open/tcga-qc/BRCA/RNA/RNA-Seq/UNC-LCCC/ILLUMINA/822d3bb2-b845-4073-a5fb-7ecf9e5c10a1-120710_UNC12-SN629_0215_BC0WRNACXX_TGACCA_L004_1_fastqc.html</td>\n",
       "      <td>https://storage.cloud.google.com/isb-cgc-open/tcga-qc/BRCA/RNA/RNA-Seq/UNC-LCCC/ILLUMINA/822d3bb2-b845-4073-a5fb-7ecf9e5c10a1-120710_UNC12-SN629_0215_BC0WRNACXX_TGACCA_L004_1_fastqc.zip</td>\n",
       "      <td>pass</td>\n",
       "      <td>65059204</td>\n",
       "      <td>0</td>\n",
       "      <td>48</td>\n",
       "      <td>48</td>\n",
       "      <td>1</td>\n",
       "      <td>44</td>\n",
       "      <td>pass</td>\n",
       "      <td>fail</td>\n",
       "      <td>43.612713</td>\n",
       "      <td>warn</td>\n",
       "      <td>pass</td>\n",
       "      <td>fail</td>\n",
       "      <td>TCGA</td>\n",
       "      <td>TCGA-A7-A26F-01B-04R-A22O-07</td>\n",
       "      <td>BRCA</td>\n",
       "      <td>BREAST INVASIVE CARCINOMA</td>\n",
       "      <td>TP</td>\n",
       "      <td>Primary solid Tumor</td>\n",
       "      <td>RNA</td>\n",
       "      <td>RNA-Seq</td>\n",
       "      <td>UNC-LCCC</td>\n",
       "      <td>NaN</td>\n",
       "      <td>ILLUMINA</td>\n",
       "      <td>Illumina</td>\n",
       "      <td>unaligned</td>\n",
       "      <td>UNCID_2355700.1B907925-B33C-4E4A-96E0-65F15B4712B9.120710_UNC12-SN629_0215_BC0WRNACXX_4_TGACCA.tar.gz</td>\n",
       "      <td>5.597906e+09</td>\n",
       "      <td>d9a7716157290ede2d13614b8ac1bcb8</td>\n",
       "      <td>822d3bb2-b845-4073-a5fb-7ecf9e5c10a1</td>\n",
       "      <td>1B907925-B33C-4E4A-96E0-65F15B4712B9</td>\n",
       "      <td>3b7b9c1e-a84c-47ed-983c-9e4b00cbf01a</td>\n",
       "      <td>29619d1e-e8b4-411e-bbba-07f2cfb69e8a</td>\n",
       "      <td>A7</td>\n",
       "      <td>NaN</td>\n",
       "      <td>2014-02-21</td>\n",
       "      <td>2014-02-21</td>\n",
       "      <td>2014-02-21</td>\n",
       "      <td>Live</td>\n",
       "      <td>01</td>\n",
       "      <td>R</td>\n",
       "      <td>Illumina HiSeq 2000</td>\n",
       "      <td>fasta</td>\n",
       "      <td>NaN</td>\n",
       "      <td>NaN</td>\n",
       "      <td>NaN</td>\n",
       "      <td>NaN</td>\n",
       "      <td>NaN</td>\n",
       "      <td>NaN</td>\n",
       "      <td>NaN</td>\n",
       "      <td>822d3bb2-b845-4073-a5fb-7ecf9e5c10a1</td>\n",
       "      <td>1b907925-b33c-4e4a-96e0-65f15b4712b9</td>\n",
       "      <td>gs://5aa919de-0aa0-43ec-9ec3-288481102b6d/tcga/BRCA/RNA/RNA-Seq/UNC-LCCC/ILLUMINA/UNCID_2355700.1B907925-B33C-4E4A-96E0-65F15B4712B9.120710_UNC12-SN629_0215_BC0WRNACXX_4_TGACCA.tar.gz</td>\n",
       "      <td>5597905621</td>\n",
       "      <td>5.2GB</td>\n",
       "      <td>BRCA: Breast Invasive Carcinoma</td>\n",
       "      <td>.tar.gz</td>\n",
       "    </tr>\n",
       "    <tr>\n",
       "      <th>11468</th>\n",
       "      <td>822d3bb2-b845-4073-a5fb-7ecf9e5c10a1</td>\n",
       "      <td>TCGA-A7-A26F-01B-04R-A22O-07</td>\n",
       "      <td>120710_UNC12-SN629_0215_BC0WRNACXX_TGACCA_L004_2.fastq</td>\n",
       "      <td>https://storage.cloud.google.com/isb-cgc-open/tcga-qc/BRCA/RNA/RNA-Seq/UNC-LCCC/ILLUMINA/822d3bb2-b845-4073-a5fb-7ecf9e5c10a1-120710_UNC12-SN629_0215_BC0WRNACXX_TGACCA_L004_2_fastqc.html</td>\n",
       "      <td>https://storage.cloud.google.com/isb-cgc-open/tcga-qc/BRCA/RNA/RNA-Seq/UNC-LCCC/ILLUMINA/822d3bb2-b845-4073-a5fb-7ecf9e5c10a1-120710_UNC12-SN629_0215_BC0WRNACXX_TGACCA_L004_2_fastqc.zip</td>\n",
       "      <td>pass</td>\n",
       "      <td>65059204</td>\n",
       "      <td>0</td>\n",
       "      <td>48</td>\n",
       "      <td>48</td>\n",
       "      <td>1</td>\n",
       "      <td>45</td>\n",
       "      <td>pass</td>\n",
       "      <td>fail</td>\n",
       "      <td>43.449230</td>\n",
       "      <td>pass</td>\n",
       "      <td>pass</td>\n",
       "      <td>fail</td>\n",
       "      <td>TCGA</td>\n",
       "      <td>TCGA-A7-A26F-01B-04R-A22O-07</td>\n",
       "      <td>BRCA</td>\n",
       "      <td>BREAST INVASIVE CARCINOMA</td>\n",
       "      <td>TP</td>\n",
       "      <td>Primary solid Tumor</td>\n",
       "      <td>RNA</td>\n",
       "      <td>RNA-Seq</td>\n",
       "      <td>UNC-LCCC</td>\n",
       "      <td>NaN</td>\n",
       "      <td>ILLUMINA</td>\n",
       "      <td>Illumina</td>\n",
       "      <td>unaligned</td>\n",
       "      <td>UNCID_2355700.1B907925-B33C-4E4A-96E0-65F15B4712B9.120710_UNC12-SN629_0215_BC0WRNACXX_4_TGACCA.tar.gz</td>\n",
       "      <td>5.597906e+09</td>\n",
       "      <td>d9a7716157290ede2d13614b8ac1bcb8</td>\n",
       "      <td>822d3bb2-b845-4073-a5fb-7ecf9e5c10a1</td>\n",
       "      <td>1B907925-B33C-4E4A-96E0-65F15B4712B9</td>\n",
       "      <td>3b7b9c1e-a84c-47ed-983c-9e4b00cbf01a</td>\n",
       "      <td>29619d1e-e8b4-411e-bbba-07f2cfb69e8a</td>\n",
       "      <td>A7</td>\n",
       "      <td>NaN</td>\n",
       "      <td>2014-02-21</td>\n",
       "      <td>2014-02-21</td>\n",
       "      <td>2014-02-21</td>\n",
       "      <td>Live</td>\n",
       "      <td>01</td>\n",
       "      <td>R</td>\n",
       "      <td>Illumina HiSeq 2000</td>\n",
       "      <td>fasta</td>\n",
       "      <td>NaN</td>\n",
       "      <td>NaN</td>\n",
       "      <td>NaN</td>\n",
       "      <td>NaN</td>\n",
       "      <td>NaN</td>\n",
       "      <td>NaN</td>\n",
       "      <td>NaN</td>\n",
       "      <td>822d3bb2-b845-4073-a5fb-7ecf9e5c10a1</td>\n",
       "      <td>1b907925-b33c-4e4a-96e0-65f15b4712b9</td>\n",
       "      <td>gs://5aa919de-0aa0-43ec-9ec3-288481102b6d/tcga/BRCA/RNA/RNA-Seq/UNC-LCCC/ILLUMINA/UNCID_2355700.1B907925-B33C-4E4A-96E0-65F15B4712B9.120710_UNC12-SN629_0215_BC0WRNACXX_4_TGACCA.tar.gz</td>\n",
       "      <td>5597905621</td>\n",
       "      <td>5.2GB</td>\n",
       "      <td>BRCA: Breast Invasive Carcinoma</td>\n",
       "      <td>.tar.gz</td>\n",
       "    </tr>\n",
       "    <tr>\n",
       "      <th>18852</th>\n",
       "      <td>d7f11b34-6b38-4a7a-80b1-fae9b7243caf</td>\n",
       "      <td>TCGA-A7-A26F-01B-04R-A22O-07</td>\n",
       "      <td>120710_UNC16-SN851_0169_AC0VVKACXX_CAGATC_L002_1.fastq</td>\n",
       "      <td>https://storage.cloud.google.com/isb-cgc-open/tcga-qc/BRCA/RNA/RNA-Seq/UNC-LCCC/ILLUMINA/d7f11b34-6b38-4a7a-80b1-fae9b7243caf-120710_UNC16-SN851_0169_AC0VVKACXX_CAGATC_L002_1_fastqc.html</td>\n",
       "      <td>https://storage.cloud.google.com/isb-cgc-open/tcga-qc/BRCA/RNA/RNA-Seq/UNC-LCCC/ILLUMINA/d7f11b34-6b38-4a7a-80b1-fae9b7243caf-120710_UNC16-SN851_0169_AC0VVKACXX_CAGATC_L002_1_fastqc.zip</td>\n",
       "      <td>pass</td>\n",
       "      <td>74618102</td>\n",
       "      <td>0</td>\n",
       "      <td>48</td>\n",
       "      <td>48</td>\n",
       "      <td>1</td>\n",
       "      <td>46</td>\n",
       "      <td>pass</td>\n",
       "      <td>pass</td>\n",
       "      <td>73.752683</td>\n",
       "      <td>warn</td>\n",
       "      <td>pass</td>\n",
       "      <td>fail</td>\n",
       "      <td>TCGA</td>\n",
       "      <td>TCGA-A7-A26F-01B-04R-A22O-07</td>\n",
       "      <td>BRCA</td>\n",
       "      <td>BREAST INVASIVE CARCINOMA</td>\n",
       "      <td>TP</td>\n",
       "      <td>Primary solid Tumor</td>\n",
       "      <td>RNA</td>\n",
       "      <td>RNA-Seq</td>\n",
       "      <td>UNC-LCCC</td>\n",
       "      <td>NaN</td>\n",
       "      <td>ILLUMINA</td>\n",
       "      <td>Illumina</td>\n",
       "      <td>unaligned</td>\n",
       "      <td>UNCID_2316584.1B907925-B33C-4E4A-96E0-65F15B4712B9.120710_UNC16-SN851_0169_AC0VVKACXX_2_CAGATC.tar.gz</td>\n",
       "      <td>6.460240e+09</td>\n",
       "      <td>e52dc24517c7824b2dcd5250ff076eea</td>\n",
       "      <td>d7f11b34-6b38-4a7a-80b1-fae9b7243caf</td>\n",
       "      <td>1B907925-B33C-4E4A-96E0-65F15B4712B9</td>\n",
       "      <td>3b7b9c1e-a84c-47ed-983c-9e4b00cbf01a</td>\n",
       "      <td>29619d1e-e8b4-411e-bbba-07f2cfb69e8a</td>\n",
       "      <td>A7</td>\n",
       "      <td>NaN</td>\n",
       "      <td>2014-01-06</td>\n",
       "      <td>2014-01-06</td>\n",
       "      <td>2014-01-06</td>\n",
       "      <td>Live</td>\n",
       "      <td>01</td>\n",
       "      <td>R</td>\n",
       "      <td>Illumina HiSeq 2000</td>\n",
       "      <td>fasta</td>\n",
       "      <td>NaN</td>\n",
       "      <td>NaN</td>\n",
       "      <td>NaN</td>\n",
       "      <td>NaN</td>\n",
       "      <td>NaN</td>\n",
       "      <td>NaN</td>\n",
       "      <td>NaN</td>\n",
       "      <td>d7f11b34-6b38-4a7a-80b1-fae9b7243caf</td>\n",
       "      <td>1b907925-b33c-4e4a-96e0-65f15b4712b9</td>\n",
       "      <td>gs://5aa919de-0aa0-43ec-9ec3-288481102b6d/tcga/BRCA/RNA/RNA-Seq/UNC-LCCC/ILLUMINA/UNCID_2316584.1B907925-B33C-4E4A-96E0-65F15B4712B9.120710_UNC16-SN851_0169_AC0VVKACXX_2_CAGATC.tar.gz</td>\n",
       "      <td>6460239681</td>\n",
       "      <td>6.0GB</td>\n",
       "      <td>BRCA: Breast Invasive Carcinoma</td>\n",
       "      <td>.tar.gz</td>\n",
       "    </tr>\n",
       "    <tr>\n",
       "      <th>18853</th>\n",
       "      <td>d7f11b34-6b38-4a7a-80b1-fae9b7243caf</td>\n",
       "      <td>TCGA-A7-A26F-01B-04R-A22O-07</td>\n",
       "      <td>120710_UNC16-SN851_0169_AC0VVKACXX_CAGATC_L002_2.fastq</td>\n",
       "      <td>https://storage.cloud.google.com/isb-cgc-open/tcga-qc/BRCA/RNA/RNA-Seq/UNC-LCCC/ILLUMINA/d7f11b34-6b38-4a7a-80b1-fae9b7243caf-120710_UNC16-SN851_0169_AC0VVKACXX_CAGATC_L002_2_fastqc.html</td>\n",
       "      <td>https://storage.cloud.google.com/isb-cgc-open/tcga-qc/BRCA/RNA/RNA-Seq/UNC-LCCC/ILLUMINA/d7f11b34-6b38-4a7a-80b1-fae9b7243caf-120710_UNC16-SN851_0169_AC0VVKACXX_CAGATC_L002_2_fastqc.zip</td>\n",
       "      <td>pass</td>\n",
       "      <td>74618102</td>\n",
       "      <td>0</td>\n",
       "      <td>48</td>\n",
       "      <td>48</td>\n",
       "      <td>1</td>\n",
       "      <td>46</td>\n",
       "      <td>pass</td>\n",
       "      <td>warn</td>\n",
       "      <td>62.638952</td>\n",
       "      <td>warn</td>\n",
       "      <td>pass</td>\n",
       "      <td>fail</td>\n",
       "      <td>TCGA</td>\n",
       "      <td>TCGA-A7-A26F-01B-04R-A22O-07</td>\n",
       "      <td>BRCA</td>\n",
       "      <td>BREAST INVASIVE CARCINOMA</td>\n",
       "      <td>TP</td>\n",
       "      <td>Primary solid Tumor</td>\n",
       "      <td>RNA</td>\n",
       "      <td>RNA-Seq</td>\n",
       "      <td>UNC-LCCC</td>\n",
       "      <td>NaN</td>\n",
       "      <td>ILLUMINA</td>\n",
       "      <td>Illumina</td>\n",
       "      <td>unaligned</td>\n",
       "      <td>UNCID_2316584.1B907925-B33C-4E4A-96E0-65F15B4712B9.120710_UNC16-SN851_0169_AC0VVKACXX_2_CAGATC.tar.gz</td>\n",
       "      <td>6.460240e+09</td>\n",
       "      <td>e52dc24517c7824b2dcd5250ff076eea</td>\n",
       "      <td>d7f11b34-6b38-4a7a-80b1-fae9b7243caf</td>\n",
       "      <td>1B907925-B33C-4E4A-96E0-65F15B4712B9</td>\n",
       "      <td>3b7b9c1e-a84c-47ed-983c-9e4b00cbf01a</td>\n",
       "      <td>29619d1e-e8b4-411e-bbba-07f2cfb69e8a</td>\n",
       "      <td>A7</td>\n",
       "      <td>NaN</td>\n",
       "      <td>2014-01-06</td>\n",
       "      <td>2014-01-06</td>\n",
       "      <td>2014-01-06</td>\n",
       "      <td>Live</td>\n",
       "      <td>01</td>\n",
       "      <td>R</td>\n",
       "      <td>Illumina HiSeq 2000</td>\n",
       "      <td>fasta</td>\n",
       "      <td>NaN</td>\n",
       "      <td>NaN</td>\n",
       "      <td>NaN</td>\n",
       "      <td>NaN</td>\n",
       "      <td>NaN</td>\n",
       "      <td>NaN</td>\n",
       "      <td>NaN</td>\n",
       "      <td>d7f11b34-6b38-4a7a-80b1-fae9b7243caf</td>\n",
       "      <td>1b907925-b33c-4e4a-96e0-65f15b4712b9</td>\n",
       "      <td>gs://5aa919de-0aa0-43ec-9ec3-288481102b6d/tcga/BRCA/RNA/RNA-Seq/UNC-LCCC/ILLUMINA/UNCID_2316584.1B907925-B33C-4E4A-96E0-65F15B4712B9.120710_UNC16-SN851_0169_AC0VVKACXX_2_CAGATC.tar.gz</td>\n",
       "      <td>6460239681</td>\n",
       "      <td>6.0GB</td>\n",
       "      <td>BRCA: Breast Invasive Carcinoma</td>\n",
       "      <td>.tar.gz</td>\n",
       "    </tr>\n",
       "  </tbody>\n",
       "</table>\n",
       "</div>"
      ],
      "text/plain": [
       "                           CGHub_analysisID                AliquotBarcode                                            fastqFilename  \\\n",
       "1081   0c30f5b1-5ed5-48d1-b8df-df4611761dd3  TCGA-A7-A26F-01B-04R-A22O-07  121011_UNC15-SN850_0238_AD13P9ACXX_NoIndex_L003_1.fastq   \n",
       "1082   0c30f5b1-5ed5-48d1-b8df-df4611761dd3  TCGA-A7-A26F-01B-04R-A22O-07  121011_UNC15-SN850_0238_AD13P9ACXX_NoIndex_L003_2.fastq   \n",
       "11467  822d3bb2-b845-4073-a5fb-7ecf9e5c10a1  TCGA-A7-A26F-01B-04R-A22O-07  120710_UNC12-SN629_0215_BC0WRNACXX_TGACCA_L004_1.fastq    \n",
       "11468  822d3bb2-b845-4073-a5fb-7ecf9e5c10a1  TCGA-A7-A26F-01B-04R-A22O-07  120710_UNC12-SN629_0215_BC0WRNACXX_TGACCA_L004_2.fastq    \n",
       "18852  d7f11b34-6b38-4a7a-80b1-fae9b7243caf  TCGA-A7-A26F-01B-04R-A22O-07  120710_UNC16-SN851_0169_AC0VVKACXX_CAGATC_L002_1.fastq    \n",
       "18853  d7f11b34-6b38-4a7a-80b1-fae9b7243caf  TCGA-A7-A26F-01B-04R-A22O-07  120710_UNC16-SN851_0169_AC0VVKACXX_CAGATC_L002_2.fastq    \n",
       "\n",
       "                                                                                                                                                                                   FastQC_html_url  \\\n",
       "1081   https://storage.cloud.google.com/isb-cgc-open/tcga-qc/BRCA/RNA/RNA-Seq/UNC-LCCC/ILLUMINA/0c30f5b1-5ed5-48d1-b8df-df4611761dd3-121011_UNC15-SN850_0238_AD13P9ACXX_NoIndex_L003_1_fastqc.html   \n",
       "1082   https://storage.cloud.google.com/isb-cgc-open/tcga-qc/BRCA/RNA/RNA-Seq/UNC-LCCC/ILLUMINA/0c30f5b1-5ed5-48d1-b8df-df4611761dd3-121011_UNC15-SN850_0238_AD13P9ACXX_NoIndex_L003_2_fastqc.html   \n",
       "11467  https://storage.cloud.google.com/isb-cgc-open/tcga-qc/BRCA/RNA/RNA-Seq/UNC-LCCC/ILLUMINA/822d3bb2-b845-4073-a5fb-7ecf9e5c10a1-120710_UNC12-SN629_0215_BC0WRNACXX_TGACCA_L004_1_fastqc.html    \n",
       "11468  https://storage.cloud.google.com/isb-cgc-open/tcga-qc/BRCA/RNA/RNA-Seq/UNC-LCCC/ILLUMINA/822d3bb2-b845-4073-a5fb-7ecf9e5c10a1-120710_UNC12-SN629_0215_BC0WRNACXX_TGACCA_L004_2_fastqc.html    \n",
       "18852  https://storage.cloud.google.com/isb-cgc-open/tcga-qc/BRCA/RNA/RNA-Seq/UNC-LCCC/ILLUMINA/d7f11b34-6b38-4a7a-80b1-fae9b7243caf-120710_UNC16-SN851_0169_AC0VVKACXX_CAGATC_L002_1_fastqc.html    \n",
       "18853  https://storage.cloud.google.com/isb-cgc-open/tcga-qc/BRCA/RNA/RNA-Seq/UNC-LCCC/ILLUMINA/d7f11b34-6b38-4a7a-80b1-fae9b7243caf-120710_UNC16-SN851_0169_AC0VVKACXX_CAGATC_L002_2_fastqc.html    \n",
       "\n",
       "                                                                                                                                                                                   FastQC_zip_url BasicStats  numTotalSeq  numPoorSeq  minLength  maxLength  delLength  pctGC SeqLenDist SeqDupLev  \\\n",
       "1081   https://storage.cloud.google.com/isb-cgc-open/tcga-qc/BRCA/RNA/RNA-Seq/UNC-LCCC/ILLUMINA/0c30f5b1-5ed5-48d1-b8df-df4611761dd3-121011_UNC15-SN850_0238_AD13P9ACXX_NoIndex_L003_1_fastqc.zip  pass       139083102    0           50         50         1          46     pass       warn       \n",
       "1082   https://storage.cloud.google.com/isb-cgc-open/tcga-qc/BRCA/RNA/RNA-Seq/UNC-LCCC/ILLUMINA/0c30f5b1-5ed5-48d1-b8df-df4611761dd3-121011_UNC15-SN850_0238_AD13P9ACXX_NoIndex_L003_2_fastqc.zip  pass       139083102    0           50         50         1          46     pass       warn       \n",
       "11467  https://storage.cloud.google.com/isb-cgc-open/tcga-qc/BRCA/RNA/RNA-Seq/UNC-LCCC/ILLUMINA/822d3bb2-b845-4073-a5fb-7ecf9e5c10a1-120710_UNC12-SN629_0215_BC0WRNACXX_TGACCA_L004_1_fastqc.zip   pass       65059204     0           48         48         1          44     pass       fail       \n",
       "11468  https://storage.cloud.google.com/isb-cgc-open/tcga-qc/BRCA/RNA/RNA-Seq/UNC-LCCC/ILLUMINA/822d3bb2-b845-4073-a5fb-7ecf9e5c10a1-120710_UNC12-SN629_0215_BC0WRNACXX_TGACCA_L004_2_fastqc.zip   pass       65059204     0           48         48         1          45     pass       fail       \n",
       "18852  https://storage.cloud.google.com/isb-cgc-open/tcga-qc/BRCA/RNA/RNA-Seq/UNC-LCCC/ILLUMINA/d7f11b34-6b38-4a7a-80b1-fae9b7243caf-120710_UNC16-SN851_0169_AC0VVKACXX_CAGATC_L002_1_fastqc.zip   pass       74618102     0           48         48         1          46     pass       pass       \n",
       "18853  https://storage.cloud.google.com/isb-cgc-open/tcga-qc/BRCA/RNA/RNA-Seq/UNC-LCCC/ILLUMINA/d7f11b34-6b38-4a7a-80b1-fae9b7243caf-120710_UNC16-SN851_0169_AC0VVKACXX_CAGATC_L002_2_fastqc.zip   pass       74618102     0           48         48         1          46     pass       warn       \n",
       "\n",
       "       Total_Dedup_Pct OverrepSeq AdaptCont KmerCont study                       barcode disease               disease_name sample_type     sample_type_name analyte_type library_type    center  center_name  platform platform_name   assembly  \\\n",
       "1081   50.359123        warn       pass      fail     TCGA  TCGA-A7-A26F-01B-04R-A22O-07  BRCA    BREAST INVASIVE CARCINOMA  TP          Primary solid Tumor  RNA          RNA-Seq      UNC-LCCC NaN           ILLUMINA  Illumina      unaligned   \n",
       "1082   50.832837        warn       pass      fail     TCGA  TCGA-A7-A26F-01B-04R-A22O-07  BRCA    BREAST INVASIVE CARCINOMA  TP          Primary solid Tumor  RNA          RNA-Seq      UNC-LCCC NaN           ILLUMINA  Illumina      unaligned   \n",
       "11467  43.612713        warn       pass      fail     TCGA  TCGA-A7-A26F-01B-04R-A22O-07  BRCA    BREAST INVASIVE CARCINOMA  TP          Primary solid Tumor  RNA          RNA-Seq      UNC-LCCC NaN           ILLUMINA  Illumina      unaligned   \n",
       "11468  43.449230        pass       pass      fail     TCGA  TCGA-A7-A26F-01B-04R-A22O-07  BRCA    BREAST INVASIVE CARCINOMA  TP          Primary solid Tumor  RNA          RNA-Seq      UNC-LCCC NaN           ILLUMINA  Illumina      unaligned   \n",
       "18852  73.752683        warn       pass      fail     TCGA  TCGA-A7-A26F-01B-04R-A22O-07  BRCA    BREAST INVASIVE CARCINOMA  TP          Primary solid Tumor  RNA          RNA-Seq      UNC-LCCC NaN           ILLUMINA  Illumina      unaligned   \n",
       "18853  62.638952        warn       pass      fail     TCGA  TCGA-A7-A26F-01B-04R-A22O-07  BRCA    BREAST INVASIVE CARCINOMA  TP          Primary solid Tumor  RNA          RNA-Seq      UNC-LCCC NaN           ILLUMINA  Illumina      unaligned   \n",
       "\n",
       "                                                                                                    filename    files_size                          checksum                           analysis_id                            aliquot_id                        participant_id  \\\n",
       "1081   UNCID_2364669.1B907925-B33C-4E4A-96E0-65F15B4712B9.121011_UNC15-SN850_0238_AD13P9ACXX_3_CAGATC.tar.gz  1.174962e+10  b2635cc07552bd262a14101d51cc3586  0c30f5b1-5ed5-48d1-b8df-df4611761dd3  1B907925-B33C-4E4A-96E0-65F15B4712B9  3b7b9c1e-a84c-47ed-983c-9e4b00cbf01a   \n",
       "1082   UNCID_2364669.1B907925-B33C-4E4A-96E0-65F15B4712B9.121011_UNC15-SN850_0238_AD13P9ACXX_3_CAGATC.tar.gz  1.174962e+10  b2635cc07552bd262a14101d51cc3586  0c30f5b1-5ed5-48d1-b8df-df4611761dd3  1B907925-B33C-4E4A-96E0-65F15B4712B9  3b7b9c1e-a84c-47ed-983c-9e4b00cbf01a   \n",
       "11467  UNCID_2355700.1B907925-B33C-4E4A-96E0-65F15B4712B9.120710_UNC12-SN629_0215_BC0WRNACXX_4_TGACCA.tar.gz  5.597906e+09  d9a7716157290ede2d13614b8ac1bcb8  822d3bb2-b845-4073-a5fb-7ecf9e5c10a1  1B907925-B33C-4E4A-96E0-65F15B4712B9  3b7b9c1e-a84c-47ed-983c-9e4b00cbf01a   \n",
       "11468  UNCID_2355700.1B907925-B33C-4E4A-96E0-65F15B4712B9.120710_UNC12-SN629_0215_BC0WRNACXX_4_TGACCA.tar.gz  5.597906e+09  d9a7716157290ede2d13614b8ac1bcb8  822d3bb2-b845-4073-a5fb-7ecf9e5c10a1  1B907925-B33C-4E4A-96E0-65F15B4712B9  3b7b9c1e-a84c-47ed-983c-9e4b00cbf01a   \n",
       "18852  UNCID_2316584.1B907925-B33C-4E4A-96E0-65F15B4712B9.120710_UNC16-SN851_0169_AC0VVKACXX_2_CAGATC.tar.gz  6.460240e+09  e52dc24517c7824b2dcd5250ff076eea  d7f11b34-6b38-4a7a-80b1-fae9b7243caf  1B907925-B33C-4E4A-96E0-65F15B4712B9  3b7b9c1e-a84c-47ed-983c-9e4b00cbf01a   \n",
       "18853  UNCID_2316584.1B907925-B33C-4E4A-96E0-65F15B4712B9.120710_UNC16-SN851_0169_AC0VVKACXX_2_CAGATC.tar.gz  6.460240e+09  e52dc24517c7824b2dcd5250ff076eea  d7f11b34-6b38-4a7a-80b1-fae9b7243caf  1B907925-B33C-4E4A-96E0-65F15B4712B9  3b7b9c1e-a84c-47ed-983c-9e4b00cbf01a   \n",
       "\n",
       "                                  sample_id tss_id sample_accession   published    uploaded    modified state sample_type_code analyte_type_code   platform_full_name file_type reason reagent_vendor reagent_name catalog_number is_custom target_file_url probe_file_url  \\\n",
       "1081   29619d1e-e8b4-411e-bbba-07f2cfb69e8a  A7     NaN              2014-02-28  2014-02-28  2014-02-28  Live  01               R                 Illumina HiSeq 2000  fasta     NaN    NaN            NaN          NaN            NaN       NaN             NaN             \n",
       "1082   29619d1e-e8b4-411e-bbba-07f2cfb69e8a  A7     NaN              2014-02-28  2014-02-28  2014-02-28  Live  01               R                 Illumina HiSeq 2000  fasta     NaN    NaN            NaN          NaN            NaN       NaN             NaN             \n",
       "11467  29619d1e-e8b4-411e-bbba-07f2cfb69e8a  A7     NaN              2014-02-21  2014-02-21  2014-02-21  Live  01               R                 Illumina HiSeq 2000  fasta     NaN    NaN            NaN          NaN            NaN       NaN             NaN             \n",
       "11468  29619d1e-e8b4-411e-bbba-07f2cfb69e8a  A7     NaN              2014-02-21  2014-02-21  2014-02-21  Live  01               R                 Illumina HiSeq 2000  fasta     NaN    NaN            NaN          NaN            NaN       NaN             NaN             \n",
       "18852  29619d1e-e8b4-411e-bbba-07f2cfb69e8a  A7     NaN              2014-01-06  2014-01-06  2014-01-06  Live  01               R                 Illumina HiSeq 2000  fasta     NaN    NaN            NaN          NaN            NaN       NaN             NaN             \n",
       "18853  29619d1e-e8b4-411e-bbba-07f2cfb69e8a  A7     NaN              2014-01-06  2014-01-06  2014-01-06  Live  01               R                 Illumina HiSeq 2000  fasta     NaN    NaN            NaN          NaN            NaN       NaN             NaN             \n",
       "\n",
       "                            CGHubAnalysisID                           AliquotUUID                                                                                                                                                                                GCSobject  objectSizeBytes pretty_size  \\\n",
       "1081   0c30f5b1-5ed5-48d1-b8df-df4611761dd3  1b907925-b33c-4e4a-96e0-65f15b4712b9  gs://5aa919de-0aa0-43ec-9ec3-288481102b6d/tcga/BRCA/RNA/RNA-Seq/UNC-LCCC/ILLUMINA/UNCID_2364669.1B907925-B33C-4E4A-96E0-65F15B4712B9.121011_UNC15-SN850_0238_AD13P9ACXX_3_CAGATC.tar.gz  11749619702      10.9GB       \n",
       "1082   0c30f5b1-5ed5-48d1-b8df-df4611761dd3  1b907925-b33c-4e4a-96e0-65f15b4712b9  gs://5aa919de-0aa0-43ec-9ec3-288481102b6d/tcga/BRCA/RNA/RNA-Seq/UNC-LCCC/ILLUMINA/UNCID_2364669.1B907925-B33C-4E4A-96E0-65F15B4712B9.121011_UNC15-SN850_0238_AD13P9ACXX_3_CAGATC.tar.gz  11749619702      10.9GB       \n",
       "11467  822d3bb2-b845-4073-a5fb-7ecf9e5c10a1  1b907925-b33c-4e4a-96e0-65f15b4712b9  gs://5aa919de-0aa0-43ec-9ec3-288481102b6d/tcga/BRCA/RNA/RNA-Seq/UNC-LCCC/ILLUMINA/UNCID_2355700.1B907925-B33C-4E4A-96E0-65F15B4712B9.120710_UNC12-SN629_0215_BC0WRNACXX_4_TGACCA.tar.gz  5597905621       5.2GB        \n",
       "11468  822d3bb2-b845-4073-a5fb-7ecf9e5c10a1  1b907925-b33c-4e4a-96e0-65f15b4712b9  gs://5aa919de-0aa0-43ec-9ec3-288481102b6d/tcga/BRCA/RNA/RNA-Seq/UNC-LCCC/ILLUMINA/UNCID_2355700.1B907925-B33C-4E4A-96E0-65F15B4712B9.120710_UNC12-SN629_0215_BC0WRNACXX_4_TGACCA.tar.gz  5597905621       5.2GB        \n",
       "18852  d7f11b34-6b38-4a7a-80b1-fae9b7243caf  1b907925-b33c-4e4a-96e0-65f15b4712b9  gs://5aa919de-0aa0-43ec-9ec3-288481102b6d/tcga/BRCA/RNA/RNA-Seq/UNC-LCCC/ILLUMINA/UNCID_2316584.1B907925-B33C-4E4A-96E0-65F15B4712B9.120710_UNC16-SN851_0169_AC0VVKACXX_2_CAGATC.tar.gz  6460239681       6.0GB        \n",
       "18853  d7f11b34-6b38-4a7a-80b1-fae9b7243caf  1b907925-b33c-4e4a-96e0-65f15b4712b9  gs://5aa919de-0aa0-43ec-9ec3-288481102b6d/tcga/BRCA/RNA/RNA-Seq/UNC-LCCC/ILLUMINA/UNCID_2316584.1B907925-B33C-4E4A-96E0-65F15B4712B9.120710_UNC16-SN851_0169_AC0VVKACXX_2_CAGATC.tar.gz  6460239681       6.0GB        \n",
       "\n",
       "                   handy_disease_names GCSobject_ext  \n",
       "1081   BRCA: Breast Invasive Carcinoma  .tar.gz       \n",
       "1082   BRCA: Breast Invasive Carcinoma  .tar.gz       \n",
       "11467  BRCA: Breast Invasive Carcinoma  .tar.gz       \n",
       "11468  BRCA: Breast Invasive Carcinoma  .tar.gz       \n",
       "18852  BRCA: Breast Invasive Carcinoma  .tar.gz       \n",
       "18853  BRCA: Breast Invasive Carcinoma  .tar.gz       "
      ]
     },
     "execution_count": 109,
     "metadata": {},
     "output_type": "execute_result"
    }
   ],
   "source": [
    "ndf[ndf.aliquot_id == '1B907925-B33C-4E4A-96E0-65F15B4712B9']"
   ]
  },
  {
   "cell_type": "code",
   "execution_count": null,
   "metadata": {
    "collapsed": true
   },
   "outputs": [],
   "source": []
  },
  {
   "cell_type": "markdown",
   "metadata": {},
   "source": [
    "### Some overall stats about the datasets analyzed"
   ]
  },
  {
   "cell_type": "code",
   "execution_count": 110,
   "metadata": {
    "collapsed": false
   },
   "outputs": [
    {
     "data": {
      "text/plain": [
       "(10668,)"
      ]
     },
     "execution_count": 110,
     "metadata": {},
     "output_type": "execute_result"
    }
   ],
   "source": [
    "# Number of samples analyzed in total\n",
    "ndf.analysis_id.unique().shape"
   ]
  },
  {
   "cell_type": "code",
   "execution_count": 111,
   "metadata": {
    "collapsed": false
   },
   "outputs": [
    {
     "data": {
      "text/plain": [
       "148092621.38545182"
      ]
     },
     "execution_count": 111,
     "metadata": {},
     "output_type": "execute_result"
    }
   ],
   "source": [
    "# How many raw reads did they have on average (before gene selection)\n",
    "\n",
    "# Each row (i.e. fastq file) has its own numTotalSeq, so use sum for each analysis_id\n",
    "ndf.groupby('analysis_id').apply(lambda g: g.numTotalSeq.sum()).mean()"
   ]
  },
  {
   "cell_type": "markdown",
   "metadata": {},
   "source": [
    "~150 million reads per sample"
   ]
  },
  {
   "cell_type": "code",
   "execution_count": 113,
   "metadata": {
    "collapsed": false
   },
   "outputs": [],
   "source": [
    "# What were the read lengths?\n",
    "assert ndf.groupby('analysis_id').apply(\n",
    "    lambda g: g.maxLength.unique().shape[0]).unique().tolist() == [1]"
   ]
  },
  {
   "cell_type": "code",
   "execution_count": 114,
   "metadata": {
    "collapsed": false
   },
   "outputs": [],
   "source": [
    "_df = ndf.groupby('analysis_id').apply(\n",
    "    lambda g: g.maxLength.unique()[0]).value_counts().to_frame(name='#')"
   ]
  },
  {
   "cell_type": "code",
   "execution_count": 115,
   "metadata": {
    "collapsed": false
   },
   "outputs": [],
   "source": [
    "_df['%'] = _df['#'].apply(lambda x:x / _df['#'].sum())"
   ]
  },
  {
   "cell_type": "code",
   "execution_count": 116,
   "metadata": {
    "collapsed": false
   },
   "outputs": [],
   "source": [
    "_df = _df.reset_index().rename(columns={'index': 'read_len'})"
   ]
  },
  {
   "cell_type": "code",
   "execution_count": 117,
   "metadata": {
    "collapsed": false
   },
   "outputs": [
    {
     "data": {
      "text/html": [
       "<div>\n",
       "<style>\n",
       "    .dataframe thead tr:only-child th {\n",
       "        text-align: right;\n",
       "    }\n",
       "\n",
       "    .dataframe thead th {\n",
       "        text-align: left;\n",
       "    }\n",
       "\n",
       "    .dataframe tbody tr th {\n",
       "        vertical-align: top;\n",
       "    }\n",
       "</style>\n",
       "<table border=\"1\" class=\"dataframe\">\n",
       "  <thead>\n",
       "    <tr style=\"text-align: right;\">\n",
       "      <th></th>\n",
       "      <th>read_len</th>\n",
       "      <th>#</th>\n",
       "      <th>%</th>\n",
       "    </tr>\n",
       "  </thead>\n",
       "  <tbody>\n",
       "    <tr>\n",
       "      <th>0</th>\n",
       "      <td>48</td>\n",
       "      <td>7445</td>\n",
       "      <td>0.697882</td>\n",
       "    </tr>\n",
       "    <tr>\n",
       "      <th>1</th>\n",
       "      <td>50</td>\n",
       "      <td>2010</td>\n",
       "      <td>0.188414</td>\n",
       "    </tr>\n",
       "    <tr>\n",
       "      <th>2</th>\n",
       "      <td>75</td>\n",
       "      <td>1041</td>\n",
       "      <td>0.097582</td>\n",
       "    </tr>\n",
       "    <tr>\n",
       "      <th>3</th>\n",
       "      <td>76</td>\n",
       "      <td>170</td>\n",
       "      <td>0.015936</td>\n",
       "    </tr>\n",
       "    <tr>\n",
       "      <th>4</th>\n",
       "      <td>100</td>\n",
       "      <td>2</td>\n",
       "      <td>0.000187</td>\n",
       "    </tr>\n",
       "  </tbody>\n",
       "</table>\n",
       "</div>"
      ],
      "text/plain": [
       "   read_len     #         %\n",
       "0  48        7445  0.697882\n",
       "1  50        2010  0.188414\n",
       "2  75        1041  0.097582\n",
       "3  76        170   0.015936\n",
       "4  100       2     0.000187"
      ]
     },
     "execution_count": 117,
     "metadata": {},
     "output_type": "execute_result"
    }
   ],
   "source": [
    "_df"
   ]
  },
  {
   "cell_type": "code",
   "execution_count": 118,
   "metadata": {
    "collapsed": false
   },
   "outputs": [
    {
     "data": {
      "text/plain": [
       "51.46747281589801"
      ]
     },
     "execution_count": 118,
     "metadata": {},
     "output_type": "execute_result"
    }
   ],
   "source": [
    "# average read length over all samples\n",
    "(_df.read_len * _df['%']).sum()"
   ]
  },
  {
   "cell_type": "markdown",
   "metadata": {},
   "source": [
    "52 bp per read on average"
   ]
  },
  {
   "cell_type": "code",
   "execution_count": 119,
   "metadata": {
    "collapsed": false
   },
   "outputs": [
    {
     "data": {
      "text/plain": [
       "(33,)"
      ]
     },
     "execution_count": 119,
     "metadata": {},
     "output_type": "execute_result"
    }
   ],
   "source": [
    "# How many cancer types?\n",
    "ndf.disease_name.unique().shape"
   ]
  },
  {
   "cell_type": "code",
   "execution_count": null,
   "metadata": {
    "collapsed": true
   },
   "outputs": [],
   "source": []
  },
  {
   "cell_type": "markdown",
   "metadata": {},
   "source": [
    "# file extensions from different centers"
   ]
  },
  {
   "cell_type": "code",
   "execution_count": 120,
   "metadata": {
    "collapsed": false
   },
   "outputs": [
    {
     "data": {
      "text/plain": [
       "UNC-LCCC    9272\n",
       "BCCAGSC     1226\n",
       "BI          170 \n",
       "Name: center, dtype: int64"
      ]
     },
     "execution_count": 120,
     "metadata": {},
     "output_type": "execute_result"
    }
   ],
   "source": [
    "ndf[['analysis_id', 'center']].drop_duplicates().center.value_counts()"
   ]
  },
  {
   "cell_type": "code",
   "execution_count": 121,
   "metadata": {
    "collapsed": false
   },
   "outputs": [
    {
     "data": {
      "text/plain": [
       "array(['.tar.gz'], dtype=object)"
      ]
     },
     "execution_count": 121,
     "metadata": {},
     "output_type": "execute_result"
    }
   ],
   "source": [
    "ndf[ndf.center != 'BCCAGSC'].GCSobject_ext.unique()"
   ]
  },
  {
   "cell_type": "code",
   "execution_count": 122,
   "metadata": {
    "collapsed": false
   },
   "outputs": [
    {
     "data": {
      "text/plain": [
       "array(['.tar'], dtype=object)"
      ]
     },
     "execution_count": 122,
     "metadata": {},
     "output_type": "execute_result"
    }
   ],
   "source": [
    "ndf[ndf.center == 'BCCAGSC'].GCSobject_ext.unique()"
   ]
  },
  {
   "cell_type": "code",
   "execution_count": 123,
   "metadata": {
    "collapsed": false
   },
   "outputs": [
    {
     "data": {
      "text/plain": [
       "array([2])"
      ]
     },
     "execution_count": 123,
     "metadata": {},
     "output_type": "execute_result"
    }
   ],
   "source": [
    "ndf[ndf.center != 'BCCAGSC'].groupby('analysis_id').count().iloc[:,1].unique()"
   ]
  },
  {
   "cell_type": "code",
   "execution_count": 124,
   "metadata": {
    "collapsed": false
   },
   "outputs": [
    {
     "data": {
      "text/plain": [
       "array([2, 4, 6])"
      ]
     },
     "execution_count": 124,
     "metadata": {},
     "output_type": "execute_result"
    }
   ],
   "source": [
    "ndf[ndf.center == 'BCCAGSC'].groupby('analysis_id').count().iloc[:,1].unique()"
   ]
  },
  {
   "cell_type": "code",
   "execution_count": 125,
   "metadata": {
    "collapsed": false
   },
   "outputs": [
    {
     "data": {
      "text/plain": [
       "Primary solid Tumor                                18736\n",
       "Solid Tissue Normal                                1458 \n",
       "Metastatic                                         788  \n",
       "Primary Blood Derived Cancer - Peripheral Blood    604  \n",
       "Recurrent Solid Tumor                              100  \n",
       "Additional - New Primary                           22   \n",
       "Additional Metastatic                              2    \n",
       "Name: sample_type_name, dtype: int64"
      ]
     },
     "execution_count": 125,
     "metadata": {},
     "output_type": "execute_result"
    }
   ],
   "source": [
    "ndf.sample_type_name.value_counts()"
   ]
  },
  {
   "cell_type": "code",
   "execution_count": 126,
   "metadata": {
    "collapsed": false
   },
   "outputs": [],
   "source": [
    "s = ndf.groupby(['disease', 'sample_type_name']).count().iloc[:, 0]"
   ]
  },
  {
   "cell_type": "code",
   "execution_count": 127,
   "metadata": {
    "collapsed": false
   },
   "outputs": [
    {
     "data": {
      "text/plain": [
       "01    18736\n",
       "11    1458 \n",
       "06    788  \n",
       "03    604  \n",
       "02    100  \n",
       "05    22   \n",
       "07    2    \n",
       "Name: sample_type_code, dtype: int64"
      ]
     },
     "execution_count": 127,
     "metadata": {},
     "output_type": "execute_result"
    }
   ],
   "source": [
    "ndf.sample_type_code.value_counts()"
   ]
  },
  {
   "cell_type": "markdown",
   "metadata": {},
   "source": [
    "https://wiki.nci.nih.gov/display/TCGA/TCGA+barcode\n",
    ">Tumor types range from 01 - 09, normal types from 10 - 19 and control samples from 20 - 29. See Code Tables Report for a complete list of sample codes "
   ]
  },
  {
   "cell_type": "code",
   "execution_count": 128,
   "metadata": {
    "collapsed": true
   },
   "outputs": [],
   "source": [
    "def has_both_normal_and_tumor(grp):\n",
    "    # sample type codes\n",
    "    c = grp.sample_type_code.astype(int).unique()\n",
    "    return (c[c <= 9].shape[0] > 0) and (c[c > 9].shape[0] > 0)"
   ]
  },
  {
   "cell_type": "code",
   "execution_count": 129,
   "metadata": {
    "collapsed": false
   },
   "outputs": [],
   "source": [
    "# Get index of participants with both normal and tumor samples\n",
    "pars = ndf.groupby('participant_id').apply(has_both_normal_and_tumor)"
   ]
  },
  {
   "cell_type": "code",
   "execution_count": 130,
   "metadata": {
    "collapsed": false
   },
   "outputs": [],
   "source": [
    "pids = ndf[ndf.participant_id.isin(pars[pars].index)]"
   ]
  },
  {
   "cell_type": "code",
   "execution_count": 131,
   "metadata": {
    "collapsed": false
   },
   "outputs": [
    {
     "data": {
      "text/plain": [
       "(679,)"
      ]
     },
     "execution_count": 131,
     "metadata": {},
     "output_type": "execute_result"
    }
   ],
   "source": [
    "pids.participant_id.unique().shape"
   ]
  },
  {
   "cell_type": "code",
   "execution_count": 132,
   "metadata": {
    "collapsed": false
   },
   "outputs": [
    {
     "data": {
      "text/plain": [
       "UNC-LCCC    2616\n",
       "BCCAGSC     184 \n",
       "Name: center, dtype: int64"
      ]
     },
     "execution_count": 132,
     "metadata": {},
     "output_type": "execute_result"
    }
   ],
   "source": [
    "pids.center.value_counts()"
   ]
  },
  {
   "cell_type": "code",
   "execution_count": 133,
   "metadata": {
    "collapsed": false
   },
   "outputs": [],
   "source": [
    "s = pids.groupby(['participant_id', 'disease']).apply(lambda g: g.sample_type_code.values.shape[0])"
   ]
  },
  {
   "cell_type": "code",
   "execution_count": 134,
   "metadata": {
    "collapsed": false
   },
   "outputs": [
    {
     "data": {
      "text/plain": [
       "participant_id                        disease\n",
       "00a02e62-e1ab-467a-91b3-5f526dd2251a  THCA       4\n",
       "00e41e6a-9fe7-44f9-978b-7b05b179506a  PRAD       4\n",
       "023a1ad1-fb16-437e-9806-5063b47f76bd  LIHC       4\n",
       "028e99e9-5b9a-4954-bb6e-6d4709a3cea8  LUAD       4\n",
       "02931491-f56b-4233-a079-812e08bc0c59  LIHC       4\n",
       "dtype: int64"
      ]
     },
     "execution_count": 134,
     "metadata": {},
     "output_type": "execute_result"
    }
   ],
   "source": [
    "s.head()"
   ]
  },
  {
   "cell_type": "code",
   "execution_count": null,
   "metadata": {
    "collapsed": true
   },
   "outputs": [],
   "source": []
  },
  {
   "cell_type": "markdown",
   "metadata": {},
   "source": [
    "### Generate a `metadata.csv` for handy querying based on filename"
   ]
  },
  {
   "cell_type": "code",
   "execution_count": 135,
   "metadata": {
    "collapsed": false
   },
   "outputs": [
    {
     "data": {
      "text/plain": [
       "(62,)"
      ]
     },
     "execution_count": 135,
     "metadata": {},
     "output_type": "execute_result"
    }
   ],
   "source": [
    "ndf.columns.shape"
   ]
  },
  {
   "cell_type": "code",
   "execution_count": 136,
   "metadata": {
    "collapsed": false
   },
   "outputs": [
    {
     "name": "stdout",
     "output_type": "stream",
     "text": [
      "AdaptCont\n",
      "aliquot_id\n",
      "AliquotBarcode\n",
      "AliquotUUID\n",
      "analysis_id\n",
      "analyte_type\n",
      "analyte_type_code\n",
      "assembly\n",
      "barcode\n",
      "BasicStats\n",
      "catalog_number\n",
      "center\n",
      "center_name\n",
      "CGHub_analysisID\n",
      "CGHubAnalysisID\n",
      "checksum\n",
      "delLength\n",
      "disease\n",
      "disease_name\n",
      "FastQC_html_url\n",
      "FastQC_zip_url\n",
      "fastqFilename\n",
      "file_type\n",
      "filename\n",
      "files_size\n",
      "GCSobject\n",
      "GCSobject_ext\n",
      "handy_disease_names\n",
      "is_custom\n",
      "KmerCont\n",
      "library_type\n",
      "maxLength\n",
      "minLength\n",
      "modified\n",
      "numPoorSeq\n",
      "numTotalSeq\n",
      "objectSizeBytes\n",
      "OverrepSeq\n",
      "participant_id\n",
      "pctGC\n",
      "platform\n",
      "platform_full_name\n",
      "platform_name\n",
      "pretty_size\n",
      "probe_file_url\n",
      "published\n",
      "reagent_name\n",
      "reagent_vendor\n",
      "reason\n",
      "sample_accession\n",
      "sample_id\n",
      "sample_type\n",
      "sample_type_code\n",
      "sample_type_name\n",
      "SeqDupLev\n",
      "SeqLenDist\n",
      "state\n",
      "study\n",
      "target_file_url\n",
      "Total_Dedup_Pct\n",
      "tss_id\n",
      "uploaded\n"
     ]
    }
   ],
   "source": [
    "print('\\n'.join(sorted(ndf.columns, key=lambda x: x.lower())))"
   ]
  },
  {
   "cell_type": "code",
   "execution_count": 137,
   "metadata": {
    "collapsed": false
   },
   "outputs": [
    {
     "data": {
      "text/plain": [
       "01    18736\n",
       "11    1458 \n",
       "06    788  \n",
       "03    604  \n",
       "02    100  \n",
       "05    22   \n",
       "07    2    \n",
       "Name: sample_type_code, dtype: int64"
      ]
     },
     "execution_count": 137,
     "metadata": {},
     "output_type": "execute_result"
    }
   ],
   "source": [
    "ndf.sample_type_code.value_counts()"
   ]
  },
  {
   "cell_type": "code",
   "execution_count": 138,
   "metadata": {
    "collapsed": false
   },
   "outputs": [
    {
     "data": {
      "text/plain": [
       "Primary solid Tumor                                18736\n",
       "Solid Tissue Normal                                1458 \n",
       "Metastatic                                         788  \n",
       "Primary Blood Derived Cancer - Peripheral Blood    604  \n",
       "Recurrent Solid Tumor                              100  \n",
       "Additional - New Primary                           22   \n",
       "Additional Metastatic                              2    \n",
       "Name: sample_type_name, dtype: int64"
      ]
     },
     "execution_count": 138,
     "metadata": {},
     "output_type": "execute_result"
    }
   ],
   "source": [
    "ndf.sample_type_name.value_counts()"
   ]
  },
  {
   "cell_type": "code",
   "execution_count": 139,
   "metadata": {
    "collapsed": false
   },
   "outputs": [],
   "source": [
    "ndf['sstype'] = ndf.apply(lambda r: 'normal' if r.sample_type == 'NT' else 'tumour', axis=1)"
   ]
  },
  {
   "cell_type": "code",
   "execution_count": 140,
   "metadata": {
    "collapsed": false
   },
   "outputs": [
    {
     "data": {
      "text/plain": [
       "tumour    20252\n",
       "normal    1458 \n",
       "Name: sstype, dtype: int64"
      ]
     },
     "execution_count": 140,
     "metadata": {},
     "output_type": "execute_result"
    }
   ],
   "source": [
    "ndf.sstype.value_counts()"
   ]
  },
  {
   "cell_type": "code",
   "execution_count": 141,
   "metadata": {
    "collapsed": false
   },
   "outputs": [
    {
     "data": {
      "text/plain": [
       "tumour    9939\n",
       "normal    729 \n",
       "Name: sstype, dtype: int64"
      ]
     },
     "execution_count": 141,
     "metadata": {},
     "output_type": "execute_result"
    }
   ],
   "source": [
    "ndf[['analysis_id', 'sstype']].drop_duplicates().sstype.value_counts()"
   ]
  },
  {
   "cell_type": "code",
   "execution_count": 142,
   "metadata": {
    "collapsed": false
   },
   "outputs": [
    {
     "data": {
      "text/plain": [
       "10668"
      ]
     },
     "execution_count": 142,
     "metadata": {},
     "output_type": "execute_result"
    }
   ],
   "source": [
    "9939 + 729"
   ]
  },
  {
   "cell_type": "code",
   "execution_count": 143,
   "metadata": {
    "collapsed": false
   },
   "outputs": [
    {
     "data": {
      "text/plain": [
       "0.07334741925747057"
      ]
     },
     "execution_count": 143,
     "metadata": {},
     "output_type": "execute_result"
    }
   ],
   "source": [
    "729 / 9939."
   ]
  },
  {
   "cell_type": "code",
   "execution_count": 144,
   "metadata": {
    "collapsed": false
   },
   "outputs": [
    {
     "data": {
      "text/plain": [
       "TP     18736\n",
       "NT     1458 \n",
       "TM     788  \n",
       "TB     604  \n",
       "TR     100  \n",
       "TAP    22   \n",
       "TAM    2    \n",
       "Name: sample_type, dtype: int64"
      ]
     },
     "execution_count": 144,
     "metadata": {},
     "output_type": "execute_result"
    }
   ],
   "source": [
    "ndf.sample_type.value_counts()"
   ]
  },
  {
   "cell_type": "code",
   "execution_count": 151,
   "metadata": {
    "collapsed": true
   },
   "outputs": [],
   "source": [
    "ndf[['analysis_id', 'barcode', 'disease', 'disease_name',\n",
    "     'sample_type', 'sample_type_code', 'sample_type_name', \n",
    "     'published', 'modified', 'uploaded',\n",
    "     'pretty_size', 'maxLength', 'GCSobject']]\\\n",
    ".drop_duplicates().sort_values('analysis_id').to_csv('./results/curated_metadata_for_10668_samples.csv', index=False)"
   ]
  },
  {
   "cell_type": "code",
   "execution_count": 149,
   "metadata": {
    "collapsed": false
   },
   "outputs": [
    {
     "data": {
      "text/plain": [
       "'67.1TB'"
      ]
     },
     "execution_count": 149,
     "metadata": {},
     "output_type": "execute_result"
    }
   ],
   "source": [
    "sizeof_fmt(ndf[['files_size', 'GCSobject']].drop_duplicates().files_size.sum())"
   ]
  },
  {
   "cell_type": "code",
   "execution_count": 150,
   "metadata": {
    "collapsed": false
   },
   "outputs": [
    {
     "data": {
      "text/plain": [
       "'67.1TB'"
      ]
     },
     "execution_count": 150,
     "metadata": {},
     "output_type": "execute_result"
    }
   ],
   "source": [
    "sizeof_fmt(ndf[['objectSizeBytes', 'GCSobject']].drop_duplicates().objectSizeBytes.sum())"
   ]
  }
 ],
 "metadata": {
  "anaconda-cloud": {},
  "kernelspec": {
   "display_name": "Python [default]",
   "language": "python",
   "name": "python3"
  },
  "language_info": {
   "codemirror_mode": {
    "name": "ipython",
    "version": 3
   },
   "file_extension": ".py",
   "mimetype": "text/x-python",
   "name": "python",
   "nbconvert_exporter": "python",
   "pygments_lexer": "ipython3",
   "version": "3.5.3"
  }
 },
 "nbformat": 4,
 "nbformat_minor": 0
}
