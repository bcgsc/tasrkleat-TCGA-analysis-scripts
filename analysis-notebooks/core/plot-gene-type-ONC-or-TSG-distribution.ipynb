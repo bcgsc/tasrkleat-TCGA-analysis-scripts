{
 "cells": [
  {
   "cell_type": "code",
   "execution_count": 1,
   "metadata": {
    "collapsed": false
   },
   "outputs": [],
   "source": [
    "import sys\n",
    "sys.path.insert(0, '..')\n",
    "from eda_import import *"
   ]
  },
  {
   "cell_type": "code",
   "execution_count": 2,
   "metadata": {
    "collapsed": true
   },
   "outputs": [],
   "source": [
    "df = pd.read_csv('../reference_data/target_genes_with_type.tsv', sep='\\t')"
   ]
  },
  {
   "cell_type": "code",
   "execution_count": 3,
   "metadata": {
    "collapsed": false
   },
   "outputs": [
    {
     "data": {
      "text/html": [
       "<div>\n",
       "<style>\n",
       "    .dataframe thead tr:only-child th {\n",
       "        text-align: right;\n",
       "    }\n",
       "\n",
       "    .dataframe thead th {\n",
       "        text-align: left;\n",
       "    }\n",
       "\n",
       "    .dataframe tbody tr th {\n",
       "        vertical-align: top;\n",
       "    }\n",
       "</style>\n",
       "<table border=\"1\" class=\"dataframe\">\n",
       "  <thead>\n",
       "    <tr style=\"text-align: right;\">\n",
       "      <th></th>\n",
       "      <th>Gene</th>\n",
       "      <th>Type</th>\n",
       "    </tr>\n",
       "  </thead>\n",
       "  <tbody>\n",
       "    <tr>\n",
       "      <th>0</th>\n",
       "      <td>ABL1</td>\n",
       "      <td>ONC</td>\n",
       "    </tr>\n",
       "    <tr>\n",
       "      <th>1</th>\n",
       "      <td>AKT1</td>\n",
       "      <td>ONC</td>\n",
       "    </tr>\n",
       "  </tbody>\n",
       "</table>\n",
       "</div>"
      ],
      "text/plain": [
       "   Gene Type\n",
       "0  ABL1  ONC\n",
       "1  AKT1  ONC"
      ]
     },
     "execution_count": 3,
     "metadata": {},
     "output_type": "execute_result"
    }
   ],
   "source": [
    "df.head(2)"
   ]
  },
  {
   "cell_type": "code",
   "execution_count": 4,
   "metadata": {
    "collapsed": false
   },
   "outputs": [
    {
     "data": {
      "text/plain": [
       "(114, 2)"
      ]
     },
     "execution_count": 4,
     "metadata": {},
     "output_type": "execute_result"
    }
   ],
   "source": [
    "df.shape"
   ]
  },
  {
   "cell_type": "code",
   "execution_count": 5,
   "metadata": {
    "collapsed": false
   },
   "outputs": [
    {
     "data": {
      "text/html": [
       "<div>\n",
       "<style>\n",
       "    .dataframe thead tr:only-child th {\n",
       "        text-align: right;\n",
       "    }\n",
       "\n",
       "    .dataframe thead th {\n",
       "        text-align: left;\n",
       "    }\n",
       "\n",
       "    .dataframe tbody tr th {\n",
       "        vertical-align: top;\n",
       "    }\n",
       "</style>\n",
       "<table border=\"1\" class=\"dataframe\">\n",
       "  <thead>\n",
       "    <tr style=\"text-align: right;\">\n",
       "      <th></th>\n",
       "      <th>ONC</th>\n",
       "      <th>TSG</th>\n",
       "      <th>-</th>\n",
       "    </tr>\n",
       "  </thead>\n",
       "  <tbody>\n",
       "    <tr>\n",
       "      <th>Type</th>\n",
       "      <td>51</td>\n",
       "      <td>48</td>\n",
       "      <td>15</td>\n",
       "    </tr>\n",
       "  </tbody>\n",
       "</table>\n",
       "</div>"
      ],
      "text/plain": [
       "      ONC  TSG   -\n",
       "Type  51   48   15"
      ]
     },
     "execution_count": 5,
     "metadata": {},
     "output_type": "execute_result"
    }
   ],
   "source": [
    "df.Type.value_counts().to_frame().T"
   ]
  },
  {
   "cell_type": "code",
   "execution_count": 48,
   "metadata": {
    "collapsed": false
   },
   "outputs": [
    {
     "data": {
      "image/png": "[encoded data removed]",
      "text/plain": [
       "<matplotlib.figure.Figure at 0x7f1242345630>"
      ]
     },
     "metadata": {},
     "output_type": "display_data"
    }
   ],
   "source": [
    "fig = plt.figure(figsize=(3, 2.5))\n",
    "ax = fig.add_subplot(111)\n",
    "\n",
    "df.Type.value_counts().to_frame().T\\\n",
    "    .rename(columns=dict(zip(['ONC', 'TSG', '-'], ['Oncogene', 'Tumor suppressor', 'Others'])))\\\n",
    "    .plot.bar(ax=ax, color=['red', 'blue', 'gray'], zorder=3)\n",
    "\n",
    "ax.set_xticklabels([])\n",
    "ax.set_xlim([-0.3, 0.3])\n",
    "ax.yaxis.grid(zorder=0, color='gray')\n",
    "ax.get_xlim()\n",
    "ax.legend(loc=\"upper center\", bbox_to_anchor=(0.5, 1.47))\n",
    "ax.set_ylabel('Count', fontsize=13)\n",
    "\n",
    "orig_w = ax.patches[0].get_width()\n",
    "orig_xlim = ax.get_xlim()\n",
    "target_w = 0.12\n",
    "for p in ax.patches:\n",
    "    p.set_width(target_w)\n",
    "    ax.text(p.get_x() + p.get_width()/2., p.get_height() + 0.02,\n",
    "                '%d' % int(p.get_height()),\n",
    "                ha='center', va='bottom')\n",
    "\n",
    "ax.set_xlim(orig_xlim[0], orig_xlim[1] - (orig_w - target_w))\n",
    "\n",
    "plt.tight_layout()\n",
    "plt.savefig('../__results/figs/gene_distribution.png', bbox_inches = 'tight', dpi=200)"
   ]
  },
  {
   "cell_type": "code",
   "execution_count": null,
   "metadata": {
    "collapsed": true
   },
   "outputs": [],
   "source": []
  },
  {
   "cell_type": "code",
   "execution_count": null,
   "metadata": {
    "collapsed": true
   },
   "outputs": [],
   "source": []
  },
  {
   "cell_type": "markdown",
   "metadata": {},
   "source": [
    "Below, tried put labels on the bottom, but would look wired when putting multiple panels together"
   ]
  },
  {
   "cell_type": "code",
   "execution_count": null,
   "metadata": {
    "collapsed": true
   },
   "outputs": [],
   "source": [
    "fig = plt.figure(figsize=(3, 2.5))\n",
    "ax = fig.add_subplot(111)\n",
    "\n",
    "df.Type.value_counts().to_frame().T\\\n",
    "    .rename(columns=dict(zip(['ONC', 'TSG', '-'], ['Oncogene', 'Tumor suppressor', 'Others'])))\\\n",
    "    .plot.bar(ax=ax, color=['red', 'blue', 'gray'], zorder=3)\n",
    "\n",
    "ax.legend_.remove()\n",
    "# ax.set_xticklabels([])\n",
    "ax.set_xlim([-0.3, 0.3])\n",
    "# ax.yaxis.grid(zorder=0)\n",
    "# ax.legend(loc=\"upper center\", bbox_to_anchor=(0.5, 1.48))\n",
    "ax.set_ylabel('Count', fontsize=13)\n",
    "\n",
    "orig_w = ax.patches[0].get_width()\n",
    "orig_xlim = ax.get_xlim()\n",
    "target_w = 0.12\n",
    "xticks = []\n",
    "for p in ax.patches:\n",
    "    p.set_width(target_w)\n",
    "    xx = p.get_x() + p.get_width()/2.\n",
    "    ax.text(xx, p.get_height() + 0.02,\n",
    "                '%d' % int(p.get_height()),\n",
    "                ha='center', va='bottom')\n",
    "    xticks.append(xx)\n",
    "\n",
    "ax.set_xticks(xticks)\n",
    "ax.set_xticklabels(['Oncogene', 'Tumor\\nsuppressor', 'Others'], rotation=0)\n",
    "    \n",
    "ax.set_xlim(orig_xlim[0], orig_xlim[1] - (orig_w - target_w))"
   ]
  }
 ],
 "metadata": {
  "anaconda-cloud": {},
  "kernelspec": {
   "display_name": "Python [default]",
   "language": "python",
   "name": "python3"
  },
  "language_info": {
   "codemirror_mode": {
    "name": "ipython",
    "version": 3
   },
   "file_extension": ".py",
   "mimetype": "text/x-python",
   "name": "python",
   "nbconvert_exporter": "python",
   "pygments_lexer": "ipython3",
   "version": "3.5.3"
  }
 },
 "nbformat": 4,
 "nbformat_minor": 1
}
