{
 "cells": [
  {
   "cell_type": "code",
   "execution_count": 1,
   "metadata": {
    "collapsed": false
   },
   "outputs": [],
   "source": [
    "import sys\n",
    "sys.path.insert(0, '..')\n",
    "from eda_import import *"
   ]
  },
  {
   "cell_type": "code",
   "execution_count": 2,
   "metadata": {
    "collapsed": false
   },
   "outputs": [],
   "source": [
    "adf = pd.read_csv('../__results/aca_pval_with_sc_info.csv')"
   ]
  },
  {
   "cell_type": "code",
   "execution_count": 3,
   "metadata": {
    "collapsed": false
   },
   "outputs": [],
   "source": [
    "assert adf.shape[0] == 11368"
   ]
  },
  {
   "cell_type": "markdown",
   "metadata": {},
   "source": [
    "# Resolve trends computationally"
   ]
  },
  {
   "cell_type": "code",
   "execution_count": 4,
   "metadata": {
    "collapsed": false
   },
   "outputs": [
    {
     "data": {
      "text/html": [
       "<div>\n",
       "<style>\n",
       "    .dataframe thead tr:only-child th {\n",
       "        text-align: right;\n",
       "    }\n",
       "\n",
       "    .dataframe thead th {\n",
       "        text-align: left;\n",
       "    }\n",
       "\n",
       "    .dataframe tbody tr th {\n",
       "        vertical-align: top;\n",
       "    }\n",
       "</style>\n",
       "<table border=\"1\" class=\"dataframe\">\n",
       "  <thead>\n",
       "    <tr style=\"text-align: right;\">\n",
       "      <th></th>\n",
       "      <th>disease</th>\n",
       "      <th>gene_name</th>\n",
       "      <th>mkid</th>\n",
       "      <th>mclv</th>\n",
       "      <th>strand</th>\n",
       "      <th>aclv</th>\n",
       "      <th>N_on</th>\n",
       "      <th>T_on</th>\n",
       "      <th>N_off</th>\n",
       "      <th>T_off</th>\n",
       "      <th>fisher_exact_p</th>\n",
       "      <th>N_base</th>\n",
       "      <th>T_base</th>\n",
       "      <th>N_on_ratio</th>\n",
       "      <th>T_on_ratio</th>\n",
       "      <th>N2T_ratio_diff</th>\n",
       "      <th>diff_is_significant</th>\n",
       "      <th>N2T_ratio_change</th>\n",
       "      <th>N2T_ratio_change_sig</th>\n",
       "      <th>has_diff_aca</th>\n",
       "      <th>sc_list</th>\n",
       "      <th>src_list</th>\n",
       "      <th>num_sc</th>\n",
       "    </tr>\n",
       "  </thead>\n",
       "  <tbody>\n",
       "    <tr>\n",
       "      <th>74</th>\n",
       "      <td>BLCA</td>\n",
       "      <td>BRCA1</td>\n",
       "      <td>chr17|BRCA1|-|41196318</td>\n",
       "      <td>41196318</td>\n",
       "      <td>-</td>\n",
       "      <td>41196313</td>\n",
       "      <td>13</td>\n",
       "      <td>401</td>\n",
       "      <td>6</td>\n",
       "      <td>13</td>\n",
       "      <td>0.000059</td>\n",
       "      <td>19</td>\n",
       "      <td>414</td>\n",
       "      <td>0.684211</td>\n",
       "      <td>0.968599</td>\n",
       "      <td>0.284389</td>\n",
       "      <td>True</td>\n",
       "      <td>up</td>\n",
       "      <td>up</td>\n",
       "      <td>True</td>\n",
       "      <td>41197695</td>\n",
       "      <td>protein_coding</td>\n",
       "      <td>1</td>\n",
       "    </tr>\n",
       "  </tbody>\n",
       "</table>\n",
       "</div>"
      ],
      "text/plain": [
       "   disease gene_name                    mkid      mclv strand      aclv  N_on  T_on  N_off  T_off  fisher_exact_p  N_base  T_base  N_on_ratio  T_on_ratio  N2T_ratio_diff  diff_is_significant N2T_ratio_change N2T_ratio_change_sig  has_diff_aca   sc_list        src_list  num_sc\n",
       "74  BLCA    BRCA1     chr17|BRCA1|-|41196318  41196318  -      41196313  13    401   6      13     0.000059        19      414     0.684211    0.968599    0.284389        True                 up               up                   True          41197695  protein_coding  1     "
      ]
     },
     "execution_count": 4,
     "metadata": {},
     "output_type": "execute_result"
    }
   ],
   "source": [
    "bdf = adf.query('has_diff_aca == True').copy()\n",
    "bdf.head(1)"
   ]
  },
  {
   "cell_type": "code",
   "execution_count": 5,
   "metadata": {
    "collapsed": false
   },
   "outputs": [
    {
     "data": {
      "text/plain": [
       "(576, 23)"
      ]
     },
     "execution_count": 5,
     "metadata": {},
     "output_type": "execute_result"
    }
   ],
   "source": [
    "bdf.shape"
   ]
  },
  {
   "cell_type": "code",
   "execution_count": 6,
   "metadata": {
    "collapsed": false
   },
   "outputs": [
    {
     "data": {
      "text/plain": [
       "(33,)"
      ]
     },
     "execution_count": 6,
     "metadata": {},
     "output_type": "execute_result"
    }
   ],
   "source": [
    "bdf.gene_name.unique().shape"
   ]
  },
  {
   "cell_type": "code",
   "execution_count": 7,
   "metadata": {
    "collapsed": true
   },
   "outputs": [],
   "source": [
    "# xs = np.sort(np.arange(0, 100, 10).tolist() + np.arange(100, 500, 20).tolist() + [25])\n",
    "xs = np.arange(0, 500)\n",
    "ys = []\n",
    "for x in xs:\n",
    "    _df = bdf.copy()\n",
    "    _df['dist_mclv2aclv'] = np.abs(_df.mclv - _df.aclv)\n",
    "    n = _df.query('dist_mclv2aclv > {0}'.format(x)).query('diff_is_significant == True').reset_index(drop=True).shape[0]\n",
    "#     n = _df.query('dist_mclv2aclv <= {0}'.format(x)).reset_index(drop=True).shape[0]\n",
    "    ys.append(n)"
   ]
  },
  {
   "cell_type": "code",
   "execution_count": 8,
   "metadata": {
    "collapsed": false
   },
   "outputs": [
    {
     "data": {
      "image/png": "[encoded data removed]",
      "text/plain": [
       "<matplotlib.figure.Figure at 0x7f3d7d478860>"
      ]
     },
     "metadata": {},
     "output_type": "display_data"
    }
   ],
   "source": [
    "fig = plt.figure(figsize=(5.5, 3.5))\n",
    "ax = fig.add_subplot(111)\n",
    "\n",
    "my_cutoff = 25\n",
    "\n",
    "ax.plot(xs, ys, ms=3)\n",
    "\n",
    "idx = xs.tolist().index(my_cutoff)\n",
    "# ax.scatter([25], ys[idx], marker='*', color='red', s=100, alpha=1)\n",
    "ax.annotate('Cutoff = 25 bp', xy=(my_cutoff, ys[idx]), xytext=(0, -20), ha='center',\n",
    "            arrowprops=dict(facecolor='black', shrink=0, width=3),\n",
    "            bbox=dict(pad=0, fc='white', ec='none'),\n",
    "            )\n",
    "\n",
    "ax.set_xlim([-100, 550])\n",
    "ax.set_ylim([-40, 200])\n",
    "ax.set_xlabel('mapping cutoff (bp)')\n",
    "ax.set_ylabel('# CSs unmapped')\n",
    "# ax.set_xticks(np.arange(0, 201, 20))\n",
    "ax.grid()\n",
    "\n",
    "# plt.savefig('./figs/mappabilityCutoffSelection.jpeg', dpi=300)"
   ]
  },
  {
   "cell_type": "code",
   "execution_count": 9,
   "metadata": {
    "collapsed": false
   },
   "outputs": [],
   "source": [
    "mclv2aclv_cutoff = 25 # consistent with DA cutoff, maybe not necessary\n",
    "bdf['dist_mclv2aclv'] = np.abs(bdf.mclv - bdf.aclv)\n",
    "# bdf.query('dist_mclv2aclv > {0}'.format(mclv2aclv_cutoff)).query('diff_is_significant == True').reset_index(drop=True)"
   ]
  },
  {
   "cell_type": "markdown",
   "metadata": {},
   "source": [
    "There are not that many such cases where the distance between mclv and aclv > cutoff, but some of them look really interesting, but they potentially novel and important sites!"
   ]
  },
  {
   "cell_type": "markdown",
   "metadata": {},
   "source": [
    "#### For practical purposes, only consider successfully mapped ones when calculating a trend"
   ]
  },
  {
   "cell_type": "code",
   "execution_count": 10,
   "metadata": {
    "collapsed": false
   },
   "outputs": [
    {
     "data": {
      "text/plain": [
       "297"
      ]
     },
     "execution_count": 10,
     "metadata": {},
     "output_type": "execute_result"
    }
   ],
   "source": [
    "bdf.mkid.unique().shape[0]"
   ]
  },
  {
   "cell_type": "code",
   "execution_count": null,
   "metadata": {
    "collapsed": true
   },
   "outputs": [],
   "source": []
  },
  {
   "cell_type": "code",
   "execution_count": 11,
   "metadata": {
    "collapsed": false
   },
   "outputs": [],
   "source": [
    "# mapped: successfully mapped to an annotated clv site, so we can start talking about stop codons now.\n",
    "mapped = bdf.query('dist_mclv2aclv <= {0}'.format(mclv2aclv_cutoff)).copy()"
   ]
  },
  {
   "cell_type": "code",
   "execution_count": 12,
   "metadata": {
    "collapsed": false
   },
   "outputs": [
    {
     "data": {
      "text/plain": [
       "(91,)"
      ]
     },
     "execution_count": 12,
     "metadata": {},
     "output_type": "execute_result"
    }
   ],
   "source": [
    "mapped.query('diff_is_significant == True').mkid.unique().shape"
   ]
  },
  {
   "cell_type": "code",
   "execution_count": 13,
   "metadata": {
    "collapsed": false
   },
   "outputs": [
    {
     "data": {
      "text/plain": [
       "(111,)"
      ]
     },
     "execution_count": 13,
     "metadata": {},
     "output_type": "execute_result"
    }
   ],
   "source": [
    "bdf.query('diff_is_significant == True').mkid.unique().shape"
   ]
  },
  {
   "cell_type": "code",
   "execution_count": 14,
   "metadata": {
    "collapsed": false
   },
   "outputs": [
    {
     "data": {
      "text/plain": [
       "0.8198198198198198"
      ]
     },
     "execution_count": 14,
     "metadata": {},
     "output_type": "execute_result"
    }
   ],
   "source": [
    "mapped.query('diff_is_significant == True').mkid.unique().shape[0] / bdf.query('diff_is_significant == True').mkid.unique().shape[0]"
   ]
  },
  {
   "cell_type": "markdown",
   "metadata": {},
   "source": [
    "so ~82% of those kids concerned (after stripping) are successfully mapped"
   ]
  },
  {
   "cell_type": "code",
   "execution_count": 15,
   "metadata": {
    "collapsed": false
   },
   "outputs": [
    {
     "data": {
      "text/plain": [
       "346"
      ]
     },
     "execution_count": 15,
     "metadata": {},
     "output_type": "execute_result"
    }
   ],
   "source": [
    "mapped.shape[0]"
   ]
  },
  {
   "cell_type": "code",
   "execution_count": 16,
   "metadata": {
    "collapsed": false
   },
   "outputs": [
    {
     "data": {
      "text/html": [
       "<div>\n",
       "<style>\n",
       "    .dataframe thead tr:only-child th {\n",
       "        text-align: right;\n",
       "    }\n",
       "\n",
       "    .dataframe thead th {\n",
       "        text-align: left;\n",
       "    }\n",
       "\n",
       "    .dataframe tbody tr th {\n",
       "        vertical-align: top;\n",
       "    }\n",
       "</style>\n",
       "<table border=\"1\" class=\"dataframe\">\n",
       "  <thead>\n",
       "    <tr style=\"text-align: right;\">\n",
       "      <th></th>\n",
       "      <th>disease</th>\n",
       "      <th>gene_name</th>\n",
       "      <th>mkid</th>\n",
       "      <th>mclv</th>\n",
       "      <th>strand</th>\n",
       "      <th>aclv</th>\n",
       "      <th>N_on</th>\n",
       "      <th>T_on</th>\n",
       "      <th>N_off</th>\n",
       "      <th>T_off</th>\n",
       "      <th>fisher_exact_p</th>\n",
       "      <th>N_base</th>\n",
       "      <th>T_base</th>\n",
       "      <th>N_on_ratio</th>\n",
       "      <th>T_on_ratio</th>\n",
       "      <th>N2T_ratio_diff</th>\n",
       "      <th>diff_is_significant</th>\n",
       "      <th>N2T_ratio_change</th>\n",
       "      <th>N2T_ratio_change_sig</th>\n",
       "      <th>has_diff_aca</th>\n",
       "      <th>sc_list</th>\n",
       "      <th>src_list</th>\n",
       "      <th>num_sc</th>\n",
       "      <th>dist_mclv2aclv</th>\n",
       "    </tr>\n",
       "  </thead>\n",
       "  <tbody>\n",
       "    <tr>\n",
       "      <th>74</th>\n",
       "      <td>BLCA</td>\n",
       "      <td>BRCA1</td>\n",
       "      <td>chr17|BRCA1|-|41196318</td>\n",
       "      <td>41196318</td>\n",
       "      <td>-</td>\n",
       "      <td>41196313</td>\n",
       "      <td>13</td>\n",
       "      <td>401</td>\n",
       "      <td>6</td>\n",
       "      <td>13</td>\n",
       "      <td>0.000059</td>\n",
       "      <td>19</td>\n",
       "      <td>414</td>\n",
       "      <td>0.684211</td>\n",
       "      <td>0.968599</td>\n",
       "      <td>0.284389</td>\n",
       "      <td>True</td>\n",
       "      <td>up</td>\n",
       "      <td>up</td>\n",
       "      <td>True</td>\n",
       "      <td>41197695</td>\n",
       "      <td>protein_coding</td>\n",
       "      <td>1</td>\n",
       "      <td>5</td>\n",
       "    </tr>\n",
       "  </tbody>\n",
       "</table>\n",
       "</div>"
      ],
      "text/plain": [
       "   disease gene_name                    mkid      mclv strand      aclv  N_on  T_on  N_off  T_off  fisher_exact_p  N_base  T_base  N_on_ratio  T_on_ratio  N2T_ratio_diff  diff_is_significant N2T_ratio_change N2T_ratio_change_sig  has_diff_aca   sc_list        src_list  num_sc  dist_mclv2aclv\n",
       "74  BLCA    BRCA1     chr17|BRCA1|-|41196318  41196318  -      41196313  13    401   6      13     0.000059        19      414     0.684211    0.968599    0.284389        True                 up               up                   True          41197695  protein_coding  1       5             "
      ]
     },
     "execution_count": 16,
     "metadata": {},
     "output_type": "execute_result"
    }
   ],
   "source": [
    "mapped.head(1)"
   ]
  },
  {
   "cell_type": "code",
   "execution_count": 17,
   "metadata": {
    "collapsed": false
   },
   "outputs": [
    {
     "data": {
      "text/plain": [
       "1    122\n",
       "2    17 \n",
       "3    2  \n",
       "4    1  \n",
       "Name: num_sc, dtype: int64"
      ]
     },
     "execution_count": 17,
     "metadata": {},
     "output_type": "execute_result"
    }
   ],
   "source": [
    "mapped[['mkid', 'num_sc']].drop_duplicates().num_sc.value_counts()"
   ]
  },
  {
   "cell_type": "code",
   "execution_count": 18,
   "metadata": {
    "collapsed": false
   },
   "outputs": [
    {
     "data": {
      "text/plain": [
       "0.14084507042253522"
      ]
     },
     "execution_count": 18,
     "metadata": {},
     "output_type": "execute_result"
    }
   ],
   "source": [
    "mapped[['mkid', 'num_sc']].drop_duplicates().query('num_sc > 1').shape[0] / mapped[['mkid', 'num_sc']].drop_duplicates().shape[0]"
   ]
  },
  {
   "cell_type": "markdown",
   "metadata": {},
   "source": [
    "so about 14% of CSs concerned are mapped to multiple annotated stop codons."
   ]
  },
  {
   "cell_type": "code",
   "execution_count": 19,
   "metadata": {
    "collapsed": false
   },
   "outputs": [],
   "source": [
    "# remove those mapped_1sc to multiple sc as their corresponding 3'UTR length cannot be resolved at all \n",
    "# if only based on frequency\n",
    "mapped_1sc = mapped.query('num_sc == 1').copy()\n",
    "# convert 1-element list to a int, take first one by default?!\n",
    "mapped_1sc['sc'] = mapped_1sc['sc_list'].apply(lambda i: int(i.split(', ')[0])).astype(int)\n",
    "mapped_1sc.drop(['sc_list', 'num_sc'], inplace=True, axis=1)"
   ]
  },
  {
   "cell_type": "markdown",
   "metadata": {},
   "source": [
    "Calculate utr length based on KLEAT clv (aka mclv in this context) (or aclv? they should be very close) and annotated stop codon"
   ]
  },
  {
   "cell_type": "code",
   "execution_count": 20,
   "metadata": {
    "collapsed": false
   },
   "outputs": [],
   "source": [
    "mapped_1sc['utr_len'] = mapped_1sc.apply(lambda row: abs(row.aclv - row.sc), axis=1)"
   ]
  },
  {
   "cell_type": "code",
   "execution_count": 21,
   "metadata": {
    "collapsed": false
   },
   "outputs": [
    {
     "data": {
      "text/html": [
       "<div>\n",
       "<style>\n",
       "    .dataframe thead tr:only-child th {\n",
       "        text-align: right;\n",
       "    }\n",
       "\n",
       "    .dataframe thead th {\n",
       "        text-align: left;\n",
       "    }\n",
       "\n",
       "    .dataframe tbody tr th {\n",
       "        vertical-align: top;\n",
       "    }\n",
       "</style>\n",
       "<table border=\"1\" class=\"dataframe\">\n",
       "  <thead>\n",
       "    <tr style=\"text-align: right;\">\n",
       "      <th></th>\n",
       "      <th>disease</th>\n",
       "      <th>gene_name</th>\n",
       "      <th>mkid</th>\n",
       "      <th>mclv</th>\n",
       "      <th>strand</th>\n",
       "      <th>aclv</th>\n",
       "      <th>N_on</th>\n",
       "      <th>T_on</th>\n",
       "      <th>N_off</th>\n",
       "      <th>T_off</th>\n",
       "      <th>fisher_exact_p</th>\n",
       "      <th>N_base</th>\n",
       "      <th>T_base</th>\n",
       "      <th>N_on_ratio</th>\n",
       "      <th>T_on_ratio</th>\n",
       "      <th>N2T_ratio_diff</th>\n",
       "      <th>diff_is_significant</th>\n",
       "      <th>N2T_ratio_change</th>\n",
       "      <th>N2T_ratio_change_sig</th>\n",
       "      <th>has_diff_aca</th>\n",
       "      <th>src_list</th>\n",
       "      <th>dist_mclv2aclv</th>\n",
       "      <th>sc</th>\n",
       "      <th>utr_len</th>\n",
       "    </tr>\n",
       "  </thead>\n",
       "  <tbody>\n",
       "    <tr>\n",
       "      <th>74</th>\n",
       "      <td>BLCA</td>\n",
       "      <td>BRCA1</td>\n",
       "      <td>chr17|BRCA1|-|41196318</td>\n",
       "      <td>41196318</td>\n",
       "      <td>-</td>\n",
       "      <td>41196313</td>\n",
       "      <td>13</td>\n",
       "      <td>401</td>\n",
       "      <td>6</td>\n",
       "      <td>13</td>\n",
       "      <td>0.000059</td>\n",
       "      <td>19</td>\n",
       "      <td>414</td>\n",
       "      <td>0.684211</td>\n",
       "      <td>0.968599</td>\n",
       "      <td>0.284389</td>\n",
       "      <td>True</td>\n",
       "      <td>up</td>\n",
       "      <td>up</td>\n",
       "      <td>True</td>\n",
       "      <td>protein_coding</td>\n",
       "      <td>5</td>\n",
       "      <td>41197695</td>\n",
       "      <td>1382</td>\n",
       "    </tr>\n",
       "    <tr>\n",
       "      <th>75</th>\n",
       "      <td>BLCA</td>\n",
       "      <td>BRCA1</td>\n",
       "      <td>chr17|BRCA1|-|41196822</td>\n",
       "      <td>41196822</td>\n",
       "      <td>-</td>\n",
       "      <td>41196822</td>\n",
       "      <td>15</td>\n",
       "      <td>323</td>\n",
       "      <td>4</td>\n",
       "      <td>91</td>\n",
       "      <td>1.000000</td>\n",
       "      <td>19</td>\n",
       "      <td>414</td>\n",
       "      <td>0.789474</td>\n",
       "      <td>0.780193</td>\n",
       "      <td>-0.009280</td>\n",
       "      <td>False</td>\n",
       "      <td>down</td>\n",
       "      <td>NaN</td>\n",
       "      <td>True</td>\n",
       "      <td>protein_coding</td>\n",
       "      <td>0</td>\n",
       "      <td>41197801</td>\n",
       "      <td>979</td>\n",
       "    </tr>\n",
       "  </tbody>\n",
       "</table>\n",
       "</div>"
      ],
      "text/plain": [
       "   disease gene_name                    mkid      mclv strand      aclv  N_on  T_on  N_off  T_off  fisher_exact_p  N_base  T_base  N_on_ratio  T_on_ratio  N2T_ratio_diff  diff_is_significant N2T_ratio_change N2T_ratio_change_sig  has_diff_aca        src_list  dist_mclv2aclv        sc  utr_len\n",
       "74  BLCA    BRCA1     chr17|BRCA1|-|41196318  41196318  -      41196313  13    401   6      13     0.000059        19      414     0.684211    0.968599    0.284389        True                 up               up                   True          protein_coding  5               41197695  1382   \n",
       "75  BLCA    BRCA1     chr17|BRCA1|-|41196822  41196822  -      41196822  15    323   4      91     1.000000        19      414     0.789474    0.780193   -0.009280        False                down             NaN                  True          protein_coding  0               41197801  979    "
      ]
     },
     "execution_count": 21,
     "metadata": {},
     "output_type": "execute_result"
    }
   ],
   "source": [
    "mapped_1sc.head(2)"
   ]
  },
  {
   "cell_type": "code",
   "execution_count": 22,
   "metadata": {
    "collapsed": false
   },
   "outputs": [
    {
     "data": {
      "image/png": "[encoded data removed]",
      "text/plain": [
       "<matplotlib.figure.Figure at 0x7f3d7d309780>"
      ]
     },
     "metadata": {},
     "output_type": "display_data"
    }
   ],
   "source": [
    "fig = plt.figure(figsize=(6, 4))\n",
    "ax = fig.add_subplot(111)\n",
    "bins = np.arange(0, 5000, 300)\n",
    "\n",
    "utr_len1 = mapped_1sc.query('src_list == \"protein_coding\"').utr_len\n",
    "# utr_len1.plot.hist(ax=ax, bins=bins, histtype='step', normed=True, label='protein coding')\n",
    "utr_len1.plot.hist(ax=ax, bins=bins, alpha=0.5, color='blue', normed=True, label='protein coding')\n",
    "\n",
    "utr_len2 = mapped_1sc.query('src_list == \"nonsense_mediated_decay\"').utr_len\n",
    "# utr_len2.plot.hist(ax=ax, bins=bins, histtype='step', normed=True, label='NMD')\n",
    "utr_len2.plot.hist(ax=ax, bins=bins, alpha=0.5, color='yellow', normed=True, label='NMD')\n",
    "\n",
    "ax.ticklabel_format(style='sci', scilimits=(0,0))\n",
    "ax.set_xlabel(\"Length of 3' UTR\")\n",
    "ax.set_ylabel(\"P\")\n",
    "ax.legend()\n",
    "ax.grid(color='gray')\n",
    "# plt.savefig('./figs/NmdLong3UTR.jpeg', dpi=300)"
   ]
  },
  {
   "cell_type": "code",
   "execution_count": 23,
   "metadata": {
    "collapsed": false
   },
   "outputs": [
    {
     "data": {
      "text/plain": [
       "2158.4155844155844"
      ]
     },
     "execution_count": 23,
     "metadata": {},
     "output_type": "execute_result"
    }
   ],
   "source": [
    "utr_len1.mean()"
   ]
  },
  {
   "cell_type": "code",
   "execution_count": 24,
   "metadata": {
    "collapsed": false
   },
   "outputs": [
    {
     "data": {
      "text/plain": [
       "12721.777777777777"
      ]
     },
     "execution_count": 24,
     "metadata": {},
     "output_type": "execute_result"
    }
   ],
   "source": [
    "utr_len2.mean()"
   ]
  },
  {
   "cell_type": "code",
   "execution_count": 25,
   "metadata": {
    "collapsed": false
   },
   "outputs": [
    {
     "data": {
      "text/plain": [
       "Ks_2sampResult(statistic=0.73809523809523814, pvalue=6.5427930687879785e-16)"
      ]
     },
     "execution_count": 25,
     "metadata": {},
     "output_type": "execute_result"
    }
   ],
   "source": [
    "stats.ks_2samp(utr_len1.values, utr_len2.values)"
   ]
  },
  {
   "cell_type": "markdown",
   "metadata": {},
   "source": [
    "So NMD utr len tends to be much longer"
   ]
  },
  {
   "cell_type": "code",
   "execution_count": null,
   "metadata": {
    "collapsed": true
   },
   "outputs": [],
   "source": []
  },
  {
   "cell_type": "code",
   "execution_count": 26,
   "metadata": {
    "collapsed": false,
    "scrolled": true
   },
   "outputs": [
    {
     "data": {
      "text/plain": [
       "protein_coding                             231\n",
       "nonsense_mediated_decay                    36 \n",
       "nonsense_mediated_decay, protein_coding    2  \n",
       "Name: src_list, dtype: int64"
      ]
     },
     "execution_count": 26,
     "metadata": {},
     "output_type": "execute_result"
    }
   ],
   "source": [
    "mapped_1sc.src_list.value_counts()"
   ]
  },
  {
   "cell_type": "code",
   "execution_count": 27,
   "metadata": {
    "collapsed": false
   },
   "outputs": [],
   "source": [
    "# _df = mapped.sort_values('utr_len').query('utr_len == 0')\n",
    "# _df[_df.src_list == (\"protein_coding\", )]"
   ]
  },
  {
   "cell_type": "code",
   "execution_count": 28,
   "metadata": {
    "collapsed": false
   },
   "outputs": [
    {
     "data": {
      "text/plain": [
       "array(['protein_coding', 'nonsense_mediated_decay',\n",
       "       'nonsense_mediated_decay, protein_coding'], dtype=object)"
      ]
     },
     "execution_count": 28,
     "metadata": {},
     "output_type": "execute_result"
    }
   ],
   "source": [
    "mapped_1sc.src_list.unique()"
   ]
  },
  {
   "cell_type": "markdown",
   "metadata": {},
   "source": [
    "a number of them are tiny..."
   ]
  },
  {
   "cell_type": "code",
   "execution_count": 29,
   "metadata": {
    "collapsed": true
   },
   "outputs": [],
   "source": [
    "def init_trend(state):\n",
    "    if state == 'up':\n",
    "        # potential trend because utr are sorted by length already \n",
    "        pot = -1  # shortening\n",
    "    elif state == 'down':\n",
    "        pot = 1 # lengthening\n",
    "    else:\n",
    "        raise\n",
    "    return pot\n",
    "\n",
    "def define_trend_no_nan(changes):\n",
    "    \"\"\"changes should be sorted by utr length, and contain no nan values\"\"\"\n",
    "    trend = 0\n",
    "    if len(changes) <= 1:\n",
    "        # there is no point talking about trend if only 1 possibility of 3'UTR length exists\n",
    "        return trend\n",
    "    \n",
    "    transition_count = 0\n",
    "    state = changes[0]\n",
    "    trend = init_trend(state)\n",
    "        \n",
    "    for i in changes[1:]:\n",
    "        if i != state:\n",
    "            transition_count += 1\n",
    "            state = i\n",
    "    # print(transition_count)\n",
    "    # should be exactly 1 transition, if above 1, see CHURC1, LUSC\n",
    "    if transition_count != 1:\n",
    "        trend = 0 # reset to undefined trend\n",
    "    return trend\n",
    "\n",
    "assert define_trend_no_nan(['up', 'down']) == -1 # shortening\n",
    "assert define_trend_no_nan(['down', 'up']) == 1  # lengthening\n",
    "assert define_trend_no_nan(['down']) == 0  # undefined\n",
    "assert define_trend_no_nan(['up']) == 0  # undefined\n",
    "assert define_trend_no_nan(['down', 'up', 'down']) == 0  # undefined\n",
    "assert define_trend_no_nan(['up', 'down', 'up']) == 0  # undefined\n",
    "\n",
    "def is_nan(val):\n",
    "    \"\"\"handles mix of float and string (bad design if you find this function useful)\"\"\"\n",
    "    return True if isinstance(val, float) and np.isnan(val) else False\n",
    "\n",
    "\n",
    "def define_trend(changes):\n",
    "    \"\"\"\n",
    "    changes should be sorted by utr length, and possibly contain nan values\n",
    "    \n",
    "    changes should be partitioned after sorted by utr length, in order to assign a trend,\n",
    "    otherwise unassigned. e.g.\n",
    "        down, down, nan, up implies lengthening\n",
    "        up, down, nan implies lengthening\n",
    "        \n",
    "    nan means no significant change, but they have to be there as they're evidence for an \n",
    "    alternative 3'UTR with a different length, esp. when only up or down is found for a given stop codon,\n",
    "    hence for comparison purpose\n",
    "    \"\"\"\n",
    "    if np.unique(changes).shape[0] == 1:\n",
    "        return 0 # undefined, no trend can be defined\n",
    "    \n",
    "    if all([is_nan(_) for _ in changes]):\n",
    "        # np.unique([np.nan, np.nan]) still has a shape of (2,)\n",
    "        return 0\n",
    "    \n",
    "    if 'up' in changes and 'down' in changes:\n",
    "        # then ignore nan\n",
    "        changes = [_ for _ in changes if not is_nan(_)]\n",
    "    # nan matters when there is only 'down' or 'up', and is \n",
    "    # converted to the opposite change, in relatively terms\n",
    "    elif 'up' in changes:\n",
    "        changes = [_ if not is_nan(_) else 'down' for _ in changes]\n",
    "    elif 'down' in changes:\n",
    "        changes = [_ if not is_nan(_) else 'up' for _ in changes ]\n",
    "#     print(changes)\n",
    "    return define_trend_no_nan(changes)\n",
    "\n",
    "assert define_trend(['up', 'down']) == -1 # shortening\n",
    "assert define_trend(['down', 'up']) == 1  # lengthening\n",
    "assert define_trend(['down']) == 0  # undefined\n",
    "assert define_trend(['down', 'up', 'down']) == 0  # undefined\n",
    "assert define_trend(['up', 'down', 'up']) == 0  # undefined\n",
    "# with nan\n",
    "assert define_trend([np.nan, 'down', 'up']) == 1\n",
    "assert define_trend(['down', 'down', np.nan]) == 1\n",
    "assert define_trend(['up', 'down', np.nan]) == -1\n",
    "assert define_trend(['up', np.nan]) == -1\n",
    "assert define_trend(['up', 'up', np.nan]) == -1\n",
    "assert define_trend(['down', np.nan]) == 1\n",
    "assert define_trend(['down', 'down', np.nan]) == 1\n",
    "assert define_trend(['down', 'up', np.nan]) == 1\n",
    "assert define_trend([np.nan, 'up']) == 1\n",
    "assert define_trend(['up', 'up', np.nan]) == -1\n",
    "assert define_trend(['down', np.nan]) == 1\n",
    "assert define_trend(['down', 'down', np.nan]) == 1\n",
    "assert define_trend([np.nan, np.nan]) == 0\n",
    "\n",
    "def sc_level_comp(grp_by_sc):\n",
    "    \"\"\"stop codon-level comparison\"\"\"\n",
    "    changes = grp_by_sc.sort_values('utr_len').N2T_ratio_change_sig.values.tolist()\n",
    "#     print(changes)\n",
    "    return define_trend(changes)\n",
    "\n",
    "def assign_utr_trend(grp):\n",
    "    pots = grp.groupby('sc').apply(sc_level_comp)\n",
    "    return pots"
   ]
  },
  {
   "cell_type": "code",
   "execution_count": 30,
   "metadata": {
    "collapsed": false
   },
   "outputs": [],
   "source": [
    "sc_level_trends = mapped_1sc.groupby(['disease', 'gene_name']).apply(assign_utr_trend)"
   ]
  },
  {
   "cell_type": "code",
   "execution_count": 31,
   "metadata": {
    "collapsed": false
   },
   "outputs": [
    {
     "data": {
      "text/plain": [
       "disease  gene_name  sc      \n",
       "BLCA     BRCA1      41197695    0\n",
       "                    41197801    0\n",
       "dtype: int64"
      ]
     },
     "execution_count": 31,
     "metadata": {},
     "output_type": "execute_result"
    }
   ],
   "source": [
    "sc_level_trends.head(2)"
   ]
  },
  {
   "cell_type": "code",
   "execution_count": 32,
   "metadata": {
    "collapsed": false
   },
   "outputs": [],
   "source": [
    "trends_df = sc_level_trends.to_frame('trend').reset_index().groupby(['disease', 'gene_name']).apply(lambda g: g.trend.unique()).to_frame('sc_level_trends')"
   ]
  },
  {
   "cell_type": "code",
   "execution_count": 33,
   "metadata": {
    "collapsed": true
   },
   "outputs": [],
   "source": [
    "TRENDS_DD = {\n",
    "    -1: 'shortening',\n",
    "    0: 'undefined',\n",
    "    1: 'lengthening'\n",
    "}"
   ]
  },
  {
   "cell_type": "code",
   "execution_count": 34,
   "metadata": {
    "collapsed": false
   },
   "outputs": [],
   "source": [
    "def resolve_trends(trends):\n",
    "    \"\"\"resolve possibly multiple trends into one, e.g.\n",
    "    [shortening, undefined] => shortening\n",
    "    [lengthening, undefined] => lengthening\n",
    "    [lengthening, undefined, shortening] => undefined\n",
    "    [undefined] => undefined\n",
    "    \"\"\"\n",
    "    trends = np.unique(trends)\n",
    "    if len(trends) == 1:\n",
    "        return trends[0]\n",
    "    elif len(trends) == 2:\n",
    "        if 0 in trends:\n",
    "            return sum(trends)\n",
    "        else:\n",
    "            return 0\n",
    "    else:\n",
    "        return 0\n",
    "        \n",
    "assert resolve_trends([0]) == 0\n",
    "assert resolve_trends([1]) == 1\n",
    "assert resolve_trends([-1]) == -1\n",
    "assert resolve_trends([-1, 1]) == 0\n",
    "assert resolve_trends([-1, 0]) == -1\n",
    "assert resolve_trends([1, 0]) == 1\n",
    "assert resolve_trends([-1, 0, 1]) == 0"
   ]
  },
  {
   "cell_type": "code",
   "execution_count": 35,
   "metadata": {
    "collapsed": false
   },
   "outputs": [],
   "source": [
    "trends_df['resolved_trend'] = trends_df.sc_level_trends.apply(resolve_trends)\n",
    "trends_df.reset_index(inplace=True)"
   ]
  },
  {
   "cell_type": "code",
   "execution_count": 36,
   "metadata": {
    "collapsed": true
   },
   "outputs": [],
   "source": [
    "trends_df['resolved_trend_name'] = trends_df.resolved_trend.apply(lambda t: TRENDS_DD[t])"
   ]
  },
  {
   "cell_type": "code",
   "execution_count": 37,
   "metadata": {
    "collapsed": false
   },
   "outputs": [
    {
     "data": {
      "text/html": [
       "<div>\n",
       "<style>\n",
       "    .dataframe thead tr:only-child th {\n",
       "        text-align: right;\n",
       "    }\n",
       "\n",
       "    .dataframe thead th {\n",
       "        text-align: left;\n",
       "    }\n",
       "\n",
       "    .dataframe tbody tr th {\n",
       "        vertical-align: top;\n",
       "    }\n",
       "</style>\n",
       "<table border=\"1\" class=\"dataframe\">\n",
       "  <thead>\n",
       "    <tr style=\"text-align: right;\">\n",
       "      <th></th>\n",
       "      <th>disease</th>\n",
       "      <th>gene_name</th>\n",
       "      <th>sc_level_trends</th>\n",
       "      <th>resolved_trend</th>\n",
       "      <th>resolved_trend_name</th>\n",
       "    </tr>\n",
       "  </thead>\n",
       "  <tbody>\n",
       "    <tr>\n",
       "      <th>0</th>\n",
       "      <td>BLCA</td>\n",
       "      <td>BRCA1</td>\n",
       "      <td>[0]</td>\n",
       "      <td>0</td>\n",
       "      <td>undefined</td>\n",
       "    </tr>\n",
       "    <tr>\n",
       "      <th>1</th>\n",
       "      <td>BRCA</td>\n",
       "      <td>AKT2</td>\n",
       "      <td>[0]</td>\n",
       "      <td>0</td>\n",
       "      <td>undefined</td>\n",
       "    </tr>\n",
       "    <tr>\n",
       "      <th>2</th>\n",
       "      <td>BRCA</td>\n",
       "      <td>CCNE1</td>\n",
       "      <td>[1]</td>\n",
       "      <td>1</td>\n",
       "      <td>lengthening</td>\n",
       "    </tr>\n",
       "    <tr>\n",
       "      <th>3</th>\n",
       "      <td>BRCA</td>\n",
       "      <td>EZH2</td>\n",
       "      <td>[0]</td>\n",
       "      <td>0</td>\n",
       "      <td>undefined</td>\n",
       "    </tr>\n",
       "    <tr>\n",
       "      <th>4</th>\n",
       "      <td>BRCA</td>\n",
       "      <td>FGF2</td>\n",
       "      <td>[-1]</td>\n",
       "      <td>-1</td>\n",
       "      <td>shortening</td>\n",
       "    </tr>\n",
       "  </tbody>\n",
       "</table>\n",
       "</div>"
      ],
      "text/plain": [
       "  disease gene_name sc_level_trends  resolved_trend resolved_trend_name\n",
       "0  BLCA    BRCA1     [0]             0               undefined         \n",
       "1  BRCA    AKT2      [0]             0               undefined         \n",
       "2  BRCA    CCNE1     [1]             1               lengthening       \n",
       "3  BRCA    EZH2      [0]             0               undefined         \n",
       "4  BRCA    FGF2      [-1]           -1               shortening        "
      ]
     },
     "execution_count": 37,
     "metadata": {},
     "output_type": "execute_result"
    }
   ],
   "source": [
    "trends_df.head()"
   ]
  },
  {
   "cell_type": "code",
   "execution_count": 38,
   "metadata": {
    "collapsed": false
   },
   "outputs": [
    {
     "data": {
      "text/plain": [
       "undefined      45\n",
       "shortening     16\n",
       "lengthening    16\n",
       "Name: resolved_trend_name, dtype: int64"
      ]
     },
     "execution_count": 38,
     "metadata": {},
     "output_type": "execute_result"
    }
   ],
   "source": [
    "trends_df.resolved_trend_name.value_counts()"
   ]
  },
  {
   "cell_type": "code",
   "execution_count": 39,
   "metadata": {
    "collapsed": false
   },
   "outputs": [
    {
     "data": {
      "text/plain": [
       "(77, 5)"
      ]
     },
     "execution_count": 39,
     "metadata": {},
     "output_type": "execute_result"
    }
   ],
   "source": [
    "trends_df.shape"
   ]
  },
  {
   "cell_type": "code",
   "execution_count": 40,
   "metadata": {
    "collapsed": false
   },
   "outputs": [
    {
     "data": {
      "text/plain": [
       "(17,)"
      ]
     },
     "execution_count": 40,
     "metadata": {},
     "output_type": "execute_result"
    }
   ],
   "source": [
    "trends_df.query('resolved_trend != 0').gene_name.unique().shape"
   ]
  },
  {
   "cell_type": "code",
   "execution_count": null,
   "metadata": {
    "collapsed": true
   },
   "outputs": [],
   "source": []
  },
  {
   "cell_type": "code",
   "execution_count": 41,
   "metadata": {
    "collapsed": false
   },
   "outputs": [],
   "source": [
    "assert trends_df.query('disease == \"UCEC\"').query('gene_name == \"RNF43\"').resolved_trend_name.values[0] == 'lengthening'"
   ]
  },
  {
   "cell_type": "code",
   "execution_count": 42,
   "metadata": {
    "collapsed": false
   },
   "outputs": [],
   "source": [
    "assert trends_df.query('disease == \"KIRC\"').query('gene_name == \"RNF43\"').resolved_trend_name.values[0] == 'shortening'"
   ]
  },
  {
   "cell_type": "code",
   "execution_count": null,
   "metadata": {
    "collapsed": true
   },
   "outputs": [],
   "source": []
  },
  {
   "cell_type": "code",
   "execution_count": null,
   "metadata": {
    "collapsed": true
   },
   "outputs": [],
   "source": []
  },
  {
   "cell_type": "markdown",
   "metadata": {},
   "source": [
    "# Now with resolved trends, plot the table like plot"
   ]
  },
  {
   "cell_type": "code",
   "execution_count": 43,
   "metadata": {
    "collapsed": true
   },
   "outputs": [],
   "source": [
    "diff_aca_df = bdf.copy()"
   ]
  },
  {
   "cell_type": "code",
   "execution_count": 44,
   "metadata": {
    "collapsed": false,
    "scrolled": true
   },
   "outputs": [
    {
     "data": {
      "text/plain": [
       "(13,)"
      ]
     },
     "execution_count": 44,
     "metadata": {},
     "output_type": "execute_result"
    }
   ],
   "source": [
    "diff_aca_df.disease.unique().shape"
   ]
  },
  {
   "cell_type": "code",
   "execution_count": 45,
   "metadata": {
    "collapsed": false
   },
   "outputs": [
    {
     "name": "stdout",
     "output_type": "stream",
     "text": [
      "['BLCA', 'BRCA', 'COAD', 'HNSC', 'KICH', 'KIRC', 'KIRP', 'LIHC', 'LUAD', 'LUSC', 'PRAD', 'THCA', 'UCEC']\n"
     ]
    }
   ],
   "source": [
    "aca_dises = sorted(diff_aca_df.disease.unique())\n",
    "print(aca_dises)"
   ]
  },
  {
   "cell_type": "markdown",
   "metadata": {},
   "source": [
    "so no STAD"
   ]
  },
  {
   "cell_type": "code",
   "execution_count": 46,
   "metadata": {
    "collapsed": false
   },
   "outputs": [],
   "source": [
    "aca_genes = sorted(diff_aca_df.gene_name.unique())"
   ]
  },
  {
   "cell_type": "code",
   "execution_count": 47,
   "metadata": {
    "collapsed": true
   },
   "outputs": [],
   "source": [
    "aca_mat = diff_aca_df[['disease', 'gene_name']].drop_duplicates()"
   ]
  },
  {
   "cell_type": "markdown",
   "metadata": {},
   "source": [
    "incorporate trend information for genes"
   ]
  },
  {
   "cell_type": "code",
   "execution_count": 48,
   "metadata": {
    "collapsed": true
   },
   "outputs": [],
   "source": [
    "def assign_trend(row):\n",
    "    res = trends_df.query('gene_name == \"{0}\"'.format(row.gene_name)).query('disease == \"{0}\"'.format(row.disease))\n",
    "    try:\n",
    "        assert res.shape[0] == 1\n",
    "        return res.resolved_trend.values[0]\n",
    "    except:\n",
    "        print(row.gene_name, row.disease, res)\n",
    "        return 0 # as undefined, this could be due the corresponding transcripts are not protein_coding ones"
   ]
  },
  {
   "cell_type": "code",
   "execution_count": 49,
   "metadata": {
    "collapsed": false
   },
   "outputs": [],
   "source": [
    "aca_mat['trend'] = aca_mat.apply(assign_trend, axis=1)"
   ]
  },
  {
   "cell_type": "code",
   "execution_count": 50,
   "metadata": {
    "collapsed": false
   },
   "outputs": [],
   "source": [
    "# aca_mat.to_csv('./data/aca_trends.csv', index=False)"
   ]
  },
  {
   "cell_type": "code",
   "execution_count": 51,
   "metadata": {
    "collapsed": false
   },
   "outputs": [
    {
     "data": {
      "text/html": [
       "<div>\n",
       "<style>\n",
       "    .dataframe thead tr:only-child th {\n",
       "        text-align: right;\n",
       "    }\n",
       "\n",
       "    .dataframe thead th {\n",
       "        text-align: left;\n",
       "    }\n",
       "\n",
       "    .dataframe tbody tr th {\n",
       "        vertical-align: top;\n",
       "    }\n",
       "</style>\n",
       "<table border=\"1\" class=\"dataframe\">\n",
       "  <thead>\n",
       "    <tr style=\"text-align: right;\">\n",
       "      <th></th>\n",
       "      <th>0</th>\n",
       "      <th>-1</th>\n",
       "      <th>1</th>\n",
       "    </tr>\n",
       "  </thead>\n",
       "  <tbody>\n",
       "    <tr>\n",
       "      <th>trend</th>\n",
       "      <td>45</td>\n",
       "      <td>16</td>\n",
       "      <td>16</td>\n",
       "    </tr>\n",
       "  </tbody>\n",
       "</table>\n",
       "</div>"
      ],
      "text/plain": [
       "        0  -1   1\n",
       "trend  45  16  16"
      ]
     },
     "execution_count": 51,
     "metadata": {},
     "output_type": "execute_result"
    }
   ],
   "source": [
    "aca_mat.trend.value_counts().to_frame().T"
   ]
  },
  {
   "cell_type": "code",
   "execution_count": 52,
   "metadata": {
    "collapsed": true
   },
   "outputs": [],
   "source": [
    "aca_mat = aca_mat.pivot(index='gene_name', columns='disease', values='trend').fillna(-2)\n",
    "# aca_mat = aca_mat.pivot(index='disease', columns='gene_name', values='trend').fillna(-2)"
   ]
  },
  {
   "cell_type": "code",
   "execution_count": 53,
   "metadata": {
    "collapsed": false
   },
   "outputs": [],
   "source": [
    "aca_mat += 2 # shift the values for imshow"
   ]
  },
  {
   "cell_type": "code",
   "execution_count": 54,
   "metadata": {
    "collapsed": false
   },
   "outputs": [
    {
     "data": {
      "text/html": [
       "<div>\n",
       "<style>\n",
       "    .dataframe thead tr:only-child th {\n",
       "        text-align: right;\n",
       "    }\n",
       "\n",
       "    .dataframe thead th {\n",
       "        text-align: left;\n",
       "    }\n",
       "\n",
       "    .dataframe tbody tr th {\n",
       "        vertical-align: top;\n",
       "    }\n",
       "</style>\n",
       "<table border=\"1\" class=\"dataframe\">\n",
       "  <thead>\n",
       "    <tr style=\"text-align: right;\">\n",
       "      <th>disease</th>\n",
       "      <th>BLCA</th>\n",
       "      <th>BRCA</th>\n",
       "      <th>COAD</th>\n",
       "      <th>HNSC</th>\n",
       "      <th>KICH</th>\n",
       "      <th>KIRC</th>\n",
       "      <th>KIRP</th>\n",
       "      <th>LIHC</th>\n",
       "      <th>LUAD</th>\n",
       "      <th>LUSC</th>\n",
       "      <th>PRAD</th>\n",
       "      <th>THCA</th>\n",
       "      <th>UCEC</th>\n",
       "    </tr>\n",
       "    <tr>\n",
       "      <th>gene_name</th>\n",
       "      <th></th>\n",
       "      <th></th>\n",
       "      <th></th>\n",
       "      <th></th>\n",
       "      <th></th>\n",
       "      <th></th>\n",
       "      <th></th>\n",
       "      <th></th>\n",
       "      <th></th>\n",
       "      <th></th>\n",
       "      <th></th>\n",
       "      <th></th>\n",
       "      <th></th>\n",
       "    </tr>\n",
       "  </thead>\n",
       "  <tbody>\n",
       "    <tr>\n",
       "      <th>AKT2</th>\n",
       "      <td>0.0</td>\n",
       "      <td>2.0</td>\n",
       "      <td>2.0</td>\n",
       "      <td>0.0</td>\n",
       "      <td>0.0</td>\n",
       "      <td>0.0</td>\n",
       "      <td>2.0</td>\n",
       "      <td>0.0</td>\n",
       "      <td>0.0</td>\n",
       "      <td>0.0</td>\n",
       "      <td>0.0</td>\n",
       "      <td>0.0</td>\n",
       "      <td>0.0</td>\n",
       "    </tr>\n",
       "    <tr>\n",
       "      <th>ALK</th>\n",
       "      <td>0.0</td>\n",
       "      <td>0.0</td>\n",
       "      <td>0.0</td>\n",
       "      <td>0.0</td>\n",
       "      <td>0.0</td>\n",
       "      <td>0.0</td>\n",
       "      <td>0.0</td>\n",
       "      <td>0.0</td>\n",
       "      <td>0.0</td>\n",
       "      <td>0.0</td>\n",
       "      <td>0.0</td>\n",
       "      <td>3.0</td>\n",
       "      <td>0.0</td>\n",
       "    </tr>\n",
       "  </tbody>\n",
       "</table>\n",
       "</div>"
      ],
      "text/plain": [
       "disease    BLCA  BRCA  COAD  HNSC  KICH  KIRC  KIRP  LIHC  LUAD  LUSC  PRAD  THCA  UCEC\n",
       "gene_name                                                                              \n",
       "AKT2       0.0   2.0   2.0   0.0   0.0   0.0   2.0   0.0   0.0   0.0   0.0   0.0   0.0 \n",
       "ALK        0.0   0.0   0.0   0.0   0.0   0.0   0.0   0.0   0.0   0.0   0.0   3.0   0.0 "
      ]
     },
     "execution_count": 54,
     "metadata": {},
     "output_type": "execute_result"
    }
   ],
   "source": [
    "aca_mat.head(2)"
   ]
  },
  {
   "cell_type": "code",
   "execution_count": 55,
   "metadata": {
    "collapsed": false
   },
   "outputs": [],
   "source": [
    "clv_sc_df = pd.read_csv('../__results/annotated-clv-sc-mapping.csv')"
   ]
  },
  {
   "cell_type": "code",
   "execution_count": 56,
   "metadata": {
    "collapsed": false
   },
   "outputs": [
    {
     "data": {
      "text/plain": [
       "33"
      ]
     },
     "execution_count": 56,
     "metadata": {},
     "output_type": "execute_result"
    }
   ],
   "source": [
    "aca_mat.index.shape[0]"
   ]
  },
  {
   "cell_type": "code",
   "execution_count": null,
   "metadata": {
    "collapsed": true
   },
   "outputs": [],
   "source": []
  },
  {
   "cell_type": "code",
   "execution_count": 57,
   "metadata": {
    "collapsed": true
   },
   "outputs": [],
   "source": [
    "sc_count_dd = clv_sc_df.groupby('gene_name').apply(lambda g: g.sc.unique().shape[0])"
   ]
  },
  {
   "cell_type": "code",
   "execution_count": 58,
   "metadata": {
    "collapsed": false
   },
   "outputs": [],
   "source": [
    "clv_count_dd = clv_sc_df.groupby('gene_name').apply(lambda g: g.aclv.unique().shape[0])"
   ]
  },
  {
   "cell_type": "code",
   "execution_count": 59,
   "metadata": {
    "collapsed": true
   },
   "outputs": [],
   "source": [
    "aca_mat['num_sc'] = list(map(lambda g: sc_count_dd[g], aca_mat.index.values))"
   ]
  },
  {
   "cell_type": "code",
   "execution_count": 60,
   "metadata": {
    "collapsed": false
   },
   "outputs": [],
   "source": [
    "# aca_mat['label'] = list(map(lambda g: '{0} ({1}, {2})'.format(g, sc_count_dd[g], clv_count_dd[g]), aca_mat.index.values))\n",
    "aca_mat['label'] = list(map(lambda g: r'\\textit{{{0}}} ({1}, {2})'.format(g, sc_count_dd[g], clv_count_dd[g]), aca_mat.index.values))"
   ]
  },
  {
   "cell_type": "code",
   "execution_count": 61,
   "metadata": {
    "collapsed": false
   },
   "outputs": [],
   "source": [
    "aca_mat.reset_index(inplace=True) # just for sorting purpose\n",
    "aca_mat.index = aca_mat.gene_name"
   ]
  },
  {
   "cell_type": "code",
   "execution_count": 62,
   "metadata": {
    "collapsed": false
   },
   "outputs": [
    {
     "data": {
      "text/html": [
       "<div>\n",
       "<style>\n",
       "    .dataframe thead tr:only-child th {\n",
       "        text-align: right;\n",
       "    }\n",
       "\n",
       "    .dataframe thead th {\n",
       "        text-align: left;\n",
       "    }\n",
       "\n",
       "    .dataframe tbody tr th {\n",
       "        vertical-align: top;\n",
       "    }\n",
       "</style>\n",
       "<table border=\"1\" class=\"dataframe\">\n",
       "  <thead>\n",
       "    <tr style=\"text-align: right;\">\n",
       "      <th>disease</th>\n",
       "      <th>gene_name</th>\n",
       "      <th>BLCA</th>\n",
       "      <th>BRCA</th>\n",
       "      <th>COAD</th>\n",
       "      <th>HNSC</th>\n",
       "      <th>KICH</th>\n",
       "      <th>KIRC</th>\n",
       "      <th>KIRP</th>\n",
       "      <th>LIHC</th>\n",
       "      <th>LUAD</th>\n",
       "      <th>LUSC</th>\n",
       "      <th>PRAD</th>\n",
       "      <th>THCA</th>\n",
       "      <th>UCEC</th>\n",
       "      <th>num_sc</th>\n",
       "      <th>label</th>\n",
       "    </tr>\n",
       "    <tr>\n",
       "      <th>gene_name</th>\n",
       "      <th></th>\n",
       "      <th></th>\n",
       "      <th></th>\n",
       "      <th></th>\n",
       "      <th></th>\n",
       "      <th></th>\n",
       "      <th></th>\n",
       "      <th></th>\n",
       "      <th></th>\n",
       "      <th></th>\n",
       "      <th></th>\n",
       "      <th></th>\n",
       "      <th></th>\n",
       "      <th></th>\n",
       "      <th></th>\n",
       "      <th></th>\n",
       "    </tr>\n",
       "  </thead>\n",
       "  <tbody>\n",
       "    <tr>\n",
       "      <th>AKT2</th>\n",
       "      <td>AKT2</td>\n",
       "      <td>0.0</td>\n",
       "      <td>2.0</td>\n",
       "      <td>2.0</td>\n",
       "      <td>0.0</td>\n",
       "      <td>0.0</td>\n",
       "      <td>0.0</td>\n",
       "      <td>2.0</td>\n",
       "      <td>0.0</td>\n",
       "      <td>0.0</td>\n",
       "      <td>0.0</td>\n",
       "      <td>0.0</td>\n",
       "      <td>0.0</td>\n",
       "      <td>0.0</td>\n",
       "      <td>8</td>\n",
       "      <td>\\textit{AKT2} (8, 9)</td>\n",
       "    </tr>\n",
       "    <tr>\n",
       "      <th>ALK</th>\n",
       "      <td>ALK</td>\n",
       "      <td>0.0</td>\n",
       "      <td>0.0</td>\n",
       "      <td>0.0</td>\n",
       "      <td>0.0</td>\n",
       "      <td>0.0</td>\n",
       "      <td>0.0</td>\n",
       "      <td>0.0</td>\n",
       "      <td>0.0</td>\n",
       "      <td>0.0</td>\n",
       "      <td>0.0</td>\n",
       "      <td>0.0</td>\n",
       "      <td>3.0</td>\n",
       "      <td>0.0</td>\n",
       "      <td>2</td>\n",
       "      <td>\\textit{ALK} (2, 3)</td>\n",
       "    </tr>\n",
       "  </tbody>\n",
       "</table>\n",
       "</div>"
      ],
      "text/plain": [
       "disease   gene_name  BLCA  BRCA  COAD  HNSC  KICH  KIRC  KIRP  LIHC  LUAD  LUSC  PRAD  THCA  UCEC  num_sc                 label\n",
       "gene_name                                                                                                                      \n",
       "AKT2       AKT2      0.0   2.0   2.0   0.0   0.0   0.0   2.0   0.0   0.0   0.0   0.0   0.0   0.0   8       \\textit{AKT2} (8, 9)\n",
       "ALK        ALK       0.0   0.0   0.0   0.0   0.0   0.0   0.0   0.0   0.0   0.0   0.0   3.0   0.0   2       \\textit{ALK} (2, 3) "
      ]
     },
     "execution_count": 62,
     "metadata": {},
     "output_type": "execute_result"
    }
   ],
   "source": [
    "aca_mat.head(2)"
   ]
  },
  {
   "cell_type": "code",
   "execution_count": 63,
   "metadata": {
    "collapsed": false
   },
   "outputs": [],
   "source": [
    "# aca_mat.sort_values(['num_sc', 'gene_name'], inplace=True)\n",
    "aca_mat.sort_values(['gene_name'], inplace=True)"
   ]
  },
  {
   "cell_type": "code",
   "execution_count": 64,
   "metadata": {
    "collapsed": true
   },
   "outputs": [],
   "source": [
    "aca_mat = aca_mat.T"
   ]
  },
  {
   "cell_type": "code",
   "execution_count": 65,
   "metadata": {
    "collapsed": false
   },
   "outputs": [],
   "source": [
    "# aca_mat_vals = aca_mat.loc[aca_dises].astype(int)\n",
    "aca_mat_vals = aca_mat.loc[aca_dises].astype(int)"
   ]
  },
  {
   "cell_type": "code",
   "execution_count": 66,
   "metadata": {
    "collapsed": false
   },
   "outputs": [],
   "source": [
    "# http://stackoverflow.com/questions/9707676/defining-a-discrete-colormap-for-imshow-in-matplotlib\n",
    "# BS: bootstrap\n",
    "BS_BLUE = (np.array([2, 117, 216]) / 255).tolist()\n",
    "BS_RED  = (np.array([217, 83, 79]) / 255).tolist()\n",
    "# cust_cmap = matplotlib.colors.ListedColormap(['white', BS_BLUE, 'gray', BS_RED])\n",
    "\n",
    "SHORTENING_COLOR = '#20948B'\n",
    "LENGTHENING_COLOR = '#DE7A22'\n",
    "cust_cmap = mpl.colors.ListedColormap([\n",
    "        'white',\n",
    "        SHORTENING_COLOR, \n",
    "#         'gray',\n",
    "        '#C0C0C0', # light gray\n",
    "        LENGTHENING_COLOR])"
   ]
  },
  {
   "cell_type": "code",
   "execution_count": 67,
   "metadata": {
    "collapsed": false
   },
   "outputs": [
    {
     "data": {
      "image/png": "[encoded data removed]",
      "text/plain": [
       "<matplotlib.figure.Figure at 0x7f3d7d3c39e8>"
      ]
     },
     "metadata": {},
     "output_type": "display_data"
    }
   ],
   "source": [
    "mpl.rc('text.latex', preamble=r'\\usepackage{sfmath}')\n",
    "mpl.rc('text', usetex = True)\n",
    "\n",
    "# http://stackoverflow.com/questions/24190858/matplotlib-move-ticklabels-between-ticks\n",
    "fig = plt.figure(figsize=(11, 6.2))\n",
    "ax = fig.add_subplot(111)\n",
    "ax.xaxis.tick_top()\n",
    "_ = ax.imshow(aca_mat_vals.values, interpolation='none', cmap=cust_cmap, vmin=0, vmax=3)\n",
    "_ = ax.set_xticks(np.arange(aca_mat_vals.shape[1]), minor=False)\n",
    "_ = ax.set_yticks(np.arange(aca_mat_vals.shape[0]), minor=False)\n",
    "# http://stackoverflow.com/questions/14852821/aligning-rotated-xticklabels-with-their-respective-xticks\n",
    "_ = ax.set_xticklabels(aca_mat.loc['label'].values, rotation=45, horizontalalignment='left')\n",
    "_ = ax.set_yticklabels(aca_mat_vals.index.values)\n",
    "\n",
    "# adding edge lines\n",
    "# xlim = ax.get_xlim()\n",
    "# ylim = ax.get_ylim()\n",
    "# for i in np.arange(0.5, aca_mat_vals.shape[1], 1):\n",
    "#     ax.plot([i, i], ylim, '-', lw=0.5, color='black')\n",
    "_ = ax.set_xticks(np.arange(-0.5, aca_mat_vals.shape[1]), minor=True)\n",
    "_ = ax.set_yticks(np.arange(-0.5, aca_mat_vals.shape[0]), minor=True)\n",
    "ax.grid(color='gray', which='minor')\n",
    "# plt.savefig('./figs/trend_summary_tab.jpg', dpi=500, bbox_inches='tight')"
   ]
  },
  {
   "cell_type": "code",
   "execution_count": null,
   "metadata": {
    "collapsed": true
   },
   "outputs": [],
   "source": []
  }
 ],
 "metadata": {
  "anaconda-cloud": {},
  "kernelspec": {
   "display_name": "Python [default]",
   "language": "python",
   "name": "python3"
  },
  "language_info": {
   "codemirror_mode": {
    "name": "ipython",
    "version": 3
   },
   "file_extension": ".py",
   "mimetype": "text/x-python",
   "name": "python",
   "nbconvert_exporter": "python",
   "pygments_lexer": "ipython3",
   "version": "3.5.3"
  }
 },
 "nbformat": 4,
 "nbformat_minor": 1
}
