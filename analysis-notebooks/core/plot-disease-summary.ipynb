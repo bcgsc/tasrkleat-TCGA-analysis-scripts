{
 "cells": [
  {
   "cell_type": "code",
   "execution_count": 1,
   "metadata": {
    "collapsed": false
   },
   "outputs": [],
   "source": [
    "from eda_import import *"
   ]
  },
  {
   "cell_type": "code",
   "execution_count": 2,
   "metadata": {
    "collapsed": false
   },
   "outputs": [],
   "source": [
    "df_manifest = pd.read_csv('./metadata/LATEST_MANIFEST.final.tsv.gz', low_memory=False, sep='\\t', compression='gzip')"
   ]
  },
  {
   "cell_type": "code",
   "execution_count": 3,
   "metadata": {
    "collapsed": true
   },
   "outputs": [],
   "source": [
    "df_expr = pd.read_csv('./results_data/RPKMS.csv.gz', compression='gzip')"
   ]
  },
  {
   "cell_type": "code",
   "execution_count": 4,
   "metadata": {
    "collapsed": false
   },
   "outputs": [],
   "source": [
    "df_count = df_expr\\\n",
    "    .groupby(['disease', 'sstype'])\\\n",
    "    .count()['analysis_id']\\\n",
    "    .reset_index()\\\n",
    "    .rename(columns={'analysis_id': 'count'})\\\n",
    "    .pivot(index='disease', columns='sstype', values='count')\\\n",
    "    .fillna(0)"
   ]
  },
  {
   "cell_type": "code",
   "execution_count": 5,
   "metadata": {
    "collapsed": false
   },
   "outputs": [],
   "source": [
    "ndf = df_count.merge(df_manifest[['disease', 'disease_name']].drop_duplicates(), left_index=True, right_on='disease')\n",
    "ndf['handy_disease_names'] = ndf.apply(lambda x: '{0}, {1}'.format(\n",
    "        x.disease, ' '.join([_.capitalize() for _ in x.disease_name.split()])), axis=1)\n",
    "# ndf.set_index(ndf['handy_disease_names'], inplace=True)\n",
    "ndf.set_index(ndf['disease'], inplace=True)"
   ]
  },
  {
   "cell_type": "code",
   "execution_count": 6,
   "metadata": {
    "collapsed": false
   },
   "outputs": [
    {
     "data": {
      "text/html": [
       "<div>\n",
       "<style>\n",
       "    .dataframe thead tr:only-child th {\n",
       "        text-align: right;\n",
       "    }\n",
       "\n",
       "    .dataframe thead th {\n",
       "        text-align: left;\n",
       "    }\n",
       "\n",
       "    .dataframe tbody tr th {\n",
       "        vertical-align: top;\n",
       "    }\n",
       "</style>\n",
       "<table border=\"1\" class=\"dataframe\">\n",
       "  <thead>\n",
       "    <tr style=\"text-align: right;\">\n",
       "      <th></th>\n",
       "      <th>normal</th>\n",
       "      <th>tumour</th>\n",
       "      <th>disease</th>\n",
       "      <th>disease_name</th>\n",
       "      <th>handy_disease_names</th>\n",
       "      <th>total</th>\n",
       "    </tr>\n",
       "    <tr>\n",
       "      <th>disease</th>\n",
       "      <th></th>\n",
       "      <th></th>\n",
       "      <th></th>\n",
       "      <th></th>\n",
       "      <th></th>\n",
       "      <th></th>\n",
       "    </tr>\n",
       "  </thead>\n",
       "  <tbody>\n",
       "    <tr>\n",
       "      <th>ACC</th>\n",
       "      <td>0.0</td>\n",
       "      <td>79.0</td>\n",
       "      <td>ACC</td>\n",
       "      <td>ADRENOCORTICAL CARCINOMA</td>\n",
       "      <td>ACC, Adrenocortical Carcinoma</td>\n",
       "      <td>79.0</td>\n",
       "    </tr>\n",
       "    <tr>\n",
       "      <th>BLCA</th>\n",
       "      <td>19.0</td>\n",
       "      <td>414.0</td>\n",
       "      <td>BLCA</td>\n",
       "      <td>BLADDER UROTHELIAL CARCINOMA</td>\n",
       "      <td>BLCA, Bladder Urothelial Carcinoma</td>\n",
       "      <td>433.0</td>\n",
       "    </tr>\n",
       "    <tr>\n",
       "      <th>BRCA</th>\n",
       "      <td>114.0</td>\n",
       "      <td>1142.0</td>\n",
       "      <td>BRCA</td>\n",
       "      <td>BREAST INVASIVE CARCINOMA</td>\n",
       "      <td>BRCA, Breast Invasive Carcinoma</td>\n",
       "      <td>1256.0</td>\n",
       "    </tr>\n",
       "  </tbody>\n",
       "</table>\n",
       "</div>"
      ],
      "text/plain": [
       "         normal  tumour disease                  disease_name                 handy_disease_names   total\n",
       "disease                                                                                                  \n",
       "ACC      0.0     79.0    ACC     ADRENOCORTICAL CARCINOMA      ACC, Adrenocortical Carcinoma       79.0  \n",
       "BLCA     19.0    414.0   BLCA    BLADDER UROTHELIAL CARCINOMA  BLCA, Bladder Urothelial Carcinoma  433.0 \n",
       "BRCA     114.0   1142.0  BRCA    BREAST INVASIVE CARCINOMA     BRCA, Breast Invasive Carcinoma     1256.0"
      ]
     },
     "execution_count": 6,
     "metadata": {},
     "output_type": "execute_result"
    }
   ],
   "source": [
    "ndf['total'] = ndf['normal'] + ndf['tumour']\n",
    "ndf.head(3)"
   ]
  },
  {
   "cell_type": "code",
   "execution_count": 7,
   "metadata": {
    "collapsed": true
   },
   "outputs": [],
   "source": [
    "bin_width = 0.5"
   ]
  },
  {
   "cell_type": "code",
   "execution_count": 8,
   "metadata": {
    "collapsed": false
   },
   "outputs": [
    {
     "name": "stdout",
     "output_type": "stream",
     "text": [
      "0.21764705882352942 Sufficient normal\n",
      "0.5823529411764706 Insufficient normal\n",
      "0.8647058823529412 No normal\n"
     ]
    },
    {
     "data": {
      "image/png": "[encoded data removed]",
      "text/plain": [
       "<matplotlib.figure.Figure at 0x7fa2ef8dd940>"
      ]
     },
     "metadata": {},
     "output_type": "display_data"
    }
   ],
   "source": [
    "# fig, (ax1, ax2) = plt.subplots(2, 1, sharex=True)\n",
    "\n",
    "fig = plt.figure(figsize=(7.8, 3.5))\n",
    "nrows = 12\n",
    "ratio = 1 / (1 + 3) # meaning the first subplot is 1/3 height of the second one\n",
    "gs = gridspec.GridSpec(nrows, 1, hspace=1)\n",
    "ax1 = fig.add_subplot(gs[:int(nrows * ratio), :])\n",
    "ax2 = fig.add_subplot(gs[int(nrows * ratio):,:])\n",
    "\n",
    "odf = ndf.rename(columns={'normal': 'Normal', 'tumour': 'Tumor'})\n",
    "# odf.sort_values(['Normal', 'Tumor'], ascending=[False, False])[['Normal', 'Tumor']].plot.bar(\n",
    "#     ax=ax1, stacked=True, zorder=3, color=['blue', 'red'])\n",
    "# odf.sort_values(['Normal', 'Tumor'], ascending=[False, False])[['Normal', 'Tumor']].plot.bar(\n",
    "#     ax=ax2, stacked=True, zorder=3, color=['blue', 'red'])\n",
    "odf.sort_values(['Normal', 'Tumor'], ascending=[False, False])[['Normal', 'Tumor']].plot.bar(\n",
    "    ax=ax1, stacked=True, zorder=3, color=['yellow', 'blue'])\n",
    "odf.sort_values(['Normal', 'Tumor'], ascending=[False, False])[['Normal', 'Tumor']].plot.bar(\n",
    "    ax=ax2, stacked=True, zorder=3, color=['yellow', 'blue'])\n",
    "\n",
    "ylim_max = 670\n",
    "ax2.set_ylim(0, 670)  # most of the data\n",
    "ax1.set_yticks(np.arange(1000, 1400, 100))\n",
    "ax1.set_ylim(1060,1060 +  ylim_max * ratio / (1 - ratio))  # outliers only\n",
    "\n",
    "ax2.legend().set_visible(False)\n",
    "\n",
    "ax1.spines['bottom'].set_visible(False)\n",
    "ax2.spines['top'].set_visible(False)\n",
    "ax1.xaxis.tick_top()\n",
    "ax1.set_xlabel('')\n",
    "ax1.tick_params(labeltop='off')  # don't put tick labels at the top\n",
    "ax2.xaxis.tick_bottom()\n",
    "ax2.set_xlabel('Cancer type')\n",
    "ax2.set_ylabel('# samples')\n",
    "ax1.yaxis.grid(zorder=0)\n",
    "ax2.yaxis.grid(zorder=0)\n",
    "\n",
    "d = .015  # how big to make the diagonal lines in axes coordinates\n",
    "# arguments to pass to plot, just so we don't keep repeating them\n",
    "kwargs = dict(transform=ax1.transAxes, color='k', clip_on=False)\n",
    "\n",
    "def flip(items, ncol):\n",
    "    return itertools.chain(*[items[i::ncol] for i in range(ncol)])\n",
    "\n",
    "handles, labels = ax1.get_legend_handles_labels()\n",
    "ax1.legend(flip(handles, 2), flip(labels, 2), loc='upper right', ncol=2)\n",
    "\n",
    "scaler = 1 / ratio - 1\n",
    "ax1.plot((-d, +d), (-d * scaler, d * scaler), **kwargs)        # top-left diagonal\n",
    "ax1.plot((1 - d, 1 + d), (-d * scaler, d * scaler), **kwargs)  # top-right diagonal\n",
    "\n",
    "kwargs.update(transform=ax2.transAxes)  # switch to the bottom axes\n",
    "ax2.plot((-d, +d), (1 - d, 1 + d), **kwargs)  # bottom-left diagonal\n",
    "ax2.plot((1 - d, 1 + d), (1 - d, 1 + d), **kwargs)  # bottom-right diagonal\n",
    "\n",
    "\n",
    "xlim = ax1.get_xlim()\n",
    "# patch some space to both side\n",
    "nxlim = [xlim[0] - 0.8, xlim[1] + 0.2]\n",
    "nxlim_len = nxlim[1] - nxlim[0]\n",
    "\n",
    "cf_xs = []\n",
    "for cf_dise in ['BLCA', 'SKCM']:\n",
    "    dise_idx = np.where(odf.sort_values('Normal', ascending = False).index.values == cf_dise)[0][0]\n",
    "    cutoff_x = (ax2.patches[dise_idx + 1].get_x() + ax2.patches[dise_idx].get_x() + bin_width) / 2\n",
    "    cf_x = (cutoff_x - nxlim[0]) / nxlim_len\n",
    "    ax1.plot([cf_x, cf_x], [0, 1],    '-', color='black', lw=0.5, transform=ax1.transAxes, clip_on=False)\n",
    "    ax2.plot([cf_x, cf_x], [0, 1.1], '-', color='black', lw=0.5, transform=ax2.transAxes, clip_on=False)  \n",
    "    cf_xs.append(cf_x)\n",
    "\n",
    "txt_cf_xs = np.array([0, *cf_xs, 1])\n",
    "txt_cf_xs = (txt_cf_xs[:-1] + txt_cf_xs[1:]) / 2\n",
    "\n",
    "# draw cutoff lines that cross the space between two subplots\n",
    "for txt_cf_x, text in zip(\n",
    "            txt_cf_xs,\n",
    "            ['Sufficient normal', 'Insufficient normal', 'No normal']): # cf: cutoff\n",
    "    print(txt_cf_x, text)\n",
    "    ax2.text(txt_cf_x, 1, text, ha='center', va='center', transform=ax2.transAxes, clip_on=False)\n",
    "\n",
    "for _ in [ax1, ax2]:\n",
    "    _.set_xlim(nxlim)\n",
    "# plt.savefig('./figs/sample_counts.jpg', dpi=500, bbox_inches='tight')"
   ]
  }
 ],
 "metadata": {
  "anaconda-cloud": {},
  "kernelspec": {
   "display_name": "Python [default]",
   "language": "python",
   "name": "python3"
  },
  "language_info": {
   "codemirror_mode": {
    "name": "ipython",
    "version": 3
   },
   "file_extension": ".py",
   "mimetype": "text/x-python",
   "name": "python",
   "nbconvert_exporter": "python",
   "pygments_lexer": "ipython3",
   "version": "3.5.3"
  }
 },
 "nbformat": 4,
 "nbformat_minor": 1
}
