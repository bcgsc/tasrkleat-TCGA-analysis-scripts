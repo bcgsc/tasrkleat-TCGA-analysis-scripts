{
 "cells": [
  {
   "cell_type": "code",
   "execution_count": 1,
   "metadata": {
    "collapsed": false
   },
   "outputs": [],
   "source": [
    "import sys\n",
    "sys.path.insert(0, '..')\n",
    "from eda_import import *\n",
    "\n",
    "import pysam\n",
    "\n",
    "from utils.parse_gtf_utils import extract_info\n",
    "from utils.calc_clv_sc import gen_sc_clv_per_transcript, get_strand\n",
    "from utils.cluster import cluster_clv_sites"
   ]
  },
  {
   "cell_type": "markdown",
   "metadata": {},
   "source": [
    "# Extracting mapping information from annotation"
   ]
  },
  {
   "cell_type": "code",
   "execution_count": 2,
   "metadata": {
    "collapsed": true
   },
   "outputs": [],
   "source": [
    "input_gtf = '../reference_data/Homo_sapiens.GRCh37.75.gtf'"
   ]
  },
  {
   "cell_type": "code",
   "execution_count": 3,
   "metadata": {
    "collapsed": false
   },
   "outputs": [
    {
     "name": "stdout",
     "output_type": "stream",
     "text": [
      "CPU times: user 14.1 s, sys: 2.62 s, total: 16.7 s\n",
      "Wall time: 16.7 s\n"
     ]
    }
   ],
   "source": [
    "%%time\n",
    "# http://uswest.ensembl.org/info/website/upload/gff.html\n",
    "names = ['seqname', 'source', 'feature', 'start', 'end', 'score', \n",
    "         'strand', 'frame', 'attribute']\n",
    "gtf_df = pd.read_csv(input_gtf, header=None, sep='\\t', comment='#', \n",
    "                     low_memory=False, names=names)"
   ]
  },
  {
   "cell_type": "code",
   "execution_count": 4,
   "metadata": {
    "collapsed": false
   },
   "outputs": [
    {
     "name": "stdout",
     "output_type": "stream",
     "text": [
      "extracting length...\n",
      "extracting transcript id...\n",
      "extracting gene id...\n",
      "extracting gene name...\n",
      "extracting gene source...\n",
      "extracting transcript source...\n",
      "extracting tag cds_end_NF...\n",
      "extracting tag cds_start_NF...\n",
      "CPU times: user 22.7 s, sys: 1.3 s, total: 23.9 s\n",
      "Wall time: 23.9 s\n"
     ]
    }
   ],
   "source": [
    "%time extract_info(gtf_df)"
   ]
  },
  {
   "cell_type": "code",
   "execution_count": 5,
   "metadata": {
    "collapsed": false
   },
   "outputs": [],
   "source": [
    "TARGET_GENES = pd.read_csv('../reference_data/target_genes_with_type.tsv', sep='\\t').Gene.values.tolist()"
   ]
  },
  {
   "cell_type": "code",
   "execution_count": 6,
   "metadata": {
    "collapsed": false
   },
   "outputs": [
    {
     "data": {
      "text/plain": [
       "False    1725446\n",
       "True     275608 \n",
       "Name: is_cds_end_NF, dtype: int64"
      ]
     },
     "execution_count": 6,
     "metadata": {},
     "output_type": "execute_result"
    }
   ],
   "source": [
    "gtf_df.query('source == \"protein_coding\"').is_cds_end_NF.value_counts()"
   ]
  },
  {
   "cell_type": "code",
   "execution_count": 7,
   "metadata": {
    "collapsed": false
   },
   "outputs": [
    {
     "data": {
      "text/plain": [
       "False    293097\n",
       "True     374   \n",
       "Name: is_cds_end_NF, dtype: int64"
      ]
     },
     "execution_count": 7,
     "metadata": {},
     "output_type": "execute_result"
    }
   ],
   "source": [
    "gtf_df.query('source == \"nonsense_mediated_decay\"').is_cds_end_NF.value_counts()"
   ]
  },
  {
   "cell_type": "code",
   "execution_count": 8,
   "metadata": {
    "collapsed": false,
    "scrolled": true
   },
   "outputs": [
    {
     "data": {
      "text/html": [
       "<div>\n",
       "<style>\n",
       "    .dataframe thead tr:only-child th {\n",
       "        text-align: right;\n",
       "    }\n",
       "\n",
       "    .dataframe thead th {\n",
       "        text-align: left;\n",
       "    }\n",
       "\n",
       "    .dataframe tbody tr th {\n",
       "        vertical-align: top;\n",
       "    }\n",
       "</style>\n",
       "<table border=\"1\" class=\"dataframe\">\n",
       "  <thead>\n",
       "    <tr style=\"text-align: right;\">\n",
       "      <th></th>\n",
       "      <th>seqname</th>\n",
       "      <th>source</th>\n",
       "      <th>feature</th>\n",
       "      <th>start</th>\n",
       "      <th>end</th>\n",
       "      <th>score</th>\n",
       "      <th>strand</th>\n",
       "      <th>frame</th>\n",
       "      <th>len</th>\n",
       "      <th>transcript_id</th>\n",
       "      <th>gene_id</th>\n",
       "      <th>gene_name</th>\n",
       "      <th>gene_source</th>\n",
       "      <th>transcript_source</th>\n",
       "      <th>is_cds_end_NF</th>\n",
       "      <th>is_cds_start_NF</th>\n",
       "    </tr>\n",
       "  </thead>\n",
       "  <tbody>\n",
       "    <tr>\n",
       "      <th>638</th>\n",
       "      <td>1</td>\n",
       "      <td>protein_coding</td>\n",
       "      <td>transcript</td>\n",
       "      <td>860260</td>\n",
       "      <td>874671</td>\n",
       "      <td>.</td>\n",
       "      <td>+</td>\n",
       "      <td>.</td>\n",
       "      <td>14412</td>\n",
       "      <td>ENST00000420190</td>\n",
       "      <td>ENSG00000187634</td>\n",
       "      <td>SAMD11</td>\n",
       "      <td>ensembl_havana</td>\n",
       "      <td>havana</td>\n",
       "      <td>True</td>\n",
       "      <td>False</td>\n",
       "    </tr>\n",
       "    <tr>\n",
       "      <th>639</th>\n",
       "      <td>1</td>\n",
       "      <td>protein_coding</td>\n",
       "      <td>exon</td>\n",
       "      <td>860260</td>\n",
       "      <td>860328</td>\n",
       "      <td>.</td>\n",
       "      <td>+</td>\n",
       "      <td>.</td>\n",
       "      <td>69</td>\n",
       "      <td>ENST00000420190</td>\n",
       "      <td>ENSG00000187634</td>\n",
       "      <td>SAMD11</td>\n",
       "      <td>ensembl_havana</td>\n",
       "      <td>havana</td>\n",
       "      <td>True</td>\n",
       "      <td>False</td>\n",
       "    </tr>\n",
       "  </tbody>\n",
       "</table>\n",
       "</div>"
      ],
      "text/plain": [
       "    seqname          source     feature   start     end score strand frame    len    transcript_id          gene_id gene_name     gene_source transcript_source  is_cds_end_NF  is_cds_start_NF\n",
       "638  1       protein_coding  transcript  860260  874671  .     +      .     14412  ENST00000420190  ENSG00000187634  SAMD11    ensembl_havana  havana            True           False          \n",
       "639  1       protein_coding  exon        860260  860328  .     +      .     69     ENST00000420190  ENSG00000187634  SAMD11    ensembl_havana  havana            True           False          "
      ]
     },
     "execution_count": 8,
     "metadata": {},
     "output_type": "execute_result"
    }
   ],
   "source": [
    "# is_cds_end_NF == True means 3' CDS incomplete\n",
    "gtf_df.query('is_cds_end_NF == True').head(2)"
   ]
  },
  {
   "cell_type": "code",
   "execution_count": 9,
   "metadata": {
    "collapsed": false
   },
   "outputs": [],
   "source": [
    "targeted_gtf_df = gtf_df\\\n",
    "    .query('gene_name in {0}'.format(TARGET_GENES))\\\n",
    "    .query('source in {0}'.format(['protein_coding', 'nonsense_mediated_decay']))\\\n",
    "    .query('is_cds_end_NF == False').copy()"
   ]
  },
  {
   "cell_type": "code",
   "execution_count": 10,
   "metadata": {
    "collapsed": false,
    "scrolled": true
   },
   "outputs": [
    {
     "data": {
      "text/plain": [
       "havana            321\n",
       "ensembl_havana    226\n",
       "ensembl           95 \n",
       "Name: transcript_source, dtype: int64"
      ]
     },
     "execution_count": 10,
     "metadata": {},
     "output_type": "execute_result"
    }
   ],
   "source": [
    "targeted_gtf_df.query('feature == \"transcript\"').transcript_source.value_counts()"
   ]
  },
  {
   "cell_type": "markdown",
   "metadata": {},
   "source": [
    "So the majority involves mannual annotation processes, havana"
   ]
  },
  {
   "cell_type": "code",
   "execution_count": 11,
   "metadata": {
    "collapsed": true
   },
   "outputs": [],
   "source": [
    "adf = targeted_gtf_df\\\n",
    "    .query('feature != \"gene\"')\\\n",
    "    .groupby(['gene_name', 'transcript_id', 'seqname'])\\\n",
    "    .apply(gen_sc_clv_per_transcript)"
   ]
  },
  {
   "cell_type": "code",
   "execution_count": 12,
   "metadata": {
    "collapsed": true
   },
   "outputs": [],
   "source": [
    "adf.reset_index(inplace=True)"
   ]
  },
  {
   "cell_type": "code",
   "execution_count": 13,
   "metadata": {
    "collapsed": false
   },
   "outputs": [
    {
     "data": {
      "text/plain": [
       "(114,)"
      ]
     },
     "execution_count": 13,
     "metadata": {},
     "output_type": "execute_result"
    }
   ],
   "source": [
    "adf.gene_name.unique().shape"
   ]
  },
  {
   "cell_type": "code",
   "execution_count": 14,
   "metadata": {
    "collapsed": false
   },
   "outputs": [
    {
     "data": {
      "text/plain": [
       "protein_coding             532\n",
       "nonsense_mediated_decay    110\n",
       "Name: source, dtype: int64"
      ]
     },
     "execution_count": 14,
     "metadata": {},
     "output_type": "execute_result"
    }
   ],
   "source": [
    "adf.source.value_counts()"
   ]
  },
  {
   "cell_type": "code",
   "execution_count": 15,
   "metadata": {
    "collapsed": false
   },
   "outputs": [
    {
     "data": {
      "text/html": [
       "<div>\n",
       "<style>\n",
       "    .dataframe thead tr:only-child th {\n",
       "        text-align: right;\n",
       "    }\n",
       "\n",
       "    .dataframe thead th {\n",
       "        text-align: left;\n",
       "    }\n",
       "\n",
       "    .dataframe tbody tr th {\n",
       "        vertical-align: top;\n",
       "    }\n",
       "</style>\n",
       "<table border=\"1\" class=\"dataframe\">\n",
       "  <thead>\n",
       "    <tr style=\"text-align: right;\">\n",
       "      <th></th>\n",
       "      <th>gene_name</th>\n",
       "      <th>transcript_id</th>\n",
       "      <th>seqname</th>\n",
       "      <th>source</th>\n",
       "      <th>sc</th>\n",
       "      <th>clv</th>\n",
       "      <th>strand</th>\n",
       "      <th>gene_source</th>\n",
       "      <th>transcript_source</th>\n",
       "      <th>is_cds_end_NF</th>\n",
       "      <th>is_cds_start_NF</th>\n",
       "    </tr>\n",
       "  </thead>\n",
       "  <tbody>\n",
       "    <tr>\n",
       "      <th>0</th>\n",
       "      <td>ABL1</td>\n",
       "      <td>ENST00000318560</td>\n",
       "      <td>9</td>\n",
       "      <td>protein_coding</td>\n",
       "      <td>133761070</td>\n",
       "      <td>133763062</td>\n",
       "      <td>+</td>\n",
       "      <td>ensembl_havana</td>\n",
       "      <td>ensembl_havana</td>\n",
       "      <td>False</td>\n",
       "      <td>False</td>\n",
       "    </tr>\n",
       "    <tr>\n",
       "      <th>1</th>\n",
       "      <td>AKT1</td>\n",
       "      <td>ENST00000349310</td>\n",
       "      <td>14</td>\n",
       "      <td>protein_coding</td>\n",
       "      <td>105236678</td>\n",
       "      <td>105235686</td>\n",
       "      <td>-</td>\n",
       "      <td>ensembl_havana</td>\n",
       "      <td>ensembl_havana</td>\n",
       "      <td>False</td>\n",
       "      <td>False</td>\n",
       "    </tr>\n",
       "  </tbody>\n",
       "</table>\n",
       "</div>"
      ],
      "text/plain": [
       "  gene_name    transcript_id seqname          source         sc        clv strand     gene_source transcript_source  is_cds_end_NF  is_cds_start_NF\n",
       "0  ABL1      ENST00000318560  9       protein_coding  133761070  133763062  +      ensembl_havana  ensembl_havana    False          False          \n",
       "1  AKT1      ENST00000349310  14      protein_coding  105236678  105235686  -      ensembl_havana  ensembl_havana    False          False          "
      ]
     },
     "execution_count": 15,
     "metadata": {},
     "output_type": "execute_result"
    }
   ],
   "source": [
    "adf.head(2)"
   ]
  },
  {
   "cell_type": "code",
   "execution_count": 16,
   "metadata": {
    "collapsed": true
   },
   "outputs": [],
   "source": [
    "def calc_utr_beg(row):\n",
    "    \"\"\"calculate the beginning of 3'UTR\"\"\"\n",
    "    if row.strand == '+':\n",
    "        return row.sc + 1\n",
    "    else:\n",
    "        return row.sc - 1\n",
    "\n",
    "adf['utr_beg'] = adf.apply(calc_utr_beg, axis=1)"
   ]
  },
  {
   "cell_type": "code",
   "execution_count": 17,
   "metadata": {
    "collapsed": false
   },
   "outputs": [
    {
     "data": {
      "text/plain": [
       "protein_coding    30\n",
       "Name: source, dtype: int64"
      ]
     },
     "execution_count": 17,
     "metadata": {},
     "output_type": "execute_result"
    }
   ],
   "source": [
    "adf.query('utr_beg == clv').source.value_counts()"
   ]
  },
  {
   "cell_type": "markdown",
   "metadata": {},
   "source": [
    "Output a list of transcripts with zero-length 3' UTR"
   ]
  },
  {
   "cell_type": "code",
   "execution_count": 18,
   "metadata": {
    "collapsed": false
   },
   "outputs": [
    {
     "data": {
      "text/html": [
       "<div>\n",
       "<style>\n",
       "    .dataframe thead tr:only-child th {\n",
       "        text-align: right;\n",
       "    }\n",
       "\n",
       "    .dataframe thead th {\n",
       "        text-align: left;\n",
       "    }\n",
       "\n",
       "    .dataframe tbody tr th {\n",
       "        vertical-align: top;\n",
       "    }\n",
       "</style>\n",
       "<table border=\"1\" class=\"dataframe\">\n",
       "  <thead>\n",
       "    <tr style=\"text-align: right;\">\n",
       "      <th></th>\n",
       "      <th>seqname</th>\n",
       "      <th>gene_name</th>\n",
       "      <th>strand</th>\n",
       "      <th>transcript_id</th>\n",
       "      <th>source</th>\n",
       "      <th>sc</th>\n",
       "      <th>utr_beg</th>\n",
       "      <th>clv</th>\n",
       "      <th>transcript_source</th>\n",
       "    </tr>\n",
       "  </thead>\n",
       "  <tbody>\n",
       "    <tr>\n",
       "      <th>7</th>\n",
       "      <td>14</td>\n",
       "      <td>AKT1</td>\n",
       "      <td>-</td>\n",
       "      <td>ENST00000554848</td>\n",
       "      <td>protein_coding</td>\n",
       "      <td>105236678</td>\n",
       "      <td>105236677</td>\n",
       "      <td>105236677</td>\n",
       "      <td>havana</td>\n",
       "    </tr>\n",
       "    <tr>\n",
       "      <th>23</th>\n",
       "      <td>2</td>\n",
       "      <td>ALK</td>\n",
       "      <td>-</td>\n",
       "      <td>ENST00000431873</td>\n",
       "      <td>protein_coding</td>\n",
       "      <td>29416090</td>\n",
       "      <td>29416089</td>\n",
       "      <td>29416089</td>\n",
       "      <td>ensembl</td>\n",
       "    </tr>\n",
       "    <tr>\n",
       "      <th>27</th>\n",
       "      <td>X</td>\n",
       "      <td>AMER1</td>\n",
       "      <td>-</td>\n",
       "      <td>ENST00000403336</td>\n",
       "      <td>protein_coding</td>\n",
       "      <td>63405997</td>\n",
       "      <td>63405996</td>\n",
       "      <td>63405996</td>\n",
       "      <td>ensembl</td>\n",
       "    </tr>\n",
       "    <tr>\n",
       "      <th>62</th>\n",
       "      <td>17</td>\n",
       "      <td>BRCA1</td>\n",
       "      <td>-</td>\n",
       "      <td>ENST00000491747</td>\n",
       "      <td>protein_coding</td>\n",
       "      <td>41197695</td>\n",
       "      <td>41197694</td>\n",
       "      <td>41197694</td>\n",
       "      <td>havana</td>\n",
       "    </tr>\n",
       "    <tr>\n",
       "      <th>93</th>\n",
       "      <td>9</td>\n",
       "      <td>CDKN2A</td>\n",
       "      <td>-</td>\n",
       "      <td>ENST00000446177</td>\n",
       "      <td>protein_coding</td>\n",
       "      <td>21968724</td>\n",
       "      <td>21968723</td>\n",
       "      <td>21968723</td>\n",
       "      <td>ensembl</td>\n",
       "    </tr>\n",
       "  </tbody>\n",
       "</table>\n",
       "</div>"
      ],
      "text/plain": [
       "   seqname gene_name strand    transcript_id          source         sc    utr_beg        clv transcript_source\n",
       "7   14      AKT1      -      ENST00000554848  protein_coding  105236678  105236677  105236677  havana          \n",
       "23  2       ALK       -      ENST00000431873  protein_coding  29416090   29416089   29416089   ensembl         \n",
       "27  X       AMER1     -      ENST00000403336  protein_coding  63405997   63405996   63405996   ensembl         \n",
       "62  17      BRCA1     -      ENST00000491747  protein_coding  41197695   41197694   41197694   havana          \n",
       "93  9       CDKN2A    -      ENST00000446177  protein_coding  21968724   21968723   21968723   ensembl         "
      ]
     },
     "execution_count": 18,
     "metadata": {},
     "output_type": "execute_result"
    }
   ],
   "source": [
    "_cols = [\n",
    "    'seqname', 'gene_name', 'strand', 'transcript_id', \n",
    "     'source', 'sc', 'utr_beg', 'clv', 'transcript_source'\n",
    "]\n",
    "new_names = ['Chromosome', 'Gene', 'Strand', 'Transcript ID', \n",
    "             'Source',  'Stop codon', \"3' UTR start\", \"3' UTR end/CS\", 'Transcript source']\n",
    "\n",
    "zero_len_df = adf.query('utr_beg == clv').copy()[_cols]\n",
    "# zero_len_df.rename(columns=dict(zip(_cols, new_names))).to_csv(\n",
    "#     './results/zeroLen3Utr.csv', index=False)\n",
    "zero_len_df.head()"
   ]
  },
  {
   "cell_type": "code",
   "execution_count": 19,
   "metadata": {
    "collapsed": false
   },
   "outputs": [],
   "source": [
    "adf['sc'] = adf.sc.astype(int)\n",
    "adf['utr_beg'] = adf.utr_beg.astype(int)\n",
    "adf['clv'] = adf.clv.astype(int)\n",
    "adf.drop_duplicates(inplace=True)"
   ]
  },
  {
   "cell_type": "code",
   "execution_count": 20,
   "metadata": {
    "collapsed": false
   },
   "outputs": [
    {
     "data": {
      "text/html": [
       "<div>\n",
       "<style>\n",
       "    .dataframe thead tr:only-child th {\n",
       "        text-align: right;\n",
       "    }\n",
       "\n",
       "    .dataframe thead th {\n",
       "        text-align: left;\n",
       "    }\n",
       "\n",
       "    .dataframe tbody tr th {\n",
       "        vertical-align: top;\n",
       "    }\n",
       "</style>\n",
       "<table border=\"1\" class=\"dataframe\">\n",
       "  <thead>\n",
       "    <tr style=\"text-align: right;\">\n",
       "      <th></th>\n",
       "      <th>gene_name</th>\n",
       "      <th>transcript_id</th>\n",
       "      <th>seqname</th>\n",
       "      <th>source</th>\n",
       "      <th>sc</th>\n",
       "      <th>clv</th>\n",
       "      <th>strand</th>\n",
       "      <th>gene_source</th>\n",
       "      <th>transcript_source</th>\n",
       "      <th>is_cds_end_NF</th>\n",
       "      <th>is_cds_start_NF</th>\n",
       "      <th>utr_beg</th>\n",
       "    </tr>\n",
       "  </thead>\n",
       "  <tbody>\n",
       "    <tr>\n",
       "      <th>0</th>\n",
       "      <td>ABL1</td>\n",
       "      <td>ENST00000318560</td>\n",
       "      <td>9</td>\n",
       "      <td>protein_coding</td>\n",
       "      <td>133761070</td>\n",
       "      <td>133763062</td>\n",
       "      <td>+</td>\n",
       "      <td>ensembl_havana</td>\n",
       "      <td>ensembl_havana</td>\n",
       "      <td>False</td>\n",
       "      <td>False</td>\n",
       "      <td>133761071</td>\n",
       "    </tr>\n",
       "    <tr>\n",
       "      <th>1</th>\n",
       "      <td>AKT1</td>\n",
       "      <td>ENST00000349310</td>\n",
       "      <td>14</td>\n",
       "      <td>protein_coding</td>\n",
       "      <td>105236678</td>\n",
       "      <td>105235686</td>\n",
       "      <td>-</td>\n",
       "      <td>ensembl_havana</td>\n",
       "      <td>ensembl_havana</td>\n",
       "      <td>False</td>\n",
       "      <td>False</td>\n",
       "      <td>105236677</td>\n",
       "    </tr>\n",
       "    <tr>\n",
       "      <th>2</th>\n",
       "      <td>AKT1</td>\n",
       "      <td>ENST00000402615</td>\n",
       "      <td>14</td>\n",
       "      <td>protein_coding</td>\n",
       "      <td>105236678</td>\n",
       "      <td>105235689</td>\n",
       "      <td>-</td>\n",
       "      <td>ensembl_havana</td>\n",
       "      <td>ensembl_havana</td>\n",
       "      <td>False</td>\n",
       "      <td>False</td>\n",
       "      <td>105236677</td>\n",
       "    </tr>\n",
       "    <tr>\n",
       "      <th>3</th>\n",
       "      <td>AKT1</td>\n",
       "      <td>ENST00000407796</td>\n",
       "      <td>14</td>\n",
       "      <td>protein_coding</td>\n",
       "      <td>105236678</td>\n",
       "      <td>105235686</td>\n",
       "      <td>-</td>\n",
       "      <td>ensembl_havana</td>\n",
       "      <td>ensembl_havana</td>\n",
       "      <td>False</td>\n",
       "      <td>False</td>\n",
       "      <td>105236677</td>\n",
       "    </tr>\n",
       "    <tr>\n",
       "      <th>4</th>\n",
       "      <td>AKT1</td>\n",
       "      <td>ENST00000544168</td>\n",
       "      <td>14</td>\n",
       "      <td>protein_coding</td>\n",
       "      <td>105236678</td>\n",
       "      <td>105236492</td>\n",
       "      <td>-</td>\n",
       "      <td>ensembl_havana</td>\n",
       "      <td>ensembl_havana</td>\n",
       "      <td>False</td>\n",
       "      <td>False</td>\n",
       "      <td>105236677</td>\n",
       "    </tr>\n",
       "  </tbody>\n",
       "</table>\n",
       "</div>"
      ],
      "text/plain": [
       "  gene_name    transcript_id seqname          source         sc        clv strand     gene_source transcript_source  is_cds_end_NF  is_cds_start_NF    utr_beg\n",
       "0  ABL1      ENST00000318560  9       protein_coding  133761070  133763062  +      ensembl_havana  ensembl_havana    False          False            133761071\n",
       "1  AKT1      ENST00000349310  14      protein_coding  105236678  105235686  -      ensembl_havana  ensembl_havana    False          False            105236677\n",
       "2  AKT1      ENST00000402615  14      protein_coding  105236678  105235689  -      ensembl_havana  ensembl_havana    False          False            105236677\n",
       "3  AKT1      ENST00000407796  14      protein_coding  105236678  105235686  -      ensembl_havana  ensembl_havana    False          False            105236677\n",
       "4  AKT1      ENST00000544168  14      protein_coding  105236678  105236492  -      ensembl_havana  ensembl_havana    False          False            105236677"
      ]
     },
     "execution_count": 20,
     "metadata": {},
     "output_type": "execute_result"
    }
   ],
   "source": [
    "adf.head()"
   ]
  },
  {
   "cell_type": "code",
   "execution_count": 21,
   "metadata": {
    "collapsed": false
   },
   "outputs": [
    {
     "data": {
      "text/plain": [
       "(642, 12)"
      ]
     },
     "execution_count": 21,
     "metadata": {},
     "output_type": "execute_result"
    }
   ],
   "source": [
    "adf.shape"
   ]
  },
  {
   "cell_type": "markdown",
   "metadata": {},
   "source": [
    "### Cluster annotated cleavage sites"
   ]
  },
  {
   "cell_type": "code",
   "execution_count": 22,
   "metadata": {
    "collapsed": false
   },
   "outputs": [
    {
     "name": "stdout",
     "output_type": "stream",
     "text": [
      "0 clustering...\n",
      "CPU times: user 637 ms, sys: 10.3 ms, total: 647 ms\n",
      "Wall time: 640 ms\n",
      "1 clustering...\n",
      "CPU times: user 522 ms, sys: 6.35 ms, total: 528 ms\n",
      "Wall time: 525 ms\n"
     ]
    }
   ],
   "source": [
    "_ = adf\n",
    "for i in range(2):\n",
    "    print('{0} clustering...'.format(i))\n",
    "    # cluster twice to final results more stable, see the experiment below\n",
    "    %time _ = _.groupby('gene_name').apply(cluster_clv_sites, 20).reset_index(drop=True)\n",
    "    # If there is only one annotated clv sites for that gene, after groupby & reset_index(),\n",
    "    # the cluster_idx column is NaN and thus testing for convergence would always be False in the next step\n",
    "    _['cluster_idx'] = _.cluster_idx.fillna(-1)\n",
    "# bdf: cc means clustered clv sites \n",
    "bdf = _"
   ]
  },
  {
   "cell_type": "code",
   "execution_count": 23,
   "metadata": {
    "collapsed": false
   },
   "outputs": [
    {
     "data": {
      "text/html": [
       "<div>\n",
       "<style>\n",
       "    .dataframe thead tr:only-child th {\n",
       "        text-align: right;\n",
       "    }\n",
       "\n",
       "    .dataframe thead th {\n",
       "        text-align: left;\n",
       "    }\n",
       "\n",
       "    .dataframe tbody tr th {\n",
       "        vertical-align: top;\n",
       "    }\n",
       "</style>\n",
       "<table border=\"1\" class=\"dataframe\">\n",
       "  <thead>\n",
       "    <tr style=\"text-align: right;\">\n",
       "      <th></th>\n",
       "      <th>gene_name</th>\n",
       "      <th>transcript_id</th>\n",
       "      <th>seqname</th>\n",
       "      <th>source</th>\n",
       "      <th>sc</th>\n",
       "      <th>clv</th>\n",
       "      <th>strand</th>\n",
       "      <th>gene_source</th>\n",
       "      <th>transcript_source</th>\n",
       "      <th>is_cds_end_NF</th>\n",
       "      <th>is_cds_start_NF</th>\n",
       "      <th>utr_beg</th>\n",
       "      <th>cluster_idx</th>\n",
       "      <th>mclv</th>\n",
       "    </tr>\n",
       "  </thead>\n",
       "  <tbody>\n",
       "    <tr>\n",
       "      <th>0</th>\n",
       "      <td>True</td>\n",
       "      <td>True</td>\n",
       "      <td>True</td>\n",
       "      <td>True</td>\n",
       "      <td>True</td>\n",
       "      <td>True</td>\n",
       "      <td>True</td>\n",
       "      <td>True</td>\n",
       "      <td>True</td>\n",
       "      <td>True</td>\n",
       "      <td>True</td>\n",
       "      <td>True</td>\n",
       "      <td>True</td>\n",
       "      <td>True</td>\n",
       "    </tr>\n",
       "  </tbody>\n",
       "</table>\n",
       "</div>"
      ],
      "text/plain": [
       "   gene_name  transcript_id  seqname  source    sc   clv  strand  gene_source  transcript_source  is_cds_end_NF  is_cds_start_NF  utr_beg  cluster_idx  mclv\n",
       "0  True       True           True     True    True  True  True    True         True               True           True             True     True         True"
      ]
     },
     "execution_count": 23,
     "metadata": {},
     "output_type": "execute_result"
    }
   ],
   "source": [
    "# Make sure it's stable now, (fillna(-1) for cluster_idx)\n",
    "(bdf.groupby('gene_name').apply(cluster_clv_sites, 20).reset_index(drop=True).fillna(-1) == bdf).all().to_frame().T"
   ]
  },
  {
   "cell_type": "code",
   "execution_count": 24,
   "metadata": {
    "collapsed": false
   },
   "outputs": [
    {
     "data": {
      "text/plain": [
       "(642, 14)"
      ]
     },
     "execution_count": 24,
     "metadata": {},
     "output_type": "execute_result"
    }
   ],
   "source": [
    "bdf.shape"
   ]
  },
  {
   "cell_type": "code",
   "execution_count": 25,
   "metadata": {
    "collapsed": false
   },
   "outputs": [
    {
     "data": {
      "text/html": [
       "<div>\n",
       "<style>\n",
       "    .dataframe thead tr:only-child th {\n",
       "        text-align: right;\n",
       "    }\n",
       "\n",
       "    .dataframe thead th {\n",
       "        text-align: left;\n",
       "    }\n",
       "\n",
       "    .dataframe tbody tr th {\n",
       "        vertical-align: top;\n",
       "    }\n",
       "</style>\n",
       "<table border=\"1\" class=\"dataframe\">\n",
       "  <thead>\n",
       "    <tr style=\"text-align: right;\">\n",
       "      <th></th>\n",
       "      <th>gene_name</th>\n",
       "      <th>transcript_id</th>\n",
       "      <th>seqname</th>\n",
       "      <th>source</th>\n",
       "      <th>sc</th>\n",
       "      <th>clv</th>\n",
       "      <th>strand</th>\n",
       "      <th>gene_source</th>\n",
       "      <th>transcript_source</th>\n",
       "      <th>is_cds_end_NF</th>\n",
       "      <th>is_cds_start_NF</th>\n",
       "      <th>utr_beg</th>\n",
       "      <th>cluster_idx</th>\n",
       "      <th>mclv</th>\n",
       "    </tr>\n",
       "  </thead>\n",
       "  <tbody>\n",
       "    <tr>\n",
       "      <th>0</th>\n",
       "      <td>ABL1</td>\n",
       "      <td>ENST00000318560</td>\n",
       "      <td>9</td>\n",
       "      <td>protein_coding</td>\n",
       "      <td>133761070</td>\n",
       "      <td>133763062</td>\n",
       "      <td>+</td>\n",
       "      <td>ensembl_havana</td>\n",
       "      <td>ensembl_havana</td>\n",
       "      <td>False</td>\n",
       "      <td>False</td>\n",
       "      <td>133761071</td>\n",
       "      <td>1</td>\n",
       "      <td>133763062</td>\n",
       "    </tr>\n",
       "    <tr>\n",
       "      <th>1</th>\n",
       "      <td>AKT1</td>\n",
       "      <td>ENST00000349310</td>\n",
       "      <td>14</td>\n",
       "      <td>protein_coding</td>\n",
       "      <td>105236678</td>\n",
       "      <td>105235686</td>\n",
       "      <td>-</td>\n",
       "      <td>ensembl_havana</td>\n",
       "      <td>ensembl_havana</td>\n",
       "      <td>False</td>\n",
       "      <td>False</td>\n",
       "      <td>105236677</td>\n",
       "      <td>1</td>\n",
       "      <td>105235686</td>\n",
       "    </tr>\n",
       "  </tbody>\n",
       "</table>\n",
       "</div>"
      ],
      "text/plain": [
       "  gene_name    transcript_id seqname          source         sc        clv strand     gene_source transcript_source  is_cds_end_NF  is_cds_start_NF    utr_beg  cluster_idx       mclv\n",
       "0  ABL1      ENST00000318560  9       protein_coding  133761070  133763062  +      ensembl_havana  ensembl_havana    False          False            133761071  1            133763062\n",
       "1  AKT1      ENST00000349310  14      protein_coding  105236678  105235686  -      ensembl_havana  ensembl_havana    False          False            105236677  1            105235686"
      ]
     },
     "execution_count": 25,
     "metadata": {},
     "output_type": "execute_result"
    }
   ],
   "source": [
    "bdf.head(2)"
   ]
  },
  {
   "cell_type": "markdown",
   "metadata": {},
   "source": [
    "Sanity check"
   ]
  },
  {
   "cell_type": "code",
   "execution_count": 26,
   "metadata": {
    "collapsed": true
   },
   "outputs": [],
   "source": [
    "def check_strand_with_coords(grp):\n",
    "    \"\"\"Check indeed cleavage sites are all downstream of stop codon\"\"\"\n",
    "    strand = get_strand(grp)\n",
    "    if strand == '+':\n",
    "        return (grp.clv >= grp.sc).all()\n",
    "    elif strand == '-':\n",
    "        return (grp.clv <= grp.sc).all()\n",
    "    else:\n",
    "        raise"
   ]
  },
  {
   "cell_type": "code",
   "execution_count": 27,
   "metadata": {
    "collapsed": false
   },
   "outputs": [
    {
     "data": {
      "text/plain": [
       "True"
      ]
     },
     "execution_count": 27,
     "metadata": {},
     "output_type": "execute_result"
    }
   ],
   "source": [
    "bdf.groupby('gene_name').apply(check_strand_with_coords).all()"
   ]
  },
  {
   "cell_type": "code",
   "execution_count": null,
   "metadata": {
    "collapsed": true
   },
   "outputs": [],
   "source": []
  },
  {
   "cell_type": "code",
   "execution_count": 37,
   "metadata": {
    "collapsed": true
   },
   "outputs": [],
   "source": [
    "cdf = bdf.query(\"seqname not in ['HG122_PATCH', 'HG1257_PATCH']\").copy()"
   ]
  },
  {
   "cell_type": "code",
   "execution_count": 38,
   "metadata": {
    "collapsed": false
   },
   "outputs": [
    {
     "data": {
      "text/plain": [
       "array([21968228, 21971002, 21974476, 21968724, 21969731, 21970890, 21968208])"
      ]
     },
     "execution_count": 38,
     "metadata": {},
     "output_type": "execute_result"
    }
   ],
   "source": [
    "cdf.query('gene_name == \"CDKN2A\"').sc.unique()"
   ]
  },
  {
   "cell_type": "code",
   "execution_count": 39,
   "metadata": {
    "collapsed": false
   },
   "outputs": [
    {
     "data": {
      "text/plain": [
       "(632, 14)"
      ]
     },
     "execution_count": 39,
     "metadata": {},
     "output_type": "execute_result"
    }
   ],
   "source": [
    "cdf.shape"
   ]
  },
  {
   "cell_type": "code",
   "execution_count": 40,
   "metadata": {
    "collapsed": false
   },
   "outputs": [
    {
     "data": {
      "text/html": [
       "<div>\n",
       "<style>\n",
       "    .dataframe thead tr:only-child th {\n",
       "        text-align: right;\n",
       "    }\n",
       "\n",
       "    .dataframe thead th {\n",
       "        text-align: left;\n",
       "    }\n",
       "\n",
       "    .dataframe tbody tr th {\n",
       "        vertical-align: top;\n",
       "    }\n",
       "</style>\n",
       "<table border=\"1\" class=\"dataframe\">\n",
       "  <thead>\n",
       "    <tr style=\"text-align: right;\">\n",
       "      <th></th>\n",
       "      <th>gene_name</th>\n",
       "      <th>transcript_id</th>\n",
       "      <th>seqname</th>\n",
       "      <th>source</th>\n",
       "      <th>sc</th>\n",
       "      <th>clv</th>\n",
       "      <th>strand</th>\n",
       "      <th>gene_source</th>\n",
       "      <th>transcript_source</th>\n",
       "      <th>is_cds_end_NF</th>\n",
       "      <th>is_cds_start_NF</th>\n",
       "      <th>utr_beg</th>\n",
       "      <th>cluster_idx</th>\n",
       "      <th>mclv</th>\n",
       "    </tr>\n",
       "  </thead>\n",
       "  <tbody>\n",
       "    <tr>\n",
       "      <th>0</th>\n",
       "      <td>ABL1</td>\n",
       "      <td>ENST00000318560</td>\n",
       "      <td>9</td>\n",
       "      <td>protein_coding</td>\n",
       "      <td>133761070</td>\n",
       "      <td>133763062</td>\n",
       "      <td>+</td>\n",
       "      <td>ensembl_havana</td>\n",
       "      <td>ensembl_havana</td>\n",
       "      <td>False</td>\n",
       "      <td>False</td>\n",
       "      <td>133761071</td>\n",
       "      <td>1</td>\n",
       "      <td>133763062</td>\n",
       "    </tr>\n",
       "    <tr>\n",
       "      <th>1</th>\n",
       "      <td>AKT1</td>\n",
       "      <td>ENST00000349310</td>\n",
       "      <td>14</td>\n",
       "      <td>protein_coding</td>\n",
       "      <td>105236678</td>\n",
       "      <td>105235686</td>\n",
       "      <td>-</td>\n",
       "      <td>ensembl_havana</td>\n",
       "      <td>ensembl_havana</td>\n",
       "      <td>False</td>\n",
       "      <td>False</td>\n",
       "      <td>105236677</td>\n",
       "      <td>1</td>\n",
       "      <td>105235686</td>\n",
       "    </tr>\n",
       "  </tbody>\n",
       "</table>\n",
       "</div>"
      ],
      "text/plain": [
       "  gene_name    transcript_id seqname          source         sc        clv strand     gene_source transcript_source  is_cds_end_NF  is_cds_start_NF    utr_beg  cluster_idx       mclv\n",
       "0  ABL1      ENST00000318560  9       protein_coding  133761070  133763062  +      ensembl_havana  ensembl_havana    False          False            133761071  1            133763062\n",
       "1  AKT1      ENST00000349310  14      protein_coding  105236678  105235686  -      ensembl_havana  ensembl_havana    False          False            105236677  1            105235686"
      ]
     },
     "execution_count": 40,
     "metadata": {},
     "output_type": "execute_result"
    }
   ],
   "source": [
    "cdf.head(2)"
   ]
  },
  {
   "cell_type": "code",
   "execution_count": null,
   "metadata": {
    "collapsed": true
   },
   "outputs": [],
   "source": []
  },
  {
   "cell_type": "markdown",
   "metadata": {},
   "source": [
    "# Search hexamers for annotated cleavage sites"
   ]
  },
  {
   "cell_type": "code",
   "execution_count": 41,
   "metadata": {
    "collapsed": false
   },
   "outputs": [],
   "source": [
    "from hexamer_search import search_hexamer\n",
    "\n",
    "def search_hexamer_wrapper(refseq, chrm, clv, strand, window=50):\n",
    "    chrm = chrm.replace('chr', '')\n",
    "    res = search_hexamer.search(refseq, chrm, clv, strand, window)\n",
    "    if res is None:\n",
    "        res = ['NA', -1, -1]\n",
    "    return pd.Series(res, index=['hexamer', 'hexamer_id', 'hexamer_loc0'])"
   ]
  },
  {
   "cell_type": "code",
   "execution_count": 42,
   "metadata": {
    "collapsed": false
   },
   "outputs": [],
   "source": [
    "# as pysam is 0-based\n",
    "cdf['mclv0'] = cdf['mclv'] - 1"
   ]
  },
  {
   "cell_type": "code",
   "execution_count": 43,
   "metadata": {
    "collapsed": false
   },
   "outputs": [],
   "source": [
    "REF_FA = '../reference_data/Homo_sapiens.GRCh37.75.dna_sm.primary_assembly.fa'\n",
    "refseq = pysam.FastaFile(REF_FA)"
   ]
  },
  {
   "cell_type": "code",
   "execution_count": 45,
   "metadata": {
    "collapsed": false
   },
   "outputs": [
    {
     "name": "stdout",
     "output_type": "stream",
     "text": [
      "CPU times: user 289 ms, sys: 7.79 ms, total: 297 ms\n",
      "Wall time: 293 ms\n"
     ]
    }
   ],
   "source": [
    "%%time\n",
    "hexm_df = cdf.apply(\n",
    "    lambda row: search_hexamer_wrapper(refseq, row.seqname, row.mclv0, row.strand), \n",
    "    axis=1)"
   ]
  },
  {
   "cell_type": "code",
   "execution_count": 46,
   "metadata": {
    "collapsed": false
   },
   "outputs": [],
   "source": [
    "cdf = pd.concat([cdf, hexm_df], axis=1)\n",
    "cdf['hexamer_loc'] = cdf['hexamer_loc0'].apply(lambda v: v + 1 if v != -1 else v)"
   ]
  },
  {
   "cell_type": "code",
   "execution_count": 47,
   "metadata": {
    "collapsed": true
   },
   "outputs": [],
   "source": [
    "def calc_aclv2ahex_dist(row):\n",
    "    \"\"\"calculate distance between annotated clv to annotated hexamer\"\"\"\n",
    "    mclv, hex_loc = row.mclv, row.hexamer_loc\n",
    "    if hex_loc != -1:\n",
    "        return mclv - hex_loc\n",
    "    else:\n",
    "        return np.nan"
   ]
  },
  {
   "cell_type": "code",
   "execution_count": 49,
   "metadata": {
    "collapsed": false
   },
   "outputs": [],
   "source": [
    "cdf['sdist_aclv2ahex'] = cdf.apply(calc_aclv2ahex_dist, axis=1)"
   ]
  },
  {
   "cell_type": "code",
   "execution_count": 50,
   "metadata": {
    "collapsed": false
   },
   "outputs": [
    {
     "data": {
      "text/html": [
       "<div>\n",
       "<style>\n",
       "    .dataframe thead tr:only-child th {\n",
       "        text-align: right;\n",
       "    }\n",
       "\n",
       "    .dataframe thead th {\n",
       "        text-align: left;\n",
       "    }\n",
       "\n",
       "    .dataframe tbody tr th {\n",
       "        vertical-align: top;\n",
       "    }\n",
       "</style>\n",
       "<table border=\"1\" class=\"dataframe\">\n",
       "  <thead>\n",
       "    <tr style=\"text-align: right;\">\n",
       "      <th></th>\n",
       "      <th>gene_name</th>\n",
       "      <th>transcript_id</th>\n",
       "      <th>seqname</th>\n",
       "      <th>source</th>\n",
       "      <th>sc</th>\n",
       "      <th>clv</th>\n",
       "      <th>strand</th>\n",
       "      <th>gene_source</th>\n",
       "      <th>transcript_source</th>\n",
       "      <th>is_cds_end_NF</th>\n",
       "      <th>is_cds_start_NF</th>\n",
       "      <th>utr_beg</th>\n",
       "      <th>cluster_idx</th>\n",
       "      <th>mclv</th>\n",
       "      <th>mclv0</th>\n",
       "      <th>hexamer</th>\n",
       "      <th>hexamer_id</th>\n",
       "      <th>hexamer_loc0</th>\n",
       "      <th>hexamer_loc</th>\n",
       "      <th>sdist_aclv2ahex</th>\n",
       "    </tr>\n",
       "  </thead>\n",
       "  <tbody>\n",
       "    <tr>\n",
       "      <th>0</th>\n",
       "      <td>ABL1</td>\n",
       "      <td>ENST00000318560</td>\n",
       "      <td>9</td>\n",
       "      <td>protein_coding</td>\n",
       "      <td>133761070</td>\n",
       "      <td>133763062</td>\n",
       "      <td>+</td>\n",
       "      <td>ensembl_havana</td>\n",
       "      <td>ensembl_havana</td>\n",
       "      <td>False</td>\n",
       "      <td>False</td>\n",
       "      <td>133761071</td>\n",
       "      <td>1</td>\n",
       "      <td>133763062</td>\n",
       "      <td>133763061</td>\n",
       "      <td>AATAAA</td>\n",
       "      <td>1</td>\n",
       "      <td>133763038</td>\n",
       "      <td>133763039</td>\n",
       "      <td>23.0</td>\n",
       "    </tr>\n",
       "    <tr>\n",
       "      <th>1</th>\n",
       "      <td>AKT1</td>\n",
       "      <td>ENST00000349310</td>\n",
       "      <td>14</td>\n",
       "      <td>protein_coding</td>\n",
       "      <td>105236678</td>\n",
       "      <td>105235686</td>\n",
       "      <td>-</td>\n",
       "      <td>ensembl_havana</td>\n",
       "      <td>ensembl_havana</td>\n",
       "      <td>False</td>\n",
       "      <td>False</td>\n",
       "      <td>105236677</td>\n",
       "      <td>1</td>\n",
       "      <td>105235686</td>\n",
       "      <td>105235685</td>\n",
       "      <td>AATAAA</td>\n",
       "      <td>1</td>\n",
       "      <td>105235704</td>\n",
       "      <td>105235705</td>\n",
       "      <td>-19.0</td>\n",
       "    </tr>\n",
       "    <tr>\n",
       "      <th>2</th>\n",
       "      <td>AKT1</td>\n",
       "      <td>ENST00000402615</td>\n",
       "      <td>14</td>\n",
       "      <td>protein_coding</td>\n",
       "      <td>105236678</td>\n",
       "      <td>105235689</td>\n",
       "      <td>-</td>\n",
       "      <td>ensembl_havana</td>\n",
       "      <td>ensembl_havana</td>\n",
       "      <td>False</td>\n",
       "      <td>False</td>\n",
       "      <td>105236677</td>\n",
       "      <td>1</td>\n",
       "      <td>105235686</td>\n",
       "      <td>105235685</td>\n",
       "      <td>AATAAA</td>\n",
       "      <td>1</td>\n",
       "      <td>105235704</td>\n",
       "      <td>105235705</td>\n",
       "      <td>-19.0</td>\n",
       "    </tr>\n",
       "    <tr>\n",
       "      <th>3</th>\n",
       "      <td>AKT1</td>\n",
       "      <td>ENST00000407796</td>\n",
       "      <td>14</td>\n",
       "      <td>protein_coding</td>\n",
       "      <td>105236678</td>\n",
       "      <td>105235686</td>\n",
       "      <td>-</td>\n",
       "      <td>ensembl_havana</td>\n",
       "      <td>ensembl_havana</td>\n",
       "      <td>False</td>\n",
       "      <td>False</td>\n",
       "      <td>105236677</td>\n",
       "      <td>1</td>\n",
       "      <td>105235686</td>\n",
       "      <td>105235685</td>\n",
       "      <td>AATAAA</td>\n",
       "      <td>1</td>\n",
       "      <td>105235704</td>\n",
       "      <td>105235705</td>\n",
       "      <td>-19.0</td>\n",
       "    </tr>\n",
       "    <tr>\n",
       "      <th>4</th>\n",
       "      <td>AKT1</td>\n",
       "      <td>ENST00000544168</td>\n",
       "      <td>14</td>\n",
       "      <td>protein_coding</td>\n",
       "      <td>105236678</td>\n",
       "      <td>105236492</td>\n",
       "      <td>-</td>\n",
       "      <td>ensembl_havana</td>\n",
       "      <td>ensembl_havana</td>\n",
       "      <td>False</td>\n",
       "      <td>False</td>\n",
       "      <td>105236677</td>\n",
       "      <td>4</td>\n",
       "      <td>105236492</td>\n",
       "      <td>105236491</td>\n",
       "      <td>NA</td>\n",
       "      <td>-1</td>\n",
       "      <td>-1</td>\n",
       "      <td>-1</td>\n",
       "      <td>NaN</td>\n",
       "    </tr>\n",
       "  </tbody>\n",
       "</table>\n",
       "</div>"
      ],
      "text/plain": [
       "  gene_name    transcript_id seqname          source         sc        clv strand     gene_source transcript_source  is_cds_end_NF  is_cds_start_NF    utr_beg  cluster_idx       mclv      mclv0 hexamer  hexamer_id  hexamer_loc0  hexamer_loc  sdist_aclv2ahex\n",
       "0  ABL1      ENST00000318560  9       protein_coding  133761070  133763062  +      ensembl_havana  ensembl_havana    False          False            133761071  1            133763062  133763061  AATAAA  1           133763038     133763039    23.0           \n",
       "1  AKT1      ENST00000349310  14      protein_coding  105236678  105235686  -      ensembl_havana  ensembl_havana    False          False            105236677  1            105235686  105235685  AATAAA  1           105235704     105235705   -19.0           \n",
       "2  AKT1      ENST00000402615  14      protein_coding  105236678  105235689  -      ensembl_havana  ensembl_havana    False          False            105236677  1            105235686  105235685  AATAAA  1           105235704     105235705   -19.0           \n",
       "3  AKT1      ENST00000407796  14      protein_coding  105236678  105235686  -      ensembl_havana  ensembl_havana    False          False            105236677  1            105235686  105235685  AATAAA  1           105235704     105235705   -19.0           \n",
       "4  AKT1      ENST00000544168  14      protein_coding  105236678  105236492  -      ensembl_havana  ensembl_havana    False          False            105236677  4            105236492  105236491  NA     -1          -1            -1           NaN             "
      ]
     },
     "execution_count": 50,
     "metadata": {},
     "output_type": "execute_result"
    }
   ],
   "source": [
    "cdf.head()"
   ]
  },
  {
   "cell_type": "code",
   "execution_count": 53,
   "metadata": {
    "collapsed": false
   },
   "outputs": [
    {
     "data": {
      "text/plain": [
       "NA        170\n",
       "AATAAA    128\n",
       "ATTAAA    26 \n",
       "AATATA    8  \n",
       "TTTAAA    8  \n",
       "AAAAAG    7  \n",
       "AATGAA    7  \n",
       "AGTAAA    7  \n",
       "AAGAAA    7  \n",
       "TATAAA    6  \n",
       "CATAAA    5  \n",
       "AATACA    5  \n",
       "AAAACA    5  \n",
       "GGGGCT    2  \n",
       "GATAAA    2  \n",
       "AATAGA    1  \n",
       "ACTAAA    1  \n",
       "Name: hexamer, dtype: int64"
      ]
     },
     "execution_count": 53,
     "metadata": {},
     "output_type": "execute_result"
    }
   ],
   "source": [
    "cdf[['seqname', 'gene_name', 'mclv', 'hexamer']].fillna('NA').drop_duplicates().hexamer.value_counts()"
   ]
  },
  {
   "cell_type": "code",
   "execution_count": 55,
   "metadata": {
    "collapsed": false
   },
   "outputs": [
    {
     "data": {
      "text/plain": [
       "<matplotlib.axes._subplots.AxesSubplot at 0x7f9ba5120550>"
      ]
     },
     "execution_count": 55,
     "metadata": {},
     "output_type": "execute_result"
    },
    {
     "data": {
      "image/png": "[encoded data removed]",
      "text/plain": [
       "<matplotlib.figure.Figure at 0x7f9ba5120748>"
      ]
     },
     "metadata": {},
     "output_type": "display_data"
    }
   ],
   "source": [
    "cdf.sdist_aclv2ahex.plot.hist(bins=30)"
   ]
  },
  {
   "cell_type": "code",
   "execution_count": 56,
   "metadata": {
    "collapsed": false
   },
   "outputs": [
    {
     "data": {
      "text/html": [
       "<div>\n",
       "<style>\n",
       "    .dataframe thead tr:only-child th {\n",
       "        text-align: right;\n",
       "    }\n",
       "\n",
       "    .dataframe thead th {\n",
       "        text-align: left;\n",
       "    }\n",
       "\n",
       "    .dataframe tbody tr th {\n",
       "        vertical-align: top;\n",
       "    }\n",
       "</style>\n",
       "<table border=\"1\" class=\"dataframe\">\n",
       "  <thead>\n",
       "    <tr style=\"text-align: right;\">\n",
       "      <th></th>\n",
       "      <th>gene_name</th>\n",
       "      <th>transcript_id</th>\n",
       "      <th>seqname</th>\n",
       "      <th>source</th>\n",
       "      <th>sc</th>\n",
       "      <th>clv</th>\n",
       "      <th>strand</th>\n",
       "      <th>gene_source</th>\n",
       "      <th>transcript_source</th>\n",
       "      <th>is_cds_end_NF</th>\n",
       "      <th>is_cds_start_NF</th>\n",
       "      <th>utr_beg</th>\n",
       "      <th>cluster_idx</th>\n",
       "      <th>mclv</th>\n",
       "      <th>mclv0</th>\n",
       "      <th>hexamer</th>\n",
       "      <th>hexamer_id</th>\n",
       "      <th>hexamer_loc0</th>\n",
       "      <th>hexamer_loc</th>\n",
       "      <th>sdist_aclv2ahex</th>\n",
       "    </tr>\n",
       "  </thead>\n",
       "  <tbody>\n",
       "    <tr>\n",
       "      <th>0</th>\n",
       "      <td>ABL1</td>\n",
       "      <td>ENST00000318560</td>\n",
       "      <td>9</td>\n",
       "      <td>protein_coding</td>\n",
       "      <td>133761070</td>\n",
       "      <td>133763062</td>\n",
       "      <td>+</td>\n",
       "      <td>ensembl_havana</td>\n",
       "      <td>ensembl_havana</td>\n",
       "      <td>False</td>\n",
       "      <td>False</td>\n",
       "      <td>133761071</td>\n",
       "      <td>1</td>\n",
       "      <td>133763062</td>\n",
       "      <td>133763061</td>\n",
       "      <td>AATAAA</td>\n",
       "      <td>1</td>\n",
       "      <td>133763038</td>\n",
       "      <td>133763039</td>\n",
       "      <td>23.0</td>\n",
       "    </tr>\n",
       "    <tr>\n",
       "      <th>1</th>\n",
       "      <td>AKT1</td>\n",
       "      <td>ENST00000349310</td>\n",
       "      <td>14</td>\n",
       "      <td>protein_coding</td>\n",
       "      <td>105236678</td>\n",
       "      <td>105235686</td>\n",
       "      <td>-</td>\n",
       "      <td>ensembl_havana</td>\n",
       "      <td>ensembl_havana</td>\n",
       "      <td>False</td>\n",
       "      <td>False</td>\n",
       "      <td>105236677</td>\n",
       "      <td>1</td>\n",
       "      <td>105235686</td>\n",
       "      <td>105235685</td>\n",
       "      <td>AATAAA</td>\n",
       "      <td>1</td>\n",
       "      <td>105235704</td>\n",
       "      <td>105235705</td>\n",
       "      <td>-19.0</td>\n",
       "    </tr>\n",
       "    <tr>\n",
       "      <th>2</th>\n",
       "      <td>AKT1</td>\n",
       "      <td>ENST00000402615</td>\n",
       "      <td>14</td>\n",
       "      <td>protein_coding</td>\n",
       "      <td>105236678</td>\n",
       "      <td>105235689</td>\n",
       "      <td>-</td>\n",
       "      <td>ensembl_havana</td>\n",
       "      <td>ensembl_havana</td>\n",
       "      <td>False</td>\n",
       "      <td>False</td>\n",
       "      <td>105236677</td>\n",
       "      <td>1</td>\n",
       "      <td>105235686</td>\n",
       "      <td>105235685</td>\n",
       "      <td>AATAAA</td>\n",
       "      <td>1</td>\n",
       "      <td>105235704</td>\n",
       "      <td>105235705</td>\n",
       "      <td>-19.0</td>\n",
       "    </tr>\n",
       "    <tr>\n",
       "      <th>3</th>\n",
       "      <td>AKT1</td>\n",
       "      <td>ENST00000407796</td>\n",
       "      <td>14</td>\n",
       "      <td>protein_coding</td>\n",
       "      <td>105236678</td>\n",
       "      <td>105235686</td>\n",
       "      <td>-</td>\n",
       "      <td>ensembl_havana</td>\n",
       "      <td>ensembl_havana</td>\n",
       "      <td>False</td>\n",
       "      <td>False</td>\n",
       "      <td>105236677</td>\n",
       "      <td>1</td>\n",
       "      <td>105235686</td>\n",
       "      <td>105235685</td>\n",
       "      <td>AATAAA</td>\n",
       "      <td>1</td>\n",
       "      <td>105235704</td>\n",
       "      <td>105235705</td>\n",
       "      <td>-19.0</td>\n",
       "    </tr>\n",
       "    <tr>\n",
       "      <th>4</th>\n",
       "      <td>AKT1</td>\n",
       "      <td>ENST00000544168</td>\n",
       "      <td>14</td>\n",
       "      <td>protein_coding</td>\n",
       "      <td>105236678</td>\n",
       "      <td>105236492</td>\n",
       "      <td>-</td>\n",
       "      <td>ensembl_havana</td>\n",
       "      <td>ensembl_havana</td>\n",
       "      <td>False</td>\n",
       "      <td>False</td>\n",
       "      <td>105236677</td>\n",
       "      <td>4</td>\n",
       "      <td>105236492</td>\n",
       "      <td>105236491</td>\n",
       "      <td>NA</td>\n",
       "      <td>-1</td>\n",
       "      <td>-1</td>\n",
       "      <td>-1</td>\n",
       "      <td>NaN</td>\n",
       "    </tr>\n",
       "  </tbody>\n",
       "</table>\n",
       "</div>"
      ],
      "text/plain": [
       "  gene_name    transcript_id seqname          source         sc        clv strand     gene_source transcript_source  is_cds_end_NF  is_cds_start_NF    utr_beg  cluster_idx       mclv      mclv0 hexamer  hexamer_id  hexamer_loc0  hexamer_loc  sdist_aclv2ahex\n",
       "0  ABL1      ENST00000318560  9       protein_coding  133761070  133763062  +      ensembl_havana  ensembl_havana    False          False            133761071  1            133763062  133763061  AATAAA  1           133763038     133763039    23.0           \n",
       "1  AKT1      ENST00000349310  14      protein_coding  105236678  105235686  -      ensembl_havana  ensembl_havana    False          False            105236677  1            105235686  105235685  AATAAA  1           105235704     105235705   -19.0           \n",
       "2  AKT1      ENST00000402615  14      protein_coding  105236678  105235689  -      ensembl_havana  ensembl_havana    False          False            105236677  1            105235686  105235685  AATAAA  1           105235704     105235705   -19.0           \n",
       "3  AKT1      ENST00000407796  14      protein_coding  105236678  105235686  -      ensembl_havana  ensembl_havana    False          False            105236677  1            105235686  105235685  AATAAA  1           105235704     105235705   -19.0           \n",
       "4  AKT1      ENST00000544168  14      protein_coding  105236678  105236492  -      ensembl_havana  ensembl_havana    False          False            105236677  4            105236492  105236491  NA     -1          -1            -1           NaN             "
      ]
     },
     "execution_count": 56,
     "metadata": {},
     "output_type": "execute_result"
    }
   ],
   "source": [
    "cdf.head()"
   ]
  },
  {
   "cell_type": "code",
   "execution_count": 57,
   "metadata": {
    "collapsed": false
   },
   "outputs": [],
   "source": [
    "cdf.rename(columns={'mclv': 'aclv'}).to_csv('../__results/annotated-clv-sc-mapping.csv', index=False)"
   ]
  }
 ],
 "metadata": {
  "anaconda-cloud": {},
  "kernelspec": {
   "display_name": "Python [default]",
   "language": "python",
   "name": "python3"
  },
  "language_info": {
   "codemirror_mode": {
    "name": "ipython",
    "version": 3
   },
   "file_extension": ".py",
   "mimetype": "text/x-python",
   "name": "python",
   "nbconvert_exporter": "python",
   "pygments_lexer": "ipython3",
   "version": "3.5.3"
  }
 },
 "nbformat": 4,
 "nbformat_minor": 1
}
