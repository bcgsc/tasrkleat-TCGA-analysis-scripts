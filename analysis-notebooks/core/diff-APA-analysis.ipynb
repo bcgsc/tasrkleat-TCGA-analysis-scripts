{
 "cells": [
  {
   "cell_type": "code",
   "execution_count": 3,
   "metadata": {
    "collapsed": false
   },
   "outputs": [],
   "source": [
    "from eda_import import *\n",
    "\n",
    "from utils.parse_gtf_utils import extract_info"
   ]
  },
  {
   "cell_type": "code",
   "execution_count": 4,
   "metadata": {
    "collapsed": true
   },
   "outputs": [],
   "source": [
    "def fisher_exact_wrapper(row):\n",
    "    contingency_table = np.array([\n",
    "            [row.N_on, row.N_off],\n",
    "            [row.T_on, row.T_off]])\n",
    "    _, pval = stats.fisher_exact(contingency_table)\n",
    "    return pval"
   ]
  },
  {
   "cell_type": "code",
   "execution_count": 5,
   "metadata": {
    "collapsed": false
   },
   "outputs": [],
   "source": [
    "def calc_fisher_exact_pval(grp):\n",
    "    count_by_sstype = lambda grp: grp[['sstype', 'analysis_id']].drop_duplicates().sstype.value_counts().astype(int)\n",
    "    \n",
    "    if grp.sstype.unique().shape[0] == 1:\n",
    "        return\n",
    "    sample_counts = count_by_sstype(grp).to_dict()\n",
    "    # These are the numbers of samples that have at least on mclv sites detected for this gene\n",
    "    num_normal = sample_counts['normal']\n",
    "    num_tumour = sample_counts['tumour']\n",
    "\n",
    "    grped_by_mclv_site = grp.groupby(['mkid', 'mclv', 'strand', 'aclv'])\n",
    "    # calculate the number of normal or tumour samples that have a mclv site\n",
    "    count_df = grped_by_mclv_site.apply(lambda g: count_by_sstype(g).to_frame().sort_index().T)\n",
    "    count_df.fillna(0, inplace=True)\n",
    "    \n",
    "    # rename cols and add off cols, preparing for input for Fishers exact test\n",
    "    count_df.rename(columns={'normal': 'N_on', 'tumour': 'T_on'}, inplace=True)\n",
    "    count_df['N_off'] = num_normal - count_df['N_on']\n",
    "    count_df['T_off'] = num_tumour - count_df['T_on']\n",
    "    count_df['fisher_exact_p'] = count_df.apply(fisher_exact_wrapper, axis=1)\n",
    "    \n",
    "    # add other helpful cols\n",
    "    count_df['N_base'] = num_normal\n",
    "    count_df['T_base'] = num_tumour\n",
    "    count_df['N_on_ratio'] = count_df['N_on'] / num_normal\n",
    "    count_df['T_on_ratio'] = count_df['T_on'] / num_tumour\n",
    "    \n",
    "    # from normal to tumour, does the on ratio go up?\n",
    "    count_df['N2T_ratio_diff'] = count_df['T_on_ratio'] - count_df['N_on_ratio']\n",
    "    count_df['diff_is_significant'] = count_df.apply(lambda row: True if row.fisher_exact_p < PVAL_CUTOFF else False, axis=1)\n",
    "    count_df['N2T_ratio_change'] = count_df.apply(lambda row: 'up' if row['N2T_ratio_diff'] > 0 else 'down', axis=1)\n",
    "    count_df['N2T_ratio_change_sig'] = count_df.apply(lambda row: row.N2T_ratio_change if row.fisher_exact_p < PVAL_CUTOFF else None, axis=1)\n",
    "    return count_df"
   ]
  },
  {
   "cell_type": "code",
   "execution_count": 6,
   "metadata": {
    "collapsed": false
   },
   "outputs": [],
   "source": [
    "def has_diff_aca(grp):\n",
    "    # it means for all mclv sites with pval < cutoff, and there are both an increase and a decrease\n",
    "    return grp.query('fisher_exact_p < {0}'.format(PVAL_CUTOFF)).N2T_ratio_change.unique().shape[0] > 1"
   ]
  },
  {
   "cell_type": "code",
   "execution_count": 7,
   "metadata": {
    "collapsed": true
   },
   "outputs": [],
   "source": [
    "# diseases with sufficient normal samples (>= 15)\n",
    "NT_diseases = ['BRCA', 'KIRC', 'COAD', 'KICH', \n",
    "               'KIRP', 'LIHC', 'LUAD', 'LUSC',\n",
    "               'THCA', 'HNSC', 'STAD', 'UCEC',\n",
    "               'PRAD', 'BLCA']"
   ]
  },
  {
   "cell_type": "code",
   "execution_count": 9,
   "metadata": {
    "collapsed": false
   },
   "outputs": [],
   "source": [
    "# Load RPKMS\n",
    "df_expr = pd.read_csv('./results_data/RPKMS.csv.gz', compression='gzip')"
   ]
  },
  {
   "cell_type": "code",
   "execution_count": 10,
   "metadata": {
    "collapsed": true
   },
   "outputs": [],
   "source": [
    "PVAL_CUTOFF = 0.01"
   ]
  },
  {
   "cell_type": "code",
   "execution_count": null,
   "metadata": {
    "collapsed": true
   },
   "outputs": [],
   "source": []
  },
  {
   "cell_type": "code",
   "execution_count": 12,
   "metadata": {
    "collapsed": false
   },
   "outputs": [
    {
     "name": "stdout",
     "output_type": "stream",
     "text": [
      "CPU times: user 24.6 s, sys: 570 ms, total: 25.2 s\n",
      "Wall time: 25.2 s\n"
     ]
    }
   ],
   "source": [
    "%%time\n",
    "_cols = ['analysis_id', 'barcode', 'disease', 'sstype', 'mkid',\n",
    "         'gene_name', 'strand', 'participant_id', 'mclv', 'aclv']\n",
    "adf = pd.read_csv('./results_data/all_cba.KLEAT.on-target-cleaned.filtered.clustered.csv.gz',\n",
    "                  usecols=_cols)"
   ]
  },
  {
   "cell_type": "code",
   "execution_count": 16,
   "metadata": {
    "collapsed": false
   },
   "outputs": [],
   "source": [
    "# dedup is required after clustering to work on mclv\n",
    "assert adf.shape[0] == 3420253\n",
    "\n",
    "adf_dedup = adf.drop_duplicates()\n",
    "\n",
    "assert adf_dedup.shape[0] == 2213818\n",
    "\n",
    "assert adf_dedup.gene_name.unique().shape[0] == 114"
   ]
  },
  {
   "cell_type": "code",
   "execution_count": 17,
   "metadata": {
    "collapsed": false
   },
   "outputs": [],
   "source": [
    "bdf = adf_dedup.query('disease in {0}'.format(NT_diseases))"
   ]
  },
  {
   "cell_type": "code",
   "execution_count": 18,
   "metadata": {
    "collapsed": false
   },
   "outputs": [
    {
     "data": {
      "text/html": [
       "<div>\n",
       "<style>\n",
       "    .dataframe thead tr:only-child th {\n",
       "        text-align: right;\n",
       "    }\n",
       "\n",
       "    .dataframe thead th {\n",
       "        text-align: left;\n",
       "    }\n",
       "\n",
       "    .dataframe tbody tr th {\n",
       "        vertical-align: top;\n",
       "    }\n",
       "</style>\n",
       "<table border=\"1\" class=\"dataframe\">\n",
       "  <thead>\n",
       "    <tr style=\"text-align: right;\">\n",
       "      <th></th>\n",
       "      <th>gene_name</th>\n",
       "      <th>strand</th>\n",
       "      <th>analysis_id</th>\n",
       "      <th>barcode</th>\n",
       "      <th>disease</th>\n",
       "      <th>participant_id</th>\n",
       "      <th>mclv</th>\n",
       "      <th>aclv</th>\n",
       "      <th>sstype</th>\n",
       "      <th>mkid</th>\n",
       "    </tr>\n",
       "  </thead>\n",
       "  <tbody>\n",
       "    <tr>\n",
       "      <th>0</th>\n",
       "      <td>ABL1</td>\n",
       "      <td>+</td>\n",
       "      <td>1d811d54-caa1-41f3-bfc2-400eebdd97ef</td>\n",
       "      <td>TCGA-KN-8425-01A-11R-2315-07</td>\n",
       "      <td>KICH</td>\n",
       "      <td>cc316faf-dcb1-4dea-b8b0-a17d000ff40f</td>\n",
       "      <td>133763062</td>\n",
       "      <td>133763062</td>\n",
       "      <td>tumour</td>\n",
       "      <td>chr9|ABL1|+|133763062</td>\n",
       "    </tr>\n",
       "  </tbody>\n",
       "</table>\n",
       "</div>"
      ],
      "text/plain": [
       "  gene_name strand                           analysis_id                       barcode disease                        participant_id       mclv       aclv  sstype                   mkid\n",
       "0  ABL1      +      1d811d54-caa1-41f3-bfc2-400eebdd97ef  TCGA-KN-8425-01A-11R-2315-07  KICH    cc316faf-dcb1-4dea-b8b0-a17d000ff40f  133763062  133763062  tumour  chr9|ABL1|+|133763062"
      ]
     },
     "execution_count": 18,
     "metadata": {},
     "output_type": "execute_result"
    }
   ],
   "source": [
    "bdf.head(1)"
   ]
  },
  {
   "cell_type": "code",
   "execution_count": 19,
   "metadata": {
    "collapsed": false
   },
   "outputs": [
    {
     "name": "stdout",
     "output_type": "stream",
     "text": [
      "CPU times: user 1min 35s, sys: 2.77 s, total: 1min 38s\n",
      "Wall time: 1min 38s\n"
     ]
    }
   ],
   "source": [
    "%time raw_pval_df = bdf.groupby(['disease', 'gene_name']).apply(calc_fisher_exact_pval)"
   ]
  },
  {
   "cell_type": "code",
   "execution_count": 20,
   "metadata": {
    "collapsed": false
   },
   "outputs": [
    {
     "data": {
      "text/html": [
       "<div>\n",
       "<style>\n",
       "    .dataframe thead tr:only-child th {\n",
       "        text-align: right;\n",
       "    }\n",
       "\n",
       "    .dataframe thead th {\n",
       "        text-align: left;\n",
       "    }\n",
       "\n",
       "    .dataframe tbody tr th {\n",
       "        vertical-align: top;\n",
       "    }\n",
       "</style>\n",
       "<table border=\"1\" class=\"dataframe\">\n",
       "  <thead>\n",
       "    <tr style=\"text-align: right;\">\n",
       "      <th></th>\n",
       "      <th>disease</th>\n",
       "      <th>gene_name</th>\n",
       "      <th>mkid</th>\n",
       "      <th>mclv</th>\n",
       "      <th>strand</th>\n",
       "      <th>aclv</th>\n",
       "      <th>level_6</th>\n",
       "      <th>N_on</th>\n",
       "      <th>T_on</th>\n",
       "      <th>N_off</th>\n",
       "      <th>T_off</th>\n",
       "      <th>fisher_exact_p</th>\n",
       "      <th>N_base</th>\n",
       "      <th>T_base</th>\n",
       "      <th>N_on_ratio</th>\n",
       "      <th>T_on_ratio</th>\n",
       "      <th>N2T_ratio_diff</th>\n",
       "      <th>diff_is_significant</th>\n",
       "      <th>N2T_ratio_change</th>\n",
       "      <th>N2T_ratio_change_sig</th>\n",
       "    </tr>\n",
       "  </thead>\n",
       "  <tbody>\n",
       "    <tr>\n",
       "      <th>0</th>\n",
       "      <td>BLCA</td>\n",
       "      <td>AKT1</td>\n",
       "      <td>chr14|AKT1|-|105230220</td>\n",
       "      <td>105230220</td>\n",
       "      <td>-</td>\n",
       "      <td>105235686</td>\n",
       "      <td>sstype</td>\n",
       "      <td>0.0</td>\n",
       "      <td>1.0</td>\n",
       "      <td>19.0</td>\n",
       "      <td>413.0</td>\n",
       "      <td>1.0</td>\n",
       "      <td>19</td>\n",
       "      <td>414</td>\n",
       "      <td>0.0</td>\n",
       "      <td>0.002415</td>\n",
       "      <td>0.002415</td>\n",
       "      <td>False</td>\n",
       "      <td>up</td>\n",
       "      <td>None</td>\n",
       "    </tr>\n",
       "    <tr>\n",
       "      <th>1</th>\n",
       "      <td>BLCA</td>\n",
       "      <td>ALK</td>\n",
       "      <td>chr2|ALK|-|29737056</td>\n",
       "      <td>29737056</td>\n",
       "      <td>-</td>\n",
       "      <td>29443735</td>\n",
       "      <td>sstype</td>\n",
       "      <td>0.0</td>\n",
       "      <td>1.0</td>\n",
       "      <td>8.0</td>\n",
       "      <td>114.0</td>\n",
       "      <td>1.0</td>\n",
       "      <td>8</td>\n",
       "      <td>115</td>\n",
       "      <td>0.0</td>\n",
       "      <td>0.008696</td>\n",
       "      <td>0.008696</td>\n",
       "      <td>False</td>\n",
       "      <td>up</td>\n",
       "      <td>None</td>\n",
       "    </tr>\n",
       "    <tr>\n",
       "      <th>2</th>\n",
       "      <td>BLCA</td>\n",
       "      <td>ALK</td>\n",
       "      <td>chr2|ALK|-|29743239</td>\n",
       "      <td>29743239</td>\n",
       "      <td>-</td>\n",
       "      <td>29443735</td>\n",
       "      <td>sstype</td>\n",
       "      <td>0.0</td>\n",
       "      <td>1.0</td>\n",
       "      <td>8.0</td>\n",
       "      <td>114.0</td>\n",
       "      <td>1.0</td>\n",
       "      <td>8</td>\n",
       "      <td>115</td>\n",
       "      <td>0.0</td>\n",
       "      <td>0.008696</td>\n",
       "      <td>0.008696</td>\n",
       "      <td>False</td>\n",
       "      <td>up</td>\n",
       "      <td>None</td>\n",
       "    </tr>\n",
       "    <tr>\n",
       "      <th>3</th>\n",
       "      <td>BLCA</td>\n",
       "      <td>APC</td>\n",
       "      <td>chr5|APC|+|112116697</td>\n",
       "      <td>112116697</td>\n",
       "      <td>+</td>\n",
       "      <td>112178452</td>\n",
       "      <td>sstype</td>\n",
       "      <td>0.0</td>\n",
       "      <td>1.0</td>\n",
       "      <td>18.0</td>\n",
       "      <td>378.0</td>\n",
       "      <td>1.0</td>\n",
       "      <td>18</td>\n",
       "      <td>379</td>\n",
       "      <td>0.0</td>\n",
       "      <td>0.002639</td>\n",
       "      <td>0.002639</td>\n",
       "      <td>False</td>\n",
       "      <td>up</td>\n",
       "      <td>None</td>\n",
       "    </tr>\n",
       "    <tr>\n",
       "      <th>4</th>\n",
       "      <td>BLCA</td>\n",
       "      <td>APC</td>\n",
       "      <td>chr5|APC|+|112170731</td>\n",
       "      <td>112170731</td>\n",
       "      <td>+</td>\n",
       "      <td>112178452</td>\n",
       "      <td>sstype</td>\n",
       "      <td>0.0</td>\n",
       "      <td>3.0</td>\n",
       "      <td>18.0</td>\n",
       "      <td>376.0</td>\n",
       "      <td>1.0</td>\n",
       "      <td>18</td>\n",
       "      <td>379</td>\n",
       "      <td>0.0</td>\n",
       "      <td>0.007916</td>\n",
       "      <td>0.007916</td>\n",
       "      <td>False</td>\n",
       "      <td>up</td>\n",
       "      <td>None</td>\n",
       "    </tr>\n",
       "  </tbody>\n",
       "</table>\n",
       "</div>"
      ],
      "text/plain": [
       "  disease gene_name                    mkid       mclv strand       aclv level_6  N_on  T_on  N_off  T_off  fisher_exact_p  N_base  T_base  N_on_ratio  T_on_ratio  N2T_ratio_diff  diff_is_significant N2T_ratio_change N2T_ratio_change_sig\n",
       "0  BLCA    AKT1      chr14|AKT1|-|105230220  105230220  -      105235686  sstype  0.0   1.0   19.0   413.0  1.0             19      414     0.0         0.002415    0.002415        False                up               None               \n",
       "1  BLCA    ALK       chr2|ALK|-|29737056     29737056   -      29443735   sstype  0.0   1.0   8.0    114.0  1.0             8       115     0.0         0.008696    0.008696        False                up               None               \n",
       "2  BLCA    ALK       chr2|ALK|-|29743239     29743239   -      29443735   sstype  0.0   1.0   8.0    114.0  1.0             8       115     0.0         0.008696    0.008696        False                up               None               \n",
       "3  BLCA    APC       chr5|APC|+|112116697    112116697  +      112178452  sstype  0.0   1.0   18.0   378.0  1.0             18      379     0.0         0.002639    0.002639        False                up               None               \n",
       "4  BLCA    APC       chr5|APC|+|112170731    112170731  +      112178452  sstype  0.0   3.0   18.0   376.0  1.0             18      379     0.0         0.007916    0.007916        False                up               None               "
      ]
     },
     "execution_count": 20,
     "metadata": {},
     "output_type": "execute_result"
    }
   ],
   "source": [
    "raw_pval_df.query('N_on_ratio < 0.01').query('T_on_ratio < 0.01').reset_index().head()"
   ]
  },
  {
   "cell_type": "code",
   "execution_count": 30,
   "metadata": {
    "collapsed": false
   },
   "outputs": [
    {
     "data": {
      "image/png": "[encoded data removed]",
      "text/plain": [
       "<matplotlib.figure.Figure at 0x7f8f427a3320>"
      ]
     },
     "metadata": {},
     "output_type": "display_data"
    }
   ],
   "source": [
    "# distribution of on_ratio in N/T sample groups\n",
    "_ = raw_pval_df[['N_on_ratio', 'T_on_ratio']].hist(\n",
    "    bins=np.arange(0, 1.01, 0.05), figsize=(8, 3), sharex=True, sharey=True)"
   ]
  },
  {
   "cell_type": "markdown",
   "metadata": {},
   "source": [
    "Remarkably similar overall."
   ]
  },
  {
   "cell_type": "code",
   "execution_count": 31,
   "metadata": {
    "collapsed": true
   },
   "outputs": [],
   "source": [
    "pval_df = raw_pval_df.reset_index().rename(\n",
    "    columns={'level_2': 'mkid', 'level_3': 'mclv', 'level_4':'strand', 'level_5': 'aclv'}\n",
    ").drop('level_6', axis=1)"
   ]
  },
  {
   "cell_type": "code",
   "execution_count": 32,
   "metadata": {
    "collapsed": false
   },
   "outputs": [
    {
     "data": {
      "text/html": [
       "<div>\n",
       "<style>\n",
       "    .dataframe thead tr:only-child th {\n",
       "        text-align: right;\n",
       "    }\n",
       "\n",
       "    .dataframe thead th {\n",
       "        text-align: left;\n",
       "    }\n",
       "\n",
       "    .dataframe tbody tr th {\n",
       "        vertical-align: top;\n",
       "    }\n",
       "</style>\n",
       "<table border=\"1\" class=\"dataframe\">\n",
       "  <thead>\n",
       "    <tr style=\"text-align: right;\">\n",
       "      <th></th>\n",
       "      <th>disease</th>\n",
       "      <th>gene_name</th>\n",
       "      <th>mkid</th>\n",
       "      <th>mclv</th>\n",
       "      <th>strand</th>\n",
       "      <th>aclv</th>\n",
       "      <th>N_on</th>\n",
       "      <th>T_on</th>\n",
       "      <th>N_off</th>\n",
       "      <th>T_off</th>\n",
       "      <th>fisher_exact_p</th>\n",
       "      <th>N_base</th>\n",
       "      <th>T_base</th>\n",
       "      <th>N_on_ratio</th>\n",
       "      <th>T_on_ratio</th>\n",
       "      <th>N2T_ratio_diff</th>\n",
       "      <th>diff_is_significant</th>\n",
       "      <th>N2T_ratio_change</th>\n",
       "      <th>N2T_ratio_change_sig</th>\n",
       "    </tr>\n",
       "  </thead>\n",
       "  <tbody>\n",
       "    <tr>\n",
       "      <th>0</th>\n",
       "      <td>BLCA</td>\n",
       "      <td>ABL1</td>\n",
       "      <td>chr9|ABL1|+|133589972</td>\n",
       "      <td>133589972</td>\n",
       "      <td>+</td>\n",
       "      <td>133763062</td>\n",
       "      <td>1.0</td>\n",
       "      <td>23.0</td>\n",
       "      <td>18.0</td>\n",
       "      <td>382.0</td>\n",
       "      <td>1.0</td>\n",
       "      <td>19</td>\n",
       "      <td>405</td>\n",
       "      <td>0.052632</td>\n",
       "      <td>0.05679</td>\n",
       "      <td>0.004159</td>\n",
       "      <td>False</td>\n",
       "      <td>up</td>\n",
       "      <td>None</td>\n",
       "    </tr>\n",
       "    <tr>\n",
       "      <th>1</th>\n",
       "      <td>BLCA</td>\n",
       "      <td>ABL1</td>\n",
       "      <td>chr9|ABL1|+|133763062</td>\n",
       "      <td>133763062</td>\n",
       "      <td>+</td>\n",
       "      <td>133763062</td>\n",
       "      <td>19.0</td>\n",
       "      <td>405.0</td>\n",
       "      <td>0.0</td>\n",
       "      <td>0.0</td>\n",
       "      <td>1.0</td>\n",
       "      <td>19</td>\n",
       "      <td>405</td>\n",
       "      <td>1.000000</td>\n",
       "      <td>1.00000</td>\n",
       "      <td>0.000000</td>\n",
       "      <td>False</td>\n",
       "      <td>down</td>\n",
       "      <td>None</td>\n",
       "    </tr>\n",
       "  </tbody>\n",
       "</table>\n",
       "</div>"
      ],
      "text/plain": [
       "  disease gene_name                   mkid       mclv strand       aclv  N_on   T_on  N_off  T_off  fisher_exact_p  N_base  T_base  N_on_ratio  T_on_ratio  N2T_ratio_diff  diff_is_significant N2T_ratio_change N2T_ratio_change_sig\n",
       "0  BLCA    ABL1      chr9|ABL1|+|133589972  133589972  +      133763062  1.0   23.0   18.0   382.0  1.0             19      405     0.052632    0.05679     0.004159        False                up               None               \n",
       "1  BLCA    ABL1      chr9|ABL1|+|133763062  133763062  +      133763062  19.0  405.0  0.0    0.0    1.0             19      405     1.000000    1.00000     0.000000        False                down             None               "
      ]
     },
     "execution_count": 32,
     "metadata": {},
     "output_type": "execute_result"
    }
   ],
   "source": [
    "pval_df.head(2)"
   ]
  },
  {
   "cell_type": "code",
   "execution_count": 33,
   "metadata": {
    "collapsed": true
   },
   "outputs": [],
   "source": [
    "for col in ['N_on', 'N_off', 'T_on', 'T_off']:\n",
    "    pval_df[col] = pval_df[col].astype(int)"
   ]
  },
  {
   "cell_type": "code",
   "execution_count": 35,
   "metadata": {
    "collapsed": false
   },
   "outputs": [
    {
     "name": "stdout",
     "output_type": "stream",
     "text": [
      "CPU times: user 4.5 s, sys: 66.7 ms, total: 4.57 s\n",
      "Wall time: 4.49 s\n"
     ]
    }
   ],
   "source": [
    "%%time \n",
    "# aca (alternative cleavage) is an old name used to mean APA\n",
    "aca_df = pval_df.groupby(['disease', 'gene_name'])\\\n",
    "    .apply(has_diff_aca)\\\n",
    "    .to_frame(name='has_diff_aca')\\\n",
    "    .reset_index()"
   ]
  },
  {
   "cell_type": "code",
   "execution_count": 36,
   "metadata": {
    "collapsed": true
   },
   "outputs": [],
   "source": [
    "aca_df = pval_df.merge(aca_df, on=['disease', 'gene_name'])"
   ]
  },
  {
   "cell_type": "code",
   "execution_count": 37,
   "metadata": {
    "collapsed": false
   },
   "outputs": [
    {
     "data": {
      "text/html": [
       "<div>\n",
       "<style>\n",
       "    .dataframe thead tr:only-child th {\n",
       "        text-align: right;\n",
       "    }\n",
       "\n",
       "    .dataframe thead th {\n",
       "        text-align: left;\n",
       "    }\n",
       "\n",
       "    .dataframe tbody tr th {\n",
       "        vertical-align: top;\n",
       "    }\n",
       "</style>\n",
       "<table border=\"1\" class=\"dataframe\">\n",
       "  <thead>\n",
       "    <tr style=\"text-align: right;\">\n",
       "      <th></th>\n",
       "      <th>disease</th>\n",
       "      <th>gene_name</th>\n",
       "      <th>mkid</th>\n",
       "      <th>mclv</th>\n",
       "      <th>strand</th>\n",
       "      <th>aclv</th>\n",
       "      <th>N_on</th>\n",
       "      <th>T_on</th>\n",
       "      <th>N_off</th>\n",
       "      <th>T_off</th>\n",
       "      <th>fisher_exact_p</th>\n",
       "      <th>N_base</th>\n",
       "      <th>T_base</th>\n",
       "      <th>N_on_ratio</th>\n",
       "      <th>T_on_ratio</th>\n",
       "      <th>N2T_ratio_diff</th>\n",
       "      <th>diff_is_significant</th>\n",
       "      <th>N2T_ratio_change</th>\n",
       "      <th>N2T_ratio_change_sig</th>\n",
       "      <th>has_diff_aca</th>\n",
       "    </tr>\n",
       "  </thead>\n",
       "  <tbody>\n",
       "    <tr>\n",
       "      <th>0</th>\n",
       "      <td>BLCA</td>\n",
       "      <td>ABL1</td>\n",
       "      <td>chr9|ABL1|+|133589972</td>\n",
       "      <td>133589972</td>\n",
       "      <td>+</td>\n",
       "      <td>133763062</td>\n",
       "      <td>1</td>\n",
       "      <td>23</td>\n",
       "      <td>18</td>\n",
       "      <td>382</td>\n",
       "      <td>1.0</td>\n",
       "      <td>19</td>\n",
       "      <td>405</td>\n",
       "      <td>0.052632</td>\n",
       "      <td>0.05679</td>\n",
       "      <td>0.004159</td>\n",
       "      <td>False</td>\n",
       "      <td>up</td>\n",
       "      <td>None</td>\n",
       "      <td>False</td>\n",
       "    </tr>\n",
       "  </tbody>\n",
       "</table>\n",
       "</div>"
      ],
      "text/plain": [
       "  disease gene_name                   mkid       mclv strand       aclv  N_on  T_on  N_off  T_off  fisher_exact_p  N_base  T_base  N_on_ratio  T_on_ratio  N2T_ratio_diff  diff_is_significant N2T_ratio_change N2T_ratio_change_sig  has_diff_aca\n",
       "0  BLCA    ABL1      chr9|ABL1|+|133589972  133589972  +      133763062  1     23    18     382    1.0             19      405     0.052632    0.05679     0.004159        False                up               None                 False       "
      ]
     },
     "execution_count": 37,
     "metadata": {},
     "output_type": "execute_result"
    }
   ],
   "source": [
    "aca_df.head(1)"
   ]
  },
  {
   "cell_type": "code",
   "execution_count": 38,
   "metadata": {
    "collapsed": false
   },
   "outputs": [
    {
     "name": "stdout",
     "output_type": "stream",
     "text": [
      "33 77\n"
     ]
    }
   ],
   "source": [
    "num_reported_genes = aca_df.query('has_diff_aca == True').gene_name.unique().shape[0]\n",
    "num_reported_cases = aca_df.query('has_diff_aca == True')[['gene_name', 'disease']].drop_duplicates().shape[0]\n",
    "print(num_reported_genes, num_reported_cases)"
   ]
  },
  {
   "cell_type": "markdown",
   "metadata": {},
   "source": [
    "# Estimate FDR"
   ]
  },
  {
   "cell_type": "markdown",
   "metadata": {},
   "source": [
    "1. Obtain gene-cancer-pair-level (gc-level) p value upper bound by multiplying the lowest two p-values correspond to a significant increase and a significant decrease for each pairs.\n",
    "1. for those `has_diff_aca` set to false, their gc-level p-value set to 0, since they are not reported anyway. But we need them to do Benjamini Hochberg adjustment"
   ]
  },
  {
   "cell_type": "code",
   "execution_count": 39,
   "metadata": {
    "collapsed": true
   },
   "outputs": [],
   "source": [
    "def calc_pc_level_p(grp):\n",
    "    assert len(set(grp.has_diff_aca.values)) == 1 # make sure there is only one possibility\n",
    "    if grp.has_diff_aca.all():\n",
    "        sig_inc_p = grp.query('N2T_ratio_diff > 0').fisher_exact_p.min()\n",
    "        sig_dec_p = grp.query('N2T_ratio_diff < 0').fisher_exact_p.min()\n",
    "        return sig_inc_p * sig_dec_p\n",
    "    else:\n",
    "        return 1"
   ]
  },
  {
   "cell_type": "code",
   "execution_count": 40,
   "metadata": {
    "collapsed": false
   },
   "outputs": [],
   "source": [
    "gc_level_pvals = aca_df.groupby(['gene_name', 'disease']).apply(calc_pc_level_p).sort_values()"
   ]
  },
  {
   "cell_type": "code",
   "execution_count": 41,
   "metadata": {
    "collapsed": false
   },
   "outputs": [],
   "source": [
    "# sanity check\n",
    "assert gc_level_pvals[gc_level_pvals < 1].shape[0] == num_reported_cases"
   ]
  },
  {
   "cell_type": "code",
   "execution_count": 43,
   "metadata": {
    "collapsed": true
   },
   "outputs": [],
   "source": [
    "# num_genes * num_diseases tested, actually it should've been three cases less \n",
    "# because the three gene-cancer type pairs have not CSs detected in their normal\n",
    "# sample groups, thus cannot do tumor-specific APA analysis\n",
    "# but it makes little difference in terms of the FDR estimation\n",
    "total_num_tests = 114 * 14"
   ]
  },
  {
   "cell_type": "code",
   "execution_count": 44,
   "metadata": {
    "collapsed": false
   },
   "outputs": [],
   "source": [
    "gc_level_pvals_df = gc_level_pvals.to_frame(name='gc_level_pval')\n",
    "gc_level_pvals_df['rank'] = np.arange(1, gc_level_pvals_df.shape[0] + 1)"
   ]
  },
  {
   "cell_type": "code",
   "execution_count": 45,
   "metadata": {
    "collapsed": false
   },
   "outputs": [
    {
     "data": {
      "text/plain": [
       "8.324790830353091e-05"
      ]
     },
     "execution_count": 45,
     "metadata": {},
     "output_type": "execute_result"
    }
   ],
   "source": [
    "gc_level_pvals[gc_level_pvals < 1].max()"
   ]
  },
  {
   "cell_type": "code",
   "execution_count": 46,
   "metadata": {
    "collapsed": true
   },
   "outputs": [],
   "source": [
    "# q_star as defined in the BH paper, https://www.jstor.org/stable/2346101\n",
    "q_star = (gc_level_pvals_df.gc_level_pval * total_num_tests / gc_level_pvals_df['rank'])[::-1]"
   ]
  },
  {
   "cell_type": "code",
   "execution_count": 47,
   "metadata": {
    "collapsed": false
   },
   "outputs": [],
   "source": [
    "# cap at 1 as probability cannot exceed one\n",
    "q_star = np.minimum(np.ones_like(q_star), q_star)"
   ]
  },
  {
   "cell_type": "code",
   "execution_count": 48,
   "metadata": {
    "collapsed": true
   },
   "outputs": [],
   "source": [
    "q_star = np.minimum.accumulate(q_star)"
   ]
  },
  {
   "cell_type": "code",
   "execution_count": 49,
   "metadata": {
    "collapsed": false
   },
   "outputs": [],
   "source": [
    "gc_level_pvals_df['fdr_upper_bound'] = q_star"
   ]
  },
  {
   "cell_type": "code",
   "execution_count": 50,
   "metadata": {
    "collapsed": false
   },
   "outputs": [
    {
     "data": {
      "text/plain": [
       "count    7.700000e+01\n",
       "mean     9.578885e-05\n",
       "std      2.696823e-04\n",
       "min      6.451290e-36\n",
       "25%      3.559475e-10\n",
       "50%      2.450215e-06\n",
       "75%      5.104204e-05\n",
       "max      1.725502e-03\n",
       "Name: fdr_upper_bound, dtype: float64"
      ]
     },
     "execution_count": 50,
     "metadata": {},
     "output_type": "execute_result"
    }
   ],
   "source": [
    "gc_level_pvals_df.query('gc_level_pval < 1').fdr_upper_bound.describe()"
   ]
  },
  {
   "cell_type": "markdown",
   "metadata": {},
   "source": [
    "The estimated FDR is ~0.0017, less than 0.002, so we obtain an upper bound FDR of 0.002, sufficiently small."
   ]
  },
  {
   "cell_type": "markdown",
   "metadata": {},
   "source": [
    "# Back to characterizing the identified gene-cancer type pairs"
   ]
  },
  {
   "cell_type": "code",
   "execution_count": 51,
   "metadata": {
    "collapsed": false
   },
   "outputs": [],
   "source": [
    "# number of significantly changed CSs within a gene-cancer type pair\n",
    "num_sig_change_clv = aca_df\\\n",
    "    .query('has_diff_aca == True')\\\n",
    "    .groupby(['disease', 'gene_name'])\\\n",
    "    .apply(lambda g: g.query('diff_is_significant').shape[0])"
   ]
  },
  {
   "cell_type": "code",
   "execution_count": 52,
   "metadata": {
    "collapsed": false
   },
   "outputs": [
    {
     "data": {
      "text/plain": [
       "(77,)"
      ]
     },
     "execution_count": 52,
     "metadata": {},
     "output_type": "execute_result"
    }
   ],
   "source": [
    "num_sig_change_clv.shape"
   ]
  },
  {
   "cell_type": "code",
   "execution_count": 57,
   "metadata": {
    "collapsed": false
   },
   "outputs": [
    {
     "data": {
      "image/png": "[encoded data removed]",
      "text/plain": [
       "<matplotlib.figure.Figure at 0x7f8f42bd8b38>"
      ]
     },
     "metadata": {},
     "output_type": "display_data"
    }
   ],
   "source": [
    "ax = num_sig_change_clv.plot.hist(figsize=(4, 3))\n",
    "_ = ax.set_xticks(np.arange(1, 7, 1))\n",
    "ax.grid()"
   ]
  },
  {
   "cell_type": "markdown",
   "metadata": {},
   "source": [
    "Nothing at one because of the requirement of co-occurrence for reporting tumor-specific APA cases,"
   ]
  },
  {
   "cell_type": "code",
   "execution_count": 58,
   "metadata": {
    "collapsed": false
   },
   "outputs": [
    {
     "data": {
      "text/plain": [
       "31"
      ]
     },
     "execution_count": 58,
     "metadata": {},
     "output_type": "execute_result"
    }
   ],
   "source": [
    "num_sig_change_clv[num_sig_change_clv > 2].shape[0]"
   ]
  },
  {
   "cell_type": "code",
   "execution_count": 59,
   "metadata": {
    "collapsed": false
   },
   "outputs": [
    {
     "data": {
      "text/plain": [
       "0.4025974025974026"
      ]
     },
     "execution_count": 59,
     "metadata": {},
     "output_type": "execute_result"
    }
   ],
   "source": [
    "31 / 77"
   ]
  },
  {
   "cell_type": "markdown",
   "metadata": {},
   "source": [
    "So 31/77 cases report here have more than 2 CSs that undergo significant change cases "
   ]
  },
  {
   "cell_type": "code",
   "execution_count": null,
   "metadata": {
    "collapsed": true
   },
   "outputs": [],
   "source": []
  },
  {
   "cell_type": "code",
   "execution_count": null,
   "metadata": {
    "collapsed": true
   },
   "outputs": [],
   "source": []
  },
  {
   "cell_type": "markdown",
   "metadata": {},
   "source": [
    "# Analyze recurrence"
   ]
  },
  {
   "cell_type": "code",
   "execution_count": 60,
   "metadata": {
    "collapsed": true
   },
   "outputs": [],
   "source": [
    "cases_df = aca_df.query('has_diff_aca == True')[['disease', 'gene_name']].drop_duplicates()"
   ]
  },
  {
   "cell_type": "code",
   "execution_count": 63,
   "metadata": {
    "collapsed": false
   },
   "outputs": [
    {
     "data": {
      "text/html": [
       "<div>\n",
       "<style>\n",
       "    .dataframe thead tr:only-child th {\n",
       "        text-align: right;\n",
       "    }\n",
       "\n",
       "    .dataframe thead th {\n",
       "        text-align: left;\n",
       "    }\n",
       "\n",
       "    .dataframe tbody tr th {\n",
       "        vertical-align: top;\n",
       "    }\n",
       "</style>\n",
       "<table border=\"1\" class=\"dataframe\">\n",
       "  <thead>\n",
       "    <tr style=\"text-align: right;\">\n",
       "      <th></th>\n",
       "      <th>CDKN2A</th>\n",
       "      <th>EZH2</th>\n",
       "      <th>CCNE1</th>\n",
       "      <th>FGFR2</th>\n",
       "      <th>WT1</th>\n",
       "      <th>FGF2</th>\n",
       "      <th>BRCA1</th>\n",
       "      <th>MITF</th>\n",
       "      <th>AKT2</th>\n",
       "      <th>NFE2L2</th>\n",
       "      <th>CHURC1</th>\n",
       "      <th>KRAS</th>\n",
       "      <th>HNF1A</th>\n",
       "      <th>GNAS</th>\n",
       "      <th>FLT3</th>\n",
       "      <th>DRAM1</th>\n",
       "      <th>RNF43</th>\n",
       "      <th>MAX</th>\n",
       "      <th>MET</th>\n",
       "      <th>PTCH1</th>\n",
       "      <th>KIT</th>\n",
       "      <th>NFE2L3</th>\n",
       "      <th>CDKN2C</th>\n",
       "      <th>MYCL</th>\n",
       "      <th>APC</th>\n",
       "      <th>MDM4</th>\n",
       "      <th>RB1</th>\n",
       "      <th>ATM</th>\n",
       "      <th>SUFU</th>\n",
       "      <th>SOX2</th>\n",
       "      <th>AMER1</th>\n",
       "      <th>NF1</th>\n",
       "      <th>ALK</th>\n",
       "    </tr>\n",
       "  </thead>\n",
       "  <tbody>\n",
       "    <tr>\n",
       "      <th>gene_name</th>\n",
       "      <td>8</td>\n",
       "      <td>7</td>\n",
       "      <td>6</td>\n",
       "      <td>4</td>\n",
       "      <td>4</td>\n",
       "      <td>4</td>\n",
       "      <td>4</td>\n",
       "      <td>3</td>\n",
       "      <td>3</td>\n",
       "      <td>3</td>\n",
       "      <td>2</td>\n",
       "      <td>2</td>\n",
       "      <td>2</td>\n",
       "      <td>2</td>\n",
       "      <td>2</td>\n",
       "      <td>2</td>\n",
       "      <td>2</td>\n",
       "      <td>2</td>\n",
       "      <td>1</td>\n",
       "      <td>1</td>\n",
       "      <td>1</td>\n",
       "      <td>1</td>\n",
       "      <td>1</td>\n",
       "      <td>1</td>\n",
       "      <td>1</td>\n",
       "      <td>1</td>\n",
       "      <td>1</td>\n",
       "      <td>1</td>\n",
       "      <td>1</td>\n",
       "      <td>1</td>\n",
       "      <td>1</td>\n",
       "      <td>1</td>\n",
       "      <td>1</td>\n",
       "    </tr>\n",
       "  </tbody>\n",
       "</table>\n",
       "</div>"
      ],
      "text/plain": [
       "           CDKN2A  EZH2  CCNE1  FGFR2  WT1  FGF2  BRCA1  MITF  AKT2  NFE2L2  CHURC1  KRAS  HNF1A  GNAS  FLT3  DRAM1  RNF43  MAX  MET  PTCH1  KIT  NFE2L3  CDKN2C  MYCL  APC  MDM4  RB1  ATM  SUFU  SOX2  AMER1  NF1  ALK\n",
       "gene_name  8       7     6      4      4    4     4      3     3     3       2       2     2      2     2     2      2      2    1    1      1    1       1       1     1    1     1    1    1     1     1      1    1  "
      ]
     },
     "execution_count": 63,
     "metadata": {},
     "output_type": "execute_result"
    }
   ],
   "source": [
    "cases_df.gene_name.value_counts().to_frame().T"
   ]
  },
  {
   "cell_type": "code",
   "execution_count": 64,
   "metadata": {
    "collapsed": false
   },
   "outputs": [
    {
     "data": {
      "text/plain": [
       "(18,)"
      ]
     },
     "execution_count": 64,
     "metadata": {},
     "output_type": "execute_result"
    }
   ],
   "source": [
    "_count = cases_df.gene_name.value_counts()\n",
    "_count[_count > 1].shape"
   ]
  },
  {
   "cell_type": "markdown",
   "metadata": {},
   "source": [
    "So 18 genes have recurrence across different cancer types"
   ]
  },
  {
   "cell_type": "code",
   "execution_count": 66,
   "metadata": {
    "collapsed": false
   },
   "outputs": [
    {
     "data": {
      "text/plain": [
       "(77, 2)"
      ]
     },
     "execution_count": 66,
     "metadata": {},
     "output_type": "execute_result"
    }
   ],
   "source": [
    "cases_df.shape"
   ]
  },
  {
   "cell_type": "code",
   "execution_count": 67,
   "metadata": {
    "collapsed": false
   },
   "outputs": [
    {
     "data": {
      "text/plain": [
       "(33,)"
      ]
     },
     "execution_count": 67,
     "metadata": {},
     "output_type": "execute_result"
    }
   ],
   "source": [
    "cases_df.gene_name.unique().shape"
   ]
  },
  {
   "cell_type": "code",
   "execution_count": 68,
   "metadata": {
    "collapsed": false
   },
   "outputs": [
    {
     "data": {
      "text/plain": [
       "(13,)"
      ]
     },
     "execution_count": 68,
     "metadata": {},
     "output_type": "execute_result"
    }
   ],
   "source": [
    "cases_df.disease.unique().shape"
   ]
  },
  {
   "cell_type": "markdown",
   "metadata": {},
   "source": [
    "Of 14 `NT_diseases`, no tumor-specific APA cases are found in STAD"
   ]
  },
  {
   "cell_type": "markdown",
   "metadata": {},
   "source": [
    "#### Check a few genes in more detail"
   ]
  },
  {
   "cell_type": "code",
   "execution_count": 70,
   "metadata": {
    "collapsed": false
   },
   "outputs": [
    {
     "data": {
      "text/html": [
       "<div>\n",
       "<style>\n",
       "    .dataframe thead tr:only-child th {\n",
       "        text-align: right;\n",
       "    }\n",
       "\n",
       "    .dataframe thead th {\n",
       "        text-align: left;\n",
       "    }\n",
       "\n",
       "    .dataframe tbody tr th {\n",
       "        vertical-align: top;\n",
       "    }\n",
       "</style>\n",
       "<table border=\"1\" class=\"dataframe\">\n",
       "  <thead>\n",
       "    <tr style=\"text-align: right;\">\n",
       "      <th></th>\n",
       "      <th>disease</th>\n",
       "      <th>gene_name</th>\n",
       "    </tr>\n",
       "  </thead>\n",
       "  <tbody>\n",
       "    <tr>\n",
       "      <th>1064</th>\n",
       "      <td>BRCA</td>\n",
       "      <td>FGF2</td>\n",
       "    </tr>\n",
       "    <tr>\n",
       "      <th>6294</th>\n",
       "      <td>LUAD</td>\n",
       "      <td>FGF2</td>\n",
       "    </tr>\n",
       "    <tr>\n",
       "      <th>7150</th>\n",
       "      <td>LUSC</td>\n",
       "      <td>FGF2</td>\n",
       "    </tr>\n",
       "    <tr>\n",
       "      <th>7972</th>\n",
       "      <td>PRAD</td>\n",
       "      <td>FGF2</td>\n",
       "    </tr>\n",
       "  </tbody>\n",
       "</table>\n",
       "</div>"
      ],
      "text/plain": [
       "     disease gene_name\n",
       "1064  BRCA    FGF2    \n",
       "6294  LUAD    FGF2    \n",
       "7150  LUSC    FGF2    \n",
       "7972  PRAD    FGF2    "
      ]
     },
     "execution_count": 70,
     "metadata": {},
     "output_type": "execute_result"
    }
   ],
   "source": [
    "cases_df.query('gene_name ==\"FGF2\"')"
   ]
  },
  {
   "cell_type": "code",
   "execution_count": 71,
   "metadata": {
    "collapsed": false
   },
   "outputs": [
    {
     "data": {
      "text/plain": [
       "array(['chr19|CCNE1|+|30314898', 'chr19|CCNE1|+|30315134',\n",
       "       'chr19|CCNE1|+|30315215', 'chr19|CCNE1|+|30314486'], dtype=object)"
      ]
     },
     "execution_count": 71,
     "metadata": {},
     "output_type": "execute_result"
    }
   ],
   "source": [
    "aca_df.query('gene_name == \"CCNE1\"').mkid.unique()"
   ]
  },
  {
   "cell_type": "code",
   "execution_count": 72,
   "metadata": {
    "collapsed": true
   },
   "outputs": [],
   "source": [
    "lean_aca_df = aca_df[['gene_name', 'has_diff_aca', 'disease']].drop_duplicates()"
   ]
  },
  {
   "cell_type": "code",
   "execution_count": 73,
   "metadata": {
    "collapsed": false,
    "scrolled": true
   },
   "outputs": [
    {
     "data": {
      "text/plain": [
       "(33,)"
      ]
     },
     "execution_count": 73,
     "metadata": {},
     "output_type": "execute_result"
    }
   ],
   "source": [
    "lean_aca_df.query('has_diff_aca == True').gene_name.unique().shape"
   ]
  },
  {
   "cell_type": "code",
   "execution_count": 74,
   "metadata": {
    "collapsed": false
   },
   "outputs": [
    {
     "data": {
      "text/plain": [
       "(77, 2)"
      ]
     },
     "execution_count": 74,
     "metadata": {},
     "output_type": "execute_result"
    }
   ],
   "source": [
    "lean_aca_df.query('has_diff_aca == True')[['gene_name', 'disease']].drop_duplicates().shape"
   ]
  },
  {
   "cell_type": "code",
   "execution_count": 75,
   "metadata": {
    "collapsed": false
   },
   "outputs": [
    {
     "data": {
      "text/html": [
       "<div>\n",
       "<style>\n",
       "    .dataframe thead tr:only-child th {\n",
       "        text-align: right;\n",
       "    }\n",
       "\n",
       "    .dataframe thead th {\n",
       "        text-align: left;\n",
       "    }\n",
       "\n",
       "    .dataframe tbody tr th {\n",
       "        vertical-align: top;\n",
       "    }\n",
       "</style>\n",
       "<table border=\"1\" class=\"dataframe\">\n",
       "  <thead>\n",
       "    <tr style=\"text-align: right;\">\n",
       "      <th></th>\n",
       "      <th>251</th>\n",
       "      <th>1911</th>\n",
       "      <th>2658</th>\n",
       "      <th>3403</th>\n",
       "      <th>4061</th>\n",
       "      <th>4838</th>\n",
       "      <th>5537</th>\n",
       "      <th>8926</th>\n",
       "      <th>10046</th>\n",
       "      <th>10867</th>\n",
       "      <th>1064</th>\n",
       "      <th>6294</th>\n",
       "      <th>7150</th>\n",
       "      <th>7972</th>\n",
       "    </tr>\n",
       "  </thead>\n",
       "  <tbody>\n",
       "    <tr>\n",
       "      <th>gene_name</th>\n",
       "      <td>FGF2</td>\n",
       "      <td>FGF2</td>\n",
       "      <td>FGF2</td>\n",
       "      <td>FGF2</td>\n",
       "      <td>FGF2</td>\n",
       "      <td>FGF2</td>\n",
       "      <td>FGF2</td>\n",
       "      <td>FGF2</td>\n",
       "      <td>FGF2</td>\n",
       "      <td>FGF2</td>\n",
       "      <td>FGF2</td>\n",
       "      <td>FGF2</td>\n",
       "      <td>FGF2</td>\n",
       "      <td>FGF2</td>\n",
       "    </tr>\n",
       "    <tr>\n",
       "      <th>has_diff_aca</th>\n",
       "      <td>False</td>\n",
       "      <td>False</td>\n",
       "      <td>False</td>\n",
       "      <td>False</td>\n",
       "      <td>False</td>\n",
       "      <td>False</td>\n",
       "      <td>False</td>\n",
       "      <td>False</td>\n",
       "      <td>False</td>\n",
       "      <td>False</td>\n",
       "      <td>True</td>\n",
       "      <td>True</td>\n",
       "      <td>True</td>\n",
       "      <td>True</td>\n",
       "    </tr>\n",
       "    <tr>\n",
       "      <th>disease</th>\n",
       "      <td>BLCA</td>\n",
       "      <td>COAD</td>\n",
       "      <td>HNSC</td>\n",
       "      <td>KICH</td>\n",
       "      <td>KIRC</td>\n",
       "      <td>KIRP</td>\n",
       "      <td>LIHC</td>\n",
       "      <td>STAD</td>\n",
       "      <td>THCA</td>\n",
       "      <td>UCEC</td>\n",
       "      <td>BRCA</td>\n",
       "      <td>LUAD</td>\n",
       "      <td>LUSC</td>\n",
       "      <td>PRAD</td>\n",
       "    </tr>\n",
       "  </tbody>\n",
       "</table>\n",
       "</div>"
      ],
      "text/plain": [
       "                251   1911   2658   3403   4061   4838   5537   8926  10046  10867  1064  6294  7150  7972\n",
       "gene_name     FGF2   FGF2   FGF2   FGF2   FGF2   FGF2   FGF2   FGF2   FGF2   FGF2   FGF2  FGF2  FGF2  FGF2\n",
       "has_diff_aca  False  False  False  False  False  False  False  False  False  False  True  True  True  True\n",
       "disease       BLCA   COAD   HNSC   KICH   KIRC   KIRP   LIHC   STAD   THCA   UCEC   BRCA  LUAD  LUSC  PRAD"
      ]
     },
     "execution_count": 75,
     "metadata": {},
     "output_type": "execute_result"
    }
   ],
   "source": [
    "lean_aca_df.query('gene_name == \"FGF2\"').sort_values('has_diff_aca').T"
   ]
  },
  {
   "cell_type": "code",
   "execution_count": 76,
   "metadata": {
    "collapsed": false
   },
   "outputs": [
    {
     "data": {
      "text/html": [
       "<div>\n",
       "<style>\n",
       "    .dataframe thead tr:only-child th {\n",
       "        text-align: right;\n",
       "    }\n",
       "\n",
       "    .dataframe thead th {\n",
       "        text-align: left;\n",
       "    }\n",
       "\n",
       "    .dataframe tbody tr th {\n",
       "        vertical-align: top;\n",
       "    }\n",
       "</style>\n",
       "<table border=\"1\" class=\"dataframe\">\n",
       "  <thead>\n",
       "    <tr style=\"text-align: right;\">\n",
       "      <th></th>\n",
       "      <th>disease</th>\n",
       "      <th>gene_name</th>\n",
       "      <th>mkid</th>\n",
       "      <th>mclv</th>\n",
       "      <th>strand</th>\n",
       "      <th>aclv</th>\n",
       "      <th>N_on</th>\n",
       "      <th>T_on</th>\n",
       "      <th>N_off</th>\n",
       "      <th>T_off</th>\n",
       "      <th>fisher_exact_p</th>\n",
       "      <th>N_base</th>\n",
       "      <th>T_base</th>\n",
       "      <th>N_on_ratio</th>\n",
       "      <th>T_on_ratio</th>\n",
       "      <th>N2T_ratio_diff</th>\n",
       "      <th>diff_is_significant</th>\n",
       "      <th>N2T_ratio_change</th>\n",
       "      <th>N2T_ratio_change_sig</th>\n",
       "      <th>has_diff_aca</th>\n",
       "    </tr>\n",
       "  </thead>\n",
       "  <tbody>\n",
       "    <tr>\n",
       "      <th>4707</th>\n",
       "      <td>KIRP</td>\n",
       "      <td>CCNE1</td>\n",
       "      <td>chr19|CCNE1|+|30314898</td>\n",
       "      <td>30314898</td>\n",
       "      <td>+</td>\n",
       "      <td>30314918</td>\n",
       "      <td>4</td>\n",
       "      <td>37</td>\n",
       "      <td>24</td>\n",
       "      <td>198</td>\n",
       "      <td>1.000000</td>\n",
       "      <td>28</td>\n",
       "      <td>235</td>\n",
       "      <td>0.142857</td>\n",
       "      <td>0.157447</td>\n",
       "      <td>0.014590</td>\n",
       "      <td>False</td>\n",
       "      <td>up</td>\n",
       "      <td>None</td>\n",
       "      <td>True</td>\n",
       "    </tr>\n",
       "    <tr>\n",
       "      <th>4708</th>\n",
       "      <td>KIRP</td>\n",
       "      <td>CCNE1</td>\n",
       "      <td>chr19|CCNE1|+|30315134</td>\n",
       "      <td>30315134</td>\n",
       "      <td>+</td>\n",
       "      <td>30315119</td>\n",
       "      <td>21</td>\n",
       "      <td>108</td>\n",
       "      <td>7</td>\n",
       "      <td>127</td>\n",
       "      <td>0.004592</td>\n",
       "      <td>28</td>\n",
       "      <td>235</td>\n",
       "      <td>0.750000</td>\n",
       "      <td>0.459574</td>\n",
       "      <td>-0.290426</td>\n",
       "      <td>True</td>\n",
       "      <td>down</td>\n",
       "      <td>down</td>\n",
       "      <td>True</td>\n",
       "    </tr>\n",
       "    <tr>\n",
       "      <th>4709</th>\n",
       "      <td>KIRP</td>\n",
       "      <td>CCNE1</td>\n",
       "      <td>chr19|CCNE1|+|30315215</td>\n",
       "      <td>30315215</td>\n",
       "      <td>+</td>\n",
       "      <td>30315214</td>\n",
       "      <td>12</td>\n",
       "      <td>167</td>\n",
       "      <td>16</td>\n",
       "      <td>68</td>\n",
       "      <td>0.004500</td>\n",
       "      <td>28</td>\n",
       "      <td>235</td>\n",
       "      <td>0.428571</td>\n",
       "      <td>0.710638</td>\n",
       "      <td>0.282067</td>\n",
       "      <td>True</td>\n",
       "      <td>up</td>\n",
       "      <td>up</td>\n",
       "      <td>True</td>\n",
       "    </tr>\n",
       "  </tbody>\n",
       "</table>\n",
       "</div>"
      ],
      "text/plain": [
       "     disease gene_name                    mkid      mclv strand      aclv  N_on  T_on  N_off  T_off  fisher_exact_p  N_base  T_base  N_on_ratio  T_on_ratio  N2T_ratio_diff  diff_is_significant N2T_ratio_change N2T_ratio_change_sig  has_diff_aca\n",
       "4707  KIRP    CCNE1     chr19|CCNE1|+|30314898  30314898  +      30314918  4     37    24     198    1.000000        28      235     0.142857    0.157447    0.014590        False                up               None                 True        \n",
       "4708  KIRP    CCNE1     chr19|CCNE1|+|30315134  30315134  +      30315119  21    108   7      127    0.004592        28      235     0.750000    0.459574   -0.290426        True                 down             down                 True        \n",
       "4709  KIRP    CCNE1     chr19|CCNE1|+|30315215  30315215  +      30315214  12    167   16     68     0.004500        28      235     0.428571    0.710638    0.282067        True                 up               up                   True        "
      ]
     },
     "execution_count": 76,
     "metadata": {},
     "output_type": "execute_result"
    }
   ],
   "source": [
    "aca_df.query('gene_name == \"CCNE1\"').query('disease == \"KIRP\"').sort_values('mclv')"
   ]
  },
  {
   "cell_type": "code",
   "execution_count": 77,
   "metadata": {
    "collapsed": false,
    "scrolled": false
   },
   "outputs": [
    {
     "data": {
      "text/html": [
       "<div>\n",
       "<style>\n",
       "    .dataframe thead tr:only-child th {\n",
       "        text-align: right;\n",
       "    }\n",
       "\n",
       "    .dataframe thead th {\n",
       "        text-align: left;\n",
       "    }\n",
       "\n",
       "    .dataframe tbody tr th {\n",
       "        vertical-align: top;\n",
       "    }\n",
       "</style>\n",
       "<table border=\"1\" class=\"dataframe\">\n",
       "  <thead>\n",
       "    <tr style=\"text-align: right;\">\n",
       "      <th></th>\n",
       "      <th>106</th>\n",
       "      <th>1781</th>\n",
       "      <th>3295</th>\n",
       "      <th>3918</th>\n",
       "      <th>7823</th>\n",
       "      <th>8682</th>\n",
       "      <th>9889</th>\n",
       "      <th>10746</th>\n",
       "      <th>913</th>\n",
       "      <th>2505</th>\n",
       "      <th>4707</th>\n",
       "      <th>5410</th>\n",
       "      <th>6133</th>\n",
       "      <th>6994</th>\n",
       "    </tr>\n",
       "  </thead>\n",
       "  <tbody>\n",
       "    <tr>\n",
       "      <th>gene_name</th>\n",
       "      <td>CCNE1</td>\n",
       "      <td>CCNE1</td>\n",
       "      <td>CCNE1</td>\n",
       "      <td>CCNE1</td>\n",
       "      <td>CCNE1</td>\n",
       "      <td>CCNE1</td>\n",
       "      <td>CCNE1</td>\n",
       "      <td>CCNE1</td>\n",
       "      <td>CCNE1</td>\n",
       "      <td>CCNE1</td>\n",
       "      <td>CCNE1</td>\n",
       "      <td>CCNE1</td>\n",
       "      <td>CCNE1</td>\n",
       "      <td>CCNE1</td>\n",
       "    </tr>\n",
       "    <tr>\n",
       "      <th>has_diff_aca</th>\n",
       "      <td>False</td>\n",
       "      <td>False</td>\n",
       "      <td>False</td>\n",
       "      <td>False</td>\n",
       "      <td>False</td>\n",
       "      <td>False</td>\n",
       "      <td>False</td>\n",
       "      <td>False</td>\n",
       "      <td>True</td>\n",
       "      <td>True</td>\n",
       "      <td>True</td>\n",
       "      <td>True</td>\n",
       "      <td>True</td>\n",
       "      <td>True</td>\n",
       "    </tr>\n",
       "    <tr>\n",
       "      <th>disease</th>\n",
       "      <td>BLCA</td>\n",
       "      <td>COAD</td>\n",
       "      <td>KICH</td>\n",
       "      <td>KIRC</td>\n",
       "      <td>PRAD</td>\n",
       "      <td>STAD</td>\n",
       "      <td>THCA</td>\n",
       "      <td>UCEC</td>\n",
       "      <td>BRCA</td>\n",
       "      <td>HNSC</td>\n",
       "      <td>KIRP</td>\n",
       "      <td>LIHC</td>\n",
       "      <td>LUAD</td>\n",
       "      <td>LUSC</td>\n",
       "    </tr>\n",
       "  </tbody>\n",
       "</table>\n",
       "</div>"
      ],
      "text/plain": [
       "                106   1781   3295   3918   7823   8682   9889  10746    913   2505   4707   5410   6133   6994\n",
       "gene_name     CCNE1  CCNE1  CCNE1  CCNE1  CCNE1  CCNE1  CCNE1  CCNE1  CCNE1  CCNE1  CCNE1  CCNE1  CCNE1  CCNE1\n",
       "has_diff_aca  False  False  False  False  False  False  False  False  True   True   True   True   True   True \n",
       "disease       BLCA   COAD   KICH   KIRC   PRAD   STAD   THCA   UCEC   BRCA   HNSC   KIRP   LIHC   LUAD   LUSC "
      ]
     },
     "execution_count": 77,
     "metadata": {},
     "output_type": "execute_result"
    }
   ],
   "source": [
    "lean_aca_df.query('gene_name == \"CCNE1\"').sort_values('has_diff_aca').T"
   ]
  },
  {
   "cell_type": "code",
   "execution_count": 78,
   "metadata": {
    "collapsed": false
   },
   "outputs": [
    {
     "data": {
      "text/html": [
       "<div>\n",
       "<style>\n",
       "    .dataframe thead tr:only-child th {\n",
       "        text-align: right;\n",
       "    }\n",
       "\n",
       "    .dataframe thead th {\n",
       "        text-align: left;\n",
       "    }\n",
       "\n",
       "    .dataframe tbody tr th {\n",
       "        vertical-align: top;\n",
       "    }\n",
       "</style>\n",
       "<table border=\"1\" class=\"dataframe\">\n",
       "  <thead>\n",
       "    <tr style=\"text-align: right;\">\n",
       "      <th></th>\n",
       "      <th>682</th>\n",
       "      <th>1558</th>\n",
       "      <th>2290</th>\n",
       "      <th>3086</th>\n",
       "      <th>3731</th>\n",
       "      <th>5219</th>\n",
       "      <th>5924</th>\n",
       "      <th>6755</th>\n",
       "      <th>7603</th>\n",
       "      <th>8389</th>\n",
       "      <th>9594</th>\n",
       "      <th>10515</th>\n",
       "      <th>4494</th>\n",
       "      <th>11257</th>\n",
       "    </tr>\n",
       "  </thead>\n",
       "  <tbody>\n",
       "    <tr>\n",
       "      <th>gene_name</th>\n",
       "      <td>RNF43</td>\n",
       "      <td>RNF43</td>\n",
       "      <td>RNF43</td>\n",
       "      <td>RNF43</td>\n",
       "      <td>RNF43</td>\n",
       "      <td>RNF43</td>\n",
       "      <td>RNF43</td>\n",
       "      <td>RNF43</td>\n",
       "      <td>RNF43</td>\n",
       "      <td>RNF43</td>\n",
       "      <td>RNF43</td>\n",
       "      <td>RNF43</td>\n",
       "      <td>RNF43</td>\n",
       "      <td>RNF43</td>\n",
       "    </tr>\n",
       "    <tr>\n",
       "      <th>has_diff_aca</th>\n",
       "      <td>False</td>\n",
       "      <td>False</td>\n",
       "      <td>False</td>\n",
       "      <td>False</td>\n",
       "      <td>False</td>\n",
       "      <td>False</td>\n",
       "      <td>False</td>\n",
       "      <td>False</td>\n",
       "      <td>False</td>\n",
       "      <td>False</td>\n",
       "      <td>False</td>\n",
       "      <td>False</td>\n",
       "      <td>True</td>\n",
       "      <td>True</td>\n",
       "    </tr>\n",
       "    <tr>\n",
       "      <th>disease</th>\n",
       "      <td>BLCA</td>\n",
       "      <td>BRCA</td>\n",
       "      <td>COAD</td>\n",
       "      <td>HNSC</td>\n",
       "      <td>KICH</td>\n",
       "      <td>KIRP</td>\n",
       "      <td>LIHC</td>\n",
       "      <td>LUAD</td>\n",
       "      <td>LUSC</td>\n",
       "      <td>PRAD</td>\n",
       "      <td>STAD</td>\n",
       "      <td>THCA</td>\n",
       "      <td>KIRC</td>\n",
       "      <td>UCEC</td>\n",
       "    </tr>\n",
       "  </tbody>\n",
       "</table>\n",
       "</div>"
      ],
      "text/plain": [
       "                682   1558   2290   3086   3731   5219   5924   6755   7603   8389   9594  10515   4494  11257\n",
       "gene_name     RNF43  RNF43  RNF43  RNF43  RNF43  RNF43  RNF43  RNF43  RNF43  RNF43  RNF43  RNF43  RNF43  RNF43\n",
       "has_diff_aca  False  False  False  False  False  False  False  False  False  False  False  False  True   True \n",
       "disease       BLCA   BRCA   COAD   HNSC   KICH   KIRP   LIHC   LUAD   LUSC   PRAD   STAD   THCA   KIRC   UCEC "
      ]
     },
     "execution_count": 78,
     "metadata": {},
     "output_type": "execute_result"
    }
   ],
   "source": [
    "lean_aca_df.query('gene_name == \"RNF43\"').sort_values('has_diff_aca').T"
   ]
  },
  {
   "cell_type": "code",
   "execution_count": 79,
   "metadata": {
    "collapsed": false
   },
   "outputs": [
    {
     "data": {
      "text/html": [
       "<div>\n",
       "<style>\n",
       "    .dataframe thead tr:only-child th {\n",
       "        text-align: right;\n",
       "    }\n",
       "\n",
       "    .dataframe thead th {\n",
       "        text-align: left;\n",
       "    }\n",
       "\n",
       "    .dataframe tbody tr th {\n",
       "        vertical-align: top;\n",
       "    }\n",
       "</style>\n",
       "<table border=\"1\" class=\"dataframe\">\n",
       "  <thead>\n",
       "    <tr style=\"text-align: right;\">\n",
       "      <th></th>\n",
       "      <th>126</th>\n",
       "      <th>939</th>\n",
       "      <th>6157</th>\n",
       "      <th>7016</th>\n",
       "      <th>8708</th>\n",
       "      <th>10763</th>\n",
       "      <th>1795</th>\n",
       "      <th>2528</th>\n",
       "      <th>3308</th>\n",
       "      <th>3937</th>\n",
       "      <th>4724</th>\n",
       "      <th>5426</th>\n",
       "      <th>7847</th>\n",
       "      <th>9915</th>\n",
       "    </tr>\n",
       "  </thead>\n",
       "  <tbody>\n",
       "    <tr>\n",
       "      <th>gene_name</th>\n",
       "      <td>CDKN2A</td>\n",
       "      <td>CDKN2A</td>\n",
       "      <td>CDKN2A</td>\n",
       "      <td>CDKN2A</td>\n",
       "      <td>CDKN2A</td>\n",
       "      <td>CDKN2A</td>\n",
       "      <td>CDKN2A</td>\n",
       "      <td>CDKN2A</td>\n",
       "      <td>CDKN2A</td>\n",
       "      <td>CDKN2A</td>\n",
       "      <td>CDKN2A</td>\n",
       "      <td>CDKN2A</td>\n",
       "      <td>CDKN2A</td>\n",
       "      <td>CDKN2A</td>\n",
       "    </tr>\n",
       "    <tr>\n",
       "      <th>has_diff_aca</th>\n",
       "      <td>False</td>\n",
       "      <td>False</td>\n",
       "      <td>False</td>\n",
       "      <td>False</td>\n",
       "      <td>False</td>\n",
       "      <td>False</td>\n",
       "      <td>True</td>\n",
       "      <td>True</td>\n",
       "      <td>True</td>\n",
       "      <td>True</td>\n",
       "      <td>True</td>\n",
       "      <td>True</td>\n",
       "      <td>True</td>\n",
       "      <td>True</td>\n",
       "    </tr>\n",
       "    <tr>\n",
       "      <th>disease</th>\n",
       "      <td>BLCA</td>\n",
       "      <td>BRCA</td>\n",
       "      <td>LUAD</td>\n",
       "      <td>LUSC</td>\n",
       "      <td>STAD</td>\n",
       "      <td>UCEC</td>\n",
       "      <td>COAD</td>\n",
       "      <td>HNSC</td>\n",
       "      <td>KICH</td>\n",
       "      <td>KIRC</td>\n",
       "      <td>KIRP</td>\n",
       "      <td>LIHC</td>\n",
       "      <td>PRAD</td>\n",
       "      <td>THCA</td>\n",
       "    </tr>\n",
       "  </tbody>\n",
       "</table>\n",
       "</div>"
      ],
      "text/plain": [
       "                 126     939    6157    7016    8708   10763    1795    2528    3308    3937    4724    5426    7847    9915\n",
       "gene_name     CDKN2A  CDKN2A  CDKN2A  CDKN2A  CDKN2A  CDKN2A  CDKN2A  CDKN2A  CDKN2A  CDKN2A  CDKN2A  CDKN2A  CDKN2A  CDKN2A\n",
       "has_diff_aca  False   False   False   False   False   False   True    True    True    True    True    True    True    True  \n",
       "disease       BLCA    BRCA    LUAD    LUSC    STAD    UCEC    COAD    HNSC    KICH    KIRC    KIRP    LIHC    PRAD    THCA  "
      ]
     },
     "execution_count": 79,
     "metadata": {},
     "output_type": "execute_result"
    }
   ],
   "source": [
    "lean_aca_df.query('gene_name == \"CDKN2A\"').sort_values('has_diff_aca').T"
   ]
  },
  {
   "cell_type": "code",
   "execution_count": 80,
   "metadata": {
    "collapsed": false
   },
   "outputs": [
    {
     "data": {
      "text/html": [
       "<div>\n",
       "<style>\n",
       "    .dataframe thead tr:only-child th {\n",
       "        text-align: right;\n",
       "    }\n",
       "\n",
       "    .dataframe thead th {\n",
       "        text-align: left;\n",
       "    }\n",
       "\n",
       "    .dataframe tbody tr th {\n",
       "        vertical-align: top;\n",
       "    }\n",
       "</style>\n",
       "<table border=\"1\" class=\"dataframe\">\n",
       "  <thead>\n",
       "    <tr style=\"text-align: right;\">\n",
       "      <th></th>\n",
       "      <th>232</th>\n",
       "      <th>1893</th>\n",
       "      <th>2640</th>\n",
       "      <th>3388</th>\n",
       "      <th>7130</th>\n",
       "      <th>8889</th>\n",
       "      <th>10853</th>\n",
       "      <th>1046</th>\n",
       "      <th>4042</th>\n",
       "      <th>4819</th>\n",
       "      <th>5518</th>\n",
       "      <th>6273</th>\n",
       "      <th>7954</th>\n",
       "      <th>10026</th>\n",
       "    </tr>\n",
       "  </thead>\n",
       "  <tbody>\n",
       "    <tr>\n",
       "      <th>gene_name</th>\n",
       "      <td>EZH2</td>\n",
       "      <td>EZH2</td>\n",
       "      <td>EZH2</td>\n",
       "      <td>EZH2</td>\n",
       "      <td>EZH2</td>\n",
       "      <td>EZH2</td>\n",
       "      <td>EZH2</td>\n",
       "      <td>EZH2</td>\n",
       "      <td>EZH2</td>\n",
       "      <td>EZH2</td>\n",
       "      <td>EZH2</td>\n",
       "      <td>EZH2</td>\n",
       "      <td>EZH2</td>\n",
       "      <td>EZH2</td>\n",
       "    </tr>\n",
       "    <tr>\n",
       "      <th>has_diff_aca</th>\n",
       "      <td>False</td>\n",
       "      <td>False</td>\n",
       "      <td>False</td>\n",
       "      <td>False</td>\n",
       "      <td>False</td>\n",
       "      <td>False</td>\n",
       "      <td>False</td>\n",
       "      <td>True</td>\n",
       "      <td>True</td>\n",
       "      <td>True</td>\n",
       "      <td>True</td>\n",
       "      <td>True</td>\n",
       "      <td>True</td>\n",
       "      <td>True</td>\n",
       "    </tr>\n",
       "    <tr>\n",
       "      <th>disease</th>\n",
       "      <td>BLCA</td>\n",
       "      <td>COAD</td>\n",
       "      <td>HNSC</td>\n",
       "      <td>KICH</td>\n",
       "      <td>LUSC</td>\n",
       "      <td>STAD</td>\n",
       "      <td>UCEC</td>\n",
       "      <td>BRCA</td>\n",
       "      <td>KIRC</td>\n",
       "      <td>KIRP</td>\n",
       "      <td>LIHC</td>\n",
       "      <td>LUAD</td>\n",
       "      <td>PRAD</td>\n",
       "      <td>THCA</td>\n",
       "    </tr>\n",
       "  </tbody>\n",
       "</table>\n",
       "</div>"
      ],
      "text/plain": [
       "                232   1893   2640   3388   7130   8889  10853  1046  4042  4819  5518  6273  7954 10026\n",
       "gene_name     EZH2   EZH2   EZH2   EZH2   EZH2   EZH2   EZH2   EZH2  EZH2  EZH2  EZH2  EZH2  EZH2  EZH2\n",
       "has_diff_aca  False  False  False  False  False  False  False  True  True  True  True  True  True  True\n",
       "disease       BLCA   COAD   HNSC   KICH   LUSC   STAD   UCEC   BRCA  KIRC  KIRP  LIHC  LUAD  PRAD  THCA"
      ]
     },
     "execution_count": 80,
     "metadata": {},
     "output_type": "execute_result"
    }
   ],
   "source": [
    "lean_aca_df.query('gene_name == \"EZH2\"').sort_values('has_diff_aca').T"
   ]
  },
  {
   "cell_type": "code",
   "execution_count": null,
   "metadata": {
    "collapsed": true
   },
   "outputs": [],
   "source": []
  },
  {
   "cell_type": "code",
   "execution_count": null,
   "metadata": {
    "collapsed": true
   },
   "outputs": [],
   "source": []
  },
  {
   "cell_type": "markdown",
   "metadata": {},
   "source": [
    "# Add stop codon info to aca_df"
   ]
  },
  {
   "cell_type": "code",
   "execution_count": 81,
   "metadata": {
    "collapsed": false
   },
   "outputs": [],
   "source": [
    "# clv_sc_df = pd.read_csv('/projects/btl/zxue/tasrkleat-TCGA-results/hexamer-patch/extracted-annotated-clv-sc-mapping-window-20bp-PC-NMD-v4.csv')\n",
    "clv_sc_df = pd.read_csv('./reference_data/annotated-clv-sc-mapping.csv.gz', compression='gzip')\n",
    "# 642 => 632: removed transcripts from ['HG122_PATCH', 'HG1257_PATCH']\n",
    "assert clv_sc_df.shape[0] == 632"
   ]
  },
  {
   "cell_type": "code",
   "execution_count": 82,
   "metadata": {
    "collapsed": false
   },
   "outputs": [],
   "source": [
    "aca_genes_df = clv_sc_df.query('gene_name in {0}'.format(aca_df.query('has_diff_aca == True').gene_name.unique().tolist()))\n",
    "num_sc_df = aca_genes_df.groupby('gene_name').apply(lambda g: g.sc.unique().shape[0])"
   ]
  },
  {
   "cell_type": "code",
   "execution_count": 83,
   "metadata": {
    "collapsed": false
   },
   "outputs": [
    {
     "data": {
      "text/plain": [
       "28"
      ]
     },
     "execution_count": 83,
     "metadata": {},
     "output_type": "execute_result"
    }
   ],
   "source": [
    "num_sc_df[num_sc_df > 1].shape[0]"
   ]
  },
  {
   "cell_type": "code",
   "execution_count": 84,
   "metadata": {
    "collapsed": false
   },
   "outputs": [
    {
     "data": {
      "text/plain": [
       "0.8484848484848485"
      ]
     },
     "execution_count": 84,
     "metadata": {},
     "output_type": "execute_result"
    }
   ],
   "source": [
    "num_sc_df[num_sc_df > 1].shape[0] / num_sc_df.shape[0]"
   ]
  },
  {
   "cell_type": "code",
   "execution_count": null,
   "metadata": {
    "collapsed": true
   },
   "outputs": [],
   "source": []
  },
  {
   "cell_type": "code",
   "execution_count": 85,
   "metadata": {
    "collapsed": false
   },
   "outputs": [],
   "source": [
    "clv_sc_df.drop(['transcript_id', 'clv'], axis=1, inplace=True)\n",
    "clv_sc_df.drop_duplicates(inplace=True)\n",
    "clv_sc_df.reset_index(drop=True, inplace=True)"
   ]
  },
  {
   "cell_type": "code",
   "execution_count": 86,
   "metadata": {
    "collapsed": false
   },
   "outputs": [],
   "source": [
    "# window = 15 bp\n",
    "assert clv_sc_df.shape[0] == 561"
   ]
  },
  {
   "cell_type": "code",
   "execution_count": 87,
   "metadata": {
    "collapsed": false
   },
   "outputs": [
    {
     "data": {
      "text/html": [
       "<div>\n",
       "<style>\n",
       "    .dataframe thead tr:only-child th {\n",
       "        text-align: right;\n",
       "    }\n",
       "\n",
       "    .dataframe thead th {\n",
       "        text-align: left;\n",
       "    }\n",
       "\n",
       "    .dataframe tbody tr th {\n",
       "        vertical-align: top;\n",
       "    }\n",
       "</style>\n",
       "<table border=\"1\" class=\"dataframe\">\n",
       "  <thead>\n",
       "    <tr style=\"text-align: right;\">\n",
       "      <th></th>\n",
       "      <th>gene_name</th>\n",
       "      <th>seqname</th>\n",
       "      <th>source</th>\n",
       "      <th>sc</th>\n",
       "      <th>strand</th>\n",
       "      <th>gene_source</th>\n",
       "      <th>transcript_source</th>\n",
       "      <th>is_cds_end_NF</th>\n",
       "      <th>is_cds_start_NF</th>\n",
       "      <th>utr_beg</th>\n",
       "      <th>cluster_idx</th>\n",
       "      <th>aclv</th>\n",
       "      <th>clv0</th>\n",
       "      <th>hexamer</th>\n",
       "      <th>hexamer_id</th>\n",
       "      <th>hexamer_loc0</th>\n",
       "      <th>hexamer_loc</th>\n",
       "      <th>sdist_aclv2ahex</th>\n",
       "    </tr>\n",
       "  </thead>\n",
       "  <tbody>\n",
       "    <tr>\n",
       "      <th>0</th>\n",
       "      <td>ABL1</td>\n",
       "      <td>9</td>\n",
       "      <td>protein_coding</td>\n",
       "      <td>133761070</td>\n",
       "      <td>+</td>\n",
       "      <td>ensembl_havana</td>\n",
       "      <td>ensembl_havana</td>\n",
       "      <td>False</td>\n",
       "      <td>False</td>\n",
       "      <td>133761071</td>\n",
       "      <td>1</td>\n",
       "      <td>133763062</td>\n",
       "      <td>133763061</td>\n",
       "      <td>AATAAA</td>\n",
       "      <td>1</td>\n",
       "      <td>133763038</td>\n",
       "      <td>133763039</td>\n",
       "      <td>23.0</td>\n",
       "    </tr>\n",
       "  </tbody>\n",
       "</table>\n",
       "</div>"
      ],
      "text/plain": [
       "  gene_name seqname          source         sc strand     gene_source transcript_source  is_cds_end_NF  is_cds_start_NF    utr_beg  cluster_idx       aclv       clv0 hexamer  hexamer_id  hexamer_loc0  hexamer_loc  sdist_aclv2ahex\n",
       "0  ABL1      9       protein_coding  133761070  +      ensembl_havana  ensembl_havana    False          False            133761071  1            133763062  133763061  AATAAA  1           133763038     133763039    23.0           "
      ]
     },
     "execution_count": 87,
     "metadata": {},
     "output_type": "execute_result"
    }
   ],
   "source": [
    "clv_sc_df.head(1)"
   ]
  },
  {
   "cell_type": "code",
   "execution_count": 90,
   "metadata": {
    "collapsed": false
   },
   "outputs": [
    {
     "data": {
      "text/plain": [
       "protein_coding             457\n",
       "nonsense_mediated_decay    104\n",
       "Name: source, dtype: int64"
      ]
     },
     "execution_count": 90,
     "metadata": {},
     "output_type": "execute_result"
    }
   ],
   "source": [
    "clv_sc_df.source.value_counts()"
   ]
  },
  {
   "cell_type": "code",
   "execution_count": 91,
   "metadata": {
    "collapsed": true
   },
   "outputs": [],
   "source": [
    "assert clv_sc_df.gene_name.unique().shape[0] == 114"
   ]
  },
  {
   "cell_type": "code",
   "execution_count": 92,
   "metadata": {
    "collapsed": true
   },
   "outputs": [],
   "source": [
    "# ANNOT_GENE2CLV_DD = clv_sc_df.groupby(['gene_name']).apply(lambda g: g.aclv.unique())\n",
    "ANNOT_CLV2SC_DD = clv_sc_df.groupby(['gene_name', 'aclv']).apply(\n",
    "    lambda g: np.sort(g.sc.unique())).to_dict()\n",
    "ANNOT_CLV2SRC_DD = clv_sc_df.groupby(['gene_name', 'aclv']).apply(\n",
    "    lambda g: np.sort(g.source.unique())).to_dict()\n",
    "\n",
    "# def map_mclv2aclv(row):\n",
    "#     \"\"\"map KLEAT predicted clv to a closest annotated clv\"\"\"\n",
    "#     gene = row.gene_name\n",
    "#     mclv = row['mclv']\n",
    "#     poss_aclvs = ANNOT_GENE2CLV_DD[gene]\n",
    "#     return poss_aclvs[np.argmin(np.abs(poss_aclvs - mclv))]\n",
    "# cdf['aclv2'] = cdf.apply(map_mclv2aclv, axis=1)\n",
    "# cdf['dist_mclv2aclv'] = np.abs(cdf['mclv'].values - cdf['aclv'].values)\n",
    "\n",
    "def map_aclv2sc(row):\n",
    "    \"\"\"with aclv assigned, now add the corresponding annotated stop codon information\"\"\"\n",
    "    # ('gene_name', 'aclv') acts like a shorter kid (skid)\n",
    "    skid = (row.gene_name, row.aclv)\n",
    "    scs = ANNOT_CLV2SC_DD[skid]\n",
    "    return tuple(scs.tolist())\n",
    "\n",
    "def map_aclv2src(row):\n",
    "    \"\"\"with aclv assigned, now add the corresponding annotated stop codon information\"\"\"\n",
    "    # ('gene_name', 'aclv') acts like a shorter kid (skid)\n",
    "    skid = (row.gene_name, row.aclv)\n",
    "    srcs = ANNOT_CLV2SRC_DD[skid]\n",
    "    return tuple(srcs.tolist())"
   ]
  },
  {
   "cell_type": "code",
   "execution_count": 93,
   "metadata": {
    "collapsed": false
   },
   "outputs": [
    {
     "data": {
      "text/html": [
       "<div>\n",
       "<style>\n",
       "    .dataframe thead tr:only-child th {\n",
       "        text-align: right;\n",
       "    }\n",
       "\n",
       "    .dataframe thead th {\n",
       "        text-align: left;\n",
       "    }\n",
       "\n",
       "    .dataframe tbody tr th {\n",
       "        vertical-align: top;\n",
       "    }\n",
       "</style>\n",
       "<table border=\"1\" class=\"dataframe\">\n",
       "  <thead>\n",
       "    <tr style=\"text-align: right;\">\n",
       "      <th></th>\n",
       "      <th>disease</th>\n",
       "      <th>gene_name</th>\n",
       "      <th>mkid</th>\n",
       "      <th>mclv</th>\n",
       "      <th>strand</th>\n",
       "      <th>aclv</th>\n",
       "      <th>N_on</th>\n",
       "      <th>T_on</th>\n",
       "      <th>N_off</th>\n",
       "      <th>T_off</th>\n",
       "      <th>fisher_exact_p</th>\n",
       "      <th>N_base</th>\n",
       "      <th>T_base</th>\n",
       "      <th>N_on_ratio</th>\n",
       "      <th>T_on_ratio</th>\n",
       "      <th>N2T_ratio_diff</th>\n",
       "      <th>diff_is_significant</th>\n",
       "      <th>N2T_ratio_change</th>\n",
       "      <th>N2T_ratio_change_sig</th>\n",
       "      <th>has_diff_aca</th>\n",
       "    </tr>\n",
       "  </thead>\n",
       "  <tbody>\n",
       "    <tr>\n",
       "      <th>0</th>\n",
       "      <td>BLCA</td>\n",
       "      <td>ABL1</td>\n",
       "      <td>chr9|ABL1|+|133589972</td>\n",
       "      <td>133589972</td>\n",
       "      <td>+</td>\n",
       "      <td>133763062</td>\n",
       "      <td>1</td>\n",
       "      <td>23</td>\n",
       "      <td>18</td>\n",
       "      <td>382</td>\n",
       "      <td>1.0</td>\n",
       "      <td>19</td>\n",
       "      <td>405</td>\n",
       "      <td>0.052632</td>\n",
       "      <td>0.05679</td>\n",
       "      <td>0.004159</td>\n",
       "      <td>False</td>\n",
       "      <td>up</td>\n",
       "      <td>None</td>\n",
       "      <td>False</td>\n",
       "    </tr>\n",
       "  </tbody>\n",
       "</table>\n",
       "</div>"
      ],
      "text/plain": [
       "  disease gene_name                   mkid       mclv strand       aclv  N_on  T_on  N_off  T_off  fisher_exact_p  N_base  T_base  N_on_ratio  T_on_ratio  N2T_ratio_diff  diff_is_significant N2T_ratio_change N2T_ratio_change_sig  has_diff_aca\n",
       "0  BLCA    ABL1      chr9|ABL1|+|133589972  133589972  +      133763062  1     23    18     382    1.0             19      405     0.052632    0.05679     0.004159        False                up               None                 False       "
      ]
     },
     "execution_count": 93,
     "metadata": {},
     "output_type": "execute_result"
    }
   ],
   "source": [
    "aca_df.head(1)"
   ]
  },
  {
   "cell_type": "code",
   "execution_count": 94,
   "metadata": {
    "collapsed": false
   },
   "outputs": [],
   "source": [
    "aca_with_sc_df = aca_df.copy()\n",
    "# sc: stop codons\n",
    "aca_with_sc_df['sc_list'] = aca_with_sc_df[['gene_name', 'aclv']].apply(map_aclv2sc, axis=1)\n",
    "aca_with_sc_df['src_list'] = aca_with_sc_df[['gene_name', 'aclv']].apply(map_aclv2src, axis=1)\n",
    "aca_with_sc_df['num_sc'] = aca_with_sc_df['sc_list'].apply(len)\n",
    "\n",
    "aca_with_sc_df['sc_list'] = aca_with_sc_df.sc_list.apply(lambda v: ', '.join(map(str, v)))\n",
    "aca_with_sc_df['src_list'] = aca_with_sc_df.src_list.apply(lambda v: ', '.join(map(str, v)))\n",
    "\n",
    "aca_with_sc_df.query('gene_name == \"FGF2\"').mclv.sort_values().unique()\n",
    "\n",
    "aca_with_sc_df.query('gene_name == \"FGF2\"').aclv.sort_values().unique()\n",
    "\n",
    "aca_with_sc_df.head(1)\n",
    "\n",
    "aca_with_sc_df.to_csv('./results/aca_pval_with_sc_info.csv', index=False)"
   ]
  },
  {
   "cell_type": "code",
   "execution_count": 95,
   "metadata": {
    "collapsed": false
   },
   "outputs": [
    {
     "data": {
      "text/plain": [
       "33"
      ]
     },
     "execution_count": 95,
     "metadata": {},
     "output_type": "execute_result"
    }
   ],
   "source": [
    "_df = aca_with_sc_df.query('has_diff_aca')[['mkid', 'mclv', 'num_sc']].drop_duplicates()\n",
    "_df.query('num_sc > 1').shape[0]"
   ]
  },
  {
   "cell_type": "code",
   "execution_count": 96,
   "metadata": {
    "collapsed": false
   },
   "outputs": [
    {
     "data": {
      "text/plain": [
       "297"
      ]
     },
     "execution_count": 96,
     "metadata": {},
     "output_type": "execute_result"
    }
   ],
   "source": [
    "_df.shape[0]"
   ]
  },
  {
   "cell_type": "code",
   "execution_count": 97,
   "metadata": {
    "collapsed": false
   },
   "outputs": [
    {
     "data": {
      "text/plain": [
       "0.1111111111111111"
      ]
     },
     "execution_count": 97,
     "metadata": {},
     "output_type": "execute_result"
    }
   ],
   "source": [
    "33 / 297"
   ]
  },
  {
   "cell_type": "markdown",
   "metadata": {},
   "source": [
    "So 11% of the predicted CSs in 33 genes are mapped to more than one stop codons"
   ]
  },
  {
   "cell_type": "code",
   "execution_count": 98,
   "metadata": {
    "collapsed": true
   },
   "outputs": [],
   "source": [
    "_df = aca_with_sc_df.query('has_diff_aca')"
   ]
  },
  {
   "cell_type": "code",
   "execution_count": 99,
   "metadata": {
    "collapsed": false
   },
   "outputs": [],
   "source": [
    "_sr = _df.groupby('gene_name').apply(\n",
    "    lambda g: g.src_list.str.contains('nonsense_mediated_decay').any())"
   ]
  },
  {
   "cell_type": "code",
   "execution_count": 100,
   "metadata": {
    "collapsed": false
   },
   "outputs": [
    {
     "data": {
      "text/plain": [
       "16"
      ]
     },
     "execution_count": 100,
     "metadata": {},
     "output_type": "execute_result"
    }
   ],
   "source": [
    "_sr[_sr].shape[0]"
   ]
  },
  {
   "cell_type": "code",
   "execution_count": 101,
   "metadata": {
    "collapsed": false
   },
   "outputs": [
    {
     "data": {
      "text/plain": [
       "0.48484848484848486"
      ]
     },
     "execution_count": 101,
     "metadata": {},
     "output_type": "execute_result"
    }
   ],
   "source": [
    "16 / 33."
   ]
  },
  {
   "cell_type": "markdown",
   "metadata": {},
   "source": [
    "So about half of the reported genes have stop codons involved in NMD"
   ]
  },
  {
   "cell_type": "code",
   "execution_count": null,
   "metadata": {
    "collapsed": true
   },
   "outputs": [],
   "source": []
  },
  {
   "cell_type": "markdown",
   "metadata": {},
   "source": [
    "# Multi-trend gene search"
   ]
  },
  {
   "cell_type": "code",
   "execution_count": 102,
   "metadata": {
    "collapsed": true
   },
   "outputs": [],
   "source": [
    "comp_between_pairs = lambda row: row.dropna().unique().shape[0] > 1\n",
    "\n",
    "# if there is at least one cleavage site that shifts differently and significantly between any pair of cancer types,\n",
    "# then it counts as having multiple shift patterns\n",
    "def has_multi_trends(grp):\n",
    "#     print(grp[['disease', 'gene_name']]).drop_duplicates().values\n",
    "    # check if a gene show different types of significant freq shift trends in different cancer types\n",
    "    change_df = grp.pivot(index='mclv', columns='disease', values='N2T_ratio_change_sig')\n",
    "    \n",
    "    # if a change is not significant for a mclv site in one sstype, then don't use it for comparison at all\n",
    "    diff = change_df.apply(comp_between_pairs, axis=1)\n",
    "    return diff.values.any()"
   ]
  },
  {
   "cell_type": "code",
   "execution_count": 103,
   "metadata": {
    "collapsed": false
   },
   "outputs": [
    {
     "data": {
      "text/plain": [
       "Index(['disease', 'gene_name', 'mkid', 'mclv', 'strand', 'aclv', 'N_on', 'T_on', 'N_off', 'T_off', 'fisher_exact_p', 'N_base', 'T_base', 'N_on_ratio', 'T_on_ratio', 'N2T_ratio_diff', 'diff_is_significant', 'N2T_ratio_change', 'N2T_ratio_change_sig', 'has_diff_aca'], dtype='object')"
      ]
     },
     "execution_count": 103,
     "metadata": {},
     "output_type": "execute_result"
    }
   ],
   "source": [
    "aca_df.columns"
   ]
  },
  {
   "cell_type": "code",
   "execution_count": 104,
   "metadata": {
    "collapsed": false
   },
   "outputs": [],
   "source": [
    "# mt: multi-trend\n",
    "mt_df = aca_with_sc_df\\\n",
    "    .query('has_diff_aca == True')\\\n",
    "    .groupby('gene_name')\\\n",
    "    .apply(has_multi_trends)\\\n",
    "    .to_frame(name='has_mt')"
   ]
  },
  {
   "cell_type": "code",
   "execution_count": 105,
   "metadata": {
    "collapsed": false
   },
   "outputs": [
    {
     "data": {
      "text/html": [
       "<div>\n",
       "<style>\n",
       "    .dataframe thead tr:only-child th {\n",
       "        text-align: right;\n",
       "    }\n",
       "\n",
       "    .dataframe thead th {\n",
       "        text-align: left;\n",
       "    }\n",
       "\n",
       "    .dataframe tbody tr th {\n",
       "        vertical-align: top;\n",
       "    }\n",
       "</style>\n",
       "<table border=\"1\" class=\"dataframe\">\n",
       "  <thead>\n",
       "    <tr style=\"text-align: right;\">\n",
       "      <th>gene_name</th>\n",
       "      <th>CDKN2A</th>\n",
       "      <th>FLT3</th>\n",
       "      <th>HNF1A</th>\n",
       "      <th>NFE2L2</th>\n",
       "      <th>RNF43</th>\n",
       "      <th>WT1</th>\n",
       "    </tr>\n",
       "  </thead>\n",
       "  <tbody>\n",
       "    <tr>\n",
       "      <th>has_mt</th>\n",
       "      <td>True</td>\n",
       "      <td>True</td>\n",
       "      <td>True</td>\n",
       "      <td>True</td>\n",
       "      <td>True</td>\n",
       "      <td>True</td>\n",
       "    </tr>\n",
       "  </tbody>\n",
       "</table>\n",
       "</div>"
      ],
      "text/plain": [
       "gene_name  CDKN2A  FLT3  HNF1A  NFE2L2  RNF43   WT1\n",
       "has_mt     True    True  True   True    True   True"
      ]
     },
     "execution_count": 105,
     "metadata": {},
     "output_type": "execute_result"
    }
   ],
   "source": [
    "mt_df.query('has_mt == True').T"
   ]
  }
 ],
 "metadata": {
  "anaconda-cloud": {},
  "kernelspec": {
   "display_name": "Python [default]",
   "language": "python",
   "name": "python3"
  },
  "language_info": {
   "codemirror_mode": {
    "name": "ipython",
    "version": 3
   },
   "file_extension": ".py",
   "mimetype": "text/x-python",
   "name": "python",
   "nbconvert_exporter": "python",
   "pygments_lexer": "ipython3",
   "version": "3.5.3"
  }
 },
 "nbformat": 4,
 "nbformat_minor": 1
}
