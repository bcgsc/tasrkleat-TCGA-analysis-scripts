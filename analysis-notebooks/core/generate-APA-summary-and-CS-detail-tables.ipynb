{
 "cells": [
  {
   "cell_type": "code",
   "execution_count": 1,
   "metadata": {
    "collapsed": false
   },
   "outputs": [],
   "source": [
    "import sys\n",
    "sys.path.insert(0, '..')\n",
    "from eda_import import *"
   ]
  },
  {
   "cell_type": "code",
   "execution_count": 2,
   "metadata": {
    "collapsed": false
   },
   "outputs": [
    {
     "name": "stdout",
     "output_type": "stream",
     "text": [
      "CPU times: user 59.4 ms, sys: 15.9 ms, total: 75.3 ms\n",
      "Wall time: 73.3 ms\n"
     ]
    }
   ],
   "source": [
    "%time adf = pd.read_csv('../__results/aca_pval_with_sc_info.csv')\n",
    "bdf = adf.query('has_diff_aca == True').copy()"
   ]
  },
  {
   "cell_type": "code",
   "execution_count": 3,
   "metadata": {
    "collapsed": false
   },
   "outputs": [
    {
     "data": {
      "text/html": [
       "<div>\n",
       "<style>\n",
       "    .dataframe thead tr:only-child th {\n",
       "        text-align: right;\n",
       "    }\n",
       "\n",
       "    .dataframe thead th {\n",
       "        text-align: left;\n",
       "    }\n",
       "\n",
       "    .dataframe tbody tr th {\n",
       "        vertical-align: top;\n",
       "    }\n",
       "</style>\n",
       "<table border=\"1\" class=\"dataframe\">\n",
       "  <thead>\n",
       "    <tr style=\"text-align: right;\">\n",
       "      <th></th>\n",
       "      <th>disease</th>\n",
       "      <th>gene_name</th>\n",
       "      <th>mkid</th>\n",
       "      <th>mclv</th>\n",
       "      <th>strand</th>\n",
       "      <th>aclv</th>\n",
       "      <th>N_on</th>\n",
       "      <th>T_on</th>\n",
       "      <th>N_off</th>\n",
       "      <th>T_off</th>\n",
       "      <th>fisher_exact_p</th>\n",
       "      <th>N_base</th>\n",
       "      <th>T_base</th>\n",
       "      <th>N_on_ratio</th>\n",
       "      <th>T_on_ratio</th>\n",
       "      <th>N2T_ratio_diff</th>\n",
       "      <th>diff_is_significant</th>\n",
       "      <th>N2T_ratio_change</th>\n",
       "      <th>N2T_ratio_change_sig</th>\n",
       "      <th>has_diff_aca</th>\n",
       "      <th>sc_list</th>\n",
       "      <th>src_list</th>\n",
       "      <th>num_sc</th>\n",
       "    </tr>\n",
       "  </thead>\n",
       "  <tbody>\n",
       "    <tr>\n",
       "      <th>74</th>\n",
       "      <td>BLCA</td>\n",
       "      <td>BRCA1</td>\n",
       "      <td>chr17|BRCA1|-|41196318</td>\n",
       "      <td>41196318</td>\n",
       "      <td>-</td>\n",
       "      <td>41196313</td>\n",
       "      <td>13</td>\n",
       "      <td>401</td>\n",
       "      <td>6</td>\n",
       "      <td>13</td>\n",
       "      <td>0.000059</td>\n",
       "      <td>19</td>\n",
       "      <td>414</td>\n",
       "      <td>0.684211</td>\n",
       "      <td>0.968599</td>\n",
       "      <td>0.284389</td>\n",
       "      <td>True</td>\n",
       "      <td>up</td>\n",
       "      <td>up</td>\n",
       "      <td>True</td>\n",
       "      <td>41197695</td>\n",
       "      <td>protein_coding</td>\n",
       "      <td>1</td>\n",
       "    </tr>\n",
       "    <tr>\n",
       "      <th>75</th>\n",
       "      <td>BLCA</td>\n",
       "      <td>BRCA1</td>\n",
       "      <td>chr17|BRCA1|-|41196822</td>\n",
       "      <td>41196822</td>\n",
       "      <td>-</td>\n",
       "      <td>41196822</td>\n",
       "      <td>15</td>\n",
       "      <td>323</td>\n",
       "      <td>4</td>\n",
       "      <td>91</td>\n",
       "      <td>1.000000</td>\n",
       "      <td>19</td>\n",
       "      <td>414</td>\n",
       "      <td>0.789474</td>\n",
       "      <td>0.780193</td>\n",
       "      <td>-0.009280</td>\n",
       "      <td>False</td>\n",
       "      <td>down</td>\n",
       "      <td>NaN</td>\n",
       "      <td>True</td>\n",
       "      <td>41197801</td>\n",
       "      <td>protein_coding</td>\n",
       "      <td>1</td>\n",
       "    </tr>\n",
       "  </tbody>\n",
       "</table>\n",
       "</div>"
      ],
      "text/plain": [
       "   disease gene_name                    mkid      mclv strand      aclv  N_on  T_on  N_off  T_off  fisher_exact_p  N_base  T_base  N_on_ratio  T_on_ratio  N2T_ratio_diff  diff_is_significant N2T_ratio_change N2T_ratio_change_sig  has_diff_aca   sc_list        src_list  num_sc\n",
       "74  BLCA    BRCA1     chr17|BRCA1|-|41196318  41196318  -      41196313  13    401   6      13     0.000059        19      414     0.684211    0.968599    0.284389        True                 up               up                   True          41197695  protein_coding  1     \n",
       "75  BLCA    BRCA1     chr17|BRCA1|-|41196822  41196822  -      41196822  15    323   4      91     1.000000        19      414     0.789474    0.780193   -0.009280        False                down             NaN                  True          41197801  protein_coding  1     "
      ]
     },
     "execution_count": 3,
     "metadata": {},
     "output_type": "execute_result"
    }
   ],
   "source": [
    "bdf.head(2)"
   ]
  },
  {
   "cell_type": "code",
   "execution_count": 4,
   "metadata": {
    "collapsed": true
   },
   "outputs": [],
   "source": [
    "bdf['chr'] = bdf.mkid.apply(lambda x: x.split('|')[0])"
   ]
  },
  {
   "cell_type": "code",
   "execution_count": 5,
   "metadata": {
    "collapsed": false
   },
   "outputs": [
    {
     "data": {
      "text/html": [
       "<div>\n",
       "<style>\n",
       "    .dataframe thead tr:only-child th {\n",
       "        text-align: right;\n",
       "    }\n",
       "\n",
       "    .dataframe thead th {\n",
       "        text-align: left;\n",
       "    }\n",
       "\n",
       "    .dataframe tbody tr th {\n",
       "        vertical-align: top;\n",
       "    }\n",
       "</style>\n",
       "<table border=\"1\" class=\"dataframe\">\n",
       "  <thead>\n",
       "    <tr style=\"text-align: right;\">\n",
       "      <th></th>\n",
       "      <th>disease</th>\n",
       "      <th>gene_name</th>\n",
       "      <th>mkid</th>\n",
       "      <th>mclv</th>\n",
       "      <th>strand</th>\n",
       "      <th>aclv</th>\n",
       "      <th>N_on</th>\n",
       "      <th>T_on</th>\n",
       "      <th>N_off</th>\n",
       "      <th>T_off</th>\n",
       "      <th>fisher_exact_p</th>\n",
       "      <th>N_base</th>\n",
       "      <th>T_base</th>\n",
       "      <th>N_on_ratio</th>\n",
       "      <th>T_on_ratio</th>\n",
       "      <th>N2T_ratio_diff</th>\n",
       "      <th>diff_is_significant</th>\n",
       "      <th>N2T_ratio_change</th>\n",
       "      <th>N2T_ratio_change_sig</th>\n",
       "      <th>has_diff_aca</th>\n",
       "      <th>sc_list</th>\n",
       "      <th>src_list</th>\n",
       "      <th>num_sc</th>\n",
       "      <th>chr</th>\n",
       "    </tr>\n",
       "  </thead>\n",
       "  <tbody>\n",
       "    <tr>\n",
       "      <th>74</th>\n",
       "      <td>BLCA</td>\n",
       "      <td>BRCA1</td>\n",
       "      <td>chr17|BRCA1|-|41196318</td>\n",
       "      <td>41196318</td>\n",
       "      <td>-</td>\n",
       "      <td>41196313</td>\n",
       "      <td>13</td>\n",
       "      <td>401</td>\n",
       "      <td>6</td>\n",
       "      <td>13</td>\n",
       "      <td>0.000059</td>\n",
       "      <td>19</td>\n",
       "      <td>414</td>\n",
       "      <td>0.684211</td>\n",
       "      <td>0.968599</td>\n",
       "      <td>0.284389</td>\n",
       "      <td>True</td>\n",
       "      <td>up</td>\n",
       "      <td>up</td>\n",
       "      <td>True</td>\n",
       "      <td>41197695</td>\n",
       "      <td>protein_coding</td>\n",
       "      <td>1</td>\n",
       "      <td>chr17</td>\n",
       "    </tr>\n",
       "    <tr>\n",
       "      <th>75</th>\n",
       "      <td>BLCA</td>\n",
       "      <td>BRCA1</td>\n",
       "      <td>chr17|BRCA1|-|41196822</td>\n",
       "      <td>41196822</td>\n",
       "      <td>-</td>\n",
       "      <td>41196822</td>\n",
       "      <td>15</td>\n",
       "      <td>323</td>\n",
       "      <td>4</td>\n",
       "      <td>91</td>\n",
       "      <td>1.000000</td>\n",
       "      <td>19</td>\n",
       "      <td>414</td>\n",
       "      <td>0.789474</td>\n",
       "      <td>0.780193</td>\n",
       "      <td>-0.009280</td>\n",
       "      <td>False</td>\n",
       "      <td>down</td>\n",
       "      <td>NaN</td>\n",
       "      <td>True</td>\n",
       "      <td>41197801</td>\n",
       "      <td>protein_coding</td>\n",
       "      <td>1</td>\n",
       "      <td>chr17</td>\n",
       "    </tr>\n",
       "  </tbody>\n",
       "</table>\n",
       "</div>"
      ],
      "text/plain": [
       "   disease gene_name                    mkid      mclv strand      aclv  N_on  T_on  N_off  T_off  fisher_exact_p  N_base  T_base  N_on_ratio  T_on_ratio  N2T_ratio_diff  diff_is_significant N2T_ratio_change N2T_ratio_change_sig  has_diff_aca   sc_list        src_list  num_sc    chr\n",
       "74  BLCA    BRCA1     chr17|BRCA1|-|41196318  41196318  -      41196313  13    401   6      13     0.000059        19      414     0.684211    0.968599    0.284389        True                 up               up                   True          41197695  protein_coding  1       chr17\n",
       "75  BLCA    BRCA1     chr17|BRCA1|-|41196822  41196822  -      41196822  15    323   4      91     1.000000        19      414     0.789474    0.780193   -0.009280        False                down             NaN                  True          41197801  protein_coding  1       chr17"
      ]
     },
     "execution_count": 5,
     "metadata": {},
     "output_type": "execute_result"
    }
   ],
   "source": [
    "bdf.head(2)"
   ]
  },
  {
   "cell_type": "code",
   "execution_count": 8,
   "metadata": {
    "collapsed": false
   },
   "outputs": [],
   "source": [
    "clv_sc_df = pd.read_csv(\n",
    "    '../__results/annotated-clv-sc-mapping.csv',\n",
    "    usecols=['seqname', 'gene_name', 'strand', 'source', 'aclv', 'sc']\n",
    ")\n",
    "clv_sc_df.drop_duplicates(inplace=True)\n",
    "clv_sc_df.rename(columns={'aclv': 'clv'}, inplace=True)\n",
    "clv_sc_df.reset_index(drop=True, inplace=True)"
   ]
  },
  {
   "cell_type": "markdown",
   "metadata": {},
   "source": [
    "## Print summary and detail tables"
   ]
  },
  {
   "cell_type": "code",
   "execution_count": 9,
   "metadata": {
    "collapsed": false
   },
   "outputs": [],
   "source": [
    "def summarize_annot_clv_sc(grp):\n",
    "#     assert grp.offset.unique().shape[0] == 1\n",
    "#     offset = grp.offset.unique()[0]\n",
    "    \n",
    "    scs  = list(sorted(grp.sc.unique()))\n",
    "    clvs = list(sorted(grp.clv.unique()))\n",
    "    mapped_pairs = [tuple(_) for _ in grp[['clv', 'sc']].sort_values(['clv', 'sc']).values]\n",
    "    res = pd.Series([clvs, np.diff(clvs), len(clvs), scs, np.diff(scs), len(scs), \n",
    "                     mapped_pairs, len(mapped_pairs)],\n",
    "                    index=['gtf_clv', 'neigh_dist_gtf_clv', 'num_gtf_clv',\n",
    "                           'gtf_sc', 'neigh_dist_gtf_sc', 'num_gtf_sc',\n",
    "                           'gtf_mapped_pairs', 'num_gtf_mapped_pairs'])\n",
    "    return res"
   ]
  },
  {
   "cell_type": "code",
   "execution_count": 10,
   "metadata": {
    "collapsed": false
   },
   "outputs": [],
   "source": [
    "annot_sum = clv_sc_df.groupby('gene_name').apply(summarize_annot_clv_sc).reset_index()"
   ]
  },
  {
   "cell_type": "code",
   "execution_count": 11,
   "metadata": {
    "collapsed": false
   },
   "outputs": [
    {
     "data": {
      "text/html": [
       "<div>\n",
       "<style>\n",
       "    .dataframe thead tr:only-child th {\n",
       "        text-align: right;\n",
       "    }\n",
       "\n",
       "    .dataframe thead th {\n",
       "        text-align: left;\n",
       "    }\n",
       "\n",
       "    .dataframe tbody tr th {\n",
       "        vertical-align: top;\n",
       "    }\n",
       "</style>\n",
       "<table border=\"1\" class=\"dataframe\">\n",
       "  <thead>\n",
       "    <tr style=\"text-align: right;\">\n",
       "      <th></th>\n",
       "      <th>disease</th>\n",
       "      <th>gene_name</th>\n",
       "      <th>mkid</th>\n",
       "      <th>mclv</th>\n",
       "      <th>strand</th>\n",
       "      <th>aclv</th>\n",
       "      <th>N_on</th>\n",
       "      <th>T_on</th>\n",
       "      <th>N_off</th>\n",
       "      <th>T_off</th>\n",
       "      <th>fisher_exact_p</th>\n",
       "      <th>N_base</th>\n",
       "      <th>T_base</th>\n",
       "      <th>N_on_ratio</th>\n",
       "      <th>T_on_ratio</th>\n",
       "      <th>N2T_ratio_diff</th>\n",
       "      <th>diff_is_significant</th>\n",
       "      <th>N2T_ratio_change</th>\n",
       "      <th>N2T_ratio_change_sig</th>\n",
       "      <th>has_diff_aca</th>\n",
       "      <th>sc_list</th>\n",
       "      <th>src_list</th>\n",
       "      <th>num_sc</th>\n",
       "      <th>chr</th>\n",
       "    </tr>\n",
       "  </thead>\n",
       "  <tbody>\n",
       "    <tr>\n",
       "      <th>74</th>\n",
       "      <td>BLCA</td>\n",
       "      <td>BRCA1</td>\n",
       "      <td>chr17|BRCA1|-|41196318</td>\n",
       "      <td>41196318</td>\n",
       "      <td>-</td>\n",
       "      <td>41196313</td>\n",
       "      <td>13</td>\n",
       "      <td>401</td>\n",
       "      <td>6</td>\n",
       "      <td>13</td>\n",
       "      <td>0.000059</td>\n",
       "      <td>19</td>\n",
       "      <td>414</td>\n",
       "      <td>0.684211</td>\n",
       "      <td>0.968599</td>\n",
       "      <td>0.284389</td>\n",
       "      <td>True</td>\n",
       "      <td>up</td>\n",
       "      <td>up</td>\n",
       "      <td>True</td>\n",
       "      <td>41197695</td>\n",
       "      <td>protein_coding</td>\n",
       "      <td>1</td>\n",
       "      <td>chr17</td>\n",
       "    </tr>\n",
       "  </tbody>\n",
       "</table>\n",
       "</div>"
      ],
      "text/plain": [
       "   disease gene_name                    mkid      mclv strand      aclv  N_on  T_on  N_off  T_off  fisher_exact_p  N_base  T_base  N_on_ratio  T_on_ratio  N2T_ratio_diff  diff_is_significant N2T_ratio_change N2T_ratio_change_sig  has_diff_aca   sc_list        src_list  num_sc    chr\n",
       "74  BLCA    BRCA1     chr17|BRCA1|-|41196318  41196318  -      41196313  13    401   6      13     0.000059        19      414     0.684211    0.968599    0.284389        True                 up               up                   True          41197695  protein_coding  1       chr17"
      ]
     },
     "execution_count": 11,
     "metadata": {},
     "output_type": "execute_result"
    }
   ],
   "source": [
    "bdf.head(1)"
   ]
  },
  {
   "cell_type": "code",
   "execution_count": 12,
   "metadata": {
    "collapsed": true
   },
   "outputs": [],
   "source": [
    "def sum_apa_pval(grp):\n",
    "    dises = list(sorted(grp.disease.unique()))\n",
    "    clvs =  list(sorted(grp.mclv.unique()))\n",
    "    res = pd.Series([dises, len(dises), clvs, np.diff(clvs), len(clvs)], \n",
    "                    index=['dise', 'num_dise', 'exp_clv', 'neigh_dist_exp_clv', 'num_exp_clv'])\n",
    "    return res"
   ]
  },
  {
   "cell_type": "code",
   "execution_count": 13,
   "metadata": {
    "collapsed": false
   },
   "outputs": [],
   "source": [
    "sum_df = bdf.groupby(['gene_name', 'chr', 'strand']).apply(sum_apa_pval).reset_index()"
   ]
  },
  {
   "cell_type": "code",
   "execution_count": 14,
   "metadata": {
    "collapsed": false
   },
   "outputs": [],
   "source": [
    "sum_df = sum_df.merge(annot_sum, on='gene_name')"
   ]
  },
  {
   "cell_type": "code",
   "execution_count": 15,
   "metadata": {
    "collapsed": false
   },
   "outputs": [
    {
     "data": {
      "text/plain": [
       "array(['gene_name', 'chr', 'strand', 'dise', 'num_dise', 'exp_clv',\n",
       "       'neigh_dist_exp_clv', 'num_exp_clv', 'gtf_clv',\n",
       "       'neigh_dist_gtf_clv', 'num_gtf_clv', 'gtf_sc', 'neigh_dist_gtf_sc',\n",
       "       'num_gtf_sc', 'gtf_mapped_pairs', 'num_gtf_mapped_pairs'], dtype=object)"
      ]
     },
     "execution_count": 15,
     "metadata": {},
     "output_type": "execute_result"
    }
   ],
   "source": [
    "# reorder columns if necessary\n",
    "sum_df.columns.values\n",
    "# sum_df = sum_df[[]]"
   ]
  },
  {
   "cell_type": "markdown",
   "metadata": {},
   "source": [
    "Check a few cases"
   ]
  },
  {
   "cell_type": "code",
   "execution_count": 16,
   "metadata": {
    "collapsed": false
   },
   "outputs": [
    {
     "data": {
      "text/html": [
       "<div>\n",
       "<style>\n",
       "    .dataframe thead tr:only-child th {\n",
       "        text-align: right;\n",
       "    }\n",
       "\n",
       "    .dataframe thead th {\n",
       "        text-align: left;\n",
       "    }\n",
       "\n",
       "    .dataframe tbody tr th {\n",
       "        vertical-align: top;\n",
       "    }\n",
       "</style>\n",
       "<table border=\"1\" class=\"dataframe\">\n",
       "  <thead>\n",
       "    <tr style=\"text-align: right;\">\n",
       "      <th></th>\n",
       "      <th>gene_name</th>\n",
       "      <th>chr</th>\n",
       "      <th>strand</th>\n",
       "      <th>dise</th>\n",
       "      <th>num_dise</th>\n",
       "      <th>exp_clv</th>\n",
       "      <th>neigh_dist_exp_clv</th>\n",
       "      <th>num_exp_clv</th>\n",
       "      <th>gtf_clv</th>\n",
       "      <th>neigh_dist_gtf_clv</th>\n",
       "      <th>num_gtf_clv</th>\n",
       "      <th>gtf_sc</th>\n",
       "      <th>neigh_dist_gtf_sc</th>\n",
       "      <th>num_gtf_sc</th>\n",
       "      <th>gtf_mapped_pairs</th>\n",
       "      <th>num_gtf_mapped_pairs</th>\n",
       "    </tr>\n",
       "  </thead>\n",
       "  <tbody>\n",
       "    <tr>\n",
       "      <th>7</th>\n",
       "      <td>CDKN2A</td>\n",
       "      <td>chr9</td>\n",
       "      <td>-</td>\n",
       "      <td>[COAD, HNSC, KICH, KIRC, KIRP, LIHC, PRAD, THCA]</td>\n",
       "      <td>8</td>\n",
       "      <td>[21967755, 21967992, 21968200, 21968733, 21969564, 21970697, 21994884]</td>\n",
       "      <td>[237, 208, 533, 831, 1133, 24187]</td>\n",
       "      <td>7</td>\n",
       "      <td>[21967752, 21967995, 21968055, 21968104, 21968180, 21968723, 21969568, 21970715]</td>\n",
       "      <td>[243, 60, 49, 76, 543, 845, 1147]</td>\n",
       "      <td>8</td>\n",
       "      <td>[21968208, 21968228, 21968724, 21969731, 21970890, 21971002, 21974476]</td>\n",
       "      <td>[20, 496, 1007, 1159, 112, 3474]</td>\n",
       "      <td>7</td>\n",
       "      <td>[(21967752, 21968228), (21967752, 21971002), (21967995, 21968208), (21967995, 21968228), (21967995, 21971002), (21968055, 21968724), (21968104, 21968228), (21968180, 21968228), (21968180, 21974476), (21968723, 21968724), (21969568, 21969731), (21970715, 21970890)]</td>\n",
       "      <td>12</td>\n",
       "    </tr>\n",
       "  </tbody>\n",
       "</table>\n",
       "</div>"
      ],
      "text/plain": [
       "  gene_name   chr strand                                              dise  num_dise                                                                 exp_clv                 neigh_dist_exp_clv  num_exp_clv                                                                           gtf_clv  \\\n",
       "7  CDKN2A    chr9  -      [COAD, HNSC, KICH, KIRC, KIRP, LIHC, PRAD, THCA]  8         [21967755, 21967992, 21968200, 21968733, 21969564, 21970697, 21994884]  [237, 208, 533, 831, 1133, 24187]  7            [21967752, 21967995, 21968055, 21968104, 21968180, 21968723, 21969568, 21970715]   \n",
       "\n",
       "                  neigh_dist_gtf_clv  num_gtf_clv                                                                  gtf_sc                 neigh_dist_gtf_sc  num_gtf_sc  \\\n",
       "7  [243, 60, 49, 76, 543, 845, 1147]  8            [21968208, 21968228, 21968724, 21969731, 21970890, 21971002, 21974476]  [20, 496, 1007, 1159, 112, 3474]  7            \n",
       "\n",
       "                                                                                                                                                                                                                                                           gtf_mapped_pairs  num_gtf_mapped_pairs  \n",
       "7  [(21967752, 21968228), (21967752, 21971002), (21967995, 21968208), (21967995, 21968228), (21967995, 21971002), (21968055, 21968724), (21968104, 21968228), (21968180, 21968228), (21968180, 21974476), (21968723, 21968724), (21969568, 21969731), (21970715, 21970890)]  12                    "
      ]
     },
     "execution_count": 16,
     "metadata": {},
     "output_type": "execute_result"
    }
   ],
   "source": [
    "sum_df.query('gene_name == \"CDKN2A\"')"
   ]
  },
  {
   "cell_type": "code",
   "execution_count": 17,
   "metadata": {
    "collapsed": false
   },
   "outputs": [
    {
     "data": {
      "text/plain": [
       "8"
      ]
     },
     "execution_count": 17,
     "metadata": {},
     "output_type": "execute_result"
    }
   ],
   "source": [
    "len(sum_df.query('gene_name == \"CDKN2A\"').gtf_clv.values[0])"
   ]
  },
  {
   "cell_type": "markdown",
   "metadata": {},
   "source": [
    "CDKN2A has 7 clv sites (after clustering, 12 before), but there are (clv, sc) pairs, so at at least one clv is used twice"
   ]
  },
  {
   "cell_type": "code",
   "execution_count": 18,
   "metadata": {
    "collapsed": false
   },
   "outputs": [
    {
     "data": {
      "text/html": [
       "<div>\n",
       "<style>\n",
       "    .dataframe thead tr:only-child th {\n",
       "        text-align: right;\n",
       "    }\n",
       "\n",
       "    .dataframe thead th {\n",
       "        text-align: left;\n",
       "    }\n",
       "\n",
       "    .dataframe tbody tr th {\n",
       "        vertical-align: top;\n",
       "    }\n",
       "</style>\n",
       "<table border=\"1\" class=\"dataframe\">\n",
       "  <thead>\n",
       "    <tr style=\"text-align: right;\">\n",
       "      <th></th>\n",
       "      <th>gene_name</th>\n",
       "      <th>chr</th>\n",
       "      <th>strand</th>\n",
       "      <th>dise</th>\n",
       "      <th>num_dise</th>\n",
       "      <th>exp_clv</th>\n",
       "      <th>neigh_dist_exp_clv</th>\n",
       "      <th>num_exp_clv</th>\n",
       "      <th>gtf_clv</th>\n",
       "      <th>neigh_dist_gtf_clv</th>\n",
       "      <th>num_gtf_clv</th>\n",
       "      <th>gtf_sc</th>\n",
       "      <th>neigh_dist_gtf_sc</th>\n",
       "      <th>num_gtf_sc</th>\n",
       "      <th>gtf_mapped_pairs</th>\n",
       "      <th>num_gtf_mapped_pairs</th>\n",
       "    </tr>\n",
       "  </thead>\n",
       "  <tbody>\n",
       "    <tr>\n",
       "      <th>11</th>\n",
       "      <td>EZH2</td>\n",
       "      <td>chr7</td>\n",
       "      <td>-</td>\n",
       "      <td>[BRCA, KIRC, KIRP, LIHC, LUAD, PRAD, THCA]</td>\n",
       "      <td>7</td>\n",
       "      <td>[148504477, 148504561, 148514434, 148515148, 148526831]</td>\n",
       "      <td>[84, 9873, 714, 11683]</td>\n",
       "      <td>5</td>\n",
       "      <td>[148504477, 148504574, 148504617, 148515129]</td>\n",
       "      <td>[97, 43, 10512]</td>\n",
       "      <td>4</td>\n",
       "      <td>[148504738, 148516131, 148529833]</td>\n",
       "      <td>[11393, 13702]</td>\n",
       "      <td>3</td>\n",
       "      <td>[(148504477, 148504738), (148504477, 148516131), (148504574, 148504738), (148504617, 148504738), (148515129, 148516131), (148515129, 148529833)]</td>\n",
       "      <td>6</td>\n",
       "    </tr>\n",
       "  </tbody>\n",
       "</table>\n",
       "</div>"
      ],
      "text/plain": [
       "   gene_name   chr strand                                        dise  num_dise                                                  exp_clv      neigh_dist_exp_clv  num_exp_clv                                       gtf_clv neigh_dist_gtf_clv  num_gtf_clv                             gtf_sc  \\\n",
       "11  EZH2      chr7  -      [BRCA, KIRC, KIRP, LIHC, LUAD, PRAD, THCA]  7         [148504477, 148504561, 148514434, 148515148, 148526831]  [84, 9873, 714, 11683]  5            [148504477, 148504574, 148504617, 148515129]  [97, 43, 10512]    4            [148504738, 148516131, 148529833]   \n",
       "\n",
       "   neigh_dist_gtf_sc  num_gtf_sc                                                                                                                                  gtf_mapped_pairs  num_gtf_mapped_pairs  \n",
       "11  [11393, 13702]    3           [(148504477, 148504738), (148504477, 148516131), (148504574, 148504738), (148504617, 148504738), (148515129, 148516131), (148515129, 148529833)]  6                     "
      ]
     },
     "execution_count": 18,
     "metadata": {},
     "output_type": "execute_result"
    }
   ],
   "source": [
    "sum_df.query('gene_name == \"EZH2\"')"
   ]
  },
  {
   "cell_type": "code",
   "execution_count": 19,
   "metadata": {
    "collapsed": false,
    "scrolled": true
   },
   "outputs": [
    {
     "data": {
      "text/plain": [
       "(5, 16)"
      ]
     },
     "execution_count": 19,
     "metadata": {},
     "output_type": "execute_result"
    }
   ],
   "source": [
    "sum_df.query('num_gtf_sc == 1').shape"
   ]
  },
  {
   "cell_type": "markdown",
   "metadata": {},
   "source": [
    "So 5 genes with significant shift are one-stop-codon genes"
   ]
  },
  {
   "cell_type": "markdown",
   "metadata": {},
   "source": [
    "format some columns for good print"
   ]
  },
  {
   "cell_type": "code",
   "execution_count": 20,
   "metadata": {
    "collapsed": false
   },
   "outputs": [
    {
     "data": {
      "text/plain": [
       "array(['gene_name', 'chr', 'strand', 'dise', 'num_dise', 'exp_clv',\n",
       "       'neigh_dist_exp_clv', 'num_exp_clv', 'gtf_clv',\n",
       "       'neigh_dist_gtf_clv', 'num_gtf_clv', 'gtf_sc', 'neigh_dist_gtf_sc',\n",
       "       'num_gtf_sc', 'gtf_mapped_pairs', 'num_gtf_mapped_pairs'], dtype=object)"
      ]
     },
     "execution_count": 20,
     "metadata": {},
     "output_type": "execute_result"
    }
   ],
   "source": [
    "sum_df.columns.values"
   ]
  },
  {
   "cell_type": "code",
   "execution_count": 21,
   "metadata": {
    "collapsed": false
   },
   "outputs": [
    {
     "name": "stdout",
     "output_type": "stream",
     "text": [
      "dise\n",
      "exp_clv\n",
      "neigh_dist_exp_clv\n",
      "gtf_clv\n",
      "neigh_dist_gtf_clv\n",
      "gtf_sc\n",
      "neigh_dist_gtf_sc\n",
      "gtf_mapped_pairs\n"
     ]
    }
   ],
   "source": [
    "sum_df_pretty = sum_df.copy()\n",
    "for col in [\n",
    "    'dise',\n",
    "    'exp_clv', 'neigh_dist_exp_clv',\n",
    "    'gtf_clv', 'neigh_dist_gtf_clv',\n",
    "    'gtf_sc', 'neigh_dist_gtf_sc',\n",
    "    'gtf_mapped_pairs',\n",
    "]:\n",
    "    print(col)\n",
    "    sum_df_pretty[col] = sum_df_pretty[col].apply(lambda l: ', '.join(map(str, l)))"
   ]
  },
  {
   "cell_type": "markdown",
   "metadata": {},
   "source": [
    "Mannually adding trends"
   ]
  },
  {
   "cell_type": "code",
   "execution_count": 22,
   "metadata": {
    "collapsed": false
   },
   "outputs": [],
   "source": [
    "# trends = [\n",
    "#     ['CCNE1', 'lengthening'],\n",
    "#     ['CDKN2C', 'lengthening'],\n",
    "#     ['FGF2', 'shortening'],\n",
    "#     ['KIT', 'shortening'],\n",
    "#     ['MAP2K1', 'lengthening'],\n",
    "#     ['REL', 'lengthening'],\n",
    "# ]\n",
    "# trends_df = pd.DataFrame(trends, columns=['gene_name', 'trend'])\n",
    "\n",
    "# sum_df_pretty.shape\n",
    "\n",
    "# sum_df_pretty = sum_df_pretty.merge(trends_df, on='gene_name', how='outer').fillna('undefined')"
   ]
  },
  {
   "cell_type": "code",
   "execution_count": 23,
   "metadata": {
    "collapsed": false
   },
   "outputs": [
    {
     "data": {
      "text/plain": [
       "(33, 16)"
      ]
     },
     "execution_count": 23,
     "metadata": {},
     "output_type": "execute_result"
    }
   ],
   "source": [
    "sum_df_pretty.shape"
   ]
  },
  {
   "cell_type": "code",
   "execution_count": 24,
   "metadata": {
    "collapsed": false
   },
   "outputs": [],
   "source": [
    "renaming_dd = {\n",
    "    'gene_name': 'Gene',\n",
    "    'strand': 'Strand',\n",
    "    'chr': 'Chromosome',\n",
    "#     'trend': 'Trend',\n",
    "    \n",
    "    'dise': 'Diseases with differential CS usage patterns',\n",
    "    'num_dise': '# diseases',\n",
    "    \n",
    "    'exp_clv': 'Predicted CSs',\n",
    "    'neigh_dist_exp_clv': 'Distance between neighboring predicted CSs',\n",
    "    'num_exp_clv': '# predicted CSs',\n",
    "\n",
    "    'gtf_clv': 'annotated CSs (after clustering)',\n",
    "    'neigh_dist_gtf_clv': 'Distance between neighboring annotated CSs',\n",
    "    'num_gtf_clv': '# annotated CSs',\n",
    "\n",
    "    'gtf_sc': 'annotated stop codons',\n",
    "    'neigh_dist_gtf_sc': 'Distance between neighboring annotated stop codons',\n",
    "    'num_gtf_sc': '# annotated stop codons',\n",
    "\n",
    "    'gtf_mapped_pairs': 'annotated CS-stop codon pairs',\n",
    "    'num_gtf_mapped_pairs': '# annotated CS-stop codon pairs',\n",
    "}"
   ]
  },
  {
   "cell_type": "code",
   "execution_count": 25,
   "metadata": {
    "collapsed": true
   },
   "outputs": [],
   "source": [
    "sum_df_pretty.rename(columns=renaming_dd, inplace=True)"
   ]
  },
  {
   "cell_type": "code",
   "execution_count": 26,
   "metadata": {
    "collapsed": true
   },
   "outputs": [],
   "source": [
    "sum_df_pretty.to_csv('../__results/clv_sites_freq_shift_summary.tsv', sep='\\t', index=False)"
   ]
  },
  {
   "cell_type": "markdown",
   "metadata": {},
   "source": [
    "# Also format the details table and save to disk"
   ]
  },
  {
   "cell_type": "markdown",
   "metadata": {},
   "source": [
    "### mapp predicted CSs to annotated CSs"
   ]
  },
  {
   "cell_type": "code",
   "execution_count": 27,
   "metadata": {
    "collapsed": true
   },
   "outputs": [],
   "source": [
    "# first create a dict of gene-to-clvs map\n",
    "ANNOT_GENE2CLV_DD = clv_sc_df.groupby(['gene_name']).apply(lambda g: g.clv.unique())"
   ]
  },
  {
   "cell_type": "code",
   "execution_count": 28,
   "metadata": {
    "collapsed": false
   },
   "outputs": [
    {
     "data": {
      "text/plain": [
       "array([41196313, 41197694, 41251848, 41196822, 41197646, 41246129, 41197580])"
      ]
     },
     "execution_count": 28,
     "metadata": {},
     "output_type": "execute_result"
    }
   ],
   "source": [
    "ANNOT_GENE2CLV_DD['BRCA1']"
   ]
  },
  {
   "cell_type": "code",
   "execution_count": 29,
   "metadata": {
    "collapsed": true
   },
   "outputs": [],
   "source": [
    "def map_kclv2aclv(row):\n",
    "    \"\"\"map KLEAT predicted clv to a closest annotated clv\"\"\"\n",
    "    gene = row.gene_name\n",
    "    kclv = row['mclv']\n",
    "    poss_aclvs = ANNOT_GENE2CLV_DD[gene]\n",
    "    return poss_aclvs[np.argmin(np.abs(poss_aclvs - kclv))]"
   ]
  },
  {
   "cell_type": "code",
   "execution_count": 30,
   "metadata": {
    "collapsed": true
   },
   "outputs": [],
   "source": [
    "dad_df = bdf.copy()"
   ]
  },
  {
   "cell_type": "code",
   "execution_count": 31,
   "metadata": {
    "collapsed": false
   },
   "outputs": [],
   "source": [
    "dad_df['aclv'] = dad_df.apply(map_kclv2aclv, axis=1)"
   ]
  },
  {
   "cell_type": "code",
   "execution_count": 32,
   "metadata": {
    "collapsed": false
   },
   "outputs": [
    {
     "data": {
      "text/plain": [
       "array([41196313, 41196822, 41197694, 41197694, 41246129, 41246129,\n",
       "       41246129, 41246129, 41251848, 41251848])"
      ]
     },
     "execution_count": 32,
     "metadata": {},
     "output_type": "execute_result"
    }
   ],
   "source": [
    "dad_df['aclv'].values[:10]"
   ]
  },
  {
   "cell_type": "code",
   "execution_count": 33,
   "metadata": {
    "collapsed": false
   },
   "outputs": [],
   "source": [
    "dad_df['dist_kclv2aclv'] = np.abs(dad_df['mclv'].values - dad_df['aclv'].values)"
   ]
  },
  {
   "cell_type": "code",
   "execution_count": 34,
   "metadata": {
    "collapsed": true
   },
   "outputs": [],
   "source": [
    "KCLV2ACLV_CUTOFF = 25"
   ]
  },
  {
   "cell_type": "code",
   "execution_count": 35,
   "metadata": {
    "collapsed": true
   },
   "outputs": [],
   "source": [
    "dad_df['dist_kclv2acl_lt_25bp'] = dad_df['dist_kclv2aclv'] < KCLV2ACLV_CUTOFF"
   ]
  },
  {
   "cell_type": "code",
   "execution_count": 36,
   "metadata": {
    "collapsed": true
   },
   "outputs": [],
   "source": [
    "ANNOT_CLV2SC_DD = clv_sc_df.groupby(['gene_name', 'clv']).apply(lambda g: g.sc.unique()).to_dict()"
   ]
  },
  {
   "cell_type": "code",
   "execution_count": 37,
   "metadata": {
    "collapsed": true
   },
   "outputs": [],
   "source": [
    "# mapped_adf[['gene_name', 'aclv']].apply(lambda row: (row.gene_name, row.aclv), axis=1)\n",
    "\n",
    "def map_aclv2sc(row):\n",
    "    \"\"\"with aclv assigned, now add the corresponding annotated stop codon information\"\"\"\n",
    "    # ('gene_name', 'aclv') acts like a shorter kid (skid)\n",
    "    skid = (row.gene_name, row.aclv)\n",
    "    scs = ANNOT_CLV2SC_DD[skid]\n",
    "    return scs.tolist()"
   ]
  },
  {
   "cell_type": "code",
   "execution_count": 38,
   "metadata": {
    "collapsed": false
   },
   "outputs": [],
   "source": [
    "# asc: annotated stop codons\n",
    "dad_df['asc_list'] = dad_df[['gene_name', 'aclv']].apply(map_aclv2sc, axis=1)"
   ]
  },
  {
   "cell_type": "code",
   "execution_count": 39,
   "metadata": {
    "collapsed": true
   },
   "outputs": [],
   "source": [
    "dad_df['num_asc'] = dad_df['asc_list'].apply(len)"
   ]
  },
  {
   "cell_type": "code",
   "execution_count": 40,
   "metadata": {
    "collapsed": false,
    "scrolled": false
   },
   "outputs": [
    {
     "data": {
      "text/plain": [
       "(576, 28)"
      ]
     },
     "execution_count": 40,
     "metadata": {},
     "output_type": "execute_result"
    }
   ],
   "source": [
    "dad_df.shape"
   ]
  },
  {
   "cell_type": "code",
   "execution_count": 41,
   "metadata": {
    "collapsed": false
   },
   "outputs": [
    {
     "data": {
      "text/plain": [
       "1    476\n",
       "2    88 \n",
       "3    10 \n",
       "4    2  \n",
       "Name: num_asc, dtype: int64"
      ]
     },
     "execution_count": 41,
     "metadata": {},
     "output_type": "execute_result"
    }
   ],
   "source": [
    "dad_df.num_asc.value_counts()"
   ]
  },
  {
   "cell_type": "code",
   "execution_count": 42,
   "metadata": {
    "collapsed": false
   },
   "outputs": [
    {
     "data": {
      "text/plain": [
       "0.1736111111111111"
      ]
     },
     "execution_count": 42,
     "metadata": {},
     "output_type": "execute_result"
    }
   ],
   "source": [
    "dad_df.query('num_asc > 1').shape[0] / dad_df.shape[0]"
   ]
  },
  {
   "cell_type": "markdown",
   "metadata": {},
   "source": [
    "so about 17.4% of cleavage sites are mapped to multiple stop codons"
   ]
  },
  {
   "cell_type": "code",
   "execution_count": 43,
   "metadata": {
    "collapsed": false
   },
   "outputs": [],
   "source": [
    "def calc_utr_len(row):\n",
    "    if row.dist_kclv2acl_lt_25bp and row.num_asc == 1:\n",
    "        return abs(row.mclv - row.asc_list[0])\n",
    "    else:\n",
    "        return 'NA'"
   ]
  },
  {
   "cell_type": "code",
   "execution_count": 44,
   "metadata": {
    "collapsed": false
   },
   "outputs": [],
   "source": [
    "dad_df['utr_len'] = dad_df.apply(calc_utr_len, axis=1)"
   ]
  },
  {
   "cell_type": "code",
   "execution_count": 45,
   "metadata": {
    "collapsed": false
   },
   "outputs": [
    {
     "data": {
      "text/plain": [
       "True    576\n",
       "Name: has_diff_aca, dtype: int64"
      ]
     },
     "execution_count": 45,
     "metadata": {},
     "output_type": "execute_result"
    }
   ],
   "source": [
    "dad_df.has_diff_aca.value_counts()"
   ]
  },
  {
   "cell_type": "code",
   "execution_count": 46,
   "metadata": {
    "collapsed": false,
    "scrolled": false
   },
   "outputs": [
    {
     "data": {
      "text/html": [
       "<div>\n",
       "<style>\n",
       "    .dataframe thead tr:only-child th {\n",
       "        text-align: right;\n",
       "    }\n",
       "\n",
       "    .dataframe thead th {\n",
       "        text-align: left;\n",
       "    }\n",
       "\n",
       "    .dataframe tbody tr th {\n",
       "        vertical-align: top;\n",
       "    }\n",
       "</style>\n",
       "<table border=\"1\" class=\"dataframe\">\n",
       "  <thead>\n",
       "    <tr style=\"text-align: right;\">\n",
       "      <th></th>\n",
       "      <th>disease</th>\n",
       "      <th>gene_name</th>\n",
       "      <th>mkid</th>\n",
       "      <th>mclv</th>\n",
       "      <th>strand</th>\n",
       "      <th>aclv</th>\n",
       "      <th>N_on</th>\n",
       "      <th>T_on</th>\n",
       "      <th>N_off</th>\n",
       "      <th>T_off</th>\n",
       "      <th>fisher_exact_p</th>\n",
       "      <th>N_base</th>\n",
       "      <th>T_base</th>\n",
       "      <th>N_on_ratio</th>\n",
       "      <th>T_on_ratio</th>\n",
       "      <th>N2T_ratio_diff</th>\n",
       "      <th>diff_is_significant</th>\n",
       "      <th>N2T_ratio_change</th>\n",
       "      <th>N2T_ratio_change_sig</th>\n",
       "      <th>has_diff_aca</th>\n",
       "      <th>sc_list</th>\n",
       "      <th>src_list</th>\n",
       "      <th>num_sc</th>\n",
       "      <th>chr</th>\n",
       "      <th>dist_kclv2aclv</th>\n",
       "      <th>dist_kclv2acl_lt_25bp</th>\n",
       "      <th>asc_list</th>\n",
       "      <th>num_asc</th>\n",
       "      <th>utr_len</th>\n",
       "    </tr>\n",
       "  </thead>\n",
       "  <tbody>\n",
       "    <tr>\n",
       "      <th>1347</th>\n",
       "      <td>BRCA</td>\n",
       "      <td>NF1</td>\n",
       "      <td>chr17|NF1|+|29687999</td>\n",
       "      <td>29687999</td>\n",
       "      <td>+</td>\n",
       "      <td>29687975</td>\n",
       "      <td>60</td>\n",
       "      <td>420</td>\n",
       "      <td>54</td>\n",
       "      <td>719</td>\n",
       "      <td>0.001186</td>\n",
       "      <td>114</td>\n",
       "      <td>1139</td>\n",
       "      <td>0.526316</td>\n",
       "      <td>0.368745</td>\n",
       "      <td>-0.157571</td>\n",
       "      <td>True</td>\n",
       "      <td>down</td>\n",
       "      <td>down</td>\n",
       "      <td>True</td>\n",
       "      <td>29687729</td>\n",
       "      <td>protein_coding</td>\n",
       "      <td>1</td>\n",
       "      <td>chr17</td>\n",
       "      <td>24</td>\n",
       "      <td>True</td>\n",
       "      <td>[29687729]</td>\n",
       "      <td>1</td>\n",
       "      <td>270</td>\n",
       "    </tr>\n",
       "    <tr>\n",
       "      <th>7037</th>\n",
       "      <td>LUSC</td>\n",
       "      <td>CHURC1</td>\n",
       "      <td>chr14|CHURC1|+|65411291</td>\n",
       "      <td>65411291</td>\n",
       "      <td>+</td>\n",
       "      <td>65411310</td>\n",
       "      <td>19</td>\n",
       "      <td>163</td>\n",
       "      <td>32</td>\n",
       "      <td>341</td>\n",
       "      <td>0.531610</td>\n",
       "      <td>51</td>\n",
       "      <td>504</td>\n",
       "      <td>0.372549</td>\n",
       "      <td>0.323413</td>\n",
       "      <td>-0.049136</td>\n",
       "      <td>False</td>\n",
       "      <td>down</td>\n",
       "      <td>NaN</td>\n",
       "      <td>True</td>\n",
       "      <td>65410039</td>\n",
       "      <td>protein_coding</td>\n",
       "      <td>1</td>\n",
       "      <td>chr14</td>\n",
       "      <td>19</td>\n",
       "      <td>True</td>\n",
       "      <td>[65410039]</td>\n",
       "      <td>1</td>\n",
       "      <td>1252</td>\n",
       "    </tr>\n",
       "  </tbody>\n",
       "</table>\n",
       "</div>"
      ],
      "text/plain": [
       "     disease gene_name                     mkid      mclv strand      aclv  N_on  T_on  N_off  T_off  fisher_exact_p  N_base  T_base  N_on_ratio  T_on_ratio  N2T_ratio_diff  diff_is_significant N2T_ratio_change N2T_ratio_change_sig  has_diff_aca   sc_list        src_list  num_sc    chr  \\\n",
       "1347  BRCA    NF1       chr17|NF1|+|29687999     29687999  +      29687975  60    420   54     719    0.001186        114     1139    0.526316    0.368745   -0.157571        True                 down             down                 True          29687729  protein_coding  1       chr17   \n",
       "7037  LUSC    CHURC1    chr14|CHURC1|+|65411291  65411291  +      65411310  19    163   32     341    0.531610        51      504     0.372549    0.323413   -0.049136        False                down             NaN                  True          65410039  protein_coding  1       chr14   \n",
       "\n",
       "      dist_kclv2aclv  dist_kclv2acl_lt_25bp    asc_list  num_asc utr_len  \n",
       "1347  24              True                   [29687729]  1        270     \n",
       "7037  19              True                   [65410039]  1        1252    "
      ]
     },
     "execution_count": 46,
     "metadata": {},
     "output_type": "execute_result"
    }
   ],
   "source": [
    "dad_df.sample(2)"
   ]
  },
  {
   "cell_type": "markdown",
   "metadata": {},
   "source": [
    "## Now write out the detailed table for each predicted CS"
   ]
  },
  {
   "cell_type": "code",
   "execution_count": 47,
   "metadata": {
    "collapsed": true
   },
   "outputs": [],
   "source": [
    "# also used for sorting\n",
    "sort_cols = ['gene_name', 'chr', 'disease', 'mclv', 'strand']"
   ]
  },
  {
   "cell_type": "code",
   "execution_count": 48,
   "metadata": {
    "collapsed": false
   },
   "outputs": [],
   "source": [
    "diff_ppd_pretty = dad_df.copy()\\\n",
    "    .drop(['N2T_ratio_change_sig', 'has_diff_aca', 'mkid'], axis=1)\\\n",
    "    .rename(columns={'N_base': 'N_total', 'T_base': 'T_total'})\n",
    "diff_ppd_pretty = diff_ppd_pretty[\n",
    "        sort_cols + \n",
    "    ['N_on', 'T_on', 'N_off', 'T_off', 'N_total', 'T_total', \n",
    "     'N_on_ratio', 'T_on_ratio', 'N2T_ratio_change', 'fisher_exact_p'] +\n",
    "    # mapped annotated CS and SC\n",
    "    ['aclv', 'dist_kclv2aclv', 'dist_kclv2acl_lt_25bp', 'asc_list', 'num_asc', 'utr_len']\n",
    "]\n",
    "\n",
    "\n",
    "diff_ppd_pretty['N_on_ratio'] = diff_ppd_pretty['N_on_ratio'].apply(lambda x: '{0:.2f}'.format(x))\n",
    "diff_ppd_pretty['T_on_ratio'] = diff_ppd_pretty['T_on_ratio'].apply(lambda x: '{0:.2f}'.format(x))\n",
    "diff_ppd_pretty['p-value < 0.01'] = diff_ppd_pretty.fisher_exact_p < 0.01\n",
    "\n",
    "diff_ppd_pretty['asc_list'] = diff_ppd_pretty['asc_list'].apply(lambda l: ', '.join(map(str, sorted(l))))\n",
    "diff_ppd_pretty['utr_len'] = diff_ppd_pretty['utr_len'].apply(lambda x: '{0:.0f}'.format(x) if x != 'NA' else x)\n",
    "diff_ppd_pretty.sort_values(sort_cols, inplace=True)"
   ]
  },
  {
   "cell_type": "code",
   "execution_count": 49,
   "metadata": {
    "collapsed": false
   },
   "outputs": [
    {
     "data": {
      "text/html": [
       "<div>\n",
       "<style>\n",
       "    .dataframe thead tr:only-child th {\n",
       "        text-align: right;\n",
       "    }\n",
       "\n",
       "    .dataframe thead th {\n",
       "        text-align: left;\n",
       "    }\n",
       "\n",
       "    .dataframe tbody tr th {\n",
       "        vertical-align: top;\n",
       "    }\n",
       "</style>\n",
       "<table border=\"1\" class=\"dataframe\">\n",
       "  <thead>\n",
       "    <tr style=\"text-align: right;\">\n",
       "      <th></th>\n",
       "      <th>gene_name</th>\n",
       "      <th>chr</th>\n",
       "      <th>disease</th>\n",
       "      <th>mclv</th>\n",
       "      <th>strand</th>\n",
       "      <th>N_on</th>\n",
       "      <th>T_on</th>\n",
       "      <th>N_off</th>\n",
       "      <th>T_off</th>\n",
       "      <th>N_total</th>\n",
       "      <th>T_total</th>\n",
       "      <th>N_on_ratio</th>\n",
       "      <th>T_on_ratio</th>\n",
       "      <th>N2T_ratio_change</th>\n",
       "      <th>fisher_exact_p</th>\n",
       "      <th>aclv</th>\n",
       "      <th>dist_kclv2aclv</th>\n",
       "      <th>dist_kclv2acl_lt_25bp</th>\n",
       "      <th>asc_list</th>\n",
       "      <th>num_asc</th>\n",
       "      <th>utr_len</th>\n",
       "      <th>p-value &lt; 0.01</th>\n",
       "    </tr>\n",
       "  </thead>\n",
       "  <tbody>\n",
       "    <tr>\n",
       "      <th>810</th>\n",
       "      <td>AKT2</td>\n",
       "      <td>chr19</td>\n",
       "      <td>BRCA</td>\n",
       "      <td>40736224</td>\n",
       "      <td>-</td>\n",
       "      <td>105</td>\n",
       "      <td>878</td>\n",
       "      <td>9</td>\n",
       "      <td>261</td>\n",
       "      <td>114</td>\n",
       "      <td>1139</td>\n",
       "      <td>0.92</td>\n",
       "      <td>0.77</td>\n",
       "      <td>down</td>\n",
       "      <td>0.000068</td>\n",
       "      <td>40736224</td>\n",
       "      <td>0</td>\n",
       "      <td>True</td>\n",
       "      <td>40739779</td>\n",
       "      <td>1</td>\n",
       "      <td>3555</td>\n",
       "      <td>True</td>\n",
       "    </tr>\n",
       "    <tr>\n",
       "      <th>811</th>\n",
       "      <td>AKT2</td>\n",
       "      <td>chr19</td>\n",
       "      <td>BRCA</td>\n",
       "      <td>40736624</td>\n",
       "      <td>-</td>\n",
       "      <td>13</td>\n",
       "      <td>40</td>\n",
       "      <td>101</td>\n",
       "      <td>1099</td>\n",
       "      <td>114</td>\n",
       "      <td>1139</td>\n",
       "      <td>0.11</td>\n",
       "      <td>0.04</td>\n",
       "      <td>down</td>\n",
       "      <td>0.000545</td>\n",
       "      <td>40736224</td>\n",
       "      <td>400</td>\n",
       "      <td>False</td>\n",
       "      <td>40739779</td>\n",
       "      <td>1</td>\n",
       "      <td>NA</td>\n",
       "      <td>True</td>\n",
       "    </tr>\n",
       "  </tbody>\n",
       "</table>\n",
       "</div>"
      ],
      "text/plain": [
       "    gene_name    chr disease      mclv strand  N_on  T_on  N_off  T_off  N_total  T_total N_on_ratio T_on_ratio N2T_ratio_change  fisher_exact_p      aclv  dist_kclv2aclv  dist_kclv2acl_lt_25bp  asc_list  num_asc utr_len  p-value < 0.01\n",
       "810  AKT2      chr19  BRCA    40736224  -      105   878   9      261    114      1139     0.92       0.77       down             0.000068        40736224  0               True                   40739779  1        3555    True          \n",
       "811  AKT2      chr19  BRCA    40736624  -      13    40    101    1099   114      1139     0.11       0.04       down             0.000545        40736224  400             False                  40739779  1        NA      True          "
      ]
     },
     "execution_count": 49,
     "metadata": {},
     "output_type": "execute_result"
    }
   ],
   "source": [
    "diff_ppd_pretty.head(2)"
   ]
  },
  {
   "cell_type": "code",
   "execution_count": 50,
   "metadata": {
    "collapsed": true
   },
   "outputs": [],
   "source": [
    "raw = ['N_on', 'T_on', 'N_off', 'T_off', 'N_total', 'T_total', 'N_on_ratio', 'T_on_ratio']"
   ]
  },
  {
   "cell_type": "code",
   "execution_count": 51,
   "metadata": {
    "collapsed": false
   },
   "outputs": [],
   "source": [
    "# remove underscore\n",
    "renaming_dd = dict(zip(raw, [_.replace('_', ' ') for _ in raw]))"
   ]
  },
  {
   "cell_type": "code",
   "execution_count": 52,
   "metadata": {
    "collapsed": false
   },
   "outputs": [],
   "source": [
    "renaming_dd.update({\n",
    "        'gene_name': 'Gene',\n",
    "        'chr': 'Chromosome',\n",
    "        'strand': 'Strand',\n",
    "        'disease': 'Disease',\n",
    "        'mclv': 'CS',\n",
    "        'N2T_ratio_change': 'ratio change from N to T',\n",
    "        'fisher_exact_p': 'p-value',\n",
    "        \n",
    "        'aclv': 'mapped annotated CS candidate',\n",
    "        'dist_kclv2aclv': 'distance between predicted and annotated CS',\n",
    "        'dist_kclv2acl_lt_25bp': 'distance < 25 bp',\n",
    "        'asc_list': 'mapped annotated stop codon(s)',\n",
    "        'num_asc': '# mapped stop codons',\n",
    "        'utr_len': \"3'UTR length\"\n",
    "})"
   ]
  },
  {
   "cell_type": "code",
   "execution_count": 53,
   "metadata": {
    "collapsed": false
   },
   "outputs": [],
   "source": [
    "# convert to human readable column names\n",
    "diff_ppd_pretty.rename(columns=renaming_dd, inplace=True)"
   ]
  },
  {
   "cell_type": "code",
   "execution_count": 54,
   "metadata": {
    "collapsed": false
   },
   "outputs": [
    {
     "data": {
      "text/html": [
       "<div>\n",
       "<style>\n",
       "    .dataframe thead tr:only-child th {\n",
       "        text-align: right;\n",
       "    }\n",
       "\n",
       "    .dataframe thead th {\n",
       "        text-align: left;\n",
       "    }\n",
       "\n",
       "    .dataframe tbody tr th {\n",
       "        vertical-align: top;\n",
       "    }\n",
       "</style>\n",
       "<table border=\"1\" class=\"dataframe\">\n",
       "  <thead>\n",
       "    <tr style=\"text-align: right;\">\n",
       "      <th></th>\n",
       "      <th>Gene</th>\n",
       "      <th>Chromosome</th>\n",
       "      <th>Disease</th>\n",
       "      <th>CS</th>\n",
       "      <th>Strand</th>\n",
       "      <th>N on</th>\n",
       "      <th>T on</th>\n",
       "      <th>N off</th>\n",
       "      <th>T off</th>\n",
       "      <th>N total</th>\n",
       "      <th>T total</th>\n",
       "      <th>N on ratio</th>\n",
       "      <th>T on ratio</th>\n",
       "      <th>ratio change from N to T</th>\n",
       "      <th>p-value</th>\n",
       "      <th>mapped annotated CS candidate</th>\n",
       "      <th>distance between predicted and annotated CS</th>\n",
       "      <th>distance &lt; 25 bp</th>\n",
       "      <th>mapped annotated stop codon(s)</th>\n",
       "      <th># mapped stop codons</th>\n",
       "      <th>3'UTR length</th>\n",
       "      <th>p-value &lt; 0.01</th>\n",
       "    </tr>\n",
       "  </thead>\n",
       "  <tbody>\n",
       "    <tr>\n",
       "      <th>810</th>\n",
       "      <td>AKT2</td>\n",
       "      <td>chr19</td>\n",
       "      <td>BRCA</td>\n",
       "      <td>40736224</td>\n",
       "      <td>-</td>\n",
       "      <td>105</td>\n",
       "      <td>878</td>\n",
       "      <td>9</td>\n",
       "      <td>261</td>\n",
       "      <td>114</td>\n",
       "      <td>1139</td>\n",
       "      <td>0.92</td>\n",
       "      <td>0.77</td>\n",
       "      <td>down</td>\n",
       "      <td>0.000068</td>\n",
       "      <td>40736224</td>\n",
       "      <td>0</td>\n",
       "      <td>True</td>\n",
       "      <td>40739779</td>\n",
       "      <td>1</td>\n",
       "      <td>3555</td>\n",
       "      <td>True</td>\n",
       "    </tr>\n",
       "    <tr>\n",
       "      <th>811</th>\n",
       "      <td>AKT2</td>\n",
       "      <td>chr19</td>\n",
       "      <td>BRCA</td>\n",
       "      <td>40736624</td>\n",
       "      <td>-</td>\n",
       "      <td>13</td>\n",
       "      <td>40</td>\n",
       "      <td>101</td>\n",
       "      <td>1099</td>\n",
       "      <td>114</td>\n",
       "      <td>1139</td>\n",
       "      <td>0.11</td>\n",
       "      <td>0.04</td>\n",
       "      <td>down</td>\n",
       "      <td>0.000545</td>\n",
       "      <td>40736224</td>\n",
       "      <td>400</td>\n",
       "      <td>False</td>\n",
       "      <td>40739779</td>\n",
       "      <td>1</td>\n",
       "      <td>NA</td>\n",
       "      <td>True</td>\n",
       "    </tr>\n",
       "  </tbody>\n",
       "</table>\n",
       "</div>"
      ],
      "text/plain": [
       "     Gene Chromosome Disease        CS Strand  N on  T on  N off  T off  N total  T total N on ratio T on ratio ratio change from N to T   p-value  mapped annotated CS candidate  distance between predicted and annotated CS  distance < 25 bp mapped annotated stop codon(s)  # mapped stop codons  \\\n",
       "810  AKT2  chr19      BRCA    40736224  -      105   878   9      261    114      1139     0.92       0.77       down                     0.000068  40736224                       0                                            True              40739779                       1                      \n",
       "811  AKT2  chr19      BRCA    40736624  -      13    40    101    1099   114      1139     0.11       0.04       down                     0.000545  40736224                       400                                          False             40739779                       1                      \n",
       "\n",
       "    3'UTR length  p-value < 0.01  \n",
       "810  3555         True            \n",
       "811  NA           True            "
      ]
     },
     "execution_count": 54,
     "metadata": {},
     "output_type": "execute_result"
    }
   ],
   "source": [
    "diff_ppd_pretty.head(2)"
   ]
  },
  {
   "cell_type": "code",
   "execution_count": 55,
   "metadata": {
    "collapsed": false
   },
   "outputs": [],
   "source": [
    "# put two p-value related columns together\n",
    "cols = diff_ppd_pretty.columns.values.tolist()\n",
    "_c = 'p-value < 0.01'\n",
    "cols.remove(_c)\n",
    "cols.insert(cols.index('p-value') + 1, _c)"
   ]
  },
  {
   "cell_type": "code",
   "execution_count": 57,
   "metadata": {
    "collapsed": false
   },
   "outputs": [],
   "source": [
    "diff_ppd_pretty[cols].to_csv('../__results/clv_sites_freq_shift_details.tsv', sep='\\t', index=False)"
   ]
  },
  {
   "cell_type": "code",
   "execution_count": null,
   "metadata": {
    "collapsed": true
   },
   "outputs": [],
   "source": []
  }
 ],
 "metadata": {
  "anaconda-cloud": {},
  "kernelspec": {
   "display_name": "Python [default]",
   "language": "python",
   "name": "python3"
  },
  "language_info": {
   "codemirror_mode": {
    "name": "ipython",
    "version": 3
   },
   "file_extension": ".py",
   "mimetype": "text/x-python",
   "name": "python",
   "nbconvert_exporter": "python",
   "pygments_lexer": "ipython3",
   "version": "3.5.3"
  }
 },
 "nbformat": 4,
 "nbformat_minor": 1
}
