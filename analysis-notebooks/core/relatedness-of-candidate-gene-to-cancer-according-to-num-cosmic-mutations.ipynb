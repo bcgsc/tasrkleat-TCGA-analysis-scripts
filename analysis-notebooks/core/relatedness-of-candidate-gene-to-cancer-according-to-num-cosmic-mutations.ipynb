{
 "cells": [
  {
   "cell_type": "code",
   "execution_count": 1,
   "metadata": {
    "collapsed": false
   },
   "outputs": [],
   "source": [
    "from eda_import import *"
   ]
  },
  {
   "cell_type": "code",
   "execution_count": 2,
   "metadata": {
    "collapsed": true
   },
   "outputs": [],
   "source": [
    "TARGET_GENES = pd.read_csv('./reference_data/target_genes_with_type.tsv', sep='\\t').Gene.values.tolist()"
   ]
  },
  {
   "cell_type": "code",
   "execution_count": 3,
   "metadata": {
    "collapsed": false
   },
   "outputs": [],
   "source": [
    "assert len(TARGET_GENES) == 114"
   ]
  },
  {
   "cell_type": "code",
   "execution_count": 4,
   "metadata": {
    "collapsed": false
   },
   "outputs": [
    {
     "name": "stdout",
     "output_type": "stream",
     "text": [
      "CPU times: user 37 s, sys: 2.61 s, total: 39.6 s\n",
      "Wall time: 39.6 s\n"
     ]
    }
   ],
   "source": [
    "%%time\n",
    "adf = pd.read_csv('reference_data/cosmic/CosmicMutantExport.tsv.gz',\n",
    "                  compression='gzip', sep='\\t')"
   ]
  },
  {
   "cell_type": "code",
   "execution_count": 5,
   "metadata": {
    "collapsed": false
   },
   "outputs": [],
   "source": [
    "bdf = adf.rename(columns=dict(\n",
    "    zip(adf.columns.values, \n",
    "        map(lambda v: '_'.join(v.lower().split()), adf.columns.values))))"
   ]
  },
  {
   "cell_type": "code",
   "execution_count": 6,
   "metadata": {
    "collapsed": false
   },
   "outputs": [],
   "source": [
    "assert bdf.shape == (4658693, 35)"
   ]
  },
  {
   "cell_type": "code",
   "execution_count": 7,
   "metadata": {
    "collapsed": false
   },
   "outputs": [],
   "source": [
    "assert bdf.gene_name.unique().shape[0] == 28950"
   ]
  },
  {
   "cell_type": "code",
   "execution_count": 8,
   "metadata": {
    "collapsed": false
   },
   "outputs": [
    {
     "data": {
      "text/html": [
       "<div>\n",
       "<style>\n",
       "    .dataframe thead tr:only-child th {\n",
       "        text-align: right;\n",
       "    }\n",
       "\n",
       "    .dataframe thead th {\n",
       "        text-align: left;\n",
       "    }\n",
       "\n",
       "    .dataframe tbody tr th {\n",
       "        vertical-align: top;\n",
       "    }\n",
       "</style>\n",
       "<table border=\"1\" class=\"dataframe\">\n",
       "  <thead>\n",
       "    <tr style=\"text-align: right;\">\n",
       "      <th></th>\n",
       "      <th>gene_name</th>\n",
       "      <th>accession_number</th>\n",
       "      <th>gene_cds_length</th>\n",
       "      <th>hgnc_id</th>\n",
       "      <th>sample_name</th>\n",
       "      <th>id_sample</th>\n",
       "      <th>id_tumour</th>\n",
       "      <th>primary_site</th>\n",
       "      <th>site_subtype_1</th>\n",
       "      <th>site_subtype_2</th>\n",
       "      <th>site_subtype_3</th>\n",
       "      <th>primary_histology</th>\n",
       "      <th>histology_subtype_1</th>\n",
       "      <th>histology_subtype_2</th>\n",
       "      <th>histology_subtype_3</th>\n",
       "      <th>genome-wide_screen</th>\n",
       "      <th>mutation_id</th>\n",
       "      <th>mutation_cds</th>\n",
       "      <th>mutation_aa</th>\n",
       "      <th>mutation_description</th>\n",
       "      <th>mutation_zygosity</th>\n",
       "      <th>loh</th>\n",
       "      <th>grch</th>\n",
       "      <th>mutation_genome_position</th>\n",
       "      <th>mutation_strand</th>\n",
       "      <th>snp</th>\n",
       "      <th>resistance_mutation</th>\n",
       "      <th>fathmm_prediction</th>\n",
       "      <th>fathmm_score</th>\n",
       "      <th>mutation_somatic_status</th>\n",
       "      <th>pubmed_pmid</th>\n",
       "      <th>id_study</th>\n",
       "      <th>sample_source</th>\n",
       "      <th>tumour_origin</th>\n",
       "      <th>age</th>\n",
       "    </tr>\n",
       "  </thead>\n",
       "  <tbody>\n",
       "    <tr>\n",
       "      <th>0</th>\n",
       "      <td>PTEN</td>\n",
       "      <td>ENST00000371953</td>\n",
       "      <td>1212</td>\n",
       "      <td>9588.0</td>\n",
       "      <td>WA24</td>\n",
       "      <td>1689670</td>\n",
       "      <td>1597947</td>\n",
       "      <td>prostate</td>\n",
       "      <td>NS</td>\n",
       "      <td>NS</td>\n",
       "      <td>NS</td>\n",
       "      <td>carcinoma</td>\n",
       "      <td>adenocarcinoma</td>\n",
       "      <td>NS</td>\n",
       "      <td>NS</td>\n",
       "      <td>y</td>\n",
       "      <td>COSM4958</td>\n",
       "      <td>c.955_958delACTT</td>\n",
       "      <td>p.T319fs*1</td>\n",
       "      <td>Deletion - Frameshift</td>\n",
       "      <td>NaN</td>\n",
       "      <td>u</td>\n",
       "      <td>38.0</td>\n",
       "      <td>10:87961047-87961050</td>\n",
       "      <td>+</td>\n",
       "      <td>NaN</td>\n",
       "      <td>-</td>\n",
       "      <td>NaN</td>\n",
       "      <td>NaN</td>\n",
       "      <td>Confirmed somatic variant</td>\n",
       "      <td>22722839.0</td>\n",
       "      <td>NaN</td>\n",
       "      <td>autopsy - NOS</td>\n",
       "      <td>metastasis</td>\n",
       "      <td>76.0</td>\n",
       "    </tr>\n",
       "    <tr>\n",
       "      <th>1</th>\n",
       "      <td>NOTCH1</td>\n",
       "      <td>ENST00000277541</td>\n",
       "      <td>7668</td>\n",
       "      <td>7881.0</td>\n",
       "      <td>HN208PT</td>\n",
       "      <td>1542923</td>\n",
       "      <td>1465226</td>\n",
       "      <td>upper_aerodigestive_tract</td>\n",
       "      <td>mouth</td>\n",
       "      <td>NS</td>\n",
       "      <td>NS</td>\n",
       "      <td>carcinoma</td>\n",
       "      <td>squamous_cell_carcinoma</td>\n",
       "      <td>NS</td>\n",
       "      <td>NS</td>\n",
       "      <td>n</td>\n",
       "      <td>COSM99653</td>\n",
       "      <td>c.3835C&gt;T</td>\n",
       "      <td>p.R1279C</td>\n",
       "      <td>Substitution - Missense</td>\n",
       "      <td>NaN</td>\n",
       "      <td>u</td>\n",
       "      <td>38.0</td>\n",
       "      <td>9:136506782-136506782</td>\n",
       "      <td>-</td>\n",
       "      <td>n</td>\n",
       "      <td>-</td>\n",
       "      <td>PATHOGENIC</td>\n",
       "      <td>0.99741</td>\n",
       "      <td>Confirmed somatic variant</td>\n",
       "      <td>21798897.0</td>\n",
       "      <td>NaN</td>\n",
       "      <td>NS</td>\n",
       "      <td>NS</td>\n",
       "      <td>NaN</td>\n",
       "    </tr>\n",
       "  </tbody>\n",
       "</table>\n",
       "</div>"
      ],
      "text/plain": [
       "  gene_name accession_number  gene_cds_length  hgnc_id sample_name  id_sample  id_tumour               primary_site site_subtype_1 site_subtype_2 site_subtype_3 primary_histology      histology_subtype_1 histology_subtype_2 histology_subtype_3 genome-wide_screen mutation_id      mutation_cds  \\\n",
       "0  PTEN      ENST00000371953  1212             9588.0   WA24        1689670    1597947    prostate                   NS             NS             NS             carcinoma         adenocarcinoma           NS                  NS                  y                  COSM4958    c.955_958delACTT   \n",
       "1  NOTCH1    ENST00000277541  7668             7881.0   HN208PT     1542923    1465226    upper_aerodigestive_tract  mouth          NS             NS             carcinoma         squamous_cell_carcinoma  NS                  NS                  n                  COSM99653   c.3835C>T          \n",
       "\n",
       "  mutation_aa     mutation_description mutation_zygosity loh  grch mutation_genome_position mutation_strand  snp resistance_mutation fathmm_prediction  fathmm_score    mutation_somatic_status  pubmed_pmid  id_study  sample_source tumour_origin   age  \n",
       "0  p.T319fs*1  Deletion - Frameshift    NaN               u   38.0  10:87961047-87961050     +               NaN  -                   NaN              NaN            Confirmed somatic variant  22722839.0  NaN        autopsy - NOS  metastasis    76.0  \n",
       "1  p.R1279C    Substitution - Missense  NaN               u   38.0  9:136506782-136506782    -               n    -                   PATHOGENIC        0.99741       Confirmed somatic variant  21798897.0  NaN        NS             NS           NaN    "
      ]
     },
     "execution_count": 8,
     "metadata": {},
     "output_type": "execute_result"
    }
   ],
   "source": [
    "bdf.head(2)"
   ]
  },
  {
   "cell_type": "code",
   "execution_count": 9,
   "metadata": {
    "collapsed": false
   },
   "outputs": [
    {
     "data": {
      "text/plain": [
       "Index(['gene_name', 'accession_number', 'gene_cds_length', 'hgnc_id', 'sample_name', 'id_sample', 'id_tumour', 'primary_site', 'site_subtype_1', 'site_subtype_2', 'site_subtype_3', 'primary_histology', 'histology_subtype_1', 'histology_subtype_2', 'histology_subtype_3', 'genome-wide_screen',\n",
       "       'mutation_id', 'mutation_cds', 'mutation_aa', 'mutation_description', 'mutation_zygosity', 'loh', 'grch', 'mutation_genome_position', 'mutation_strand', 'snp', 'resistance_mutation', 'fathmm_prediction', 'fathmm_score', 'mutation_somatic_status', 'pubmed_pmid', 'id_study', 'sample_source',\n",
       "       'tumour_origin', 'age'],\n",
       "      dtype='object')"
      ]
     },
     "execution_count": 9,
     "metadata": {},
     "output_type": "execute_result"
    }
   ],
   "source": [
    "bdf.columns"
   ]
  },
  {
   "cell_type": "code",
   "execution_count": 10,
   "metadata": {
    "collapsed": true
   },
   "outputs": [],
   "source": [
    "histology_df = bdf[['primary_site', 'site_subtype_1', 'site_subtype_2', 'site_subtype_3',\n",
    "                    'primary_histology', 'histology_subtype_1', \n",
    "                    'histology_subtype_2', 'histology_subtype_3']].drop_duplicates()"
   ]
  },
  {
   "cell_type": "code",
   "execution_count": 11,
   "metadata": {
    "collapsed": false
   },
   "outputs": [
    {
     "data": {
      "text/plain": [
       "(3161, 8)"
      ]
     },
     "execution_count": 11,
     "metadata": {},
     "output_type": "execute_result"
    }
   ],
   "source": [
    "histology_df.shape"
   ]
  },
  {
   "cell_type": "code",
   "execution_count": 12,
   "metadata": {
    "collapsed": false
   },
   "outputs": [
    {
     "data": {
      "text/html": [
       "<div>\n",
       "<style>\n",
       "    .dataframe thead tr:only-child th {\n",
       "        text-align: right;\n",
       "    }\n",
       "\n",
       "    .dataframe thead th {\n",
       "        text-align: left;\n",
       "    }\n",
       "\n",
       "    .dataframe tbody tr th {\n",
       "        vertical-align: top;\n",
       "    }\n",
       "</style>\n",
       "<table border=\"1\" class=\"dataframe\">\n",
       "  <thead>\n",
       "    <tr style=\"text-align: right;\">\n",
       "      <th></th>\n",
       "      <th>primary_site</th>\n",
       "      <th>site_subtype_1</th>\n",
       "      <th>site_subtype_2</th>\n",
       "      <th>site_subtype_3</th>\n",
       "      <th>primary_histology</th>\n",
       "      <th>histology_subtype_1</th>\n",
       "      <th>histology_subtype_2</th>\n",
       "      <th>histology_subtype_3</th>\n",
       "    </tr>\n",
       "  </thead>\n",
       "  <tbody>\n",
       "    <tr>\n",
       "      <th>0</th>\n",
       "      <td>prostate</td>\n",
       "      <td>NS</td>\n",
       "      <td>NS</td>\n",
       "      <td>NS</td>\n",
       "      <td>carcinoma</td>\n",
       "      <td>adenocarcinoma</td>\n",
       "      <td>NS</td>\n",
       "      <td>NS</td>\n",
       "    </tr>\n",
       "    <tr>\n",
       "      <th>1</th>\n",
       "      <td>upper_aerodigestive_tract</td>\n",
       "      <td>mouth</td>\n",
       "      <td>NS</td>\n",
       "      <td>NS</td>\n",
       "      <td>carcinoma</td>\n",
       "      <td>squamous_cell_carcinoma</td>\n",
       "      <td>NS</td>\n",
       "      <td>NS</td>\n",
       "    </tr>\n",
       "    <tr>\n",
       "      <th>2</th>\n",
       "      <td>stomach</td>\n",
       "      <td>NS</td>\n",
       "      <td>NS</td>\n",
       "      <td>NS</td>\n",
       "      <td>carcinoma</td>\n",
       "      <td>adenocarcinoma</td>\n",
       "      <td>NS</td>\n",
       "      <td>NS</td>\n",
       "    </tr>\n",
       "    <tr>\n",
       "      <th>3</th>\n",
       "      <td>oesophagus</td>\n",
       "      <td>NS</td>\n",
       "      <td>NS</td>\n",
       "      <td>NS</td>\n",
       "      <td>carcinoma</td>\n",
       "      <td>adenocarcinoma</td>\n",
       "      <td>NS</td>\n",
       "      <td>NS</td>\n",
       "    </tr>\n",
       "    <tr>\n",
       "      <th>4</th>\n",
       "      <td>pancreas</td>\n",
       "      <td>NS</td>\n",
       "      <td>NS</td>\n",
       "      <td>NS</td>\n",
       "      <td>carcinoma</td>\n",
       "      <td>ductal_carcinoma</td>\n",
       "      <td>NS</td>\n",
       "      <td>NS</td>\n",
       "    </tr>\n",
       "  </tbody>\n",
       "</table>\n",
       "</div>"
      ],
      "text/plain": [
       "                primary_site site_subtype_1 site_subtype_2 site_subtype_3 primary_histology      histology_subtype_1 histology_subtype_2 histology_subtype_3\n",
       "0  prostate                   NS             NS             NS             carcinoma         adenocarcinoma           NS                  NS                \n",
       "1  upper_aerodigestive_tract  mouth          NS             NS             carcinoma         squamous_cell_carcinoma  NS                  NS                \n",
       "2  stomach                    NS             NS             NS             carcinoma         adenocarcinoma           NS                  NS                \n",
       "3  oesophagus                 NS             NS             NS             carcinoma         adenocarcinoma           NS                  NS                \n",
       "4  pancreas                   NS             NS             NS             carcinoma         ductal_carcinoma         NS                  NS                "
      ]
     },
     "execution_count": 12,
     "metadata": {},
     "output_type": "execute_result"
    }
   ],
   "source": [
    "histology_df.head()"
   ]
  },
  {
   "cell_type": "code",
   "execution_count": 13,
   "metadata": {
    "collapsed": false
   },
   "outputs": [
    {
     "data": {
      "text/plain": [
       "NS           4658636\n",
       "ethmoid      27     \n",
       "maxillary    25     \n",
       "piriform     5      \n",
       "Name: site_subtype_3, dtype: int64"
      ]
     },
     "execution_count": 13,
     "metadata": {},
     "output_type": "execute_result"
    }
   ],
   "source": [
    "bdf.site_subtype_3.value_counts()"
   ]
  },
  {
   "cell_type": "code",
   "execution_count": 14,
   "metadata": {
    "collapsed": false
   },
   "outputs": [
    {
     "data": {
      "text/plain": [
       "NS           4658636\n",
       "ethmoid      27     \n",
       "maxillary    25     \n",
       "piriform     5      \n",
       "Name: site_subtype_3, dtype: int64"
      ]
     },
     "execution_count": 14,
     "metadata": {},
     "output_type": "execute_result"
    }
   ],
   "source": [
    "bdf.site_subtype_3.value_counts()"
   ]
  },
  {
   "cell_type": "code",
   "execution_count": 16,
   "metadata": {
    "collapsed": false
   },
   "outputs": [],
   "source": [
    "cdf = bdf.query('gene_name in {0}'.format(TARGET_GENES)).copy()"
   ]
  },
  {
   "cell_type": "code",
   "execution_count": 17,
   "metadata": {
    "collapsed": false
   },
   "outputs": [],
   "source": [
    "assert cdf.shape == (304677, 35)"
   ]
  },
  {
   "cell_type": "code",
   "execution_count": 18,
   "metadata": {
    "collapsed": false
   },
   "outputs": [],
   "source": [
    "assert cdf.gene_name.unique().shape[0] == 114"
   ]
  },
  {
   "cell_type": "code",
   "execution_count": 19,
   "metadata": {
    "collapsed": false
   },
   "outputs": [],
   "source": [
    "assert bdf.sample_name.unique().shape[0] == 318823"
   ]
  },
  {
   "cell_type": "code",
   "execution_count": 20,
   "metadata": {
    "collapsed": false
   },
   "outputs": [],
   "source": [
    "assert cdf.sample_name.unique().shape[0] == 238213"
   ]
  },
  {
   "cell_type": "code",
   "execution_count": 21,
   "metadata": {
    "collapsed": false
   },
   "outputs": [],
   "source": [
    "assert cdf[-cdf.fathmm_score.isnull()].shape[0] == 173043"
   ]
  },
  {
   "cell_type": "code",
   "execution_count": 22,
   "metadata": {
    "collapsed": false
   },
   "outputs": [],
   "source": [
    "assert cdf.query('fathmm_score != fathmm_score').shape == (131634, 35)"
   ]
  },
  {
   "cell_type": "code",
   "execution_count": 23,
   "metadata": {
    "collapsed": false
   },
   "outputs": [
    {
     "data": {
      "text/plain": [
       "0.4320444273771896"
      ]
     },
     "execution_count": 23,
     "metadata": {},
     "output_type": "execute_result"
    }
   ],
   "source": [
    "131634 / 304677"
   ]
  },
  {
   "cell_type": "code",
   "execution_count": 24,
   "metadata": {
    "collapsed": false
   },
   "outputs": [
    {
     "data": {
      "text/plain": [
       "PATHOGENIC    160149\n",
       "NEUTRAL       10477 \n",
       "Name: fathmm_prediction, dtype: int64"
      ]
     },
     "execution_count": 24,
     "metadata": {},
     "output_type": "execute_result"
    }
   ],
   "source": [
    "cdf.fathmm_prediction.value_counts()"
   ]
  },
  {
   "cell_type": "code",
   "execution_count": 25,
   "metadata": {
    "collapsed": false
   },
   "outputs": [
    {
     "data": {
      "text/plain": [
       "Substitution - Missense            204540\n",
       "Unknown                            28089 \n",
       "Insertion - In frame               15404 \n",
       "Deletion - In frame                15201 \n",
       "Substitution - Nonsense            12616 \n",
       "Deletion - Frameshift              9919  \n",
       "Substitution - coding silent       8445  \n",
       "Insertion - Frameshift             4867  \n",
       "Whole gene deletion                2120  \n",
       "Complex - deletion inframe         1943  \n",
       "Frameshift                         549   \n",
       "Complex - frameshift               491   \n",
       "Complex - insertion inframe        318   \n",
       "Complex - compound substitution    106   \n",
       "Nonstop extension                  43    \n",
       "Complex                            26    \n",
       "Name: mutation_description, dtype: int64"
      ]
     },
     "execution_count": 25,
     "metadata": {},
     "output_type": "execute_result"
    }
   ],
   "source": [
    "cdf.mutation_description.value_counts()"
   ]
  },
  {
   "cell_type": "code",
   "execution_count": 26,
   "metadata": {
    "collapsed": false
   },
   "outputs": [
    {
     "data": {
      "text/plain": [
       "Substitution - Missense         150983\n",
       "Substitution - Nonsense         11035 \n",
       "Substitution - coding silent    7719  \n",
       "Unknown                         3248  \n",
       "Nonstop extension               36    \n",
       "Insertion - In frame            9     \n",
       "Deletion - Frameshift           9     \n",
       "Deletion - In frame             3     \n",
       "Complex - insertion inframe     1     \n",
       "Name: mutation_description, dtype: int64"
      ]
     },
     "execution_count": 26,
     "metadata": {},
     "output_type": "execute_result"
    }
   ],
   "source": [
    "cdf[-cdf.fathmm_score.isnull()].mutation_description.value_counts()"
   ]
  },
  {
   "cell_type": "code",
   "execution_count": 27,
   "metadata": {
    "collapsed": false
   },
   "outputs": [],
   "source": [
    "ddf = cdf[['gene_name', 'mutation_id', 'mutation_cds', 'mutation_aa',\n",
    "           'mutation_description', 'fathmm_prediction', 'fathmm_score']].drop_duplicates()"
   ]
  },
  {
   "cell_type": "code",
   "execution_count": 28,
   "metadata": {
    "collapsed": false
   },
   "outputs": [],
   "source": [
    "assert ddf.shape == (54193, 7)"
   ]
  },
  {
   "cell_type": "code",
   "execution_count": 29,
   "metadata": {
    "collapsed": false
   },
   "outputs": [
    {
     "data": {
      "text/html": [
       "<div>\n",
       "<style>\n",
       "    .dataframe thead tr:only-child th {\n",
       "        text-align: right;\n",
       "    }\n",
       "\n",
       "    .dataframe thead th {\n",
       "        text-align: left;\n",
       "    }\n",
       "\n",
       "    .dataframe tbody tr th {\n",
       "        vertical-align: top;\n",
       "    }\n",
       "</style>\n",
       "<table border=\"1\" class=\"dataframe\">\n",
       "  <thead>\n",
       "    <tr style=\"text-align: right;\">\n",
       "      <th></th>\n",
       "      <th>gene_name</th>\n",
       "      <th>accession_number</th>\n",
       "      <th>gene_cds_length</th>\n",
       "      <th>hgnc_id</th>\n",
       "      <th>sample_name</th>\n",
       "      <th>id_sample</th>\n",
       "      <th>id_tumour</th>\n",
       "      <th>primary_site</th>\n",
       "      <th>site_subtype_1</th>\n",
       "      <th>site_subtype_2</th>\n",
       "      <th>site_subtype_3</th>\n",
       "      <th>primary_histology</th>\n",
       "      <th>histology_subtype_1</th>\n",
       "      <th>histology_subtype_2</th>\n",
       "      <th>histology_subtype_3</th>\n",
       "      <th>genome-wide_screen</th>\n",
       "      <th>mutation_id</th>\n",
       "      <th>mutation_cds</th>\n",
       "      <th>mutation_aa</th>\n",
       "      <th>mutation_description</th>\n",
       "      <th>mutation_zygosity</th>\n",
       "      <th>loh</th>\n",
       "      <th>grch</th>\n",
       "      <th>mutation_genome_position</th>\n",
       "      <th>mutation_strand</th>\n",
       "      <th>snp</th>\n",
       "      <th>resistance_mutation</th>\n",
       "      <th>fathmm_prediction</th>\n",
       "      <th>fathmm_score</th>\n",
       "      <th>mutation_somatic_status</th>\n",
       "      <th>pubmed_pmid</th>\n",
       "      <th>id_study</th>\n",
       "      <th>sample_source</th>\n",
       "      <th>tumour_origin</th>\n",
       "      <th>age</th>\n",
       "    </tr>\n",
       "  </thead>\n",
       "  <tbody>\n",
       "    <tr>\n",
       "      <th>0</th>\n",
       "      <td>PTEN</td>\n",
       "      <td>ENST00000371953</td>\n",
       "      <td>1212</td>\n",
       "      <td>9588.0</td>\n",
       "      <td>WA24</td>\n",
       "      <td>1689670</td>\n",
       "      <td>1597947</td>\n",
       "      <td>prostate</td>\n",
       "      <td>NS</td>\n",
       "      <td>NS</td>\n",
       "      <td>NS</td>\n",
       "      <td>carcinoma</td>\n",
       "      <td>adenocarcinoma</td>\n",
       "      <td>NS</td>\n",
       "      <td>NS</td>\n",
       "      <td>y</td>\n",
       "      <td>COSM4958</td>\n",
       "      <td>c.955_958delACTT</td>\n",
       "      <td>p.T319fs*1</td>\n",
       "      <td>Deletion - Frameshift</td>\n",
       "      <td>NaN</td>\n",
       "      <td>u</td>\n",
       "      <td>38.0</td>\n",
       "      <td>10:87961047-87961050</td>\n",
       "      <td>+</td>\n",
       "      <td>NaN</td>\n",
       "      <td>-</td>\n",
       "      <td>NaN</td>\n",
       "      <td>NaN</td>\n",
       "      <td>Confirmed somatic variant</td>\n",
       "      <td>22722839.0</td>\n",
       "      <td>NaN</td>\n",
       "      <td>autopsy - NOS</td>\n",
       "      <td>metastasis</td>\n",
       "      <td>76.0</td>\n",
       "    </tr>\n",
       "  </tbody>\n",
       "</table>\n",
       "</div>"
      ],
      "text/plain": [
       "  gene_name accession_number  gene_cds_length  hgnc_id sample_name  id_sample  id_tumour primary_site site_subtype_1 site_subtype_2 site_subtype_3 primary_histology histology_subtype_1 histology_subtype_2 histology_subtype_3 genome-wide_screen mutation_id      mutation_cds mutation_aa  \\\n",
       "0  PTEN      ENST00000371953  1212             9588.0   WA24        1689670    1597947    prostate     NS             NS             NS             carcinoma         adenocarcinoma      NS                  NS                  y                  COSM4958    c.955_958delACTT  p.T319fs*1   \n",
       "\n",
       "    mutation_description mutation_zygosity loh  grch mutation_genome_position mutation_strand  snp resistance_mutation fathmm_prediction  fathmm_score    mutation_somatic_status  pubmed_pmid  id_study  sample_source tumour_origin   age  \n",
       "0  Deletion - Frameshift  NaN               u   38.0  10:87961047-87961050     +               NaN  -                   NaN              NaN            Confirmed somatic variant  22722839.0  NaN        autopsy - NOS  metastasis    76.0  "
      ]
     },
     "execution_count": 29,
     "metadata": {},
     "output_type": "execute_result"
    }
   ],
   "source": [
    "cdf.head(1)"
   ]
  },
  {
   "cell_type": "code",
   "execution_count": 30,
   "metadata": {
    "collapsed": false
   },
   "outputs": [
    {
     "data": {
      "text/html": [
       "<div>\n",
       "<style>\n",
       "    .dataframe thead tr:only-child th {\n",
       "        text-align: right;\n",
       "    }\n",
       "\n",
       "    .dataframe thead th {\n",
       "        text-align: left;\n",
       "    }\n",
       "\n",
       "    .dataframe tbody tr th {\n",
       "        vertical-align: top;\n",
       "    }\n",
       "</style>\n",
       "<table border=\"1\" class=\"dataframe\">\n",
       "  <thead>\n",
       "    <tr style=\"text-align: right;\">\n",
       "      <th></th>\n",
       "      <th>gene_name</th>\n",
       "      <th>mutation_id</th>\n",
       "      <th>mutation_cds</th>\n",
       "      <th>mutation_aa</th>\n",
       "      <th>mutation_description</th>\n",
       "      <th>fathmm_prediction</th>\n",
       "      <th>fathmm_score</th>\n",
       "    </tr>\n",
       "  </thead>\n",
       "  <tbody>\n",
       "    <tr>\n",
       "      <th>0</th>\n",
       "      <td>PTEN</td>\n",
       "      <td>COSM4958</td>\n",
       "      <td>c.955_958delACTT</td>\n",
       "      <td>p.T319fs*1</td>\n",
       "      <td>Deletion - Frameshift</td>\n",
       "      <td>NaN</td>\n",
       "      <td>NaN</td>\n",
       "    </tr>\n",
       "    <tr>\n",
       "      <th>1</th>\n",
       "      <td>NOTCH1</td>\n",
       "      <td>COSM99653</td>\n",
       "      <td>c.3835C&gt;T</td>\n",
       "      <td>p.R1279C</td>\n",
       "      <td>Substitution - Missense</td>\n",
       "      <td>PATHOGENIC</td>\n",
       "      <td>0.99741</td>\n",
       "    </tr>\n",
       "    <tr>\n",
       "      <th>7</th>\n",
       "      <td>NOTCH1</td>\n",
       "      <td>COSM29456</td>\n",
       "      <td>c.7555delC</td>\n",
       "      <td>p.Q2519fs*&gt;37</td>\n",
       "      <td>Deletion - Frameshift</td>\n",
       "      <td>NaN</td>\n",
       "      <td>NaN</td>\n",
       "    </tr>\n",
       "    <tr>\n",
       "      <th>9</th>\n",
       "      <td>APC</td>\n",
       "      <td>COSM18779</td>\n",
       "      <td>c.4067C&gt;G</td>\n",
       "      <td>p.S1356*</td>\n",
       "      <td>Substitution - Nonsense</td>\n",
       "      <td>PATHOGENIC</td>\n",
       "      <td>0.96807</td>\n",
       "    </tr>\n",
       "    <tr>\n",
       "      <th>10</th>\n",
       "      <td>TP53</td>\n",
       "      <td>COSM10672</td>\n",
       "      <td>c.577C&gt;T</td>\n",
       "      <td>p.H193Y</td>\n",
       "      <td>Substitution - Missense</td>\n",
       "      <td>PATHOGENIC</td>\n",
       "      <td>0.99615</td>\n",
       "    </tr>\n",
       "  </tbody>\n",
       "</table>\n",
       "</div>"
      ],
      "text/plain": [
       "   gene_name mutation_id      mutation_cds    mutation_aa     mutation_description fathmm_prediction  fathmm_score\n",
       "0   PTEN      COSM4958    c.955_958delACTT  p.T319fs*1     Deletion - Frameshift    NaN              NaN          \n",
       "1   NOTCH1    COSM99653   c.3835C>T         p.R1279C       Substitution - Missense  PATHOGENIC        0.99741     \n",
       "7   NOTCH1    COSM29456   c.7555delC        p.Q2519fs*>37  Deletion - Frameshift    NaN              NaN          \n",
       "9   APC       COSM18779   c.4067C>G         p.S1356*       Substitution - Nonsense  PATHOGENIC        0.96807     \n",
       "10  TP53      COSM10672   c.577C>T          p.H193Y        Substitution - Missense  PATHOGENIC        0.99615     "
      ]
     },
     "execution_count": 30,
     "metadata": {},
     "output_type": "execute_result"
    }
   ],
   "source": [
    "ddf.head()"
   ]
  },
  {
   "cell_type": "code",
   "execution_count": 31,
   "metadata": {
    "collapsed": true
   },
   "outputs": [],
   "source": [
    "edf = ddf.dropna().query('fathmm_prediction == \"PATHOGENIC\"')"
   ]
  },
  {
   "cell_type": "code",
   "execution_count": 32,
   "metadata": {
    "collapsed": false
   },
   "outputs": [],
   "source": [
    "assert edf.shape == (23628, 7)"
   ]
  },
  {
   "cell_type": "code",
   "execution_count": 33,
   "metadata": {
    "collapsed": false
   },
   "outputs": [
    {
     "data": {
      "text/plain": [
       "Substitution - Missense         17150\n",
       "Substitution - Nonsense         2891 \n",
       "Substitution - coding silent    2282 \n",
       "Unknown                         1270 \n",
       "Nonstop extension               27   \n",
       "Deletion - Frameshift           4    \n",
       "Deletion - In frame             2    \n",
       "Insertion - In frame            1    \n",
       "Complex - insertion inframe     1    \n",
       "Name: mutation_description, dtype: int64"
      ]
     },
     "execution_count": 33,
     "metadata": {},
     "output_type": "execute_result"
    }
   ],
   "source": [
    "edf.mutation_description.value_counts()"
   ]
  },
  {
   "cell_type": "code",
   "execution_count": 34,
   "metadata": {
    "collapsed": false
   },
   "outputs": [
    {
     "data": {
      "text/plain": [
       "gene_name\n",
       "NFE2L3    1 \n",
       "MYCL      11\n",
       "DRAM1     14\n",
       "CHURC1    14\n",
       "TXNL4A    15\n",
       "dtype: int64"
      ]
     },
     "execution_count": 34,
     "metadata": {},
     "output_type": "execute_result"
    }
   ],
   "source": [
    "edf.groupby('gene_name').apply(lambda g: g.shape[0]).sort_values().head()"
   ]
  },
  {
   "cell_type": "code",
   "execution_count": 35,
   "metadata": {
    "collapsed": false
   },
   "outputs": [
    {
     "data": {
      "text/plain": [
       "<matplotlib.text.Text at 0x7f598f8c2c50>"
      ]
     },
     "execution_count": 35,
     "metadata": {},
     "output_type": "execute_result"
    },
    {
     "data": {
      "image/png": "[encoded data removed]",
      "text/plain": [
       "<matplotlib.figure.Figure at 0x7f598f8c2048>"
      ]
     },
     "metadata": {},
     "output_type": "display_data"
    }
   ],
   "source": [
    "fig = plt.figure(figsize=(18, 8))\n",
    "ax = fig.add_subplot(111)\n",
    "\n",
    "edf.groupby('gene_name').apply(\n",
    "    lambda g: g.shape[0]).sort_values(ascending=False).plot.bar(ax=ax)\n",
    "ax.set_yticks(np.arange(0, 1250, 100))\n",
    "ax.set_ylim(0, 1250)\n",
    "ax.yaxis.grid()\n",
    "ax.set_ylabel('Number of pathogenic mutations recorded in COSMIC', fontsize=14)\n",
    "ax.set_xlabel('')\n",
    "# plt.savefig('./results/figs/num-pathogenic-mutations.jpg', dpi=300, bbox_inches='tight')"
   ]
  }
 ],
 "metadata": {
  "anaconda-cloud": {},
  "kernelspec": {
   "display_name": "Python [default]",
   "language": "python",
   "name": "python3"
  },
  "language_info": {
   "codemirror_mode": {
    "name": "ipython",
    "version": 3
   },
   "file_extension": ".py",
   "mimetype": "text/x-python",
   "name": "python",
   "nbconvert_exporter": "python",
   "pygments_lexer": "ipython3",
   "version": "3.5.3"
  }
 },
 "nbformat": 4,
 "nbformat_minor": 1
}
