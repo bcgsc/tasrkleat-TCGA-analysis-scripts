{
 "cells": [
  {
   "cell_type": "code",
   "execution_count": 1,
   "metadata": {
    "collapsed": false
   },
   "outputs": [],
   "source": [
    "from eda_import import *"
   ]
  },
  {
   "cell_type": "code",
   "execution_count": 44,
   "metadata": {
    "collapsed": true
   },
   "outputs": [],
   "source": [
    "import matplotlib.patches as patches"
   ]
  },
  {
   "cell_type": "code",
   "execution_count": 2,
   "metadata": {
    "collapsed": false,
    "scrolled": true
   },
   "outputs": [
    {
     "name": "stdout",
     "output_type": "stream",
     "text": [
      "2018-05-08\n"
     ]
    }
   ],
   "source": [
    "print(datetime.datetime.today().date())"
   ]
  },
  {
   "cell_type": "code",
   "execution_count": 3,
   "metadata": {
    "collapsed": true
   },
   "outputs": [],
   "source": [
    "TOTAL_NUM_CALLS = 67544140"
   ]
  },
  {
   "cell_type": "code",
   "execution_count": 4,
   "metadata": {
    "collapsed": false
   },
   "outputs": [
    {
     "name": "stdout",
     "output_type": "stream",
     "text": [
      "CPU times: user 1.64 s, sys: 5.75 s, total: 7.39 s\n",
      "Wall time: 11.7 s\n"
     ]
    }
   ],
   "source": [
    "%time adf = pd.read_pickle('./results/all_cba.KLEAT.on-target-cleaned-hexamer-researched.pkl')"
   ]
  },
  {
   "cell_type": "code",
   "execution_count": null,
   "metadata": {
    "collapsed": true
   },
   "outputs": [],
   "source": []
  },
  {
   "cell_type": "markdown",
   "metadata": {},
   "source": [
    "# map clv to a closest clustered annotated CS"
   ]
  },
  {
   "cell_type": "code",
   "execution_count": 8,
   "metadata": {
    "collapsed": false
   },
   "outputs": [],
   "source": [
    "df_clv_sc = pd.read_csv('./reference_data/annotated-clv-sc-mapping.csv.gz', keep_default_na=False)"
   ]
  },
  {
   "cell_type": "code",
   "execution_count": 9,
   "metadata": {
    "collapsed": false
   },
   "outputs": [
    {
     "data": {
      "text/html": [
       "<div>\n",
       "<style>\n",
       "    .dataframe thead tr:only-child th {\n",
       "        text-align: right;\n",
       "    }\n",
       "\n",
       "    .dataframe thead th {\n",
       "        text-align: left;\n",
       "    }\n",
       "\n",
       "    .dataframe tbody tr th {\n",
       "        vertical-align: top;\n",
       "    }\n",
       "</style>\n",
       "<table border=\"1\" class=\"dataframe\">\n",
       "  <thead>\n",
       "    <tr style=\"text-align: right;\">\n",
       "      <th></th>\n",
       "      <th>gene_name</th>\n",
       "      <th>transcript_id</th>\n",
       "      <th>seqname</th>\n",
       "      <th>source</th>\n",
       "      <th>sc</th>\n",
       "      <th>clv</th>\n",
       "      <th>strand</th>\n",
       "      <th>gene_source</th>\n",
       "      <th>transcript_source</th>\n",
       "      <th>is_cds_end_NF</th>\n",
       "      <th>is_cds_start_NF</th>\n",
       "      <th>utr_beg</th>\n",
       "      <th>cluster_idx</th>\n",
       "      <th>aclv</th>\n",
       "      <th>clv0</th>\n",
       "      <th>hexamer</th>\n",
       "      <th>hexamer_id</th>\n",
       "      <th>hexamer_loc0</th>\n",
       "      <th>hexamer_loc</th>\n",
       "      <th>sdist_aclv2ahex</th>\n",
       "    </tr>\n",
       "  </thead>\n",
       "  <tbody>\n",
       "    <tr>\n",
       "      <th>4</th>\n",
       "      <td>AKT1</td>\n",
       "      <td>ENST00000544168</td>\n",
       "      <td>14</td>\n",
       "      <td>protein_coding</td>\n",
       "      <td>105236678</td>\n",
       "      <td>105236492</td>\n",
       "      <td>-</td>\n",
       "      <td>ensembl_havana</td>\n",
       "      <td>ensembl_havana</td>\n",
       "      <td>False</td>\n",
       "      <td>False</td>\n",
       "      <td>105236677</td>\n",
       "      <td>4</td>\n",
       "      <td>105236492</td>\n",
       "      <td>105236491</td>\n",
       "      <td>NA</td>\n",
       "      <td>-1</td>\n",
       "      <td>-1</td>\n",
       "      <td>-1</td>\n",
       "      <td></td>\n",
       "    </tr>\n",
       "  </tbody>\n",
       "</table>\n",
       "</div>"
      ],
      "text/plain": [
       "  gene_name    transcript_id seqname          source         sc        clv strand     gene_source transcript_source  is_cds_end_NF  is_cds_start_NF    utr_beg  cluster_idx       aclv       clv0 hexamer  hexamer_id  hexamer_loc0  hexamer_loc sdist_aclv2ahex\n",
       "4  AKT1      ENST00000544168  14      protein_coding  105236678  105236492  -      ensembl_havana  ensembl_havana    False          False            105236677  4            105236492  105236491  NA     -1          -1            -1                          "
      ]
     },
     "execution_count": 9,
     "metadata": {},
     "output_type": "execute_result"
    }
   ],
   "source": [
    "df_clv_sc.query('transcript_id == \"ENST00000544168\"')"
   ]
  },
  {
   "cell_type": "code",
   "execution_count": 10,
   "metadata": {
    "collapsed": false
   },
   "outputs": [],
   "source": [
    "# first create a dict of gene-to-clvs map\n",
    "# ONLY use the mclv value in annotation, its clv is mainly for debugging purpose\n",
    "ANNOT_GENE2CLV_DD = df_clv_sc.groupby(['gene_name']).apply(lambda g: g.aclv.unique())\n",
    "def map_kclv2aclv(row):\n",
    "    \"\"\"map KLEAT predicted clv to a closest annotated clv\"\"\"\n",
    "    gene = row.gene_name\n",
    "    kclv = row['clv']\n",
    "    poss_aclvs = ANNOT_GENE2CLV_DD[gene]\n",
    "    return poss_aclvs[np.argmin(np.abs(poss_aclvs - kclv))]"
   ]
  },
  {
   "cell_type": "code",
   "execution_count": 11,
   "metadata": {
    "collapsed": true
   },
   "outputs": [],
   "source": [
    "_df = adf[['gene_name', 'clv']].drop_duplicates()"
   ]
  },
  {
   "cell_type": "code",
   "execution_count": 12,
   "metadata": {
    "collapsed": false
   },
   "outputs": [],
   "source": [
    "assert _df.shape[0] == 459113"
   ]
  },
  {
   "cell_type": "code",
   "execution_count": 13,
   "metadata": {
    "collapsed": false
   },
   "outputs": [
    {
     "name": "stdout",
     "output_type": "stream",
     "text": [
      "CPU times: user 22.5 s, sys: 539 ms, total: 23.1 s\n",
      "Wall time: 22.7 s\n"
     ]
    }
   ],
   "source": [
    "%time _df['aclv'] = _df.apply(map_kclv2aclv, axis=1)"
   ]
  },
  {
   "cell_type": "code",
   "execution_count": 14,
   "metadata": {
    "collapsed": false
   },
   "outputs": [
    {
     "name": "stdout",
     "output_type": "stream",
     "text": [
      "CPU times: user 7.01 s, sys: 4.67 s, total: 11.7 s\n",
      "Wall time: 11.7 s\n"
     ]
    }
   ],
   "source": [
    "%time bdf = adf.merge(_df, on=['gene_name', 'clv'], how='left')"
   ]
  },
  {
   "cell_type": "code",
   "execution_count": 15,
   "metadata": {
    "collapsed": true
   },
   "outputs": [],
   "source": [
    "assert bdf.shape[0] == 11489199\n",
    "assert bdf.shape[0] == adf.shape[0]"
   ]
  },
  {
   "cell_type": "code",
   "execution_count": 16,
   "metadata": {
    "collapsed": false
   },
   "outputs": [
    {
     "data": {
      "text/html": [
       "<div>\n",
       "<style>\n",
       "    .dataframe thead tr:only-child th {\n",
       "        text-align: right;\n",
       "    }\n",
       "\n",
       "    .dataframe thead th {\n",
       "        text-align: left;\n",
       "    }\n",
       "\n",
       "    .dataframe tbody tr th {\n",
       "        vertical-align: top;\n",
       "    }\n",
       "</style>\n",
       "<table border=\"1\" class=\"dataframe\">\n",
       "  <thead>\n",
       "    <tr style=\"text-align: right;\">\n",
       "      <th></th>\n",
       "      <th>gene_name</th>\n",
       "      <th>strand</th>\n",
       "      <th>seqname</th>\n",
       "      <th>clv</th>\n",
       "      <th>length_of_tail_in_contig</th>\n",
       "      <th>number_of_bridge_reads</th>\n",
       "      <th>max_bridge_read_tail_length</th>\n",
       "      <th>analysis_id</th>\n",
       "      <th>clv0</th>\n",
       "      <th>hexamer</th>\n",
       "      <th>hexamer_id</th>\n",
       "      <th>hexamer_loc0</th>\n",
       "      <th>hexamer_loc</th>\n",
       "      <th>aclv</th>\n",
       "    </tr>\n",
       "  </thead>\n",
       "  <tbody>\n",
       "    <tr>\n",
       "      <th>0</th>\n",
       "      <td>RTCA</td>\n",
       "      <td>+</td>\n",
       "      <td>chr1</td>\n",
       "      <td>100732395</td>\n",
       "      <td>0</td>\n",
       "      <td>0</td>\n",
       "      <td>0</td>\n",
       "      <td>1d811d54-caa1-41f3-bfc2-400eebdd97ef</td>\n",
       "      <td>100732394</td>\n",
       "      <td>NA</td>\n",
       "      <td>-1</td>\n",
       "      <td>-1</td>\n",
       "      <td>-1</td>\n",
       "      <td>100732485</td>\n",
       "    </tr>\n",
       "  </tbody>\n",
       "</table>\n",
       "</div>"
      ],
      "text/plain": [
       "  gene_name strand seqname        clv  length_of_tail_in_contig  number_of_bridge_reads  max_bridge_read_tail_length                           analysis_id       clv0 hexamer  hexamer_id  hexamer_loc0  hexamer_loc       aclv\n",
       "0  RTCA      +      chr1    100732395  0                         0                       0                            1d811d54-caa1-41f3-bfc2-400eebdd97ef  100732394  NA     -1          -1            -1            100732485"
      ]
     },
     "execution_count": 16,
     "metadata": {},
     "output_type": "execute_result"
    }
   ],
   "source": [
    "bdf.head(1)"
   ]
  },
  {
   "cell_type": "code",
   "execution_count": 17,
   "metadata": {
    "collapsed": false
   },
   "outputs": [],
   "source": [
    "# NDA: could be a misnomer, supposed to be unsigned-distance to annotated clv\n",
    "bdf['signed_NDA'] = bdf['clv'] - bdf['aclv']\n",
    "bdf['NDA'] = bdf['signed_NDA'].abs()"
   ]
  },
  {
   "cell_type": "markdown",
   "metadata": {},
   "source": [
    "# Prepare filtering"
   ]
  },
  {
   "cell_type": "code",
   "execution_count": 18,
   "metadata": {
    "collapsed": false
   },
   "outputs": [
    {
     "data": {
      "image/png": "[encoded data removed]",
      "text/plain": [
       "<matplotlib.figure.Figure at 0x7fb8abb2ca90>"
      ]
     },
     "metadata": {},
     "output_type": "display_data"
    }
   ],
   "source": [
    "# ax = bdf_flag1['signed_NDA'].value_counts().sort_index().plot(lw=0.5, color='black', linestyle='--', label='flag = 1')\n",
    "# bdf_flag2['signed_NDA'].value_counts().sort_index().plot(ax=ax, lw=0.5, color='black', linestyle='-.', label='flag = 2')\n",
    "# bdf['signed_NDA'].value_counts().sort_index().plot(ax=ax, lw=0.5, color='black', linestyle='-', label='both')\n",
    "\n",
    "fig = plt.figure(figsize=(5.5, 3.5))\n",
    "ax = fig.add_subplot(111)\n",
    "bdf['signed_NDA'].value_counts().sort_index().plot(ax=ax, lw=0.5, color='black', linestyle='-')\n",
    "ax.set_xlim(-120, 120)\n",
    "# ax.set_ylim(0, 7e5)\n",
    "ax.set_ylabel('# predicted CSs')\n",
    "ax.ticklabel_format(style='sci', axis='y', scilimits=(0, 2))\n",
    "ax.grid()\n",
    "ax.set_xlabel('Distance to the closest annotated CS')\n",
    "ax.legend().remove()\n",
    "# plt.savefig('./results/figs/distr-of-NDA-before-2nd-filtering.jpg', dpi=350)"
   ]
  },
  {
   "cell_type": "code",
   "execution_count": 19,
   "metadata": {
    "collapsed": true
   },
   "outputs": [],
   "source": [
    "# hc_b2f: hexamer count before 2nd filtering\n",
    "hc_b2f_with_NA_counts = bdf.hexamer.value_counts().to_frame('After initial filtering')\n",
    "hc_b2f_with_NA = (bdf.hexamer.value_counts() / bdf.hexamer.value_counts().sum()).to_frame('After initial filtering')"
   ]
  },
  {
   "cell_type": "markdown",
   "metadata": {},
   "source": [
    "# Start filtering"
   ]
  },
  {
   "cell_type": "markdown",
   "metadata": {},
   "source": [
    "```\n",
    "awk '($11>=4 || $13>=2 || $14>=4) && ($20!=\"-\")'\n",
    "\n",
    "length_of_tail_in_contig MINIMUM OF 4 OR\n",
    "number_of_bridge_reads MINIMUM OF 2 OR\n",
    "max_bridge_read_tail_length MINIMUM OF 4 (i.e. OK if there is just one bridge read, but it must have at least 4 A's)\n",
    "\n",
    "ONE of the above AND there must be a hexamer motif (doesn't matter how strong it is)\n",
    "```"
   ]
  },
  {
   "cell_type": "code",
   "execution_count": 20,
   "metadata": {
    "collapsed": true
   },
   "outputs": [],
   "source": [
    "cdf = bdf[\n",
    "    (\n",
    "        bdf.NDA <= 25\n",
    "    ) \n",
    "    | \n",
    "    (    \n",
    "        (\n",
    "            (bdf.length_of_tail_in_contig >= 4) | \n",
    "            (bdf.number_of_bridge_reads >= 2) |\n",
    "            (bdf.max_bridge_read_tail_length >= 4)\n",
    "        )\n",
    "        & \n",
    "        (\n",
    "            bdf.hexamer.isin([\"AATAAA\", \"ATTAAA\"])\n",
    "        )\n",
    "    )\n",
    "].copy()"
   ]
  },
  {
   "cell_type": "code",
   "execution_count": 21,
   "metadata": {
    "collapsed": false
   },
   "outputs": [],
   "source": [
    "assert cdf.shape[0] == 3420253"
   ]
  },
  {
   "cell_type": "code",
   "execution_count": 23,
   "metadata": {
    "collapsed": false
   },
   "outputs": [
    {
     "name": "stdout",
     "output_type": "stream",
     "text": [
      "5.064% data remained\n"
     ]
    }
   ],
   "source": [
    "print('{0:.3%} data remained'.format(cdf.shape[0] / TOTAL_NUM_CALLS))"
   ]
  },
  {
   "cell_type": "code",
   "execution_count": 24,
   "metadata": {
    "collapsed": false
   },
   "outputs": [],
   "source": [
    "hc_a2f_with_NA_counts = cdf.hexamer.value_counts().to_frame('After second filtering')\n",
    "hc_a2f_with_NA = (cdf.hexamer.value_counts() / cdf.hexamer.value_counts().sum()).to_frame('After second filtering')"
   ]
  },
  {
   "cell_type": "code",
   "execution_count": 28,
   "metadata": {
    "collapsed": false
   },
   "outputs": [
    {
     "data": {
      "image/png": "[encoded data removed]",
      "text/plain": [
       "<matplotlib.figure.Figure at 0x7fb8ab74c160>"
      ]
     },
     "metadata": {},
     "output_type": "display_data"
    }
   ],
   "source": [
    "# fig, (ax1, ax2) = plt.subplots(2, 1, sharex=True)\n",
    "\n",
    "fig = plt.figure(figsize=(6, 3.5))\n",
    "nrows = 12\n",
    "ratio = 1 / (1 + 3) # meaning the first subplot is 1/3 height of the second one\n",
    "gs = gridspec.GridSpec(nrows, 1, hspace=1)\n",
    "ax1 = fig.add_subplot(gs[:int(nrows * ratio), :])\n",
    "ax2 = fig.add_subplot(gs[int(nrows * ratio):,:])\n",
    "\n",
    "merged = hc_b2f_with_NA_counts\\\n",
    "    .merge(hc_a2f_with_NA_counts, left_index=True, right_index=True, how='outer')\\\n",
    "    .fillna(0).sort_values('After second filtering', ascending=False)\n",
    "\n",
    "merged.plot.bar(ax=ax1)\n",
    "merged.plot.bar(ax=ax2)\n",
    "    \n",
    "ylim_max = 2.3e6\n",
    "ax2.set_ylim(0, ylim_max)  # most of the data\n",
    "ax1.set_yticks(np.arange(6e6, 7.5e6, 5e5))\n",
    "ax1.set_ylim(6.1e6, 6.1e6 +  ylim_max * ratio / (1 - ratio))  # outliers only\n",
    "\n",
    "ax2.legend().set_visible(False)\n",
    "\n",
    "ax1.spines['bottom'].set_visible(False)\n",
    "ax2.spines['top'].set_visible(False)\n",
    "ax1.xaxis.tick_top()\n",
    "ax1.set_xlabel('')\n",
    "ax1.tick_params(labeltop='off')  # don't put tick labels at the top\n",
    "ax2.xaxis.tick_bottom()\n",
    "ax2.set_xlabel('PAS hexamers')\n",
    "ax2.set_ylabel('# predicted CSs')\n",
    "ax1.yaxis.grid(zorder=0)\n",
    "ax2.yaxis.grid(zorder=0)\n",
    "\n",
    "d = .015  # how big to make the diagonal lines in axes coordinates\n",
    "# arguments to pass to plot, just so we don't keep repeating them\n",
    "kwargs = dict(transform=ax1.transAxes, color='k', clip_on=False)\n",
    "\n",
    "def flip(items, ncol):\n",
    "    return itertools.chain(*[items[i::ncol] for i in range(ncol)])\n",
    "\n",
    "# handles, labels = ax1.get_legend_handles_labels()\n",
    "# ax1.legend(flip(handles, 2), flip(labels, 2), loc='upper right', ncol=2)\n",
    "\n",
    "scaler = 1 / ratio - 1\n",
    "ax1.plot((-d, +d), (-d * scaler, d * scaler), **kwargs)        # top-left diagonal\n",
    "ax1.plot((1 - d, 1 + d), (-d * scaler, d * scaler), **kwargs)  # top-right diagonal\n",
    "\n",
    "kwargs.update(transform=ax2.transAxes)  # switch to the bottom axes\n",
    "ax2.plot((-d, +d), (1 - d, 1 + d), **kwargs)  # bottom-left diagonal\n",
    "ax2.plot((1 - d, 1 + d), (1 - d, 1 + d), **kwargs)  # bottom-right diagonal\n",
    "\n",
    "ax1.ticklabel_format(style='sci', axis='y', scilimits=(0, 2))\n",
    "ax2.ticklabel_format(style='sci', axis='y', scilimits=(0, 2))\n",
    "# http://stackoverflow.com/questions/31517156/adjust-exponent-text-after-setting-scientific-limits-on-matplotlib-axis\n",
    "ax2.yaxis.offsetText.set_visible(False)\n",
    "\n",
    "# plt.savefig('./figs/hexamer_counts.jpg', dpi=350, bbox_inches='tight')"
   ]
  },
  {
   "cell_type": "code",
   "execution_count": 29,
   "metadata": {
    "collapsed": false
   },
   "outputs": [
    {
     "data": {
      "text/html": [
       "<div>\n",
       "<style>\n",
       "    .dataframe thead tr:only-child th {\n",
       "        text-align: right;\n",
       "    }\n",
       "\n",
       "    .dataframe thead th {\n",
       "        text-align: left;\n",
       "    }\n",
       "\n",
       "    .dataframe tbody tr th {\n",
       "        vertical-align: top;\n",
       "    }\n",
       "</style>\n",
       "<table border=\"1\" class=\"dataframe\">\n",
       "  <thead>\n",
       "    <tr style=\"text-align: right;\">\n",
       "      <th></th>\n",
       "      <th>AATAAA</th>\n",
       "      <th>NA</th>\n",
       "      <th>ATTAAA</th>\n",
       "      <th>AGTAAA</th>\n",
       "      <th>AAAAAG</th>\n",
       "      <th>AATACA</th>\n",
       "      <th>TATAAA</th>\n",
       "      <th>AATATA</th>\n",
       "      <th>CATAAA</th>\n",
       "      <th>AAGAAA</th>\n",
       "      <th>AAAACA</th>\n",
       "      <th>TTTAAA</th>\n",
       "      <th>AATAGA</th>\n",
       "      <th>AATGAA</th>\n",
       "      <th>ACTAAA</th>\n",
       "      <th>GGGGCT</th>\n",
       "      <th>GATAAA</th>\n",
       "    </tr>\n",
       "  </thead>\n",
       "  <tbody>\n",
       "    <tr>\n",
       "      <th>After second filtering</th>\n",
       "      <td>0.517487</td>\n",
       "      <td>0.212599</td>\n",
       "      <td>0.12615</td>\n",
       "      <td>0.023182</td>\n",
       "      <td>0.022528</td>\n",
       "      <td>0.020454</td>\n",
       "      <td>0.019071</td>\n",
       "      <td>0.013456</td>\n",
       "      <td>0.009491</td>\n",
       "      <td>0.008223</td>\n",
       "      <td>0.006802</td>\n",
       "      <td>0.005811</td>\n",
       "      <td>0.005694</td>\n",
       "      <td>0.005081</td>\n",
       "      <td>0.001703</td>\n",
       "      <td>0.001528</td>\n",
       "      <td>0.00074</td>\n",
       "    </tr>\n",
       "  </tbody>\n",
       "</table>\n",
       "</div>"
      ],
      "text/plain": [
       "                          AATAAA        NA   ATTAAA    AGTAAA    AAAAAG    AATACA    TATAAA    AATATA    CATAAA    AAGAAA    AAAACA    TTTAAA    AATAGA    AATGAA    ACTAAA    GGGGCT   GATAAA\n",
       "After second filtering  0.517487  0.212599  0.12615  0.023182  0.022528  0.020454  0.019071  0.013456  0.009491  0.008223  0.006802  0.005811  0.005694  0.005081  0.001703  0.001528  0.00074"
      ]
     },
     "execution_count": 29,
     "metadata": {},
     "output_type": "execute_result"
    }
   ],
   "source": [
    "hc_a2f_with_NA.T"
   ]
  },
  {
   "cell_type": "code",
   "execution_count": null,
   "metadata": {
    "collapsed": true
   },
   "outputs": [],
   "source": []
  },
  {
   "cell_type": "markdown",
   "metadata": {},
   "source": [
    "# Plot the distributions again"
   ]
  },
  {
   "cell_type": "code",
   "execution_count": 30,
   "metadata": {
    "collapsed": false
   },
   "outputs": [
    {
     "data": {
      "text/plain": [
       "0.4549102069349841"
      ]
     },
     "execution_count": 30,
     "metadata": {},
     "output_type": "execute_result"
    }
   ],
   "source": [
    "cdf.query('NDA > 10').shape[0] / cdf.shape[0]"
   ]
  },
  {
   "cell_type": "code",
   "execution_count": 31,
   "metadata": {
    "collapsed": false
   },
   "outputs": [
    {
     "data": {
      "text/plain": [
       "0.6573677444329411"
      ]
     },
     "execution_count": 31,
     "metadata": {},
     "output_type": "execute_result"
    }
   ],
   "source": [
    "cdf.query('NDA <= 15').shape[0] / cdf.shape[0]"
   ]
  },
  {
   "cell_type": "code",
   "execution_count": 33,
   "metadata": {
    "collapsed": false
   },
   "outputs": [
    {
     "data": {
      "text/plain": [
       "0.5450897930650159"
      ]
     },
     "execution_count": 33,
     "metadata": {},
     "output_type": "execute_result"
    }
   ],
   "source": [
    "cdf.query('NDA <= 10').shape[0] / cdf.shape[0]"
   ]
  },
  {
   "cell_type": "code",
   "execution_count": 34,
   "metadata": {
    "collapsed": false
   },
   "outputs": [
    {
     "data": {
      "text/plain": [
       "<matplotlib.text.Text at 0x7fb8a47fca20>"
      ]
     },
     "execution_count": 34,
     "metadata": {},
     "output_type": "execute_result"
    },
    {
     "data": {
      "image/png": "[encoded data removed]",
      "text/plain": [
       "<matplotlib.figure.Figure at 0x7fb8ab74aeb8>"
      ]
     },
     "metadata": {},
     "output_type": "display_data"
    }
   ],
   "source": [
    "fig = plt.figure(figsize=(5.5, 3.5))\n",
    "ax = fig.add_subplot(111)\n",
    "\n",
    "ax = cdf['signed_NDA'].value_counts().sort_index().plot(lw=1, color='black', label='distance to an annotated CS')\n",
    "ax.set_xlim(-25, 25)\n",
    "ax.set_ylim(0, 4.2e5)\n",
    "# ax.set_yscale('log')\n",
    "ax.grid()\n",
    "ax.ticklabel_format(style='sci', axis='y', scilimits=(0, 2))\n",
    "ax.set_xlabel('Distance to the closest annotated CS (bp)')\n",
    "ax.set_ylabel('# predicted CSs')\n",
    "\n",
    "# ax.legend()\n",
    "# plt.savefig('./results/figs/distr-of-NDA.jpg', bbox_inches='tight', dpi=350)"
   ]
  },
  {
   "cell_type": "code",
   "execution_count": null,
   "metadata": {
    "collapsed": true
   },
   "outputs": [],
   "source": []
  },
  {
   "cell_type": "markdown",
   "metadata": {},
   "source": [
    "#### distr. of distance to hexamer"
   ]
  },
  {
   "cell_type": "code",
   "execution_count": 35,
   "metadata": {
    "collapsed": true
   },
   "outputs": [],
   "source": [
    "ddf = cdf.query('hexamer_id != -1').copy()\n",
    "ddf['sdist_clv2hex'] = ddf['clv'] - ddf['hexamer_loc']\n",
    "ddf['dist_clv2hex'] = ddf.sdist_clv2hex.abs()\n",
    "ddf['sdist_aclv2hex'] = ddf['aclv'] - ddf['hexamer_loc']\n",
    "ddf['dist_aclv2hex'] = ddf.sdist_clv2hex.abs()"
   ]
  },
  {
   "cell_type": "code",
   "execution_count": 36,
   "metadata": {
    "collapsed": false
   },
   "outputs": [
    {
     "data": {
      "text/plain": [
       "0.7874005227098697"
      ]
     },
     "execution_count": 36,
     "metadata": {},
     "output_type": "execute_result"
    }
   ],
   "source": [
    "ddf.shape[0] / cdf.shape[0]"
   ]
  },
  {
   "cell_type": "markdown",
   "metadata": {},
   "source": [
    "So 79% of the CSs have an associated hexamer"
   ]
  },
  {
   "cell_type": "code",
   "execution_count": 37,
   "metadata": {
    "collapsed": false
   },
   "outputs": [
    {
     "data": {
      "text/html": [
       "<div>\n",
       "<style>\n",
       "    .dataframe thead tr:only-child th {\n",
       "        text-align: right;\n",
       "    }\n",
       "\n",
       "    .dataframe thead th {\n",
       "        text-align: left;\n",
       "    }\n",
       "\n",
       "    .dataframe tbody tr th {\n",
       "        vertical-align: top;\n",
       "    }\n",
       "</style>\n",
       "<table border=\"1\" class=\"dataframe\">\n",
       "  <thead>\n",
       "    <tr style=\"text-align: right;\">\n",
       "      <th></th>\n",
       "      <th>gene_name</th>\n",
       "      <th>strand</th>\n",
       "      <th>seqname</th>\n",
       "      <th>clv</th>\n",
       "      <th>length_of_tail_in_contig</th>\n",
       "      <th>number_of_bridge_reads</th>\n",
       "      <th>max_bridge_read_tail_length</th>\n",
       "      <th>analysis_id</th>\n",
       "      <th>clv0</th>\n",
       "      <th>hexamer</th>\n",
       "      <th>hexamer_id</th>\n",
       "      <th>hexamer_loc0</th>\n",
       "      <th>hexamer_loc</th>\n",
       "      <th>aclv</th>\n",
       "      <th>signed_NDA</th>\n",
       "      <th>NDA</th>\n",
       "      <th>sdist_clv2hex</th>\n",
       "      <th>dist_clv2hex</th>\n",
       "      <th>sdist_aclv2hex</th>\n",
       "      <th>dist_aclv2hex</th>\n",
       "    </tr>\n",
       "  </thead>\n",
       "  <tbody>\n",
       "    <tr>\n",
       "      <th>1</th>\n",
       "      <td>RTCA</td>\n",
       "      <td>+</td>\n",
       "      <td>chr1</td>\n",
       "      <td>100732476</td>\n",
       "      <td>0</td>\n",
       "      <td>0</td>\n",
       "      <td>0</td>\n",
       "      <td>1d811d54-caa1-41f3-bfc2-400eebdd97ef</td>\n",
       "      <td>100732475</td>\n",
       "      <td>TTTAAA</td>\n",
       "      <td>14</td>\n",
       "      <td>100732435</td>\n",
       "      <td>100732436</td>\n",
       "      <td>100732485</td>\n",
       "      <td>-9</td>\n",
       "      <td>9</td>\n",
       "      <td>40</td>\n",
       "      <td>40</td>\n",
       "      <td>49</td>\n",
       "      <td>40</td>\n",
       "    </tr>\n",
       "  </tbody>\n",
       "</table>\n",
       "</div>"
      ],
      "text/plain": [
       "  gene_name strand seqname        clv  length_of_tail_in_contig  number_of_bridge_reads  max_bridge_read_tail_length                           analysis_id       clv0 hexamer  hexamer_id  hexamer_loc0  hexamer_loc       aclv  signed_NDA  NDA  sdist_clv2hex  dist_clv2hex  sdist_aclv2hex  \\\n",
       "1  RTCA      +      chr1    100732476  0                         0                       0                            1d811d54-caa1-41f3-bfc2-400eebdd97ef  100732475  TTTAAA  14          100732435     100732436    100732485 -9           9    40             40            49               \n",
       "\n",
       "   dist_aclv2hex  \n",
       "1  40             "
      ]
     },
     "execution_count": 37,
     "metadata": {},
     "output_type": "execute_result"
    }
   ],
   "source": [
    "ddf.head(1)"
   ]
  },
  {
   "cell_type": "markdown",
   "metadata": {},
   "source": [
    "Tried to extract annotated hexamer loc\n",
    "\n",
    "Settle: using the distance between aclv and hexamer found based on annotated clv (before clustering) is too complicated, as the region changes before and after clustering, so just ignore it and use the distance between KLEAT clv and hexamer found based on it instead."
   ]
  },
  {
   "cell_type": "code",
   "execution_count": 39,
   "metadata": {
    "collapsed": false
   },
   "outputs": [
    {
     "data": {
      "text/plain": [
       "<matplotlib.text.Text at 0x7fb8ab3fa320>"
      ]
     },
     "execution_count": 39,
     "metadata": {},
     "output_type": "execute_result"
    },
    {
     "data": {
      "image/png": "[encoded data removed]",
      "text/plain": [
       "<matplotlib.figure.Figure at 0x7fb8ab581da0>"
      ]
     },
     "metadata": {},
     "output_type": "display_data"
    }
   ],
   "source": [
    "# this is a crude version: this plot confirms the minimum dist is 5 bp \n",
    "fig = plt.figure(figsize=(5.5, 3.5))\n",
    "ax = ddf['sdist_clv2hex'].value_counts().sort_index().plot(marker='o', markersize=3)\n",
    "ax.grid()\n",
    "_ = ax.set_xticks(np.arange(-50, 50, 5))\n",
    "ax.set_xlabel('dist to hexamer (bp)')"
   ]
  },
  {
   "cell_type": "code",
   "execution_count": 40,
   "metadata": {
    "collapsed": false
   },
   "outputs": [
    {
     "data": {
      "text/plain": [
       "-19    92845\n",
       "-21    90525\n",
       "-18    88152\n",
       "-20    70513\n",
       "-22    68842\n",
       "Name: sdist_clv2hex, dtype: int64"
      ]
     },
     "execution_count": 40,
     "metadata": {},
     "output_type": "execute_result"
    }
   ],
   "source": [
    "ddf.query('strand == \"-\"').sdist_clv2hex.value_counts().head()"
   ]
  },
  {
   "cell_type": "code",
   "execution_count": 41,
   "metadata": {
    "collapsed": false
   },
   "outputs": [
    {
     "data": {
      "text/plain": [
       "21    135649\n",
       "22    123927\n",
       "20    118226\n",
       "19    114710\n",
       "23    107265\n",
       "Name: sdist_clv2hex, dtype: int64"
      ]
     },
     "execution_count": 41,
     "metadata": {},
     "output_type": "execute_result"
    }
   ],
   "source": [
    "ddf.query('strand == \"+\"').sdist_clv2hex.value_counts().head()"
   ]
  },
  {
   "cell_type": "markdown",
   "metadata": {},
   "source": [
    "So the most probable dist is around 21 bp for both strands"
   ]
  },
  {
   "cell_type": "code",
   "execution_count": 45,
   "metadata": {
    "collapsed": false
   },
   "outputs": [
    {
     "data": {
      "image/png": "[encoded data removed]",
      "text/plain": [
       "<matplotlib.figure.Figure at 0x7fb8ab1cdc18>"
      ]
     },
     "metadata": {},
     "output_type": "display_data"
    }
   ],
   "source": [
    "fig = plt.figure(figsize=(5.5, 3.5))\n",
    "ax = fig.add_subplot(111)\n",
    "# a step of 2 makes it more smooth\n",
    "\n",
    "for (strand, bins, color) in zip(\n",
    "    ['+', '-'], \n",
    "    [np.arange(3, 61, 4), -np.arange(3, 61, 4)[::-1]],\n",
    "    ['blue', 'red']\n",
    "    ):\n",
    "    for (col, label, ls) in zip(\n",
    "        ['sdist_clv2hex', 'sdist_aclv2hex'], \n",
    "        ['Predicted', 'Annotated'],\n",
    "        ['-', '--']):\n",
    "        hist, bs = np.histogram(ddf[col].values, bins=bins)\n",
    "        bs = (bs[1:] + bs[:-1]) / 2\n",
    "        # ax.plot(bs, hist, color='black', marker='o', markersize=5, linestyle=ls, label=label)\n",
    "\n",
    "        ax.plot(bs, hist, color=color,\n",
    "#                 marker='o', markersize=4, \n",
    "                linestyle=ls, \n",
    "                label=label + ' ({0})'.format(strand))\n",
    "\n",
    "min_bp = 6\n",
    "hbox_height = 8e4\n",
    "ax.add_patch(\n",
    "    patches.Rectangle(\n",
    "        (-min_bp, 0),      # (x,y)\n",
    "        min_bp,            # width\n",
    "        hbox_height,  # height\n",
    "        color='red',\n",
    "        fill=False,\n",
    "    )\n",
    ")\n",
    "ax.text(-3, hbox_height / 2, 'H', color='red', weight='bold', ha='center', va='center')\n",
    "\n",
    "ax.add_patch(\n",
    "    patches.Rectangle(\n",
    "        (0, 0),      # (x,y)\n",
    "        min_bp,           # width\n",
    "        hbox_height, # height\n",
    "        color='blue',\n",
    "        fill=False,\n",
    "    )\n",
    ")\n",
    "ax.text(3, hbox_height / 2, 'H', color='blue', weight='bold', ha='center', va='center')\n",
    "\n",
    "\n",
    "ax.legend(loc='upper left', fontsize=10)\n",
    "ax.ticklabel_format(style='sci', axis='y', scilimits=(0, 2))\n",
    "ax.set_xlabel('Relative position to a PAS hexamer (bp)')\n",
    "ax.set_ylabel('# predicted CSs')\n",
    "ax.set_ylim(0, 5.5e5)\n",
    "_ = ax.set_xticks(np.arange(-60, 61, 20))\n",
    "ax.grid()\n",
    "# plt.savefig('./figs/distr_distance_to_hexamer.jpg', bbox_inches='tight', dpi=350)"
   ]
  },
  {
   "cell_type": "code",
   "execution_count": 50,
   "metadata": {
    "collapsed": false,
    "scrolled": true
   },
   "outputs": [
    {
     "name": "stdout",
     "output_type": "stream",
     "text": [
      "CPU times: user 1.2 s, sys: 5.04 s, total: 6.24 s\n",
      "Wall time: 8.89 s\n"
     ]
    }
   ],
   "source": [
    "%time cdf.to_pickle('./results/all_cba.KLEAT.on-target-cleaned.filtered.pkl')"
   ]
  },
  {
   "cell_type": "code",
   "execution_count": 51,
   "metadata": {
    "collapsed": false
   },
   "outputs": [],
   "source": [
    "assert cdf.shape[0] == 3420253"
   ]
  },
  {
   "cell_type": "code",
   "execution_count": 52,
   "metadata": {
    "collapsed": false
   },
   "outputs": [
    {
     "data": {
      "text/plain": [
       "0.05063730177036824"
      ]
     },
     "execution_count": 52,
     "metadata": {},
     "output_type": "execute_result"
    }
   ],
   "source": [
    "cdf.shape[0] / TOTAL_NUM_CALLS"
   ]
  },
  {
   "cell_type": "code",
   "execution_count": null,
   "metadata": {
    "collapsed": true
   },
   "outputs": [],
   "source": []
  }
 ],
 "metadata": {
  "anaconda-cloud": {},
  "kernelspec": {
   "display_name": "Python [default]",
   "language": "python",
   "name": "python3"
  },
  "language_info": {
   "codemirror_mode": {
    "name": "ipython",
    "version": 3
   },
   "file_extension": ".py",
   "mimetype": "text/x-python",
   "name": "python",
   "nbconvert_exporter": "python",
   "pygments_lexer": "ipython3",
   "version": "3.5.3"
  }
 },
 "nbformat": 4,
 "nbformat_minor": 1
}
