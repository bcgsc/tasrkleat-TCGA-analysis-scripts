{
 "cells": [
  {
   "cell_type": "code",
   "execution_count": 2,
   "metadata": {
    "collapsed": true
   },
   "outputs": [],
   "source": [
    "from eda_import import *\n",
    "\n",
    "import pysam"
   ]
  },
  {
   "cell_type": "code",
   "execution_count": 3,
   "metadata": {
    "collapsed": true
   },
   "outputs": [],
   "source": [
    "from extract_targets import extract_info"
   ]
  },
  {
   "cell_type": "code",
   "execution_count": 5,
   "metadata": {
    "collapsed": true
   },
   "outputs": [],
   "source": [
    "gtf = './reference_data/Homo_sapiens.GRCh37.75.gtf'"
   ]
  },
  {
   "cell_type": "code",
   "execution_count": 6,
   "metadata": {
    "collapsed": false
   },
   "outputs": [
    {
     "name": "stdout",
     "output_type": "stream",
     "text": [
      "reading ./reference_data/Homo_sapiens.GRCh37.75.gtf...\n"
     ]
    }
   ],
   "source": [
    "# http://uswest.ensembl.org/info/website/upload/gff.html\n",
    "names = ['seqname', 'source', 'feature', 'start', 'end', 'score',\n",
    "         'strand', 'frame', 'attribute']\n",
    "# adf: annotation df\n",
    "print('reading {0}...'.format(gtf))\n",
    "df = pd.read_csv(gtf, header=None, sep='\\t', comment='#', low_memory=False, names=names)"
   ]
  },
  {
   "cell_type": "code",
   "execution_count": 7,
   "metadata": {
    "collapsed": false
   },
   "outputs": [
    {
     "name": "stdout",
     "output_type": "stream",
     "text": [
      "extracting length...\n",
      "extracting transcript id...\n",
      "extracting gene id...\n",
      "extracting gene name...\n"
     ]
    }
   ],
   "source": [
    "extract_info(df)"
   ]
  },
  {
   "cell_type": "code",
   "execution_count": null,
   "metadata": {
    "collapsed": true
   },
   "outputs": [],
   "source": []
  },
  {
   "cell_type": "code",
   "execution_count": null,
   "metadata": {
    "collapsed": true
   },
   "outputs": [],
   "source": []
  },
  {
   "cell_type": "markdown",
   "metadata": {},
   "source": [
    "### Does target genes overlap at all?"
   ]
  },
  {
   "cell_type": "code",
   "execution_count": 8,
   "metadata": {
    "collapsed": true
   },
   "outputs": [],
   "source": [
    "TARGET_GENES = pd.read_csv('./reference_data/target_genes_with_type.tsv', sep='\\t').Gene.values.tolist()"
   ]
  },
  {
   "cell_type": "code",
   "execution_count": 9,
   "metadata": {
    "collapsed": false,
    "scrolled": true
   },
   "outputs": [
    {
     "data": {
      "text/plain": [
       "'ABL1 AKT1 AKT2 ALK AMER1 APC ATM AXIN1 BAP1 BCL6 BRAF BRCA1 BRCA2 CARD11 CCNE1 CDH1 CDKN2A CDKN2C CEBPA CREBBP CTNNB1 CYLD DICER1 EGFR EP300 ERBB2 EZH2 FAS FBXW7 FGFR2 FGFR3 FLT3 GATA3 GNA11 GNAQ GNAS HNF1A HRAS IDH1 JUN KDM6A KDR KIT KRAS MAP2K1 MAP2K2 MAP2K4 MAX MDM2 MDM4 MEN1 MET MITF MLH1 KMT2A MSH2 MSH6 MYC MYCL MYCN MYD88 NF1 NF2 NFE2L2 NKX2-1 NOTCH1 NOTCH2 NRAS PAX5 PDGFRA PIK3CA PIK3R1 PRKAR1A PTCH1 PTEN RB1 REL RET RNF43 SETD2 SMAD4 SMARCA4 SMARCB1 SMO SOCS1 SOX2 STAT3 STK11 SUFU TERT TET2 TNFAIP3 TP53 TRAF7 TSC1 TSC2 TSHR VHL WT1 CCND1 CCND2 FGF2 IGF2BP1 RAB10 CD47 CHURC1 DRAM1 NFE2L3 NFYA NSUN5 RTCA SEC24A STK17A TXNL4A'"
      ]
     },
     "execution_count": 9,
     "metadata": {},
     "output_type": "execute_result"
    }
   ],
   "source": [
    "' '.join(TARGET_GENES)"
   ]
  },
  {
   "cell_type": "code",
   "execution_count": 10,
   "metadata": {
    "collapsed": false
   },
   "outputs": [],
   "source": [
    "% time ndf = df.query('gene_name in {0}'.format(TARGET_GENES))\n",
    "# remove those from unassembled region\n",
    "ndf = ndf[-ndf.seqname.str.contains('PATCH')]"
   ]
  },
  {
   "cell_type": "code",
   "execution_count": 11,
   "metadata": {
    "collapsed": false
   },
   "outputs": [
    {
     "data": {
      "text/html": [
       "<div>\n",
       "<style>\n",
       "    .dataframe thead tr:only-child th {\n",
       "        text-align: right;\n",
       "    }\n",
       "\n",
       "    .dataframe thead th {\n",
       "        text-align: left;\n",
       "    }\n",
       "\n",
       "    .dataframe tbody tr th {\n",
       "        vertical-align: top;\n",
       "    }\n",
       "</style>\n",
       "<table border=\"1\" class=\"dataframe\">\n",
       "  <thead>\n",
       "    <tr style=\"text-align: right;\">\n",
       "      <th></th>\n",
       "      <th>seqname</th>\n",
       "      <th>source</th>\n",
       "      <th>feature</th>\n",
       "      <th>start</th>\n",
       "      <th>end</th>\n",
       "      <th>score</th>\n",
       "      <th>strand</th>\n",
       "      <th>frame</th>\n",
       "      <th>len</th>\n",
       "      <th>transcript_id</th>\n",
       "      <th>gene_id</th>\n",
       "      <th>gene_name</th>\n",
       "    </tr>\n",
       "  </thead>\n",
       "  <tbody>\n",
       "    <tr>\n",
       "      <th>63846</th>\n",
       "      <td>1</td>\n",
       "      <td>protein_coding</td>\n",
       "      <td>gene</td>\n",
       "      <td>40361098</td>\n",
       "      <td>40367928</td>\n",
       "      <td>.</td>\n",
       "      <td>-</td>\n",
       "      <td>.</td>\n",
       "      <td>6831</td>\n",
       "      <td></td>\n",
       "      <td>ENSG00000116990</td>\n",
       "      <td>MYCL</td>\n",
       "    </tr>\n",
       "    <tr>\n",
       "      <th>63847</th>\n",
       "      <td>1</td>\n",
       "      <td>protein_coding</td>\n",
       "      <td>transcript</td>\n",
       "      <td>40361098</td>\n",
       "      <td>40367685</td>\n",
       "      <td>.</td>\n",
       "      <td>-</td>\n",
       "      <td>.</td>\n",
       "      <td>6588</td>\n",
       "      <td>ENST00000397332</td>\n",
       "      <td>ENSG00000116990</td>\n",
       "      <td>MYCL</td>\n",
       "    </tr>\n",
       "  </tbody>\n",
       "</table>\n",
       "</div>"
      ],
      "text/plain": [
       "      seqname          source     feature     start       end score strand frame   len    transcript_id          gene_id gene_name\n",
       "63846  1       protein_coding  gene        40361098  40367928  .     -      .     6831                   ENSG00000116990  MYCL    \n",
       "63847  1       protein_coding  transcript  40361098  40367685  .     -      .     6588  ENST00000397332  ENSG00000116990  MYCL    "
      ]
     },
     "execution_count": 11,
     "metadata": {},
     "output_type": "execute_result"
    }
   ],
   "source": [
    "ndf.head(2)"
   ]
  },
  {
   "cell_type": "code",
   "execution_count": 13,
   "metadata": {
    "collapsed": false
   },
   "outputs": [],
   "source": [
    "assert ndf.gene_id.unique().shape[0] == 114\n",
    "assert ndf.gene_name.unique().shape[0] == 114"
   ]
  },
  {
   "cell_type": "code",
   "execution_count": 14,
   "metadata": {
    "collapsed": true
   },
   "outputs": [],
   "source": [
    "def check_intersection(grp):\n",
    "    _df = grp.groupby('gene_name').apply(\n",
    "        lambda r: pd.Series([r.start.min(), r.end.max()]))\n",
    "    _df.columns = ['start', 'end']\n",
    "    \n",
    "    has_intersection = False\n",
    "    for (ki, ri), (kj, rj) in itertools.combinations(_df.iterrows(), 2):\n",
    "        intersection = set(range(ri.start, ri.end)).intersection(range(rj.start, rj.end))\n",
    "        if len(intersection) > 0:\n",
    "            print(ki, ri.start, ri.end, kj, rj.start, rj.end, intersection)\n",
    "            has_intersection = True\n",
    "    return has_intersection"
   ]
  },
  {
   "cell_type": "code",
   "execution_count": 15,
   "metadata": {
    "collapsed": false
   },
   "outputs": [
    {
     "data": {
      "text/plain": [
       "False"
      ]
     },
     "execution_count": 15,
     "metadata": {},
     "output_type": "execute_result"
    }
   ],
   "source": [
    "ndf.groupby('seqname').apply(check_intersection).any()"
   ]
  },
  {
   "cell_type": "markdown",
   "metadata": {},
   "source": [
    "That it return False means there is no overlap/intersection among those target genes, so the calculation of expression level is straightforward"
   ]
  },
  {
   "cell_type": "code",
   "execution_count": null,
   "metadata": {
    "collapsed": true
   },
   "outputs": [],
   "source": []
  },
  {
   "cell_type": "markdown",
   "metadata": {},
   "source": [
    "### Total length of target genes"
   ]
  },
  {
   "cell_type": "code",
   "execution_count": 16,
   "metadata": {
    "collapsed": false
   },
   "outputs": [
    {
     "data": {
      "text/plain": [
       "(114,)"
      ]
     },
     "execution_count": 16,
     "metadata": {},
     "output_type": "execute_result"
    }
   ],
   "source": [
    "ndf.gene_name.unique().shape"
   ]
  },
  {
   "cell_type": "code",
   "execution_count": 17,
   "metadata": {
    "collapsed": true
   },
   "outputs": [],
   "source": [
    "target_gene_coords = ndf.groupby('gene_name').apply(\n",
    "    lambda r: pd.Series([r.start.min(), r.end.max()]))\n",
    "target_gene_coords.rename(\n",
    "    columns={0: 'start', 1: 'end'}, inplace=True)\n",
    "target_gene_coords['len'] = (\n",
    "    target_gene_coords.end - target_gene_coords.start + 1\n",
    "    )"
   ]
  },
  {
   "cell_type": "code",
   "execution_count": 18,
   "metadata": {
    "collapsed": false
   },
   "outputs": [],
   "source": [
    "assert target_gene_coords.len.sum() == 9351022"
   ]
  },
  {
   "cell_type": "markdown",
   "metadata": {},
   "source": [
    "Corroborated with calcuation at the gene level"
   ]
  },
  {
   "cell_type": "code",
   "execution_count": 21,
   "metadata": {
    "collapsed": false
   },
   "outputs": [
    {
     "data": {
      "text/plain": [
       "9351022"
      ]
     },
     "execution_count": 21,
     "metadata": {},
     "output_type": "execute_result"
    }
   ],
   "source": [
    "ndf.query('feature == \"gene\"').apply(\n",
    "    lambda row: row.end - row.start + 1, axis=1).sum()"
   ]
  }
 ],
 "metadata": {
  "anaconda-cloud": {},
  "kernelspec": {
   "display_name": "Python [default]",
   "language": "python",
   "name": "python3"
  },
  "language_info": {
   "codemirror_mode": {
    "name": "ipython",
    "version": 3
   },
   "file_extension": ".py",
   "mimetype": "text/x-python",
   "name": "python",
   "nbconvert_exporter": "python",
   "pygments_lexer": "ipython3",
   "version": "3.5.3"
  }
 },
 "nbformat": 4,
 "nbformat_minor": 1
}
