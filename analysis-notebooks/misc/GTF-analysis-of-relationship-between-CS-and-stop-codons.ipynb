{
 "cells": [
  {
   "cell_type": "code",
   "execution_count": 1,
   "metadata": {
    "collapsed": false
   },
   "outputs": [],
   "source": [
    "import sys\n",
    "sys.path.insert(0, '..')\n",
    "from eda_import import *\n",
    "import pysam"
   ]
  },
  {
   "cell_type": "code",
   "execution_count": 2,
   "metadata": {
    "collapsed": false
   },
   "outputs": [
    {
     "name": "stdout",
     "output_type": "stream",
     "text": [
      "CPU times: user 224 ms, sys: 32.8 ms, total: 256 ms\n",
      "Wall time: 257 ms\n"
     ]
    }
   ],
   "source": [
    "%time adf = pd.read_csv('../__results/annotated-clv-sc-mapping-all-genes.csv')"
   ]
  },
  {
   "cell_type": "code",
   "execution_count": 3,
   "metadata": {
    "collapsed": false
   },
   "outputs": [
    {
     "data": {
      "text/html": [
       "<div>\n",
       "<style>\n",
       "    .dataframe thead tr:only-child th {\n",
       "        text-align: right;\n",
       "    }\n",
       "\n",
       "    .dataframe thead th {\n",
       "        text-align: left;\n",
       "    }\n",
       "\n",
       "    .dataframe tbody tr th {\n",
       "        vertical-align: top;\n",
       "    }\n",
       "</style>\n",
       "<table border=\"1\" class=\"dataframe\">\n",
       "  <thead>\n",
       "    <tr style=\"text-align: right;\">\n",
       "      <th></th>\n",
       "      <th>gene_name</th>\n",
       "      <th>gene_id</th>\n",
       "      <th>transcript_id</th>\n",
       "      <th>seqname</th>\n",
       "      <th>source</th>\n",
       "      <th>sc</th>\n",
       "      <th>clv</th>\n",
       "      <th>strand</th>\n",
       "      <th>gene_source</th>\n",
       "      <th>transcript_source</th>\n",
       "      <th>is_cds_end_NF</th>\n",
       "      <th>is_cds_start_NF</th>\n",
       "      <th>utr_beg</th>\n",
       "      <th>cluster_idx</th>\n",
       "      <th>mclv</th>\n",
       "    </tr>\n",
       "  </thead>\n",
       "  <tbody>\n",
       "    <tr>\n",
       "      <th>0</th>\n",
       "      <td>TSPAN6</td>\n",
       "      <td>ENSG00000000003</td>\n",
       "      <td>ENST00000373020</td>\n",
       "      <td>X</td>\n",
       "      <td>protein_coding</td>\n",
       "      <td>99885795</td>\n",
       "      <td>99883667</td>\n",
       "      <td>-</td>\n",
       "      <td>ensembl_havana</td>\n",
       "      <td>ensembl_havana</td>\n",
       "      <td>False</td>\n",
       "      <td>False</td>\n",
       "      <td>99885794</td>\n",
       "      <td>1</td>\n",
       "      <td>99883667</td>\n",
       "    </tr>\n",
       "    <tr>\n",
       "      <th>1</th>\n",
       "      <td>TNMD</td>\n",
       "      <td>ENSG00000000005</td>\n",
       "      <td>ENST00000373031</td>\n",
       "      <td>X</td>\n",
       "      <td>protein_coding</td>\n",
       "      <td>99854714</td>\n",
       "      <td>99854882</td>\n",
       "      <td>+</td>\n",
       "      <td>ensembl_havana</td>\n",
       "      <td>ensembl_havana</td>\n",
       "      <td>False</td>\n",
       "      <td>False</td>\n",
       "      <td>99854715</td>\n",
       "      <td>1</td>\n",
       "      <td>99854882</td>\n",
       "    </tr>\n",
       "    <tr>\n",
       "      <th>2</th>\n",
       "      <td>DPM1</td>\n",
       "      <td>ENSG00000000419</td>\n",
       "      <td>ENST00000371582</td>\n",
       "      <td>20</td>\n",
       "      <td>protein_coding</td>\n",
       "      <td>49551669</td>\n",
       "      <td>49551404</td>\n",
       "      <td>-</td>\n",
       "      <td>ensembl_havana</td>\n",
       "      <td>havana</td>\n",
       "      <td>False</td>\n",
       "      <td>False</td>\n",
       "      <td>49551668</td>\n",
       "      <td>2</td>\n",
       "      <td>49551404</td>\n",
       "    </tr>\n",
       "    <tr>\n",
       "      <th>3</th>\n",
       "      <td>DPM1</td>\n",
       "      <td>ENSG00000000419</td>\n",
       "      <td>ENST00000371583</td>\n",
       "      <td>20</td>\n",
       "      <td>protein_coding</td>\n",
       "      <td>49551669</td>\n",
       "      <td>49551490</td>\n",
       "      <td>-</td>\n",
       "      <td>ensembl_havana</td>\n",
       "      <td>ensembl</td>\n",
       "      <td>False</td>\n",
       "      <td>False</td>\n",
       "      <td>49551668</td>\n",
       "      <td>1</td>\n",
       "      <td>49551485</td>\n",
       "    </tr>\n",
       "    <tr>\n",
       "      <th>4</th>\n",
       "      <td>DPM1</td>\n",
       "      <td>ENSG00000000419</td>\n",
       "      <td>ENST00000371584</td>\n",
       "      <td>20</td>\n",
       "      <td>protein_coding</td>\n",
       "      <td>49551669</td>\n",
       "      <td>49551481</td>\n",
       "      <td>-</td>\n",
       "      <td>ensembl_havana</td>\n",
       "      <td>havana</td>\n",
       "      <td>False</td>\n",
       "      <td>True</td>\n",
       "      <td>49551668</td>\n",
       "      <td>1</td>\n",
       "      <td>49551485</td>\n",
       "    </tr>\n",
       "  </tbody>\n",
       "</table>\n",
       "</div>"
      ],
      "text/plain": [
       "  gene_name          gene_id    transcript_id seqname          source        sc       clv strand     gene_source transcript_source  is_cds_end_NF  is_cds_start_NF   utr_beg  cluster_idx      mclv\n",
       "0  TSPAN6    ENSG00000000003  ENST00000373020  X       protein_coding  99885795  99883667  -      ensembl_havana  ensembl_havana    False          False            99885794  1            99883667\n",
       "1  TNMD      ENSG00000000005  ENST00000373031  X       protein_coding  99854714  99854882  +      ensembl_havana  ensembl_havana    False          False            99854715  1            99854882\n",
       "2  DPM1      ENSG00000000419  ENST00000371582  20      protein_coding  49551669  49551404  -      ensembl_havana  havana            False          False            49551668  2            49551404\n",
       "3  DPM1      ENSG00000000419  ENST00000371583  20      protein_coding  49551669  49551490  -      ensembl_havana  ensembl           False          False            49551668  1            49551485\n",
       "4  DPM1      ENSG00000000419  ENST00000371584  20      protein_coding  49551669  49551481  -      ensembl_havana  havana            False          True             49551668  1            49551485"
      ]
     },
     "execution_count": 3,
     "metadata": {},
     "output_type": "execute_result"
    }
   ],
   "source": [
    "adf.head()"
   ]
  },
  {
   "cell_type": "code",
   "execution_count": 4,
   "metadata": {
    "collapsed": false
   },
   "outputs": [
    {
     "data": {
      "text/plain": [
       "protein_coding             68388\n",
       "nonsense_mediated_decay    13794\n",
       "Name: source, dtype: int64"
      ]
     },
     "execution_count": 4,
     "metadata": {},
     "output_type": "execute_result"
    }
   ],
   "source": [
    "adf.source.value_counts()"
   ]
  },
  {
   "cell_type": "code",
   "execution_count": 5,
   "metadata": {
    "collapsed": false
   },
   "outputs": [
    {
     "data": {
      "text/plain": [
       "(82182, 15)"
      ]
     },
     "execution_count": 5,
     "metadata": {},
     "output_type": "execute_result"
    }
   ],
   "source": [
    "adf.shape"
   ]
  },
  {
   "cell_type": "code",
   "execution_count": 6,
   "metadata": {
    "collapsed": false
   },
   "outputs": [
    {
     "data": {
      "text/plain": [
       "(22563,)"
      ]
     },
     "execution_count": 6,
     "metadata": {},
     "output_type": "execute_result"
    }
   ],
   "source": [
    "adf.gene_id.unique().shape"
   ]
  },
  {
   "cell_type": "markdown",
   "metadata": {},
   "source": [
    "# How many stop codons a gene may have"
   ]
  },
  {
   "cell_type": "code",
   "execution_count": 7,
   "metadata": {
    "collapsed": false
   },
   "outputs": [
    {
     "name": "stdout",
     "output_type": "stream",
     "text": [
      "CPU times: user 2.67 s, sys: 22.3 ms, total: 2.69 s\n",
      "Wall time: 2.68 s\n"
     ]
    }
   ],
   "source": [
    "%time sc_per_gene = adf.groupby(['seqname', 'gene_id', 'gene_name']).apply(lambda g: g.sc.unique().shape[0])"
   ]
  },
  {
   "cell_type": "code",
   "execution_count": 8,
   "metadata": {
    "collapsed": false
   },
   "outputs": [
    {
     "data": {
      "text/plain": [
       "seqname  gene_id          gene_name\n",
       "1        ENSG00000000457  SCYL3        1\n",
       "         ENSG00000000460  C1orf112     3\n",
       "         ENSG00000000938  FGR          1\n",
       "         ENSG00000000971  CFH          2\n",
       "         ENSG00000001460  STPG1        3\n",
       "dtype: int64"
      ]
     },
     "execution_count": 8,
     "metadata": {},
     "output_type": "execute_result"
    }
   ],
   "source": [
    "sc_per_gene.head()"
   ]
  },
  {
   "cell_type": "code",
   "execution_count": 9,
   "metadata": {
    "collapsed": false
   },
   "outputs": [
    {
     "data": {
      "text/plain": [
       "<matplotlib.text.Text at 0x7f2e301f1208>"
      ]
     },
     "execution_count": 9,
     "metadata": {},
     "output_type": "execute_result"
    },
    {
     "data": {
      "image/png": "[encoded data removed]",
      "text/plain": [
       "<matplotlib.figure.Figure at 0x7f2e2fbbd780>"
      ]
     },
     "metadata": {},
     "output_type": "display_data"
    }
   ],
   "source": [
    "ax = sc_per_gene.value_counts().plot.bar()\n",
    "ax.set_title('# stop codons per gene')"
   ]
  },
  {
   "cell_type": "code",
   "execution_count": 16,
   "metadata": {
    "collapsed": false
   },
   "outputs": [
    {
     "data": {
      "text/plain": [
       "seqname  gene_id          gene_name\n",
       "16       ENSG00000187741  FANCA        17\n",
       "dtype: int64"
      ]
     },
     "execution_count": 16,
     "metadata": {},
     "output_type": "execute_result"
    }
   ],
   "source": [
    "sc_per_gene[sc_per_gene == 17]"
   ]
  },
  {
   "cell_type": "code",
   "execution_count": 25,
   "metadata": {
    "collapsed": false
   },
   "outputs": [
    {
     "data": {
      "text/plain": [
       "array([89805009, 89805106, 89805162, 89807244, 89815071, 89816301,\n",
       "       89829154, 89829189, 89836241, 89844765, 89858949, 89865466,\n",
       "       89865487, 89865516, 89866036, 89877404, 89882547])"
      ]
     },
     "execution_count": 25,
     "metadata": {},
     "output_type": "execute_result"
    }
   ],
   "source": [
    "np.sort(adf.query('gene_id == \"ENSG00000187741\"').sc.unique())"
   ]
  },
  {
   "cell_type": "code",
   "execution_count": 26,
   "metadata": {
    "collapsed": false
   },
   "outputs": [
    {
     "data": {
      "text/plain": [
       "array([   97,    56,  2082,  7827,  1230, 12853,    35,  7052,  8524,\n",
       "       14184,  6517,    21,    29,   520, 11368,  5143])"
      ]
     },
     "execution_count": 26,
     "metadata": {},
     "output_type": "execute_result"
    }
   ],
   "source": [
    "np.diff(np.sort(adf.query('gene_id == \"ENSG00000187741\"').sc.unique()))"
   ]
  },
  {
   "cell_type": "code",
   "execution_count": null,
   "metadata": {
    "collapsed": true
   },
   "outputs": [],
   "source": []
  },
  {
   "cell_type": "markdown",
   "metadata": {},
   "source": [
    "# How CSs a gene may have"
   ]
  },
  {
   "cell_type": "code",
   "execution_count": 10,
   "metadata": {
    "collapsed": false,
    "scrolled": false
   },
   "outputs": [
    {
     "name": "stdout",
     "output_type": "stream",
     "text": [
      "CPU times: user 2.54 s, sys: 18.9 ms, total: 2.56 s\n",
      "Wall time: 2.55 s\n"
     ]
    }
   ],
   "source": [
    "%time clv_per_gene = adf.groupby(['seqname', 'gene_id', 'gene_name']).apply(lambda g: g.mclv.unique().shape[0])"
   ]
  },
  {
   "cell_type": "code",
   "execution_count": 11,
   "metadata": {
    "collapsed": false
   },
   "outputs": [
    {
     "data": {
      "text/plain": [
       "<matplotlib.text.Text at 0x7f2e2f5a71d0>"
      ]
     },
     "execution_count": 11,
     "metadata": {},
     "output_type": "execute_result"
    },
    {
     "data": {
      "image/png": "[encoded data removed]",
      "text/plain": [
       "<matplotlib.figure.Figure at 0x7f2e30240320>"
      ]
     },
     "metadata": {},
     "output_type": "display_data"
    }
   ],
   "source": [
    "ax = clv_per_gene.value_counts().plot.bar()\n",
    "ax.set_title('# CSs per gene')"
   ]
  },
  {
   "cell_type": "code",
   "execution_count": 17,
   "metadata": {
    "collapsed": false
   },
   "outputs": [
    {
     "data": {
      "text/plain": [
       "seqname  gene_id          gene_name\n",
       "19       ENSG00000099622  CIRBP        20\n",
       "dtype: int64"
      ]
     },
     "execution_count": 17,
     "metadata": {},
     "output_type": "execute_result"
    }
   ],
   "source": [
    "clv_per_gene[clv_per_gene == 20]"
   ]
  },
  {
   "cell_type": "code",
   "execution_count": null,
   "metadata": {
    "collapsed": true
   },
   "outputs": [],
   "source": []
  },
  {
   "cell_type": "markdown",
   "metadata": {},
   "source": [
    "# How many CSs correspond to multiple stop codons"
   ]
  },
  {
   "cell_type": "code",
   "execution_count": 12,
   "metadata": {
    "collapsed": false
   },
   "outputs": [
    {
     "name": "stdout",
     "output_type": "stream",
     "text": [
      "CPU times: user 6.52 s, sys: 269 ms, total: 6.79 s\n",
      "Wall time: 6.54 s\n"
     ]
    }
   ],
   "source": [
    "%time sc_per_cs = adf.groupby(['seqname', 'gene_id', 'gene_name', 'mclv']).apply(lambda g: g.sc.unique().shape[0])"
   ]
  },
  {
   "cell_type": "code",
   "execution_count": 13,
   "metadata": {
    "collapsed": false
   },
   "outputs": [
    {
     "data": {
      "text/plain": [
       "1     51113\n",
       "2     4517 \n",
       "3     797  \n",
       "4     180  \n",
       "5     41   \n",
       "6     9    \n",
       "8     3    \n",
       "10    1    \n",
       "7     1    \n",
       "dtype: int64"
      ]
     },
     "execution_count": 13,
     "metadata": {},
     "output_type": "execute_result"
    }
   ],
   "source": [
    "sc_per_cs.value_counts()"
   ]
  },
  {
   "cell_type": "code",
   "execution_count": 14,
   "metadata": {
    "collapsed": false
   },
   "outputs": [
    {
     "data": {
      "text/plain": [
       "1     0.902068\n",
       "2     0.079718\n",
       "3     0.014066\n",
       "4     0.003177\n",
       "5     0.000724\n",
       "6     0.000159\n",
       "8     0.000053\n",
       "10    0.000018\n",
       "7     0.000018\n",
       "dtype: float64"
      ]
     },
     "execution_count": 14,
     "metadata": {},
     "output_type": "execute_result"
    }
   ],
   "source": [
    "# in terms of fraction\n",
    "sc_per_cs.value_counts() / sc_per_cs.value_counts().sum()"
   ]
  },
  {
   "cell_type": "markdown",
   "metadata": {},
   "source": [
    "So the majority uses 1 stop codon, ~8% correspond to two stop codons, which is very onsistent with the analysis from the subset genes, https://github.com/bcgsc/tasrkleat-TCGA-analysis-scripts/blob/master/analysis-notebooks/core/diff-APA-analysis.ipynb"
   ]
  },
  {
   "cell_type": "markdown",
   "metadata": {},
   "source": [
    "Check a few concrete ones"
   ]
  },
  {
   "cell_type": "code",
   "execution_count": 15,
   "metadata": {
    "collapsed": false
   },
   "outputs": [
    {
     "data": {
      "text/plain": [
       "seqname  gene_id          gene_name  mclv    \n",
       "1        ENSG00000126091  ST3GAL3    44395893    10\n",
       "dtype: int64"
      ]
     },
     "execution_count": 15,
     "metadata": {},
     "output_type": "execute_result"
    }
   ],
   "source": [
    "sc_per_cs[sc_per_cs == 10]"
   ]
  }
 ],
 "metadata": {
  "anaconda-cloud": {},
  "kernelspec": {
   "display_name": "Python [default]",
   "language": "python",
   "name": "python3"
  },
  "language_info": {
   "codemirror_mode": {
    "name": "ipython",
    "version": 3
   },
   "file_extension": ".py",
   "mimetype": "text/x-python",
   "name": "python",
   "nbconvert_exporter": "python",
   "pygments_lexer": "ipython3",
   "version": "3.5.3"
  }
 },
 "nbformat": 4,
 "nbformat_minor": 1
}
