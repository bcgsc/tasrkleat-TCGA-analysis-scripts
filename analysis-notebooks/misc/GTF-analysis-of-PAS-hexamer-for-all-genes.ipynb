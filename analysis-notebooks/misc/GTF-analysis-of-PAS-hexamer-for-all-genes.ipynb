{
 "cells": [
  {
   "cell_type": "code",
   "execution_count": 6,
   "metadata": {
    "collapsed": false
   },
   "outputs": [],
   "source": [
    "import sys\n",
    "sys.path.insert(0, '..')\n",
    "from eda_import import *\n",
    "import pysam"
   ]
  },
  {
   "cell_type": "code",
   "execution_count": 1,
   "metadata": {
    "collapsed": false
   },
   "outputs": [
    {
     "name": "stdout",
     "output_type": "stream",
     "text": [
      "CPU times: user 275 ms, sys: 46.1 ms, total: 321 ms\n",
      "Wall time: 383 ms\n"
     ]
    }
   ],
   "source": [
    "%time adf = pd.read_csv('../__results/annotated-clv-sc-mapping-all-genes.csv')"
   ]
  },
  {
   "cell_type": "code",
   "execution_count": 2,
   "metadata": {
    "collapsed": false
   },
   "outputs": [
    {
     "data": {
      "text/html": [
       "<div>\n",
       "<style>\n",
       "    .dataframe thead tr:only-child th {\n",
       "        text-align: right;\n",
       "    }\n",
       "\n",
       "    .dataframe thead th {\n",
       "        text-align: left;\n",
       "    }\n",
       "\n",
       "    .dataframe tbody tr th {\n",
       "        vertical-align: top;\n",
       "    }\n",
       "</style>\n",
       "<table border=\"1\" class=\"dataframe\">\n",
       "  <thead>\n",
       "    <tr style=\"text-align: right;\">\n",
       "      <th></th>\n",
       "      <th>gene_name</th>\n",
       "      <th>gene_id</th>\n",
       "      <th>transcript_id</th>\n",
       "      <th>seqname</th>\n",
       "      <th>source</th>\n",
       "      <th>sc</th>\n",
       "      <th>clv</th>\n",
       "      <th>strand</th>\n",
       "      <th>gene_source</th>\n",
       "      <th>transcript_source</th>\n",
       "      <th>is_cds_end_NF</th>\n",
       "      <th>is_cds_start_NF</th>\n",
       "      <th>utr_beg</th>\n",
       "      <th>cluster_idx</th>\n",
       "      <th>mclv</th>\n",
       "    </tr>\n",
       "  </thead>\n",
       "  <tbody>\n",
       "    <tr>\n",
       "      <th>0</th>\n",
       "      <td>TSPAN6</td>\n",
       "      <td>ENSG00000000003</td>\n",
       "      <td>ENST00000373020</td>\n",
       "      <td>X</td>\n",
       "      <td>protein_coding</td>\n",
       "      <td>99885795</td>\n",
       "      <td>99883667</td>\n",
       "      <td>-</td>\n",
       "      <td>ensembl_havana</td>\n",
       "      <td>ensembl_havana</td>\n",
       "      <td>False</td>\n",
       "      <td>False</td>\n",
       "      <td>99885794</td>\n",
       "      <td>1</td>\n",
       "      <td>99883667</td>\n",
       "    </tr>\n",
       "    <tr>\n",
       "      <th>1</th>\n",
       "      <td>TNMD</td>\n",
       "      <td>ENSG00000000005</td>\n",
       "      <td>ENST00000373031</td>\n",
       "      <td>X</td>\n",
       "      <td>protein_coding</td>\n",
       "      <td>99854714</td>\n",
       "      <td>99854882</td>\n",
       "      <td>+</td>\n",
       "      <td>ensembl_havana</td>\n",
       "      <td>ensembl_havana</td>\n",
       "      <td>False</td>\n",
       "      <td>False</td>\n",
       "      <td>99854715</td>\n",
       "      <td>1</td>\n",
       "      <td>99854882</td>\n",
       "    </tr>\n",
       "    <tr>\n",
       "      <th>2</th>\n",
       "      <td>DPM1</td>\n",
       "      <td>ENSG00000000419</td>\n",
       "      <td>ENST00000371582</td>\n",
       "      <td>20</td>\n",
       "      <td>protein_coding</td>\n",
       "      <td>49551669</td>\n",
       "      <td>49551404</td>\n",
       "      <td>-</td>\n",
       "      <td>ensembl_havana</td>\n",
       "      <td>havana</td>\n",
       "      <td>False</td>\n",
       "      <td>False</td>\n",
       "      <td>49551668</td>\n",
       "      <td>2</td>\n",
       "      <td>49551404</td>\n",
       "    </tr>\n",
       "    <tr>\n",
       "      <th>3</th>\n",
       "      <td>DPM1</td>\n",
       "      <td>ENSG00000000419</td>\n",
       "      <td>ENST00000371583</td>\n",
       "      <td>20</td>\n",
       "      <td>protein_coding</td>\n",
       "      <td>49551669</td>\n",
       "      <td>49551490</td>\n",
       "      <td>-</td>\n",
       "      <td>ensembl_havana</td>\n",
       "      <td>ensembl</td>\n",
       "      <td>False</td>\n",
       "      <td>False</td>\n",
       "      <td>49551668</td>\n",
       "      <td>1</td>\n",
       "      <td>49551485</td>\n",
       "    </tr>\n",
       "    <tr>\n",
       "      <th>4</th>\n",
       "      <td>DPM1</td>\n",
       "      <td>ENSG00000000419</td>\n",
       "      <td>ENST00000371584</td>\n",
       "      <td>20</td>\n",
       "      <td>protein_coding</td>\n",
       "      <td>49551669</td>\n",
       "      <td>49551481</td>\n",
       "      <td>-</td>\n",
       "      <td>ensembl_havana</td>\n",
       "      <td>havana</td>\n",
       "      <td>False</td>\n",
       "      <td>True</td>\n",
       "      <td>49551668</td>\n",
       "      <td>1</td>\n",
       "      <td>49551485</td>\n",
       "    </tr>\n",
       "  </tbody>\n",
       "</table>\n",
       "</div>"
      ],
      "text/plain": [
       "  gene_name          gene_id    transcript_id seqname          source        sc       clv strand     gene_source transcript_source  is_cds_end_NF  is_cds_start_NF   utr_beg  cluster_idx      mclv\n",
       "0    TSPAN6  ENSG00000000003  ENST00000373020       X  protein_coding  99885795  99883667      -  ensembl_havana    ensembl_havana          False            False  99885794            1  99883667\n",
       "1      TNMD  ENSG00000000005  ENST00000373031       X  protein_coding  99854714  99854882      +  ensembl_havana    ensembl_havana          False            False  99854715            1  99854882\n",
       "2      DPM1  ENSG00000000419  ENST00000371582      20  protein_coding  49551669  49551404      -  ensembl_havana            havana          False            False  49551668            2  49551404\n",
       "3      DPM1  ENSG00000000419  ENST00000371583      20  protein_coding  49551669  49551490      -  ensembl_havana           ensembl          False            False  49551668            1  49551485\n",
       "4      DPM1  ENSG00000000419  ENST00000371584      20  protein_coding  49551669  49551481      -  ensembl_havana            havana          False             True  49551668            1  49551485"
      ]
     },
     "execution_count": 2,
     "metadata": {},
     "output_type": "execute_result"
    }
   ],
   "source": [
    "adf.head()"
   ]
  },
  {
   "cell_type": "code",
   "execution_count": 3,
   "metadata": {
    "collapsed": false
   },
   "outputs": [
    {
     "data": {
      "text/plain": [
       "(82182, 15)"
      ]
     },
     "execution_count": 3,
     "metadata": {},
     "output_type": "execute_result"
    }
   ],
   "source": [
    "adf.shape"
   ]
  },
  {
   "cell_type": "code",
   "execution_count": 4,
   "metadata": {
    "collapsed": false
   },
   "outputs": [
    {
     "data": {
      "text/plain": [
       "(22563,)"
      ]
     },
     "execution_count": 4,
     "metadata": {},
     "output_type": "execute_result"
    }
   ],
   "source": [
    "adf.gene_id.unique().shape"
   ]
  },
  {
   "cell_type": "markdown",
   "metadata": {},
   "source": [
    "# Search for hexamers for annotated cleavage sites"
   ]
  },
  {
   "cell_type": "code",
   "execution_count": 7,
   "metadata": {
    "collapsed": false
   },
   "outputs": [],
   "source": [
    "from hexamer_search import search_hexamer\n",
    "\n",
    "def search_hexamer_wrapper(refseq, chrm, clv, strand, window=50):\n",
    "    chrm = chrm.replace('chr', '')\n",
    "    res = search_hexamer.search(refseq, chrm, clv, strand, window)\n",
    "    if res is None:\n",
    "        res = ['NA', -1, -1]\n",
    "    return pd.Series(res, index=['hexamer', 'hexamer_id', 'hexamer_loc0'])"
   ]
  },
  {
   "cell_type": "code",
   "execution_count": 9,
   "metadata": {
    "collapsed": false
   },
   "outputs": [],
   "source": [
    "CHRS = [str(_) for _ in range(1, 23)] + ['X', 'Y', 'MT']"
   ]
  },
  {
   "cell_type": "code",
   "execution_count": 10,
   "metadata": {
    "collapsed": false
   },
   "outputs": [],
   "source": [
    "_cols = ['seqname', 'gene_name', 'gene_id', 'strand', 'mclv']\n",
    "bdf = adf[_cols].drop_duplicates().query(\"seqname in {0}\".format(CHRS))"
   ]
  },
  {
   "cell_type": "code",
   "execution_count": 11,
   "metadata": {
    "collapsed": false
   },
   "outputs": [
    {
     "data": {
      "text/plain": [
       "(52561, 5)"
      ]
     },
     "execution_count": 11,
     "metadata": {},
     "output_type": "execute_result"
    }
   ],
   "source": [
    "bdf.shape"
   ]
  },
  {
   "cell_type": "code",
   "execution_count": 12,
   "metadata": {
    "collapsed": true
   },
   "outputs": [],
   "source": [
    "# as pysam is 0-based\n",
    "bdf['mclv0'] = bdf['mclv'] - 1"
   ]
  },
  {
   "cell_type": "code",
   "execution_count": 15,
   "metadata": {
    "collapsed": false
   },
   "outputs": [
    {
     "data": {
      "text/html": [
       "<div>\n",
       "<style>\n",
       "    .dataframe thead tr:only-child th {\n",
       "        text-align: right;\n",
       "    }\n",
       "\n",
       "    .dataframe thead th {\n",
       "        text-align: left;\n",
       "    }\n",
       "\n",
       "    .dataframe tbody tr th {\n",
       "        vertical-align: top;\n",
       "    }\n",
       "</style>\n",
       "<table border=\"1\" class=\"dataframe\">\n",
       "  <thead>\n",
       "    <tr style=\"text-align: right;\">\n",
       "      <th></th>\n",
       "      <th>seqname</th>\n",
       "      <th>gene_name</th>\n",
       "      <th>gene_id</th>\n",
       "      <th>strand</th>\n",
       "      <th>mclv</th>\n",
       "      <th>mclv0</th>\n",
       "    </tr>\n",
       "  </thead>\n",
       "  <tbody>\n",
       "    <tr>\n",
       "      <th>0</th>\n",
       "      <td>X</td>\n",
       "      <td>TSPAN6</td>\n",
       "      <td>ENSG00000000003</td>\n",
       "      <td>-</td>\n",
       "      <td>99883667</td>\n",
       "      <td>99883666</td>\n",
       "    </tr>\n",
       "    <tr>\n",
       "      <th>1</th>\n",
       "      <td>X</td>\n",
       "      <td>TNMD</td>\n",
       "      <td>ENSG00000000005</td>\n",
       "      <td>+</td>\n",
       "      <td>99854882</td>\n",
       "      <td>99854881</td>\n",
       "    </tr>\n",
       "    <tr>\n",
       "      <th>2</th>\n",
       "      <td>20</td>\n",
       "      <td>DPM1</td>\n",
       "      <td>ENSG00000000419</td>\n",
       "      <td>-</td>\n",
       "      <td>49551404</td>\n",
       "      <td>49551403</td>\n",
       "    </tr>\n",
       "  </tbody>\n",
       "</table>\n",
       "</div>"
      ],
      "text/plain": [
       "  seqname gene_name          gene_id strand      mclv     mclv0\n",
       "0  X       TSPAN6    ENSG00000000003  -      99883667  99883666\n",
       "1  X       TNMD      ENSG00000000005  +      99854882  99854881\n",
       "2  20      DPM1      ENSG00000000419  -      49551404  49551403"
      ]
     },
     "execution_count": 15,
     "metadata": {},
     "output_type": "execute_result"
    }
   ],
   "source": [
    "bdf.head(3)"
   ]
  },
  {
   "cell_type": "code",
   "execution_count": 16,
   "metadata": {
    "collapsed": true
   },
   "outputs": [],
   "source": [
    "REF_FA = '../reference_data/Homo_sapiens.GRCh37.75.dna_sm.primary_assembly.fa'\n",
    "refseq = pysam.FastaFile(REF_FA)"
   ]
  },
  {
   "cell_type": "code",
   "execution_count": 17,
   "metadata": {
    "collapsed": false
   },
   "outputs": [
    {
     "name": "stdout",
     "output_type": "stream",
     "text": [
      "CPU times: user 21.3 s, sys: 1.06 s, total: 22.3 s\n",
      "Wall time: 22.3 s\n"
     ]
    }
   ],
   "source": [
    "%%time\n",
    "hexm_df = bdf.apply(\n",
    "    lambda row: search_hexamer_wrapper(refseq, row.seqname, row.mclv0, row.strand), \n",
    "    axis=1)"
   ]
  },
  {
   "cell_type": "code",
   "execution_count": 18,
   "metadata": {
    "collapsed": true
   },
   "outputs": [],
   "source": [
    "cdf = pd.concat([bdf, hexm_df], axis=1)"
   ]
  },
  {
   "cell_type": "code",
   "execution_count": 19,
   "metadata": {
    "collapsed": false
   },
   "outputs": [
    {
     "data": {
      "text/html": [
       "<div>\n",
       "<style>\n",
       "    .dataframe thead tr:only-child th {\n",
       "        text-align: right;\n",
       "    }\n",
       "\n",
       "    .dataframe thead th {\n",
       "        text-align: left;\n",
       "    }\n",
       "\n",
       "    .dataframe tbody tr th {\n",
       "        vertical-align: top;\n",
       "    }\n",
       "</style>\n",
       "<table border=\"1\" class=\"dataframe\">\n",
       "  <thead>\n",
       "    <tr style=\"text-align: right;\">\n",
       "      <th></th>\n",
       "      <th>seqname</th>\n",
       "      <th>gene_name</th>\n",
       "      <th>gene_id</th>\n",
       "      <th>strand</th>\n",
       "      <th>mclv</th>\n",
       "      <th>mclv0</th>\n",
       "      <th>hexamer</th>\n",
       "      <th>hexamer_id</th>\n",
       "      <th>hexamer_loc0</th>\n",
       "    </tr>\n",
       "  </thead>\n",
       "  <tbody>\n",
       "    <tr>\n",
       "      <th>0</th>\n",
       "      <td>X</td>\n",
       "      <td>TSPAN6</td>\n",
       "      <td>ENSG00000000003</td>\n",
       "      <td>-</td>\n",
       "      <td>99883667</td>\n",
       "      <td>99883666</td>\n",
       "      <td>TATAAA</td>\n",
       "      <td>4</td>\n",
       "      <td>99883697</td>\n",
       "    </tr>\n",
       "    <tr>\n",
       "      <th>1</th>\n",
       "      <td>X</td>\n",
       "      <td>TNMD</td>\n",
       "      <td>ENSG00000000005</td>\n",
       "      <td>+</td>\n",
       "      <td>99854882</td>\n",
       "      <td>99854881</td>\n",
       "      <td>AATAAA</td>\n",
       "      <td>1</td>\n",
       "      <td>99854858</td>\n",
       "    </tr>\n",
       "  </tbody>\n",
       "</table>\n",
       "</div>"
      ],
      "text/plain": [
       "  seqname gene_name          gene_id strand      mclv     mclv0 hexamer  hexamer_id  hexamer_loc0\n",
       "0  X       TSPAN6    ENSG00000000003  -      99883667  99883666  TATAAA  4           99883697    \n",
       "1  X       TNMD      ENSG00000000005  +      99854882  99854881  AATAAA  1           99854858    "
      ]
     },
     "execution_count": 19,
     "metadata": {},
     "output_type": "execute_result"
    }
   ],
   "source": [
    "cdf.head(2)"
   ]
  },
  {
   "cell_type": "code",
   "execution_count": 21,
   "metadata": {
    "collapsed": false
   },
   "outputs": [],
   "source": [
    "cdf['hexamer_loc'] = cdf['hexamer_loc0'].apply(lambda v: v + 1 if v != -1 else v)"
   ]
  },
  {
   "cell_type": "code",
   "execution_count": 22,
   "metadata": {
    "collapsed": false
   },
   "outputs": [
    {
     "data": {
      "text/html": [
       "<div>\n",
       "<style>\n",
       "    .dataframe thead tr:only-child th {\n",
       "        text-align: right;\n",
       "    }\n",
       "\n",
       "    .dataframe thead th {\n",
       "        text-align: left;\n",
       "    }\n",
       "\n",
       "    .dataframe tbody tr th {\n",
       "        vertical-align: top;\n",
       "    }\n",
       "</style>\n",
       "<table border=\"1\" class=\"dataframe\">\n",
       "  <thead>\n",
       "    <tr style=\"text-align: right;\">\n",
       "      <th></th>\n",
       "      <th>seqname</th>\n",
       "      <th>gene_name</th>\n",
       "      <th>gene_id</th>\n",
       "      <th>strand</th>\n",
       "      <th>mclv</th>\n",
       "      <th>mclv0</th>\n",
       "      <th>hexamer</th>\n",
       "      <th>hexamer_id</th>\n",
       "      <th>hexamer_loc0</th>\n",
       "      <th>hexamer_loc</th>\n",
       "    </tr>\n",
       "  </thead>\n",
       "  <tbody>\n",
       "    <tr>\n",
       "      <th>2</th>\n",
       "      <td>20</td>\n",
       "      <td>DPM1</td>\n",
       "      <td>ENSG00000000419</td>\n",
       "      <td>-</td>\n",
       "      <td>49551404</td>\n",
       "      <td>49551403</td>\n",
       "      <td>AATAAA</td>\n",
       "      <td>1</td>\n",
       "      <td>49551433</td>\n",
       "      <td>49551434</td>\n",
       "    </tr>\n",
       "    <tr>\n",
       "      <th>3</th>\n",
       "      <td>20</td>\n",
       "      <td>DPM1</td>\n",
       "      <td>ENSG00000000419</td>\n",
       "      <td>-</td>\n",
       "      <td>49551485</td>\n",
       "      <td>49551484</td>\n",
       "      <td>ATTAAA</td>\n",
       "      <td>2</td>\n",
       "      <td>49551512</td>\n",
       "      <td>49551513</td>\n",
       "    </tr>\n",
       "  </tbody>\n",
       "</table>\n",
       "</div>"
      ],
      "text/plain": [
       "  seqname gene_name          gene_id strand      mclv     mclv0 hexamer  hexamer_id  hexamer_loc0  hexamer_loc\n",
       "2  20      DPM1      ENSG00000000419  -      49551404  49551403  AATAAA  1           49551433      49551434   \n",
       "3  20      DPM1      ENSG00000000419  -      49551485  49551484  ATTAAA  2           49551512      49551513   "
      ]
     },
     "execution_count": 22,
     "metadata": {},
     "output_type": "execute_result"
    }
   ],
   "source": [
    "cdf.query('gene_id == \"ENSG00000000419\"')"
   ]
  },
  {
   "cell_type": "code",
   "execution_count": 23,
   "metadata": {
    "collapsed": true
   },
   "outputs": [],
   "source": [
    "def calc_aclv2ahex_dist(row):\n",
    "    \"\"\"calculate distance between annotated clv to annotated hexamer\"\"\"\n",
    "    clv, hex_loc = row.mclv, row.hexamer_loc\n",
    "    if hex_loc != -1:\n",
    "        return clv - hex_loc\n",
    "    else:\n",
    "        return np.nan"
   ]
  },
  {
   "cell_type": "code",
   "execution_count": 24,
   "metadata": {
    "collapsed": false
   },
   "outputs": [],
   "source": [
    "cdf['sdist_aclv2ahex'] = cdf.apply(calc_aclv2ahex_dist, axis=1)"
   ]
  },
  {
   "cell_type": "code",
   "execution_count": 25,
   "metadata": {
    "collapsed": false
   },
   "outputs": [
    {
     "data": {
      "text/html": [
       "<div>\n",
       "<style>\n",
       "    .dataframe thead tr:only-child th {\n",
       "        text-align: right;\n",
       "    }\n",
       "\n",
       "    .dataframe thead th {\n",
       "        text-align: left;\n",
       "    }\n",
       "\n",
       "    .dataframe tbody tr th {\n",
       "        vertical-align: top;\n",
       "    }\n",
       "</style>\n",
       "<table border=\"1\" class=\"dataframe\">\n",
       "  <thead>\n",
       "    <tr style=\"text-align: right;\">\n",
       "      <th></th>\n",
       "      <th>seqname</th>\n",
       "      <th>gene_name</th>\n",
       "      <th>gene_id</th>\n",
       "      <th>strand</th>\n",
       "      <th>mclv</th>\n",
       "      <th>mclv0</th>\n",
       "      <th>hexamer</th>\n",
       "      <th>hexamer_id</th>\n",
       "      <th>hexamer_loc0</th>\n",
       "      <th>hexamer_loc</th>\n",
       "      <th>sdist_aclv2ahex</th>\n",
       "    </tr>\n",
       "  </thead>\n",
       "  <tbody>\n",
       "    <tr>\n",
       "      <th>0</th>\n",
       "      <td>X</td>\n",
       "      <td>TSPAN6</td>\n",
       "      <td>ENSG00000000003</td>\n",
       "      <td>-</td>\n",
       "      <td>99883667</td>\n",
       "      <td>99883666</td>\n",
       "      <td>TATAAA</td>\n",
       "      <td>4</td>\n",
       "      <td>99883697</td>\n",
       "      <td>99883698</td>\n",
       "      <td>-31.0</td>\n",
       "    </tr>\n",
       "    <tr>\n",
       "      <th>1</th>\n",
       "      <td>X</td>\n",
       "      <td>TNMD</td>\n",
       "      <td>ENSG00000000005</td>\n",
       "      <td>+</td>\n",
       "      <td>99854882</td>\n",
       "      <td>99854881</td>\n",
       "      <td>AATAAA</td>\n",
       "      <td>1</td>\n",
       "      <td>99854858</td>\n",
       "      <td>99854859</td>\n",
       "      <td>23.0</td>\n",
       "    </tr>\n",
       "  </tbody>\n",
       "</table>\n",
       "</div>"
      ],
      "text/plain": [
       "  seqname gene_name          gene_id strand      mclv     mclv0 hexamer  hexamer_id  hexamer_loc0  hexamer_loc  sdist_aclv2ahex\n",
       "0  X       TSPAN6    ENSG00000000003  -      99883667  99883666  TATAAA  4           99883697      99883698    -31.0           \n",
       "1  X       TNMD      ENSG00000000005  +      99854882  99854881  AATAAA  1           99854858      99854859     23.0           "
      ]
     },
     "execution_count": 25,
     "metadata": {},
     "output_type": "execute_result"
    }
   ],
   "source": [
    "cdf.head(2)"
   ]
  },
  {
   "cell_type": "code",
   "execution_count": 29,
   "metadata": {
    "collapsed": true
   },
   "outputs": [],
   "source": [
    "_cols = ['seqname', 'gene_name', 'gene_id', 'mclv', 'hexamer', 'sdist_aclv2ahex']\n",
    "ddf = cdf[_cols].drop_duplicates().sort_values('gene_id')"
   ]
  },
  {
   "cell_type": "code",
   "execution_count": 30,
   "metadata": {
    "collapsed": false
   },
   "outputs": [],
   "source": [
    "assert ddf.shape[0] == 52561"
   ]
  },
  {
   "cell_type": "code",
   "execution_count": 31,
   "metadata": {
    "collapsed": false
   },
   "outputs": [
    {
     "data": {
      "text/plain": [
       "<matplotlib.axes._subplots.AxesSubplot at 0x7f87e0cb7198>"
      ]
     },
     "execution_count": 31,
     "metadata": {},
     "output_type": "execute_result"
    },
    {
     "data": {
      "image/png": "[encoded data removed]",
      "text/plain": [
       "<matplotlib.figure.Figure at 0x7f895c2a6f60>"
      ]
     },
     "metadata": {},
     "output_type": "display_data"
    }
   ],
   "source": [
    "ddf.sdist_aclv2ahex.plot.hist(bins=30)"
   ]
  },
  {
   "cell_type": "code",
   "execution_count": 32,
   "metadata": {
    "collapsed": false
   },
   "outputs": [
    {
     "data": {
      "text/plain": [
       "NA        21014\n",
       "AATAAA    17402\n",
       "ATTAAA    4600 \n",
       "TATAAA    1144 \n",
       "AGTAAA    1128 \n",
       "AAGAAA    901  \n",
       "AAAAAG    862  \n",
       "TTTAAA    841  \n",
       "CATAAA    686  \n",
       "AATACA    646  \n",
       "AATATA    584  \n",
       "GATAAA    581  \n",
       "AATGAA    572  \n",
       "AAAACA    466  \n",
       "GGGGCT    457  \n",
       "ACTAAA    358  \n",
       "AATAGA    319  \n",
       "Name: hexamer, dtype: int64"
      ]
     },
     "execution_count": 32,
     "metadata": {},
     "output_type": "execute_result"
    }
   ],
   "source": [
    "ddf.hexamer.value_counts()"
   ]
  },
  {
   "cell_type": "code",
   "execution_count": 33,
   "metadata": {
    "collapsed": false
   },
   "outputs": [
    {
     "data": {
      "text/html": [
       "<div>\n",
       "<style>\n",
       "    .dataframe thead tr:only-child th {\n",
       "        text-align: right;\n",
       "    }\n",
       "\n",
       "    .dataframe thead th {\n",
       "        text-align: left;\n",
       "    }\n",
       "\n",
       "    .dataframe tbody tr th {\n",
       "        vertical-align: top;\n",
       "    }\n",
       "</style>\n",
       "<table border=\"1\" class=\"dataframe\">\n",
       "  <thead>\n",
       "    <tr style=\"text-align: right;\">\n",
       "      <th></th>\n",
       "      <th>seqname</th>\n",
       "      <th>gene_name</th>\n",
       "      <th>gene_id</th>\n",
       "      <th>mclv</th>\n",
       "      <th>hexamer</th>\n",
       "      <th>sdist_aclv2ahex</th>\n",
       "    </tr>\n",
       "  </thead>\n",
       "  <tbody>\n",
       "    <tr>\n",
       "      <th>0</th>\n",
       "      <td>X</td>\n",
       "      <td>TSPAN6</td>\n",
       "      <td>ENSG00000000003</td>\n",
       "      <td>99883667</td>\n",
       "      <td>TATAAA</td>\n",
       "      <td>-31.0</td>\n",
       "    </tr>\n",
       "    <tr>\n",
       "      <th>1</th>\n",
       "      <td>X</td>\n",
       "      <td>TNMD</td>\n",
       "      <td>ENSG00000000005</td>\n",
       "      <td>99854882</td>\n",
       "      <td>AATAAA</td>\n",
       "      <td>23.0</td>\n",
       "    </tr>\n",
       "  </tbody>\n",
       "</table>\n",
       "</div>"
      ],
      "text/plain": [
       "  seqname gene_name          gene_id      mclv hexamer  sdist_aclv2ahex\n",
       "0  X       TSPAN6    ENSG00000000003  99883667  TATAAA -31.0           \n",
       "1  X       TNMD      ENSG00000000005  99854882  AATAAA  23.0           "
      ]
     },
     "execution_count": 33,
     "metadata": {},
     "output_type": "execute_result"
    }
   ],
   "source": [
    "ddf.head(2)"
   ]
  },
  {
   "cell_type": "markdown",
   "metadata": {},
   "source": [
    "## To see if it's possible that one mclv is used in multiple gene."
   ]
  },
  {
   "cell_type": "code",
   "execution_count": 34,
   "metadata": {
    "collapsed": false
   },
   "outputs": [
    {
     "name": "stdout",
     "output_type": "stream",
     "text": [
      "CPU times: user 6.22 s, sys: 40.7 ms, total: 6.26 s\n",
      "Wall time: 6.21 s\n"
     ]
    }
   ],
   "source": [
    "%time gene_count_per_mclv = ddf.groupby(['seqname', 'mclv']).apply(lambda g: g.gene_id.unique().shape[0])"
   ]
  },
  {
   "cell_type": "code",
   "execution_count": 35,
   "metadata": {
    "collapsed": false
   },
   "outputs": [
    {
     "data": {
      "text/plain": [
       "count    52429.000000\n",
       "mean     1.002518    \n",
       "std      0.107659    \n",
       "min      1.000000    \n",
       "25%      1.000000    \n",
       "50%      1.000000    \n",
       "75%      1.000000    \n",
       "max      19.000000   \n",
       "dtype: float64"
      ]
     },
     "execution_count": 35,
     "metadata": {},
     "output_type": "execute_result"
    }
   ],
   "source": [
    "gene_count_per_mclv.describe()"
   ]
  },
  {
   "cell_type": "code",
   "execution_count": 36,
   "metadata": {
    "collapsed": false
   },
   "outputs": [
    {
     "data": {
      "text/plain": [
       "0.001888267943313815"
      ]
     },
     "execution_count": 36,
     "metadata": {},
     "output_type": "execute_result"
    }
   ],
   "source": [
    "gene_count_per_mclv[gene_count_per_mclv > 1].shape[0] / gene_count_per_mclv.shape[0]"
   ]
  },
  {
   "cell_type": "code",
   "execution_count": 37,
   "metadata": {
    "collapsed": false
   },
   "outputs": [
    {
     "data": {
      "text/plain": [
       "2     95\n",
       "19    1 \n",
       "14    1 \n",
       "5     1 \n",
       "3     1 \n",
       "dtype: int64"
      ]
     },
     "execution_count": 37,
     "metadata": {},
     "output_type": "execute_result"
    }
   ],
   "source": [
    "gene_count_per_mclv[gene_count_per_mclv > 1].value_counts()"
   ]
  },
  {
   "cell_type": "markdown",
   "metadata": {},
   "source": [
    "So it's possible, but indeed very rare (0.19%) of the CSs, and most of them shared by 2 genes. Also, those genes that share mclv seem to be probably closely related based on their names."
   ]
  },
  {
   "cell_type": "markdown",
   "metadata": {},
   "source": [
    "Check a few concrete ones:"
   ]
  },
  {
   "cell_type": "code",
   "execution_count": 38,
   "metadata": {
    "collapsed": false
   },
   "outputs": [
    {
     "data": {
      "text/plain": [
       "seqname  mclv    \n",
       "14       39820397    2\n",
       "11       66412103    2\n",
       "17       15640874    2\n",
       "15       90815440    2\n",
       "8        10582909    2\n",
       "dtype: int64"
      ]
     },
     "execution_count": 38,
     "metadata": {},
     "output_type": "execute_result"
    }
   ],
   "source": [
    "gene_count_per_mclv[gene_count_per_mclv > 1].sample(5)"
   ]
  },
  {
   "cell_type": "code",
   "execution_count": 39,
   "metadata": {
    "collapsed": false
   },
   "outputs": [
    {
     "data": {
      "text/html": [
       "<div>\n",
       "<style>\n",
       "    .dataframe thead tr:only-child th {\n",
       "        text-align: right;\n",
       "    }\n",
       "\n",
       "    .dataframe thead th {\n",
       "        text-align: left;\n",
       "    }\n",
       "\n",
       "    .dataframe tbody tr th {\n",
       "        vertical-align: top;\n",
       "    }\n",
       "</style>\n",
       "<table border=\"1\" class=\"dataframe\">\n",
       "  <thead>\n",
       "    <tr style=\"text-align: right;\">\n",
       "      <th></th>\n",
       "      <th>seqname</th>\n",
       "      <th>gene_name</th>\n",
       "      <th>gene_id</th>\n",
       "      <th>mclv</th>\n",
       "      <th>hexamer</th>\n",
       "      <th>sdist_aclv2ahex</th>\n",
       "    </tr>\n",
       "  </thead>\n",
       "  <tbody>\n",
       "    <tr>\n",
       "      <th>75228</th>\n",
       "      <td>2</td>\n",
       "      <td>UGT1A5</td>\n",
       "      <td>ENSG00000240224</td>\n",
       "      <td>234681945</td>\n",
       "      <td>AATAAA</td>\n",
       "      <td>19.0</td>\n",
       "    </tr>\n",
       "    <tr>\n",
       "      <th>75510</th>\n",
       "      <td>2</td>\n",
       "      <td>UGT1A1</td>\n",
       "      <td>ENSG00000242366</td>\n",
       "      <td>234681945</td>\n",
       "      <td>AATAAA</td>\n",
       "      <td>19.0</td>\n",
       "    </tr>\n",
       "    <tr>\n",
       "      <th>75601</th>\n",
       "      <td>2</td>\n",
       "      <td>UGT1A3</td>\n",
       "      <td>ENSG00000243135</td>\n",
       "      <td>234681945</td>\n",
       "      <td>AATAAA</td>\n",
       "      <td>19.0</td>\n",
       "    </tr>\n",
       "    <tr>\n",
       "      <th>75795</th>\n",
       "      <td>2</td>\n",
       "      <td>UGT1A7</td>\n",
       "      <td>ENSG00000244122</td>\n",
       "      <td>234681945</td>\n",
       "      <td>AATAAA</td>\n",
       "      <td>19.0</td>\n",
       "    </tr>\n",
       "    <tr>\n",
       "      <th>75833</th>\n",
       "      <td>2</td>\n",
       "      <td>UGT1A4</td>\n",
       "      <td>ENSG00000244474</td>\n",
       "      <td>234681945</td>\n",
       "      <td>AATAAA</td>\n",
       "      <td>19.0</td>\n",
       "    </tr>\n",
       "  </tbody>\n",
       "</table>\n",
       "</div>"
      ],
      "text/plain": [
       "      seqname gene_name          gene_id       mclv hexamer  sdist_aclv2ahex\n",
       "75228  2       UGT1A5    ENSG00000240224  234681945  AATAAA  19.0           \n",
       "75510  2       UGT1A1    ENSG00000242366  234681945  AATAAA  19.0           \n",
       "75601  2       UGT1A3    ENSG00000243135  234681945  AATAAA  19.0           \n",
       "75795  2       UGT1A7    ENSG00000244122  234681945  AATAAA  19.0           \n",
       "75833  2       UGT1A4    ENSG00000244474  234681945  AATAAA  19.0           "
      ]
     },
     "execution_count": 39,
     "metadata": {},
     "output_type": "execute_result"
    }
   ],
   "source": [
    "ddf.query('mclv == 234681945')"
   ]
  },
  {
   "cell_type": "code",
   "execution_count": 40,
   "metadata": {
    "collapsed": false
   },
   "outputs": [
    {
     "data": {
      "text/html": [
       "<div>\n",
       "<style>\n",
       "    .dataframe thead tr:only-child th {\n",
       "        text-align: right;\n",
       "    }\n",
       "\n",
       "    .dataframe thead th {\n",
       "        text-align: left;\n",
       "    }\n",
       "\n",
       "    .dataframe tbody tr th {\n",
       "        vertical-align: top;\n",
       "    }\n",
       "</style>\n",
       "<table border=\"1\" class=\"dataframe\">\n",
       "  <thead>\n",
       "    <tr style=\"text-align: right;\">\n",
       "      <th></th>\n",
       "      <th>seqname</th>\n",
       "      <th>gene_name</th>\n",
       "      <th>gene_id</th>\n",
       "      <th>mclv</th>\n",
       "      <th>hexamer</th>\n",
       "      <th>sdist_aclv2ahex</th>\n",
       "    </tr>\n",
       "  </thead>\n",
       "  <tbody>\n",
       "    <tr>\n",
       "      <th>56706</th>\n",
       "      <td>11</td>\n",
       "      <td>RBM4</td>\n",
       "      <td>ENSG00000173933</td>\n",
       "      <td>66412103</td>\n",
       "      <td>GATAAA</td>\n",
       "      <td>40.0</td>\n",
       "    </tr>\n",
       "    <tr>\n",
       "      <th>75951</th>\n",
       "      <td>11</td>\n",
       "      <td>RBM14-RBM4</td>\n",
       "      <td>ENSG00000248643</td>\n",
       "      <td>66412103</td>\n",
       "      <td>GATAAA</td>\n",
       "      <td>40.0</td>\n",
       "    </tr>\n",
       "  </tbody>\n",
       "</table>\n",
       "</div>"
      ],
      "text/plain": [
       "      seqname   gene_name          gene_id      mclv hexamer  sdist_aclv2ahex\n",
       "56706  11      RBM4        ENSG00000173933  66412103  GATAAA  40.0           \n",
       "75951  11      RBM14-RBM4  ENSG00000248643  66412103  GATAAA  40.0           "
      ]
     },
     "execution_count": 40,
     "metadata": {},
     "output_type": "execute_result"
    }
   ],
   "source": [
    "ddf.query('mclv == 66412103')"
   ]
  },
  {
   "cell_type": "code",
   "execution_count": 41,
   "metadata": {
    "collapsed": false
   },
   "outputs": [
    {
     "data": {
      "text/html": [
       "<div>\n",
       "<style>\n",
       "    .dataframe thead tr:only-child th {\n",
       "        text-align: right;\n",
       "    }\n",
       "\n",
       "    .dataframe thead th {\n",
       "        text-align: left;\n",
       "    }\n",
       "\n",
       "    .dataframe tbody tr th {\n",
       "        vertical-align: top;\n",
       "    }\n",
       "</style>\n",
       "<table border=\"1\" class=\"dataframe\">\n",
       "  <thead>\n",
       "    <tr style=\"text-align: right;\">\n",
       "      <th></th>\n",
       "      <th>seqname</th>\n",
       "      <th>gene_name</th>\n",
       "      <th>gene_id</th>\n",
       "      <th>mclv</th>\n",
       "      <th>hexamer</th>\n",
       "      <th>sdist_aclv2ahex</th>\n",
       "    </tr>\n",
       "  </thead>\n",
       "  <tbody>\n",
       "    <tr>\n",
       "      <th>1290</th>\n",
       "      <td>X</td>\n",
       "      <td>IDS</td>\n",
       "      <td>ENSG00000010404</td>\n",
       "      <td>148564074</td>\n",
       "      <td>ATTAAA</td>\n",
       "      <td>-18.0</td>\n",
       "    </tr>\n",
       "    <tr>\n",
       "      <th>75372</th>\n",
       "      <td>X</td>\n",
       "      <td>IDS</td>\n",
       "      <td>ENSG00000241489</td>\n",
       "      <td>148564074</td>\n",
       "      <td>ATTAAA</td>\n",
       "      <td>-18.0</td>\n",
       "    </tr>\n",
       "  </tbody>\n",
       "</table>\n",
       "</div>"
      ],
      "text/plain": [
       "      seqname gene_name          gene_id       mclv hexamer  sdist_aclv2ahex\n",
       "1290   X       IDS       ENSG00000010404  148564074  ATTAAA -18.0           \n",
       "75372  X       IDS       ENSG00000241489  148564074  ATTAAA -18.0           "
      ]
     },
     "execution_count": 41,
     "metadata": {},
     "output_type": "execute_result"
    }
   ],
   "source": [
    "ddf.query('mclv == 148564074')"
   ]
  },
  {
   "cell_type": "code",
   "execution_count": 42,
   "metadata": {
    "collapsed": false
   },
   "outputs": [
    {
     "data": {
      "text/html": [
       "<div>\n",
       "<style>\n",
       "    .dataframe thead tr:only-child th {\n",
       "        text-align: right;\n",
       "    }\n",
       "\n",
       "    .dataframe thead th {\n",
       "        text-align: left;\n",
       "    }\n",
       "\n",
       "    .dataframe tbody tr th {\n",
       "        vertical-align: top;\n",
       "    }\n",
       "</style>\n",
       "<table border=\"1\" class=\"dataframe\">\n",
       "  <thead>\n",
       "    <tr style=\"text-align: right;\">\n",
       "      <th></th>\n",
       "      <th>seqname</th>\n",
       "      <th>gene_name</th>\n",
       "      <th>gene_id</th>\n",
       "      <th>mclv</th>\n",
       "      <th>hexamer</th>\n",
       "      <th>sdist_aclv2ahex</th>\n",
       "    </tr>\n",
       "  </thead>\n",
       "  <tbody>\n",
       "    <tr>\n",
       "      <th>57489</th>\n",
       "      <td>1</td>\n",
       "      <td>APITD1</td>\n",
       "      <td>ENSG00000175279</td>\n",
       "      <td>10512210</td>\n",
       "      <td>NA</td>\n",
       "      <td>NaN</td>\n",
       "    </tr>\n",
       "    <tr>\n",
       "      <th>76168</th>\n",
       "      <td>1</td>\n",
       "      <td>APITD1-CORT</td>\n",
       "      <td>ENSG00000251503</td>\n",
       "      <td>10512210</td>\n",
       "      <td>NA</td>\n",
       "      <td>NaN</td>\n",
       "    </tr>\n",
       "  </tbody>\n",
       "</table>\n",
       "</div>"
      ],
      "text/plain": [
       "      seqname    gene_name          gene_id      mclv hexamer  sdist_aclv2ahex\n",
       "57489  1       APITD1       ENSG00000175279  10512210  NA     NaN             \n",
       "76168  1       APITD1-CORT  ENSG00000251503  10512210  NA     NaN             "
      ]
     },
     "execution_count": 42,
     "metadata": {},
     "output_type": "execute_result"
    }
   ],
   "source": [
    "ddf.query('mclv == 10512210')"
   ]
  },
  {
   "cell_type": "code",
   "execution_count": 43,
   "metadata": {
    "collapsed": false,
    "scrolled": true
   },
   "outputs": [
    {
     "data": {
      "text/html": [
       "<div>\n",
       "<style>\n",
       "    .dataframe thead tr:only-child th {\n",
       "        text-align: right;\n",
       "    }\n",
       "\n",
       "    .dataframe thead th {\n",
       "        text-align: left;\n",
       "    }\n",
       "\n",
       "    .dataframe tbody tr th {\n",
       "        vertical-align: top;\n",
       "    }\n",
       "</style>\n",
       "<table border=\"1\" class=\"dataframe\">\n",
       "  <thead>\n",
       "    <tr style=\"text-align: right;\">\n",
       "      <th></th>\n",
       "      <th>seqname</th>\n",
       "      <th>gene_name</th>\n",
       "      <th>gene_id</th>\n",
       "      <th>mclv</th>\n",
       "      <th>hexamer</th>\n",
       "      <th>sdist_aclv2ahex</th>\n",
       "    </tr>\n",
       "  </thead>\n",
       "  <tbody>\n",
       "    <tr>\n",
       "      <th>75638</th>\n",
       "      <td>10</td>\n",
       "      <td>PGBD3</td>\n",
       "      <td>ENSG00000243251</td>\n",
       "      <td>50723247</td>\n",
       "      <td>AATAAA</td>\n",
       "      <td>-20.0</td>\n",
       "    </tr>\n",
       "    <tr>\n",
       "      <th>76973</th>\n",
       "      <td>10</td>\n",
       "      <td>ERCC6-PGBD3</td>\n",
       "      <td>ENSG00000258838</td>\n",
       "      <td>50723247</td>\n",
       "      <td>AATAAA</td>\n",
       "      <td>-20.0</td>\n",
       "    </tr>\n",
       "  </tbody>\n",
       "</table>\n",
       "</div>"
      ],
      "text/plain": [
       "      seqname    gene_name          gene_id      mclv hexamer  sdist_aclv2ahex\n",
       "75638  10      PGBD3        ENSG00000243251  50723247  AATAAA -20.0           \n",
       "76973  10      ERCC6-PGBD3  ENSG00000258838  50723247  AATAAA -20.0           "
      ]
     },
     "execution_count": 43,
     "metadata": {},
     "output_type": "execute_result"
    }
   ],
   "source": [
    "ddf.query('mclv == 50723247')"
   ]
  },
  {
   "cell_type": "code",
   "execution_count": 44,
   "metadata": {
    "collapsed": false
   },
   "outputs": [
    {
     "data": {
      "text/plain": [
       "seqname  mclv     \n",
       "5        140892546    19\n",
       "dtype: int64"
      ]
     },
     "execution_count": 44,
     "metadata": {},
     "output_type": "execute_result"
    }
   ],
   "source": [
    "gene_count_per_mclv[gene_count_per_mclv == 19]"
   ]
  },
  {
   "cell_type": "code",
   "execution_count": 45,
   "metadata": {
    "collapsed": false
   },
   "outputs": [
    {
     "data": {
      "text/html": [
       "<div>\n",
       "<style>\n",
       "    .dataframe thead tr:only-child th {\n",
       "        text-align: right;\n",
       "    }\n",
       "\n",
       "    .dataframe thead th {\n",
       "        text-align: left;\n",
       "    }\n",
       "\n",
       "    .dataframe tbody tr th {\n",
       "        vertical-align: top;\n",
       "    }\n",
       "</style>\n",
       "<table border=\"1\" class=\"dataframe\">\n",
       "  <thead>\n",
       "    <tr style=\"text-align: right;\">\n",
       "      <th></th>\n",
       "      <th>seqname</th>\n",
       "      <th>gene_name</th>\n",
       "      <th>gene_id</th>\n",
       "      <th>mclv</th>\n",
       "      <th>hexamer</th>\n",
       "      <th>sdist_aclv2ahex</th>\n",
       "    </tr>\n",
       "  </thead>\n",
       "  <tbody>\n",
       "    <tr>\n",
       "      <th>7667</th>\n",
       "      <td>5</td>\n",
       "      <td>PCDHGA2</td>\n",
       "      <td>ENSG00000081853</td>\n",
       "      <td>140892546</td>\n",
       "      <td>AATAAA</td>\n",
       "      <td>25.0</td>\n",
       "    </tr>\n",
       "    <tr>\n",
       "      <th>70034</th>\n",
       "      <td>5</td>\n",
       "      <td>PCDHGA1</td>\n",
       "      <td>ENSG00000204956</td>\n",
       "      <td>140892546</td>\n",
       "      <td>AATAAA</td>\n",
       "      <td>25.0</td>\n",
       "    </tr>\n",
       "    <tr>\n",
       "      <th>75287</th>\n",
       "      <td>5</td>\n",
       "      <td>PCDHGC5</td>\n",
       "      <td>ENSG00000240764</td>\n",
       "      <td>140892546</td>\n",
       "      <td>AATAAA</td>\n",
       "      <td>25.0</td>\n",
       "    </tr>\n",
       "    <tr>\n",
       "      <th>75530</th>\n",
       "      <td>5</td>\n",
       "      <td>PCDHGC4</td>\n",
       "      <td>ENSG00000242419</td>\n",
       "      <td>140892546</td>\n",
       "      <td>AATAAA</td>\n",
       "      <td>25.0</td>\n",
       "    </tr>\n",
       "    <tr>\n",
       "      <th>76185</th>\n",
       "      <td>5</td>\n",
       "      <td>PCDHGA12</td>\n",
       "      <td>ENSG00000253159</td>\n",
       "      <td>140892546</td>\n",
       "      <td>AATAAA</td>\n",
       "      <td>25.0</td>\n",
       "    </tr>\n",
       "    <tr>\n",
       "      <th>76195</th>\n",
       "      <td>5</td>\n",
       "      <td>PCDHGB6</td>\n",
       "      <td>ENSG00000253305</td>\n",
       "      <td>140892546</td>\n",
       "      <td>AATAAA</td>\n",
       "      <td>25.0</td>\n",
       "    </tr>\n",
       "    <tr>\n",
       "      <th>76213</th>\n",
       "      <td>5</td>\n",
       "      <td>PCDHGA5</td>\n",
       "      <td>ENSG00000253485</td>\n",
       "      <td>140892546</td>\n",
       "      <td>AATAAA</td>\n",
       "      <td>25.0</td>\n",
       "    </tr>\n",
       "    <tr>\n",
       "      <th>76215</th>\n",
       "      <td>5</td>\n",
       "      <td>PCDHGA7</td>\n",
       "      <td>ENSG00000253537</td>\n",
       "      <td>140892546</td>\n",
       "      <td>AATAAA</td>\n",
       "      <td>25.0</td>\n",
       "    </tr>\n",
       "    <tr>\n",
       "      <th>76226</th>\n",
       "      <td>5</td>\n",
       "      <td>PCDHGA6</td>\n",
       "      <td>ENSG00000253731</td>\n",
       "      <td>140892546</td>\n",
       "      <td>AATAAA</td>\n",
       "      <td>25.0</td>\n",
       "    </tr>\n",
       "    <tr>\n",
       "      <th>76227</th>\n",
       "      <td>5</td>\n",
       "      <td>PCDHGA8</td>\n",
       "      <td>ENSG00000253767</td>\n",
       "      <td>140892546</td>\n",
       "      <td>AATAAA</td>\n",
       "      <td>25.0</td>\n",
       "    </tr>\n",
       "    <tr>\n",
       "      <th>76231</th>\n",
       "      <td>5</td>\n",
       "      <td>PCDHGA10</td>\n",
       "      <td>ENSG00000253846</td>\n",
       "      <td>140892546</td>\n",
       "      <td>AATAAA</td>\n",
       "      <td>25.0</td>\n",
       "    </tr>\n",
       "    <tr>\n",
       "      <th>76238</th>\n",
       "      <td>5</td>\n",
       "      <td>PCDHGB2</td>\n",
       "      <td>ENSG00000253910</td>\n",
       "      <td>140892546</td>\n",
       "      <td>AATAAA</td>\n",
       "      <td>25.0</td>\n",
       "    </tr>\n",
       "    <tr>\n",
       "      <th>76239</th>\n",
       "      <td>5</td>\n",
       "      <td>PCDHGB4</td>\n",
       "      <td>ENSG00000253953</td>\n",
       "      <td>140892546</td>\n",
       "      <td>AATAAA</td>\n",
       "      <td>25.0</td>\n",
       "    </tr>\n",
       "    <tr>\n",
       "      <th>76255</th>\n",
       "      <td>5</td>\n",
       "      <td>PCDHGB7</td>\n",
       "      <td>ENSG00000254122</td>\n",
       "      <td>140892546</td>\n",
       "      <td>AATAAA</td>\n",
       "      <td>25.0</td>\n",
       "    </tr>\n",
       "    <tr>\n",
       "      <th>76259</th>\n",
       "      <td>5</td>\n",
       "      <td>PCDHGB1</td>\n",
       "      <td>ENSG00000254221</td>\n",
       "      <td>140892546</td>\n",
       "      <td>AATAAA</td>\n",
       "      <td>25.0</td>\n",
       "    </tr>\n",
       "    <tr>\n",
       "      <th>76260</th>\n",
       "      <td>5</td>\n",
       "      <td>PCDHGA3</td>\n",
       "      <td>ENSG00000254245</td>\n",
       "      <td>140892546</td>\n",
       "      <td>AATAAA</td>\n",
       "      <td>25.0</td>\n",
       "    </tr>\n",
       "    <tr>\n",
       "      <th>77663</th>\n",
       "      <td>5</td>\n",
       "      <td>PCDHGA9</td>\n",
       "      <td>ENSG00000261934</td>\n",
       "      <td>140892546</td>\n",
       "      <td>AATAAA</td>\n",
       "      <td>25.0</td>\n",
       "    </tr>\n",
       "    <tr>\n",
       "      <th>77921</th>\n",
       "      <td>5</td>\n",
       "      <td>PCDHGB3</td>\n",
       "      <td>ENSG00000262209</td>\n",
       "      <td>140892546</td>\n",
       "      <td>AATAAA</td>\n",
       "      <td>25.0</td>\n",
       "    </tr>\n",
       "    <tr>\n",
       "      <th>78275</th>\n",
       "      <td>5</td>\n",
       "      <td>PCDHGA4</td>\n",
       "      <td>ENSG00000262576</td>\n",
       "      <td>140892546</td>\n",
       "      <td>AATAAA</td>\n",
       "      <td>25.0</td>\n",
       "    </tr>\n",
       "  </tbody>\n",
       "</table>\n",
       "</div>"
      ],
      "text/plain": [
       "      seqname gene_name          gene_id       mclv hexamer  sdist_aclv2ahex\n",
       "7667   5       PCDHGA2   ENSG00000081853  140892546  AATAAA  25.0           \n",
       "70034  5       PCDHGA1   ENSG00000204956  140892546  AATAAA  25.0           \n",
       "75287  5       PCDHGC5   ENSG00000240764  140892546  AATAAA  25.0           \n",
       "75530  5       PCDHGC4   ENSG00000242419  140892546  AATAAA  25.0           \n",
       "76185  5       PCDHGA12  ENSG00000253159  140892546  AATAAA  25.0           \n",
       "76195  5       PCDHGB6   ENSG00000253305  140892546  AATAAA  25.0           \n",
       "76213  5       PCDHGA5   ENSG00000253485  140892546  AATAAA  25.0           \n",
       "76215  5       PCDHGA7   ENSG00000253537  140892546  AATAAA  25.0           \n",
       "76226  5       PCDHGA6   ENSG00000253731  140892546  AATAAA  25.0           \n",
       "76227  5       PCDHGA8   ENSG00000253767  140892546  AATAAA  25.0           \n",
       "76231  5       PCDHGA10  ENSG00000253846  140892546  AATAAA  25.0           \n",
       "76238  5       PCDHGB2   ENSG00000253910  140892546  AATAAA  25.0           \n",
       "76239  5       PCDHGB4   ENSG00000253953  140892546  AATAAA  25.0           \n",
       "76255  5       PCDHGB7   ENSG00000254122  140892546  AATAAA  25.0           \n",
       "76259  5       PCDHGB1   ENSG00000254221  140892546  AATAAA  25.0           \n",
       "76260  5       PCDHGA3   ENSG00000254245  140892546  AATAAA  25.0           \n",
       "77663  5       PCDHGA9   ENSG00000261934  140892546  AATAAA  25.0           \n",
       "77921  5       PCDHGB3   ENSG00000262209  140892546  AATAAA  25.0           \n",
       "78275  5       PCDHGA4   ENSG00000262576  140892546  AATAAA  25.0           "
      ]
     },
     "execution_count": 45,
     "metadata": {},
     "output_type": "execute_result"
    }
   ],
   "source": [
    "ddf.query('mclv == 140892546')"
   ]
  },
  {
   "cell_type": "code",
   "execution_count": null,
   "metadata": {
    "collapsed": true
   },
   "outputs": [],
   "source": []
  },
  {
   "cell_type": "markdown",
   "metadata": {},
   "source": [
    "## Distribution of distances between neighboring CSs of the same gene in the annotation"
   ]
  },
  {
   "cell_type": "code",
   "execution_count": 46,
   "metadata": {
    "collapsed": false
   },
   "outputs": [
    {
     "data": {
      "text/html": [
       "<div>\n",
       "<style>\n",
       "    .dataframe thead tr:only-child th {\n",
       "        text-align: right;\n",
       "    }\n",
       "\n",
       "    .dataframe thead th {\n",
       "        text-align: left;\n",
       "    }\n",
       "\n",
       "    .dataframe tbody tr th {\n",
       "        vertical-align: top;\n",
       "    }\n",
       "</style>\n",
       "<table border=\"1\" class=\"dataframe\">\n",
       "  <thead>\n",
       "    <tr style=\"text-align: right;\">\n",
       "      <th></th>\n",
       "      <th>seqname</th>\n",
       "      <th>gene_name</th>\n",
       "      <th>gene_id</th>\n",
       "      <th>mclv</th>\n",
       "      <th>hexamer</th>\n",
       "      <th>sdist_aclv2ahex</th>\n",
       "    </tr>\n",
       "  </thead>\n",
       "  <tbody>\n",
       "    <tr>\n",
       "      <th>0</th>\n",
       "      <td>X</td>\n",
       "      <td>TSPAN6</td>\n",
       "      <td>ENSG00000000003</td>\n",
       "      <td>99883667</td>\n",
       "      <td>TATAAA</td>\n",
       "      <td>-31.0</td>\n",
       "    </tr>\n",
       "    <tr>\n",
       "      <th>1</th>\n",
       "      <td>X</td>\n",
       "      <td>TNMD</td>\n",
       "      <td>ENSG00000000005</td>\n",
       "      <td>99854882</td>\n",
       "      <td>AATAAA</td>\n",
       "      <td>23.0</td>\n",
       "    </tr>\n",
       "    <tr>\n",
       "      <th>2</th>\n",
       "      <td>20</td>\n",
       "      <td>DPM1</td>\n",
       "      <td>ENSG00000000419</td>\n",
       "      <td>49551404</td>\n",
       "      <td>AATAAA</td>\n",
       "      <td>-30.0</td>\n",
       "    </tr>\n",
       "    <tr>\n",
       "      <th>3</th>\n",
       "      <td>20</td>\n",
       "      <td>DPM1</td>\n",
       "      <td>ENSG00000000419</td>\n",
       "      <td>49551485</td>\n",
       "      <td>ATTAAA</td>\n",
       "      <td>-28.0</td>\n",
       "    </tr>\n",
       "    <tr>\n",
       "      <th>6</th>\n",
       "      <td>1</td>\n",
       "      <td>SCYL3</td>\n",
       "      <td>ENSG00000000457</td>\n",
       "      <td>169822215</td>\n",
       "      <td>AATAAA</td>\n",
       "      <td>-36.0</td>\n",
       "    </tr>\n",
       "  </tbody>\n",
       "</table>\n",
       "</div>"
      ],
      "text/plain": [
       "  seqname gene_name          gene_id       mclv hexamer  sdist_aclv2ahex\n",
       "0  X       TSPAN6    ENSG00000000003  99883667   TATAAA -31.0           \n",
       "1  X       TNMD      ENSG00000000005  99854882   AATAAA  23.0           \n",
       "2  20      DPM1      ENSG00000000419  49551404   AATAAA -30.0           \n",
       "3  20      DPM1      ENSG00000000419  49551485   ATTAAA -28.0           \n",
       "6  1       SCYL3     ENSG00000000457  169822215  AATAAA -36.0           "
      ]
     },
     "execution_count": 46,
     "metadata": {},
     "output_type": "execute_result"
    }
   ],
   "source": [
    "ddf.head()"
   ]
  },
  {
   "cell_type": "code",
   "execution_count": 47,
   "metadata": {
    "collapsed": false
   },
   "outputs": [
    {
     "name": "stdout",
     "output_type": "stream",
     "text": [
      "CPU times: user 2.75 s, sys: 13.1 ms, total: 2.77 s\n",
      "Wall time: 2.76 s\n"
     ]
    }
   ],
   "source": [
    "%%time\n",
    "neighbor_dist = ddf.groupby(['gene_name', 'gene_id']).apply(\n",
    "    lambda g: np.diff(np.sort(g.mclv.unique())))"
   ]
  },
  {
   "cell_type": "code",
   "execution_count": 48,
   "metadata": {
    "collapsed": false
   },
   "outputs": [],
   "source": [
    "ndser = pd.Series(np.concatenate(neighbor_dist.values))"
   ]
  },
  {
   "cell_type": "markdown",
   "metadata": {},
   "source": [
    "See the distribution"
   ]
  },
  {
   "cell_type": "code",
   "execution_count": 49,
   "metadata": {
    "collapsed": false
   },
   "outputs": [
    {
     "data": {
      "text/html": [
       "<div>\n",
       "<style>\n",
       "    .dataframe thead tr:only-child th {\n",
       "        text-align: right;\n",
       "    }\n",
       "\n",
       "    .dataframe thead th {\n",
       "        text-align: left;\n",
       "    }\n",
       "\n",
       "    .dataframe tbody tr th {\n",
       "        vertical-align: top;\n",
       "    }\n",
       "</style>\n",
       "<table border=\"1\" class=\"dataframe\">\n",
       "  <thead>\n",
       "    <tr style=\"text-align: right;\">\n",
       "      <th></th>\n",
       "      <th>count</th>\n",
       "      <th>mean</th>\n",
       "      <th>std</th>\n",
       "      <th>min</th>\n",
       "      <th>0%</th>\n",
       "      <th>10%</th>\n",
       "      <th>20%</th>\n",
       "      <th>30.0%</th>\n",
       "      <th>40%</th>\n",
       "      <th>50%</th>\n",
       "      <th>60.0%</th>\n",
       "      <th>70%</th>\n",
       "      <th>80%</th>\n",
       "      <th>90%</th>\n",
       "      <th>100%</th>\n",
       "      <th>max</th>\n",
       "    </tr>\n",
       "  </thead>\n",
       "  <tbody>\n",
       "    <tr>\n",
       "      <th>distance</th>\n",
       "      <td>32314</td>\n",
       "      <td>9035</td>\n",
       "      <td>35704</td>\n",
       "      <td>21</td>\n",
       "      <td>21</td>\n",
       "      <td>63</td>\n",
       "      <td>147</td>\n",
       "      <td>283</td>\n",
       "      <td>518</td>\n",
       "      <td>938</td>\n",
       "      <td>1673</td>\n",
       "      <td>3051</td>\n",
       "      <td>6381</td>\n",
       "      <td>18995</td>\n",
       "      <td>1585162</td>\n",
       "      <td>1585162</td>\n",
       "    </tr>\n",
       "  </tbody>\n",
       "</table>\n",
       "</div>"
      ],
      "text/plain": [
       "          count  mean    std  min  0%  10%  20%  30.0%  40%  50%  60.0%   70%   80%    90%     100%      max\n",
       "distance  32314  9035  35704  21   21  63   147  283    518  938  1673   3051  6381  18995  1585162  1585162"
      ]
     },
     "execution_count": 49,
     "metadata": {},
     "output_type": "execute_result"
    }
   ],
   "source": [
    "ndser.describe(percentiles=np.arange(0, 1.01, 0.1)).astype(int).to_frame(name='distance').T"
   ]
  },
  {
   "cell_type": "code",
   "execution_count": 52,
   "metadata": {
    "collapsed": false
   },
   "outputs": [
    {
     "data": {
      "image/png": "[encoded data removed]",
      "text/plain": [
       "<matplotlib.figure.Figure at 0x7f87e1107208>"
      ]
     },
     "metadata": {},
     "output_type": "display_data"
    }
   ],
   "source": [
    "ax = ndser[ndser <= 18995].plot.hist(bins=100)\n",
    "ax.set_title('~90% of the neighbouring distances')\n",
    "ax.set_yscale('log')"
   ]
  }
 ],
 "metadata": {
  "anaconda-cloud": {},
  "kernelspec": {
   "display_name": "Python [default]",
   "language": "python",
   "name": "python3"
  },
  "language_info": {
   "codemirror_mode": {
    "name": "ipython",
    "version": 3
   },
   "file_extension": ".py",
   "mimetype": "text/x-python",
   "name": "python",
   "nbconvert_exporter": "python",
   "pygments_lexer": "ipython3",
   "version": "3.5.3"
  }
 },
 "nbformat": 4,
 "nbformat_minor": 1
}
