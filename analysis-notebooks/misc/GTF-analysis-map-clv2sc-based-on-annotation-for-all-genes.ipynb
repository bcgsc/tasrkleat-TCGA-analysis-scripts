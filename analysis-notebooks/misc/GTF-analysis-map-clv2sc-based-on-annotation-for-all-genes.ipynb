{
 "cells": [
  {
   "cell_type": "markdown",
   "metadata": {},
   "source": [
    "Related to https://github.com/bcgsc/tasrkleat-TCGA-analysis-scripts/blob/master/analysis-notebooks/core/map-clv2sc-based-on-annotation-for-114-genes.ipynb, but extend the analysis to all genes in the annotation."
   ]
  },
  {
   "cell_type": "code",
   "execution_count": 1,
   "metadata": {
    "collapsed": false
   },
   "outputs": [],
   "source": [
    "import sys\n",
    "sys.path.insert(0, '..')\n",
    "from eda_import import *\n",
    "import pysam"
   ]
  },
  {
   "cell_type": "code",
   "execution_count": 2,
   "metadata": {
    "collapsed": false
   },
   "outputs": [
    {
     "name": "stdout",
     "output_type": "stream",
     "text": [
      "2018-05-11 10:15:56.283099\n"
     ]
    }
   ],
   "source": [
    "print(datetime.datetime.today())"
   ]
  },
  {
   "cell_type": "code",
   "execution_count": 3,
   "metadata": {
    "collapsed": false
   },
   "outputs": [],
   "source": [
    "from utils.parse_gtf_utils import extract_info\n",
    "from utils.calc_clv_sc import gen_sc_clv_per_transcript, get_strand\n",
    "from utils.cluster import cluster_clv_sites"
   ]
  },
  {
   "cell_type": "code",
   "execution_count": 4,
   "metadata": {
    "collapsed": true
   },
   "outputs": [],
   "source": [
    "gtf = '../reference_data/Homo_sapiens.GRCh37.75.gtf'"
   ]
  },
  {
   "cell_type": "code",
   "execution_count": 5,
   "metadata": {
    "collapsed": false
   },
   "outputs": [
    {
     "name": "stdout",
     "output_type": "stream",
     "text": [
      "reading ../reference_data/Homo_sapiens.GRCh37.75.gtf...\n",
      "CPU times: user 13.8 s, sys: 2.42 s, total: 16.3 s\n",
      "Wall time: 16.3 s\n"
     ]
    }
   ],
   "source": [
    "%%time\n",
    "# http://uswest.ensembl.org/info/website/upload/gff.html\n",
    "names = ['seqname', 'source', 'feature', 'start', 'end', 'score',\n",
    "         'strand', 'frame', 'attribute']\n",
    "# adf: annotation df\n",
    "print('reading {0}...'.format(gtf))\n",
    "adf = pd.read_csv(gtf, header=None, sep='\\t', comment='#', low_memory=False, names=names)"
   ]
  },
  {
   "cell_type": "code",
   "execution_count": 6,
   "metadata": {
    "collapsed": false
   },
   "outputs": [
    {
     "name": "stdout",
     "output_type": "stream",
     "text": [
      "extracting length...\n",
      "extracting transcript id...\n",
      "extracting gene id...\n",
      "extracting gene name...\n",
      "extracting gene source...\n",
      "extracting transcript source...\n",
      "extracting tag cds_end_NF...\n",
      "extracting tag cds_start_NF...\n",
      "CPU times: user 22.6 s, sys: 1.35 s, total: 23.9 s\n",
      "Wall time: 23.8 s\n"
     ]
    }
   ],
   "source": [
    "%time extract_info(adf)"
   ]
  },
  {
   "cell_type": "code",
   "execution_count": 7,
   "metadata": {
    "collapsed": false
   },
   "outputs": [
    {
     "data": {
      "text/html": [
       "<div>\n",
       "<style>\n",
       "    .dataframe thead tr:only-child th {\n",
       "        text-align: right;\n",
       "    }\n",
       "\n",
       "    .dataframe thead th {\n",
       "        text-align: left;\n",
       "    }\n",
       "\n",
       "    .dataframe tbody tr th {\n",
       "        vertical-align: top;\n",
       "    }\n",
       "</style>\n",
       "<table border=\"1\" class=\"dataframe\">\n",
       "  <thead>\n",
       "    <tr style=\"text-align: right;\">\n",
       "      <th></th>\n",
       "      <th>seqname</th>\n",
       "      <th>source</th>\n",
       "      <th>feature</th>\n",
       "      <th>start</th>\n",
       "      <th>end</th>\n",
       "      <th>score</th>\n",
       "      <th>strand</th>\n",
       "      <th>frame</th>\n",
       "      <th>len</th>\n",
       "      <th>transcript_id</th>\n",
       "      <th>gene_id</th>\n",
       "      <th>gene_name</th>\n",
       "      <th>gene_source</th>\n",
       "      <th>transcript_source</th>\n",
       "      <th>is_cds_end_NF</th>\n",
       "      <th>is_cds_start_NF</th>\n",
       "    </tr>\n",
       "  </thead>\n",
       "  <tbody>\n",
       "    <tr>\n",
       "      <th>0</th>\n",
       "      <td>1</td>\n",
       "      <td>pseudogene</td>\n",
       "      <td>gene</td>\n",
       "      <td>11869</td>\n",
       "      <td>14412</td>\n",
       "      <td>.</td>\n",
       "      <td>+</td>\n",
       "      <td>.</td>\n",
       "      <td>2544</td>\n",
       "      <td></td>\n",
       "      <td>ENSG00000223972</td>\n",
       "      <td>DDX11L1</td>\n",
       "      <td>ensembl_havana</td>\n",
       "      <td></td>\n",
       "      <td>False</td>\n",
       "      <td>False</td>\n",
       "    </tr>\n",
       "    <tr>\n",
       "      <th>1</th>\n",
       "      <td>1</td>\n",
       "      <td>processed_transcript</td>\n",
       "      <td>transcript</td>\n",
       "      <td>11869</td>\n",
       "      <td>14409</td>\n",
       "      <td>.</td>\n",
       "      <td>+</td>\n",
       "      <td>.</td>\n",
       "      <td>2541</td>\n",
       "      <td>ENST00000456328</td>\n",
       "      <td>ENSG00000223972</td>\n",
       "      <td>DDX11L1</td>\n",
       "      <td>ensembl_havana</td>\n",
       "      <td>havana</td>\n",
       "      <td>False</td>\n",
       "      <td>False</td>\n",
       "    </tr>\n",
       "  </tbody>\n",
       "</table>\n",
       "</div>"
      ],
      "text/plain": [
       "  seqname                source     feature  start    end score strand frame   len    transcript_id          gene_id gene_name     gene_source transcript_source  is_cds_end_NF  is_cds_start_NF\n",
       "0  1       pseudogene            gene        11869  14412  .     +      .     2544                   ENSG00000223972  DDX11L1   ensembl_havana                    False          False          \n",
       "1  1       processed_transcript  transcript  11869  14409  .     +      .     2541  ENST00000456328  ENSG00000223972  DDX11L1   ensembl_havana  havana            False          False          "
      ]
     },
     "execution_count": 7,
     "metadata": {},
     "output_type": "execute_result"
    }
   ],
   "source": [
    "adf.head(2)"
   ]
  },
  {
   "cell_type": "code",
   "execution_count": 8,
   "metadata": {
    "collapsed": true
   },
   "outputs": [],
   "source": [
    "bdf = adf\\\n",
    "    .query('source in {0}'.format(['protein_coding', 'nonsense_mediated_decay']))\\\n",
    "    .query('is_cds_end_NF == False').copy()"
   ]
  },
  {
   "cell_type": "code",
   "execution_count": 9,
   "metadata": {
    "collapsed": false
   },
   "outputs": [
    {
     "data": {
      "text/plain": [
       "havana            39620\n",
       "ensembl_havana    29115\n",
       "ensembl           13434\n",
       "insdc             13   \n",
       "Name: transcript_source, dtype: int64"
      ]
     },
     "execution_count": 9,
     "metadata": {},
     "output_type": "execute_result"
    }
   ],
   "source": [
    "bdf.query('feature == \"transcript\"').transcript_source.value_counts()"
   ]
  },
  {
   "cell_type": "code",
   "execution_count": 10,
   "metadata": {
    "collapsed": false
   },
   "outputs": [
    {
     "name": "stdout",
     "output_type": "stream",
     "text": [
      "CPU times: user 8min 29s, sys: 1.65 s, total: 8min 30s\n",
      "Wall time: 8min 29s\n"
     ]
    }
   ],
   "source": [
    "%%time\n",
    "cdf = bdf\\\n",
    "    .query('feature != \"gene\"')\\\n",
    "    .groupby(['gene_name', 'gene_id', 'transcript_id', 'seqname'])\\\n",
    "    .apply(gen_sc_clv_per_transcript)"
   ]
  },
  {
   "cell_type": "code",
   "execution_count": 12,
   "metadata": {
    "collapsed": true
   },
   "outputs": [],
   "source": [
    "# as a cache\n",
    "# cdf.to_csv('../__results/gtf-analysis-all-genes.csv', index=False)"
   ]
  },
  {
   "cell_type": "code",
   "execution_count": 13,
   "metadata": {
    "collapsed": true
   },
   "outputs": [],
   "source": [
    "cdf.reset_index(inplace=True)"
   ]
  },
  {
   "cell_type": "code",
   "execution_count": 14,
   "metadata": {
    "collapsed": false
   },
   "outputs": [
    {
     "data": {
      "text/plain": [
       "(20462,)"
      ]
     },
     "execution_count": 14,
     "metadata": {},
     "output_type": "execute_result"
    }
   ],
   "source": [
    "cdf.gene_name.unique().shape"
   ]
  },
  {
   "cell_type": "code",
   "execution_count": 15,
   "metadata": {
    "collapsed": false
   },
   "outputs": [
    {
     "data": {
      "text/plain": [
       "protein_coding             68388\n",
       "nonsense_mediated_decay    13794\n",
       "Name: source, dtype: int64"
      ]
     },
     "execution_count": 15,
     "metadata": {},
     "output_type": "execute_result"
    }
   ],
   "source": [
    "cdf.source.value_counts()"
   ]
  },
  {
   "cell_type": "code",
   "execution_count": 16,
   "metadata": {
    "collapsed": false
   },
   "outputs": [
    {
     "data": {
      "text/html": [
       "<div>\n",
       "<style>\n",
       "    .dataframe thead tr:only-child th {\n",
       "        text-align: right;\n",
       "    }\n",
       "\n",
       "    .dataframe thead th {\n",
       "        text-align: left;\n",
       "    }\n",
       "\n",
       "    .dataframe tbody tr th {\n",
       "        vertical-align: top;\n",
       "    }\n",
       "</style>\n",
       "<table border=\"1\" class=\"dataframe\">\n",
       "  <thead>\n",
       "    <tr style=\"text-align: right;\">\n",
       "      <th></th>\n",
       "      <th>gene_name</th>\n",
       "      <th>gene_id</th>\n",
       "      <th>transcript_id</th>\n",
       "      <th>seqname</th>\n",
       "      <th>source</th>\n",
       "      <th>sc</th>\n",
       "      <th>clv</th>\n",
       "      <th>strand</th>\n",
       "      <th>gene_source</th>\n",
       "      <th>transcript_source</th>\n",
       "      <th>is_cds_end_NF</th>\n",
       "      <th>is_cds_start_NF</th>\n",
       "    </tr>\n",
       "  </thead>\n",
       "  <tbody>\n",
       "    <tr>\n",
       "      <th>0</th>\n",
       "      <td>A1BG</td>\n",
       "      <td>ENSG00000121410</td>\n",
       "      <td>ENST00000263100</td>\n",
       "      <td>19</td>\n",
       "      <td>protein_coding</td>\n",
       "      <td>58858388</td>\n",
       "      <td>58858216</td>\n",
       "      <td>-</td>\n",
       "      <td>ensembl_havana</td>\n",
       "      <td>ensembl_havana</td>\n",
       "      <td>False</td>\n",
       "      <td>False</td>\n",
       "    </tr>\n",
       "    <tr>\n",
       "      <th>1</th>\n",
       "      <td>A1CF</td>\n",
       "      <td>ENSG00000148584</td>\n",
       "      <td>ENST00000282641</td>\n",
       "      <td>10</td>\n",
       "      <td>protein_coding</td>\n",
       "      <td>52566489</td>\n",
       "      <td>52566327</td>\n",
       "      <td>-</td>\n",
       "      <td>ensembl_havana</td>\n",
       "      <td>ensembl</td>\n",
       "      <td>False</td>\n",
       "      <td>False</td>\n",
       "    </tr>\n",
       "  </tbody>\n",
       "</table>\n",
       "</div>"
      ],
      "text/plain": [
       "  gene_name          gene_id    transcript_id seqname          source        sc       clv strand     gene_source transcript_source  is_cds_end_NF  is_cds_start_NF\n",
       "0  A1BG      ENSG00000121410  ENST00000263100  19      protein_coding  58858388  58858216  -      ensembl_havana  ensembl_havana    False          False          \n",
       "1  A1CF      ENSG00000148584  ENST00000282641  10      protein_coding  52566489  52566327  -      ensembl_havana  ensembl           False          False          "
      ]
     },
     "execution_count": 16,
     "metadata": {},
     "output_type": "execute_result"
    }
   ],
   "source": [
    "cdf.head(2)"
   ]
  },
  {
   "cell_type": "markdown",
   "metadata": {},
   "source": [
    "#### Side note: Check cases of zero 3'UTR length"
   ]
  },
  {
   "cell_type": "code",
   "execution_count": 18,
   "metadata": {
    "collapsed": false
   },
   "outputs": [],
   "source": [
    "def calc_utr_beg(row):\n",
    "    \"\"\"calculate the beginning of 3'UTR\"\"\"\n",
    "    if row.strand == '+':\n",
    "        return row.sc + 1\n",
    "    else:\n",
    "        return row.sc - 1\n",
    "\n",
    "cdf['utr_beg'] = cdf.apply(calc_utr_beg, axis=1)"
   ]
  },
  {
   "cell_type": "code",
   "execution_count": 19,
   "metadata": {
    "collapsed": false
   },
   "outputs": [
    {
     "data": {
      "text/plain": [
       "protein_coding             3721\n",
       "nonsense_mediated_decay    1   \n",
       "Name: source, dtype: int64"
      ]
     },
     "execution_count": 19,
     "metadata": {},
     "output_type": "execute_result"
    }
   ],
   "source": [
    "cdf.query('utr_beg == clv').source.value_counts()"
   ]
  },
  {
   "cell_type": "code",
   "execution_count": 21,
   "metadata": {
    "collapsed": false
   },
   "outputs": [],
   "source": [
    "_cols = [\n",
    "    'seqname', 'gene_name', 'gene_id', 'strand', 'transcript_id', \n",
    "     'source', 'sc', 'utr_beg', 'clv', 'transcript_source'\n",
    "]\n",
    "zero_len_df = cdf.query('utr_beg == clv').copy()[_cols]"
   ]
  },
  {
   "cell_type": "code",
   "execution_count": 22,
   "metadata": {
    "collapsed": false
   },
   "outputs": [
    {
     "data": {
      "text/html": [
       "<div>\n",
       "<style>\n",
       "    .dataframe thead tr:only-child th {\n",
       "        text-align: right;\n",
       "    }\n",
       "\n",
       "    .dataframe thead th {\n",
       "        text-align: left;\n",
       "    }\n",
       "\n",
       "    .dataframe tbody tr th {\n",
       "        vertical-align: top;\n",
       "    }\n",
       "</style>\n",
       "<table border=\"1\" class=\"dataframe\">\n",
       "  <thead>\n",
       "    <tr style=\"text-align: right;\">\n",
       "      <th></th>\n",
       "      <th>seqname</th>\n",
       "      <th>gene_name</th>\n",
       "      <th>gene_id</th>\n",
       "      <th>strand</th>\n",
       "      <th>transcript_id</th>\n",
       "      <th>source</th>\n",
       "      <th>sc</th>\n",
       "      <th>utr_beg</th>\n",
       "      <th>clv</th>\n",
       "      <th>transcript_source</th>\n",
       "    </tr>\n",
       "  </thead>\n",
       "  <tbody>\n",
       "    <tr>\n",
       "      <th>4269</th>\n",
       "      <td>19</td>\n",
       "      <td>AP2S1</td>\n",
       "      <td>ENSG00000042753</td>\n",
       "      <td>-</td>\n",
       "      <td>ENST00000601649</td>\n",
       "      <td>protein_coding</td>\n",
       "      <td>47341704</td>\n",
       "      <td>47341703</td>\n",
       "      <td>47341703</td>\n",
       "      <td>ensembl_havana</td>\n",
       "    </tr>\n",
       "    <tr>\n",
       "      <th>666</th>\n",
       "      <td>16</td>\n",
       "      <td>AC009060.1</td>\n",
       "      <td>ENSG00000269746</td>\n",
       "      <td>-</td>\n",
       "      <td>ENST00000601706</td>\n",
       "      <td>protein_coding</td>\n",
       "      <td>70239303</td>\n",
       "      <td>70239302</td>\n",
       "      <td>70239302</td>\n",
       "      <td>ensembl</td>\n",
       "    </tr>\n",
       "    <tr>\n",
       "      <th>49942</th>\n",
       "      <td>12</td>\n",
       "      <td>P2RX7</td>\n",
       "      <td>ENSG00000089041</td>\n",
       "      <td>+</td>\n",
       "      <td>ENST00000535250</td>\n",
       "      <td>protein_coding</td>\n",
       "      <td>121622605</td>\n",
       "      <td>121622606</td>\n",
       "      <td>121622606</td>\n",
       "      <td>ensembl</td>\n",
       "    </tr>\n",
       "    <tr>\n",
       "      <th>41098</th>\n",
       "      <td>15</td>\n",
       "      <td>MCTP2</td>\n",
       "      <td>ENSG00000140563</td>\n",
       "      <td>+</td>\n",
       "      <td>ENST00000331706</td>\n",
       "      <td>protein_coding</td>\n",
       "      <td>94945786</td>\n",
       "      <td>94945787</td>\n",
       "      <td>94945787</td>\n",
       "      <td>ensembl</td>\n",
       "    </tr>\n",
       "    <tr>\n",
       "      <th>2353</th>\n",
       "      <td>HSCHR6_MHC_COX</td>\n",
       "      <td>AGER</td>\n",
       "      <td>ENSG00000234729</td>\n",
       "      <td>-</td>\n",
       "      <td>ENST00000552621</td>\n",
       "      <td>protein_coding</td>\n",
       "      <td>32097397</td>\n",
       "      <td>32097396</td>\n",
       "      <td>32097396</td>\n",
       "      <td>ensembl</td>\n",
       "    </tr>\n",
       "    <tr>\n",
       "      <th>74107</th>\n",
       "      <td>HG1497_PATCH</td>\n",
       "      <td>TREX2</td>\n",
       "      <td>ENSG00000269342</td>\n",
       "      <td>-</td>\n",
       "      <td>ENST00000595871</td>\n",
       "      <td>protein_coding</td>\n",
       "      <td>152613192</td>\n",
       "      <td>152613191</td>\n",
       "      <td>152613191</td>\n",
       "      <td>ensembl</td>\n",
       "    </tr>\n",
       "    <tr>\n",
       "      <th>70125</th>\n",
       "      <td>15</td>\n",
       "      <td>TBC1D21</td>\n",
       "      <td>ENSG00000167139</td>\n",
       "      <td>+</td>\n",
       "      <td>ENST00000535547</td>\n",
       "      <td>protein_coding</td>\n",
       "      <td>74181442</td>\n",
       "      <td>74181443</td>\n",
       "      <td>74181443</td>\n",
       "      <td>ensembl_havana</td>\n",
       "    </tr>\n",
       "    <tr>\n",
       "      <th>71348</th>\n",
       "      <td>2</td>\n",
       "      <td>THNSL2</td>\n",
       "      <td>ENSG00000144115</td>\n",
       "      <td>+</td>\n",
       "      <td>ENST00000402102</td>\n",
       "      <td>protein_coding</td>\n",
       "      <td>88485210</td>\n",
       "      <td>88485211</td>\n",
       "      <td>88485211</td>\n",
       "      <td>ensembl</td>\n",
       "    </tr>\n",
       "    <tr>\n",
       "      <th>74138</th>\n",
       "      <td>HSCHR6_MHC_MANN</td>\n",
       "      <td>TRIM10</td>\n",
       "      <td>ENSG00000235025</td>\n",
       "      <td>-</td>\n",
       "      <td>ENST00000551591</td>\n",
       "      <td>protein_coding</td>\n",
       "      <td>30166914</td>\n",
       "      <td>30166913</td>\n",
       "      <td>30166913</td>\n",
       "      <td>ensembl</td>\n",
       "    </tr>\n",
       "    <tr>\n",
       "      <th>14663</th>\n",
       "      <td>7</td>\n",
       "      <td>CHN2</td>\n",
       "      <td>ENSG00000106069</td>\n",
       "      <td>+</td>\n",
       "      <td>ENST00000539406</td>\n",
       "      <td>protein_coding</td>\n",
       "      <td>29552351</td>\n",
       "      <td>29552352</td>\n",
       "      <td>29552352</td>\n",
       "      <td>ensembl</td>\n",
       "    </tr>\n",
       "  </tbody>\n",
       "</table>\n",
       "</div>"
      ],
      "text/plain": [
       "               seqname   gene_name          gene_id strand    transcript_id          source         sc    utr_beg        clv transcript_source\n",
       "4269   19               AP2S1       ENSG00000042753  -      ENST00000601649  protein_coding  47341704   47341703   47341703   ensembl_havana  \n",
       "666    16               AC009060.1  ENSG00000269746  -      ENST00000601706  protein_coding  70239303   70239302   70239302   ensembl         \n",
       "49942  12               P2RX7       ENSG00000089041  +      ENST00000535250  protein_coding  121622605  121622606  121622606  ensembl         \n",
       "41098  15               MCTP2       ENSG00000140563  +      ENST00000331706  protein_coding  94945786   94945787   94945787   ensembl         \n",
       "2353   HSCHR6_MHC_COX   AGER        ENSG00000234729  -      ENST00000552621  protein_coding  32097397   32097396   32097396   ensembl         \n",
       "74107  HG1497_PATCH     TREX2       ENSG00000269342  -      ENST00000595871  protein_coding  152613192  152613191  152613191  ensembl         \n",
       "70125  15               TBC1D21     ENSG00000167139  +      ENST00000535547  protein_coding  74181442   74181443   74181443   ensembl_havana  \n",
       "71348  2                THNSL2      ENSG00000144115  +      ENST00000402102  protein_coding  88485210   88485211   88485211   ensembl         \n",
       "74138  HSCHR6_MHC_MANN  TRIM10      ENSG00000235025  -      ENST00000551591  protein_coding  30166914   30166913   30166913   ensembl         \n",
       "14663  7                CHN2        ENSG00000106069  +      ENST00000539406  protein_coding  29552351   29552352   29552352   ensembl         "
      ]
     },
     "execution_count": 22,
     "metadata": {},
     "output_type": "execute_result"
    }
   ],
   "source": [
    "zero_len_df.sample(10)"
   ]
  },
  {
   "cell_type": "code",
   "execution_count": null,
   "metadata": {
    "collapsed": true
   },
   "outputs": [],
   "source": []
  },
  {
   "cell_type": "code",
   "execution_count": 23,
   "metadata": {
    "collapsed": true
   },
   "outputs": [],
   "source": [
    "cdf['sc'] = cdf.sc.astype(int)\n",
    "cdf['utr_beg'] = cdf.utr_beg.astype(int)\n",
    "cdf['clv'] = cdf.clv.astype(int)\n",
    "cdf.drop_duplicates(inplace=True)"
   ]
  },
  {
   "cell_type": "code",
   "execution_count": 27,
   "metadata": {
    "collapsed": false
   },
   "outputs": [
    {
     "data": {
      "text/plain": [
       "(82182, 13)"
      ]
     },
     "execution_count": 27,
     "metadata": {},
     "output_type": "execute_result"
    }
   ],
   "source": [
    "cdf.shape"
   ]
  },
  {
   "cell_type": "code",
   "execution_count": 28,
   "metadata": {
    "collapsed": false
   },
   "outputs": [
    {
     "name": "stdout",
     "output_type": "stream",
     "text": [
      "0 clustering...\n",
      "CPU times: user 1min 52s, sys: 1.14 s, total: 1min 53s\n",
      "Wall time: 1min 53s\n",
      "1 clustering...\n",
      "CPU times: user 1min 35s, sys: 426 ms, total: 1min 35s\n",
      "Wall time: 1min 35s\n"
     ]
    }
   ],
   "source": [
    "_ = cdf\n",
    "for i in range(2):\n",
    "    print('{0} clustering...'.format(i))\n",
    "    # cluster twice to final results more stable, see the experiment below\n",
    "    %time _ = _.groupby('gene_id').apply(cluster_clv_sites, 20).reset_index(drop=True)\n",
    "    # If there is only one annotated clv sites for that gene, after groupby & reset_index(),\n",
    "    # the cluster_idx column is NaN and thus testing for convergence would always be False in the next step\n",
    "    _['cluster_idx'] = _.cluster_idx.fillna(-1)\n",
    "ddf = _"
   ]
  },
  {
   "cell_type": "code",
   "execution_count": 31,
   "metadata": {
    "collapsed": false
   },
   "outputs": [
    {
     "data": {
      "text/html": [
       "<div>\n",
       "<style>\n",
       "    .dataframe thead tr:only-child th {\n",
       "        text-align: right;\n",
       "    }\n",
       "\n",
       "    .dataframe thead th {\n",
       "        text-align: left;\n",
       "    }\n",
       "\n",
       "    .dataframe tbody tr th {\n",
       "        vertical-align: top;\n",
       "    }\n",
       "</style>\n",
       "<table border=\"1\" class=\"dataframe\">\n",
       "  <thead>\n",
       "    <tr style=\"text-align: right;\">\n",
       "      <th></th>\n",
       "      <th>gene_name</th>\n",
       "      <th>gene_id</th>\n",
       "      <th>transcript_id</th>\n",
       "      <th>seqname</th>\n",
       "      <th>source</th>\n",
       "      <th>sc</th>\n",
       "      <th>clv</th>\n",
       "      <th>strand</th>\n",
       "      <th>gene_source</th>\n",
       "      <th>transcript_source</th>\n",
       "      <th>is_cds_end_NF</th>\n",
       "      <th>is_cds_start_NF</th>\n",
       "      <th>utr_beg</th>\n",
       "      <th>cluster_idx</th>\n",
       "      <th>mclv</th>\n",
       "    </tr>\n",
       "  </thead>\n",
       "  <tbody>\n",
       "    <tr>\n",
       "      <th>0</th>\n",
       "      <td>True</td>\n",
       "      <td>True</td>\n",
       "      <td>True</td>\n",
       "      <td>True</td>\n",
       "      <td>True</td>\n",
       "      <td>True</td>\n",
       "      <td>True</td>\n",
       "      <td>True</td>\n",
       "      <td>True</td>\n",
       "      <td>True</td>\n",
       "      <td>True</td>\n",
       "      <td>True</td>\n",
       "      <td>True</td>\n",
       "      <td>True</td>\n",
       "      <td>True</td>\n",
       "    </tr>\n",
       "  </tbody>\n",
       "</table>\n",
       "</div>"
      ],
      "text/plain": [
       "   gene_name  gene_id  transcript_id  seqname  source    sc   clv  strand  gene_source  transcript_source  is_cds_end_NF  is_cds_start_NF  utr_beg  cluster_idx  mclv\n",
       "0  True       True     True           True     True    True  True  True    True         True               True           True             True     True         True"
      ]
     },
     "execution_count": 31,
     "metadata": {},
     "output_type": "execute_result"
    }
   ],
   "source": [
    "# Make sure it's stable now, (fillna(-1) for cluster_idx)\n",
    "_tmp = ddf.groupby('gene_id').apply(cluster_clv_sites, 20).reset_index(drop=True).fillna(-1) == ddf\n",
    "_tmp.all().to_frame().T"
   ]
  },
  {
   "cell_type": "code",
   "execution_count": 32,
   "metadata": {
    "collapsed": false
   },
   "outputs": [
    {
     "data": {
      "text/plain": [
       "(82182, 15)"
      ]
     },
     "execution_count": 32,
     "metadata": {},
     "output_type": "execute_result"
    }
   ],
   "source": [
    "ddf.shape"
   ]
  },
  {
   "cell_type": "code",
   "execution_count": 33,
   "metadata": {
    "collapsed": false
   },
   "outputs": [
    {
     "data": {
      "text/html": [
       "<div>\n",
       "<style>\n",
       "    .dataframe thead tr:only-child th {\n",
       "        text-align: right;\n",
       "    }\n",
       "\n",
       "    .dataframe thead th {\n",
       "        text-align: left;\n",
       "    }\n",
       "\n",
       "    .dataframe tbody tr th {\n",
       "        vertical-align: top;\n",
       "    }\n",
       "</style>\n",
       "<table border=\"1\" class=\"dataframe\">\n",
       "  <thead>\n",
       "    <tr style=\"text-align: right;\">\n",
       "      <th></th>\n",
       "      <th>gene_name</th>\n",
       "      <th>gene_id</th>\n",
       "      <th>transcript_id</th>\n",
       "      <th>seqname</th>\n",
       "      <th>source</th>\n",
       "      <th>sc</th>\n",
       "      <th>clv</th>\n",
       "      <th>strand</th>\n",
       "      <th>gene_source</th>\n",
       "      <th>transcript_source</th>\n",
       "      <th>is_cds_end_NF</th>\n",
       "      <th>is_cds_start_NF</th>\n",
       "      <th>utr_beg</th>\n",
       "      <th>cluster_idx</th>\n",
       "      <th>mclv</th>\n",
       "    </tr>\n",
       "  </thead>\n",
       "  <tbody>\n",
       "    <tr>\n",
       "      <th>0</th>\n",
       "      <td>TSPAN6</td>\n",
       "      <td>ENSG00000000003</td>\n",
       "      <td>ENST00000373020</td>\n",
       "      <td>X</td>\n",
       "      <td>protein_coding</td>\n",
       "      <td>99885795</td>\n",
       "      <td>99883667</td>\n",
       "      <td>-</td>\n",
       "      <td>ensembl_havana</td>\n",
       "      <td>ensembl_havana</td>\n",
       "      <td>False</td>\n",
       "      <td>False</td>\n",
       "      <td>99885794</td>\n",
       "      <td>1</td>\n",
       "      <td>99883667</td>\n",
       "    </tr>\n",
       "    <tr>\n",
       "      <th>1</th>\n",
       "      <td>TNMD</td>\n",
       "      <td>ENSG00000000005</td>\n",
       "      <td>ENST00000373031</td>\n",
       "      <td>X</td>\n",
       "      <td>protein_coding</td>\n",
       "      <td>99854714</td>\n",
       "      <td>99854882</td>\n",
       "      <td>+</td>\n",
       "      <td>ensembl_havana</td>\n",
       "      <td>ensembl_havana</td>\n",
       "      <td>False</td>\n",
       "      <td>False</td>\n",
       "      <td>99854715</td>\n",
       "      <td>1</td>\n",
       "      <td>99854882</td>\n",
       "    </tr>\n",
       "  </tbody>\n",
       "</table>\n",
       "</div>"
      ],
      "text/plain": [
       "  gene_name          gene_id    transcript_id seqname          source        sc       clv strand     gene_source transcript_source  is_cds_end_NF  is_cds_start_NF   utr_beg  cluster_idx      mclv\n",
       "0  TSPAN6    ENSG00000000003  ENST00000373020  X       protein_coding  99885795  99883667  -      ensembl_havana  ensembl_havana    False          False            99885794  1            99883667\n",
       "1  TNMD      ENSG00000000005  ENST00000373031  X       protein_coding  99854714  99854882  +      ensembl_havana  ensembl_havana    False          False            99854715  1            99854882"
      ]
     },
     "execution_count": 33,
     "metadata": {},
     "output_type": "execute_result"
    }
   ],
   "source": [
    "ddf.head(2)"
   ]
  },
  {
   "cell_type": "markdown",
   "metadata": {},
   "source": [
    "Sanity check"
   ]
  },
  {
   "cell_type": "code",
   "execution_count": 34,
   "metadata": {
    "collapsed": true
   },
   "outputs": [],
   "source": [
    "def check_strand_with_coords(grp):\n",
    "    \"\"\"Check indeed cleavage sites are all downstream of stop codon\"\"\"\n",
    "    strand = get_strand(grp)\n",
    "    if strand == '+':\n",
    "        return (grp.clv >= grp.sc).all()\n",
    "    elif strand == '-':\n",
    "        return (grp.clv <= grp.sc).all()\n",
    "    else:\n",
    "        raise"
   ]
  },
  {
   "cell_type": "code",
   "execution_count": 35,
   "metadata": {
    "collapsed": false
   },
   "outputs": [
    {
     "name": "stdout",
     "output_type": "stream",
     "text": [
      "CPU times: user 10.6 s, sys: 23.1 ms, total: 10.7 s\n",
      "Wall time: 10.6 s\n"
     ]
    },
    {
     "data": {
      "text/plain": [
       "True"
      ]
     },
     "execution_count": 35,
     "metadata": {},
     "output_type": "execute_result"
    }
   ],
   "source": [
    "%time ddf.groupby('gene_id').apply(check_strand_with_coords).all()"
   ]
  },
  {
   "cell_type": "code",
   "execution_count": null,
   "metadata": {
    "collapsed": true
   },
   "outputs": [],
   "source": []
  },
  {
   "cell_type": "markdown",
   "metadata": {},
   "source": [
    "`cdf` is the dataframe with CSs extracted, and `ddf` is the one with clv clustered"
   ]
  },
  {
   "cell_type": "code",
   "execution_count": 36,
   "metadata": {
    "collapsed": true
   },
   "outputs": [],
   "source": [
    "assert ddf.shape[0] == cdf.shape[0]"
   ]
  },
  {
   "cell_type": "code",
   "execution_count": 49,
   "metadata": {
    "collapsed": false
   },
   "outputs": [
    {
     "name": "stdout",
     "output_type": "stream",
     "text": [
      "CPU times: user 736 ms, sys: 64.1 ms, total: 800 ms\n",
      "Wall time: 836 ms\n"
     ]
    }
   ],
   "source": [
    "%time ddf.to_csv('../__results/annotated-clv-sc-mapping-all-genes.csv', index=False)"
   ]
  }
 ],
 "metadata": {
  "anaconda-cloud": {},
  "kernelspec": {
   "display_name": "Python [default]",
   "language": "python",
   "name": "python3"
  },
  "language_info": {
   "codemirror_mode": {
    "name": "ipython",
    "version": 3
   },
   "file_extension": ".py",
   "mimetype": "text/x-python",
   "name": "python",
   "nbconvert_exporter": "python",
   "pygments_lexer": "ipython3",
   "version": "3.5.3"
  }
 },
 "nbformat": 4,
 "nbformat_minor": 1
}
