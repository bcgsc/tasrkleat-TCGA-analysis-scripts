{
 "cells": [
  {
   "cell_type": "code",
   "execution_count": 31,
   "metadata": {
    "collapsed": false
   },
   "outputs": [],
   "source": [
    "from eda_import import *\n",
    "from scipy import interpolate"
   ]
  },
  {
   "cell_type": "markdown",
   "metadata": {},
   "source": [
    "# Prepare cov info"
   ]
  },
  {
   "cell_type": "code",
   "execution_count": 2,
   "metadata": {
    "collapsed": false
   },
   "outputs": [
    {
     "name": "stdout",
     "output_type": "stream",
     "text": [
      "CPU times: user 2.33 s, sys: 454 ms, total: 2.79 s\n",
      "Wall time: 2.79 s\n"
     ]
    }
   ],
   "source": [
    "%time df_genomecov = pd.read_csv('./results_data/genomecov-by-gene-all-samples.csv.gz', compression='gzip')"
   ]
  },
  {
   "cell_type": "code",
   "execution_count": 4,
   "metadata": {
    "collapsed": false
   },
   "outputs": [
    {
     "data": {
      "text/html": [
       "<div>\n",
       "<style>\n",
       "    .dataframe thead tr:only-child th {\n",
       "        text-align: right;\n",
       "    }\n",
       "\n",
       "    .dataframe thead th {\n",
       "        text-align: left;\n",
       "    }\n",
       "\n",
       "    .dataframe tbody tr th {\n",
       "        vertical-align: top;\n",
       "    }\n",
       "</style>\n",
       "<table border=\"1\" class=\"dataframe\">\n",
       "  <thead>\n",
       "    <tr style=\"text-align: right;\">\n",
       "      <th></th>\n",
       "      <th>gene_name</th>\n",
       "      <th>cov_average_num_bases</th>\n",
       "      <th>analysis_id</th>\n",
       "    </tr>\n",
       "  </thead>\n",
       "  <tbody>\n",
       "    <tr>\n",
       "      <th>0</th>\n",
       "      <td>ABL1</td>\n",
       "      <td>83.905369</td>\n",
       "      <td>1d811d54-caa1-41f3-bfc2-400eebdd97ef</td>\n",
       "    </tr>\n",
       "  </tbody>\n",
       "</table>\n",
       "</div>"
      ],
      "text/plain": [
       "  gene_name  cov_average_num_bases                           analysis_id\n",
       "0  ABL1      83.905369              1d811d54-caa1-41f3-bfc2-400eebdd97ef"
      ]
     },
     "execution_count": 4,
     "metadata": {},
     "output_type": "execute_result"
    }
   ],
   "source": [
    "df_genomecov.head(1)"
   ]
  },
  {
   "cell_type": "code",
   "execution_count": 5,
   "metadata": {
    "collapsed": false
   },
   "outputs": [
    {
     "data": {
      "text/plain": [
       "(1216152, 3)"
      ]
     },
     "execution_count": 5,
     "metadata": {},
     "output_type": "execute_result"
    }
   ],
   "source": [
    "df_genomecov.shape"
   ]
  },
  {
   "cell_type": "markdown",
   "metadata": {},
   "source": [
    "# Prepare clv info"
   ]
  },
  {
   "cell_type": "code",
   "execution_count": 7,
   "metadata": {
    "collapsed": false
   },
   "outputs": [
    {
     "name": "stdout",
     "output_type": "stream",
     "text": [
      "CPU times: user 52.7 s, sys: 5.69 s, total: 58.3 s\n",
      "Wall time: 58.4 s\n"
     ]
    }
   ],
   "source": [
    "%%time\n",
    "# the one after clustering has metadata, which is necessary\n",
    "adf = pd.read_csv('./results_data/all_cba.KLEAT.on-target-cleaned.filtered.clustered.csv.gz',\n",
    "                  compression='gzip')"
   ]
  },
  {
   "cell_type": "code",
   "execution_count": 8,
   "metadata": {
    "collapsed": false
   },
   "outputs": [
    {
     "data": {
      "text/html": [
       "<div>\n",
       "<style>\n",
       "    .dataframe thead tr:only-child th {\n",
       "        text-align: right;\n",
       "    }\n",
       "\n",
       "    .dataframe thead th {\n",
       "        text-align: left;\n",
       "    }\n",
       "\n",
       "    .dataframe tbody tr th {\n",
       "        vertical-align: top;\n",
       "    }\n",
       "</style>\n",
       "<table border=\"1\" class=\"dataframe\">\n",
       "  <thead>\n",
       "    <tr style=\"text-align: right;\">\n",
       "      <th></th>\n",
       "      <th>gene_name</th>\n",
       "      <th>strand</th>\n",
       "      <th>seqname</th>\n",
       "      <th>clv</th>\n",
       "      <th>analysis_id</th>\n",
       "      <th>clv0</th>\n",
       "      <th>hexamer</th>\n",
       "      <th>hexamer_id</th>\n",
       "      <th>hexamer_loc0</th>\n",
       "      <th>hexamer_loc</th>\n",
       "      <th>barcode</th>\n",
       "      <th>disease</th>\n",
       "      <th>disease_name</th>\n",
       "      <th>sample_type</th>\n",
       "      <th>sample_type_name</th>\n",
       "      <th>center</th>\n",
       "      <th>filename</th>\n",
       "      <th>participant_id</th>\n",
       "      <th>sample_id</th>\n",
       "      <th>tss_id</th>\n",
       "      <th>cluster_idx</th>\n",
       "      <th>mclv</th>\n",
       "      <th>aclv</th>\n",
       "      <th>sstype</th>\n",
       "      <th>kid</th>\n",
       "      <th>mkid</th>\n",
       "      <th>akid</th>\n",
       "    </tr>\n",
       "  </thead>\n",
       "  <tbody>\n",
       "    <tr>\n",
       "      <th>0</th>\n",
       "      <td>ABL1</td>\n",
       "      <td>+</td>\n",
       "      <td>chr9</td>\n",
       "      <td>133763062</td>\n",
       "      <td>1d811d54-caa1-41f3-bfc2-400eebdd97ef</td>\n",
       "      <td>133763061</td>\n",
       "      <td>AATAAA</td>\n",
       "      <td>1</td>\n",
       "      <td>133763038</td>\n",
       "      <td>133763039</td>\n",
       "      <td>TCGA-KN-8425-01A-11R-2315-07</td>\n",
       "      <td>KICH</td>\n",
       "      <td>KIDNEY CHROMOPHOBE</td>\n",
       "      <td>TP</td>\n",
       "      <td>Primary solid Tumor</td>\n",
       "      <td>UNC-LCCC</td>\n",
       "      <td>UNCID_2186137.d42c9589-3960-4964-be28-83d275bdc672.121106_UNC11-SN627_0258_AC11WRACXX_6_TGACCA.tar.gz</td>\n",
       "      <td>cc316faf-dcb1-4dea-b8b0-a17d000ff40f</td>\n",
       "      <td>84ed1792-cec8-4f98-9988-74b3f5f6f516</td>\n",
       "      <td>KN</td>\n",
       "      <td>1</td>\n",
       "      <td>133763062</td>\n",
       "      <td>133763062</td>\n",
       "      <td>tumour</td>\n",
       "      <td>chr9|ABL1|+|133763062</td>\n",
       "      <td>chr9|ABL1|+|133763062</td>\n",
       "      <td>chr9|ABL1|+|133763062</td>\n",
       "    </tr>\n",
       "  </tbody>\n",
       "</table>\n",
       "</div>"
      ],
      "text/plain": [
       "  gene_name strand seqname        clv                           analysis_id       clv0 hexamer  hexamer_id  hexamer_loc0  hexamer_loc                       barcode disease        disease_name sample_type     sample_type_name    center  \\\n",
       "0  ABL1      +      chr9    133763062  1d811d54-caa1-41f3-bfc2-400eebdd97ef  133763061  AATAAA  1           133763038     133763039    TCGA-KN-8425-01A-11R-2315-07  KICH    KIDNEY CHROMOPHOBE  TP          Primary solid Tumor  UNC-LCCC   \n",
       "\n",
       "                                                                                                filename                        participant_id                             sample_id tss_id  cluster_idx       mclv       aclv  sstype                    kid                   mkid  \\\n",
       "0  UNCID_2186137.d42c9589-3960-4964-be28-83d275bdc672.121106_UNC11-SN627_0258_AC11WRACXX_6_TGACCA.tar.gz  cc316faf-dcb1-4dea-b8b0-a17d000ff40f  84ed1792-cec8-4f98-9988-74b3f5f6f516  KN     1            133763062  133763062  tumour  chr9|ABL1|+|133763062  chr9|ABL1|+|133763062   \n",
       "\n",
       "                    akid  \n",
       "0  chr9|ABL1|+|133763062  "
      ]
     },
     "execution_count": 8,
     "metadata": {},
     "output_type": "execute_result"
    }
   ],
   "source": [
    "adf.head(1)"
   ]
  },
  {
   "cell_type": "code",
   "execution_count": 9,
   "metadata": {
    "collapsed": false
   },
   "outputs": [],
   "source": [
    "assert adf.analysis_id.unique().shape[0] == 10668"
   ]
  },
  {
   "cell_type": "code",
   "execution_count": 10,
   "metadata": {
    "collapsed": false
   },
   "outputs": [
    {
     "data": {
      "text/plain": [
       "Index(['gene_name', 'strand', 'seqname', 'clv', 'analysis_id', 'clv0', 'hexamer', 'hexamer_id', 'hexamer_loc0', 'hexamer_loc', 'barcode', 'disease', 'disease_name', 'sample_type', 'sample_type_name', 'center', 'filename', 'participant_id', 'sample_id', 'tss_id', 'cluster_idx', 'mclv', 'aclv',\n",
       "       'sstype', 'kid', 'mkid', 'akid'],\n",
       "      dtype='object')"
      ]
     },
     "execution_count": 10,
     "metadata": {},
     "output_type": "execute_result"
    }
   ],
   "source": [
    "adf.columns"
   ]
  },
  {
   "cell_type": "code",
   "execution_count": 11,
   "metadata": {
    "collapsed": false
   },
   "outputs": [],
   "source": [
    "assert adf.shape[0] == 3420253"
   ]
  },
  {
   "cell_type": "code",
   "execution_count": 12,
   "metadata": {
    "collapsed": false
   },
   "outputs": [],
   "source": [
    "assert adf.mkid.unique().shape[0] == 2136"
   ]
  },
  {
   "cell_type": "code",
   "execution_count": 15,
   "metadata": {
    "collapsed": false
   },
   "outputs": [],
   "source": [
    "rdf = adf[['seqname', 'gene_name', 'strand', 'mclv', 'disease', \n",
    "           'sstype', 'mkid', 'analysis_id']].copy()\n",
    "rdf.drop_duplicates(inplace=True)"
   ]
  },
  {
   "cell_type": "code",
   "execution_count": 16,
   "metadata": {
    "collapsed": false
   },
   "outputs": [],
   "source": [
    "assert rdf.shape[0] == 2213818"
   ]
  },
  {
   "cell_type": "code",
   "execution_count": 18,
   "metadata": {
    "collapsed": false
   },
   "outputs": [
    {
     "data": {
      "text/html": [
       "<div>\n",
       "<style>\n",
       "    .dataframe thead tr:only-child th {\n",
       "        text-align: right;\n",
       "    }\n",
       "\n",
       "    .dataframe thead th {\n",
       "        text-align: left;\n",
       "    }\n",
       "\n",
       "    .dataframe tbody tr th {\n",
       "        vertical-align: top;\n",
       "    }\n",
       "</style>\n",
       "<table border=\"1\" class=\"dataframe\">\n",
       "  <thead>\n",
       "    <tr style=\"text-align: right;\">\n",
       "      <th></th>\n",
       "      <th>seqname</th>\n",
       "      <th>gene_name</th>\n",
       "      <th>strand</th>\n",
       "      <th>mclv</th>\n",
       "      <th>disease</th>\n",
       "      <th>sstype</th>\n",
       "      <th>mkid</th>\n",
       "      <th>analysis_id</th>\n",
       "    </tr>\n",
       "  </thead>\n",
       "  <tbody>\n",
       "    <tr>\n",
       "      <th>0</th>\n",
       "      <td>chr9</td>\n",
       "      <td>ABL1</td>\n",
       "      <td>+</td>\n",
       "      <td>133763062</td>\n",
       "      <td>KICH</td>\n",
       "      <td>tumour</td>\n",
       "      <td>chr9|ABL1|+|133763062</td>\n",
       "      <td>1d811d54-caa1-41f3-bfc2-400eebdd97ef</td>\n",
       "    </tr>\n",
       "  </tbody>\n",
       "</table>\n",
       "</div>"
      ],
      "text/plain": [
       "  seqname gene_name strand       mclv disease  sstype                   mkid                           analysis_id\n",
       "0  chr9    ABL1      +      133763062  KICH    tumour  chr9|ABL1|+|133763062  1d811d54-caa1-41f3-bfc2-400eebdd97ef"
      ]
     },
     "execution_count": 18,
     "metadata": {},
     "output_type": "execute_result"
    }
   ],
   "source": [
    "rdf.head(1)"
   ]
  },
  {
   "cell_type": "code",
   "execution_count": 19,
   "metadata": {
    "collapsed": false
   },
   "outputs": [
    {
     "data": {
      "text/plain": [
       "1216152"
      ]
     },
     "execution_count": 19,
     "metadata": {},
     "output_type": "execute_result"
    }
   ],
   "source": [
    "10668 * 114"
   ]
  },
  {
   "cell_type": "code",
   "execution_count": 21,
   "metadata": {
    "collapsed": false
   },
   "outputs": [],
   "source": [
    "sdf = rdf[['seqname', 'gene_name', 'strand', 'disease', 'sstype', 'analysis_id']].drop_duplicates()"
   ]
  },
  {
   "cell_type": "code",
   "execution_count": 22,
   "metadata": {
    "collapsed": false
   },
   "outputs": [],
   "source": [
    "assert sdf.shape[0] == 1077665"
   ]
  },
  {
   "cell_type": "code",
   "execution_count": 23,
   "metadata": {
    "collapsed": false
   },
   "outputs": [
    {
     "data": {
      "text/html": [
       "<div>\n",
       "<style>\n",
       "    .dataframe thead tr:only-child th {\n",
       "        text-align: right;\n",
       "    }\n",
       "\n",
       "    .dataframe thead th {\n",
       "        text-align: left;\n",
       "    }\n",
       "\n",
       "    .dataframe tbody tr th {\n",
       "        vertical-align: top;\n",
       "    }\n",
       "</style>\n",
       "<table border=\"1\" class=\"dataframe\">\n",
       "  <thead>\n",
       "    <tr style=\"text-align: right;\">\n",
       "      <th></th>\n",
       "      <th>seqname</th>\n",
       "      <th>gene_name</th>\n",
       "      <th>strand</th>\n",
       "      <th>disease</th>\n",
       "      <th>sstype</th>\n",
       "      <th>analysis_id</th>\n",
       "    </tr>\n",
       "  </thead>\n",
       "  <tbody>\n",
       "    <tr>\n",
       "      <th>0</th>\n",
       "      <td>chr9</td>\n",
       "      <td>ABL1</td>\n",
       "      <td>+</td>\n",
       "      <td>KICH</td>\n",
       "      <td>tumour</td>\n",
       "      <td>1d811d54-caa1-41f3-bfc2-400eebdd97ef</td>\n",
       "    </tr>\n",
       "  </tbody>\n",
       "</table>\n",
       "</div>"
      ],
      "text/plain": [
       "  seqname gene_name strand disease  sstype                           analysis_id\n",
       "0  chr9    ABL1      +      KICH    tumour  1d811d54-caa1-41f3-bfc2-400eebdd97ef"
      ]
     },
     "execution_count": 23,
     "metadata": {},
     "output_type": "execute_result"
    }
   ],
   "source": [
    "sdf.head(1)"
   ]
  },
  {
   "cell_type": "code",
   "execution_count": 24,
   "metadata": {
    "collapsed": true
   },
   "outputs": [],
   "source": [
    "sdf['mclv_detected'] = 1"
   ]
  },
  {
   "cell_type": "code",
   "execution_count": 25,
   "metadata": {
    "collapsed": false
   },
   "outputs": [
    {
     "name": "stdout",
     "output_type": "stream",
     "text": [
      "CPU times: user 1.86 s, sys: 46.3 ms, total: 1.91 s\n",
      "Wall time: 1.96 s\n"
     ]
    }
   ],
   "source": [
    "%time merged = sdf.merge(df_genomecov, on=['analysis_id', 'gene_name'], how='outer')"
   ]
  },
  {
   "cell_type": "code",
   "execution_count": 26,
   "metadata": {
    "collapsed": false
   },
   "outputs": [],
   "source": [
    "assert merged.shape[0] == 1216152"
   ]
  },
  {
   "cell_type": "code",
   "execution_count": 27,
   "metadata": {
    "collapsed": true
   },
   "outputs": [],
   "source": [
    "merged.fillna(0, inplace=True)"
   ]
  },
  {
   "cell_type": "code",
   "execution_count": 28,
   "metadata": {
    "collapsed": false
   },
   "outputs": [
    {
     "data": {
      "text/plain": [
       "1.0    1077665\n",
       "0.0    138487 \n",
       "Name: mclv_detected, dtype: int64"
      ]
     },
     "execution_count": 28,
     "metadata": {},
     "output_type": "execute_result"
    }
   ],
   "source": [
    "merged.mclv_detected.value_counts()"
   ]
  },
  {
   "cell_type": "code",
   "execution_count": null,
   "metadata": {
    "collapsed": true
   },
   "outputs": [],
   "source": []
  },
  {
   "cell_type": "markdown",
   "metadata": {},
   "source": [
    "# Calculate probability of CS predict over coverage"
   ]
  },
  {
   "cell_type": "code",
   "execution_count": 41,
   "metadata": {
    "collapsed": false
   },
   "outputs": [],
   "source": [
    "assert merged.shape[0] == 114 * 10668\n",
    "assert 114 * 10668 == 1216152"
   ]
  },
  {
   "cell_type": "code",
   "execution_count": 46,
   "metadata": {
    "collapsed": false
   },
   "outputs": [
    {
     "name": "stdout",
     "output_type": "stream",
     "text": [
      "98.03% data used\n",
      "After interpolation, when coverage > 17, the probability goes up to over 90%\n"
     ]
    },
    {
     "data": {
      "image/png": "[encoded data removed]",
      "text/plain": [
       "<matplotlib.figure.Figure at 0x7ff4a1341908>"
      ]
     },
     "metadata": {},
     "output_type": "display_data"
    }
   ],
   "source": [
    "fig = plt.figure(figsize=(9, 3.5))\n",
    "ax1 = fig.add_subplot(121)\n",
    "\n",
    "bins = np.arange(-5, 600, 5)\n",
    "for i, txt, color in zip([1, 0], ['CS detected', 'CS NOT detected'], ['blue', 'red']):\n",
    "    ax1.hist(merged.query('mclv_detected == {0}'.format(i)).cov_average_num_bases.values, \n",
    "            alpha=1, normed=False, bins=bins, color=color, label=txt.replace('NOT', 'not'), histtype='step')\n",
    "ax1.legend()\n",
    "ax1.set_xlabel('Mean coverage per gene (bp)')\n",
    "ax1.set_ylabel('# (sample, gene) pair')\n",
    "ax1.set_xlim([-20, 500])\n",
    "ax1.set_xticks(np.arange(0, 501, 50))\n",
    "ax1.ticklabel_format(style='sci', axis='y', scilimits=(0,0))\n",
    "ax1.grid()\n",
    "ax1.text(-0.12, 1, 'a', transform=ax1.transAxes, fontsize=18, fontweight='bold')\n",
    "\n",
    "on_hist, on_bins = np.histogram(\n",
    "    merged.query('mclv_detected == 1').cov_average_num_bases.values, bins=bins)\n",
    "off_hist, off_bins = np.histogram(\n",
    "    merged.query('mclv_detected == 0').cov_average_num_bases.values, bins=bins)\n",
    "\n",
    "# not all the data are used because of limited bins for coverage\n",
    "print('{0:.2%} data used'.format(np.sum(on_hist + off_hist) / (114 * 10668)))\n",
    "\n",
    "assert (on_bins == off_bins).all()\n",
    "assert (on_bins == bins).all()\n",
    "\n",
    "# epsilon: to avoid 0 division error\n",
    "# epsilon = 1e-6\n",
    "sensitivities = on_hist / (on_hist + off_hist + 1e-6)\n",
    "xs = (bins[:-1] + bins[1:]) / 2\n",
    "ax2 = fig.add_subplot(122)\n",
    "ax2.plot(xs, sensitivities)\n",
    "nxs = np.arange(0, 500)\n",
    "func = interpolate.interp1d(xs, sensitivities)\n",
    "nys = func(nxs)\n",
    "cutoff = nxs[nys > 0.9][0]\n",
    "print('After interpolation, when coverage > {0}, the probability goes up to over 90%'.format(cutoff))\n",
    "ax2.plot([cutoff, cutoff], [-10, 10], '--', color='k', label='mean coverage = {0} bp'.format(cutoff))\n",
    "ax2.legend(loc='best')\n",
    "ax2.set_ylabel('Probability of CS prediction')\n",
    "# ax2.scatter(xs[:5], sensitivities[:5])\n",
    "ax2.set_xlabel('Mean coverage per gene (bp)')\n",
    "ax2.set_ylabel('Probability of CS prediction')\n",
    "ax2.set_xlim(-20, 500)\n",
    "ax2.set_ylim(-0.02, 1.02)\n",
    "ax2.set_xticks(np.arange(0, 501, 50))\n",
    "ax2.grid()\n",
    "ax2.text(-0.12, 1, 'b', transform=ax2.transAxes, fontsize=18, fontweight='bold')\n",
    "\n",
    "plt.tight_layout()\n",
    "# plt.savefig('./results/figs/hist_of_gene_coverages_when_clv_on_off.png', dpi=500)"
   ]
  }
 ],
 "metadata": {
  "anaconda-cloud": {},
  "kernelspec": {
   "display_name": "Python [default]",
   "language": "python",
   "name": "python3"
  },
  "language_info": {
   "codemirror_mode": {
    "name": "ipython",
    "version": 3
   },
   "file_extension": ".py",
   "mimetype": "text/x-python",
   "name": "python",
   "nbconvert_exporter": "python",
   "pygments_lexer": "ipython3",
   "version": "3.5.3"
  }
 },
 "nbformat": 4,
 "nbformat_minor": 1
}
