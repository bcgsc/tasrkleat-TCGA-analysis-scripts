{
 "cells": [
  {
   "cell_type": "code",
   "execution_count": 1,
   "metadata": {},
   "outputs": [],
   "source": [
    "import os\n",
    "import numpy as np\n",
    "import pandas as pd"
   ]
  },
  {
   "cell_type": "code",
   "execution_count": 2,
   "metadata": {},
   "outputs": [],
   "source": [
    "from jinja2 import Environment, FileSystemLoader\n",
    "\n",
    "jinja2_env = Environment(loader=FileSystemLoader([os.getcwd()]))"
   ]
  },
  {
   "cell_type": "code",
   "execution_count": 3,
   "metadata": {},
   "outputs": [],
   "source": [
    "NOT_AVAIL = [\n",
    "    (\"NKX2-1\", \"COAD\"),\n",
    "    (\"TERT\", \"KICH\"),\n",
    "    (\"TERT\", \"KIRP\"),\n",
    "]"
   ]
  },
  {
   "cell_type": "code",
   "execution_count": 4,
   "metadata": {},
   "outputs": [
    {
     "name": "stdout",
     "output_type": "stream",
     "text": [
      "CPU times: user 68.1 ms, sys: 11.2 ms, total: 79.3 ms\n",
      "Wall time: 79.6 ms\n"
     ]
    }
   ],
   "source": [
    "# just for get disease and gene information\n",
    "%time adf = pd.read_csv('../__results/aca_pval_with_sc_info.csv')"
   ]
  },
  {
   "cell_type": "code",
   "execution_count": 5,
   "metadata": {},
   "outputs": [
    {
     "data": {
      "text/html": [
       "<div>\n",
       "<style scoped>\n",
       "    .dataframe tbody tr th:only-of-type {\n",
       "        vertical-align: middle;\n",
       "    }\n",
       "\n",
       "    .dataframe tbody tr th {\n",
       "        vertical-align: top;\n",
       "    }\n",
       "\n",
       "    .dataframe thead th {\n",
       "        text-align: right;\n",
       "    }\n",
       "</style>\n",
       "<table border=\"1\" class=\"dataframe\">\n",
       "  <thead>\n",
       "    <tr style=\"text-align: right;\">\n",
       "      <th></th>\n",
       "      <th>disease</th>\n",
       "      <th>gene_name</th>\n",
       "      <th>mkid</th>\n",
       "      <th>mclv</th>\n",
       "      <th>strand</th>\n",
       "      <th>aclv</th>\n",
       "      <th>N_on</th>\n",
       "      <th>T_on</th>\n",
       "      <th>N_off</th>\n",
       "      <th>T_off</th>\n",
       "      <th>...</th>\n",
       "      <th>N_on_ratio</th>\n",
       "      <th>T_on_ratio</th>\n",
       "      <th>N2T_ratio_diff</th>\n",
       "      <th>diff_is_significant</th>\n",
       "      <th>N2T_ratio_change</th>\n",
       "      <th>N2T_ratio_change_sig</th>\n",
       "      <th>has_diff_aca</th>\n",
       "      <th>sc_list</th>\n",
       "      <th>src_list</th>\n",
       "      <th>num_sc</th>\n",
       "    </tr>\n",
       "  </thead>\n",
       "  <tbody>\n",
       "    <tr>\n",
       "      <th>0</th>\n",
       "      <td>BLCA</td>\n",
       "      <td>ABL1</td>\n",
       "      <td>chr9|ABL1|+|133589972</td>\n",
       "      <td>133589972</td>\n",
       "      <td>+</td>\n",
       "      <td>133763062</td>\n",
       "      <td>1</td>\n",
       "      <td>23</td>\n",
       "      <td>18</td>\n",
       "      <td>382</td>\n",
       "      <td>...</td>\n",
       "      <td>0.052632</td>\n",
       "      <td>0.05679</td>\n",
       "      <td>0.004159</td>\n",
       "      <td>False</td>\n",
       "      <td>up</td>\n",
       "      <td>NaN</td>\n",
       "      <td>False</td>\n",
       "      <td>133761070</td>\n",
       "      <td>protein_coding</td>\n",
       "      <td>1</td>\n",
       "    </tr>\n",
       "    <tr>\n",
       "      <th>1</th>\n",
       "      <td>BLCA</td>\n",
       "      <td>ABL1</td>\n",
       "      <td>chr9|ABL1|+|133763062</td>\n",
       "      <td>133763062</td>\n",
       "      <td>+</td>\n",
       "      <td>133763062</td>\n",
       "      <td>19</td>\n",
       "      <td>405</td>\n",
       "      <td>0</td>\n",
       "      <td>0</td>\n",
       "      <td>...</td>\n",
       "      <td>1.000000</td>\n",
       "      <td>1.00000</td>\n",
       "      <td>0.000000</td>\n",
       "      <td>False</td>\n",
       "      <td>down</td>\n",
       "      <td>NaN</td>\n",
       "      <td>False</td>\n",
       "      <td>133761070</td>\n",
       "      <td>protein_coding</td>\n",
       "      <td>1</td>\n",
       "    </tr>\n",
       "  </tbody>\n",
       "</table>\n",
       "<p>2 rows × 23 columns</p>\n",
       "</div>"
      ],
      "text/plain": [
       "  disease gene_name                   mkid       mclv strand       aclv  N_on  T_on  N_off  T_off   ...    N_on_ratio  T_on_ratio  N2T_ratio_diff  diff_is_significant  N2T_ratio_change  N2T_ratio_change_sig  has_diff_aca    sc_list        src_list  num_sc\n",
       "0    BLCA      ABL1  chr9|ABL1|+|133589972  133589972      +  133763062     1    23     18    382   ...      0.052632     0.05679        0.004159                False                up                   NaN         False  133761070  protein_coding       1\n",
       "1    BLCA      ABL1  chr9|ABL1|+|133763062  133763062      +  133763062    19   405      0      0   ...      1.000000     1.00000        0.000000                False              down                   NaN         False  133761070  protein_coding       1\n",
       "\n",
       "[2 rows x 23 columns]"
      ]
     },
     "execution_count": 5,
     "metadata": {},
     "output_type": "execute_result"
    }
   ],
   "source": [
    "adf.head(2)"
   ]
  },
  {
   "cell_type": "code",
   "execution_count": 6,
   "metadata": {},
   "outputs": [],
   "source": [
    "reported_gd_pairs = adf.query('has_diff_aca == True')[['gene_name', 'disease']].drop_duplicates().values\n",
    "reported_gd_pairs = [tuple(_) for _ in reported_gd_pairs]"
   ]
  },
  {
   "cell_type": "code",
   "execution_count": null,
   "metadata": {},
   "outputs": [],
   "source": []
  },
  {
   "cell_type": "code",
   "execution_count": 7,
   "metadata": {},
   "outputs": [],
   "source": [
    "genes = np.sort(adf.gene_name.unique()).tolist()\n",
    "dises = np.sort(adf.disease.unique()).tolist()"
   ]
  },
  {
   "cell_type": "code",
   "execution_count": 8,
   "metadata": {},
   "outputs": [],
   "source": [
    "assert len(genes) == 114\n",
    "assert len(dises) == 14"
   ]
  },
  {
   "cell_type": "markdown",
   "metadata": {},
   "source": [
    "If htmlmin isn't installed, try `!pip install htmlmin`"
   ]
  },
  {
   "cell_type": "code",
   "execution_count": 9,
   "metadata": {},
   "outputs": [],
   "source": [
    "import htmlmin"
   ]
  },
  {
   "cell_type": "code",
   "execution_count": 10,
   "metadata": {},
   "outputs": [],
   "source": [
    "template = jinja2_env.get_template('templates/index.jinja2')\n",
    "with open('../__results/all-apa-cases.html', 'wt') as opf:\n",
    "    content = template.render(\n",
    "        diseases=dises,\n",
    "        genes=genes,\n",
    "        reported_gd_pairs=reported_gd_pairs, \n",
    "        na_list=NOT_AVAIL\n",
    "    )\n",
    "    # minify css and js\n",
    "    content = ' '.join(content.split())\n",
    "    content = htmlmin.minify(content, remove_empty_space=True)\n",
    "    opf.write(content)"
   ]
  },
  {
   "cell_type": "code",
   "execution_count": null,
   "metadata": {},
   "outputs": [],
   "source": []
  },
  {
   "cell_type": "code",
   "execution_count": null,
   "metadata": {},
   "outputs": [],
   "source": []
  },
  {
   "cell_type": "code",
   "execution_count": 11,
   "metadata": {},
   "outputs": [],
   "source": [
    "# Used to generat markdown, deprecated; prefer html\n",
    "\n",
    "# def wrap(str_):\n",
    "#     return '|' + str_ + '|'\n",
    "\n",
    "# headers = wrap('|'.join([' '] + dises))\n",
    "\n",
    "# seps = wrap('|'.join(['---'] * (len(dises) + 1)))\n",
    "\n",
    "# url_temp = '[✓](http://bcgsc.ca/downloads/zxue/all_diff_apa_114_genes_14_diseases/{gene_name}_{disease}.png)'\n",
    "\n",
    "# with open('./diff_apa_table.md', 'wt') as opf:\n",
    "#     opf.write('{0}\\n'.format(headers))\n",
    "#     opf.write('{0}\\n'.format(seps))\n",
    "#     for g in genes:\n",
    "#         opf.write('|' + g + '|')\n",
    "#         for d in dises:\n",
    "#             opf.write(url_temp.format(gene_name=g, disease=d) + '|') \n",
    "#         opf.write('\\n')"
   ]
  }
 ],
 "metadata": {
  "anaconda-cloud": {},
  "kernelspec": {
   "display_name": "Python 3",
   "language": "python",
   "name": "python3"
  },
  "language_info": {
   "codemirror_mode": {
    "name": "ipython",
    "version": 3
   },
   "file_extension": ".py",
   "mimetype": "text/x-python",
   "name": "python",
   "nbconvert_exporter": "python",
   "pygments_lexer": "ipython3",
   "version": "3.6.5"
  }
 },
 "nbformat": 4,
 "nbformat_minor": 1
}
