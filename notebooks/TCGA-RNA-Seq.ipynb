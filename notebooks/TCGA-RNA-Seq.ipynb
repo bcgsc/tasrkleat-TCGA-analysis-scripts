{
 "cells": [
  {
   "cell_type": "code",
   "execution_count": 1,
   "metadata": {
    "collapsed": true
   },
   "outputs": [],
   "source": [
    "import pandas as pd\n",
    "df = pd.read_csv('https://cghub.ucsc.edu/reports/SUMMARY_STATS/LATEST_MANIFEST.tsv',\n",
    "                 low_memory=False, sep='\\t')"
   ]
  },
  {
   "cell_type": "code",
   "execution_count": 2,
   "metadata": {
    "collapsed": false
   },
   "outputs": [
    {
     "name": "stdout",
     "output_type": "stream",
     "text": [
      "2016-03-24\n"
     ]
    }
   ],
   "source": [
    "# Last time it's run:\n",
    "import datetime\n",
    "print(datetime.datetime.today().date())"
   ]
  },
  {
   "cell_type": "code",
   "execution_count": 3,
   "metadata": {
    "collapsed": false
   },
   "outputs": [],
   "source": [
    "# only interested in those with state equals Live\n",
    "ndf = df[(df.study == 'TCGA') & (df.library_type == 'RNA-Seq') & (df.state == 'Live')]"
   ]
  },
  {
   "cell_type": "code",
   "execution_count": 13,
   "metadata": {
    "collapsed": true
   },
   "outputs": [],
   "source": [
    "from misc.utils import count"
   ]
  },
  {
   "cell_type": "markdown",
   "metadata": {},
   "source": [
    "## Library types"
   ]
  },
  {
   "cell_type": "code",
   "execution_count": 14,
   "metadata": {
    "collapsed": false
   },
   "outputs": [
    {
     "data": {
      "text/html": [
       "<div>\n",
       "<table border=\"1\" class=\"dataframe\">\n",
       "  <thead>\n",
       "    <tr style=\"text-align: right;\">\n",
       "      <th></th>\n",
       "      <th>study</th>\n",
       "      <th>percent</th>\n",
       "    </tr>\n",
       "    <tr>\n",
       "      <th>library_type</th>\n",
       "      <th></th>\n",
       "      <th></th>\n",
       "    </tr>\n",
       "  </thead>\n",
       "  <tbody>\n",
       "    <tr>\n",
       "      <th>RNA-Seq</th>\n",
       "      <td>25858</td>\n",
       "      <td>100.00%</td>\n",
       "    </tr>\n",
       "  </tbody>\n",
       "</table>\n",
       "</div>"
      ],
      "text/plain": [
       "              study  percent\n",
       "library_type                \n",
       "RNA-Seq       25858  100.00%"
      ]
     },
     "execution_count": 14,
     "metadata": {},
     "output_type": "execute_result"
    }
   ],
   "source": [
    "count(ndf, 'library_type')"
   ]
  },
  {
   "cell_type": "markdown",
   "metadata": {},
   "source": [
    "## File types"
   ]
  },
  {
   "cell_type": "code",
   "execution_count": 15,
   "metadata": {
    "collapsed": false
   },
   "outputs": [
    {
     "data": {
      "text/html": [
       "<div>\n",
       "<table border=\"1\" class=\"dataframe\">\n",
       "  <thead>\n",
       "    <tr style=\"text-align: right;\">\n",
       "      <th></th>\n",
       "      <th>study</th>\n",
       "      <th>percent</th>\n",
       "    </tr>\n",
       "    <tr>\n",
       "      <th>file_type</th>\n",
       "      <th></th>\n",
       "      <th></th>\n",
       "    </tr>\n",
       "  </thead>\n",
       "  <tbody>\n",
       "    <tr>\n",
       "      <th>fasta</th>\n",
       "      <td>11374</td>\n",
       "      <td>43.99%</td>\n",
       "    </tr>\n",
       "    <tr>\n",
       "      <th>bam</th>\n",
       "      <td>14484</td>\n",
       "      <td>56.01%</td>\n",
       "    </tr>\n",
       "  </tbody>\n",
       "</table>\n",
       "</div>"
      ],
      "text/plain": [
       "           study percent\n",
       "file_type               \n",
       "fasta      11374  43.99%\n",
       "bam        14484  56.01%"
      ]
     },
     "execution_count": 15,
     "metadata": {},
     "output_type": "execute_result"
    }
   ],
   "source": [
    "count(ndf, 'file_type')"
   ]
  },
  {
   "cell_type": "markdown",
   "metadata": {},
   "source": [
    "## Diesase types"
   ]
  },
  {
   "cell_type": "code",
   "execution_count": 16,
   "metadata": {
    "collapsed": false
   },
   "outputs": [
    {
     "data": {
      "text/html": [
       "<div>\n",
       "<table border=\"1\" class=\"dataframe\">\n",
       "  <thead>\n",
       "    <tr style=\"text-align: right;\">\n",
       "      <th></th>\n",
       "      <th></th>\n",
       "      <th>study</th>\n",
       "      <th>percent</th>\n",
       "    </tr>\n",
       "    <tr>\n",
       "      <th>disease</th>\n",
       "      <th>disease_name</th>\n",
       "      <th></th>\n",
       "      <th></th>\n",
       "    </tr>\n",
       "  </thead>\n",
       "  <tbody>\n",
       "    <tr>\n",
       "      <th>CNTL</th>\n",
       "      <th>CONTROLS</th>\n",
       "      <td>2</td>\n",
       "      <td>0.01%</td>\n",
       "    </tr>\n",
       "    <tr>\n",
       "      <th>CHOL</th>\n",
       "      <th>CHOLANGIOCARCINOMA</th>\n",
       "      <td>90</td>\n",
       "      <td>0.35%</td>\n",
       "    </tr>\n",
       "    <tr>\n",
       "      <th>DLBC</th>\n",
       "      <th>LYMPHOID NEOPLASM DIFFUSE LARGE B-CELL LYMPHOMA</th>\n",
       "      <td>96</td>\n",
       "      <td>0.37%</td>\n",
       "    </tr>\n",
       "    <tr>\n",
       "      <th>UCS</th>\n",
       "      <th>UTERINE CARCINOSARCOMA</th>\n",
       "      <td>114</td>\n",
       "      <td>0.44%</td>\n",
       "    </tr>\n",
       "    <tr>\n",
       "      <th>ACC</th>\n",
       "      <th>ADRENOCORTICAL CARCINOMA</th>\n",
       "      <td>158</td>\n",
       "      <td>0.61%</td>\n",
       "    </tr>\n",
       "    <tr>\n",
       "      <th>UVM</th>\n",
       "      <th>UVEAL MELANOMA</th>\n",
       "      <td>160</td>\n",
       "      <td>0.62%</td>\n",
       "    </tr>\n",
       "    <tr>\n",
       "      <th>MESO</th>\n",
       "      <th>MESOTHELIOMA</th>\n",
       "      <td>174</td>\n",
       "      <td>0.67%</td>\n",
       "    </tr>\n",
       "    <tr>\n",
       "      <th>KICH</th>\n",
       "      <th>KIDNEY CHROMOPHOBE</th>\n",
       "      <td>182</td>\n",
       "      <td>0.70%</td>\n",
       "    </tr>\n",
       "    <tr>\n",
       "      <th>THYM</th>\n",
       "      <th>THYMOMA</th>\n",
       "      <td>244</td>\n",
       "      <td>0.94%</td>\n",
       "    </tr>\n",
       "    <tr>\n",
       "      <th>TGCT</th>\n",
       "      <th>TESTICULAR GERM CELL TUMORS</th>\n",
       "      <td>312</td>\n",
       "      <td>1.21%</td>\n",
       "    </tr>\n",
       "    <tr>\n",
       "      <th>PAAD</th>\n",
       "      <th>PANCREATIC ADENOCARCINOMA</th>\n",
       "      <td>366</td>\n",
       "      <td>1.42%</td>\n",
       "    </tr>\n",
       "    <tr>\n",
       "      <th>PCPG</th>\n",
       "      <th>PHEOCHROMOCYTOMA AND PARAGANGLIOMA</th>\n",
       "      <td>374</td>\n",
       "      <td>1.45%</td>\n",
       "    </tr>\n",
       "    <tr>\n",
       "      <th>READ</th>\n",
       "      <th>RECTUM ADENOCARCINOMA</th>\n",
       "      <td>425</td>\n",
       "      <td>1.64%</td>\n",
       "    </tr>\n",
       "    <tr>\n",
       "      <th>SARC</th>\n",
       "      <th>SARCOMA</th>\n",
       "      <td>530</td>\n",
       "      <td>2.05%</td>\n",
       "    </tr>\n",
       "    <tr>\n",
       "      <th>LAML</th>\n",
       "      <th>ACUTE MYELOID LEUKEMIA</th>\n",
       "      <td>530</td>\n",
       "      <td>2.05%</td>\n",
       "    </tr>\n",
       "    <tr>\n",
       "      <th>GBM</th>\n",
       "      <th>GLIOBLASTOMA MULTIFORME</th>\n",
       "      <td>536</td>\n",
       "      <td>2.07%</td>\n",
       "    </tr>\n",
       "    <tr>\n",
       "      <th>ESCA</th>\n",
       "      <th>ESOPHAGEAL CARCINOMA</th>\n",
       "      <td>593</td>\n",
       "      <td>2.29%</td>\n",
       "    </tr>\n",
       "    <tr>\n",
       "      <th>CESC</th>\n",
       "      <th>CERVICAL SQUAMOUS CELL CARCINOMA AND ENDOCERVICAL ADENOCARCINOMA</th>\n",
       "      <td>618</td>\n",
       "      <td>2.39%</td>\n",
       "    </tr>\n",
       "    <tr>\n",
       "      <th>KIRP</th>\n",
       "      <th>KIDNEY RENAL PAPILLARY CELL CARCINOMA</th>\n",
       "      <td>646</td>\n",
       "      <td>2.50%</td>\n",
       "    </tr>\n",
       "    <tr>\n",
       "      <th>LIHC</th>\n",
       "      <th>LIVER HEPATOCELLULAR CARCINOMA</th>\n",
       "      <td>848</td>\n",
       "      <td>3.28%</td>\n",
       "    </tr>\n",
       "    <tr>\n",
       "      <th>BLCA</th>\n",
       "      <th>BLADDER UROTHELIAL CARCINOMA</th>\n",
       "      <td>870</td>\n",
       "      <td>3.36%</td>\n",
       "    </tr>\n",
       "    <tr>\n",
       "      <th>SKCM</th>\n",
       "      <th>SKIN CUTANEOUS MELANOMA</th>\n",
       "      <td>946</td>\n",
       "      <td>3.66%</td>\n",
       "    </tr>\n",
       "    <tr>\n",
       "      <th>LGG</th>\n",
       "      <th>BRAIN LOWER GRADE GLIOMA</th>\n",
       "      <td>1068</td>\n",
       "      <td>4.13%</td>\n",
       "    </tr>\n",
       "    <tr>\n",
       "      <th>LUSC</th>\n",
       "      <th>LUNG SQUAMOUS CELL CARCINOMA</th>\n",
       "      <td>1108</td>\n",
       "      <td>4.28%</td>\n",
       "    </tr>\n",
       "    <tr>\n",
       "      <th>PRAD</th>\n",
       "      <th>PROSTATE ADENOCARCINOMA</th>\n",
       "      <td>1116</td>\n",
       "      <td>4.32%</td>\n",
       "    </tr>\n",
       "    <tr>\n",
       "      <th>HNSC</th>\n",
       "      <th>HEAD AND NECK SQUAMOUS CELL CARCINOMA</th>\n",
       "      <td>1132</td>\n",
       "      <td>4.38%</td>\n",
       "    </tr>\n",
       "    <tr>\n",
       "      <th>THCA</th>\n",
       "      <th>THYROID CARCINOMA</th>\n",
       "      <td>1144</td>\n",
       "      <td>4.42%</td>\n",
       "    </tr>\n",
       "    <tr>\n",
       "      <th>LUAD</th>\n",
       "      <th>LUNG ADENOCARCINOMA</th>\n",
       "      <td>1222</td>\n",
       "      <td>4.73%</td>\n",
       "    </tr>\n",
       "    <tr>\n",
       "      <th>COAD</th>\n",
       "      <th>COLON ADENOCARCINOMA</th>\n",
       "      <td>1303</td>\n",
       "      <td>5.04%</td>\n",
       "    </tr>\n",
       "    <tr>\n",
       "      <th>UCEC</th>\n",
       "      <th>UTERINE CORPUS ENDOMETRIOID CARCINOMA</th>\n",
       "      <td>1511</td>\n",
       "      <td>5.84%</td>\n",
       "    </tr>\n",
       "    <tr>\n",
       "      <th>OV</th>\n",
       "      <th>OVARIAN SEROUS CYSTADENOCARCINOMA</th>\n",
       "      <td>1579</td>\n",
       "      <td>6.11%</td>\n",
       "    </tr>\n",
       "    <tr>\n",
       "      <th>STAD</th>\n",
       "      <th>STOMACH ADENOCARCINOMA</th>\n",
       "      <td>1673</td>\n",
       "      <td>6.47%</td>\n",
       "    </tr>\n",
       "    <tr>\n",
       "      <th>KIRC</th>\n",
       "      <th>KIDNEY RENAL CLEAR CELL CARCINOMA</th>\n",
       "      <td>1678</td>\n",
       "      <td>6.49%</td>\n",
       "    </tr>\n",
       "    <tr>\n",
       "      <th>BRCA</th>\n",
       "      <th>BREAST INVASIVE CARCINOMA</th>\n",
       "      <td>2510</td>\n",
       "      <td>9.71%</td>\n",
       "    </tr>\n",
       "  </tbody>\n",
       "</table>\n",
       "</div>"
      ],
      "text/plain": [
       "                                                            study percent\n",
       "disease disease_name                                                     \n",
       "CNTL    CONTROLS                                                2   0.01%\n",
       "CHOL    CHOLANGIOCARCINOMA                                     90   0.35%\n",
       "DLBC    LYMPHOID NEOPLASM DIFFUSE LARGE B-CELL LYMPHOMA        96   0.37%\n",
       "UCS     UTERINE CARCINOSARCOMA                                114   0.44%\n",
       "ACC     ADRENOCORTICAL CARCINOMA                              158   0.61%\n",
       "UVM     UVEAL MELANOMA                                        160   0.62%\n",
       "MESO    MESOTHELIOMA                                          174   0.67%\n",
       "KICH    KIDNEY CHROMOPHOBE                                    182   0.70%\n",
       "THYM    THYMOMA                                               244   0.94%\n",
       "TGCT    TESTICULAR GERM CELL TUMORS                           312   1.21%\n",
       "PAAD    PANCREATIC ADENOCARCINOMA                             366   1.42%\n",
       "PCPG    PHEOCHROMOCYTOMA AND PARAGANGLIOMA                    374   1.45%\n",
       "READ    RECTUM ADENOCARCINOMA                                 425   1.64%\n",
       "SARC    SARCOMA                                               530   2.05%\n",
       "LAML    ACUTE MYELOID LEUKEMIA                                530   2.05%\n",
       "GBM     GLIOBLASTOMA MULTIFORME                               536   2.07%\n",
       "ESCA    ESOPHAGEAL CARCINOMA                                  593   2.29%\n",
       "CESC    CERVICAL SQUAMOUS CELL CARCINOMA AND ENDOCERVIC...    618   2.39%\n",
       "KIRP    KIDNEY RENAL PAPILLARY CELL CARCINOMA                 646   2.50%\n",
       "LIHC    LIVER HEPATOCELLULAR CARCINOMA                        848   3.28%\n",
       "BLCA    BLADDER UROTHELIAL CARCINOMA                          870   3.36%\n",
       "SKCM    SKIN CUTANEOUS MELANOMA                               946   3.66%\n",
       "LGG     BRAIN LOWER GRADE GLIOMA                             1068   4.13%\n",
       "LUSC    LUNG SQUAMOUS CELL CARCINOMA                         1108   4.28%\n",
       "PRAD    PROSTATE ADENOCARCINOMA                              1116   4.32%\n",
       "HNSC    HEAD AND NECK SQUAMOUS CELL CARCINOMA                1132   4.38%\n",
       "THCA    THYROID CARCINOMA                                    1144   4.42%\n",
       "LUAD    LUNG ADENOCARCINOMA                                  1222   4.73%\n",
       "COAD    COLON ADENOCARCINOMA                                 1303   5.04%\n",
       "UCEC    UTERINE CORPUS ENDOMETRIOID CARCINOMA                1511   5.84%\n",
       "OV      OVARIAN SEROUS CYSTADENOCARCINOMA                    1579   6.11%\n",
       "STAD    STOMACH ADENOCARCINOMA                               1673   6.47%\n",
       "KIRC    KIDNEY RENAL CLEAR CELL CARCINOMA                    1678   6.49%\n",
       "BRCA    BREAST INVASIVE CARCINOMA                            2510   9.71%"
      ]
     },
     "execution_count": 16,
     "metadata": {},
     "output_type": "execute_result"
    }
   ],
   "source": [
    "count(ndf, ['disease', 'disease_name'])"
   ]
  },
  {
   "cell_type": "markdown",
   "metadata": {},
   "source": [
    "## Number of samples"
   ]
  },
  {
   "cell_type": "code",
   "execution_count": 17,
   "metadata": {
    "collapsed": false
   },
   "outputs": [
    {
     "data": {
      "text/plain": [
       "25858"
      ]
     },
     "execution_count": 17,
     "metadata": {},
     "output_type": "execute_result"
    }
   ],
   "source": [
    "ndf.shape[0]"
   ]
  },
  {
   "cell_type": "markdown",
   "metadata": {},
   "source": [
    "## File sizes"
   ]
  },
  {
   "cell_type": "code",
   "execution_count": 18,
   "metadata": {
    "collapsed": false
   },
   "outputs": [
    {
     "data": {
      "text/plain": [
       "count     25.3 KB\n",
       "mean       6.7 GB\n",
       "std        3.4 GB\n",
       "min      132.3 MB\n",
       "25%        4.8 GB\n",
       "50%        6.1 GB\n",
       "75%        7.6 GB\n",
       "max       45.5 GB\n",
       "Name: files_size, dtype: object"
      ]
     },
     "execution_count": 18,
     "metadata": {},
     "output_type": "execute_result"
    }
   ],
   "source": [
    "# Note: the count doesn't make sense when converting to filesize, so it's shown separately\n",
    "from misc.utils import sizeof_fmt\n",
    "# args: pass a sep character for better readbility. See sizeof_fmt?? for more details\n",
    "ndf.files_size.describe().apply(sizeof_fmt, args=(' ',))"
   ]
  },
  {
   "cell_type": "markdown",
   "metadata": {},
   "source": [
    "#### Would be interesting to find out what the smallest and biggest files are"
   ]
  },
  {
   "cell_type": "code",
   "execution_count": 19,
   "metadata": {
    "collapsed": false
   },
   "outputs": [
    {
     "data": {
      "text/html": [
       "<div>\n",
       "<table border=\"1\" class=\"dataframe\">\n",
       "  <thead>\n",
       "    <tr style=\"text-align: right;\">\n",
       "      <th></th>\n",
       "      <th>disease_name</th>\n",
       "      <th>sample_type_name</th>\n",
       "      <th>filename</th>\n",
       "      <th>file_type</th>\n",
       "      <th>files_size</th>\n",
       "      <th>files_size_readable</th>\n",
       "      <th>library_type</th>\n",
       "      <th>state</th>\n",
       "    </tr>\n",
       "  </thead>\n",
       "  <tbody>\n",
       "    <tr>\n",
       "      <th>0</th>\n",
       "      <td>LUNG ADENOCARCINOMA</td>\n",
       "      <td>Primary solid Tumor</td>\n",
       "      <td>G92910.TCGA-44-2666-01A-01R-A46X-36.2.bam</td>\n",
       "      <td>bam</td>\n",
       "      <td>1.387423e+08</td>\n",
       "      <td>132.3 MB</td>\n",
       "      <td>RNA-Seq</td>\n",
       "      <td>Live</td>\n",
       "    </tr>\n",
       "    <tr>\n",
       "      <th>25857</th>\n",
       "      <td>COLON ADENOCARCINOMA</td>\n",
       "      <td>Primary solid Tumor</td>\n",
       "      <td>G92910.TCGA-A6-5656-01B-02R-A46X-36.2.bam</td>\n",
       "      <td>bam</td>\n",
       "      <td>4.888392e+10</td>\n",
       "      <td>45.5 GB</td>\n",
       "      <td>RNA-Seq</td>\n",
       "      <td>Live</td>\n",
       "    </tr>\n",
       "  </tbody>\n",
       "</table>\n",
       "</div>"
      ],
      "text/plain": [
       "               disease_name     sample_type_name                                   filename file_type    files_size files_size_readable library_type state\n",
       "0       LUNG ADENOCARCINOMA  Primary solid Tumor  G92910.TCGA-44-2666-01A-01R-A46X-36.2.bam       bam  1.387423e+08            132.3 MB      RNA-Seq  Live\n",
       "25857  COLON ADENOCARCINOMA  Primary solid Tumor  G92910.TCGA-A6-5656-01B-02R-A46X-36.2.bam       bam  4.888392e+10             45.5 GB      RNA-Seq  Live"
      ]
     },
     "execution_count": 19,
     "metadata": {},
     "output_type": "execute_result"
    }
   ],
   "source": [
    "cols_to_show = ['disease_name', 'sample_type_name', 'filename', 'file_type',\n",
    "                'files_size', 'files_size_readable', 'library_type', 'state']\n",
    "# turn off warning, http://stackoverflow.com/questions/20625582/how-to-deal-with-this-pandas-warning\n",
    "ndf.is_copy = False\n",
    "ndf['files_size_readable'] = ndf.files_size.apply(sizeof_fmt)\n",
    "sorted_ndf = ndf.sort_values('files_size').reset_index()\n",
    "sorted_ndf.ix[[0,sorted_ndf.shape[0]-1]][cols_to_show]"
   ]
  },
  {
   "cell_type": "markdown",
   "metadata": {},
   "source": [
    "## File sizes distribution"
   ]
  },
  {
   "cell_type": "code",
   "execution_count": 21,
   "metadata": {
    "collapsed": false
   },
   "outputs": [],
   "source": [
    "import matplotlib\n",
    "import matplotlib.pyplot as plt\n",
    "matplotlib.style.use('ggplot')\n",
    "%matplotlib inline\n",
    "pd.set_option('display.width', 200)\n",
    "pd.set_option('max_columns', 20)"
   ]
  },
  {
   "cell_type": "code",
   "execution_count": 22,
   "metadata": {
    "collapsed": false
   },
   "outputs": [
    {
     "data": {
      "text/plain": [
       "<matplotlib.axes._subplots.AxesSubplot at 0x7f4a0ba1c550>"
      ]
     },
     "execution_count": 22,
     "metadata": {},
     "output_type": "execute_result"
    },
    {
     "data": {
      "image/png": "[encoded data removed]",
      "text/plain": [
       "<matplotlib.figure.Figure at 0x7f4a0b175350>"
      ]
     },
     "metadata": {},
     "output_type": "display_data"
    }
   ],
   "source": [
    "ndf.files_size.plot(kind='hist', bins=40)"
   ]
  },
  {
   "cell_type": "code",
   "execution_count": 23,
   "metadata": {
    "collapsed": false
   },
   "outputs": [
    {
     "data": {
      "text/plain": [
       "'18.6 GB'"
      ]
     },
     "execution_count": 23,
     "metadata": {},
     "output_type": "execute_result"
    }
   ],
   "source": [
    "sizeof_fmt(2e10)"
   ]
  },
  {
   "cell_type": "code",
   "execution_count": 24,
   "metadata": {
    "collapsed": false
   },
   "outputs": [
    {
     "data": {
      "text/plain": [
       "'0.66%'"
      ]
     },
     "execution_count": 24,
     "metadata": {},
     "output_type": "execute_result"
    }
   ],
   "source": [
    "'{0:.2%}'.format(ndf[ndf.files_size > 2e10].shape[0] / float(ndf.shape[0]))"
   ]
  },
  {
   "cell_type": "markdown",
   "metadata": {},
   "source": [
    "So only 0.66% of the files are above 18.6 GB, and the majority are below."
   ]
  }
 ],
 "metadata": {
  "kernelspec": {
   "display_name": "Python 2",
   "language": "python",
   "name": "python2"
  },
  "language_info": {
   "codemirror_mode": {
    "name": "ipython",
    "version": 2
   },
   "file_extension": ".py",
   "mimetype": "text/x-python",
   "name": "python",
   "nbconvert_exporter": "python",
   "pygments_lexer": "ipython2",
   "version": "2.7.11"
  }
 },
 "nbformat": 4,
 "nbformat_minor": 0
}
