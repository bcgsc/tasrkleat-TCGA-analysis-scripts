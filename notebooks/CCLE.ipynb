{
 "cells": [
  {
   "cell_type": "code",
   "execution_count": 3,
   "metadata": {
    "collapsed": true
   },
   "outputs": [],
   "source": [
    "import pandas as pd\n",
    "df = pd.read_csv('https://cghub.ucsc.edu/reports/SUMMARY_STATS/LATEST_MANIFEST.tsv',\n",
    "                 low_memory=False, sep='\\t')"
   ]
  },
  {
   "cell_type": "code",
   "execution_count": 4,
   "metadata": {
    "collapsed": false
   },
   "outputs": [
    {
     "name": "stdout",
     "output_type": "stream",
     "text": [
      "2016-03-24\n"
     ]
    }
   ],
   "source": [
    "# Last time it's run:\n",
    "import datetime\n",
    "print(datetime.datetime.today().date())"
   ]
  },
  {
   "cell_type": "code",
   "execution_count": 5,
   "metadata": {
    "collapsed": true
   },
   "outputs": [],
   "source": [
    "ndf = ccle_df = df[df.study == 'CCLE']"
   ]
  },
  {
   "cell_type": "code",
   "execution_count": 17,
   "metadata": {
    "collapsed": true
   },
   "outputs": [],
   "source": [
    "from misc import utils"
   ]
  },
  {
   "cell_type": "markdown",
   "metadata": {},
   "source": [
    "## Library types"
   ]
  },
  {
   "cell_type": "code",
   "execution_count": 18,
   "metadata": {
    "collapsed": false
   },
   "outputs": [
    {
     "data": {
      "text/html": [
       "<div>\n",
       "<table border=\"1\" class=\"dataframe\">\n",
       "  <thead>\n",
       "    <tr style=\"text-align: right;\">\n",
       "      <th></th>\n",
       "      <th>study</th>\n",
       "      <th>percent</th>\n",
       "    </tr>\n",
       "    <tr>\n",
       "      <th>library_type</th>\n",
       "      <th></th>\n",
       "      <th></th>\n",
       "    </tr>\n",
       "  </thead>\n",
       "  <tbody>\n",
       "    <tr>\n",
       "      <th>WGS</th>\n",
       "      <td>28</td>\n",
       "      <td>2.16%</td>\n",
       "    </tr>\n",
       "    <tr>\n",
       "      <th>WXS</th>\n",
       "      <td>329</td>\n",
       "      <td>25.39%</td>\n",
       "    </tr>\n",
       "    <tr>\n",
       "      <th>RNA-Seq</th>\n",
       "      <td>939</td>\n",
       "      <td>72.45%</td>\n",
       "    </tr>\n",
       "  </tbody>\n",
       "</table>\n",
       "</div>"
      ],
      "text/plain": [
       "              study percent\n",
       "library_type               \n",
       "WGS              28   2.16%\n",
       "WXS             329  25.39%\n",
       "RNA-Seq         939  72.45%"
      ]
     },
     "execution_count": 18,
     "metadata": {},
     "output_type": "execute_result"
    }
   ],
   "source": [
    "count(ndf, 'library_type')"
   ]
  },
  {
   "cell_type": "markdown",
   "metadata": {},
   "source": [
    "## File types"
   ]
  },
  {
   "cell_type": "code",
   "execution_count": 19,
   "metadata": {
    "collapsed": false
   },
   "outputs": [
    {
     "data": {
      "text/html": [
       "<div>\n",
       "<table border=\"1\" class=\"dataframe\">\n",
       "  <thead>\n",
       "    <tr style=\"text-align: right;\">\n",
       "      <th></th>\n",
       "      <th>study</th>\n",
       "      <th>percent</th>\n",
       "    </tr>\n",
       "    <tr>\n",
       "      <th>file_type</th>\n",
       "      <th></th>\n",
       "      <th></th>\n",
       "    </tr>\n",
       "  </thead>\n",
       "  <tbody>\n",
       "    <tr>\n",
       "      <th>bam</th>\n",
       "      <td>1296</td>\n",
       "      <td>100.00%</td>\n",
       "    </tr>\n",
       "  </tbody>\n",
       "</table>\n",
       "</div>"
      ],
      "text/plain": [
       "           study  percent\n",
       "file_type                \n",
       "bam         1296  100.00%"
      ]
     },
     "execution_count": 19,
     "metadata": {},
     "output_type": "execute_result"
    }
   ],
   "source": [
    "count(ndf, 'file_type')"
   ]
  },
  {
   "cell_type": "markdown",
   "metadata": {},
   "source": [
    "## Disease types"
   ]
  },
  {
   "cell_type": "code",
   "execution_count": 20,
   "metadata": {
    "collapsed": false
   },
   "outputs": [
    {
     "data": {
      "text/html": [
       "<div>\n",
       "<table border=\"1\" class=\"dataframe\">\n",
       "  <thead>\n",
       "    <tr style=\"text-align: right;\">\n",
       "      <th></th>\n",
       "      <th></th>\n",
       "      <th>study</th>\n",
       "      <th>percent</th>\n",
       "    </tr>\n",
       "    <tr>\n",
       "      <th>disease</th>\n",
       "      <th>disease_name</th>\n",
       "      <th></th>\n",
       "      <th></th>\n",
       "    </tr>\n",
       "  </thead>\n",
       "  <tbody>\n",
       "    <tr>\n",
       "      <th>MESO</th>\n",
       "      <th>MESOTHELIOMA</th>\n",
       "      <td>2</td>\n",
       "      <td>0.15%</td>\n",
       "    </tr>\n",
       "    <tr>\n",
       "      <th>UCEC</th>\n",
       "      <th>UTERINE CORPUS ENDOMETRIOID CARCINOMA</th>\n",
       "      <td>4</td>\n",
       "      <td>0.31%</td>\n",
       "    </tr>\n",
       "    <tr>\n",
       "      <th>PRAD</th>\n",
       "      <th>PROSTATE ADENOCARCINOMA</th>\n",
       "      <td>11</td>\n",
       "      <td>0.85%</td>\n",
       "    </tr>\n",
       "    <tr>\n",
       "      <th>THCA</th>\n",
       "      <th>THYROID CARCINOMA</th>\n",
       "      <td>15</td>\n",
       "      <td>1.16%</td>\n",
       "    </tr>\n",
       "    <tr>\n",
       "      <th>ESCA</th>\n",
       "      <th>ESOPHAGEAL CARCINOMA</th>\n",
       "      <td>29</td>\n",
       "      <td>2.24%</td>\n",
       "    </tr>\n",
       "    <tr>\n",
       "      <th>BLCA</th>\n",
       "      <th>BLADDER UROTHELIAL CARCINOMA</th>\n",
       "      <td>32</td>\n",
       "      <td>2.47%</td>\n",
       "    </tr>\n",
       "    <tr>\n",
       "      <th>KIRC</th>\n",
       "      <th>KIDNEY RENAL CLEAR CELL CARCINOMA</th>\n",
       "      <td>33</td>\n",
       "      <td>2.55%</td>\n",
       "    </tr>\n",
       "    <tr>\n",
       "      <th>CESC</th>\n",
       "      <th>CERVICAL SQUAMOUS CELL CARCINOMA AND ENDOCERVICAL ADENOCARCINOMA</th>\n",
       "      <td>41</td>\n",
       "      <td>3.17%</td>\n",
       "    </tr>\n",
       "    <tr>\n",
       "      <th>MM</th>\n",
       "      <th>MULTIPLE MYELOMA</th>\n",
       "      <td>43</td>\n",
       "      <td>3.32%</td>\n",
       "    </tr>\n",
       "    <tr>\n",
       "      <th>LIHC</th>\n",
       "      <th>LIVER HEPATOCELLULAR CARCINOMA</th>\n",
       "      <td>49</td>\n",
       "      <td>3.79%</td>\n",
       "    </tr>\n",
       "    <tr>\n",
       "      <th>HNSC</th>\n",
       "      <th>HEAD AND NECK SQUAMOUS CELL CARCINOMA</th>\n",
       "      <td>51</td>\n",
       "      <td>3.94%</td>\n",
       "    </tr>\n",
       "    <tr>\n",
       "      <th>SARC</th>\n",
       "      <th>SARCOMA</th>\n",
       "      <td>53</td>\n",
       "      <td>4.10%</td>\n",
       "    </tr>\n",
       "    <tr>\n",
       "      <th>PAAD</th>\n",
       "      <th>PANCREATIC ADENOCARCINOMA</th>\n",
       "      <td>57</td>\n",
       "      <td>4.40%</td>\n",
       "    </tr>\n",
       "    <tr>\n",
       "      <th>STAD</th>\n",
       "      <th>STOMACH ADENOCARCINOMA</th>\n",
       "      <td>57</td>\n",
       "      <td>4.40%</td>\n",
       "    </tr>\n",
       "    <tr>\n",
       "      <th>OV</th>\n",
       "      <th>OVARIAN SEROUS CYSTADENOCARCINOMA</th>\n",
       "      <td>60</td>\n",
       "      <td>4.64%</td>\n",
       "    </tr>\n",
       "    <tr>\n",
       "      <th>SKCM</th>\n",
       "      <th>SKIN CUTANEOUS MELANOMA</th>\n",
       "      <td>69</td>\n",
       "      <td>5.33%</td>\n",
       "    </tr>\n",
       "    <tr>\n",
       "      <th>COAD</th>\n",
       "      <th>COLON ADENOCARCINOMA</th>\n",
       "      <td>74</td>\n",
       "      <td>5.72%</td>\n",
       "    </tr>\n",
       "    <tr>\n",
       "      <th>LGG</th>\n",
       "      <th>BRAIN LOWER GRADE GLIOMA</th>\n",
       "      <td>83</td>\n",
       "      <td>6.41%</td>\n",
       "    </tr>\n",
       "    <tr>\n",
       "      <th>DLBC</th>\n",
       "      <th>LYMPHOID NEOPLASM DIFFUSE LARGE B-CELL LYMPHOMA</th>\n",
       "      <td>86</td>\n",
       "      <td>6.65%</td>\n",
       "    </tr>\n",
       "    <tr>\n",
       "      <th>BRCA</th>\n",
       "      <th>BREAST INVASIVE CARCINOMA</th>\n",
       "      <td>101</td>\n",
       "      <td>7.81%</td>\n",
       "    </tr>\n",
       "    <tr>\n",
       "      <th>LCLL</th>\n",
       "      <th>CHRONIC LYMPHOCYTIC LEUKEMIA</th>\n",
       "      <td>124</td>\n",
       "      <td>9.58%</td>\n",
       "    </tr>\n",
       "    <tr>\n",
       "      <th>LUSC</th>\n",
       "      <th>LUNG SQUAMOUS CELL CARCINOMA</th>\n",
       "      <td>220</td>\n",
       "      <td>17.00%</td>\n",
       "    </tr>\n",
       "  </tbody>\n",
       "</table>\n",
       "</div>"
      ],
      "text/plain": [
       "                                                            study percent\n",
       "disease disease_name                                                     \n",
       "MESO    MESOTHELIOMA                                            2   0.15%\n",
       "UCEC    UTERINE CORPUS ENDOMETRIOID CARCINOMA                   4   0.31%\n",
       "PRAD    PROSTATE ADENOCARCINOMA                                11   0.85%\n",
       "THCA    THYROID CARCINOMA                                      15   1.16%\n",
       "ESCA    ESOPHAGEAL CARCINOMA                                   29   2.24%\n",
       "BLCA    BLADDER UROTHELIAL CARCINOMA                           32   2.47%\n",
       "KIRC    KIDNEY RENAL CLEAR CELL CARCINOMA                      33   2.55%\n",
       "CESC    CERVICAL SQUAMOUS CELL CARCINOMA AND ENDOCERVIC...     41   3.17%\n",
       "MM      MULTIPLE MYELOMA                                       43   3.32%\n",
       "LIHC    LIVER HEPATOCELLULAR CARCINOMA                         49   3.79%\n",
       "HNSC    HEAD AND NECK SQUAMOUS CELL CARCINOMA                  51   3.94%\n",
       "SARC    SARCOMA                                                53   4.10%\n",
       "PAAD    PANCREATIC ADENOCARCINOMA                              57   4.40%\n",
       "STAD    STOMACH ADENOCARCINOMA                                 57   4.40%\n",
       "OV      OVARIAN SEROUS CYSTADENOCARCINOMA                      60   4.64%\n",
       "SKCM    SKIN CUTANEOUS MELANOMA                                69   5.33%\n",
       "COAD    COLON ADENOCARCINOMA                                   74   5.72%\n",
       "LGG     BRAIN LOWER GRADE GLIOMA                               83   6.41%\n",
       "DLBC    LYMPHOID NEOPLASM DIFFUSE LARGE B-CELL LYMPHOMA        86   6.65%\n",
       "BRCA    BREAST INVASIVE CARCINOMA                             101   7.81%\n",
       "LCLL    CHRONIC LYMPHOCYTIC LEUKEMIA                          124   9.58%\n",
       "LUSC    LUNG SQUAMOUS CELL CARCINOMA                          220  17.00%"
      ]
     },
     "execution_count": 20,
     "metadata": {},
     "output_type": "execute_result"
    }
   ],
   "source": [
    "utils.count(ndf, ['disease', 'disease_name'])"
   ]
  },
  {
   "cell_type": "markdown",
   "metadata": {},
   "source": [
    "## Number of samples"
   ]
  },
  {
   "cell_type": "code",
   "execution_count": 21,
   "metadata": {
    "collapsed": false
   },
   "outputs": [
    {
     "data": {
      "text/plain": [
       "1296"
      ]
     },
     "execution_count": 21,
     "metadata": {},
     "output_type": "execute_result"
    }
   ],
   "source": [
    "ndf.shape[0]"
   ]
  },
  {
   "cell_type": "markdown",
   "metadata": {},
   "source": [
    "## File sizes"
   ]
  },
  {
   "cell_type": "code",
   "execution_count": 22,
   "metadata": {
    "collapsed": false
   },
   "outputs": [
    {
     "data": {
      "text/plain": [
       "count      1.3 KB\n",
       "mean      19.1 GB\n",
       "std       46.7 GB\n",
       "min        4.8 GB\n",
       "25%       10.8 GB\n",
       "50%       13.0 GB\n",
       "75%       15.6 GB\n",
       "max      543.1 GB\n",
       "Name: files_size, dtype: object"
      ]
     },
     "execution_count": 22,
     "metadata": {},
     "output_type": "execute_result"
    }
   ],
   "source": [
    "# Note: the count doesn't make sense when converting to filesize, so it's shown separately\n",
    "from misc.utils import sizeof_fmt\n",
    "ndf.files_size.describe().apply(sizeof_fmt)"
   ]
  },
  {
   "cell_type": "markdown",
   "metadata": {},
   "source": [
    "The max is so significantly larger than the rest because it's WGS. Summary for all RNA-Seq is in another notebook."
   ]
  }
 ],
 "metadata": {
  "kernelspec": {
   "display_name": "Python 2",
   "language": "python",
   "name": "python2"
  },
  "language_info": {
   "codemirror_mode": {
    "name": "ipython",
    "version": 2
   },
   "file_extension": ".py",
   "mimetype": "text/x-python",
   "name": "python",
   "nbconvert_exporter": "python",
   "pygments_lexer": "ipython2",
   "version": "2.7.11"
  }
 },
 "nbformat": 4,
 "nbformat_minor": 0
}
