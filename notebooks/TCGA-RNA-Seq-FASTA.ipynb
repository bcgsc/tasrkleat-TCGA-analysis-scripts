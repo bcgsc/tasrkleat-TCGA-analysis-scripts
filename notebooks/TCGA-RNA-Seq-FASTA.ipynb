{
 "cells": [
  {
   "cell_type": "code",
   "execution_count": 1,
   "metadata": {
    "collapsed": true
   },
   "outputs": [],
   "source": [
    "import pandas as pd\n",
    "pd.set_option('display.width', 200)\n",
    "pd.set_option('max_columns', 100)\n",
    "\n",
    "import matplotlib\n",
    "import matplotlib.pyplot as plt\n",
    "matplotlib.style.use('ggplot')\n",
    "%matplotlib inline"
   ]
  },
  {
   "cell_type": "code",
   "execution_count": 2,
   "metadata": {
    "collapsed": true
   },
   "outputs": [],
   "source": [
    "df = pd.read_csv('https://cghub.ucsc.edu/reports/SUMMARY_STATS/LATEST_MANIFEST.tsv',\n",
    "                 low_memory=False, sep='\\t')"
   ]
  },
  {
   "cell_type": "code",
   "execution_count": 3,
   "metadata": {
    "collapsed": false
   },
   "outputs": [
    {
     "name": "stdout",
     "output_type": "stream",
     "text": [
      "2016-04-01\n"
     ]
    }
   ],
   "source": [
    "# Last time it's run:\n",
    "import datetime\n",
    "print(datetime.datetime.today().date())"
   ]
  },
  {
   "cell_type": "code",
   "execution_count": 4,
   "metadata": {
    "collapsed": false
   },
   "outputs": [],
   "source": [
    "# only interested in those with state equals Live\n",
    "ndf = df[(df.study == 'TCGA') & (df.library_type == 'RNA-Seq') & (df.state == 'Live') & (df.file_type != 'bam')]"
   ]
  },
  {
   "cell_type": "code",
   "execution_count": 5,
   "metadata": {
    "collapsed": false
   },
   "outputs": [],
   "source": [
    "from misc import utils"
   ]
  },
  {
   "cell_type": "markdown",
   "metadata": {},
   "source": [
    "## Library types"
   ]
  },
  {
   "cell_type": "code",
   "execution_count": 6,
   "metadata": {
    "collapsed": false
   },
   "outputs": [
    {
     "data": {
      "text/html": [
       "<div>\n",
       "<table border=\"1\" class=\"dataframe\">\n",
       "  <thead>\n",
       "    <tr style=\"text-align: right;\">\n",
       "      <th></th>\n",
       "      <th>study</th>\n",
       "      <th>percent</th>\n",
       "    </tr>\n",
       "    <tr>\n",
       "      <th>library_type</th>\n",
       "      <th></th>\n",
       "      <th></th>\n",
       "    </tr>\n",
       "  </thead>\n",
       "  <tbody>\n",
       "    <tr>\n",
       "      <th>RNA-Seq</th>\n",
       "      <td>11374</td>\n",
       "      <td>100.00%</td>\n",
       "    </tr>\n",
       "  </tbody>\n",
       "</table>\n",
       "</div>"
      ],
      "text/plain": [
       "              study  percent\n",
       "library_type                \n",
       "RNA-Seq       11374  100.00%"
      ]
     },
     "execution_count": 6,
     "metadata": {},
     "output_type": "execute_result"
    }
   ],
   "source": [
    "utils.count(ndf, 'library_type')"
   ]
  },
  {
   "cell_type": "markdown",
   "metadata": {},
   "source": [
    "## File types"
   ]
  },
  {
   "cell_type": "code",
   "execution_count": 7,
   "metadata": {
    "collapsed": false
   },
   "outputs": [
    {
     "data": {
      "text/html": [
       "<div>\n",
       "<table border=\"1\" class=\"dataframe\">\n",
       "  <thead>\n",
       "    <tr style=\"text-align: right;\">\n",
       "      <th></th>\n",
       "      <th>study</th>\n",
       "      <th>percent</th>\n",
       "    </tr>\n",
       "    <tr>\n",
       "      <th>file_type</th>\n",
       "      <th></th>\n",
       "      <th></th>\n",
       "    </tr>\n",
       "  </thead>\n",
       "  <tbody>\n",
       "    <tr>\n",
       "      <th>fasta</th>\n",
       "      <td>11374</td>\n",
       "      <td>100.00%</td>\n",
       "    </tr>\n",
       "  </tbody>\n",
       "</table>\n",
       "</div>"
      ],
      "text/plain": [
       "           study  percent\n",
       "file_type                \n",
       "fasta      11374  100.00%"
      ]
     },
     "execution_count": 7,
     "metadata": {},
     "output_type": "execute_result"
    }
   ],
   "source": [
    "utils.count(ndf, 'file_type')"
   ]
  },
  {
   "cell_type": "markdown",
   "metadata": {},
   "source": [
    "## Diesase types"
   ]
  },
  {
   "cell_type": "code",
   "execution_count": 8,
   "metadata": {
    "collapsed": false
   },
   "outputs": [
    {
     "data": {
      "text/html": [
       "<div>\n",
       "<table border=\"1\" class=\"dataframe\">\n",
       "  <thead>\n",
       "    <tr style=\"text-align: right;\">\n",
       "      <th></th>\n",
       "      <th></th>\n",
       "      <th>study</th>\n",
       "      <th>percent</th>\n",
       "    </tr>\n",
       "    <tr>\n",
       "      <th>disease</th>\n",
       "      <th>disease_name</th>\n",
       "      <th></th>\n",
       "      <th></th>\n",
       "    </tr>\n",
       "  </thead>\n",
       "  <tbody>\n",
       "    <tr>\n",
       "      <th>CNTL</th>\n",
       "      <th>CONTROLS</th>\n",
       "      <td>1</td>\n",
       "      <td>0.01%</td>\n",
       "    </tr>\n",
       "    <tr>\n",
       "      <th>CHOL</th>\n",
       "      <th>CHOLANGIOCARCINOMA</th>\n",
       "      <td>45</td>\n",
       "      <td>0.40%</td>\n",
       "    </tr>\n",
       "    <tr>\n",
       "      <th>DLBC</th>\n",
       "      <th>LYMPHOID NEOPLASM DIFFUSE LARGE B-CELL LYMPHOMA</th>\n",
       "      <td>48</td>\n",
       "      <td>0.42%</td>\n",
       "    </tr>\n",
       "    <tr>\n",
       "      <th>UCS</th>\n",
       "      <th>UTERINE CARCINOSARCOMA</th>\n",
       "      <td>57</td>\n",
       "      <td>0.50%</td>\n",
       "    </tr>\n",
       "    <tr>\n",
       "      <th>ACC</th>\n",
       "      <th>ADRENOCORTICAL CARCINOMA</th>\n",
       "      <td>79</td>\n",
       "      <td>0.69%</td>\n",
       "    </tr>\n",
       "    <tr>\n",
       "      <th>UVM</th>\n",
       "      <th>UVEAL MELANOMA</th>\n",
       "      <td>80</td>\n",
       "      <td>0.70%</td>\n",
       "    </tr>\n",
       "    <tr>\n",
       "      <th>MESO</th>\n",
       "      <th>MESOTHELIOMA</th>\n",
       "      <td>87</td>\n",
       "      <td>0.76%</td>\n",
       "    </tr>\n",
       "    <tr>\n",
       "      <th>KICH</th>\n",
       "      <th>KIDNEY CHROMOPHOBE</th>\n",
       "      <td>91</td>\n",
       "      <td>0.80%</td>\n",
       "    </tr>\n",
       "    <tr>\n",
       "      <th>THYM</th>\n",
       "      <th>THYMOMA</th>\n",
       "      <td>122</td>\n",
       "      <td>1.07%</td>\n",
       "    </tr>\n",
       "    <tr>\n",
       "      <th>TGCT</th>\n",
       "      <th>TESTICULAR GERM CELL TUMORS</th>\n",
       "      <td>156</td>\n",
       "      <td>1.37%</td>\n",
       "    </tr>\n",
       "    <tr>\n",
       "      <th>GBM</th>\n",
       "      <th>GLIOBLASTOMA MULTIFORME</th>\n",
       "      <td>175</td>\n",
       "      <td>1.54%</td>\n",
       "    </tr>\n",
       "    <tr>\n",
       "      <th>READ</th>\n",
       "      <th>RECTUM ADENOCARCINOMA</th>\n",
       "      <td>177</td>\n",
       "      <td>1.56%</td>\n",
       "    </tr>\n",
       "    <tr>\n",
       "      <th>LAML</th>\n",
       "      <th>ACUTE MYELOID LEUKEMIA</th>\n",
       "      <td>179</td>\n",
       "      <td>1.57%</td>\n",
       "    </tr>\n",
       "    <tr>\n",
       "      <th>PAAD</th>\n",
       "      <th>PANCREATIC ADENOCARCINOMA</th>\n",
       "      <td>183</td>\n",
       "      <td>1.61%</td>\n",
       "    </tr>\n",
       "    <tr>\n",
       "      <th>PCPG</th>\n",
       "      <th>PHEOCHROMOCYTOMA AND PARAGANGLIOMA</th>\n",
       "      <td>187</td>\n",
       "      <td>1.64%</td>\n",
       "    </tr>\n",
       "    <tr>\n",
       "      <th>ESCA</th>\n",
       "      <th>ESOPHAGEAL CARCINOMA</th>\n",
       "      <td>198</td>\n",
       "      <td>1.74%</td>\n",
       "    </tr>\n",
       "    <tr>\n",
       "      <th>SARC</th>\n",
       "      <th>SARCOMA</th>\n",
       "      <td>265</td>\n",
       "      <td>2.33%</td>\n",
       "    </tr>\n",
       "    <tr>\n",
       "      <th>CESC</th>\n",
       "      <th>CERVICAL SQUAMOUS CELL CARCINOMA AND ENDOCERVICAL ADENOCARCINOMA</th>\n",
       "      <td>309</td>\n",
       "      <td>2.72%</td>\n",
       "    </tr>\n",
       "    <tr>\n",
       "      <th>KIRP</th>\n",
       "      <th>KIDNEY RENAL PAPILLARY CELL CARCINOMA</th>\n",
       "      <td>323</td>\n",
       "      <td>2.84%</td>\n",
       "    </tr>\n",
       "    <tr>\n",
       "      <th>LIHC</th>\n",
       "      <th>LIVER HEPATOCELLULAR CARCINOMA</th>\n",
       "      <td>424</td>\n",
       "      <td>3.73%</td>\n",
       "    </tr>\n",
       "    <tr>\n",
       "      <th>OV</th>\n",
       "      <th>OVARIAN SEROUS CYSTADENOCARCINOMA</th>\n",
       "      <td>430</td>\n",
       "      <td>3.78%</td>\n",
       "    </tr>\n",
       "    <tr>\n",
       "      <th>BLCA</th>\n",
       "      <th>BLADDER UROTHELIAL CARCINOMA</th>\n",
       "      <td>433</td>\n",
       "      <td>3.81%</td>\n",
       "    </tr>\n",
       "    <tr>\n",
       "      <th>STAD</th>\n",
       "      <th>STOMACH ADENOCARCINOMA</th>\n",
       "      <td>453</td>\n",
       "      <td>3.98%</td>\n",
       "    </tr>\n",
       "    <tr>\n",
       "      <th>SKCM</th>\n",
       "      <th>SKIN CUTANEOUS MELANOMA</th>\n",
       "      <td>473</td>\n",
       "      <td>4.16%</td>\n",
       "    </tr>\n",
       "    <tr>\n",
       "      <th>LGG</th>\n",
       "      <th>BRAIN LOWER GRADE GLIOMA</th>\n",
       "      <td>534</td>\n",
       "      <td>4.69%</td>\n",
       "    </tr>\n",
       "    <tr>\n",
       "      <th>COAD</th>\n",
       "      <th>COLON ADENOCARCINOMA</th>\n",
       "      <td>546</td>\n",
       "      <td>4.80%</td>\n",
       "    </tr>\n",
       "    <tr>\n",
       "      <th>LUSC</th>\n",
       "      <th>LUNG SQUAMOUS CELL CARCINOMA</th>\n",
       "      <td>555</td>\n",
       "      <td>4.88%</td>\n",
       "    </tr>\n",
       "    <tr>\n",
       "      <th>PRAD</th>\n",
       "      <th>PROSTATE ADENOCARCINOMA</th>\n",
       "      <td>558</td>\n",
       "      <td>4.91%</td>\n",
       "    </tr>\n",
       "    <tr>\n",
       "      <th>HNSC</th>\n",
       "      <th>HEAD AND NECK SQUAMOUS CELL CARCINOMA</th>\n",
       "      <td>566</td>\n",
       "      <td>4.98%</td>\n",
       "    </tr>\n",
       "    <tr>\n",
       "      <th>THCA</th>\n",
       "      <th>THYROID CARCINOMA</th>\n",
       "      <td>572</td>\n",
       "      <td>5.03%</td>\n",
       "    </tr>\n",
       "    <tr>\n",
       "      <th>UCEC</th>\n",
       "      <th>UTERINE CORPUS ENDOMETRIOID CARCINOMA</th>\n",
       "      <td>593</td>\n",
       "      <td>5.21%</td>\n",
       "    </tr>\n",
       "    <tr>\n",
       "      <th>LUAD</th>\n",
       "      <th>LUNG ADENOCARCINOMA</th>\n",
       "      <td>601</td>\n",
       "      <td>5.28%</td>\n",
       "    </tr>\n",
       "    <tr>\n",
       "      <th>KIRC</th>\n",
       "      <th>KIDNEY RENAL CLEAR CELL CARCINOMA</th>\n",
       "      <td>618</td>\n",
       "      <td>5.43%</td>\n",
       "    </tr>\n",
       "    <tr>\n",
       "      <th>BRCA</th>\n",
       "      <th>BREAST INVASIVE CARCINOMA</th>\n",
       "      <td>1256</td>\n",
       "      <td>11.04%</td>\n",
       "    </tr>\n",
       "  </tbody>\n",
       "</table>\n",
       "</div>"
      ],
      "text/plain": [
       "                                                            study percent\n",
       "disease disease_name                                                     \n",
       "CNTL    CONTROLS                                                1   0.01%\n",
       "CHOL    CHOLANGIOCARCINOMA                                     45   0.40%\n",
       "DLBC    LYMPHOID NEOPLASM DIFFUSE LARGE B-CELL LYMPHOMA        48   0.42%\n",
       "UCS     UTERINE CARCINOSARCOMA                                 57   0.50%\n",
       "ACC     ADRENOCORTICAL CARCINOMA                               79   0.69%\n",
       "UVM     UVEAL MELANOMA                                         80   0.70%\n",
       "MESO    MESOTHELIOMA                                           87   0.76%\n",
       "KICH    KIDNEY CHROMOPHOBE                                     91   0.80%\n",
       "THYM    THYMOMA                                               122   1.07%\n",
       "TGCT    TESTICULAR GERM CELL TUMORS                           156   1.37%\n",
       "GBM     GLIOBLASTOMA MULTIFORME                               175   1.54%\n",
       "READ    RECTUM ADENOCARCINOMA                                 177   1.56%\n",
       "LAML    ACUTE MYELOID LEUKEMIA                                179   1.57%\n",
       "PAAD    PANCREATIC ADENOCARCINOMA                             183   1.61%\n",
       "PCPG    PHEOCHROMOCYTOMA AND PARAGANGLIOMA                    187   1.64%\n",
       "ESCA    ESOPHAGEAL CARCINOMA                                  198   1.74%\n",
       "SARC    SARCOMA                                               265   2.33%\n",
       "CESC    CERVICAL SQUAMOUS CELL CARCINOMA AND ENDOCERVIC...    309   2.72%\n",
       "KIRP    KIDNEY RENAL PAPILLARY CELL CARCINOMA                 323   2.84%\n",
       "LIHC    LIVER HEPATOCELLULAR CARCINOMA                        424   3.73%\n",
       "OV      OVARIAN SEROUS CYSTADENOCARCINOMA                     430   3.78%\n",
       "BLCA    BLADDER UROTHELIAL CARCINOMA                          433   3.81%\n",
       "STAD    STOMACH ADENOCARCINOMA                                453   3.98%\n",
       "SKCM    SKIN CUTANEOUS MELANOMA                               473   4.16%\n",
       "LGG     BRAIN LOWER GRADE GLIOMA                              534   4.69%\n",
       "COAD    COLON ADENOCARCINOMA                                  546   4.80%\n",
       "LUSC    LUNG SQUAMOUS CELL CARCINOMA                          555   4.88%\n",
       "PRAD    PROSTATE ADENOCARCINOMA                               558   4.91%\n",
       "HNSC    HEAD AND NECK SQUAMOUS CELL CARCINOMA                 566   4.98%\n",
       "THCA    THYROID CARCINOMA                                     572   5.03%\n",
       "UCEC    UTERINE CORPUS ENDOMETRIOID CARCINOMA                 593   5.21%\n",
       "LUAD    LUNG ADENOCARCINOMA                                   601   5.28%\n",
       "KIRC    KIDNEY RENAL CLEAR CELL CARCINOMA                     618   5.43%\n",
       "BRCA    BREAST INVASIVE CARCINOMA                            1256  11.04%"
      ]
     },
     "execution_count": 8,
     "metadata": {},
     "output_type": "execute_result"
    }
   ],
   "source": [
    "utils.count(ndf, ['disease', 'disease_name'])"
   ]
  },
  {
   "cell_type": "markdown",
   "metadata": {},
   "source": [
    "## Number of samples"
   ]
  },
  {
   "cell_type": "code",
   "execution_count": 9,
   "metadata": {
    "collapsed": false
   },
   "outputs": [
    {
     "data": {
      "text/plain": [
       "11374"
      ]
     },
     "execution_count": 9,
     "metadata": {},
     "output_type": "execute_result"
    }
   ],
   "source": [
    "ndf.shape[0]"
   ]
  },
  {
   "cell_type": "markdown",
   "metadata": {},
   "source": [
    "## File sizes"
   ]
  },
  {
   "cell_type": "code",
   "execution_count": 10,
   "metadata": {
    "collapsed": false
   },
   "outputs": [
    {
     "data": {
      "text/plain": [
       "count     11.1 KB\n",
       "mean       6.2 GB\n",
       "std        3.0 GB\n",
       "min      278.3 MB\n",
       "25%        4.6 GB\n",
       "50%        5.7 GB\n",
       "75%        6.9 GB\n",
       "max       27.7 GB\n",
       "Name: files_size, dtype: object"
      ]
     },
     "execution_count": 10,
     "metadata": {},
     "output_type": "execute_result"
    }
   ],
   "source": [
    "# Note: the count doesn't make sense when converting to filesize, so it's shown separately\n",
    "from misc.utils import sizeof_fmt\n",
    "# args: pass a sep character for better readbility. See sizeof_fmt?? for more details\n",
    "ndf.files_size.describe().apply(sizeof_fmt, args=(' ',))"
   ]
  },
  {
   "cell_type": "markdown",
   "metadata": {},
   "source": [
    "#### Would be interesting to find out what the smallest and biggest files are"
   ]
  },
  {
   "cell_type": "code",
   "execution_count": 11,
   "metadata": {
    "collapsed": false
   },
   "outputs": [
    {
     "data": {
      "text/html": [
       "<div>\n",
       "<table border=\"1\" class=\"dataframe\">\n",
       "  <thead>\n",
       "    <tr style=\"text-align: right;\">\n",
       "      <th></th>\n",
       "      <th>disease_name</th>\n",
       "      <th>sample_type_name</th>\n",
       "      <th>filename</th>\n",
       "      <th>file_type</th>\n",
       "      <th>files_size</th>\n",
       "      <th>files_size_readable</th>\n",
       "      <th>library_type</th>\n",
       "      <th>state</th>\n",
       "    </tr>\n",
       "  </thead>\n",
       "  <tbody>\n",
       "    <tr>\n",
       "      <th>0</th>\n",
       "      <td>COLON ADENOCARCINOMA</td>\n",
       "      <td>Primary solid Tumor</td>\n",
       "      <td>UNCID_2206900.559bc3f5-8d24-4740-942f-a2504739...</td>\n",
       "      <td>fasta</td>\n",
       "      <td>2.918121e+08</td>\n",
       "      <td>278.3 MB</td>\n",
       "      <td>RNA-Seq</td>\n",
       "      <td>Live</td>\n",
       "    </tr>\n",
       "    <tr>\n",
       "      <th>11373</th>\n",
       "      <td>OVARIAN SEROUS CYSTADENOCARCINOMA</td>\n",
       "      <td>Primary solid Tumor</td>\n",
       "      <td>TCGA-29-1699-01A-01R-1567-13_rnaseq_fastq.tar</td>\n",
       "      <td>fasta</td>\n",
       "      <td>2.972934e+10</td>\n",
       "      <td>27.7 GB</td>\n",
       "      <td>RNA-Seq</td>\n",
       "      <td>Live</td>\n",
       "    </tr>\n",
       "  </tbody>\n",
       "</table>\n",
       "</div>"
      ],
      "text/plain": [
       "                            disease_name     sample_type_name                                           filename file_type    files_size files_size_readable library_type state\n",
       "0                   COLON ADENOCARCINOMA  Primary solid Tumor  UNCID_2206900.559bc3f5-8d24-4740-942f-a2504739...     fasta  2.918121e+08            278.3 MB      RNA-Seq  Live\n",
       "11373  OVARIAN SEROUS CYSTADENOCARCINOMA  Primary solid Tumor      TCGA-29-1699-01A-01R-1567-13_rnaseq_fastq.tar     fasta  2.972934e+10             27.7 GB      RNA-Seq  Live"
      ]
     },
     "execution_count": 11,
     "metadata": {},
     "output_type": "execute_result"
    }
   ],
   "source": [
    "cols_to_show = ['disease_name', 'sample_type_name', 'filename', 'file_type',\n",
    "                'files_size', 'files_size_readable', 'library_type', 'state']\n",
    "# turn off warning, http://stackoverflow.com/questions/20625582/how-to-deal-with-this-pandas-warning\n",
    "ndf.is_copy = False\n",
    "ndf['files_size_readable'] = ndf.files_size.apply(sizeof_fmt)\n",
    "sorted_ndf = ndf.sort_values('files_size').reset_index()\n",
    "sorted_ndf.ix[[0,sorted_ndf.shape[0]-1]][cols_to_show]"
   ]
  },
  {
   "cell_type": "markdown",
   "metadata": {},
   "source": [
    "## File sizes distribution"
   ]
  },
  {
   "cell_type": "code",
   "execution_count": 12,
   "metadata": {
    "collapsed": false
   },
   "outputs": [
    {
     "data": {
      "text/plain": [
       "<matplotlib.axes._subplots.AxesSubplot at 0x7faa8bd195d0>"
      ]
     },
     "execution_count": 12,
     "metadata": {},
     "output_type": "execute_result"
    },
    {
     "data": {
      "image/png": "[encoded data removed]",
      "text/plain": [
       "<matplotlib.figure.Figure at 0x7faa92b3e190>"
      ]
     },
     "metadata": {},
     "output_type": "display_data"
    }
   ],
   "source": [
    "ndf.files_size.plot(kind='hist', bins=40)"
   ]
  },
  {
   "cell_type": "code",
   "execution_count": 13,
   "metadata": {
    "collapsed": false
   },
   "outputs": [
    {
     "data": {
      "text/plain": [
       "'18.6 GB'"
      ]
     },
     "execution_count": 13,
     "metadata": {},
     "output_type": "execute_result"
    }
   ],
   "source": [
    "sizeof_fmt(2e10)"
   ]
  },
  {
   "cell_type": "code",
   "execution_count": 14,
   "metadata": {
    "collapsed": false
   },
   "outputs": [
    {
     "data": {
      "text/plain": [
       "'0.46%'"
      ]
     },
     "execution_count": 14,
     "metadata": {},
     "output_type": "execute_result"
    }
   ],
   "source": [
    "'{0:.2%}'.format(ndf[ndf.files_size > 2e10].shape[0] / float(ndf.shape[0]))"
   ]
  },
  {
   "cell_type": "markdown",
   "metadata": {},
   "source": [
    "So only 0.81% of the files are above 18.6 GB, and the majority are below."
   ]
  },
  {
   "cell_type": "markdown",
   "metadata": {},
   "source": [
    "### Look at a particular normal vs tumor pair"
   ]
  },
  {
   "cell_type": "code",
   "execution_count": 15,
   "metadata": {
    "collapsed": false
   },
   "outputs": [
    {
     "data": {
      "text/html": [
       "<div>\n",
       "<table border=\"1\" class=\"dataframe\">\n",
       "  <thead>\n",
       "    <tr style=\"text-align: right;\">\n",
       "      <th></th>\n",
       "      <th>study</th>\n",
       "      <th>barcode</th>\n",
       "      <th>disease</th>\n",
       "      <th>disease_name</th>\n",
       "      <th>sample_type</th>\n",
       "      <th>sample_type_name</th>\n",
       "      <th>analyte_type</th>\n",
       "      <th>library_type</th>\n",
       "      <th>center</th>\n",
       "      <th>center_name</th>\n",
       "      <th>platform</th>\n",
       "      <th>platform_name</th>\n",
       "      <th>assembly</th>\n",
       "      <th>filename</th>\n",
       "      <th>files_size</th>\n",
       "      <th>checksum</th>\n",
       "      <th>analysis_id</th>\n",
       "      <th>aliquot_id</th>\n",
       "      <th>participant_id</th>\n",
       "      <th>sample_id</th>\n",
       "      <th>tss_id</th>\n",
       "      <th>sample_accession</th>\n",
       "      <th>published</th>\n",
       "      <th>uploaded</th>\n",
       "      <th>modified</th>\n",
       "      <th>state</th>\n",
       "      <th>sample_type_code</th>\n",
       "      <th>analyte_type_code</th>\n",
       "      <th>platform_full_name</th>\n",
       "      <th>file_type</th>\n",
       "      <th>reason</th>\n",
       "      <th>reagent_vendor</th>\n",
       "      <th>reagent_name</th>\n",
       "      <th>catalog_number</th>\n",
       "      <th>is_custom</th>\n",
       "      <th>target_file_url</th>\n",
       "      <th>probe_file_url</th>\n",
       "      <th>files_size_readable</th>\n",
       "    </tr>\n",
       "  </thead>\n",
       "  <tbody>\n",
       "    <tr>\n",
       "      <th>33965</th>\n",
       "      <td>TCGA</td>\n",
       "      <td>TCGA-BC-A10Q-11A-11R-A131-07</td>\n",
       "      <td>LIHC</td>\n",
       "      <td>LIVER HEPATOCELLULAR CARCINOMA</td>\n",
       "      <td>NT</td>\n",
       "      <td>Solid Tissue Normal</td>\n",
       "      <td>RNA</td>\n",
       "      <td>RNA-Seq</td>\n",
       "      <td>UNC-LCCC</td>\n",
       "      <td>NaN</td>\n",
       "      <td>ILLUMINA</td>\n",
       "      <td>Illumina</td>\n",
       "      <td>unaligned</td>\n",
       "      <td>UNCID_2207989.469f052a-477e-498a-ba3b-f288dcbc...</td>\n",
       "      <td>5.833322e+09</td>\n",
       "      <td>ed9eb3a96c2b37aabc75df35aef38196</td>\n",
       "      <td>66b0260b-f242-4eea-9c9f-a96e1ec7f0f9</td>\n",
       "      <td>469f052a-477e-498a-ba3b-f288dcbc306f</td>\n",
       "      <td>dfa15fbe-bb14-40ce-afc6-70694112e3e2</td>\n",
       "      <td>5d3bf988-3331-4412-bc17-b8f4650a8623</td>\n",
       "      <td>BC</td>\n",
       "      <td>NaN</td>\n",
       "      <td>2013-09-30</td>\n",
       "      <td>2013-09-30</td>\n",
       "      <td>2013-09-30</td>\n",
       "      <td>Live</td>\n",
       "      <td>11</td>\n",
       "      <td>R</td>\n",
       "      <td>Illumina HiSeq 2000</td>\n",
       "      <td>fasta</td>\n",
       "      <td>NaN</td>\n",
       "      <td>NaN</td>\n",
       "      <td>NaN</td>\n",
       "      <td>NaN</td>\n",
       "      <td>NaN</td>\n",
       "      <td>NaN</td>\n",
       "      <td>NaN</td>\n",
       "      <td>5.4 GB</td>\n",
       "    </tr>\n",
       "    <tr>\n",
       "      <th>33966</th>\n",
       "      <td>TCGA</td>\n",
       "      <td>TCGA-BC-A10Q-01A-11R-A131-07</td>\n",
       "      <td>LIHC</td>\n",
       "      <td>LIVER HEPATOCELLULAR CARCINOMA</td>\n",
       "      <td>TP</td>\n",
       "      <td>Primary solid Tumor</td>\n",
       "      <td>RNA</td>\n",
       "      <td>RNA-Seq</td>\n",
       "      <td>UNC-LCCC</td>\n",
       "      <td>NaN</td>\n",
       "      <td>ILLUMINA</td>\n",
       "      <td>Illumina</td>\n",
       "      <td>unaligned</td>\n",
       "      <td>UNCID_2207997.19c97e3d-f5af-4301-92f4-be8ac9e2...</td>\n",
       "      <td>5.242180e+09</td>\n",
       "      <td>98232bfea569de53517aa9d06f2f2781</td>\n",
       "      <td>1e2cc863-1123-451c-a295-0323fb421188</td>\n",
       "      <td>19c97e3d-f5af-4301-92f4-be8ac9e27427</td>\n",
       "      <td>dfa15fbe-bb14-40ce-afc6-70694112e3e2</td>\n",
       "      <td>bf225dc1-4309-4304-849e-cbcc23c8442c</td>\n",
       "      <td>BC</td>\n",
       "      <td>NaN</td>\n",
       "      <td>2013-09-30</td>\n",
       "      <td>2013-09-30</td>\n",
       "      <td>2013-09-30</td>\n",
       "      <td>Live</td>\n",
       "      <td>01</td>\n",
       "      <td>R</td>\n",
       "      <td>Illumina HiSeq 2000</td>\n",
       "      <td>fasta</td>\n",
       "      <td>NaN</td>\n",
       "      <td>NaN</td>\n",
       "      <td>NaN</td>\n",
       "      <td>NaN</td>\n",
       "      <td>NaN</td>\n",
       "      <td>NaN</td>\n",
       "      <td>NaN</td>\n",
       "      <td>4.9 GB</td>\n",
       "    </tr>\n",
       "  </tbody>\n",
       "</table>\n",
       "</div>"
      ],
      "text/plain": [
       "      study                       barcode disease                    disease_name sample_type     sample_type_name analyte_type library_type    center  center_name  platform platform_name  \\\n",
       "33965  TCGA  TCGA-BC-A10Q-11A-11R-A131-07    LIHC  LIVER HEPATOCELLULAR CARCINOMA          NT  Solid Tissue Normal          RNA      RNA-Seq  UNC-LCCC          NaN  ILLUMINA      Illumina   \n",
       "33966  TCGA  TCGA-BC-A10Q-01A-11R-A131-07    LIHC  LIVER HEPATOCELLULAR CARCINOMA          TP  Primary solid Tumor          RNA      RNA-Seq  UNC-LCCC          NaN  ILLUMINA      Illumina   \n",
       "\n",
       "        assembly                                           filename    files_size                          checksum                           analysis_id                            aliquot_id  \\\n",
       "33965  unaligned  UNCID_2207989.469f052a-477e-498a-ba3b-f288dcbc...  5.833322e+09  ed9eb3a96c2b37aabc75df35aef38196  66b0260b-f242-4eea-9c9f-a96e1ec7f0f9  469f052a-477e-498a-ba3b-f288dcbc306f   \n",
       "33966  unaligned  UNCID_2207997.19c97e3d-f5af-4301-92f4-be8ac9e2...  5.242180e+09  98232bfea569de53517aa9d06f2f2781  1e2cc863-1123-451c-a295-0323fb421188  19c97e3d-f5af-4301-92f4-be8ac9e27427   \n",
       "\n",
       "                             participant_id                             sample_id tss_id sample_accession   published    uploaded    modified state sample_type_code analyte_type_code  \\\n",
       "33965  dfa15fbe-bb14-40ce-afc6-70694112e3e2  5d3bf988-3331-4412-bc17-b8f4650a8623     BC              NaN  2013-09-30  2013-09-30  2013-09-30  Live               11                 R   \n",
       "33966  dfa15fbe-bb14-40ce-afc6-70694112e3e2  bf225dc1-4309-4304-849e-cbcc23c8442c     BC              NaN  2013-09-30  2013-09-30  2013-09-30  Live               01                 R   \n",
       "\n",
       "        platform_full_name file_type reason reagent_vendor reagent_name catalog_number is_custom target_file_url probe_file_url files_size_readable  \n",
       "33965  Illumina HiSeq 2000     fasta    NaN            NaN          NaN            NaN       NaN             NaN            NaN              5.4 GB  \n",
       "33966  Illumina HiSeq 2000     fasta    NaN            NaN          NaN            NaN       NaN             NaN            NaN              4.9 GB  "
      ]
     },
     "execution_count": 15,
     "metadata": {},
     "output_type": "execute_result"
    }
   ],
   "source": [
    "ndf[(ndf.aliquot_id == '469f052a-477e-498a-ba3b-f288dcbc306f') | (ndf.aliquot_id == '19c97e3d-f5af-4301-92f4-be8ac9e27427')]"
   ]
  }
 ],
 "metadata": {
  "kernelspec": {
   "display_name": "Python 2",
   "language": "python",
   "name": "python2"
  },
  "language_info": {
   "codemirror_mode": {
    "name": "ipython",
    "version": 2
   },
   "file_extension": ".py",
   "mimetype": "text/x-python",
   "name": "python",
   "nbconvert_exporter": "python",
   "pygments_lexer": "ipython2",
   "version": "2.7.11"
  }
 },
 "nbformat": 4,
 "nbformat_minor": 0
}
