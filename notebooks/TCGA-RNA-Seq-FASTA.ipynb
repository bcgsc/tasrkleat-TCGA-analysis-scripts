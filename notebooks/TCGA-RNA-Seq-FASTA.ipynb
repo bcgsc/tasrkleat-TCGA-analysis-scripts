{
 "cells": [
  {
   "cell_type": "code",
   "execution_count": 8,
   "metadata": {
    "collapsed": false
   },
   "outputs": [
    {
     "name": "stdout",
     "output_type": "stream",
     "text": [
      "The autoreload extension is already loaded. To reload it, use:\n",
      "  %reload_ext autoreload\n"
     ]
    }
   ],
   "source": [
    "import os\n",
    "import re\n",
    "import datetime\n",
    "import tempfile\n",
    "\n",
    "import numpy as np\n",
    "import pandas as pd\n",
    "pd.set_option('display.max_columns', 250)\n",
    "# Don't cut off long string\n",
    "# http://stackoverflow.com/questions/26277757/pandas-to-html-truncates-string-contents\n",
    "pd.set_option('display.max_colwidth', -1)\n",
    "\n",
    "import matplotlib\n",
    "import matplotlib.pyplot as plt\n",
    "matplotlib.style.use('ggplot')\n",
    "%matplotlib inline\n",
    "matplotlib.rcParams['figure.figsize'] = (15, 9)\n",
    "\n",
    "from misc import utils\n",
    "\n",
    "# for auto-reloading external modules\n",
    "# see http://stackoverflow.com/questions/1907993/autoreload-of-modules-in-ipython\n",
    "%load_ext autoreload\n",
    "%autoreload 2"
   ]
  },
  {
   "cell_type": "code",
   "execution_count": 4,
   "metadata": {
    "collapsed": false
   },
   "outputs": [
    {
     "name": "stdout",
     "output_type": "stream",
     "text": [
      "2016-09-21\n"
     ]
    }
   ],
   "source": [
    "print(datetime.datetime.now().date())"
   ]
  },
  {
   "cell_type": "code",
   "execution_count": 5,
   "metadata": {
    "collapsed": true
   },
   "outputs": [],
   "source": [
    "df = pd.read_csv('data/LATEST_MANIFEST.final.tsv.gz', low_memory=False, sep='\\t', compression='gzip')"
   ]
  },
  {
   "cell_type": "code",
   "execution_count": 6,
   "metadata": {
    "collapsed": false
   },
   "outputs": [],
   "source": [
    "# only interested in those with state equals Live\n",
    "ndf = df[(df.study == 'TCGA') & (df.library_type == 'RNA-Seq') & (df.state == 'Live') & (df.file_type != 'bam')]"
   ]
  },
  {
   "cell_type": "code",
   "execution_count": 17,
   "metadata": {
    "collapsed": true
   },
   "outputs": [],
   "source": [
    "ndf = ndf.copy()"
   ]
  },
  {
   "cell_type": "markdown",
   "metadata": {},
   "source": [
    "#### Centers"
   ]
  },
  {
   "cell_type": "code",
   "execution_count": 18,
   "metadata": {
    "collapsed": false
   },
   "outputs": [
    {
     "data": {
      "text/plain": [
       "UNC-LCCC    9943\n",
       "BCCAGSC     1260\n",
       "BI          171 \n",
       "Name: center, dtype: int64"
      ]
     },
     "execution_count": 18,
     "metadata": {},
     "output_type": "execute_result"
    }
   ],
   "source": [
    "ndf.center.value_counts()"
   ]
  },
  {
   "cell_type": "markdown",
   "metadata": {},
   "source": [
    "##### Library types"
   ]
  },
  {
   "cell_type": "code",
   "execution_count": 19,
   "metadata": {
    "collapsed": false
   },
   "outputs": [
    {
     "data": {
      "text/plain": [
       "RNA-Seq    11374\n",
       "Name: library_type, dtype: int64"
      ]
     },
     "execution_count": 19,
     "metadata": {},
     "output_type": "execute_result"
    }
   ],
   "source": [
    "ndf.library_type.value_counts()"
   ]
  },
  {
   "cell_type": "markdown",
   "metadata": {},
   "source": [
    "##### File types"
   ]
  },
  {
   "cell_type": "code",
   "execution_count": 20,
   "metadata": {
    "collapsed": false
   },
   "outputs": [
    {
     "data": {
      "text/plain": [
       "fasta    11374\n",
       "Name: file_type, dtype: int64"
      ]
     },
     "execution_count": 20,
     "metadata": {},
     "output_type": "execute_result"
    }
   ],
   "source": [
    "ndf.file_type.value_counts()"
   ]
  },
  {
   "cell_type": "markdown",
   "metadata": {},
   "source": [
    "#### Diesase types"
   ]
  },
  {
   "cell_type": "code",
   "execution_count": 22,
   "metadata": {
    "collapsed": false
   },
   "outputs": [
    {
     "data": {
      "text/plain": [
       "BRCA: Breast Invasive Carcinoma                                           1256\n",
       "KIRC: Kidney Renal Clear Cell Carcinoma                                   618 \n",
       "LUAD: Lung Adenocarcinoma                                                 601 \n",
       "UCEC: Uterine Corpus Endometrioid Carcinoma                               593 \n",
       "THCA: Thyroid Carcinoma                                                   572 \n",
       "HNSC: Head And Neck Squamous Cell Carcinoma                               566 \n",
       "PRAD: Prostate Adenocarcinoma                                             558 \n",
       "LUSC: Lung Squamous Cell Carcinoma                                        555 \n",
       "COAD: Colon Adenocarcinoma                                                546 \n",
       "LGG: Brain Lower Grade Glioma                                             534 \n",
       "SKCM: Skin Cutaneous Melanoma                                             473 \n",
       "STAD: Stomach Adenocarcinoma                                              453 \n",
       "BLCA: Bladder Urothelial Carcinoma                                        433 \n",
       "OV: Ovarian Serous Cystadenocarcinoma                                     430 \n",
       "LIHC: Liver Hepatocellular Carcinoma                                      424 \n",
       "KIRP: Kidney Renal Papillary Cell Carcinoma                               323 \n",
       "CESC: Cervical Squamous Cell Carcinoma And Endocervical Adenocarcinoma    309 \n",
       "SARC: Sarcoma                                                             265 \n",
       "ESCA: Esophageal Carcinoma                                                198 \n",
       "PCPG: Pheochromocytoma And Paraganglioma                                  187 \n",
       "PAAD: Pancreatic Adenocarcinoma                                           183 \n",
       "LAML: Acute Myeloid Leukemia                                              179 \n",
       "READ: Rectum Adenocarcinoma                                               177 \n",
       "GBM: Glioblastoma Multiforme                                              175 \n",
       "TGCT: Testicular Germ Cell Tumors                                         156 \n",
       "THYM: Thymoma                                                             122 \n",
       "KICH: Kidney Chromophobe                                                  91  \n",
       "MESO: Mesothelioma                                                        87  \n",
       "UVM: Uveal Melanoma                                                       80  \n",
       "ACC: Adrenocortical Carcinoma                                             79  \n",
       "UCS: Uterine Carcinosarcoma                                               57  \n",
       "DLBC: Lymphoid Neoplasm Diffuse Large B-cell Lymphoma                     48  \n",
       "CHOL: Cholangiocarcinoma                                                  45  \n",
       "CNTL: Controls                                                            1   \n",
       "Name: handy_disease_names, dtype: int64"
      ]
     },
     "execution_count": 22,
     "metadata": {},
     "output_type": "execute_result"
    }
   ],
   "source": [
    "ndf['handy_disease_names'] = ndf.apply(lambda x: '{0}: {1}'.format(\n",
    "        x.disease, ' '.join([_.capitalize() for _ in x.disease_name.split()])), axis=1)\n",
    "ndf.handy_disease_names.value_counts()"
   ]
  },
  {
   "cell_type": "markdown",
   "metadata": {},
   "source": [
    "#### Number of samples"
   ]
  },
  {
   "cell_type": "code",
   "execution_count": 23,
   "metadata": {
    "collapsed": false
   },
   "outputs": [
    {
     "data": {
      "text/plain": [
       "11374"
      ]
     },
     "execution_count": 23,
     "metadata": {},
     "output_type": "execute_result"
    }
   ],
   "source": [
    "ndf.shape[0]"
   ]
  },
  {
   "cell_type": "markdown",
   "metadata": {},
   "source": [
    "##### File sizes"
   ]
  },
  {
   "cell_type": "code",
   "execution_count": 24,
   "metadata": {
    "collapsed": false
   },
   "outputs": [
    {
     "data": {
      "text/plain": [
       "count    11.1KB \n",
       "mean     6.2GB  \n",
       "std      3.0GB  \n",
       "min      278.3MB\n",
       "25%      4.6GB  \n",
       "50%      5.7GB  \n",
       "75%      6.9GB  \n",
       "max      27.7GB \n",
       "Name: files_size, dtype: object"
      ]
     },
     "execution_count": 24,
     "metadata": {},
     "output_type": "execute_result"
    }
   ],
   "source": [
    "# Note: the count doesn't make sense when converting to filesize, so it's shown separately\n",
    "from misc.utils import sizeof_fmt\n",
    "# args: pass a sep character for better readbility. See sizeof_fmt?? for more details\n",
    "ndf.files_size.describe().apply(sizeof_fmt, args=(' ',))"
   ]
  },
  {
   "cell_type": "markdown",
   "metadata": {},
   "source": [
    "#### Would be interesting to find out what the smallest and biggest files are"
   ]
  },
  {
   "cell_type": "code",
   "execution_count": 25,
   "metadata": {
    "collapsed": false
   },
   "outputs": [
    {
     "data": {
      "text/html": [
       "<div>\n",
       "<table border=\"1\" class=\"dataframe\">\n",
       "  <thead>\n",
       "    <tr style=\"text-align: right;\">\n",
       "      <th></th>\n",
       "      <th>disease_name</th>\n",
       "      <th>sample_type_name</th>\n",
       "      <th>filename</th>\n",
       "      <th>file_type</th>\n",
       "      <th>files_size</th>\n",
       "      <th>files_size_readable</th>\n",
       "      <th>library_type</th>\n",
       "      <th>state</th>\n",
       "    </tr>\n",
       "  </thead>\n",
       "  <tbody>\n",
       "    <tr>\n",
       "      <th>0</th>\n",
       "      <td>COLON ADENOCARCINOMA</td>\n",
       "      <td>Primary solid Tumor</td>\n",
       "      <td>UNCID_2206900.559bc3f5-8d24-4740-942f-a2504739c917.110817_UNC6-RDR300211_00122_FC_6315AAXX_6.tar.gz</td>\n",
       "      <td>fasta</td>\n",
       "      <td>2.918121e+08</td>\n",
       "      <td>278.3MB</td>\n",
       "      <td>RNA-Seq</td>\n",
       "      <td>Live</td>\n",
       "    </tr>\n",
       "    <tr>\n",
       "      <th>11373</th>\n",
       "      <td>OVARIAN SEROUS CYSTADENOCARCINOMA</td>\n",
       "      <td>Primary solid Tumor</td>\n",
       "      <td>TCGA-29-1699-01A-01R-1567-13_rnaseq_fastq.tar</td>\n",
       "      <td>fasta</td>\n",
       "      <td>2.972934e+10</td>\n",
       "      <td>27.7GB</td>\n",
       "      <td>RNA-Seq</td>\n",
       "      <td>Live</td>\n",
       "    </tr>\n",
       "  </tbody>\n",
       "</table>\n",
       "</div>"
      ],
      "text/plain": [
       "                            disease_name     sample_type_name                                                                                             filename file_type    files_size files_size_readable library_type state\n",
       "0      COLON ADENOCARCINOMA               Primary solid Tumor  UNCID_2206900.559bc3f5-8d24-4740-942f-a2504739c917.110817_UNC6-RDR300211_00122_FC_6315AAXX_6.tar.gz  fasta     2.918121e+08  278.3MB             RNA-Seq      Live\n",
       "11373  OVARIAN SEROUS CYSTADENOCARCINOMA  Primary solid Tumor  TCGA-29-1699-01A-01R-1567-13_rnaseq_fastq.tar                                                        fasta     2.972934e+10  27.7GB              RNA-Seq      Live"
      ]
     },
     "execution_count": 25,
     "metadata": {},
     "output_type": "execute_result"
    }
   ],
   "source": [
    "cols_to_show = ['disease_name', 'sample_type_name', 'filename', 'file_type',\n",
    "                'files_size', 'files_size_readable', 'library_type', 'state']\n",
    "# turn off warning, http://stackoverflow.com/questions/20625582/how-to-deal-with-this-pandas-warning\n",
    "ndf.is_copy = False\n",
    "ndf['files_size_readable'] = ndf.files_size.apply(sizeof_fmt)\n",
    "sorted_ndf = ndf.sort_values('files_size').reset_index()\n",
    "sorted_ndf.ix[[0,sorted_ndf.shape[0]-1]][cols_to_show]"
   ]
  },
  {
   "cell_type": "markdown",
   "metadata": {},
   "source": [
    "#### File sizes distribution"
   ]
  },
  {
   "cell_type": "code",
   "execution_count": 28,
   "metadata": {
    "collapsed": false
   },
   "outputs": [
    {
     "data": {
      "text/plain": [
       "<matplotlib.axes._subplots.AxesSubplot at 0x7fe0f3722f28>"
      ]
     },
     "execution_count": 28,
     "metadata": {},
     "output_type": "execute_result"
    },
    {
     "data": {
      "image/png": "[encoded data removed]",
      "text/plain": [
       "<matplotlib.figure.Figure at 0x7fe0f3688080>"
      ]
     },
     "metadata": {},
     "output_type": "display_data"
    }
   ],
   "source": [
    "ndf.files_size.plot(kind='hist', bins=200)"
   ]
  },
  {
   "cell_type": "code",
   "execution_count": 30,
   "metadata": {
    "collapsed": false
   },
   "outputs": [
    {
     "data": {
      "text/plain": [
       "'18.6GB'"
      ]
     },
     "execution_count": 30,
     "metadata": {},
     "output_type": "execute_result"
    }
   ],
   "source": [
    "sizeof_fmt(2e10)"
   ]
  },
  {
   "cell_type": "code",
   "execution_count": 31,
   "metadata": {
    "collapsed": false
   },
   "outputs": [
    {
     "data": {
      "text/plain": [
       "'0.46%'"
      ]
     },
     "execution_count": 31,
     "metadata": {},
     "output_type": "execute_result"
    }
   ],
   "source": [
    "'{0:.2%}'.format(ndf[ndf.files_size > 2e10].shape[0] / float(ndf.shape[0]))"
   ]
  },
  {
   "cell_type": "markdown",
   "metadata": {},
   "source": [
    "So only 0.81% of the files are above 18.6 GB, and the majority are below."
   ]
  },
  {
   "cell_type": "markdown",
   "metadata": {},
   "source": [
    "#### Look at a particular normal vs tumor pair"
   ]
  },
  {
   "cell_type": "code",
   "execution_count": 32,
   "metadata": {
    "collapsed": false
   },
   "outputs": [
    {
     "data": {
      "text/html": [
       "<div>\n",
       "<table border=\"1\" class=\"dataframe\">\n",
       "  <thead>\n",
       "    <tr style=\"text-align: right;\">\n",
       "      <th></th>\n",
       "      <th>study</th>\n",
       "      <th>barcode</th>\n",
       "      <th>disease</th>\n",
       "      <th>disease_name</th>\n",
       "      <th>sample_type</th>\n",
       "      <th>sample_type_name</th>\n",
       "      <th>analyte_type</th>\n",
       "      <th>library_type</th>\n",
       "      <th>center</th>\n",
       "      <th>center_name</th>\n",
       "      <th>platform</th>\n",
       "      <th>platform_name</th>\n",
       "      <th>assembly</th>\n",
       "      <th>filename</th>\n",
       "      <th>files_size</th>\n",
       "      <th>checksum</th>\n",
       "      <th>analysis_id</th>\n",
       "      <th>aliquot_id</th>\n",
       "      <th>participant_id</th>\n",
       "      <th>sample_id</th>\n",
       "      <th>tss_id</th>\n",
       "      <th>sample_accession</th>\n",
       "      <th>published</th>\n",
       "      <th>uploaded</th>\n",
       "      <th>modified</th>\n",
       "      <th>state</th>\n",
       "      <th>sample_type_code</th>\n",
       "      <th>analyte_type_code</th>\n",
       "      <th>platform_full_name</th>\n",
       "      <th>file_type</th>\n",
       "      <th>reason</th>\n",
       "      <th>reagent_vendor</th>\n",
       "      <th>reagent_name</th>\n",
       "      <th>catalog_number</th>\n",
       "      <th>is_custom</th>\n",
       "      <th>target_file_url</th>\n",
       "      <th>probe_file_url</th>\n",
       "      <th>handy_disease_names</th>\n",
       "      <th>files_size_readable</th>\n",
       "    </tr>\n",
       "  </thead>\n",
       "  <tbody>\n",
       "    <tr>\n",
       "      <th>7188</th>\n",
       "      <td>TCGA</td>\n",
       "      <td>TCGA-BC-A10Q-11A-11R-A131-07</td>\n",
       "      <td>LIHC</td>\n",
       "      <td>LIVER HEPATOCELLULAR CARCINOMA</td>\n",
       "      <td>NT</td>\n",
       "      <td>Solid Tissue Normal</td>\n",
       "      <td>RNA</td>\n",
       "      <td>RNA-Seq</td>\n",
       "      <td>UNC-LCCC</td>\n",
       "      <td>NaN</td>\n",
       "      <td>ILLUMINA</td>\n",
       "      <td>Illumina</td>\n",
       "      <td>unaligned</td>\n",
       "      <td>UNCID_2207989.469f052a-477e-498a-ba3b-f288dcbc306f.110629_UNC14-SN744_0136_AD0CV5ABXX_3_ACTTGA.tar.gz</td>\n",
       "      <td>5.833322e+09</td>\n",
       "      <td>ed9eb3a96c2b37aabc75df35aef38196</td>\n",
       "      <td>66b0260b-f242-4eea-9c9f-a96e1ec7f0f9</td>\n",
       "      <td>469f052a-477e-498a-ba3b-f288dcbc306f</td>\n",
       "      <td>dfa15fbe-bb14-40ce-afc6-70694112e3e2</td>\n",
       "      <td>5d3bf988-3331-4412-bc17-b8f4650a8623</td>\n",
       "      <td>BC</td>\n",
       "      <td>NaN</td>\n",
       "      <td>2013-09-30</td>\n",
       "      <td>2013-09-30</td>\n",
       "      <td>2013-09-30</td>\n",
       "      <td>Live</td>\n",
       "      <td>11</td>\n",
       "      <td>R</td>\n",
       "      <td>Illumina HiSeq 2000</td>\n",
       "      <td>fasta</td>\n",
       "      <td>NaN</td>\n",
       "      <td>NaN</td>\n",
       "      <td>NaN</td>\n",
       "      <td>NaN</td>\n",
       "      <td>NaN</td>\n",
       "      <td>NaN</td>\n",
       "      <td>NaN</td>\n",
       "      <td>LIHC: Liver Hepatocellular Carcinoma</td>\n",
       "      <td>5.4GB</td>\n",
       "    </tr>\n",
       "    <tr>\n",
       "      <th>7189</th>\n",
       "      <td>TCGA</td>\n",
       "      <td>TCGA-BC-A10Q-01A-11R-A131-07</td>\n",
       "      <td>LIHC</td>\n",
       "      <td>LIVER HEPATOCELLULAR CARCINOMA</td>\n",
       "      <td>TP</td>\n",
       "      <td>Primary solid Tumor</td>\n",
       "      <td>RNA</td>\n",
       "      <td>RNA-Seq</td>\n",
       "      <td>UNC-LCCC</td>\n",
       "      <td>NaN</td>\n",
       "      <td>ILLUMINA</td>\n",
       "      <td>Illumina</td>\n",
       "      <td>unaligned</td>\n",
       "      <td>UNCID_2207997.19c97e3d-f5af-4301-92f4-be8ac9e27427.110629_UNC14-SN744_0136_AD0CV5ABXX_2_TTAGGC.tar.gz</td>\n",
       "      <td>5.242180e+09</td>\n",
       "      <td>98232bfea569de53517aa9d06f2f2781</td>\n",
       "      <td>1e2cc863-1123-451c-a295-0323fb421188</td>\n",
       "      <td>19c97e3d-f5af-4301-92f4-be8ac9e27427</td>\n",
       "      <td>dfa15fbe-bb14-40ce-afc6-70694112e3e2</td>\n",
       "      <td>bf225dc1-4309-4304-849e-cbcc23c8442c</td>\n",
       "      <td>BC</td>\n",
       "      <td>NaN</td>\n",
       "      <td>2013-09-30</td>\n",
       "      <td>2013-09-30</td>\n",
       "      <td>2013-09-30</td>\n",
       "      <td>Live</td>\n",
       "      <td>01</td>\n",
       "      <td>R</td>\n",
       "      <td>Illumina HiSeq 2000</td>\n",
       "      <td>fasta</td>\n",
       "      <td>NaN</td>\n",
       "      <td>NaN</td>\n",
       "      <td>NaN</td>\n",
       "      <td>NaN</td>\n",
       "      <td>NaN</td>\n",
       "      <td>NaN</td>\n",
       "      <td>NaN</td>\n",
       "      <td>LIHC: Liver Hepatocellular Carcinoma</td>\n",
       "      <td>4.9GB</td>\n",
       "    </tr>\n",
       "  </tbody>\n",
       "</table>\n",
       "</div>"
      ],
      "text/plain": [
       "     study                       barcode disease                    disease_name sample_type     sample_type_name analyte_type library_type    center  center_name  platform platform_name   assembly  \\\n",
       "7188  TCGA  TCGA-BC-A10Q-11A-11R-A131-07  LIHC    LIVER HEPATOCELLULAR CARCINOMA  NT          Solid Tissue Normal  RNA          RNA-Seq      UNC-LCCC NaN           ILLUMINA  Illumina      unaligned   \n",
       "7189  TCGA  TCGA-BC-A10Q-01A-11R-A131-07  LIHC    LIVER HEPATOCELLULAR CARCINOMA  TP          Primary solid Tumor  RNA          RNA-Seq      UNC-LCCC NaN           ILLUMINA  Illumina      unaligned   \n",
       "\n",
       "                                                                                                   filename    files_size                          checksum                           analysis_id                            aliquot_id                        participant_id  \\\n",
       "7188  UNCID_2207989.469f052a-477e-498a-ba3b-f288dcbc306f.110629_UNC14-SN744_0136_AD0CV5ABXX_3_ACTTGA.tar.gz  5.833322e+09  ed9eb3a96c2b37aabc75df35aef38196  66b0260b-f242-4eea-9c9f-a96e1ec7f0f9  469f052a-477e-498a-ba3b-f288dcbc306f  dfa15fbe-bb14-40ce-afc6-70694112e3e2   \n",
       "7189  UNCID_2207997.19c97e3d-f5af-4301-92f4-be8ac9e27427.110629_UNC14-SN744_0136_AD0CV5ABXX_2_TTAGGC.tar.gz  5.242180e+09  98232bfea569de53517aa9d06f2f2781  1e2cc863-1123-451c-a295-0323fb421188  19c97e3d-f5af-4301-92f4-be8ac9e27427  dfa15fbe-bb14-40ce-afc6-70694112e3e2   \n",
       "\n",
       "                                 sample_id tss_id sample_accession   published    uploaded    modified state sample_type_code analyte_type_code   platform_full_name file_type reason reagent_vendor reagent_name catalog_number is_custom target_file_url probe_file_url  \\\n",
       "7188  5d3bf988-3331-4412-bc17-b8f4650a8623  BC     NaN              2013-09-30  2013-09-30  2013-09-30  Live  11               R                 Illumina HiSeq 2000  fasta     NaN    NaN            NaN          NaN            NaN       NaN             NaN             \n",
       "7189  bf225dc1-4309-4304-849e-cbcc23c8442c  BC     NaN              2013-09-30  2013-09-30  2013-09-30  Live  01               R                 Illumina HiSeq 2000  fasta     NaN    NaN            NaN          NaN            NaN       NaN             NaN             \n",
       "\n",
       "                       handy_disease_names files_size_readable  \n",
       "7188  LIHC: Liver Hepatocellular Carcinoma  5.4GB               \n",
       "7189  LIHC: Liver Hepatocellular Carcinoma  4.9GB               "
      ]
     },
     "execution_count": 32,
     "metadata": {},
     "output_type": "execute_result"
    }
   ],
   "source": [
    "ndf[(ndf.aliquot_id == '469f052a-477e-498a-ba3b-f288dcbc306f') | (ndf.aliquot_id == '19c97e3d-f5af-4301-92f4-be8ac9e27427')]"
   ]
  },
  {
   "cell_type": "code",
   "execution_count": 33,
   "metadata": {
    "collapsed": false
   },
   "outputs": [
    {
     "data": {
      "text/plain": [
       "Primary solid Tumor                                9996\n",
       "Solid Tissue Normal                                742 \n",
       "Metastatic                                         394 \n",
       "Primary Blood Derived Cancer - Peripheral Blood    179 \n",
       "Recurrent Solid Tumor                              50  \n",
       "Additional - New Primary                           11  \n",
       "Control Analyte                                    1   \n",
       "Additional Metastatic                              1   \n",
       "Name: sample_type_name, dtype: int64"
      ]
     },
     "execution_count": 33,
     "metadata": {},
     "output_type": "execute_result"
    }
   ],
   "source": [
    "ndf.sample_type_name.value_counts()"
   ]
  },
  {
   "cell_type": "code",
   "execution_count": null,
   "metadata": {
    "collapsed": true
   },
   "outputs": [],
   "source": []
  }
 ],
 "metadata": {
  "kernelspec": {
   "display_name": "Python 3",
   "language": "python",
   "name": "python3"
  },
  "language_info": {
   "codemirror_mode": {
    "name": "ipython",
    "version": 3
   },
   "file_extension": ".py",
   "mimetype": "text/x-python",
   "name": "python",
   "nbconvert_exporter": "python",
   "pygments_lexer": "ipython3",
   "version": "3.5.2"
  }
 },
 "nbformat": 4,
 "nbformat_minor": 0
}
