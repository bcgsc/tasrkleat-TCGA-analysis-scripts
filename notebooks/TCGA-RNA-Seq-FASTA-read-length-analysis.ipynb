{
 "cells": [
  {
   "cell_type": "code",
   "execution_count": 1,
   "metadata": {
    "collapsed": false
   },
   "outputs": [],
   "source": [
    "import os\n",
    "import re\n",
    "import datetime\n",
    "import tempfile\n",
    "\n",
    "import numpy as np\n",
    "import pandas as pd\n",
    "pd.set_option('display.max_columns', 250)\n",
    "# Don't cut off long string\n",
    "# http://stackoverflow.com/questions/26277757/pandas-to-html-truncates-string-contents\n",
    "pd.set_option('display.max_colwidth', -1)\n",
    "\n",
    "import matplotlib\n",
    "import matplotlib.pyplot as plt\n",
    "matplotlib.style.use('ggplot')\n",
    "%matplotlib inline\n",
    "matplotlib.rcParams['figure.figsize'] = (15, 9)\n",
    "\n",
    "# for auto-reloading external modules\n",
    "# see http://stackoverflow.com/questions/1907993/autoreload-of-modules-in-ipython\n",
    "%load_ext autoreload\n",
    "%autoreload 2"
   ]
  },
  {
   "cell_type": "code",
   "execution_count": 2,
   "metadata": {
    "collapsed": false
   },
   "outputs": [],
   "source": [
    "from misc.utils import sizeof_fmt"
   ]
  },
  {
   "cell_type": "code",
   "execution_count": 3,
   "metadata": {
    "collapsed": false
   },
   "outputs": [
    {
     "name": "stdout",
     "output_type": "stream",
     "text": [
      "2016-09-15\n"
     ]
    }
   ],
   "source": [
    "print(datetime.datetime.now().date())"
   ]
  },
  {
   "cell_type": "code",
   "execution_count": 4,
   "metadata": {
    "collapsed": true
   },
   "outputs": [],
   "source": [
    "df0 = pd.read_csv('data/LATEST_MANIFEST.final.tsv.gz', low_memory=False, sep='\\t', compression='gzip')"
   ]
  },
  {
   "cell_type": "code",
   "execution_count": 5,
   "metadata": {
    "collapsed": false
   },
   "outputs": [
    {
     "data": {
      "text/html": [
       "<div>\n",
       "<table border=\"1\" class=\"dataframe\">\n",
       "  <thead>\n",
       "    <tr style=\"text-align: right;\">\n",
       "      <th></th>\n",
       "      <th>study</th>\n",
       "      <th>barcode</th>\n",
       "      <th>disease</th>\n",
       "      <th>disease_name</th>\n",
       "      <th>sample_type</th>\n",
       "      <th>sample_type_name</th>\n",
       "      <th>analyte_type</th>\n",
       "      <th>library_type</th>\n",
       "      <th>center</th>\n",
       "      <th>center_name</th>\n",
       "      <th>platform</th>\n",
       "      <th>platform_name</th>\n",
       "      <th>assembly</th>\n",
       "      <th>filename</th>\n",
       "      <th>files_size</th>\n",
       "      <th>checksum</th>\n",
       "      <th>analysis_id</th>\n",
       "      <th>aliquot_id</th>\n",
       "      <th>participant_id</th>\n",
       "      <th>sample_id</th>\n",
       "      <th>tss_id</th>\n",
       "      <th>sample_accession</th>\n",
       "      <th>published</th>\n",
       "      <th>uploaded</th>\n",
       "      <th>modified</th>\n",
       "      <th>state</th>\n",
       "      <th>sample_type_code</th>\n",
       "      <th>analyte_type_code</th>\n",
       "      <th>platform_full_name</th>\n",
       "      <th>file_type</th>\n",
       "      <th>reason</th>\n",
       "      <th>reagent_vendor</th>\n",
       "      <th>reagent_name</th>\n",
       "      <th>catalog_number</th>\n",
       "      <th>is_custom</th>\n",
       "      <th>target_file_url</th>\n",
       "      <th>probe_file_url</th>\n",
       "    </tr>\n",
       "  </thead>\n",
       "  <tbody>\n",
       "    <tr>\n",
       "      <th>0</th>\n",
       "      <td>TCGA</td>\n",
       "      <td>TCGA-CN-5363-01A-01R-1436-07</td>\n",
       "      <td>HNSC</td>\n",
       "      <td>HEAD AND NECK SQUAMOUS CELL CARCINOMA</td>\n",
       "      <td>TP</td>\n",
       "      <td>Primary solid Tumor</td>\n",
       "      <td>RNA</td>\n",
       "      <td>RNA-Seq</td>\n",
       "      <td>UNC-LCCC</td>\n",
       "      <td>NaN</td>\n",
       "      <td>ILLUMINA</td>\n",
       "      <td>Illumina</td>\n",
       "      <td>HG19</td>\n",
       "      <td>UNCID_1037354.730eebdc-c67d-4864-8535-6b623cf967a3.sorted_genome_alignments.bam</td>\n",
       "      <td>5.252451e+09</td>\n",
       "      <td>65e18d3b34e6010a7a7fd3a5f809ab31</td>\n",
       "      <td>003c6e42-fc70-44d6-86ac-7f6cd97548e2</td>\n",
       "      <td>730eebdc-c67d-4864-8535-6b623cf967a3</td>\n",
       "      <td>291b069c-9dde-4e1e-8430-85146bc94338</td>\n",
       "      <td>5e4e1e21-8016-4e27-8f72-2411714203e8</td>\n",
       "      <td>CN</td>\n",
       "      <td>NaN</td>\n",
       "      <td>2012-05-03</td>\n",
       "      <td>2012-05-03</td>\n",
       "      <td>2013-05-16</td>\n",
       "      <td>Suppressed</td>\n",
       "      <td>01</td>\n",
       "      <td>R</td>\n",
       "      <td>Illumina HiSeq 2000</td>\n",
       "      <td>bam</td>\n",
       "      <td>This data is being replaced with a newer version of the UNC RNA-Seq pipeline</td>\n",
       "      <td>NaN</td>\n",
       "      <td>NaN</td>\n",
       "      <td>NaN</td>\n",
       "      <td>NaN</td>\n",
       "      <td>NaN</td>\n",
       "      <td>NaN</td>\n",
       "    </tr>\n",
       "  </tbody>\n",
       "</table>\n",
       "</div>"
      ],
      "text/plain": [
       "  study                       barcode disease                           disease_name sample_type     sample_type_name analyte_type library_type    center  center_name  platform platform_name assembly                                                                         filename    files_size  \\\n",
       "0  TCGA  TCGA-CN-5363-01A-01R-1436-07  HNSC    HEAD AND NECK SQUAMOUS CELL CARCINOMA  TP          Primary solid Tumor  RNA          RNA-Seq      UNC-LCCC NaN           ILLUMINA  Illumina      HG19     UNCID_1037354.730eebdc-c67d-4864-8535-6b623cf967a3.sorted_genome_alignments.bam  5.252451e+09   \n",
       "\n",
       "                           checksum                           analysis_id                            aliquot_id                        participant_id                             sample_id tss_id sample_accession   published    uploaded    modified       state sample_type_code analyte_type_code  \\\n",
       "0  65e18d3b34e6010a7a7fd3a5f809ab31  003c6e42-fc70-44d6-86ac-7f6cd97548e2  730eebdc-c67d-4864-8535-6b623cf967a3  291b069c-9dde-4e1e-8430-85146bc94338  5e4e1e21-8016-4e27-8f72-2411714203e8  CN     NaN              2012-05-03  2012-05-03  2013-05-16  Suppressed  01               R                  \n",
       "\n",
       "    platform_full_name file_type                                                                        reason reagent_vendor reagent_name catalog_number is_custom target_file_url probe_file_url  \n",
       "0  Illumina HiSeq 2000  bam       This data is being replaced with a newer version of the UNC RNA-Seq pipeline  NaN            NaN          NaN            NaN       NaN             NaN            "
      ]
     },
     "execution_count": 5,
     "metadata": {},
     "output_type": "execute_result"
    }
   ],
   "source": [
    "df0.head(1)"
   ]
  },
  {
   "cell_type": "markdown",
   "metadata": {},
   "source": [
    "`RNAseq_FastQC.csv.gz` is exported from https://bigquery.cloud.google.com/table/isb-cgc:tcga_seq_metadata.RNAseq_FastQC"
   ]
  },
  {
   "cell_type": "code",
   "execution_count": 6,
   "metadata": {
    "collapsed": false
   },
   "outputs": [],
   "source": [
    "df1 = pd.read_csv('data/RNAseq_FastQC.csv.gz', compression='gzip')"
   ]
  },
  {
   "cell_type": "code",
   "execution_count": 7,
   "metadata": {
    "collapsed": false
   },
   "outputs": [
    {
     "data": {
      "text/html": [
       "<div>\n",
       "<table border=\"1\" class=\"dataframe\">\n",
       "  <thead>\n",
       "    <tr style=\"text-align: right;\">\n",
       "      <th></th>\n",
       "      <th>CGHub_analysisID</th>\n",
       "      <th>AliquotBarcode</th>\n",
       "      <th>fastqFilename</th>\n",
       "      <th>FastQC_html_url</th>\n",
       "      <th>FastQC_zip_url</th>\n",
       "      <th>BasicStats</th>\n",
       "      <th>numTotalSeq</th>\n",
       "      <th>numPoorSeq</th>\n",
       "      <th>minLength</th>\n",
       "      <th>maxLength</th>\n",
       "      <th>delLength</th>\n",
       "      <th>pctGC</th>\n",
       "      <th>PerBaseSeqQual</th>\n",
       "      <th>PBSQ10_0</th>\n",
       "      <th>PBSQ50_0</th>\n",
       "      <th>PBSQ10_1</th>\n",
       "      <th>PBSQ50_1</th>\n",
       "      <th>PBSQ10_2</th>\n",
       "      <th>PBSQ50_2</th>\n",
       "      <th>PBSQ10_3</th>\n",
       "      <th>PBSQ50_3</th>\n",
       "      <th>PBSQ10_4</th>\n",
       "      <th>PBSQ50_4</th>\n",
       "      <th>PBSQ10_5</th>\n",
       "      <th>PBSQ50_5</th>\n",
       "      <th>PBSQ10_6</th>\n",
       "      <th>PBSQ50_6</th>\n",
       "      <th>PBSQ10_7</th>\n",
       "      <th>PBSQ50_7</th>\n",
       "      <th>PBSQ10_8</th>\n",
       "      <th>PBSQ50_8</th>\n",
       "      <th>PBSQ10_9</th>\n",
       "      <th>PBSQ50_9</th>\n",
       "      <th>PBSQ10_10</th>\n",
       "      <th>PBSQ50_10</th>\n",
       "      <th>PerTileSeqQual</th>\n",
       "      <th>PerSeqQualScore</th>\n",
       "      <th>PSQC_0</th>\n",
       "      <th>PSQC_1</th>\n",
       "      <th>PSQC_2</th>\n",
       "      <th>PSQC_3</th>\n",
       "      <th>PSQC_4</th>\n",
       "      <th>PSQC_5</th>\n",
       "      <th>PSQC_6</th>\n",
       "      <th>PSQC_7</th>\n",
       "      <th>PSQC_8</th>\n",
       "      <th>PSQC_9</th>\n",
       "      <th>PSQC_10</th>\n",
       "      <th>PerBaseSeqCont</th>\n",
       "      <th>PBSC_G_0</th>\n",
       "      <th>PBSC_A_0</th>\n",
       "      <th>PBSC_T_0</th>\n",
       "      <th>PBSC_C_0</th>\n",
       "      <th>PBSC_G_1</th>\n",
       "      <th>PBSC_A_1</th>\n",
       "      <th>PBSC_T_1</th>\n",
       "      <th>PBSC_C_1</th>\n",
       "      <th>PBSC_G_2</th>\n",
       "      <th>PBSC_A_2</th>\n",
       "      <th>PBSC_T_2</th>\n",
       "      <th>PBSC_C_2</th>\n",
       "      <th>PBSC_G_3</th>\n",
       "      <th>PBSC_A_3</th>\n",
       "      <th>PBSC_T_3</th>\n",
       "      <th>PBSC_C_3</th>\n",
       "      <th>PBSC_G_4</th>\n",
       "      <th>PBSC_A_4</th>\n",
       "      <th>PBSC_T_4</th>\n",
       "      <th>PBSC_C_4</th>\n",
       "      <th>PBSC_G_5</th>\n",
       "      <th>PBSC_A_5</th>\n",
       "      <th>PBSC_T_5</th>\n",
       "      <th>PBSC_C_5</th>\n",
       "      <th>PBSC_G_6</th>\n",
       "      <th>PBSC_A_6</th>\n",
       "      <th>PBSC_T_6</th>\n",
       "      <th>PBSC_C_6</th>\n",
       "      <th>PBSC_G_7</th>\n",
       "      <th>PBSC_A_7</th>\n",
       "      <th>PBSC_T_7</th>\n",
       "      <th>PBSC_C_7</th>\n",
       "      <th>PBSC_G_8</th>\n",
       "      <th>PBSC_A_8</th>\n",
       "      <th>PBSC_T_8</th>\n",
       "      <th>PBSC_C_8</th>\n",
       "      <th>PBSC_G_9</th>\n",
       "      <th>PBSC_A_9</th>\n",
       "      <th>PBSC_T_9</th>\n",
       "      <th>PBSC_C_9</th>\n",
       "      <th>PBSC_G_10</th>\n",
       "      <th>PBSC_A_10</th>\n",
       "      <th>PBSC_T_10</th>\n",
       "      <th>PBSC_C_10</th>\n",
       "      <th>PerSeqGCcont</th>\n",
       "      <th>PSGCC_0</th>\n",
       "      <th>PSGCC_1</th>\n",
       "      <th>PSGCC_2</th>\n",
       "      <th>PSGCC_3</th>\n",
       "      <th>PSGCC_4</th>\n",
       "      <th>PSGCC_5</th>\n",
       "      <th>PSGCC_6</th>\n",
       "      <th>PSGCC_7</th>\n",
       "      <th>PSGCC_8</th>\n",
       "      <th>PSGCC_9</th>\n",
       "      <th>PSGCC_10</th>\n",
       "      <th>PerBaseNcont</th>\n",
       "      <th>PBNC_1</th>\n",
       "      <th>PBNC_2</th>\n",
       "      <th>PBNC_3</th>\n",
       "      <th>PBNC_4</th>\n",
       "      <th>PBNC_5</th>\n",
       "      <th>PBNC_6</th>\n",
       "      <th>PBNC_7</th>\n",
       "      <th>PBNC_8</th>\n",
       "      <th>PBNC_9</th>\n",
       "      <th>PBNC_10</th>\n",
       "      <th>SeqLenDist</th>\n",
       "      <th>SLD_modeVal</th>\n",
       "      <th>SLD_neg10</th>\n",
       "      <th>SLD_neg9</th>\n",
       "      <th>SLD_neg8</th>\n",
       "      <th>SLD_neg7</th>\n",
       "      <th>SLD_neg6</th>\n",
       "      <th>SLD_neg5</th>\n",
       "      <th>SLD_neg4</th>\n",
       "      <th>SLD_neg3</th>\n",
       "      <th>SLD_neg2</th>\n",
       "      <th>SLD_neg1</th>\n",
       "      <th>SLD_mode</th>\n",
       "      <th>SLD_pos1</th>\n",
       "      <th>SLD_pos2</th>\n",
       "      <th>SLD_pos3</th>\n",
       "      <th>SLD_pos4</th>\n",
       "      <th>SLD_pos5</th>\n",
       "      <th>SLD_pos6</th>\n",
       "      <th>SLD_pos7</th>\n",
       "      <th>SLD_pos8</th>\n",
       "      <th>SLD_pos9</th>\n",
       "      <th>SLD_pos10</th>\n",
       "      <th>SeqDupLev</th>\n",
       "      <th>Total_Dedup_Pct</th>\n",
       "      <th>Dedup_relPct_1</th>\n",
       "      <th>Dedup_relPct_2</th>\n",
       "      <th>Dedup_relPct_3</th>\n",
       "      <th>Dedup_relPct_4</th>\n",
       "      <th>Dedup_relPct_5</th>\n",
       "      <th>Dedup_relPct_6</th>\n",
       "      <th>Dedup_relPct_7</th>\n",
       "      <th>Dedup_relPct_8</th>\n",
       "      <th>Dedup_relPct_9</th>\n",
       "      <th>Dedup_relPct_ge10</th>\n",
       "      <th>Dedup_relPct_ge50</th>\n",
       "      <th>Dedup_relPct_ge100</th>\n",
       "      <th>Dedup_relPct_ge500</th>\n",
       "      <th>Dedup_relPct_ge1k</th>\n",
       "      <th>Dedup_relPct_ge5k</th>\n",
       "      <th>Dedup_relPct_ge10k</th>\n",
       "      <th>OverrepSeq</th>\n",
       "      <th>OverRepSeq_1</th>\n",
       "      <th>OverRepSeq_1_Pct</th>\n",
       "      <th>OverRepSeq_2</th>\n",
       "      <th>OverRepSeq_2_Pct</th>\n",
       "      <th>OverRepSeq_3</th>\n",
       "      <th>OverRepSeq_3_Pct</th>\n",
       "      <th>AdaptCont</th>\n",
       "      <th>KmerCont</th>\n",
       "      <th>Kmer_Seq_1</th>\n",
       "      <th>Kmer_Ratio_1</th>\n",
       "      <th>Kmer_Seq_2</th>\n",
       "      <th>Kmer_Ratio_2</th>\n",
       "      <th>Kmer_Seq_3</th>\n",
       "      <th>Kmer_Ratio_3</th>\n",
       "      <th>Kmer_Ratio_Min</th>\n",
       "      <th>Kmer_Num_Seq</th>\n",
       "    </tr>\n",
       "  </thead>\n",
       "  <tbody>\n",
       "    <tr>\n",
       "      <th>0</th>\n",
       "      <td>00065a62-5e18-4223-a884-12fca053a109</td>\n",
       "      <td>TCGA-2Z-A9J3-01A-12R-A38C-07</td>\n",
       "      <td>140516_UNC12-SN629_0369_AC4GGKACXX_GGCTAC_L002_1.fastq</td>\n",
       "      <td>https://storage.cloud.google.com/isb-cgc-open/tcga-qc/KIRP/RNA/RNA-Seq/UNC-LCCC/ILLUMINA/00065a62-5e18-4223-a884-12fca053a109-140516_UNC12-SN629_0369_AC4GGKACXX_GGCTAC_L002_1_fastqc.html</td>\n",
       "      <td>https://storage.cloud.google.com/isb-cgc-open/tcga-qc/KIRP/RNA/RNA-Seq/UNC-LCCC/ILLUMINA/00065a62-5e18-4223-a884-12fca053a109-140516_UNC12-SN629_0369_AC4GGKACXX_GGCTAC_L002_1_fastqc.zip</td>\n",
       "      <td>pass</td>\n",
       "      <td>78492984</td>\n",
       "      <td>0</td>\n",
       "      <td>48</td>\n",
       "      <td>48</td>\n",
       "      <td>1</td>\n",
       "      <td>50</td>\n",
       "      <td>pass</td>\n",
       "      <td>31</td>\n",
       "      <td>34</td>\n",
       "      <td>35.0</td>\n",
       "      <td>37</td>\n",
       "      <td>35.0</td>\n",
       "      <td>39.0</td>\n",
       "      <td>36.0</td>\n",
       "      <td>40.0</td>\n",
       "      <td>35.0</td>\n",
       "      <td>40.0</td>\n",
       "      <td>35.0</td>\n",
       "      <td>40.0</td>\n",
       "      <td>35.0</td>\n",
       "      <td>40.0</td>\n",
       "      <td>34.0</td>\n",
       "      <td>40.0</td>\n",
       "      <td>34.0</td>\n",
       "      <td>40.0</td>\n",
       "      <td>33.0</td>\n",
       "      <td>40.0</td>\n",
       "      <td>31</td>\n",
       "      <td>38</td>\n",
       "      <td>pass</td>\n",
       "      <td>pass</td>\n",
       "      <td>2</td>\n",
       "      <td>34</td>\n",
       "      <td>36</td>\n",
       "      <td>37</td>\n",
       "      <td>38</td>\n",
       "      <td>38</td>\n",
       "      <td>39</td>\n",
       "      <td>39</td>\n",
       "      <td>39</td>\n",
       "      <td>39</td>\n",
       "      <td>39</td>\n",
       "      <td>fail</td>\n",
       "      <td>27.53003</td>\n",
       "      <td>12.408029</td>\n",
       "      <td>17.071692</td>\n",
       "      <td>42.990249</td>\n",
       "      <td>23.629694</td>\n",
       "      <td>33.048944</td>\n",
       "      <td>20.767008</td>\n",
       "      <td>22.554355</td>\n",
       "      <td>23.770993</td>\n",
       "      <td>34.710779</td>\n",
       "      <td>21.8498</td>\n",
       "      <td>19.668428</td>\n",
       "      <td>24.409745</td>\n",
       "      <td>24.892885</td>\n",
       "      <td>25.559626</td>\n",
       "      <td>25.137745</td>\n",
       "      <td>25.024649</td>\n",
       "      <td>24.871529</td>\n",
       "      <td>25.20849</td>\n",
       "      <td>24.895332</td>\n",
       "      <td>24.597984</td>\n",
       "      <td>25.573245</td>\n",
       "      <td>25.093488</td>\n",
       "      <td>24.735283</td>\n",
       "      <td>25.257113</td>\n",
       "      <td>25.034442</td>\n",
       "      <td>24.996694</td>\n",
       "      <td>24.711751</td>\n",
       "      <td>25.14993</td>\n",
       "      <td>24.964309</td>\n",
       "      <td>24.835695</td>\n",
       "      <td>25.050066</td>\n",
       "      <td>24.531676</td>\n",
       "      <td>25.426731</td>\n",
       "      <td>25.08686</td>\n",
       "      <td>24.954734</td>\n",
       "      <td>24.619681</td>\n",
       "      <td>25.010791</td>\n",
       "      <td>25.409735</td>\n",
       "      <td>24.959794</td>\n",
       "      <td>24.438681</td>\n",
       "      <td>25.514561</td>\n",
       "      <td>25.489523</td>\n",
       "      <td>24.557236</td>\n",
       "      <td>pass</td>\n",
       "      <td>0</td>\n",
       "      <td>34</td>\n",
       "      <td>39</td>\n",
       "      <td>43</td>\n",
       "      <td>47</td>\n",
       "      <td>50</td>\n",
       "      <td>54</td>\n",
       "      <td>57</td>\n",
       "      <td>61</td>\n",
       "      <td>66</td>\n",
       "      <td>100</td>\n",
       "      <td>pass</td>\n",
       "      <td>0.074186</td>\n",
       "      <td>0.002505</td>\n",
       "      <td>0.002519</td>\n",
       "      <td>0.012485</td>\n",
       "      <td>0.007138</td>\n",
       "      <td>0.006976</td>\n",
       "      <td>0.038672</td>\n",
       "      <td>0.018324</td>\n",
       "      <td>0.000837</td>\n",
       "      <td>0.000001</td>\n",
       "      <td>pass</td>\n",
       "      <td>48</td>\n",
       "      <td>NaN</td>\n",
       "      <td>NaN</td>\n",
       "      <td>NaN</td>\n",
       "      <td>NaN</td>\n",
       "      <td>NaN</td>\n",
       "      <td>NaN</td>\n",
       "      <td>NaN</td>\n",
       "      <td>NaN</td>\n",
       "      <td>NaN</td>\n",
       "      <td>NaN</td>\n",
       "      <td>1.0</td>\n",
       "      <td>NaN</td>\n",
       "      <td>NaN</td>\n",
       "      <td>NaN</td>\n",
       "      <td>NaN</td>\n",
       "      <td>NaN</td>\n",
       "      <td>NaN</td>\n",
       "      <td>NaN</td>\n",
       "      <td>NaN</td>\n",
       "      <td>NaN</td>\n",
       "      <td>NaN</td>\n",
       "      <td>fail</td>\n",
       "      <td>34.622958</td>\n",
       "      <td>24.206718</td>\n",
       "      <td>9.243894</td>\n",
       "      <td>5.809638</td>\n",
       "      <td>4.151374</td>\n",
       "      <td>3.126133</td>\n",
       "      <td>2.535093</td>\n",
       "      <td>2.090047</td>\n",
       "      <td>1.773165</td>\n",
       "      <td>1.452206</td>\n",
       "      <td>17.49137</td>\n",
       "      <td>5.38317</td>\n",
       "      <td>10.216731</td>\n",
       "      <td>3.750783</td>\n",
       "      <td>7.068727</td>\n",
       "      <td>1.041764</td>\n",
       "      <td>0.659186</td>\n",
       "      <td>warn</td>\n",
       "      <td>GATCGGAAGAGCACACGTCTGAACTCCAGTCACGGCTACATCTCGTAT</td>\n",
       "      <td>0.246763</td>\n",
       "      <td>AGATCGGAAGAGCACACGTCTGAACTCCAGTCACGGCTACATCTCGTA</td>\n",
       "      <td>0.1658</td>\n",
       "      <td>NaN</td>\n",
       "      <td>NaN</td>\n",
       "      <td>pass</td>\n",
       "      <td>fail</td>\n",
       "      <td>CTCGTAT</td>\n",
       "      <td>34.167786</td>\n",
       "      <td>AGATCGG</td>\n",
       "      <td>28.136084</td>\n",
       "      <td>TCTCGTA</td>\n",
       "      <td>20.962118</td>\n",
       "      <td>16.753263</td>\n",
       "      <td>21</td>\n",
       "    </tr>\n",
       "  </tbody>\n",
       "</table>\n",
       "</div>"
      ],
      "text/plain": [
       "                       CGHub_analysisID                AliquotBarcode                                           fastqFilename  \\\n",
       "0  00065a62-5e18-4223-a884-12fca053a109  TCGA-2Z-A9J3-01A-12R-A38C-07  140516_UNC12-SN629_0369_AC4GGKACXX_GGCTAC_L002_1.fastq   \n",
       "\n",
       "                                                                                                                                                                              FastQC_html_url  \\\n",
       "0  https://storage.cloud.google.com/isb-cgc-open/tcga-qc/KIRP/RNA/RNA-Seq/UNC-LCCC/ILLUMINA/00065a62-5e18-4223-a884-12fca053a109-140516_UNC12-SN629_0369_AC4GGKACXX_GGCTAC_L002_1_fastqc.html   \n",
       "\n",
       "                                                                                                                                                                              FastQC_zip_url BasicStats  numTotalSeq  numPoorSeq  minLength  maxLength  delLength  pctGC PerBaseSeqQual  PBSQ10_0  \\\n",
       "0  https://storage.cloud.google.com/isb-cgc-open/tcga-qc/KIRP/RNA/RNA-Seq/UNC-LCCC/ILLUMINA/00065a62-5e18-4223-a884-12fca053a109-140516_UNC12-SN629_0369_AC4GGKACXX_GGCTAC_L002_1_fastqc.zip  pass       78492984     0           48         48         1          50     pass           31         \n",
       "\n",
       "   PBSQ50_0  PBSQ10_1  PBSQ50_1  PBSQ10_2  PBSQ50_2  PBSQ10_3  PBSQ50_3  PBSQ10_4  PBSQ50_4  PBSQ10_5  PBSQ50_5  PBSQ10_6  PBSQ50_6  PBSQ10_7  PBSQ50_7  PBSQ10_8  PBSQ50_8  PBSQ10_9  PBSQ50_9  PBSQ10_10  PBSQ50_10 PerTileSeqQual PerSeqQualScore  PSQC_0  PSQC_1  PSQC_2  PSQC_3  PSQC_4  PSQC_5  \\\n",
       "0  34        35.0      37        35.0      39.0      36.0      40.0      35.0      40.0      35.0      40.0      35.0      40.0      34.0      40.0      34.0      40.0      33.0      40.0      31         38         pass           pass            2       34      36      37      38      38       \n",
       "\n",
       "   PSQC_6  PSQC_7  PSQC_8  PSQC_9  PSQC_10 PerBaseSeqCont  PBSC_G_0   PBSC_A_0   PBSC_T_0   PBSC_C_0   PBSC_G_1   PBSC_A_1   PBSC_T_1   PBSC_C_1   PBSC_G_2   PBSC_A_2  PBSC_T_2   PBSC_C_2   PBSC_G_3   PBSC_A_3   PBSC_T_3   PBSC_C_3   PBSC_G_4   PBSC_A_4  PBSC_T_4   PBSC_C_4   PBSC_G_5   PBSC_A_5  \\\n",
       "0  39      39      39      39      39       fail           27.53003  12.408029  17.071692  42.990249  23.629694  33.048944  20.767008  22.554355  23.770993  34.710779  21.8498   19.668428  24.409745  24.892885  25.559626  25.137745  25.024649  24.871529  25.20849  24.895332  24.597984  25.573245   \n",
       "\n",
       "    PBSC_T_5   PBSC_C_5   PBSC_G_6   PBSC_A_6   PBSC_T_6   PBSC_C_6  PBSC_G_7   PBSC_A_7   PBSC_T_7   PBSC_C_7   PBSC_G_8   PBSC_A_8  PBSC_T_8   PBSC_C_8   PBSC_G_9   PBSC_A_9   PBSC_T_9   PBSC_C_9  PBSC_G_10  PBSC_A_10  PBSC_T_10  PBSC_C_10 PerSeqGCcont  PSGCC_0  PSGCC_1  PSGCC_2  PSGCC_3  \\\n",
       "0  25.093488  24.735283  25.257113  25.034442  24.996694  24.711751  25.14993  24.964309  24.835695  25.050066  24.531676  25.426731  25.08686  24.954734  24.619681  25.010791  25.409735  24.959794  24.438681  25.514561  25.489523  24.557236  pass         0        34       39       43        \n",
       "\n",
       "   PSGCC_4  PSGCC_5  PSGCC_6  PSGCC_7  PSGCC_8  PSGCC_9  PSGCC_10 PerBaseNcont    PBNC_1    PBNC_2    PBNC_3    PBNC_4    PBNC_5    PBNC_6    PBNC_7    PBNC_8    PBNC_9   PBNC_10 SeqLenDist  SLD_modeVal  SLD_neg10  SLD_neg9  SLD_neg8  SLD_neg7  SLD_neg6  SLD_neg5  SLD_neg4  SLD_neg3  SLD_neg2  \\\n",
       "0  47       50       54       57       61       66       100       pass         0.074186  0.002505  0.002519  0.012485  0.007138  0.006976  0.038672  0.018324  0.000837  0.000001  pass       48          NaN        NaN       NaN       NaN       NaN       NaN       NaN       NaN       NaN         \n",
       "\n",
       "   SLD_neg1  SLD_mode  SLD_pos1  SLD_pos2  SLD_pos3  SLD_pos4  SLD_pos5  SLD_pos6  SLD_pos7  SLD_pos8  SLD_pos9  SLD_pos10 SeqDupLev  Total_Dedup_Pct  Dedup_relPct_1  Dedup_relPct_2  Dedup_relPct_3  Dedup_relPct_4  Dedup_relPct_5  Dedup_relPct_6  Dedup_relPct_7  Dedup_relPct_8  Dedup_relPct_9  \\\n",
       "0 NaN        1.0      NaN       NaN       NaN       NaN       NaN       NaN       NaN       NaN       NaN       NaN         fail      34.622958        24.206718       9.243894        5.809638        4.151374        3.126133        2.535093        2.090047        1.773165        1.452206         \n",
       "\n",
       "   Dedup_relPct_ge10  Dedup_relPct_ge50  Dedup_relPct_ge100  Dedup_relPct_ge500  Dedup_relPct_ge1k  Dedup_relPct_ge5k  Dedup_relPct_ge10k OverrepSeq                                      OverRepSeq_1  OverRepSeq_1_Pct                                      OverRepSeq_2  OverRepSeq_2_Pct OverRepSeq_3  \\\n",
       "0  17.49137           5.38317            10.216731           3.750783            7.068727           1.041764           0.659186            warn       GATCGGAAGAGCACACGTCTGAACTCCAGTCACGGCTACATCTCGTAT  0.246763          AGATCGGAAGAGCACACGTCTGAACTCCAGTCACGGCTACATCTCGTA  0.1658            NaN           \n",
       "\n",
       "   OverRepSeq_3_Pct AdaptCont KmerCont Kmer_Seq_1  Kmer_Ratio_1 Kmer_Seq_2  Kmer_Ratio_2 Kmer_Seq_3  Kmer_Ratio_3  Kmer_Ratio_Min  Kmer_Num_Seq  \n",
       "0 NaN                pass      fail     CTCGTAT    34.167786     AGATCGG    28.136084     TCTCGTA    20.962118     16.753263       21            "
      ]
     },
     "execution_count": 7,
     "metadata": {},
     "output_type": "execute_result"
    }
   ],
   "source": [
    "df1.head(1)"
   ]
  },
  {
   "cell_type": "markdown",
   "metadata": {},
   "source": [
    "`GCS_listing_27apr2016.csv.gz` is exported from https://bigquery.cloud.google.com/table/isb-cgc:tcga_seq_metadata.GCS_listing_27apr2016"
   ]
  },
  {
   "cell_type": "code",
   "execution_count": 8,
   "metadata": {
    "collapsed": true
   },
   "outputs": [],
   "source": [
    "df2 = pd.read_csv('data/GCS_listing_27apr2016.csv.gz', compression='gzip')"
   ]
  },
  {
   "cell_type": "code",
   "execution_count": 9,
   "metadata": {
    "collapsed": false
   },
   "outputs": [],
   "source": [
    "df2['pretty_size'] = df2.objectSizeBytes.apply(sizeof_fmt)"
   ]
  },
  {
   "cell_type": "code",
   "execution_count": 10,
   "metadata": {
    "collapsed": false
   },
   "outputs": [
    {
     "data": {
      "text/html": [
       "<div>\n",
       "<table border=\"1\" class=\"dataframe\">\n",
       "  <thead>\n",
       "    <tr style=\"text-align: right;\">\n",
       "      <th></th>\n",
       "      <th>CGHubAnalysisID</th>\n",
       "      <th>AliquotBarcode</th>\n",
       "      <th>AliquotUUID</th>\n",
       "      <th>GCSobject</th>\n",
       "      <th>objectSizeBytes</th>\n",
       "      <th>pretty_size</th>\n",
       "    </tr>\n",
       "  </thead>\n",
       "  <tbody>\n",
       "    <tr>\n",
       "      <th>0</th>\n",
       "      <td>00007994-abeb-4b16-a6ad-7230300a29e9</td>\n",
       "      <td>TCGA-AA-3495-01A-01R-1410-07</td>\n",
       "      <td>c18465ae-447d-46c8-8b54-0156ab502265</td>\n",
       "      <td>gs://5aa919de-0aa0-43ec-9ec3-288481102b6d/tcga/COAD/RNA/RNA-Seq/UNC-LCCC/ILLUMINA/UNCID_1620885.c18465ae-447d-46c8-8b54-0156ab502265.sorted_genome_alignments.bam</td>\n",
       "      <td>1972948726</td>\n",
       "      <td>1.8 GB</td>\n",
       "    </tr>\n",
       "  </tbody>\n",
       "</table>\n",
       "</div>"
      ],
      "text/plain": [
       "                        CGHubAnalysisID                AliquotBarcode                           AliquotUUID                                                                                                                                                          GCSobject  objectSizeBytes  \\\n",
       "0  00007994-abeb-4b16-a6ad-7230300a29e9  TCGA-AA-3495-01A-01R-1410-07  c18465ae-447d-46c8-8b54-0156ab502265  gs://5aa919de-0aa0-43ec-9ec3-288481102b6d/tcga/COAD/RNA/RNA-Seq/UNC-LCCC/ILLUMINA/UNCID_1620885.c18465ae-447d-46c8-8b54-0156ab502265.sorted_genome_alignments.bam  1972948726        \n",
       "\n",
       "  pretty_size  \n",
       "0  1.8 GB      "
      ]
     },
     "execution_count": 10,
     "metadata": {},
     "output_type": "execute_result"
    }
   ],
   "source": [
    "df2.head(1)"
   ]
  },
  {
   "cell_type": "code",
   "execution_count": 11,
   "metadata": {
    "collapsed": false
   },
   "outputs": [
    {
     "name": "stdout",
     "output_type": "stream",
     "text": [
      "(128399, 37)\n",
      "(22408, 174)\n",
      "(83451, 6)\n"
     ]
    }
   ],
   "source": [
    "print(df0.shape)\n",
    "print(df1.shape)\n",
    "print(df2.shape)"
   ]
  },
  {
   "cell_type": "code",
   "execution_count": 12,
   "metadata": {
    "collapsed": false
   },
   "outputs": [
    {
     "data": {
      "text/plain": [
       "(128189,)"
      ]
     },
     "execution_count": 12,
     "metadata": {},
     "output_type": "execute_result"
    }
   ],
   "source": [
    "df0.analysis_id.unique().shape"
   ]
  },
  {
   "cell_type": "code",
   "execution_count": 13,
   "metadata": {
    "collapsed": false
   },
   "outputs": [],
   "source": [
    "ndf = df1.merge(df0, left_on='CGHub_analysisID', right_on='analysis_id')"
   ]
  },
  {
   "cell_type": "code",
   "execution_count": 14,
   "metadata": {
    "collapsed": false
   },
   "outputs": [],
   "source": [
    "ndf = ndf.merge(df2, left_on=['CGHub_analysisID', 'AliquotBarcode'], right_on=['CGHubAnalysisID', 'AliquotBarcode'])"
   ]
  },
  {
   "cell_type": "code",
   "execution_count": 15,
   "metadata": {
    "collapsed": false
   },
   "outputs": [
    {
     "data": {
      "text/plain": [
       "(11340,)"
      ]
     },
     "execution_count": 15,
     "metadata": {},
     "output_type": "execute_result"
    }
   ],
   "source": [
    "ndf.analysis_id.unique().shape"
   ]
  },
  {
   "cell_type": "code",
   "execution_count": 16,
   "metadata": {
    "collapsed": false
   },
   "outputs": [
    {
     "data": {
      "text/plain": [
       "(22408, 216)"
      ]
     },
     "execution_count": 16,
     "metadata": {},
     "output_type": "execute_result"
    }
   ],
   "source": [
    "ndf.shape"
   ]
  },
  {
   "cell_type": "code",
   "execution_count": 17,
   "metadata": {
    "collapsed": false
   },
   "outputs": [
    {
     "data": {
      "text/plain": [
       "array(['CGHub_analysisID', 'AliquotBarcode', 'fastqFilename',\n",
       "       'FastQC_html_url', 'FastQC_zip_url', 'BasicStats', 'numTotalSeq',\n",
       "       'numPoorSeq', 'minLength', 'maxLength', 'delLength', 'pctGC',\n",
       "       'PerBaseSeqQual', 'PBSQ10_0', 'PBSQ50_0', 'PBSQ10_1', 'PBSQ50_1',\n",
       "       'PBSQ10_2', 'PBSQ50_2', 'PBSQ10_3', 'PBSQ50_3', 'PBSQ10_4',\n",
       "       'PBSQ50_4', 'PBSQ10_5', 'PBSQ50_5', 'PBSQ10_6', 'PBSQ50_6',\n",
       "       'PBSQ10_7', 'PBSQ50_7', 'PBSQ10_8', 'PBSQ50_8', 'PBSQ10_9',\n",
       "       'PBSQ50_9', 'PBSQ10_10', 'PBSQ50_10', 'PerTileSeqQual',\n",
       "       'PerSeqQualScore', 'PSQC_0', 'PSQC_1', 'PSQC_2', 'PSQC_3', 'PSQC_4',\n",
       "       'PSQC_5', 'PSQC_6', 'PSQC_7', 'PSQC_8', 'PSQC_9', 'PSQC_10',\n",
       "       'PerBaseSeqCont', 'PBSC_G_0', 'PBSC_A_0', 'PBSC_T_0', 'PBSC_C_0',\n",
       "       'PBSC_G_1', 'PBSC_A_1', 'PBSC_T_1', 'PBSC_C_1', 'PBSC_G_2',\n",
       "       'PBSC_A_2', 'PBSC_T_2', 'PBSC_C_2', 'PBSC_G_3', 'PBSC_A_3',\n",
       "       'PBSC_T_3', 'PBSC_C_3', 'PBSC_G_4', 'PBSC_A_4', 'PBSC_T_4',\n",
       "       'PBSC_C_4', 'PBSC_G_5', 'PBSC_A_5', 'PBSC_T_5', 'PBSC_C_5',\n",
       "       'PBSC_G_6', 'PBSC_A_6', 'PBSC_T_6', 'PBSC_C_6', 'PBSC_G_7',\n",
       "       'PBSC_A_7', 'PBSC_T_7', 'PBSC_C_7', 'PBSC_G_8', 'PBSC_A_8',\n",
       "       'PBSC_T_8', 'PBSC_C_8', 'PBSC_G_9', 'PBSC_A_9', 'PBSC_T_9',\n",
       "       'PBSC_C_9', 'PBSC_G_10', 'PBSC_A_10', 'PBSC_T_10', 'PBSC_C_10',\n",
       "       'PerSeqGCcont', 'PSGCC_0', 'PSGCC_1', 'PSGCC_2', 'PSGCC_3',\n",
       "       'PSGCC_4', 'PSGCC_5', 'PSGCC_6', 'PSGCC_7', 'PSGCC_8', 'PSGCC_9',\n",
       "       'PSGCC_10', 'PerBaseNcont', 'PBNC_1', 'PBNC_2', 'PBNC_3', 'PBNC_4',\n",
       "       'PBNC_5', 'PBNC_6', 'PBNC_7', 'PBNC_8', 'PBNC_9', 'PBNC_10',\n",
       "       'SeqLenDist', 'SLD_modeVal', 'SLD_neg10', 'SLD_neg9', 'SLD_neg8',\n",
       "       'SLD_neg7', 'SLD_neg6', 'SLD_neg5', 'SLD_neg4', 'SLD_neg3',\n",
       "       'SLD_neg2', 'SLD_neg1', 'SLD_mode', 'SLD_pos1', 'SLD_pos2',\n",
       "       'SLD_pos3', 'SLD_pos4', 'SLD_pos5', 'SLD_pos6', 'SLD_pos7',\n",
       "       'SLD_pos8', 'SLD_pos9', 'SLD_pos10', 'SeqDupLev', 'Total_Dedup_Pct',\n",
       "       'Dedup_relPct_1', 'Dedup_relPct_2', 'Dedup_relPct_3',\n",
       "       'Dedup_relPct_4', 'Dedup_relPct_5', 'Dedup_relPct_6',\n",
       "       'Dedup_relPct_7', 'Dedup_relPct_8', 'Dedup_relPct_9',\n",
       "       'Dedup_relPct_ge10', 'Dedup_relPct_ge50', 'Dedup_relPct_ge100',\n",
       "       'Dedup_relPct_ge500', 'Dedup_relPct_ge1k', 'Dedup_relPct_ge5k',\n",
       "       'Dedup_relPct_ge10k', 'OverrepSeq', 'OverRepSeq_1',\n",
       "       'OverRepSeq_1_Pct', 'OverRepSeq_2', 'OverRepSeq_2_Pct',\n",
       "       'OverRepSeq_3', 'OverRepSeq_3_Pct', 'AdaptCont', 'KmerCont',\n",
       "       'Kmer_Seq_1', 'Kmer_Ratio_1', 'Kmer_Seq_2', 'Kmer_Ratio_2',\n",
       "       'Kmer_Seq_3', 'Kmer_Ratio_3', 'Kmer_Ratio_Min', 'Kmer_Num_Seq',\n",
       "       'study', 'barcode', 'disease', 'disease_name', 'sample_type',\n",
       "       'sample_type_name', 'analyte_type', 'library_type', 'center',\n",
       "       'center_name', 'platform', 'platform_name', 'assembly', 'filename',\n",
       "       'files_size', 'checksum', 'analysis_id', 'aliquot_id',\n",
       "       'participant_id', 'sample_id', 'tss_id', 'sample_accession',\n",
       "       'published', 'uploaded', 'modified', 'state', 'sample_type_code',\n",
       "       'analyte_type_code', 'platform_full_name', 'file_type', 'reason',\n",
       "       'reagent_vendor', 'reagent_name', 'catalog_number', 'is_custom',\n",
       "       'target_file_url', 'probe_file_url', 'CGHubAnalysisID',\n",
       "       'AliquotUUID', 'GCSobject', 'objectSizeBytes', 'pretty_size'], dtype=object)"
      ]
     },
     "execution_count": 17,
     "metadata": {},
     "output_type": "execute_result"
    }
   ],
   "source": [
    "ndf.columns.values"
   ]
  },
  {
   "cell_type": "markdown",
   "metadata": {},
   "source": [
    "#### Add some handy columns"
   ]
  },
  {
   "cell_type": "code",
   "execution_count": 18,
   "metadata": {
    "collapsed": false
   },
   "outputs": [],
   "source": [
    "ndf['handy_disease_names'] = ndf.apply(lambda x: '{0}: {1}'.format(\n",
    "        x.disease, ' '.join([_.capitalize() for _ in x.disease_name.split()])), axis=1)"
   ]
  },
  {
   "cell_type": "code",
   "execution_count": 19,
   "metadata": {
    "collapsed": false
   },
   "outputs": [],
   "source": [
    "# Drop columns that are not interested at the moment\n",
    "cols = ndf.columns.values\n",
    "cols_to_drop = [_ for _ in cols if re.search('^Per|^PBSQ|^PSQC|^PBSC|^PSGCC|^PBNC|^SLD_|^Dedup_|^OverRepSeq|^Kmer_', _)]\n",
    "ndf.drop(cols_to_drop, axis=1, inplace=True)"
   ]
  },
  {
   "cell_type": "markdown",
   "metadata": {},
   "source": [
    "## Centers that produce RNA-Seq data"
   ]
  },
  {
   "cell_type": "code",
   "execution_count": 20,
   "metadata": {
    "collapsed": false
   },
   "outputs": [
    {
     "data": {
      "text/plain": [
       "array(['RNA-Seq'], dtype=object)"
      ]
     },
     "execution_count": 20,
     "metadata": {},
     "output_type": "execute_result"
    }
   ],
   "source": [
    "ndf.library_type.unique()"
   ]
  },
  {
   "cell_type": "code",
   "execution_count": 21,
   "metadata": {
    "collapsed": false
   },
   "outputs": [
    {
     "data": {
      "text/plain": [
       "UNC-LCCC    19238\n",
       "BCCAGSC     2830 \n",
       "BI          340  \n",
       "Name: center, dtype: int64"
      ]
     },
     "execution_count": 21,
     "metadata": {},
     "output_type": "execute_result"
    }
   ],
   "source": [
    "ndf[ndf.library_type == 'RNA-Seq'].center.value_counts()"
   ]
  },
  {
   "cell_type": "code",
   "execution_count": 22,
   "metadata": {
    "collapsed": true
   },
   "outputs": [],
   "source": [
    "unc_df = ndf[ndf.center == 'UNC-LCCC']\n",
    "gsc_df = ndf[ndf.center == 'BCCAGSC']\n",
    "bi_df = ndf[ndf.center == 'BI']"
   ]
  },
  {
   "cell_type": "markdown",
   "metadata": {},
   "source": [
    "#### By disease"
   ]
  },
  {
   "cell_type": "code",
   "execution_count": 23,
   "metadata": {
    "collapsed": false,
    "scrolled": false
   },
   "outputs": [
    {
     "data": {
      "text/plain": [
       "BRCA: Breast Invasive Carcinoma                                           2512\n",
       "KIRC: Kidney Renal Clear Cell Carcinoma                                   1236\n",
       "LUAD: Lung Adenocarcinoma                                                 1202\n",
       "THCA: Thyroid Carcinoma                                                   1144\n",
       "HNSC: Head And Neck Squamous Cell Carcinoma                               1132\n",
       "PRAD: Prostate Adenocarcinoma                                             1116\n",
       "LUSC: Lung Squamous Cell Carcinoma                                        1110\n",
       "LGG: Brain Lower Grade Glioma                                             1068\n",
       "SKCM: Skin Cutaneous Melanoma                                             946 \n",
       "COAD: Colon Adenocarcinoma                                                900 \n",
       "BLCA: Bladder Urothelial Carcinoma                                        866 \n",
       "LIHC: Liver Hepatocellular Carcinoma                                      848 \n",
       "UCEC: Uterine Corpus Endometrioid Carcinoma                               802 \n",
       "KIRP: Kidney Renal Papillary Cell Carcinoma                               646 \n",
       "CESC: Cervical Squamous Cell Carcinoma And Endocervical Adenocarcinoma    618 \n",
       "SARC: Sarcoma                                                             530 \n",
       "PCPG: Pheochromocytoma And Paraganglioma                                  374 \n",
       "PAAD: Pancreatic Adenocarcinoma                                           366 \n",
       "TGCT: Testicular Germ Cell Tumors                                         312 \n",
       "READ: Rectum Adenocarcinoma                                               282 \n",
       "THYM: Thymoma                                                             244 \n",
       "KICH: Kidney Chromophobe                                                  182 \n",
       "MESO: Mesothelioma                                                        174 \n",
       "UVM: Uveal Melanoma                                                       160 \n",
       "ACC: Adrenocortical Carcinoma                                             158 \n",
       "UCS: Uterine Carcinosarcoma                                               114 \n",
       "DLBC: Lymphoid Neoplasm Diffuse Large B-cell Lymphoma                     96  \n",
       "CHOL: Cholangiocarcinoma                                                  90  \n",
       "GBM: Glioblastoma Multiforme                                              10  \n",
       "Name: handy_disease_names, dtype: int64"
      ]
     },
     "execution_count": 23,
     "metadata": {},
     "output_type": "execute_result"
    }
   ],
   "source": [
    "unc_df.handy_disease_names.value_counts()"
   ]
  },
  {
   "cell_type": "code",
   "execution_count": 24,
   "metadata": {
    "collapsed": false
   },
   "outputs": [
    {
     "data": {
      "text/plain": [
       "STAD: Stomach Adenocarcinoma             968\n",
       "OV: Ovarian Serous Cystadenocarcinoma    858\n",
       "LAML: Acute Myeloid Leukemia             608\n",
       "ESCA: Esophageal Carcinoma               396\n",
       "Name: handy_disease_names, dtype: int64"
      ]
     },
     "execution_count": 24,
     "metadata": {},
     "output_type": "execute_result"
    }
   ],
   "source": [
    "gsc_df.handy_disease_names.value_counts()"
   ]
  },
  {
   "cell_type": "code",
   "execution_count": 25,
   "metadata": {
    "collapsed": false,
    "scrolled": false
   },
   "outputs": [
    {
     "data": {
      "text/plain": [
       "GBM: Glioblastoma Multiforme    340\n",
       "Name: handy_disease_names, dtype: int64"
      ]
     },
     "execution_count": 25,
     "metadata": {},
     "output_type": "execute_result"
    }
   ],
   "source": [
    "bi_df.handy_disease_names.value_counts()"
   ]
  },
  {
   "cell_type": "markdown",
   "metadata": {},
   "source": [
    "#### By sample type"
   ]
  },
  {
   "cell_type": "code",
   "execution_count": 26,
   "metadata": {
    "collapsed": false
   },
   "outputs": [
    {
     "data": {
      "text/plain": [
       "Primary solid Tumor         16997\n",
       "Solid Tissue Normal         1373 \n",
       "Metastatic                  786  \n",
       "Recurrent Solid Tumor       58   \n",
       "Additional - New Primary    22   \n",
       "Additional Metastatic       2    \n",
       "Name: sample_type_name, dtype: int64"
      ]
     },
     "execution_count": 26,
     "metadata": {},
     "output_type": "execute_result"
    }
   ],
   "source": [
    "unc_df.sample_type_name.value_counts()"
   ]
  },
  {
   "cell_type": "code",
   "execution_count": 27,
   "metadata": {
    "collapsed": false,
    "scrolled": true
   },
   "outputs": [
    {
     "data": {
      "text/plain": [
       "Primary solid Tumor                                2106\n",
       "Primary Blood Derived Cancer - Peripheral Blood    608 \n",
       "Solid Tissue Normal                                98  \n",
       "Recurrent Solid Tumor                              16  \n",
       "Metastatic                                         2   \n",
       "Name: sample_type_name, dtype: int64"
      ]
     },
     "execution_count": 27,
     "metadata": {},
     "output_type": "execute_result"
    }
   ],
   "source": [
    "gsc_df.sample_type_name.value_counts()"
   ]
  },
  {
   "cell_type": "code",
   "execution_count": 28,
   "metadata": {
    "collapsed": false
   },
   "outputs": [
    {
     "data": {
      "text/plain": [
       "Primary solid Tumor      314\n",
       "Recurrent Solid Tumor    26 \n",
       "Name: sample_type_name, dtype: int64"
      ]
     },
     "execution_count": 28,
     "metadata": {},
     "output_type": "execute_result"
    }
   ],
   "source": [
    "bi_df.sample_type_name.value_counts()"
   ]
  },
  {
   "cell_type": "markdown",
   "metadata": {},
   "source": [
    "#### by platform full names"
   ]
  },
  {
   "cell_type": "code",
   "execution_count": 29,
   "metadata": {
    "collapsed": false
   },
   "outputs": [
    {
     "data": {
      "text/plain": [
       "Illumina HiSeq 2000             20968\n",
       "Illumina Genome Analyzer IIx    736  \n",
       "Illumina Genome Analyzer II     648  \n",
       "Illumina HiSeq 2500             56   \n",
       "Name: platform_full_name, dtype: int64"
      ]
     },
     "execution_count": 29,
     "metadata": {},
     "output_type": "execute_result"
    }
   ],
   "source": [
    "ndf.platform_full_name.value_counts()"
   ]
  },
  {
   "cell_type": "code",
   "execution_count": 30,
   "metadata": {
    "collapsed": false
   },
   "outputs": [
    {
     "data": {
      "text/plain": [
       "Illumina HiSeq 2000            18590\n",
       "Illumina Genome Analyzer II    648  \n",
       "Name: platform_full_name, dtype: int64"
      ]
     },
     "execution_count": 30,
     "metadata": {},
     "output_type": "execute_result"
    }
   ],
   "source": [
    "unc_df.platform_full_name.value_counts()"
   ]
  },
  {
   "cell_type": "code",
   "execution_count": 31,
   "metadata": {
    "collapsed": false
   },
   "outputs": [
    {
     "data": {
      "text/plain": [
       "Illumina HiSeq 2000             2038\n",
       "Illumina Genome Analyzer IIx    736 \n",
       "Illumina HiSeq 2500             56  \n",
       "Name: platform_full_name, dtype: int64"
      ]
     },
     "execution_count": 31,
     "metadata": {},
     "output_type": "execute_result"
    }
   ],
   "source": [
    "gsc_df.platform_full_name.value_counts()"
   ]
  },
  {
   "cell_type": "code",
   "execution_count": 32,
   "metadata": {
    "collapsed": false
   },
   "outputs": [
    {
     "data": {
      "text/plain": [
       "Illumina HiSeq 2000    340\n",
       "Name: platform_full_name, dtype: int64"
      ]
     },
     "execution_count": 32,
     "metadata": {},
     "output_type": "execute_result"
    }
   ],
   "source": [
    "bi_df.platform_full_name.value_counts()"
   ]
  },
  {
   "cell_type": "markdown",
   "metadata": {},
   "source": [
    "### Some verification"
   ]
  },
  {
   "cell_type": "code",
   "execution_count": 33,
   "metadata": {
    "collapsed": false
   },
   "outputs": [
    {
     "name": "stdout",
     "output_type": "stream",
     "text": [
      "TCGA    22408\n",
      "Name: study, dtype: int64\n",
      "RNA-Seq    22408\n",
      "Name: library_type, dtype: int64\n",
      "Live    22408\n",
      "Name: state, dtype: int64\n",
      "fasta    22408\n",
      "Name: file_type, dtype: int64\n"
     ]
    }
   ],
   "source": [
    "for col in ['study', 'library_type', 'state', 'file_type']:\n",
    "    print(ndf[col].value_counts())\n",
    "    print"
   ]
  },
  {
   "cell_type": "markdown",
   "metadata": {},
   "source": [
    "#### Drop analysis ids with inconsistent read length"
   ]
  },
  {
   "cell_type": "code",
   "execution_count": 34,
   "metadata": {
    "collapsed": false,
    "scrolled": false
   },
   "outputs": [
    {
     "data": {
      "text/plain": [
       "1     22407\n",
       "45    1    \n",
       "Name: delLength, dtype: int64"
      ]
     },
     "execution_count": 34,
     "metadata": {},
     "output_type": "execute_result"
    }
   ],
   "source": [
    "ndf.delLength.value_counts()"
   ]
  },
  {
   "cell_type": "code",
   "execution_count": 35,
   "metadata": {
    "collapsed": false,
    "scrolled": true
   },
   "outputs": [
    {
     "data": {
      "text/html": [
       "<div>\n",
       "<table border=\"1\" class=\"dataframe\">\n",
       "  <thead>\n",
       "    <tr style=\"text-align: right;\">\n",
       "      <th></th>\n",
       "      <th>CGHub_analysisID</th>\n",
       "      <th>AliquotBarcode</th>\n",
       "      <th>fastqFilename</th>\n",
       "      <th>FastQC_html_url</th>\n",
       "      <th>FastQC_zip_url</th>\n",
       "      <th>BasicStats</th>\n",
       "      <th>numTotalSeq</th>\n",
       "      <th>numPoorSeq</th>\n",
       "      <th>minLength</th>\n",
       "      <th>maxLength</th>\n",
       "      <th>delLength</th>\n",
       "      <th>pctGC</th>\n",
       "      <th>SeqLenDist</th>\n",
       "      <th>SeqDupLev</th>\n",
       "      <th>Total_Dedup_Pct</th>\n",
       "      <th>OverrepSeq</th>\n",
       "      <th>AdaptCont</th>\n",
       "      <th>KmerCont</th>\n",
       "      <th>study</th>\n",
       "      <th>barcode</th>\n",
       "      <th>disease</th>\n",
       "      <th>disease_name</th>\n",
       "      <th>sample_type</th>\n",
       "      <th>sample_type_name</th>\n",
       "      <th>analyte_type</th>\n",
       "      <th>library_type</th>\n",
       "      <th>center</th>\n",
       "      <th>center_name</th>\n",
       "      <th>platform</th>\n",
       "      <th>platform_name</th>\n",
       "      <th>assembly</th>\n",
       "      <th>filename</th>\n",
       "      <th>files_size</th>\n",
       "      <th>checksum</th>\n",
       "      <th>analysis_id</th>\n",
       "      <th>aliquot_id</th>\n",
       "      <th>participant_id</th>\n",
       "      <th>sample_id</th>\n",
       "      <th>tss_id</th>\n",
       "      <th>sample_accession</th>\n",
       "      <th>published</th>\n",
       "      <th>uploaded</th>\n",
       "      <th>modified</th>\n",
       "      <th>state</th>\n",
       "      <th>sample_type_code</th>\n",
       "      <th>analyte_type_code</th>\n",
       "      <th>platform_full_name</th>\n",
       "      <th>file_type</th>\n",
       "      <th>reason</th>\n",
       "      <th>reagent_vendor</th>\n",
       "      <th>reagent_name</th>\n",
       "      <th>catalog_number</th>\n",
       "      <th>is_custom</th>\n",
       "      <th>target_file_url</th>\n",
       "      <th>probe_file_url</th>\n",
       "      <th>CGHubAnalysisID</th>\n",
       "      <th>AliquotUUID</th>\n",
       "      <th>GCSobject</th>\n",
       "      <th>objectSizeBytes</th>\n",
       "      <th>pretty_size</th>\n",
       "      <th>handy_disease_names</th>\n",
       "    </tr>\n",
       "  </thead>\n",
       "  <tbody>\n",
       "    <tr>\n",
       "      <th>3462</th>\n",
       "      <td>261c8bb3-0c4e-4cfd-bcaa-c0d156cf2990</td>\n",
       "      <td>TCGA-AB-2909-03A-01T-0744-13</td>\n",
       "      <td>61YETAAXX_1_ATCACG_2.fastq.gz</td>\n",
       "      <td>https://storage.cloud.google.com/isb-cgc-open/tcga-qc/LAML/Total_RNA/RNA-Seq/BCCAGSC/ILLUMINA/261c8bb3-0c4e-4cfd-bcaa-c0d156cf2990-61YETAAXX_1_ATCACG_2_fastqc.html</td>\n",
       "      <td>https://storage.cloud.google.com/isb-cgc-open/tcga-qc/LAML/Total_RNA/RNA-Seq/BCCAGSC/ILLUMINA/261c8bb3-0c4e-4cfd-bcaa-c0d156cf2990-61YETAAXX_1_ATCACG_2_fastqc.zip</td>\n",
       "      <td>pass</td>\n",
       "      <td>83121778</td>\n",
       "      <td>0</td>\n",
       "      <td>6</td>\n",
       "      <td>50</td>\n",
       "      <td>45</td>\n",
       "      <td>47</td>\n",
       "      <td>warn</td>\n",
       "      <td>fail</td>\n",
       "      <td>0.410745</td>\n",
       "      <td>fail</td>\n",
       "      <td>pass</td>\n",
       "      <td>warn</td>\n",
       "      <td>TCGA</td>\n",
       "      <td>TCGA-AB-2909-03A-01T-0744-13</td>\n",
       "      <td>LAML</td>\n",
       "      <td>ACUTE MYELOID LEUKEMIA</td>\n",
       "      <td>TB</td>\n",
       "      <td>Primary Blood Derived Cancer - Peripheral Blood</td>\n",
       "      <td>Total RNA</td>\n",
       "      <td>RNA-Seq</td>\n",
       "      <td>BCCAGSC</td>\n",
       "      <td>NaN</td>\n",
       "      <td>ILLUMINA</td>\n",
       "      <td>Illumina</td>\n",
       "      <td>unaligned</td>\n",
       "      <td>TCGA-AB-2909-03A-01T-0744-13_rnaseq_fastq.tar</td>\n",
       "      <td>6.494423e+09</td>\n",
       "      <td>6924e520152b16158c3ea24ef20550af</td>\n",
       "      <td>261c8bb3-0c4e-4cfd-bcaa-c0d156cf2990</td>\n",
       "      <td>77952b61-6b89-4285-9443-a41246a7d8f2</td>\n",
       "      <td>ab60901b-d2ad-401a-9742-52df35ce1de0</td>\n",
       "      <td>40168b34-bbfe-4ee2-b7b5-2e33fbf64a18</td>\n",
       "      <td>AB</td>\n",
       "      <td>SRS131131</td>\n",
       "      <td>2014-05-13</td>\n",
       "      <td>2014-05-13</td>\n",
       "      <td>2014-05-13</td>\n",
       "      <td>Live</td>\n",
       "      <td>03</td>\n",
       "      <td>T</td>\n",
       "      <td>Illumina Genome Analyzer IIx</td>\n",
       "      <td>fasta</td>\n",
       "      <td>NaN</td>\n",
       "      <td>NaN</td>\n",
       "      <td>NaN</td>\n",
       "      <td>NaN</td>\n",
       "      <td>NaN</td>\n",
       "      <td>NaN</td>\n",
       "      <td>NaN</td>\n",
       "      <td>261c8bb3-0c4e-4cfd-bcaa-c0d156cf2990</td>\n",
       "      <td>77952b61-6b89-4285-9443-a41246a7d8f2</td>\n",
       "      <td>gs://5aa919de-0aa0-43ec-9ec3-288481102b6d/tcga/LAML/Total_RNA/RNA-Seq/BCCAGSC/ILLUMINA/TCGA-AB-2909-03A-01T-0744-13_rnaseq_fastq.tar</td>\n",
       "      <td>6494423040</td>\n",
       "      <td>6.0 GB</td>\n",
       "      <td>LAML: Acute Myeloid Leukemia</td>\n",
       "    </tr>\n",
       "  </tbody>\n",
       "</table>\n",
       "</div>"
      ],
      "text/plain": [
       "                          CGHub_analysisID                AliquotBarcode                  fastqFilename                                                                                                                                                      FastQC_html_url  \\\n",
       "3462  261c8bb3-0c4e-4cfd-bcaa-c0d156cf2990  TCGA-AB-2909-03A-01T-0744-13  61YETAAXX_1_ATCACG_2.fastq.gz  https://storage.cloud.google.com/isb-cgc-open/tcga-qc/LAML/Total_RNA/RNA-Seq/BCCAGSC/ILLUMINA/261c8bb3-0c4e-4cfd-bcaa-c0d156cf2990-61YETAAXX_1_ATCACG_2_fastqc.html   \n",
       "\n",
       "                                                                                                                                                          FastQC_zip_url BasicStats  numTotalSeq  numPoorSeq  minLength  maxLength  delLength  pctGC SeqLenDist SeqDupLev  Total_Dedup_Pct OverrepSeq  \\\n",
       "3462  https://storage.cloud.google.com/isb-cgc-open/tcga-qc/LAML/Total_RNA/RNA-Seq/BCCAGSC/ILLUMINA/261c8bb3-0c4e-4cfd-bcaa-c0d156cf2990-61YETAAXX_1_ATCACG_2_fastqc.zip  pass       83121778     0           6          50         45         47     warn       fail      0.410745         fail        \n",
       "\n",
       "     AdaptCont KmerCont study                       barcode disease            disease_name sample_type                                 sample_type_name analyte_type library_type   center  center_name  platform platform_name   assembly                                       filename    files_size  \\\n",
       "3462  pass      warn     TCGA  TCGA-AB-2909-03A-01T-0744-13  LAML    ACUTE MYELOID LEUKEMIA  TB          Primary Blood Derived Cancer - Peripheral Blood  Total RNA    RNA-Seq      BCCAGSC NaN           ILLUMINA  Illumina      unaligned  TCGA-AB-2909-03A-01T-0744-13_rnaseq_fastq.tar  6.494423e+09   \n",
       "\n",
       "                              checksum                           analysis_id                            aliquot_id                        participant_id                             sample_id tss_id sample_accession   published    uploaded    modified state sample_type_code analyte_type_code  \\\n",
       "3462  6924e520152b16158c3ea24ef20550af  261c8bb3-0c4e-4cfd-bcaa-c0d156cf2990  77952b61-6b89-4285-9443-a41246a7d8f2  ab60901b-d2ad-401a-9742-52df35ce1de0  40168b34-bbfe-4ee2-b7b5-2e33fbf64a18  AB     SRS131131        2014-05-13  2014-05-13  2014-05-13  Live  03               T                  \n",
       "\n",
       "                platform_full_name file_type reason reagent_vendor reagent_name catalog_number is_custom target_file_url probe_file_url                       CGHubAnalysisID                           AliquotUUID  \\\n",
       "3462  Illumina Genome Analyzer IIx  fasta     NaN    NaN            NaN          NaN            NaN       NaN             NaN            261c8bb3-0c4e-4cfd-bcaa-c0d156cf2990  77952b61-6b89-4285-9443-a41246a7d8f2   \n",
       "\n",
       "                                                                                                                                 GCSobject  objectSizeBytes pretty_size           handy_disease_names  \n",
       "3462  gs://5aa919de-0aa0-43ec-9ec3-288481102b6d/tcga/LAML/Total_RNA/RNA-Seq/BCCAGSC/ILLUMINA/TCGA-AB-2909-03A-01T-0744-13_rnaseq_fastq.tar  6494423040       6.0 GB      LAML: Acute Myeloid Leukemia  "
      ]
     },
     "execution_count": 35,
     "metadata": {},
     "output_type": "execute_result"
    }
   ],
   "source": [
    "ndf[ndf.delLength == 45]"
   ]
  },
  {
   "cell_type": "markdown",
   "metadata": {},
   "source": [
    "#### Take a look at its odd read length distribution"
   ]
  },
  {
   "cell_type": "code",
   "execution_count": 36,
   "metadata": {
    "collapsed": false
   },
   "outputs": [
    {
     "data": {
      "text/html": [
       "<img src=\"data:image/png;base64,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\"/>"
      ],
      "text/plain": [
       "<IPython.core.display.Image object>"
      ]
     },
     "execution_count": 36,
     "metadata": {},
     "output_type": "execute_result"
    }
   ],
   "source": [
    "from IPython.display import Image\n",
    "from IPython.core.display import HTML \n",
    "Image(url= \"data:image/png;base64,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\")"
   ]
  },
  {
   "cell_type": "code",
   "execution_count": 37,
   "metadata": {
    "collapsed": false
   },
   "outputs": [
    {
     "data": {
      "text/html": [
       "<div>\n",
       "<table border=\"1\" class=\"dataframe\">\n",
       "  <thead>\n",
       "    <tr style=\"text-align: right;\">\n",
       "      <th></th>\n",
       "      <th>CGHub_analysisID</th>\n",
       "      <th>AliquotBarcode</th>\n",
       "      <th>fastqFilename</th>\n",
       "      <th>FastQC_html_url</th>\n",
       "      <th>FastQC_zip_url</th>\n",
       "      <th>BasicStats</th>\n",
       "      <th>numTotalSeq</th>\n",
       "      <th>numPoorSeq</th>\n",
       "      <th>minLength</th>\n",
       "      <th>maxLength</th>\n",
       "      <th>delLength</th>\n",
       "      <th>pctGC</th>\n",
       "      <th>SeqLenDist</th>\n",
       "      <th>SeqDupLev</th>\n",
       "      <th>Total_Dedup_Pct</th>\n",
       "      <th>OverrepSeq</th>\n",
       "      <th>AdaptCont</th>\n",
       "      <th>KmerCont</th>\n",
       "      <th>study</th>\n",
       "      <th>barcode</th>\n",
       "      <th>disease</th>\n",
       "      <th>disease_name</th>\n",
       "      <th>sample_type</th>\n",
       "      <th>sample_type_name</th>\n",
       "      <th>analyte_type</th>\n",
       "      <th>library_type</th>\n",
       "      <th>center</th>\n",
       "      <th>center_name</th>\n",
       "      <th>platform</th>\n",
       "      <th>platform_name</th>\n",
       "      <th>assembly</th>\n",
       "      <th>filename</th>\n",
       "      <th>files_size</th>\n",
       "      <th>checksum</th>\n",
       "      <th>analysis_id</th>\n",
       "      <th>aliquot_id</th>\n",
       "      <th>participant_id</th>\n",
       "      <th>sample_id</th>\n",
       "      <th>tss_id</th>\n",
       "      <th>sample_accession</th>\n",
       "      <th>published</th>\n",
       "      <th>uploaded</th>\n",
       "      <th>modified</th>\n",
       "      <th>state</th>\n",
       "      <th>sample_type_code</th>\n",
       "      <th>analyte_type_code</th>\n",
       "      <th>platform_full_name</th>\n",
       "      <th>file_type</th>\n",
       "      <th>reason</th>\n",
       "      <th>reagent_vendor</th>\n",
       "      <th>reagent_name</th>\n",
       "      <th>catalog_number</th>\n",
       "      <th>is_custom</th>\n",
       "      <th>target_file_url</th>\n",
       "      <th>probe_file_url</th>\n",
       "      <th>CGHubAnalysisID</th>\n",
       "      <th>AliquotUUID</th>\n",
       "      <th>GCSobject</th>\n",
       "      <th>objectSizeBytes</th>\n",
       "      <th>pretty_size</th>\n",
       "      <th>handy_disease_names</th>\n",
       "    </tr>\n",
       "  </thead>\n",
       "  <tbody>\n",
       "    <tr>\n",
       "      <th>3461</th>\n",
       "      <td>261c8bb3-0c4e-4cfd-bcaa-c0d156cf2990</td>\n",
       "      <td>TCGA-AB-2909-03A-01T-0744-13</td>\n",
       "      <td>61YETAAXX_1_ATCACG_1.fastq.gz</td>\n",
       "      <td>https://storage.cloud.google.com/isb-cgc-open/tcga-qc/LAML/Total_RNA/RNA-Seq/BCCAGSC/ILLUMINA/261c8bb3-0c4e-4cfd-bcaa-c0d156cf2990-61YETAAXX_1_ATCACG_1_fastqc.html</td>\n",
       "      <td>https://storage.cloud.google.com/isb-cgc-open/tcga-qc/LAML/Total_RNA/RNA-Seq/BCCAGSC/ILLUMINA/261c8bb3-0c4e-4cfd-bcaa-c0d156cf2990-61YETAAXX_1_ATCACG_1_fastqc.zip</td>\n",
       "      <td>pass</td>\n",
       "      <td>41560889</td>\n",
       "      <td>0</td>\n",
       "      <td>50</td>\n",
       "      <td>50</td>\n",
       "      <td>1</td>\n",
       "      <td>47</td>\n",
       "      <td>pass</td>\n",
       "      <td>pass</td>\n",
       "      <td>80.327895</td>\n",
       "      <td>warn</td>\n",
       "      <td>pass</td>\n",
       "      <td>warn</td>\n",
       "      <td>TCGA</td>\n",
       "      <td>TCGA-AB-2909-03A-01T-0744-13</td>\n",
       "      <td>LAML</td>\n",
       "      <td>ACUTE MYELOID LEUKEMIA</td>\n",
       "      <td>TB</td>\n",
       "      <td>Primary Blood Derived Cancer - Peripheral Blood</td>\n",
       "      <td>Total RNA</td>\n",
       "      <td>RNA-Seq</td>\n",
       "      <td>BCCAGSC</td>\n",
       "      <td>NaN</td>\n",
       "      <td>ILLUMINA</td>\n",
       "      <td>Illumina</td>\n",
       "      <td>unaligned</td>\n",
       "      <td>TCGA-AB-2909-03A-01T-0744-13_rnaseq_fastq.tar</td>\n",
       "      <td>6.494423e+09</td>\n",
       "      <td>6924e520152b16158c3ea24ef20550af</td>\n",
       "      <td>261c8bb3-0c4e-4cfd-bcaa-c0d156cf2990</td>\n",
       "      <td>77952b61-6b89-4285-9443-a41246a7d8f2</td>\n",
       "      <td>ab60901b-d2ad-401a-9742-52df35ce1de0</td>\n",
       "      <td>40168b34-bbfe-4ee2-b7b5-2e33fbf64a18</td>\n",
       "      <td>AB</td>\n",
       "      <td>SRS131131</td>\n",
       "      <td>2014-05-13</td>\n",
       "      <td>2014-05-13</td>\n",
       "      <td>2014-05-13</td>\n",
       "      <td>Live</td>\n",
       "      <td>03</td>\n",
       "      <td>T</td>\n",
       "      <td>Illumina Genome Analyzer IIx</td>\n",
       "      <td>fasta</td>\n",
       "      <td>NaN</td>\n",
       "      <td>NaN</td>\n",
       "      <td>NaN</td>\n",
       "      <td>NaN</td>\n",
       "      <td>NaN</td>\n",
       "      <td>NaN</td>\n",
       "      <td>NaN</td>\n",
       "      <td>261c8bb3-0c4e-4cfd-bcaa-c0d156cf2990</td>\n",
       "      <td>77952b61-6b89-4285-9443-a41246a7d8f2</td>\n",
       "      <td>gs://5aa919de-0aa0-43ec-9ec3-288481102b6d/tcga/LAML/Total_RNA/RNA-Seq/BCCAGSC/ILLUMINA/TCGA-AB-2909-03A-01T-0744-13_rnaseq_fastq.tar</td>\n",
       "      <td>6494423040</td>\n",
       "      <td>6.0 GB</td>\n",
       "      <td>LAML: Acute Myeloid Leukemia</td>\n",
       "    </tr>\n",
       "    <tr>\n",
       "      <th>3462</th>\n",
       "      <td>261c8bb3-0c4e-4cfd-bcaa-c0d156cf2990</td>\n",
       "      <td>TCGA-AB-2909-03A-01T-0744-13</td>\n",
       "      <td>61YETAAXX_1_ATCACG_2.fastq.gz</td>\n",
       "      <td>https://storage.cloud.google.com/isb-cgc-open/tcga-qc/LAML/Total_RNA/RNA-Seq/BCCAGSC/ILLUMINA/261c8bb3-0c4e-4cfd-bcaa-c0d156cf2990-61YETAAXX_1_ATCACG_2_fastqc.html</td>\n",
       "      <td>https://storage.cloud.google.com/isb-cgc-open/tcga-qc/LAML/Total_RNA/RNA-Seq/BCCAGSC/ILLUMINA/261c8bb3-0c4e-4cfd-bcaa-c0d156cf2990-61YETAAXX_1_ATCACG_2_fastqc.zip</td>\n",
       "      <td>pass</td>\n",
       "      <td>83121778</td>\n",
       "      <td>0</td>\n",
       "      <td>6</td>\n",
       "      <td>50</td>\n",
       "      <td>45</td>\n",
       "      <td>47</td>\n",
       "      <td>warn</td>\n",
       "      <td>fail</td>\n",
       "      <td>0.410745</td>\n",
       "      <td>fail</td>\n",
       "      <td>pass</td>\n",
       "      <td>warn</td>\n",
       "      <td>TCGA</td>\n",
       "      <td>TCGA-AB-2909-03A-01T-0744-13</td>\n",
       "      <td>LAML</td>\n",
       "      <td>ACUTE MYELOID LEUKEMIA</td>\n",
       "      <td>TB</td>\n",
       "      <td>Primary Blood Derived Cancer - Peripheral Blood</td>\n",
       "      <td>Total RNA</td>\n",
       "      <td>RNA-Seq</td>\n",
       "      <td>BCCAGSC</td>\n",
       "      <td>NaN</td>\n",
       "      <td>ILLUMINA</td>\n",
       "      <td>Illumina</td>\n",
       "      <td>unaligned</td>\n",
       "      <td>TCGA-AB-2909-03A-01T-0744-13_rnaseq_fastq.tar</td>\n",
       "      <td>6.494423e+09</td>\n",
       "      <td>6924e520152b16158c3ea24ef20550af</td>\n",
       "      <td>261c8bb3-0c4e-4cfd-bcaa-c0d156cf2990</td>\n",
       "      <td>77952b61-6b89-4285-9443-a41246a7d8f2</td>\n",
       "      <td>ab60901b-d2ad-401a-9742-52df35ce1de0</td>\n",
       "      <td>40168b34-bbfe-4ee2-b7b5-2e33fbf64a18</td>\n",
       "      <td>AB</td>\n",
       "      <td>SRS131131</td>\n",
       "      <td>2014-05-13</td>\n",
       "      <td>2014-05-13</td>\n",
       "      <td>2014-05-13</td>\n",
       "      <td>Live</td>\n",
       "      <td>03</td>\n",
       "      <td>T</td>\n",
       "      <td>Illumina Genome Analyzer IIx</td>\n",
       "      <td>fasta</td>\n",
       "      <td>NaN</td>\n",
       "      <td>NaN</td>\n",
       "      <td>NaN</td>\n",
       "      <td>NaN</td>\n",
       "      <td>NaN</td>\n",
       "      <td>NaN</td>\n",
       "      <td>NaN</td>\n",
       "      <td>261c8bb3-0c4e-4cfd-bcaa-c0d156cf2990</td>\n",
       "      <td>77952b61-6b89-4285-9443-a41246a7d8f2</td>\n",
       "      <td>gs://5aa919de-0aa0-43ec-9ec3-288481102b6d/tcga/LAML/Total_RNA/RNA-Seq/BCCAGSC/ILLUMINA/TCGA-AB-2909-03A-01T-0744-13_rnaseq_fastq.tar</td>\n",
       "      <td>6494423040</td>\n",
       "      <td>6.0 GB</td>\n",
       "      <td>LAML: Acute Myeloid Leukemia</td>\n",
       "    </tr>\n",
       "    <tr>\n",
       "      <th>3463</th>\n",
       "      <td>261c8bb3-0c4e-4cfd-bcaa-c0d156cf2990</td>\n",
       "      <td>TCGA-AB-2909-03A-01T-0744-13</td>\n",
       "      <td>622DDAAXX_1_1.fastq.gz</td>\n",
       "      <td>https://storage.cloud.google.com/isb-cgc-open/tcga-qc/LAML/Total_RNA/RNA-Seq/BCCAGSC/ILLUMINA/261c8bb3-0c4e-4cfd-bcaa-c0d156cf2990-622DDAAXX_1_1_fastqc.html</td>\n",
       "      <td>https://storage.cloud.google.com/isb-cgc-open/tcga-qc/LAML/Total_RNA/RNA-Seq/BCCAGSC/ILLUMINA/261c8bb3-0c4e-4cfd-bcaa-c0d156cf2990-622DDAAXX_1_1_fastqc.zip</td>\n",
       "      <td>pass</td>\n",
       "      <td>34582299</td>\n",
       "      <td>0</td>\n",
       "      <td>50</td>\n",
       "      <td>50</td>\n",
       "      <td>1</td>\n",
       "      <td>47</td>\n",
       "      <td>pass</td>\n",
       "      <td>pass</td>\n",
       "      <td>79.626184</td>\n",
       "      <td>warn</td>\n",
       "      <td>pass</td>\n",
       "      <td>fail</td>\n",
       "      <td>TCGA</td>\n",
       "      <td>TCGA-AB-2909-03A-01T-0744-13</td>\n",
       "      <td>LAML</td>\n",
       "      <td>ACUTE MYELOID LEUKEMIA</td>\n",
       "      <td>TB</td>\n",
       "      <td>Primary Blood Derived Cancer - Peripheral Blood</td>\n",
       "      <td>Total RNA</td>\n",
       "      <td>RNA-Seq</td>\n",
       "      <td>BCCAGSC</td>\n",
       "      <td>NaN</td>\n",
       "      <td>ILLUMINA</td>\n",
       "      <td>Illumina</td>\n",
       "      <td>unaligned</td>\n",
       "      <td>TCGA-AB-2909-03A-01T-0744-13_rnaseq_fastq.tar</td>\n",
       "      <td>6.494423e+09</td>\n",
       "      <td>6924e520152b16158c3ea24ef20550af</td>\n",
       "      <td>261c8bb3-0c4e-4cfd-bcaa-c0d156cf2990</td>\n",
       "      <td>77952b61-6b89-4285-9443-a41246a7d8f2</td>\n",
       "      <td>ab60901b-d2ad-401a-9742-52df35ce1de0</td>\n",
       "      <td>40168b34-bbfe-4ee2-b7b5-2e33fbf64a18</td>\n",
       "      <td>AB</td>\n",
       "      <td>SRS131131</td>\n",
       "      <td>2014-05-13</td>\n",
       "      <td>2014-05-13</td>\n",
       "      <td>2014-05-13</td>\n",
       "      <td>Live</td>\n",
       "      <td>03</td>\n",
       "      <td>T</td>\n",
       "      <td>Illumina Genome Analyzer IIx</td>\n",
       "      <td>fasta</td>\n",
       "      <td>NaN</td>\n",
       "      <td>NaN</td>\n",
       "      <td>NaN</td>\n",
       "      <td>NaN</td>\n",
       "      <td>NaN</td>\n",
       "      <td>NaN</td>\n",
       "      <td>NaN</td>\n",
       "      <td>261c8bb3-0c4e-4cfd-bcaa-c0d156cf2990</td>\n",
       "      <td>77952b61-6b89-4285-9443-a41246a7d8f2</td>\n",
       "      <td>gs://5aa919de-0aa0-43ec-9ec3-288481102b6d/tcga/LAML/Total_RNA/RNA-Seq/BCCAGSC/ILLUMINA/TCGA-AB-2909-03A-01T-0744-13_rnaseq_fastq.tar</td>\n",
       "      <td>6494423040</td>\n",
       "      <td>6.0 GB</td>\n",
       "      <td>LAML: Acute Myeloid Leukemia</td>\n",
       "    </tr>\n",
       "    <tr>\n",
       "      <th>3464</th>\n",
       "      <td>261c8bb3-0c4e-4cfd-bcaa-c0d156cf2990</td>\n",
       "      <td>TCGA-AB-2909-03A-01T-0744-13</td>\n",
       "      <td>622DDAAXX_1_2.fastq.gz</td>\n",
       "      <td>https://storage.cloud.google.com/isb-cgc-open/tcga-qc/LAML/Total_RNA/RNA-Seq/BCCAGSC/ILLUMINA/261c8bb3-0c4e-4cfd-bcaa-c0d156cf2990-622DDAAXX_1_2_fastqc.html</td>\n",
       "      <td>https://storage.cloud.google.com/isb-cgc-open/tcga-qc/LAML/Total_RNA/RNA-Seq/BCCAGSC/ILLUMINA/261c8bb3-0c4e-4cfd-bcaa-c0d156cf2990-622DDAAXX_1_2_fastqc.zip</td>\n",
       "      <td>pass</td>\n",
       "      <td>34582299</td>\n",
       "      <td>0</td>\n",
       "      <td>50</td>\n",
       "      <td>50</td>\n",
       "      <td>1</td>\n",
       "      <td>47</td>\n",
       "      <td>pass</td>\n",
       "      <td>pass</td>\n",
       "      <td>83.822852</td>\n",
       "      <td>warn</td>\n",
       "      <td>pass</td>\n",
       "      <td>warn</td>\n",
       "      <td>TCGA</td>\n",
       "      <td>TCGA-AB-2909-03A-01T-0744-13</td>\n",
       "      <td>LAML</td>\n",
       "      <td>ACUTE MYELOID LEUKEMIA</td>\n",
       "      <td>TB</td>\n",
       "      <td>Primary Blood Derived Cancer - Peripheral Blood</td>\n",
       "      <td>Total RNA</td>\n",
       "      <td>RNA-Seq</td>\n",
       "      <td>BCCAGSC</td>\n",
       "      <td>NaN</td>\n",
       "      <td>ILLUMINA</td>\n",
       "      <td>Illumina</td>\n",
       "      <td>unaligned</td>\n",
       "      <td>TCGA-AB-2909-03A-01T-0744-13_rnaseq_fastq.tar</td>\n",
       "      <td>6.494423e+09</td>\n",
       "      <td>6924e520152b16158c3ea24ef20550af</td>\n",
       "      <td>261c8bb3-0c4e-4cfd-bcaa-c0d156cf2990</td>\n",
       "      <td>77952b61-6b89-4285-9443-a41246a7d8f2</td>\n",
       "      <td>ab60901b-d2ad-401a-9742-52df35ce1de0</td>\n",
       "      <td>40168b34-bbfe-4ee2-b7b5-2e33fbf64a18</td>\n",
       "      <td>AB</td>\n",
       "      <td>SRS131131</td>\n",
       "      <td>2014-05-13</td>\n",
       "      <td>2014-05-13</td>\n",
       "      <td>2014-05-13</td>\n",
       "      <td>Live</td>\n",
       "      <td>03</td>\n",
       "      <td>T</td>\n",
       "      <td>Illumina Genome Analyzer IIx</td>\n",
       "      <td>fasta</td>\n",
       "      <td>NaN</td>\n",
       "      <td>NaN</td>\n",
       "      <td>NaN</td>\n",
       "      <td>NaN</td>\n",
       "      <td>NaN</td>\n",
       "      <td>NaN</td>\n",
       "      <td>NaN</td>\n",
       "      <td>261c8bb3-0c4e-4cfd-bcaa-c0d156cf2990</td>\n",
       "      <td>77952b61-6b89-4285-9443-a41246a7d8f2</td>\n",
       "      <td>gs://5aa919de-0aa0-43ec-9ec3-288481102b6d/tcga/LAML/Total_RNA/RNA-Seq/BCCAGSC/ILLUMINA/TCGA-AB-2909-03A-01T-0744-13_rnaseq_fastq.tar</td>\n",
       "      <td>6494423040</td>\n",
       "      <td>6.0 GB</td>\n",
       "      <td>LAML: Acute Myeloid Leukemia</td>\n",
       "    </tr>\n",
       "  </tbody>\n",
       "</table>\n",
       "</div>"
      ],
      "text/plain": [
       "                          CGHub_analysisID                AliquotBarcode                  fastqFilename                                                                                                                                                      FastQC_html_url  \\\n",
       "3461  261c8bb3-0c4e-4cfd-bcaa-c0d156cf2990  TCGA-AB-2909-03A-01T-0744-13  61YETAAXX_1_ATCACG_1.fastq.gz  https://storage.cloud.google.com/isb-cgc-open/tcga-qc/LAML/Total_RNA/RNA-Seq/BCCAGSC/ILLUMINA/261c8bb3-0c4e-4cfd-bcaa-c0d156cf2990-61YETAAXX_1_ATCACG_1_fastqc.html   \n",
       "3462  261c8bb3-0c4e-4cfd-bcaa-c0d156cf2990  TCGA-AB-2909-03A-01T-0744-13  61YETAAXX_1_ATCACG_2.fastq.gz  https://storage.cloud.google.com/isb-cgc-open/tcga-qc/LAML/Total_RNA/RNA-Seq/BCCAGSC/ILLUMINA/261c8bb3-0c4e-4cfd-bcaa-c0d156cf2990-61YETAAXX_1_ATCACG_2_fastqc.html   \n",
       "3463  261c8bb3-0c4e-4cfd-bcaa-c0d156cf2990  TCGA-AB-2909-03A-01T-0744-13  622DDAAXX_1_1.fastq.gz         https://storage.cloud.google.com/isb-cgc-open/tcga-qc/LAML/Total_RNA/RNA-Seq/BCCAGSC/ILLUMINA/261c8bb3-0c4e-4cfd-bcaa-c0d156cf2990-622DDAAXX_1_1_fastqc.html          \n",
       "3464  261c8bb3-0c4e-4cfd-bcaa-c0d156cf2990  TCGA-AB-2909-03A-01T-0744-13  622DDAAXX_1_2.fastq.gz         https://storage.cloud.google.com/isb-cgc-open/tcga-qc/LAML/Total_RNA/RNA-Seq/BCCAGSC/ILLUMINA/261c8bb3-0c4e-4cfd-bcaa-c0d156cf2990-622DDAAXX_1_2_fastqc.html          \n",
       "\n",
       "                                                                                                                                                          FastQC_zip_url BasicStats  numTotalSeq  numPoorSeq  minLength  maxLength  delLength  pctGC SeqLenDist SeqDupLev  Total_Dedup_Pct OverrepSeq  \\\n",
       "3461  https://storage.cloud.google.com/isb-cgc-open/tcga-qc/LAML/Total_RNA/RNA-Seq/BCCAGSC/ILLUMINA/261c8bb3-0c4e-4cfd-bcaa-c0d156cf2990-61YETAAXX_1_ATCACG_1_fastqc.zip  pass       41560889     0           50         50         1          47     pass       pass      80.327895        warn        \n",
       "3462  https://storage.cloud.google.com/isb-cgc-open/tcga-qc/LAML/Total_RNA/RNA-Seq/BCCAGSC/ILLUMINA/261c8bb3-0c4e-4cfd-bcaa-c0d156cf2990-61YETAAXX_1_ATCACG_2_fastqc.zip  pass       83121778     0           6          50         45         47     warn       fail      0.410745         fail        \n",
       "3463  https://storage.cloud.google.com/isb-cgc-open/tcga-qc/LAML/Total_RNA/RNA-Seq/BCCAGSC/ILLUMINA/261c8bb3-0c4e-4cfd-bcaa-c0d156cf2990-622DDAAXX_1_1_fastqc.zip         pass       34582299     0           50         50         1          47     pass       pass      79.626184        warn        \n",
       "3464  https://storage.cloud.google.com/isb-cgc-open/tcga-qc/LAML/Total_RNA/RNA-Seq/BCCAGSC/ILLUMINA/261c8bb3-0c4e-4cfd-bcaa-c0d156cf2990-622DDAAXX_1_2_fastqc.zip         pass       34582299     0           50         50         1          47     pass       pass      83.822852        warn        \n",
       "\n",
       "     AdaptCont KmerCont study                       barcode disease            disease_name sample_type                                 sample_type_name analyte_type library_type   center  center_name  platform platform_name   assembly                                       filename    files_size  \\\n",
       "3461  pass      warn     TCGA  TCGA-AB-2909-03A-01T-0744-13  LAML    ACUTE MYELOID LEUKEMIA  TB          Primary Blood Derived Cancer - Peripheral Blood  Total RNA    RNA-Seq      BCCAGSC NaN           ILLUMINA  Illumina      unaligned  TCGA-AB-2909-03A-01T-0744-13_rnaseq_fastq.tar  6.494423e+09   \n",
       "3462  pass      warn     TCGA  TCGA-AB-2909-03A-01T-0744-13  LAML    ACUTE MYELOID LEUKEMIA  TB          Primary Blood Derived Cancer - Peripheral Blood  Total RNA    RNA-Seq      BCCAGSC NaN           ILLUMINA  Illumina      unaligned  TCGA-AB-2909-03A-01T-0744-13_rnaseq_fastq.tar  6.494423e+09   \n",
       "3463  pass      fail     TCGA  TCGA-AB-2909-03A-01T-0744-13  LAML    ACUTE MYELOID LEUKEMIA  TB          Primary Blood Derived Cancer - Peripheral Blood  Total RNA    RNA-Seq      BCCAGSC NaN           ILLUMINA  Illumina      unaligned  TCGA-AB-2909-03A-01T-0744-13_rnaseq_fastq.tar  6.494423e+09   \n",
       "3464  pass      warn     TCGA  TCGA-AB-2909-03A-01T-0744-13  LAML    ACUTE MYELOID LEUKEMIA  TB          Primary Blood Derived Cancer - Peripheral Blood  Total RNA    RNA-Seq      BCCAGSC NaN           ILLUMINA  Illumina      unaligned  TCGA-AB-2909-03A-01T-0744-13_rnaseq_fastq.tar  6.494423e+09   \n",
       "\n",
       "                              checksum                           analysis_id                            aliquot_id                        participant_id                             sample_id tss_id sample_accession   published    uploaded    modified state sample_type_code analyte_type_code  \\\n",
       "3461  6924e520152b16158c3ea24ef20550af  261c8bb3-0c4e-4cfd-bcaa-c0d156cf2990  77952b61-6b89-4285-9443-a41246a7d8f2  ab60901b-d2ad-401a-9742-52df35ce1de0  40168b34-bbfe-4ee2-b7b5-2e33fbf64a18  AB     SRS131131        2014-05-13  2014-05-13  2014-05-13  Live  03               T                  \n",
       "3462  6924e520152b16158c3ea24ef20550af  261c8bb3-0c4e-4cfd-bcaa-c0d156cf2990  77952b61-6b89-4285-9443-a41246a7d8f2  ab60901b-d2ad-401a-9742-52df35ce1de0  40168b34-bbfe-4ee2-b7b5-2e33fbf64a18  AB     SRS131131        2014-05-13  2014-05-13  2014-05-13  Live  03               T                  \n",
       "3463  6924e520152b16158c3ea24ef20550af  261c8bb3-0c4e-4cfd-bcaa-c0d156cf2990  77952b61-6b89-4285-9443-a41246a7d8f2  ab60901b-d2ad-401a-9742-52df35ce1de0  40168b34-bbfe-4ee2-b7b5-2e33fbf64a18  AB     SRS131131        2014-05-13  2014-05-13  2014-05-13  Live  03               T                  \n",
       "3464  6924e520152b16158c3ea24ef20550af  261c8bb3-0c4e-4cfd-bcaa-c0d156cf2990  77952b61-6b89-4285-9443-a41246a7d8f2  ab60901b-d2ad-401a-9742-52df35ce1de0  40168b34-bbfe-4ee2-b7b5-2e33fbf64a18  AB     SRS131131        2014-05-13  2014-05-13  2014-05-13  Live  03               T                  \n",
       "\n",
       "                platform_full_name file_type reason reagent_vendor reagent_name catalog_number is_custom target_file_url probe_file_url                       CGHubAnalysisID                           AliquotUUID  \\\n",
       "3461  Illumina Genome Analyzer IIx  fasta     NaN    NaN            NaN          NaN            NaN       NaN             NaN            261c8bb3-0c4e-4cfd-bcaa-c0d156cf2990  77952b61-6b89-4285-9443-a41246a7d8f2   \n",
       "3462  Illumina Genome Analyzer IIx  fasta     NaN    NaN            NaN          NaN            NaN       NaN             NaN            261c8bb3-0c4e-4cfd-bcaa-c0d156cf2990  77952b61-6b89-4285-9443-a41246a7d8f2   \n",
       "3463  Illumina Genome Analyzer IIx  fasta     NaN    NaN            NaN          NaN            NaN       NaN             NaN            261c8bb3-0c4e-4cfd-bcaa-c0d156cf2990  77952b61-6b89-4285-9443-a41246a7d8f2   \n",
       "3464  Illumina Genome Analyzer IIx  fasta     NaN    NaN            NaN          NaN            NaN       NaN             NaN            261c8bb3-0c4e-4cfd-bcaa-c0d156cf2990  77952b61-6b89-4285-9443-a41246a7d8f2   \n",
       "\n",
       "                                                                                                                                 GCSobject  objectSizeBytes pretty_size           handy_disease_names  \n",
       "3461  gs://5aa919de-0aa0-43ec-9ec3-288481102b6d/tcga/LAML/Total_RNA/RNA-Seq/BCCAGSC/ILLUMINA/TCGA-AB-2909-03A-01T-0744-13_rnaseq_fastq.tar  6494423040       6.0 GB      LAML: Acute Myeloid Leukemia  \n",
       "3462  gs://5aa919de-0aa0-43ec-9ec3-288481102b6d/tcga/LAML/Total_RNA/RNA-Seq/BCCAGSC/ILLUMINA/TCGA-AB-2909-03A-01T-0744-13_rnaseq_fastq.tar  6494423040       6.0 GB      LAML: Acute Myeloid Leukemia  \n",
       "3463  gs://5aa919de-0aa0-43ec-9ec3-288481102b6d/tcga/LAML/Total_RNA/RNA-Seq/BCCAGSC/ILLUMINA/TCGA-AB-2909-03A-01T-0744-13_rnaseq_fastq.tar  6494423040       6.0 GB      LAML: Acute Myeloid Leukemia  \n",
       "3464  gs://5aa919de-0aa0-43ec-9ec3-288481102b6d/tcga/LAML/Total_RNA/RNA-Seq/BCCAGSC/ILLUMINA/TCGA-AB-2909-03A-01T-0744-13_rnaseq_fastq.tar  6494423040       6.0 GB      LAML: Acute Myeloid Leukemia  "
      ]
     },
     "execution_count": 37,
     "metadata": {},
     "output_type": "execute_result"
    }
   ],
   "source": [
    "ndf[ndf.CGHub_analysisID == '261c8bb3-0c4e-4cfd-bcaa-c0d156cf2990']"
   ]
  },
  {
   "cell_type": "code",
   "execution_count": 38,
   "metadata": {
    "collapsed": false
   },
   "outputs": [],
   "source": [
    "ndf.drop(range(3461, 3461 + 4), inplace=True)"
   ]
  },
  {
   "cell_type": "code",
   "execution_count": 39,
   "metadata": {
    "collapsed": false
   },
   "outputs": [
    {
     "data": {
      "text/plain": [
       "(11339,)"
      ]
     },
     "execution_count": 39,
     "metadata": {},
     "output_type": "execute_result"
    }
   ],
   "source": [
    "ndf.analysis_id.unique().shape"
   ]
  },
  {
   "cell_type": "markdown",
   "metadata": {},
   "source": [
    "#### Drop analysis ids with inconsistent read length between first-end and second-end fastq files "
   ]
  },
  {
   "cell_type": "code",
   "execution_count": 40,
   "metadata": {
    "collapsed": true
   },
   "outputs": [],
   "source": [
    "num_unique_max_len = ndf.groupby('analysis_id').apply(lambda g: g.maxLength.unique().shape[0])"
   ]
  },
  {
   "cell_type": "code",
   "execution_count": 41,
   "metadata": {
    "collapsed": false
   },
   "outputs": [],
   "source": [
    "_df = num_unique_max_len[num_unique_max_len > 1]"
   ]
  },
  {
   "cell_type": "code",
   "execution_count": 42,
   "metadata": {
    "collapsed": false
   },
   "outputs": [
    {
     "data": {
      "text/plain": [
       "(22,)"
      ]
     },
     "execution_count": 42,
     "metadata": {},
     "output_type": "execute_result"
    }
   ],
   "source": [
    "_df.shape"
   ]
  },
  {
   "cell_type": "code",
   "execution_count": 43,
   "metadata": {
    "collapsed": false
   },
   "outputs": [
    {
     "data": {
      "text/plain": [
       "analysis_id\n",
       "003fece6-0f44-46b8-8b9f-bfe26feda298    [48, 49]\n",
       "05622bc5-f9d4-4ff4-8841-f0800b2d06e9    [48, 49]\n",
       "2097392d-ebce-4f2a-b6f6-25c6255276af    [50, 45]\n",
       "39ecb705-8b3d-48e4-8eb2-381e1d90941f    [50, 45]\n",
       "40a709bd-0217-46c4-9232-7e57918d894b    [48, 49]\n",
       "4ad528d8-8194-452f-a935-19179925cf8d    [50, 45]\n",
       "4d5d77b4-f1a5-4f4e-8689-033bab3ccd17    [48, 49]\n",
       "6332c788-e2be-4a18-9a79-c4d3acfcc216    [48, 49]\n",
       "6bfa4a3a-539f-408b-a3a6-b6876ac34211    [48, 49]\n",
       "72620215-610c-430a-9271-cf7c27ec6902    [48, 49]\n",
       "813d0e86-0b45-4e7a-b3f9-2bbd7b02be3d    [50, 45]\n",
       "8af5e509-aacc-4a0b-aca8-d20583b40200    [48, 49]\n",
       "945091fc-94e8-45b3-a686-7072b6f012bd    [48, 49]\n",
       "a67de5cc-e395-4618-8102-e3b8a74ab3dd    [50, 45]\n",
       "b1d0a32e-f119-4103-817e-093ddd641a5c    [48, 49]\n",
       "dab394a4-a14f-488d-8cac-d3a3a790dc0e    [50, 45]\n",
       "dae0442e-0c19-4c01-9008-edb6f3d34882    [48, 49]\n",
       "db547aab-382f-4532-804a-0c985e418774    [48, 49]\n",
       "dd24129e-ffa0-49f8-9d79-7d4600d17b6b    [48, 49]\n",
       "e05d9be5-2938-4a5d-8882-92346f1ac009    [48, 49]\n",
       "eeba9aa8-809f-4d31-956a-b816e662d15c    [50, 45]\n",
       "fa152198-0750-452b-ad1a-c325d38e7232    [48, 49]\n",
       "dtype: object"
      ]
     },
     "execution_count": 43,
     "metadata": {},
     "output_type": "execute_result"
    }
   ],
   "source": [
    "ndf[ndf.analysis_id.isin(_df.index)].groupby('analysis_id').apply(lambda g: g.maxLength.unique())"
   ]
  },
  {
   "cell_type": "code",
   "execution_count": 44,
   "metadata": {
    "collapsed": false
   },
   "outputs": [],
   "source": [
    "ndf.drop(ndf[ndf.analysis_id.isin(_df.index)].index, inplace=True)"
   ]
  },
  {
   "cell_type": "code",
   "execution_count": 45,
   "metadata": {
    "collapsed": false
   },
   "outputs": [
    {
     "data": {
      "text/plain": [
       "(11317,)"
      ]
     },
     "execution_count": 45,
     "metadata": {},
     "output_type": "execute_result"
    }
   ],
   "source": [
    "ndf.analysis_id.unique().shape"
   ]
  },
  {
   "cell_type": "markdown",
   "metadata": {},
   "source": [
    "#### Drop another one sample that's not analyzed successfully "
   ]
  },
  {
   "cell_type": "markdown",
   "metadata": {},
   "source": [
    "```\n",
    "gcp-transfer[0]:pwd\n",
    "/projects/btl2/zxue/tasrkleat/TCGA-results/error\n",
    "gcp-transfer[0]:ls\n",
    "error.txt\n",
    "gcp-transfer[0]:cat error.txt \n",
    "gsutil cat gs://tasrkleat/tcga/LAML/Total_RNA/RNA-Seq/BCCAGSC/ILLUMINA/TCGA-AB-2992-03A-01T-0735-13_rnaseq_fastq.tar/logs/EIbhjL7uKhj3uOSYxoOR0jggjsPE-6kaKg9wcm9kdWN0aW9uUXVldWU-stderr.log\n",
    "\n",
    "WARNING|[2016-09-01 22:29:15,664]|utils:stderr: Read IDs do not match\n",
    "WARNING|[2016-09-01 22:29:15,665]|utils:stderr: SOLEXA4_1:3:111:9271:12183\n",
    "WARNING|[2016-09-01 22:29:15,665]|utils:stderr: SOLEXA4_1:3:111:9721:18091\n",
    "WARNING|[2016-09-01 22:29:15,665]|utils:stderr: Read IDs do not match\n",
    "WARNING|[2016-09-01 22:29:15,665]|utils:stderr: SOLEXA4_1:3:111:9271:15474\n",
    "WARNING|[2016-09-01 22:29:15,666]|utils:stderr: SOLEXA4_1:3:111:9721:19530\n",
    "WARNING|[2016-09-01 22:29:15,666]|utils:stderr: Read IDs do not match\n",
    "WARNING|[2016-09-01 22:29:15,666]|utils:stderr: SOLEXA4_1:3:111:9271:12958\n",
    "WARNING|[2016-09-01 22:29:15,666]|utils:stderr: SOLEXA4_1:3:111:9721:14690\n",
    "                        ```"
   ]
  },
  {
   "cell_type": "code",
   "execution_count": 46,
   "metadata": {
    "collapsed": false
   },
   "outputs": [
    {
     "data": {
      "text/plain": [
       "(11317,)"
      ]
     },
     "execution_count": 46,
     "metadata": {},
     "output_type": "execute_result"
    }
   ],
   "source": [
    "ndf.analysis_id.unique().shape"
   ]
  },
  {
   "cell_type": "code",
   "execution_count": 47,
   "metadata": {
    "collapsed": false,
    "scrolled": true
   },
   "outputs": [
    {
     "data": {
      "text/plain": [
       "array(['a1d922bb-a14c-48e5-86df-c6e74413955e'], dtype=object)"
      ]
     },
     "execution_count": 47,
     "metadata": {},
     "output_type": "execute_result"
    }
   ],
   "source": [
    "ndf[ndf.GCSobject.str.contains('TCGA-AB-2992-03A-01T-0735-13_rnaseq_fastq.tar')].analysis_id.unique()"
   ]
  },
  {
   "cell_type": "code",
   "execution_count": 48,
   "metadata": {
    "collapsed": false
   },
   "outputs": [],
   "source": [
    "ndf.drop(ndf.analysis_id == 'a1d922bb-a14c-48e5-86df-c6e74413955e', inplace=True)"
   ]
  },
  {
   "cell_type": "code",
   "execution_count": 49,
   "metadata": {
    "collapsed": false
   },
   "outputs": [
    {
     "data": {
      "text/plain": [
       "(11316,)"
      ]
     },
     "execution_count": 49,
     "metadata": {},
     "output_type": "execute_result"
    }
   ],
   "source": [
    "ndf.analysis_id.unique().shape"
   ]
  },
  {
   "cell_type": "code",
   "execution_count": null,
   "metadata": {
    "collapsed": true
   },
   "outputs": [],
   "source": []
  },
  {
   "cell_type": "markdown",
   "metadata": {},
   "source": [
    "## Analysis for group by analysis_id"
   ]
  },
  {
   "cell_type": "code",
   "execution_count": 50,
   "metadata": {
    "collapsed": true
   },
   "outputs": [],
   "source": [
    "grouped = ndf.groupby('CGHub_analysisID')"
   ]
  },
  {
   "cell_type": "markdown",
   "metadata": {},
   "source": [
    "### Count of reads for each analysis_id"
   ]
  },
  {
   "cell_type": "code",
   "execution_count": 51,
   "metadata": {
    "collapsed": false
   },
   "outputs": [],
   "source": [
    "df_num_total_seq = grouped.sum()['numTotalSeq'].sort_values().to_frame().reset_index()"
   ]
  },
  {
   "cell_type": "code",
   "execution_count": 52,
   "metadata": {
    "collapsed": false
   },
   "outputs": [
    {
     "data": {
      "text/html": [
       "<div>\n",
       "<table border=\"1\" class=\"dataframe\">\n",
       "  <thead>\n",
       "    <tr style=\"text-align: right;\">\n",
       "      <th></th>\n",
       "      <th>CGHub_analysisID</th>\n",
       "      <th>numTotalSeq</th>\n",
       "    </tr>\n",
       "  </thead>\n",
       "  <tbody>\n",
       "    <tr>\n",
       "      <th>0</th>\n",
       "      <td>b754648b-5fb4-4467-aee3-65cc7c6a9d07</td>\n",
       "      <td>5271052</td>\n",
       "    </tr>\n",
       "    <tr>\n",
       "      <th>1</th>\n",
       "      <td>badd1f12-80de-4573-aee7-c39ed96455f9</td>\n",
       "      <td>5578774</td>\n",
       "    </tr>\n",
       "    <tr>\n",
       "      <th>2</th>\n",
       "      <td>39fa3aa6-aed7-4a80-9506-e67a9ebcaab2</td>\n",
       "      <td>7246057</td>\n",
       "    </tr>\n",
       "    <tr>\n",
       "      <th>3</th>\n",
       "      <td>97ca938d-3709-4ca2-b550-9c1dbbdfedb6</td>\n",
       "      <td>8822545</td>\n",
       "    </tr>\n",
       "    <tr>\n",
       "      <th>4</th>\n",
       "      <td>eb32ddf3-6e22-4aa9-a4a7-00728cb76e46</td>\n",
       "      <td>10046008</td>\n",
       "    </tr>\n",
       "  </tbody>\n",
       "</table>\n",
       "</div>"
      ],
      "text/plain": [
       "                       CGHub_analysisID  numTotalSeq\n",
       "0  b754648b-5fb4-4467-aee3-65cc7c6a9d07  5271052    \n",
       "1  badd1f12-80de-4573-aee7-c39ed96455f9  5578774    \n",
       "2  39fa3aa6-aed7-4a80-9506-e67a9ebcaab2  7246057    \n",
       "3  97ca938d-3709-4ca2-b550-9c1dbbdfedb6  8822545    \n",
       "4  eb32ddf3-6e22-4aa9-a4a7-00728cb76e46  10046008   "
      ]
     },
     "execution_count": 52,
     "metadata": {},
     "output_type": "execute_result"
    }
   ],
   "source": [
    "df_num_total_seq.head()"
   ]
  },
  {
   "cell_type": "code",
   "execution_count": 53,
   "metadata": {
    "collapsed": false
   },
   "outputs": [],
   "source": [
    "cols = ['CGHub_analysisID', 'handy_disease_names', 'center', 'maxLength']\n",
    "mdf = df_num_total_seq.merge(ndf[cols].drop_duplicates(), on='CGHub_analysisID')"
   ]
  },
  {
   "cell_type": "code",
   "execution_count": 54,
   "metadata": {
    "collapsed": false
   },
   "outputs": [
    {
     "data": {
      "text/html": [
       "<div>\n",
       "<table border=\"1\" class=\"dataframe\">\n",
       "  <thead>\n",
       "    <tr style=\"text-align: right;\">\n",
       "      <th></th>\n",
       "      <th>CGHub_analysisID</th>\n",
       "      <th>numTotalSeq</th>\n",
       "      <th>handy_disease_names</th>\n",
       "      <th>center</th>\n",
       "      <th>maxLength</th>\n",
       "    </tr>\n",
       "  </thead>\n",
       "  <tbody>\n",
       "    <tr>\n",
       "      <th>0</th>\n",
       "      <td>b754648b-5fb4-4467-aee3-65cc7c6a9d07</td>\n",
       "      <td>5271052</td>\n",
       "      <td>COAD: Colon Adenocarcinoma</td>\n",
       "      <td>UNC-LCCC</td>\n",
       "      <td>76</td>\n",
       "    </tr>\n",
       "    <tr>\n",
       "      <th>1</th>\n",
       "      <td>badd1f12-80de-4573-aee7-c39ed96455f9</td>\n",
       "      <td>5578774</td>\n",
       "      <td>COAD: Colon Adenocarcinoma</td>\n",
       "      <td>UNC-LCCC</td>\n",
       "      <td>76</td>\n",
       "    </tr>\n",
       "    <tr>\n",
       "      <th>2</th>\n",
       "      <td>39fa3aa6-aed7-4a80-9506-e67a9ebcaab2</td>\n",
       "      <td>7246057</td>\n",
       "      <td>COAD: Colon Adenocarcinoma</td>\n",
       "      <td>UNC-LCCC</td>\n",
       "      <td>76</td>\n",
       "    </tr>\n",
       "    <tr>\n",
       "      <th>3</th>\n",
       "      <td>97ca938d-3709-4ca2-b550-9c1dbbdfedb6</td>\n",
       "      <td>8822545</td>\n",
       "      <td>COAD: Colon Adenocarcinoma</td>\n",
       "      <td>UNC-LCCC</td>\n",
       "      <td>76</td>\n",
       "    </tr>\n",
       "    <tr>\n",
       "      <th>4</th>\n",
       "      <td>eb32ddf3-6e22-4aa9-a4a7-00728cb76e46</td>\n",
       "      <td>10046008</td>\n",
       "      <td>COAD: Colon Adenocarcinoma</td>\n",
       "      <td>UNC-LCCC</td>\n",
       "      <td>76</td>\n",
       "    </tr>\n",
       "  </tbody>\n",
       "</table>\n",
       "</div>"
      ],
      "text/plain": [
       "                       CGHub_analysisID  numTotalSeq         handy_disease_names    center  maxLength\n",
       "0  b754648b-5fb4-4467-aee3-65cc7c6a9d07  5271052      COAD: Colon Adenocarcinoma  UNC-LCCC  76       \n",
       "1  badd1f12-80de-4573-aee7-c39ed96455f9  5578774      COAD: Colon Adenocarcinoma  UNC-LCCC  76       \n",
       "2  39fa3aa6-aed7-4a80-9506-e67a9ebcaab2  7246057      COAD: Colon Adenocarcinoma  UNC-LCCC  76       \n",
       "3  97ca938d-3709-4ca2-b550-9c1dbbdfedb6  8822545      COAD: Colon Adenocarcinoma  UNC-LCCC  76       \n",
       "4  eb32ddf3-6e22-4aa9-a4a7-00728cb76e46  10046008     COAD: Colon Adenocarcinoma  UNC-LCCC  76       "
      ]
     },
     "execution_count": 54,
     "metadata": {},
     "output_type": "execute_result"
    }
   ],
   "source": [
    "mdf.sort_values('numTotalSeq').head()"
   ]
  },
  {
   "cell_type": "code",
   "execution_count": 55,
   "metadata": {
    "collapsed": false
   },
   "outputs": [
    {
     "data": {
      "text/html": [
       "<div>\n",
       "<table border=\"1\" class=\"dataframe\">\n",
       "  <thead>\n",
       "    <tr style=\"text-align: right;\">\n",
       "      <th></th>\n",
       "      <th>CGHub_analysisID</th>\n",
       "      <th>numTotalSeq</th>\n",
       "      <th>handy_disease_names</th>\n",
       "      <th>center</th>\n",
       "      <th>maxLength</th>\n",
       "    </tr>\n",
       "  </thead>\n",
       "  <tbody>\n",
       "    <tr>\n",
       "      <th>11311</th>\n",
       "      <td>2f9595fd-c47b-495c-bd91-cb04712587cc</td>\n",
       "      <td>411815388</td>\n",
       "      <td>OV: Ovarian Serous Cystadenocarcinoma</td>\n",
       "      <td>BCCAGSC</td>\n",
       "      <td>75</td>\n",
       "    </tr>\n",
       "    <tr>\n",
       "      <th>11312</th>\n",
       "      <td>81f8a6ab-ad47-4379-b7c2-7b58dd32a4dc</td>\n",
       "      <td>415583602</td>\n",
       "      <td>OV: Ovarian Serous Cystadenocarcinoma</td>\n",
       "      <td>BCCAGSC</td>\n",
       "      <td>75</td>\n",
       "    </tr>\n",
       "    <tr>\n",
       "      <th>11313</th>\n",
       "      <td>32838fec-3b3d-4261-9dd6-53db2521a27c</td>\n",
       "      <td>420951962</td>\n",
       "      <td>OV: Ovarian Serous Cystadenocarcinoma</td>\n",
       "      <td>BCCAGSC</td>\n",
       "      <td>75</td>\n",
       "    </tr>\n",
       "    <tr>\n",
       "      <th>11314</th>\n",
       "      <td>29a8a6ec-0541-40c8-a6d3-4c8eec54b054</td>\n",
       "      <td>432954454</td>\n",
       "      <td>OV: Ovarian Serous Cystadenocarcinoma</td>\n",
       "      <td>BCCAGSC</td>\n",
       "      <td>75</td>\n",
       "    </tr>\n",
       "    <tr>\n",
       "      <th>11315</th>\n",
       "      <td>a4e0037c-8afa-4d50-947f-a7354ddd34fc</td>\n",
       "      <td>452162088</td>\n",
       "      <td>OV: Ovarian Serous Cystadenocarcinoma</td>\n",
       "      <td>BCCAGSC</td>\n",
       "      <td>75</td>\n",
       "    </tr>\n",
       "  </tbody>\n",
       "</table>\n",
       "</div>"
      ],
      "text/plain": [
       "                           CGHub_analysisID  numTotalSeq                    handy_disease_names   center  maxLength\n",
       "11311  2f9595fd-c47b-495c-bd91-cb04712587cc  411815388    OV: Ovarian Serous Cystadenocarcinoma  BCCAGSC  75       \n",
       "11312  81f8a6ab-ad47-4379-b7c2-7b58dd32a4dc  415583602    OV: Ovarian Serous Cystadenocarcinoma  BCCAGSC  75       \n",
       "11313  32838fec-3b3d-4261-9dd6-53db2521a27c  420951962    OV: Ovarian Serous Cystadenocarcinoma  BCCAGSC  75       \n",
       "11314  29a8a6ec-0541-40c8-a6d3-4c8eec54b054  432954454    OV: Ovarian Serous Cystadenocarcinoma  BCCAGSC  75       \n",
       "11315  a4e0037c-8afa-4d50-947f-a7354ddd34fc  452162088    OV: Ovarian Serous Cystadenocarcinoma  BCCAGSC  75       "
      ]
     },
     "execution_count": 55,
     "metadata": {},
     "output_type": "execute_result"
    }
   ],
   "source": [
    "mdf.tail()"
   ]
  },
  {
   "cell_type": "code",
   "execution_count": 56,
   "metadata": {
    "collapsed": false
   },
   "outputs": [],
   "source": [
    "# Count of bases for each analysis_id\n",
    "mdf['numTotalBases'] = mdf.numTotalSeq * mdf.maxLength"
   ]
  },
  {
   "cell_type": "code",
   "execution_count": 57,
   "metadata": {
    "collapsed": false
   },
   "outputs": [
    {
     "data": {
      "text/html": [
       "<div>\n",
       "<table border=\"1\" class=\"dataframe\">\n",
       "  <thead>\n",
       "    <tr style=\"text-align: right;\">\n",
       "      <th></th>\n",
       "      <th>numTotalSeq</th>\n",
       "      <th>maxLength</th>\n",
       "      <th>numTotalBases</th>\n",
       "    </tr>\n",
       "  </thead>\n",
       "  <tbody>\n",
       "    <tr>\n",
       "      <th>count</th>\n",
       "      <td>1.131600e+04</td>\n",
       "      <td>11316.000000</td>\n",
       "      <td>1.131600e+04</td>\n",
       "    </tr>\n",
       "    <tr>\n",
       "      <th>mean</th>\n",
       "      <td>1.413005e+08</td>\n",
       "      <td>52.872305</td>\n",
       "      <td>7.489960e+09</td>\n",
       "    </tr>\n",
       "    <tr>\n",
       "      <th>std</th>\n",
       "      <td>5.220856e+07</td>\n",
       "      <td>10.059542</td>\n",
       "      <td>3.747335e+09</td>\n",
       "    </tr>\n",
       "    <tr>\n",
       "      <th>min</th>\n",
       "      <td>5.271052e+06</td>\n",
       "      <td>48.000000</td>\n",
       "      <td>4.006000e+08</td>\n",
       "    </tr>\n",
       "    <tr>\n",
       "      <th>25%</th>\n",
       "      <td>1.134778e+08</td>\n",
       "      <td>48.000000</td>\n",
       "      <td>5.506724e+09</td>\n",
       "    </tr>\n",
       "    <tr>\n",
       "      <th>50%</th>\n",
       "      <td>1.379771e+08</td>\n",
       "      <td>48.000000</td>\n",
       "      <td>6.766456e+09</td>\n",
       "    </tr>\n",
       "    <tr>\n",
       "      <th>75%</th>\n",
       "      <td>1.680918e+08</td>\n",
       "      <td>50.000000</td>\n",
       "      <td>8.415522e+09</td>\n",
       "    </tr>\n",
       "    <tr>\n",
       "      <th>max</th>\n",
       "      <td>4.521621e+08</td>\n",
       "      <td>100.000000</td>\n",
       "      <td>3.391216e+10</td>\n",
       "    </tr>\n",
       "  </tbody>\n",
       "</table>\n",
       "</div>"
      ],
      "text/plain": [
       "        numTotalSeq     maxLength  numTotalBases\n",
       "count  1.131600e+04  11316.000000  1.131600e+04 \n",
       "mean   1.413005e+08  52.872305     7.489960e+09 \n",
       "std    5.220856e+07  10.059542     3.747335e+09 \n",
       "min    5.271052e+06  48.000000     4.006000e+08 \n",
       "25%    1.134778e+08  48.000000     5.506724e+09 \n",
       "50%    1.379771e+08  48.000000     6.766456e+09 \n",
       "75%    1.680918e+08  50.000000     8.415522e+09 \n",
       "max    4.521621e+08  100.000000    3.391216e+10 "
      ]
     },
     "execution_count": 57,
     "metadata": {},
     "output_type": "execute_result"
    }
   ],
   "source": [
    "mdf.describe()"
   ]
  },
  {
   "cell_type": "markdown",
   "metadata": {},
   "source": [
    "### Count of files number for each analysis_id"
   ]
  },
  {
   "cell_type": "code",
   "execution_count": 58,
   "metadata": {
    "collapsed": false
   },
   "outputs": [
    {
     "data": {
      "text/plain": [
       "2    10482\n",
       "1    648  \n",
       "4    185  \n",
       "6    1    \n",
       "Name: AliquotBarcode, dtype: int64"
      ]
     },
     "execution_count": 58,
     "metadata": {},
     "output_type": "execute_result"
    }
   ],
   "source": [
    "grouped.count().ix[:,0].value_counts()"
   ]
  },
  {
   "cell_type": "markdown",
   "metadata": {},
   "source": [
    "So interestingly, some analysis ids have more than 2 files (e.g. 4 & 6)."
   ]
  },
  {
   "cell_type": "code",
   "execution_count": 59,
   "metadata": {
    "collapsed": false
   },
   "outputs": [],
   "source": [
    "count_df = ndf.groupby('CGHub_analysisID').count()['study']"
   ]
  },
  {
   "cell_type": "markdown",
   "metadata": {},
   "source": [
    "#### First let's look at those with only 1 file"
   ]
  },
  {
   "cell_type": "code",
   "execution_count": 60,
   "metadata": {
    "collapsed": false
   },
   "outputs": [],
   "source": [
    "anal_ids_1f = count_df[count_df == 1].index.values\n",
    "df_1f = ndf[ndf.CGHub_analysisID.isin(anal_ids_1f)]"
   ]
  },
  {
   "cell_type": "code",
   "execution_count": 61,
   "metadata": {
    "collapsed": false
   },
   "outputs": [
    {
     "data": {
      "text/plain": [
       "UNC-LCCC    648\n",
       "Name: center, dtype: int64"
      ]
     },
     "execution_count": 61,
     "metadata": {},
     "output_type": "execute_result"
    }
   ],
   "source": [
    "df_1f.center.value_counts()"
   ]
  },
  {
   "cell_type": "code",
   "execution_count": 62,
   "metadata": {
    "collapsed": false
   },
   "outputs": [
    {
     "data": {
      "text/plain": [
       "UCEC: Uterine Corpus Endometrioid Carcinoma    384\n",
       "COAD: Colon Adenocarcinoma                     192\n",
       "READ: Rectum Adenocarcinoma                    72 \n",
       "Name: handy_disease_names, dtype: int64"
      ]
     },
     "execution_count": 62,
     "metadata": {},
     "output_type": "execute_result"
    }
   ],
   "source": [
    "df_1f.handy_disease_names.value_counts()"
   ]
  },
  {
   "cell_type": "code",
   "execution_count": 63,
   "metadata": {
    "collapsed": false
   },
   "outputs": [
    {
     "data": {
      "text/html": [
       "<div>\n",
       "<table border=\"1\" class=\"dataframe\">\n",
       "  <thead>\n",
       "    <tr style=\"text-align: right;\">\n",
       "      <th></th>\n",
       "      <th>CGHub_analysisID</th>\n",
       "      <th>AliquotBarcode</th>\n",
       "      <th>fastqFilename</th>\n",
       "      <th>FastQC_html_url</th>\n",
       "      <th>FastQC_zip_url</th>\n",
       "      <th>BasicStats</th>\n",
       "      <th>numTotalSeq</th>\n",
       "      <th>numPoorSeq</th>\n",
       "      <th>minLength</th>\n",
       "      <th>maxLength</th>\n",
       "      <th>delLength</th>\n",
       "      <th>pctGC</th>\n",
       "      <th>SeqLenDist</th>\n",
       "      <th>SeqDupLev</th>\n",
       "      <th>Total_Dedup_Pct</th>\n",
       "      <th>OverrepSeq</th>\n",
       "      <th>AdaptCont</th>\n",
       "      <th>KmerCont</th>\n",
       "      <th>study</th>\n",
       "      <th>barcode</th>\n",
       "      <th>disease</th>\n",
       "      <th>disease_name</th>\n",
       "      <th>sample_type</th>\n",
       "      <th>sample_type_name</th>\n",
       "      <th>analyte_type</th>\n",
       "      <th>library_type</th>\n",
       "      <th>center</th>\n",
       "      <th>center_name</th>\n",
       "      <th>platform</th>\n",
       "      <th>platform_name</th>\n",
       "      <th>assembly</th>\n",
       "      <th>filename</th>\n",
       "      <th>files_size</th>\n",
       "      <th>checksum</th>\n",
       "      <th>analysis_id</th>\n",
       "      <th>aliquot_id</th>\n",
       "      <th>participant_id</th>\n",
       "      <th>sample_id</th>\n",
       "      <th>tss_id</th>\n",
       "      <th>sample_accession</th>\n",
       "      <th>published</th>\n",
       "      <th>uploaded</th>\n",
       "      <th>modified</th>\n",
       "      <th>state</th>\n",
       "      <th>sample_type_code</th>\n",
       "      <th>analyte_type_code</th>\n",
       "      <th>platform_full_name</th>\n",
       "      <th>file_type</th>\n",
       "      <th>reason</th>\n",
       "      <th>reagent_vendor</th>\n",
       "      <th>reagent_name</th>\n",
       "      <th>catalog_number</th>\n",
       "      <th>is_custom</th>\n",
       "      <th>target_file_url</th>\n",
       "      <th>probe_file_url</th>\n",
       "      <th>CGHubAnalysisID</th>\n",
       "      <th>AliquotUUID</th>\n",
       "      <th>GCSobject</th>\n",
       "      <th>objectSizeBytes</th>\n",
       "      <th>pretty_size</th>\n",
       "      <th>handy_disease_names</th>\n",
       "    </tr>\n",
       "  </thead>\n",
       "  <tbody>\n",
       "    <tr>\n",
       "      <th>142</th>\n",
       "      <td>019cce43-61a7-4c3a-aecd-00a3fb93f747</td>\n",
       "      <td>TCGA-AX-A0IU-01A-11R-A16W-07</td>\n",
       "      <td>110728_UNC6-RDR300211_00118_FC_70KA8AAXX.3.fastq</td>\n",
       "      <td>https://storage.cloud.google.com/isb-cgc-open/tcga-qc/UCEC/RNA/RNA-Seq/UNC-LCCC/ILLUMINA/019cce43-61a7-4c3a-aecd-00a3fb93f747-110728_UNC6-RDR300211_00118_FC_70KA8AAXX.3_fastqc.html</td>\n",
       "      <td>https://storage.cloud.google.com/isb-cgc-open/tcga-qc/UCEC/RNA/RNA-Seq/UNC-LCCC/ILLUMINA/019cce43-61a7-4c3a-aecd-00a3fb93f747-110728_UNC6-RDR300211_00118_FC_70KA8AAXX.3_fastqc.zip</td>\n",
       "      <td>pass</td>\n",
       "      <td>31515522</td>\n",
       "      <td>0</td>\n",
       "      <td>76</td>\n",
       "      <td>76</td>\n",
       "      <td>1</td>\n",
       "      <td>52</td>\n",
       "      <td>pass</td>\n",
       "      <td>fail</td>\n",
       "      <td>47.831905</td>\n",
       "      <td>warn</td>\n",
       "      <td>warn</td>\n",
       "      <td>fail</td>\n",
       "      <td>TCGA</td>\n",
       "      <td>TCGA-AX-A0IU-01A-11R-A16W-07</td>\n",
       "      <td>UCEC</td>\n",
       "      <td>UTERINE CORPUS ENDOMETRIOID CARCINOMA</td>\n",
       "      <td>TP</td>\n",
       "      <td>Primary solid Tumor</td>\n",
       "      <td>RNA</td>\n",
       "      <td>RNA-Seq</td>\n",
       "      <td>UNC-LCCC</td>\n",
       "      <td>NaN</td>\n",
       "      <td>ILLUMINA</td>\n",
       "      <td>Illumina</td>\n",
       "      <td>unaligned</td>\n",
       "      <td>UNCID_2207050.fb355c45-282b-4eff-8d06-074d9acf1ea5.110728_UNC6-RDR300211_00118_FC_70KA8AAXX_3.tar.gz</td>\n",
       "      <td>2.036157e+09</td>\n",
       "      <td>50280ae2e774be434cb5ec86ce7886a9</td>\n",
       "      <td>019cce43-61a7-4c3a-aecd-00a3fb93f747</td>\n",
       "      <td>fb355c45-282b-4eff-8d06-074d9acf1ea5</td>\n",
       "      <td>7e64ea6c-a3db-48eb-91be-131361510a92</td>\n",
       "      <td>dc4b3695-ce62-48d5-9f1d-7dd70d049c97</td>\n",
       "      <td>AX</td>\n",
       "      <td>NaN</td>\n",
       "      <td>2013-09-28</td>\n",
       "      <td>2013-09-28</td>\n",
       "      <td>2013-09-28</td>\n",
       "      <td>Live</td>\n",
       "      <td>01</td>\n",
       "      <td>R</td>\n",
       "      <td>Illumina Genome Analyzer II</td>\n",
       "      <td>fasta</td>\n",
       "      <td>NaN</td>\n",
       "      <td>NaN</td>\n",
       "      <td>NaN</td>\n",
       "      <td>NaN</td>\n",
       "      <td>NaN</td>\n",
       "      <td>NaN</td>\n",
       "      <td>NaN</td>\n",
       "      <td>019cce43-61a7-4c3a-aecd-00a3fb93f747</td>\n",
       "      <td>fb355c45-282b-4eff-8d06-074d9acf1ea5</td>\n",
       "      <td>gs://5aa919de-0aa0-43ec-9ec3-288481102b6d/tcga/UCEC/RNA/RNA-Seq/UNC-LCCC/ILLUMINA/UNCID_2207050.fb355c45-282b-4eff-8d06-074d9acf1ea5.110728_UNC6-RDR300211_00118_FC_70KA8AAXX_3.tar.gz</td>\n",
       "      <td>2036157248</td>\n",
       "      <td>1.9 GB</td>\n",
       "      <td>UCEC: Uterine Corpus Endometrioid Carcinoma</td>\n",
       "    </tr>\n",
       "  </tbody>\n",
       "</table>\n",
       "</div>"
      ],
      "text/plain": [
       "                         CGHub_analysisID                AliquotBarcode                                     fastqFilename  \\\n",
       "142  019cce43-61a7-4c3a-aecd-00a3fb93f747  TCGA-AX-A0IU-01A-11R-A16W-07  110728_UNC6-RDR300211_00118_FC_70KA8AAXX.3.fastq   \n",
       "\n",
       "                                                                                                                                                                          FastQC_html_url  \\\n",
       "142  https://storage.cloud.google.com/isb-cgc-open/tcga-qc/UCEC/RNA/RNA-Seq/UNC-LCCC/ILLUMINA/019cce43-61a7-4c3a-aecd-00a3fb93f747-110728_UNC6-RDR300211_00118_FC_70KA8AAXX.3_fastqc.html   \n",
       "\n",
       "                                                                                                                                                                          FastQC_zip_url BasicStats  numTotalSeq  numPoorSeq  minLength  maxLength  delLength  pctGC SeqLenDist SeqDupLev  \\\n",
       "142  https://storage.cloud.google.com/isb-cgc-open/tcga-qc/UCEC/RNA/RNA-Seq/UNC-LCCC/ILLUMINA/019cce43-61a7-4c3a-aecd-00a3fb93f747-110728_UNC6-RDR300211_00118_FC_70KA8AAXX.3_fastqc.zip  pass       31515522     0           76         76         1          52     pass       fail       \n",
       "\n",
       "     Total_Dedup_Pct OverrepSeq AdaptCont KmerCont study                       barcode disease                           disease_name sample_type     sample_type_name analyte_type library_type    center  center_name  platform platform_name   assembly  \\\n",
       "142  47.831905        warn       warn      fail     TCGA  TCGA-AX-A0IU-01A-11R-A16W-07  UCEC    UTERINE CORPUS ENDOMETRIOID CARCINOMA  TP          Primary solid Tumor  RNA          RNA-Seq      UNC-LCCC NaN           ILLUMINA  Illumina      unaligned   \n",
       "\n",
       "                                                                                                 filename    files_size                          checksum                           analysis_id                            aliquot_id                        participant_id  \\\n",
       "142  UNCID_2207050.fb355c45-282b-4eff-8d06-074d9acf1ea5.110728_UNC6-RDR300211_00118_FC_70KA8AAXX_3.tar.gz  2.036157e+09  50280ae2e774be434cb5ec86ce7886a9  019cce43-61a7-4c3a-aecd-00a3fb93f747  fb355c45-282b-4eff-8d06-074d9acf1ea5  7e64ea6c-a3db-48eb-91be-131361510a92   \n",
       "\n",
       "                                sample_id tss_id sample_accession   published    uploaded    modified state sample_type_code analyte_type_code           platform_full_name file_type reason reagent_vendor reagent_name catalog_number is_custom target_file_url probe_file_url  \\\n",
       "142  dc4b3695-ce62-48d5-9f1d-7dd70d049c97  AX     NaN              2013-09-28  2013-09-28  2013-09-28  Live  01               R                 Illumina Genome Analyzer II  fasta     NaN    NaN            NaN          NaN            NaN       NaN             NaN             \n",
       "\n",
       "                          CGHubAnalysisID                           AliquotUUID                                                                                                                                                                               GCSobject  objectSizeBytes pretty_size  \\\n",
       "142  019cce43-61a7-4c3a-aecd-00a3fb93f747  fb355c45-282b-4eff-8d06-074d9acf1ea5  gs://5aa919de-0aa0-43ec-9ec3-288481102b6d/tcga/UCEC/RNA/RNA-Seq/UNC-LCCC/ILLUMINA/UNCID_2207050.fb355c45-282b-4eff-8d06-074d9acf1ea5.110728_UNC6-RDR300211_00118_FC_70KA8AAXX_3.tar.gz  2036157248       1.9 GB       \n",
       "\n",
       "                             handy_disease_names  \n",
       "142  UCEC: Uterine Corpus Endometrioid Carcinoma  "
      ]
     },
     "execution_count": 63,
     "metadata": {},
     "output_type": "execute_result"
    }
   ],
   "source": [
    "df_1f.head(1)"
   ]
  },
  {
   "cell_type": "markdown",
   "metadata": {},
   "source": [
    "#### Confirm all analysis ids in df_1f are single-end sequencing results"
   ]
  },
  {
   "cell_type": "code",
   "execution_count": 64,
   "metadata": {
    "collapsed": false
   },
   "outputs": [],
   "source": [
    "df_1f = df_1f.copy()\n",
    "df_1f['cghub_xml_curl_cmd'] = df_1f.CGHub_analysisID.apply(\n",
    "    lambda x: 'curl https://cghub.ucsc.edu/cghub/metadata/analysisFull?analysis_id={0} > {0}.xml'.format(x))"
   ]
  },
  {
   "cell_type": "code",
   "execution_count": 65,
   "metadata": {
    "collapsed": false
   },
   "outputs": [],
   "source": [
    "with tempfile.NamedTemporaryFile(mode='w+t', suffix='_curl.csv', delete=False) as opf:\n",
    "    df_1f.cghub_xml_curl_cmd.to_csv(opf, index=False)"
   ]
  },
  {
   "cell_type": "code",
   "execution_count": 66,
   "metadata": {
    "collapsed": false
   },
   "outputs": [
    {
     "data": {
      "text/plain": [
       "'/tmp/tmpiwn2ke9a_curl.csv'"
      ]
     },
     "execution_count": 66,
     "metadata": {},
     "output_type": "execute_result"
    }
   ],
   "source": [
    "opf.name"
   ]
  },
  {
   "cell_type": "markdown",
   "metadata": {},
   "source": [
    "Then go to tmp directory and execute the above csv using something like `parallel < tmplNTk4q_curl.csv`, and confirm with `grep Single-End | wc`. Make sure the wc output matches the number of items in `df_1f`. e.g.\n",
    "\n",
    "```\n",
    "$ grep Single-End *.xml | head -n 3\n",
    "019cce43-61a7-4c3a-aecd-00a3fb93f747.xml:        <DESIGN_DESCRIPTION>TCGA RNA-Seq Single-End Experiment</DESIGN_DESCRIPTION>\n",
    "02190b44-579d-492c-8e9c-c0103d252721.xml:        <DESIGN_DESCRIPTION>TCGA RNA-Seq Single-End Experiment</DESIGN_DESCRIPTION>\n",
    "027e7b3c-189d-4e1e-9658-9d66c0254ded.xml:        <DESIGN_DESCRIPTION>TCGA RNA-Seq Single-End Experiment</DESIGN_DESCRIPTION>\n",
    "$ grep Single-End *.xml | wc -l\n",
    "648\n",
    "```\n",
    "\n",
    "648 checks out :D"
   ]
  },
  {
   "cell_type": "markdown",
   "metadata": {},
   "source": [
    "#### Now, ready to drop all Single-End analysis IDs"
   ]
  },
  {
   "cell_type": "code",
   "execution_count": 67,
   "metadata": {
    "collapsed": false
   },
   "outputs": [
    {
     "data": {
      "text/plain": [
       "(648,)"
      ]
     },
     "execution_count": 67,
     "metadata": {},
     "output_type": "execute_result"
    }
   ],
   "source": [
    "df_1f.analysis_id.unique().shape"
   ]
  },
  {
   "cell_type": "code",
   "execution_count": 68,
   "metadata": {
    "collapsed": false
   },
   "outputs": [
    {
     "name": "stdout",
     "output_type": "stream",
     "text": [
      "2.90%\n"
     ]
    }
   ],
   "source": [
    "# That's about this percentage of samples to drop\n",
    "print('{0:.2%}'.format(648. / ndf.shape[0]))"
   ]
  },
  {
   "cell_type": "code",
   "execution_count": 69,
   "metadata": {
    "collapsed": false
   },
   "outputs": [],
   "source": [
    "ndf.drop(df_1f.index, inplace=True)"
   ]
  },
  {
   "cell_type": "code",
   "execution_count": 70,
   "metadata": {
    "collapsed": false
   },
   "outputs": [
    {
     "data": {
      "text/plain": [
       "(10668,)"
      ]
     },
     "execution_count": 70,
     "metadata": {},
     "output_type": "execute_result"
    }
   ],
   "source": [
    "ndf.analysis_id.unique().shape"
   ]
  },
  {
   "cell_type": "code",
   "execution_count": 71,
   "metadata": {
    "collapsed": false
   },
   "outputs": [
    {
     "data": {
      "text/plain": [
       "(21710, 61)"
      ]
     },
     "execution_count": 71,
     "metadata": {},
     "output_type": "execute_result"
    }
   ],
   "source": [
    "ndf.shape"
   ]
  },
  {
   "cell_type": "code",
   "execution_count": 72,
   "metadata": {
    "collapsed": false
   },
   "outputs": [
    {
     "data": {
      "text/plain": [
       "2    10482\n",
       "4    185  \n",
       "6    1    \n",
       "Name: study, dtype: int64"
      ]
     },
     "execution_count": 72,
     "metadata": {},
     "output_type": "execute_result"
    }
   ],
   "source": [
    "# Reconfirm single-end results have been removed\n",
    "ndf.groupby('CGHub_analysisID').count()['study'].value_counts()"
   ]
  },
  {
   "cell_type": "markdown",
   "metadata": {},
   "source": [
    "all files ends with either `.tar.gz` or `.tar`"
   ]
  },
  {
   "cell_type": "code",
   "execution_count": 73,
   "metadata": {
    "collapsed": false
   },
   "outputs": [
    {
     "data": {
      "text/plain": [
       "(0, 61)"
      ]
     },
     "execution_count": 73,
     "metadata": {},
     "output_type": "execute_result"
    }
   ],
   "source": [
    "ndf[ndf.GCSobject.apply(os.path.basename).apply(lambda x: re.search('\\.tar\\.gz$|\\.tar$', x) is None)].shape"
   ]
  },
  {
   "cell_type": "code",
   "execution_count": 74,
   "metadata": {
    "collapsed": false
   },
   "outputs": [],
   "source": [
    "ndf['GCSobject_ext'] = ndf.GCSobject.apply(os.path.basename).apply(lambda x: re.search('\\.tar\\.gz$|\\.tar$', x).group())"
   ]
  },
  {
   "cell_type": "code",
   "execution_count": 75,
   "metadata": {
    "collapsed": false
   },
   "outputs": [
    {
     "data": {
      "text/plain": [
       ".tar.gz    18884\n",
       ".tar       2826 \n",
       "Name: GCSobject_ext, dtype: int64"
      ]
     },
     "execution_count": 75,
     "metadata": {},
     "output_type": "execute_result"
    }
   ],
   "source": [
    "ndf.GCSobject_ext.value_counts()"
   ]
  },
  {
   "cell_type": "code",
   "execution_count": 76,
   "metadata": {
    "collapsed": false
   },
   "outputs": [
    {
     "data": {
      "text/plain": [
       "BCCAGSC    2826\n",
       "Name: center, dtype: int64"
      ]
     },
     "execution_count": 76,
     "metadata": {},
     "output_type": "execute_result"
    }
   ],
   "source": [
    "# All un-gzipped tarball are from BCCAGSC\n",
    "ndf[ndf.GCSobject.str.endswith('.tar')].center.value_counts()"
   ]
  },
  {
   "cell_type": "code",
   "execution_count": 77,
   "metadata": {
    "collapsed": false
   },
   "outputs": [
    {
     "data": {
      "text/plain": [
       "UNC-LCCC    18544\n",
       "BI          340  \n",
       "Name: center, dtype: int64"
      ]
     },
     "execution_count": 77,
     "metadata": {},
     "output_type": "execute_result"
    }
   ],
   "source": [
    "ndf[ndf.GCSobject.str.endswith('.tar.gz')].center.value_counts()"
   ]
  },
  {
   "cell_type": "markdown",
   "metadata": {},
   "source": [
    "#### Now let's look at those with only 6 files since there is only 1 case"
   ]
  },
  {
   "cell_type": "code",
   "execution_count": 78,
   "metadata": {
    "collapsed": true
   },
   "outputs": [],
   "source": [
    "# gt2f: greater than 2 files\n",
    "anal_ids_6f = count_df[(count_df == 6)].index.values\n",
    "df_6f = ndf[ndf.CGHub_analysisID.isin(anal_ids_6f)]"
   ]
  },
  {
   "cell_type": "code",
   "execution_count": 79,
   "metadata": {
    "collapsed": false
   },
   "outputs": [
    {
     "data": {
      "text/html": [
       "<div>\n",
       "<table border=\"1\" class=\"dataframe\">\n",
       "  <thead>\n",
       "    <tr style=\"text-align: right;\">\n",
       "      <th></th>\n",
       "      <th>CGHub_analysisID</th>\n",
       "      <th>AliquotBarcode</th>\n",
       "      <th>fastqFilename</th>\n",
       "      <th>center</th>\n",
       "      <th>disease</th>\n",
       "      <th>disease_name</th>\n",
       "      <th>platform_full_name</th>\n",
       "      <th>GCSobject</th>\n",
       "    </tr>\n",
       "  </thead>\n",
       "  <tbody>\n",
       "    <tr>\n",
       "      <th>20520</th>\n",
       "      <td>eb28bd24-74a2-4c68-83d9-c0982c7688b4</td>\n",
       "      <td>TCGA-BR-8592-01A-11R-2402-13</td>\n",
       "      <td>C1V55ACXX_7_AACTTG_1.fastq.gz</td>\n",
       "      <td>BCCAGSC</td>\n",
       "      <td>STAD</td>\n",
       "      <td>STOMACH ADENOCARCINOMA</td>\n",
       "      <td>Illumina HiSeq 2000</td>\n",
       "      <td>gs://5aa919de-0aa0-43ec-9ec3-288481102b6d/tcga/STAD/RNA/RNA-Seq/BCCAGSC/ILLUMINA/TCGA-BR-8592-01A-11R-2402-13_rnaseq_fastq.tar</td>\n",
       "    </tr>\n",
       "  </tbody>\n",
       "</table>\n",
       "</div>"
      ],
      "text/plain": [
       "                           CGHub_analysisID                AliquotBarcode                  fastqFilename   center disease            disease_name   platform_full_name                                                                                                                       GCSobject\n",
       "20520  eb28bd24-74a2-4c68-83d9-c0982c7688b4  TCGA-BR-8592-01A-11R-2402-13  C1V55ACXX_7_AACTTG_1.fastq.gz  BCCAGSC  STAD    STOMACH ADENOCARCINOMA  Illumina HiSeq 2000  gs://5aa919de-0aa0-43ec-9ec3-288481102b6d/tcga/STAD/RNA/RNA-Seq/BCCAGSC/ILLUMINA/TCGA-BR-8592-01A-11R-2402-13_rnaseq_fastq.tar"
      ]
     },
     "execution_count": 79,
     "metadata": {},
     "output_type": "execute_result"
    }
   ],
   "source": [
    "cols = ['CGHub_analysisID', 'AliquotBarcode', 'fastqFilename',\n",
    "        'center', 'disease', 'disease_name', 'platform_full_name', 'GCSobject']\n",
    "df_6f[cols].head(1)"
   ]
  },
  {
   "cell_type": "code",
   "execution_count": 80,
   "metadata": {
    "collapsed": true
   },
   "outputs": [],
   "source": [
    "def gen_gsutil_cmd(gcs_object_url):\n",
    "    return 'gsutil -m cp {0} .'.format(gcs_object_url)"
   ]
  },
  {
   "cell_type": "code",
   "execution_count": 81,
   "metadata": {
    "collapsed": false
   },
   "outputs": [
    {
     "name": "stdout",
     "output_type": "stream",
     "text": [
      "gsutil -m cp gs://5aa919de-0aa0-43ec-9ec3-288481102b6d/tcga/STAD/RNA/RNA-Seq/BCCAGSC/ILLUMINA/TCGA-BR-8592-01A-11R-2402-13_rnaseq_fastq.tar .\n"
     ]
    }
   ],
   "source": [
    "print(gen_gsutil_cmd(df_6f.GCSobject.unique()[0]))"
   ]
  },
  {
   "cell_type": "markdown",
   "metadata": {},
   "source": [
    "#### At last, let's look at those with only 4 files"
   ]
  },
  {
   "cell_type": "code",
   "execution_count": 82,
   "metadata": {
    "collapsed": true
   },
   "outputs": [],
   "source": [
    "anal_ids_4f = count_df[(count_df == 4)].index.values\n",
    "df_4f = ndf[ndf.CGHub_analysisID.isin(anal_ids_4f)]"
   ]
  },
  {
   "cell_type": "code",
   "execution_count": 83,
   "metadata": {
    "collapsed": false
   },
   "outputs": [
    {
     "data": {
      "text/plain": [
       "BCCAGSC    740\n",
       "Name: center, dtype: int64"
      ]
     },
     "execution_count": 83,
     "metadata": {},
     "output_type": "execute_result"
    }
   ],
   "source": [
    "df_4f.center.value_counts()"
   ]
  },
  {
   "cell_type": "code",
   "execution_count": 84,
   "metadata": {
    "collapsed": false,
    "scrolled": true
   },
   "outputs": [
    {
     "data": {
      "text/html": [
       "<div>\n",
       "<table border=\"1\" class=\"dataframe\">\n",
       "  <thead>\n",
       "    <tr style=\"text-align: right;\">\n",
       "      <th></th>\n",
       "      <th>CGHub_analysisID</th>\n",
       "      <th>AliquotBarcode</th>\n",
       "      <th>fastqFilename</th>\n",
       "      <th>center</th>\n",
       "      <th>disease</th>\n",
       "      <th>disease_name</th>\n",
       "      <th>platform_full_name</th>\n",
       "      <th>GCSobject</th>\n",
       "    </tr>\n",
       "  </thead>\n",
       "  <tbody>\n",
       "    <tr>\n",
       "      <th>120</th>\n",
       "      <td>014ee344-2844-4bc4-842e-e6d6e1e8fd9b</td>\n",
       "      <td>TCGA-AB-2882-03A-01T-0740-13</td>\n",
       "      <td>7043VAAXX_3_1.fastq.gz</td>\n",
       "      <td>BCCAGSC</td>\n",
       "      <td>LAML</td>\n",
       "      <td>ACUTE MYELOID LEUKEMIA</td>\n",
       "      <td>Illumina Genome Analyzer IIx</td>\n",
       "      <td>gs://5aa919de-0aa0-43ec-9ec3-288481102b6d/tcga/LAML/Total_RNA/RNA-Seq/BCCAGSC/ILLUMINA/TCGA-AB-2882-03A-01T-0740-13_rnaseq_fastq.tar</td>\n",
       "    </tr>\n",
       "    <tr>\n",
       "      <th>121</th>\n",
       "      <td>014ee344-2844-4bc4-842e-e6d6e1e8fd9b</td>\n",
       "      <td>TCGA-AB-2882-03A-01T-0740-13</td>\n",
       "      <td>7043VAAXX_3_2.fastq.gz</td>\n",
       "      <td>BCCAGSC</td>\n",
       "      <td>LAML</td>\n",
       "      <td>ACUTE MYELOID LEUKEMIA</td>\n",
       "      <td>Illumina Genome Analyzer IIx</td>\n",
       "      <td>gs://5aa919de-0aa0-43ec-9ec3-288481102b6d/tcga/LAML/Total_RNA/RNA-Seq/BCCAGSC/ILLUMINA/TCGA-AB-2882-03A-01T-0740-13_rnaseq_fastq.tar</td>\n",
       "    </tr>\n",
       "    <tr>\n",
       "      <th>122</th>\n",
       "      <td>014ee344-2844-4bc4-842e-e6d6e1e8fd9b</td>\n",
       "      <td>TCGA-AB-2882-03A-01T-0740-13</td>\n",
       "      <td>7046WAAXX_6_1.fastq.gz</td>\n",
       "      <td>BCCAGSC</td>\n",
       "      <td>LAML</td>\n",
       "      <td>ACUTE MYELOID LEUKEMIA</td>\n",
       "      <td>Illumina Genome Analyzer IIx</td>\n",
       "      <td>gs://5aa919de-0aa0-43ec-9ec3-288481102b6d/tcga/LAML/Total_RNA/RNA-Seq/BCCAGSC/ILLUMINA/TCGA-AB-2882-03A-01T-0740-13_rnaseq_fastq.tar</td>\n",
       "    </tr>\n",
       "    <tr>\n",
       "      <th>123</th>\n",
       "      <td>014ee344-2844-4bc4-842e-e6d6e1e8fd9b</td>\n",
       "      <td>TCGA-AB-2882-03A-01T-0740-13</td>\n",
       "      <td>7046WAAXX_6_2.fastq.gz</td>\n",
       "      <td>BCCAGSC</td>\n",
       "      <td>LAML</td>\n",
       "      <td>ACUTE MYELOID LEUKEMIA</td>\n",
       "      <td>Illumina Genome Analyzer IIx</td>\n",
       "      <td>gs://5aa919de-0aa0-43ec-9ec3-288481102b6d/tcga/LAML/Total_RNA/RNA-Seq/BCCAGSC/ILLUMINA/TCGA-AB-2882-03A-01T-0740-13_rnaseq_fastq.tar</td>\n",
       "    </tr>\n",
       "    <tr>\n",
       "      <th>143</th>\n",
       "      <td>019ce4dd-8274-4b2f-b55c-d69dc1a1604a</td>\n",
       "      <td>TCGA-AB-2917-03A-01T-0734-13</td>\n",
       "      <td>61660AAXX_8_1.fastq.gz</td>\n",
       "      <td>BCCAGSC</td>\n",
       "      <td>LAML</td>\n",
       "      <td>ACUTE MYELOID LEUKEMIA</td>\n",
       "      <td>Illumina Genome Analyzer IIx</td>\n",
       "      <td>gs://5aa919de-0aa0-43ec-9ec3-288481102b6d/tcga/LAML/Total_RNA/RNA-Seq/BCCAGSC/ILLUMINA/TCGA-AB-2917-03A-01T-0734-13_rnaseq_fastq.tar</td>\n",
       "    </tr>\n",
       "  </tbody>\n",
       "</table>\n",
       "</div>"
      ],
      "text/plain": [
       "                         CGHub_analysisID                AliquotBarcode           fastqFilename   center disease            disease_name            platform_full_name  \\\n",
       "120  014ee344-2844-4bc4-842e-e6d6e1e8fd9b  TCGA-AB-2882-03A-01T-0740-13  7043VAAXX_3_1.fastq.gz  BCCAGSC  LAML    ACUTE MYELOID LEUKEMIA  Illumina Genome Analyzer IIx   \n",
       "121  014ee344-2844-4bc4-842e-e6d6e1e8fd9b  TCGA-AB-2882-03A-01T-0740-13  7043VAAXX_3_2.fastq.gz  BCCAGSC  LAML    ACUTE MYELOID LEUKEMIA  Illumina Genome Analyzer IIx   \n",
       "122  014ee344-2844-4bc4-842e-e6d6e1e8fd9b  TCGA-AB-2882-03A-01T-0740-13  7046WAAXX_6_1.fastq.gz  BCCAGSC  LAML    ACUTE MYELOID LEUKEMIA  Illumina Genome Analyzer IIx   \n",
       "123  014ee344-2844-4bc4-842e-e6d6e1e8fd9b  TCGA-AB-2882-03A-01T-0740-13  7046WAAXX_6_2.fastq.gz  BCCAGSC  LAML    ACUTE MYELOID LEUKEMIA  Illumina Genome Analyzer IIx   \n",
       "143  019ce4dd-8274-4b2f-b55c-d69dc1a1604a  TCGA-AB-2917-03A-01T-0734-13  61660AAXX_8_1.fastq.gz  BCCAGSC  LAML    ACUTE MYELOID LEUKEMIA  Illumina Genome Analyzer IIx   \n",
       "\n",
       "                                                                                                                                GCSobject  \n",
       "120  gs://5aa919de-0aa0-43ec-9ec3-288481102b6d/tcga/LAML/Total_RNA/RNA-Seq/BCCAGSC/ILLUMINA/TCGA-AB-2882-03A-01T-0740-13_rnaseq_fastq.tar  \n",
       "121  gs://5aa919de-0aa0-43ec-9ec3-288481102b6d/tcga/LAML/Total_RNA/RNA-Seq/BCCAGSC/ILLUMINA/TCGA-AB-2882-03A-01T-0740-13_rnaseq_fastq.tar  \n",
       "122  gs://5aa919de-0aa0-43ec-9ec3-288481102b6d/tcga/LAML/Total_RNA/RNA-Seq/BCCAGSC/ILLUMINA/TCGA-AB-2882-03A-01T-0740-13_rnaseq_fastq.tar  \n",
       "123  gs://5aa919de-0aa0-43ec-9ec3-288481102b6d/tcga/LAML/Total_RNA/RNA-Seq/BCCAGSC/ILLUMINA/TCGA-AB-2882-03A-01T-0740-13_rnaseq_fastq.tar  \n",
       "143  gs://5aa919de-0aa0-43ec-9ec3-288481102b6d/tcga/LAML/Total_RNA/RNA-Seq/BCCAGSC/ILLUMINA/TCGA-AB-2917-03A-01T-0734-13_rnaseq_fastq.tar  "
      ]
     },
     "execution_count": 84,
     "metadata": {},
     "output_type": "execute_result"
    }
   ],
   "source": [
    "df_4f[cols].head()"
   ]
  },
  {
   "cell_type": "code",
   "execution_count": 85,
   "metadata": {
    "collapsed": false
   },
   "outputs": [
    {
     "data": {
      "text/plain": [
       "185"
      ]
     },
     "execution_count": 85,
     "metadata": {},
     "output_type": "execute_result"
    }
   ],
   "source": [
    "len(df_4f.GCSobject.unique())"
   ]
  },
  {
   "cell_type": "code",
   "execution_count": 86,
   "metadata": {
    "collapsed": false
   },
   "outputs": [
    {
     "data": {
      "text/plain": [
       "ACUTE MYELOID LEUKEMIA    604\n",
       "STOMACH ADENOCARCINOMA    136\n",
       "Name: disease_name, dtype: int64"
      ]
     },
     "execution_count": 86,
     "metadata": {},
     "output_type": "execute_result"
    }
   ],
   "source": [
    "df_4f.disease_name.value_counts()"
   ]
  },
  {
   "cell_type": "code",
   "execution_count": 87,
   "metadata": {
    "collapsed": false
   },
   "outputs": [
    {
     "data": {
      "text/plain": [
       "Illumina Genome Analyzer IIx    732\n",
       "Illumina HiSeq 2000             8  \n",
       "Name: platform_full_name, dtype: int64"
      ]
     },
     "execution_count": 87,
     "metadata": {},
     "output_type": "execute_result"
    }
   ],
   "source": [
    "df_4f.platform_full_name.value_counts()"
   ]
  },
  {
   "cell_type": "markdown",
   "metadata": {
    "collapsed": true
   },
   "source": [
    "# Summary:"
   ]
  },
  {
   "cell_type": "markdown",
   "metadata": {},
   "source": [
    "Inconsistency in the data format mainly comes from BCCAGSC:\n",
    "1. All BCCAGSC sample (sample and analysis ID are used interchangeably) tarballs are not gzipped\n",
    "2. BCCAGSC samples can container over 2 (i.e. 4, 6) fastq files.\n",
    "3. There is one sample in BCCAGSC that have bad read length distribution, while all other samples have consistent read length per sample"
   ]
  },
  {
   "cell_type": "markdown",
   "metadata": {},
   "source": [
    "## aliquot_id and analysis_id don't always have one-to-one relationship"
   ]
  },
  {
   "cell_type": "code",
   "execution_count": 88,
   "metadata": {
    "collapsed": false
   },
   "outputs": [
    {
     "data": {
      "text/plain": [
       "(10630,)"
      ]
     },
     "execution_count": 88,
     "metadata": {},
     "output_type": "execute_result"
    }
   ],
   "source": [
    "ndf.aliquot_id.unique().shape"
   ]
  },
  {
   "cell_type": "code",
   "execution_count": 89,
   "metadata": {
    "collapsed": false
   },
   "outputs": [
    {
     "data": {
      "text/plain": [
       "(10668,)"
      ]
     },
     "execution_count": 89,
     "metadata": {},
     "output_type": "execute_result"
    }
   ],
   "source": [
    "ndf.analysis_id.unique().shape"
   ]
  },
  {
   "cell_type": "code",
   "execution_count": 90,
   "metadata": {
    "collapsed": false
   },
   "outputs": [],
   "source": [
    "tmp_count_df = ndf.groupby('aliquot_id').count().ix[:,1]"
   ]
  },
  {
   "cell_type": "code",
   "execution_count": 91,
   "metadata": {
    "collapsed": false,
    "scrolled": true
   },
   "outputs": [
    {
     "data": {
      "text/plain": [
       "aliquot_id\n",
       "00055bad-54b7-4898-a9ae-3dd8036e62d3    2\n",
       "000b3ce1-5bcf-4dd5-b7e4-e4f9367a939b    2\n",
       "000d877f-8d03-44bc-8607-27b5ba84b5fe    2\n",
       "001443c3-137d-46ae-a767-87d453b32fbb    2\n",
       "00168e86-d23a-48ae-8c60-36d970051907    2\n",
       "Name: AliquotBarcode, dtype: int64"
      ]
     },
     "execution_count": 91,
     "metadata": {},
     "output_type": "execute_result"
    }
   ],
   "source": [
    "tmp_count_df[tmp_count_df > 1].head()"
   ]
  },
  {
   "cell_type": "markdown",
   "metadata": {},
   "source": [
    "### Check the first few in more detail"
   ]
  },
  {
   "cell_type": "code",
   "execution_count": 92,
   "metadata": {
    "collapsed": false
   },
   "outputs": [
    {
     "data": {
      "text/html": [
       "<div>\n",
       "<table border=\"1\" class=\"dataframe\">\n",
       "  <thead>\n",
       "    <tr style=\"text-align: right;\">\n",
       "      <th></th>\n",
       "      <th>CGHub_analysisID</th>\n",
       "      <th>AliquotBarcode</th>\n",
       "      <th>fastqFilename</th>\n",
       "      <th>FastQC_html_url</th>\n",
       "      <th>FastQC_zip_url</th>\n",
       "      <th>BasicStats</th>\n",
       "      <th>numTotalSeq</th>\n",
       "      <th>numPoorSeq</th>\n",
       "      <th>minLength</th>\n",
       "      <th>maxLength</th>\n",
       "      <th>delLength</th>\n",
       "      <th>pctGC</th>\n",
       "      <th>SeqLenDist</th>\n",
       "      <th>SeqDupLev</th>\n",
       "      <th>Total_Dedup_Pct</th>\n",
       "      <th>OverrepSeq</th>\n",
       "      <th>AdaptCont</th>\n",
       "      <th>KmerCont</th>\n",
       "      <th>study</th>\n",
       "      <th>barcode</th>\n",
       "      <th>disease</th>\n",
       "      <th>disease_name</th>\n",
       "      <th>sample_type</th>\n",
       "      <th>sample_type_name</th>\n",
       "      <th>analyte_type</th>\n",
       "      <th>library_type</th>\n",
       "      <th>center</th>\n",
       "      <th>center_name</th>\n",
       "      <th>platform</th>\n",
       "      <th>platform_name</th>\n",
       "      <th>assembly</th>\n",
       "      <th>filename</th>\n",
       "      <th>files_size</th>\n",
       "      <th>checksum</th>\n",
       "      <th>analysis_id</th>\n",
       "      <th>aliquot_id</th>\n",
       "      <th>participant_id</th>\n",
       "      <th>sample_id</th>\n",
       "      <th>tss_id</th>\n",
       "      <th>sample_accession</th>\n",
       "      <th>published</th>\n",
       "      <th>uploaded</th>\n",
       "      <th>modified</th>\n",
       "      <th>state</th>\n",
       "      <th>sample_type_code</th>\n",
       "      <th>analyte_type_code</th>\n",
       "      <th>platform_full_name</th>\n",
       "      <th>file_type</th>\n",
       "      <th>reason</th>\n",
       "      <th>reagent_vendor</th>\n",
       "      <th>reagent_name</th>\n",
       "      <th>catalog_number</th>\n",
       "      <th>is_custom</th>\n",
       "      <th>target_file_url</th>\n",
       "      <th>probe_file_url</th>\n",
       "      <th>CGHubAnalysisID</th>\n",
       "      <th>AliquotUUID</th>\n",
       "      <th>GCSobject</th>\n",
       "      <th>objectSizeBytes</th>\n",
       "      <th>pretty_size</th>\n",
       "      <th>handy_disease_names</th>\n",
       "      <th>GCSobject_ext</th>\n",
       "    </tr>\n",
       "  </thead>\n",
       "  <tbody>\n",
       "    <tr>\n",
       "      <th>12748</th>\n",
       "      <td>9166c72f-8a43-425e-96d9-7fa6923a7f9e</td>\n",
       "      <td>TCGA-AZ-4313-01A-01R-1410-07</td>\n",
       "      <td>121206_UNC15-SN850_0244_AD1H97ACXX_GGCTAC_L003_1.fastq</td>\n",
       "      <td>https://storage.cloud.google.com/isb-cgc-open/tcga-qc/COAD/RNA/RNA-Seq/UNC-LCCC/ILLUMINA/9166c72f-8a43-425e-96d9-7fa6923a7f9e-121206_UNC15-SN850_0244_AD1H97ACXX_GGCTAC_L003_1_fastqc.html</td>\n",
       "      <td>https://storage.cloud.google.com/isb-cgc-open/tcga-qc/COAD/RNA/RNA-Seq/UNC-LCCC/ILLUMINA/9166c72f-8a43-425e-96d9-7fa6923a7f9e-121206_UNC15-SN850_0244_AD1H97ACXX_GGCTAC_L003_1_fastqc.zip</td>\n",
       "      <td>pass</td>\n",
       "      <td>54851583</td>\n",
       "      <td>0</td>\n",
       "      <td>48</td>\n",
       "      <td>48</td>\n",
       "      <td>1</td>\n",
       "      <td>50</td>\n",
       "      <td>pass</td>\n",
       "      <td>fail</td>\n",
       "      <td>32.809265</td>\n",
       "      <td>pass</td>\n",
       "      <td>pass</td>\n",
       "      <td>fail</td>\n",
       "      <td>TCGA</td>\n",
       "      <td>TCGA-AZ-4313-01A-01R-1410-07</td>\n",
       "      <td>COAD</td>\n",
       "      <td>COLON ADENOCARCINOMA</td>\n",
       "      <td>TP</td>\n",
       "      <td>Primary solid Tumor</td>\n",
       "      <td>RNA</td>\n",
       "      <td>RNA-Seq</td>\n",
       "      <td>UNC-LCCC</td>\n",
       "      <td>NaN</td>\n",
       "      <td>ILLUMINA</td>\n",
       "      <td>Illumina</td>\n",
       "      <td>unaligned</td>\n",
       "      <td>UNCID_2185736.14d89fac-d1b8-41fb-b812-0ba78aa61d90.121206_UNC15-SN850_0244_AD1H97ACXX_3_GGCTAC.tar.gz</td>\n",
       "      <td>4.873865e+09</td>\n",
       "      <td>aee63edd4e1b2588445927f8495ea4d5</td>\n",
       "      <td>9166c72f-8a43-425e-96d9-7fa6923a7f9e</td>\n",
       "      <td>14d89fac-d1b8-41fb-b812-0ba78aa61d90</td>\n",
       "      <td>1fd75c4d-e74c-410c-a150-814722c6c1cc</td>\n",
       "      <td>475f161c-2f7f-43a2-b187-de6038752f39</td>\n",
       "      <td>AZ</td>\n",
       "      <td>SRS157358</td>\n",
       "      <td>2013-09-15</td>\n",
       "      <td>2013-09-15</td>\n",
       "      <td>2013-09-15</td>\n",
       "      <td>Live</td>\n",
       "      <td>01</td>\n",
       "      <td>R</td>\n",
       "      <td>Illumina HiSeq 2000</td>\n",
       "      <td>fasta</td>\n",
       "      <td>NaN</td>\n",
       "      <td>NaN</td>\n",
       "      <td>NaN</td>\n",
       "      <td>NaN</td>\n",
       "      <td>NaN</td>\n",
       "      <td>NaN</td>\n",
       "      <td>NaN</td>\n",
       "      <td>9166c72f-8a43-425e-96d9-7fa6923a7f9e</td>\n",
       "      <td>14d89fac-d1b8-41fb-b812-0ba78aa61d90</td>\n",
       "      <td>gs://5aa919de-0aa0-43ec-9ec3-288481102b6d/tcga/COAD/RNA/RNA-Seq/UNC-LCCC/ILLUMINA/UNCID_2185736.14d89fac-d1b8-41fb-b812-0ba78aa61d90.121206_UNC15-SN850_0244_AD1H97ACXX_3_GGCTAC.tar.gz</td>\n",
       "      <td>4873865017</td>\n",
       "      <td>4.5 GB</td>\n",
       "      <td>COAD: Colon Adenocarcinoma</td>\n",
       "      <td>.tar.gz</td>\n",
       "    </tr>\n",
       "    <tr>\n",
       "      <th>12749</th>\n",
       "      <td>9166c72f-8a43-425e-96d9-7fa6923a7f9e</td>\n",
       "      <td>TCGA-AZ-4313-01A-01R-1410-07</td>\n",
       "      <td>121206_UNC15-SN850_0244_AD1H97ACXX_GGCTAC_L003_2.fastq</td>\n",
       "      <td>https://storage.cloud.google.com/isb-cgc-open/tcga-qc/COAD/RNA/RNA-Seq/UNC-LCCC/ILLUMINA/9166c72f-8a43-425e-96d9-7fa6923a7f9e-121206_UNC15-SN850_0244_AD1H97ACXX_GGCTAC_L003_2_fastqc.html</td>\n",
       "      <td>https://storage.cloud.google.com/isb-cgc-open/tcga-qc/COAD/RNA/RNA-Seq/UNC-LCCC/ILLUMINA/9166c72f-8a43-425e-96d9-7fa6923a7f9e-121206_UNC15-SN850_0244_AD1H97ACXX_GGCTAC_L003_2_fastqc.zip</td>\n",
       "      <td>pass</td>\n",
       "      <td>54851583</td>\n",
       "      <td>0</td>\n",
       "      <td>48</td>\n",
       "      <td>48</td>\n",
       "      <td>1</td>\n",
       "      <td>50</td>\n",
       "      <td>pass</td>\n",
       "      <td>fail</td>\n",
       "      <td>35.626612</td>\n",
       "      <td>pass</td>\n",
       "      <td>pass</td>\n",
       "      <td>fail</td>\n",
       "      <td>TCGA</td>\n",
       "      <td>TCGA-AZ-4313-01A-01R-1410-07</td>\n",
       "      <td>COAD</td>\n",
       "      <td>COLON ADENOCARCINOMA</td>\n",
       "      <td>TP</td>\n",
       "      <td>Primary solid Tumor</td>\n",
       "      <td>RNA</td>\n",
       "      <td>RNA-Seq</td>\n",
       "      <td>UNC-LCCC</td>\n",
       "      <td>NaN</td>\n",
       "      <td>ILLUMINA</td>\n",
       "      <td>Illumina</td>\n",
       "      <td>unaligned</td>\n",
       "      <td>UNCID_2185736.14d89fac-d1b8-41fb-b812-0ba78aa61d90.121206_UNC15-SN850_0244_AD1H97ACXX_3_GGCTAC.tar.gz</td>\n",
       "      <td>4.873865e+09</td>\n",
       "      <td>aee63edd4e1b2588445927f8495ea4d5</td>\n",
       "      <td>9166c72f-8a43-425e-96d9-7fa6923a7f9e</td>\n",
       "      <td>14d89fac-d1b8-41fb-b812-0ba78aa61d90</td>\n",
       "      <td>1fd75c4d-e74c-410c-a150-814722c6c1cc</td>\n",
       "      <td>475f161c-2f7f-43a2-b187-de6038752f39</td>\n",
       "      <td>AZ</td>\n",
       "      <td>SRS157358</td>\n",
       "      <td>2013-09-15</td>\n",
       "      <td>2013-09-15</td>\n",
       "      <td>2013-09-15</td>\n",
       "      <td>Live</td>\n",
       "      <td>01</td>\n",
       "      <td>R</td>\n",
       "      <td>Illumina HiSeq 2000</td>\n",
       "      <td>fasta</td>\n",
       "      <td>NaN</td>\n",
       "      <td>NaN</td>\n",
       "      <td>NaN</td>\n",
       "      <td>NaN</td>\n",
       "      <td>NaN</td>\n",
       "      <td>NaN</td>\n",
       "      <td>NaN</td>\n",
       "      <td>9166c72f-8a43-425e-96d9-7fa6923a7f9e</td>\n",
       "      <td>14d89fac-d1b8-41fb-b812-0ba78aa61d90</td>\n",
       "      <td>gs://5aa919de-0aa0-43ec-9ec3-288481102b6d/tcga/COAD/RNA/RNA-Seq/UNC-LCCC/ILLUMINA/UNCID_2185736.14d89fac-d1b8-41fb-b812-0ba78aa61d90.121206_UNC15-SN850_0244_AD1H97ACXX_3_GGCTAC.tar.gz</td>\n",
       "      <td>4873865017</td>\n",
       "      <td>4.5 GB</td>\n",
       "      <td>COAD: Colon Adenocarcinoma</td>\n",
       "      <td>.tar.gz</td>\n",
       "    </tr>\n",
       "  </tbody>\n",
       "</table>\n",
       "</div>"
      ],
      "text/plain": [
       "                           CGHub_analysisID                AliquotBarcode                                           fastqFilename  \\\n",
       "12748  9166c72f-8a43-425e-96d9-7fa6923a7f9e  TCGA-AZ-4313-01A-01R-1410-07  121206_UNC15-SN850_0244_AD1H97ACXX_GGCTAC_L003_1.fastq   \n",
       "12749  9166c72f-8a43-425e-96d9-7fa6923a7f9e  TCGA-AZ-4313-01A-01R-1410-07  121206_UNC15-SN850_0244_AD1H97ACXX_GGCTAC_L003_2.fastq   \n",
       "\n",
       "                                                                                                                                                                                  FastQC_html_url  \\\n",
       "12748  https://storage.cloud.google.com/isb-cgc-open/tcga-qc/COAD/RNA/RNA-Seq/UNC-LCCC/ILLUMINA/9166c72f-8a43-425e-96d9-7fa6923a7f9e-121206_UNC15-SN850_0244_AD1H97ACXX_GGCTAC_L003_1_fastqc.html   \n",
       "12749  https://storage.cloud.google.com/isb-cgc-open/tcga-qc/COAD/RNA/RNA-Seq/UNC-LCCC/ILLUMINA/9166c72f-8a43-425e-96d9-7fa6923a7f9e-121206_UNC15-SN850_0244_AD1H97ACXX_GGCTAC_L003_2_fastqc.html   \n",
       "\n",
       "                                                                                                                                                                                  FastQC_zip_url BasicStats  numTotalSeq  numPoorSeq  minLength  maxLength  delLength  pctGC SeqLenDist SeqDupLev  \\\n",
       "12748  https://storage.cloud.google.com/isb-cgc-open/tcga-qc/COAD/RNA/RNA-Seq/UNC-LCCC/ILLUMINA/9166c72f-8a43-425e-96d9-7fa6923a7f9e-121206_UNC15-SN850_0244_AD1H97ACXX_GGCTAC_L003_1_fastqc.zip  pass       54851583     0           48         48         1          50     pass       fail       \n",
       "12749  https://storage.cloud.google.com/isb-cgc-open/tcga-qc/COAD/RNA/RNA-Seq/UNC-LCCC/ILLUMINA/9166c72f-8a43-425e-96d9-7fa6923a7f9e-121206_UNC15-SN850_0244_AD1H97ACXX_GGCTAC_L003_2_fastqc.zip  pass       54851583     0           48         48         1          50     pass       fail       \n",
       "\n",
       "       Total_Dedup_Pct OverrepSeq AdaptCont KmerCont study                       barcode disease          disease_name sample_type     sample_type_name analyte_type library_type    center  center_name  platform platform_name   assembly  \\\n",
       "12748  32.809265        pass       pass      fail     TCGA  TCGA-AZ-4313-01A-01R-1410-07  COAD    COLON ADENOCARCINOMA  TP          Primary solid Tumor  RNA          RNA-Seq      UNC-LCCC NaN           ILLUMINA  Illumina      unaligned   \n",
       "12749  35.626612        pass       pass      fail     TCGA  TCGA-AZ-4313-01A-01R-1410-07  COAD    COLON ADENOCARCINOMA  TP          Primary solid Tumor  RNA          RNA-Seq      UNC-LCCC NaN           ILLUMINA  Illumina      unaligned   \n",
       "\n",
       "                                                                                                    filename    files_size                          checksum                           analysis_id                            aliquot_id                        participant_id  \\\n",
       "12748  UNCID_2185736.14d89fac-d1b8-41fb-b812-0ba78aa61d90.121206_UNC15-SN850_0244_AD1H97ACXX_3_GGCTAC.tar.gz  4.873865e+09  aee63edd4e1b2588445927f8495ea4d5  9166c72f-8a43-425e-96d9-7fa6923a7f9e  14d89fac-d1b8-41fb-b812-0ba78aa61d90  1fd75c4d-e74c-410c-a150-814722c6c1cc   \n",
       "12749  UNCID_2185736.14d89fac-d1b8-41fb-b812-0ba78aa61d90.121206_UNC15-SN850_0244_AD1H97ACXX_3_GGCTAC.tar.gz  4.873865e+09  aee63edd4e1b2588445927f8495ea4d5  9166c72f-8a43-425e-96d9-7fa6923a7f9e  14d89fac-d1b8-41fb-b812-0ba78aa61d90  1fd75c4d-e74c-410c-a150-814722c6c1cc   \n",
       "\n",
       "                                  sample_id tss_id sample_accession   published    uploaded    modified state sample_type_code analyte_type_code   platform_full_name file_type reason reagent_vendor reagent_name catalog_number is_custom target_file_url probe_file_url  \\\n",
       "12748  475f161c-2f7f-43a2-b187-de6038752f39  AZ     SRS157358        2013-09-15  2013-09-15  2013-09-15  Live  01               R                 Illumina HiSeq 2000  fasta     NaN    NaN            NaN          NaN            NaN       NaN             NaN             \n",
       "12749  475f161c-2f7f-43a2-b187-de6038752f39  AZ     SRS157358        2013-09-15  2013-09-15  2013-09-15  Live  01               R                 Illumina HiSeq 2000  fasta     NaN    NaN            NaN          NaN            NaN       NaN             NaN             \n",
       "\n",
       "                            CGHubAnalysisID                           AliquotUUID                                                                                                                                                                                GCSobject  objectSizeBytes pretty_size  \\\n",
       "12748  9166c72f-8a43-425e-96d9-7fa6923a7f9e  14d89fac-d1b8-41fb-b812-0ba78aa61d90  gs://5aa919de-0aa0-43ec-9ec3-288481102b6d/tcga/COAD/RNA/RNA-Seq/UNC-LCCC/ILLUMINA/UNCID_2185736.14d89fac-d1b8-41fb-b812-0ba78aa61d90.121206_UNC15-SN850_0244_AD1H97ACXX_3_GGCTAC.tar.gz  4873865017       4.5 GB       \n",
       "12749  9166c72f-8a43-425e-96d9-7fa6923a7f9e  14d89fac-d1b8-41fb-b812-0ba78aa61d90  gs://5aa919de-0aa0-43ec-9ec3-288481102b6d/tcga/COAD/RNA/RNA-Seq/UNC-LCCC/ILLUMINA/UNCID_2185736.14d89fac-d1b8-41fb-b812-0ba78aa61d90.121206_UNC15-SN850_0244_AD1H97ACXX_3_GGCTAC.tar.gz  4873865017       4.5 GB       \n",
       "\n",
       "              handy_disease_names GCSobject_ext  \n",
       "12748  COAD: Colon Adenocarcinoma  .tar.gz       \n",
       "12749  COAD: Colon Adenocarcinoma  .tar.gz       "
      ]
     },
     "execution_count": 92,
     "metadata": {},
     "output_type": "execute_result"
    }
   ],
   "source": [
    "ndf[ndf.aliquot_id == '14d89fac-d1b8-41fb-b812-0ba78aa61d90']"
   ]
  },
  {
   "cell_type": "code",
   "execution_count": 93,
   "metadata": {
    "collapsed": false,
    "scrolled": true
   },
   "outputs": [
    {
     "data": {
      "text/html": [
       "<div>\n",
       "<table border=\"1\" class=\"dataframe\">\n",
       "  <thead>\n",
       "    <tr style=\"text-align: right;\">\n",
       "      <th></th>\n",
       "      <th>CGHub_analysisID</th>\n",
       "      <th>AliquotBarcode</th>\n",
       "      <th>fastqFilename</th>\n",
       "      <th>FastQC_html_url</th>\n",
       "      <th>FastQC_zip_url</th>\n",
       "      <th>BasicStats</th>\n",
       "      <th>numTotalSeq</th>\n",
       "      <th>numPoorSeq</th>\n",
       "      <th>minLength</th>\n",
       "      <th>maxLength</th>\n",
       "      <th>delLength</th>\n",
       "      <th>pctGC</th>\n",
       "      <th>SeqLenDist</th>\n",
       "      <th>SeqDupLev</th>\n",
       "      <th>Total_Dedup_Pct</th>\n",
       "      <th>OverrepSeq</th>\n",
       "      <th>AdaptCont</th>\n",
       "      <th>KmerCont</th>\n",
       "      <th>study</th>\n",
       "      <th>barcode</th>\n",
       "      <th>disease</th>\n",
       "      <th>disease_name</th>\n",
       "      <th>sample_type</th>\n",
       "      <th>sample_type_name</th>\n",
       "      <th>analyte_type</th>\n",
       "      <th>library_type</th>\n",
       "      <th>center</th>\n",
       "      <th>center_name</th>\n",
       "      <th>platform</th>\n",
       "      <th>platform_name</th>\n",
       "      <th>assembly</th>\n",
       "      <th>filename</th>\n",
       "      <th>files_size</th>\n",
       "      <th>checksum</th>\n",
       "      <th>analysis_id</th>\n",
       "      <th>aliquot_id</th>\n",
       "      <th>participant_id</th>\n",
       "      <th>sample_id</th>\n",
       "      <th>tss_id</th>\n",
       "      <th>sample_accession</th>\n",
       "      <th>published</th>\n",
       "      <th>uploaded</th>\n",
       "      <th>modified</th>\n",
       "      <th>state</th>\n",
       "      <th>sample_type_code</th>\n",
       "      <th>analyte_type_code</th>\n",
       "      <th>platform_full_name</th>\n",
       "      <th>file_type</th>\n",
       "      <th>reason</th>\n",
       "      <th>reagent_vendor</th>\n",
       "      <th>reagent_name</th>\n",
       "      <th>catalog_number</th>\n",
       "      <th>is_custom</th>\n",
       "      <th>target_file_url</th>\n",
       "      <th>probe_file_url</th>\n",
       "      <th>CGHubAnalysisID</th>\n",
       "      <th>AliquotUUID</th>\n",
       "      <th>GCSobject</th>\n",
       "      <th>objectSizeBytes</th>\n",
       "      <th>pretty_size</th>\n",
       "      <th>handy_disease_names</th>\n",
       "      <th>GCSobject_ext</th>\n",
       "    </tr>\n",
       "  </thead>\n",
       "  <tbody>\n",
       "    <tr>\n",
       "      <th>1081</th>\n",
       "      <td>0c30f5b1-5ed5-48d1-b8df-df4611761dd3</td>\n",
       "      <td>TCGA-A7-A26F-01B-04R-A22O-07</td>\n",
       "      <td>121011_UNC15-SN850_0238_AD13P9ACXX_NoIndex_L003_1.fastq</td>\n",
       "      <td>https://storage.cloud.google.com/isb-cgc-open/tcga-qc/BRCA/RNA/RNA-Seq/UNC-LCCC/ILLUMINA/0c30f5b1-5ed5-48d1-b8df-df4611761dd3-121011_UNC15-SN850_0238_AD13P9ACXX_NoIndex_L003_1_fastqc.html</td>\n",
       "      <td>https://storage.cloud.google.com/isb-cgc-open/tcga-qc/BRCA/RNA/RNA-Seq/UNC-LCCC/ILLUMINA/0c30f5b1-5ed5-48d1-b8df-df4611761dd3-121011_UNC15-SN850_0238_AD13P9ACXX_NoIndex_L003_1_fastqc.zip</td>\n",
       "      <td>pass</td>\n",
       "      <td>139083102</td>\n",
       "      <td>0</td>\n",
       "      <td>50</td>\n",
       "      <td>50</td>\n",
       "      <td>1</td>\n",
       "      <td>46</td>\n",
       "      <td>pass</td>\n",
       "      <td>warn</td>\n",
       "      <td>50.359123</td>\n",
       "      <td>warn</td>\n",
       "      <td>pass</td>\n",
       "      <td>fail</td>\n",
       "      <td>TCGA</td>\n",
       "      <td>TCGA-A7-A26F-01B-04R-A22O-07</td>\n",
       "      <td>BRCA</td>\n",
       "      <td>BREAST INVASIVE CARCINOMA</td>\n",
       "      <td>TP</td>\n",
       "      <td>Primary solid Tumor</td>\n",
       "      <td>RNA</td>\n",
       "      <td>RNA-Seq</td>\n",
       "      <td>UNC-LCCC</td>\n",
       "      <td>NaN</td>\n",
       "      <td>ILLUMINA</td>\n",
       "      <td>Illumina</td>\n",
       "      <td>unaligned</td>\n",
       "      <td>UNCID_2364669.1B907925-B33C-4E4A-96E0-65F15B4712B9.121011_UNC15-SN850_0238_AD13P9ACXX_3_CAGATC.tar.gz</td>\n",
       "      <td>1.174962e+10</td>\n",
       "      <td>b2635cc07552bd262a14101d51cc3586</td>\n",
       "      <td>0c30f5b1-5ed5-48d1-b8df-df4611761dd3</td>\n",
       "      <td>1B907925-B33C-4E4A-96E0-65F15B4712B9</td>\n",
       "      <td>3b7b9c1e-a84c-47ed-983c-9e4b00cbf01a</td>\n",
       "      <td>29619d1e-e8b4-411e-bbba-07f2cfb69e8a</td>\n",
       "      <td>A7</td>\n",
       "      <td>NaN</td>\n",
       "      <td>2014-02-28</td>\n",
       "      <td>2014-02-28</td>\n",
       "      <td>2014-02-28</td>\n",
       "      <td>Live</td>\n",
       "      <td>01</td>\n",
       "      <td>R</td>\n",
       "      <td>Illumina HiSeq 2000</td>\n",
       "      <td>fasta</td>\n",
       "      <td>NaN</td>\n",
       "      <td>NaN</td>\n",
       "      <td>NaN</td>\n",
       "      <td>NaN</td>\n",
       "      <td>NaN</td>\n",
       "      <td>NaN</td>\n",
       "      <td>NaN</td>\n",
       "      <td>0c30f5b1-5ed5-48d1-b8df-df4611761dd3</td>\n",
       "      <td>1b907925-b33c-4e4a-96e0-65f15b4712b9</td>\n",
       "      <td>gs://5aa919de-0aa0-43ec-9ec3-288481102b6d/tcga/BRCA/RNA/RNA-Seq/UNC-LCCC/ILLUMINA/UNCID_2364669.1B907925-B33C-4E4A-96E0-65F15B4712B9.121011_UNC15-SN850_0238_AD13P9ACXX_3_CAGATC.tar.gz</td>\n",
       "      <td>11749619702</td>\n",
       "      <td>10.9 GB</td>\n",
       "      <td>BRCA: Breast Invasive Carcinoma</td>\n",
       "      <td>.tar.gz</td>\n",
       "    </tr>\n",
       "    <tr>\n",
       "      <th>1082</th>\n",
       "      <td>0c30f5b1-5ed5-48d1-b8df-df4611761dd3</td>\n",
       "      <td>TCGA-A7-A26F-01B-04R-A22O-07</td>\n",
       "      <td>121011_UNC15-SN850_0238_AD13P9ACXX_NoIndex_L003_2.fastq</td>\n",
       "      <td>https://storage.cloud.google.com/isb-cgc-open/tcga-qc/BRCA/RNA/RNA-Seq/UNC-LCCC/ILLUMINA/0c30f5b1-5ed5-48d1-b8df-df4611761dd3-121011_UNC15-SN850_0238_AD13P9ACXX_NoIndex_L003_2_fastqc.html</td>\n",
       "      <td>https://storage.cloud.google.com/isb-cgc-open/tcga-qc/BRCA/RNA/RNA-Seq/UNC-LCCC/ILLUMINA/0c30f5b1-5ed5-48d1-b8df-df4611761dd3-121011_UNC15-SN850_0238_AD13P9ACXX_NoIndex_L003_2_fastqc.zip</td>\n",
       "      <td>pass</td>\n",
       "      <td>139083102</td>\n",
       "      <td>0</td>\n",
       "      <td>50</td>\n",
       "      <td>50</td>\n",
       "      <td>1</td>\n",
       "      <td>46</td>\n",
       "      <td>pass</td>\n",
       "      <td>warn</td>\n",
       "      <td>50.832837</td>\n",
       "      <td>warn</td>\n",
       "      <td>pass</td>\n",
       "      <td>fail</td>\n",
       "      <td>TCGA</td>\n",
       "      <td>TCGA-A7-A26F-01B-04R-A22O-07</td>\n",
       "      <td>BRCA</td>\n",
       "      <td>BREAST INVASIVE CARCINOMA</td>\n",
       "      <td>TP</td>\n",
       "      <td>Primary solid Tumor</td>\n",
       "      <td>RNA</td>\n",
       "      <td>RNA-Seq</td>\n",
       "      <td>UNC-LCCC</td>\n",
       "      <td>NaN</td>\n",
       "      <td>ILLUMINA</td>\n",
       "      <td>Illumina</td>\n",
       "      <td>unaligned</td>\n",
       "      <td>UNCID_2364669.1B907925-B33C-4E4A-96E0-65F15B4712B9.121011_UNC15-SN850_0238_AD13P9ACXX_3_CAGATC.tar.gz</td>\n",
       "      <td>1.174962e+10</td>\n",
       "      <td>b2635cc07552bd262a14101d51cc3586</td>\n",
       "      <td>0c30f5b1-5ed5-48d1-b8df-df4611761dd3</td>\n",
       "      <td>1B907925-B33C-4E4A-96E0-65F15B4712B9</td>\n",
       "      <td>3b7b9c1e-a84c-47ed-983c-9e4b00cbf01a</td>\n",
       "      <td>29619d1e-e8b4-411e-bbba-07f2cfb69e8a</td>\n",
       "      <td>A7</td>\n",
       "      <td>NaN</td>\n",
       "      <td>2014-02-28</td>\n",
       "      <td>2014-02-28</td>\n",
       "      <td>2014-02-28</td>\n",
       "      <td>Live</td>\n",
       "      <td>01</td>\n",
       "      <td>R</td>\n",
       "      <td>Illumina HiSeq 2000</td>\n",
       "      <td>fasta</td>\n",
       "      <td>NaN</td>\n",
       "      <td>NaN</td>\n",
       "      <td>NaN</td>\n",
       "      <td>NaN</td>\n",
       "      <td>NaN</td>\n",
       "      <td>NaN</td>\n",
       "      <td>NaN</td>\n",
       "      <td>0c30f5b1-5ed5-48d1-b8df-df4611761dd3</td>\n",
       "      <td>1b907925-b33c-4e4a-96e0-65f15b4712b9</td>\n",
       "      <td>gs://5aa919de-0aa0-43ec-9ec3-288481102b6d/tcga/BRCA/RNA/RNA-Seq/UNC-LCCC/ILLUMINA/UNCID_2364669.1B907925-B33C-4E4A-96E0-65F15B4712B9.121011_UNC15-SN850_0238_AD13P9ACXX_3_CAGATC.tar.gz</td>\n",
       "      <td>11749619702</td>\n",
       "      <td>10.9 GB</td>\n",
       "      <td>BRCA: Breast Invasive Carcinoma</td>\n",
       "      <td>.tar.gz</td>\n",
       "    </tr>\n",
       "    <tr>\n",
       "      <th>11467</th>\n",
       "      <td>822d3bb2-b845-4073-a5fb-7ecf9e5c10a1</td>\n",
       "      <td>TCGA-A7-A26F-01B-04R-A22O-07</td>\n",
       "      <td>120710_UNC12-SN629_0215_BC0WRNACXX_TGACCA_L004_1.fastq</td>\n",
       "      <td>https://storage.cloud.google.com/isb-cgc-open/tcga-qc/BRCA/RNA/RNA-Seq/UNC-LCCC/ILLUMINA/822d3bb2-b845-4073-a5fb-7ecf9e5c10a1-120710_UNC12-SN629_0215_BC0WRNACXX_TGACCA_L004_1_fastqc.html</td>\n",
       "      <td>https://storage.cloud.google.com/isb-cgc-open/tcga-qc/BRCA/RNA/RNA-Seq/UNC-LCCC/ILLUMINA/822d3bb2-b845-4073-a5fb-7ecf9e5c10a1-120710_UNC12-SN629_0215_BC0WRNACXX_TGACCA_L004_1_fastqc.zip</td>\n",
       "      <td>pass</td>\n",
       "      <td>65059204</td>\n",
       "      <td>0</td>\n",
       "      <td>48</td>\n",
       "      <td>48</td>\n",
       "      <td>1</td>\n",
       "      <td>44</td>\n",
       "      <td>pass</td>\n",
       "      <td>fail</td>\n",
       "      <td>43.612713</td>\n",
       "      <td>warn</td>\n",
       "      <td>pass</td>\n",
       "      <td>fail</td>\n",
       "      <td>TCGA</td>\n",
       "      <td>TCGA-A7-A26F-01B-04R-A22O-07</td>\n",
       "      <td>BRCA</td>\n",
       "      <td>BREAST INVASIVE CARCINOMA</td>\n",
       "      <td>TP</td>\n",
       "      <td>Primary solid Tumor</td>\n",
       "      <td>RNA</td>\n",
       "      <td>RNA-Seq</td>\n",
       "      <td>UNC-LCCC</td>\n",
       "      <td>NaN</td>\n",
       "      <td>ILLUMINA</td>\n",
       "      <td>Illumina</td>\n",
       "      <td>unaligned</td>\n",
       "      <td>UNCID_2355700.1B907925-B33C-4E4A-96E0-65F15B4712B9.120710_UNC12-SN629_0215_BC0WRNACXX_4_TGACCA.tar.gz</td>\n",
       "      <td>5.597906e+09</td>\n",
       "      <td>d9a7716157290ede2d13614b8ac1bcb8</td>\n",
       "      <td>822d3bb2-b845-4073-a5fb-7ecf9e5c10a1</td>\n",
       "      <td>1B907925-B33C-4E4A-96E0-65F15B4712B9</td>\n",
       "      <td>3b7b9c1e-a84c-47ed-983c-9e4b00cbf01a</td>\n",
       "      <td>29619d1e-e8b4-411e-bbba-07f2cfb69e8a</td>\n",
       "      <td>A7</td>\n",
       "      <td>NaN</td>\n",
       "      <td>2014-02-21</td>\n",
       "      <td>2014-02-21</td>\n",
       "      <td>2014-02-21</td>\n",
       "      <td>Live</td>\n",
       "      <td>01</td>\n",
       "      <td>R</td>\n",
       "      <td>Illumina HiSeq 2000</td>\n",
       "      <td>fasta</td>\n",
       "      <td>NaN</td>\n",
       "      <td>NaN</td>\n",
       "      <td>NaN</td>\n",
       "      <td>NaN</td>\n",
       "      <td>NaN</td>\n",
       "      <td>NaN</td>\n",
       "      <td>NaN</td>\n",
       "      <td>822d3bb2-b845-4073-a5fb-7ecf9e5c10a1</td>\n",
       "      <td>1b907925-b33c-4e4a-96e0-65f15b4712b9</td>\n",
       "      <td>gs://5aa919de-0aa0-43ec-9ec3-288481102b6d/tcga/BRCA/RNA/RNA-Seq/UNC-LCCC/ILLUMINA/UNCID_2355700.1B907925-B33C-4E4A-96E0-65F15B4712B9.120710_UNC12-SN629_0215_BC0WRNACXX_4_TGACCA.tar.gz</td>\n",
       "      <td>5597905621</td>\n",
       "      <td>5.2 GB</td>\n",
       "      <td>BRCA: Breast Invasive Carcinoma</td>\n",
       "      <td>.tar.gz</td>\n",
       "    </tr>\n",
       "    <tr>\n",
       "      <th>11468</th>\n",
       "      <td>822d3bb2-b845-4073-a5fb-7ecf9e5c10a1</td>\n",
       "      <td>TCGA-A7-A26F-01B-04R-A22O-07</td>\n",
       "      <td>120710_UNC12-SN629_0215_BC0WRNACXX_TGACCA_L004_2.fastq</td>\n",
       "      <td>https://storage.cloud.google.com/isb-cgc-open/tcga-qc/BRCA/RNA/RNA-Seq/UNC-LCCC/ILLUMINA/822d3bb2-b845-4073-a5fb-7ecf9e5c10a1-120710_UNC12-SN629_0215_BC0WRNACXX_TGACCA_L004_2_fastqc.html</td>\n",
       "      <td>https://storage.cloud.google.com/isb-cgc-open/tcga-qc/BRCA/RNA/RNA-Seq/UNC-LCCC/ILLUMINA/822d3bb2-b845-4073-a5fb-7ecf9e5c10a1-120710_UNC12-SN629_0215_BC0WRNACXX_TGACCA_L004_2_fastqc.zip</td>\n",
       "      <td>pass</td>\n",
       "      <td>65059204</td>\n",
       "      <td>0</td>\n",
       "      <td>48</td>\n",
       "      <td>48</td>\n",
       "      <td>1</td>\n",
       "      <td>45</td>\n",
       "      <td>pass</td>\n",
       "      <td>fail</td>\n",
       "      <td>43.449230</td>\n",
       "      <td>pass</td>\n",
       "      <td>pass</td>\n",
       "      <td>fail</td>\n",
       "      <td>TCGA</td>\n",
       "      <td>TCGA-A7-A26F-01B-04R-A22O-07</td>\n",
       "      <td>BRCA</td>\n",
       "      <td>BREAST INVASIVE CARCINOMA</td>\n",
       "      <td>TP</td>\n",
       "      <td>Primary solid Tumor</td>\n",
       "      <td>RNA</td>\n",
       "      <td>RNA-Seq</td>\n",
       "      <td>UNC-LCCC</td>\n",
       "      <td>NaN</td>\n",
       "      <td>ILLUMINA</td>\n",
       "      <td>Illumina</td>\n",
       "      <td>unaligned</td>\n",
       "      <td>UNCID_2355700.1B907925-B33C-4E4A-96E0-65F15B4712B9.120710_UNC12-SN629_0215_BC0WRNACXX_4_TGACCA.tar.gz</td>\n",
       "      <td>5.597906e+09</td>\n",
       "      <td>d9a7716157290ede2d13614b8ac1bcb8</td>\n",
       "      <td>822d3bb2-b845-4073-a5fb-7ecf9e5c10a1</td>\n",
       "      <td>1B907925-B33C-4E4A-96E0-65F15B4712B9</td>\n",
       "      <td>3b7b9c1e-a84c-47ed-983c-9e4b00cbf01a</td>\n",
       "      <td>29619d1e-e8b4-411e-bbba-07f2cfb69e8a</td>\n",
       "      <td>A7</td>\n",
       "      <td>NaN</td>\n",
       "      <td>2014-02-21</td>\n",
       "      <td>2014-02-21</td>\n",
       "      <td>2014-02-21</td>\n",
       "      <td>Live</td>\n",
       "      <td>01</td>\n",
       "      <td>R</td>\n",
       "      <td>Illumina HiSeq 2000</td>\n",
       "      <td>fasta</td>\n",
       "      <td>NaN</td>\n",
       "      <td>NaN</td>\n",
       "      <td>NaN</td>\n",
       "      <td>NaN</td>\n",
       "      <td>NaN</td>\n",
       "      <td>NaN</td>\n",
       "      <td>NaN</td>\n",
       "      <td>822d3bb2-b845-4073-a5fb-7ecf9e5c10a1</td>\n",
       "      <td>1b907925-b33c-4e4a-96e0-65f15b4712b9</td>\n",
       "      <td>gs://5aa919de-0aa0-43ec-9ec3-288481102b6d/tcga/BRCA/RNA/RNA-Seq/UNC-LCCC/ILLUMINA/UNCID_2355700.1B907925-B33C-4E4A-96E0-65F15B4712B9.120710_UNC12-SN629_0215_BC0WRNACXX_4_TGACCA.tar.gz</td>\n",
       "      <td>5597905621</td>\n",
       "      <td>5.2 GB</td>\n",
       "      <td>BRCA: Breast Invasive Carcinoma</td>\n",
       "      <td>.tar.gz</td>\n",
       "    </tr>\n",
       "    <tr>\n",
       "      <th>18852</th>\n",
       "      <td>d7f11b34-6b38-4a7a-80b1-fae9b7243caf</td>\n",
       "      <td>TCGA-A7-A26F-01B-04R-A22O-07</td>\n",
       "      <td>120710_UNC16-SN851_0169_AC0VVKACXX_CAGATC_L002_1.fastq</td>\n",
       "      <td>https://storage.cloud.google.com/isb-cgc-open/tcga-qc/BRCA/RNA/RNA-Seq/UNC-LCCC/ILLUMINA/d7f11b34-6b38-4a7a-80b1-fae9b7243caf-120710_UNC16-SN851_0169_AC0VVKACXX_CAGATC_L002_1_fastqc.html</td>\n",
       "      <td>https://storage.cloud.google.com/isb-cgc-open/tcga-qc/BRCA/RNA/RNA-Seq/UNC-LCCC/ILLUMINA/d7f11b34-6b38-4a7a-80b1-fae9b7243caf-120710_UNC16-SN851_0169_AC0VVKACXX_CAGATC_L002_1_fastqc.zip</td>\n",
       "      <td>pass</td>\n",
       "      <td>74618102</td>\n",
       "      <td>0</td>\n",
       "      <td>48</td>\n",
       "      <td>48</td>\n",
       "      <td>1</td>\n",
       "      <td>46</td>\n",
       "      <td>pass</td>\n",
       "      <td>pass</td>\n",
       "      <td>73.752683</td>\n",
       "      <td>warn</td>\n",
       "      <td>pass</td>\n",
       "      <td>fail</td>\n",
       "      <td>TCGA</td>\n",
       "      <td>TCGA-A7-A26F-01B-04R-A22O-07</td>\n",
       "      <td>BRCA</td>\n",
       "      <td>BREAST INVASIVE CARCINOMA</td>\n",
       "      <td>TP</td>\n",
       "      <td>Primary solid Tumor</td>\n",
       "      <td>RNA</td>\n",
       "      <td>RNA-Seq</td>\n",
       "      <td>UNC-LCCC</td>\n",
       "      <td>NaN</td>\n",
       "      <td>ILLUMINA</td>\n",
       "      <td>Illumina</td>\n",
       "      <td>unaligned</td>\n",
       "      <td>UNCID_2316584.1B907925-B33C-4E4A-96E0-65F15B4712B9.120710_UNC16-SN851_0169_AC0VVKACXX_2_CAGATC.tar.gz</td>\n",
       "      <td>6.460240e+09</td>\n",
       "      <td>e52dc24517c7824b2dcd5250ff076eea</td>\n",
       "      <td>d7f11b34-6b38-4a7a-80b1-fae9b7243caf</td>\n",
       "      <td>1B907925-B33C-4E4A-96E0-65F15B4712B9</td>\n",
       "      <td>3b7b9c1e-a84c-47ed-983c-9e4b00cbf01a</td>\n",
       "      <td>29619d1e-e8b4-411e-bbba-07f2cfb69e8a</td>\n",
       "      <td>A7</td>\n",
       "      <td>NaN</td>\n",
       "      <td>2014-01-06</td>\n",
       "      <td>2014-01-06</td>\n",
       "      <td>2014-01-06</td>\n",
       "      <td>Live</td>\n",
       "      <td>01</td>\n",
       "      <td>R</td>\n",
       "      <td>Illumina HiSeq 2000</td>\n",
       "      <td>fasta</td>\n",
       "      <td>NaN</td>\n",
       "      <td>NaN</td>\n",
       "      <td>NaN</td>\n",
       "      <td>NaN</td>\n",
       "      <td>NaN</td>\n",
       "      <td>NaN</td>\n",
       "      <td>NaN</td>\n",
       "      <td>d7f11b34-6b38-4a7a-80b1-fae9b7243caf</td>\n",
       "      <td>1b907925-b33c-4e4a-96e0-65f15b4712b9</td>\n",
       "      <td>gs://5aa919de-0aa0-43ec-9ec3-288481102b6d/tcga/BRCA/RNA/RNA-Seq/UNC-LCCC/ILLUMINA/UNCID_2316584.1B907925-B33C-4E4A-96E0-65F15B4712B9.120710_UNC16-SN851_0169_AC0VVKACXX_2_CAGATC.tar.gz</td>\n",
       "      <td>6460239681</td>\n",
       "      <td>6.0 GB</td>\n",
       "      <td>BRCA: Breast Invasive Carcinoma</td>\n",
       "      <td>.tar.gz</td>\n",
       "    </tr>\n",
       "    <tr>\n",
       "      <th>18853</th>\n",
       "      <td>d7f11b34-6b38-4a7a-80b1-fae9b7243caf</td>\n",
       "      <td>TCGA-A7-A26F-01B-04R-A22O-07</td>\n",
       "      <td>120710_UNC16-SN851_0169_AC0VVKACXX_CAGATC_L002_2.fastq</td>\n",
       "      <td>https://storage.cloud.google.com/isb-cgc-open/tcga-qc/BRCA/RNA/RNA-Seq/UNC-LCCC/ILLUMINA/d7f11b34-6b38-4a7a-80b1-fae9b7243caf-120710_UNC16-SN851_0169_AC0VVKACXX_CAGATC_L002_2_fastqc.html</td>\n",
       "      <td>https://storage.cloud.google.com/isb-cgc-open/tcga-qc/BRCA/RNA/RNA-Seq/UNC-LCCC/ILLUMINA/d7f11b34-6b38-4a7a-80b1-fae9b7243caf-120710_UNC16-SN851_0169_AC0VVKACXX_CAGATC_L002_2_fastqc.zip</td>\n",
       "      <td>pass</td>\n",
       "      <td>74618102</td>\n",
       "      <td>0</td>\n",
       "      <td>48</td>\n",
       "      <td>48</td>\n",
       "      <td>1</td>\n",
       "      <td>46</td>\n",
       "      <td>pass</td>\n",
       "      <td>warn</td>\n",
       "      <td>62.638952</td>\n",
       "      <td>warn</td>\n",
       "      <td>pass</td>\n",
       "      <td>fail</td>\n",
       "      <td>TCGA</td>\n",
       "      <td>TCGA-A7-A26F-01B-04R-A22O-07</td>\n",
       "      <td>BRCA</td>\n",
       "      <td>BREAST INVASIVE CARCINOMA</td>\n",
       "      <td>TP</td>\n",
       "      <td>Primary solid Tumor</td>\n",
       "      <td>RNA</td>\n",
       "      <td>RNA-Seq</td>\n",
       "      <td>UNC-LCCC</td>\n",
       "      <td>NaN</td>\n",
       "      <td>ILLUMINA</td>\n",
       "      <td>Illumina</td>\n",
       "      <td>unaligned</td>\n",
       "      <td>UNCID_2316584.1B907925-B33C-4E4A-96E0-65F15B4712B9.120710_UNC16-SN851_0169_AC0VVKACXX_2_CAGATC.tar.gz</td>\n",
       "      <td>6.460240e+09</td>\n",
       "      <td>e52dc24517c7824b2dcd5250ff076eea</td>\n",
       "      <td>d7f11b34-6b38-4a7a-80b1-fae9b7243caf</td>\n",
       "      <td>1B907925-B33C-4E4A-96E0-65F15B4712B9</td>\n",
       "      <td>3b7b9c1e-a84c-47ed-983c-9e4b00cbf01a</td>\n",
       "      <td>29619d1e-e8b4-411e-bbba-07f2cfb69e8a</td>\n",
       "      <td>A7</td>\n",
       "      <td>NaN</td>\n",
       "      <td>2014-01-06</td>\n",
       "      <td>2014-01-06</td>\n",
       "      <td>2014-01-06</td>\n",
       "      <td>Live</td>\n",
       "      <td>01</td>\n",
       "      <td>R</td>\n",
       "      <td>Illumina HiSeq 2000</td>\n",
       "      <td>fasta</td>\n",
       "      <td>NaN</td>\n",
       "      <td>NaN</td>\n",
       "      <td>NaN</td>\n",
       "      <td>NaN</td>\n",
       "      <td>NaN</td>\n",
       "      <td>NaN</td>\n",
       "      <td>NaN</td>\n",
       "      <td>d7f11b34-6b38-4a7a-80b1-fae9b7243caf</td>\n",
       "      <td>1b907925-b33c-4e4a-96e0-65f15b4712b9</td>\n",
       "      <td>gs://5aa919de-0aa0-43ec-9ec3-288481102b6d/tcga/BRCA/RNA/RNA-Seq/UNC-LCCC/ILLUMINA/UNCID_2316584.1B907925-B33C-4E4A-96E0-65F15B4712B9.120710_UNC16-SN851_0169_AC0VVKACXX_2_CAGATC.tar.gz</td>\n",
       "      <td>6460239681</td>\n",
       "      <td>6.0 GB</td>\n",
       "      <td>BRCA: Breast Invasive Carcinoma</td>\n",
       "      <td>.tar.gz</td>\n",
       "    </tr>\n",
       "  </tbody>\n",
       "</table>\n",
       "</div>"
      ],
      "text/plain": [
       "                           CGHub_analysisID                AliquotBarcode                                            fastqFilename  \\\n",
       "1081   0c30f5b1-5ed5-48d1-b8df-df4611761dd3  TCGA-A7-A26F-01B-04R-A22O-07  121011_UNC15-SN850_0238_AD13P9ACXX_NoIndex_L003_1.fastq   \n",
       "1082   0c30f5b1-5ed5-48d1-b8df-df4611761dd3  TCGA-A7-A26F-01B-04R-A22O-07  121011_UNC15-SN850_0238_AD13P9ACXX_NoIndex_L003_2.fastq   \n",
       "11467  822d3bb2-b845-4073-a5fb-7ecf9e5c10a1  TCGA-A7-A26F-01B-04R-A22O-07  120710_UNC12-SN629_0215_BC0WRNACXX_TGACCA_L004_1.fastq    \n",
       "11468  822d3bb2-b845-4073-a5fb-7ecf9e5c10a1  TCGA-A7-A26F-01B-04R-A22O-07  120710_UNC12-SN629_0215_BC0WRNACXX_TGACCA_L004_2.fastq    \n",
       "18852  d7f11b34-6b38-4a7a-80b1-fae9b7243caf  TCGA-A7-A26F-01B-04R-A22O-07  120710_UNC16-SN851_0169_AC0VVKACXX_CAGATC_L002_1.fastq    \n",
       "18853  d7f11b34-6b38-4a7a-80b1-fae9b7243caf  TCGA-A7-A26F-01B-04R-A22O-07  120710_UNC16-SN851_0169_AC0VVKACXX_CAGATC_L002_2.fastq    \n",
       "\n",
       "                                                                                                                                                                                   FastQC_html_url  \\\n",
       "1081   https://storage.cloud.google.com/isb-cgc-open/tcga-qc/BRCA/RNA/RNA-Seq/UNC-LCCC/ILLUMINA/0c30f5b1-5ed5-48d1-b8df-df4611761dd3-121011_UNC15-SN850_0238_AD13P9ACXX_NoIndex_L003_1_fastqc.html   \n",
       "1082   https://storage.cloud.google.com/isb-cgc-open/tcga-qc/BRCA/RNA/RNA-Seq/UNC-LCCC/ILLUMINA/0c30f5b1-5ed5-48d1-b8df-df4611761dd3-121011_UNC15-SN850_0238_AD13P9ACXX_NoIndex_L003_2_fastqc.html   \n",
       "11467  https://storage.cloud.google.com/isb-cgc-open/tcga-qc/BRCA/RNA/RNA-Seq/UNC-LCCC/ILLUMINA/822d3bb2-b845-4073-a5fb-7ecf9e5c10a1-120710_UNC12-SN629_0215_BC0WRNACXX_TGACCA_L004_1_fastqc.html    \n",
       "11468  https://storage.cloud.google.com/isb-cgc-open/tcga-qc/BRCA/RNA/RNA-Seq/UNC-LCCC/ILLUMINA/822d3bb2-b845-4073-a5fb-7ecf9e5c10a1-120710_UNC12-SN629_0215_BC0WRNACXX_TGACCA_L004_2_fastqc.html    \n",
       "18852  https://storage.cloud.google.com/isb-cgc-open/tcga-qc/BRCA/RNA/RNA-Seq/UNC-LCCC/ILLUMINA/d7f11b34-6b38-4a7a-80b1-fae9b7243caf-120710_UNC16-SN851_0169_AC0VVKACXX_CAGATC_L002_1_fastqc.html    \n",
       "18853  https://storage.cloud.google.com/isb-cgc-open/tcga-qc/BRCA/RNA/RNA-Seq/UNC-LCCC/ILLUMINA/d7f11b34-6b38-4a7a-80b1-fae9b7243caf-120710_UNC16-SN851_0169_AC0VVKACXX_CAGATC_L002_2_fastqc.html    \n",
       "\n",
       "                                                                                                                                                                                   FastQC_zip_url BasicStats  numTotalSeq  numPoorSeq  minLength  maxLength  delLength  pctGC SeqLenDist SeqDupLev  \\\n",
       "1081   https://storage.cloud.google.com/isb-cgc-open/tcga-qc/BRCA/RNA/RNA-Seq/UNC-LCCC/ILLUMINA/0c30f5b1-5ed5-48d1-b8df-df4611761dd3-121011_UNC15-SN850_0238_AD13P9ACXX_NoIndex_L003_1_fastqc.zip  pass       139083102    0           50         50         1          46     pass       warn       \n",
       "1082   https://storage.cloud.google.com/isb-cgc-open/tcga-qc/BRCA/RNA/RNA-Seq/UNC-LCCC/ILLUMINA/0c30f5b1-5ed5-48d1-b8df-df4611761dd3-121011_UNC15-SN850_0238_AD13P9ACXX_NoIndex_L003_2_fastqc.zip  pass       139083102    0           50         50         1          46     pass       warn       \n",
       "11467  https://storage.cloud.google.com/isb-cgc-open/tcga-qc/BRCA/RNA/RNA-Seq/UNC-LCCC/ILLUMINA/822d3bb2-b845-4073-a5fb-7ecf9e5c10a1-120710_UNC12-SN629_0215_BC0WRNACXX_TGACCA_L004_1_fastqc.zip   pass       65059204     0           48         48         1          44     pass       fail       \n",
       "11468  https://storage.cloud.google.com/isb-cgc-open/tcga-qc/BRCA/RNA/RNA-Seq/UNC-LCCC/ILLUMINA/822d3bb2-b845-4073-a5fb-7ecf9e5c10a1-120710_UNC12-SN629_0215_BC0WRNACXX_TGACCA_L004_2_fastqc.zip   pass       65059204     0           48         48         1          45     pass       fail       \n",
       "18852  https://storage.cloud.google.com/isb-cgc-open/tcga-qc/BRCA/RNA/RNA-Seq/UNC-LCCC/ILLUMINA/d7f11b34-6b38-4a7a-80b1-fae9b7243caf-120710_UNC16-SN851_0169_AC0VVKACXX_CAGATC_L002_1_fastqc.zip   pass       74618102     0           48         48         1          46     pass       pass       \n",
       "18853  https://storage.cloud.google.com/isb-cgc-open/tcga-qc/BRCA/RNA/RNA-Seq/UNC-LCCC/ILLUMINA/d7f11b34-6b38-4a7a-80b1-fae9b7243caf-120710_UNC16-SN851_0169_AC0VVKACXX_CAGATC_L002_2_fastqc.zip   pass       74618102     0           48         48         1          46     pass       warn       \n",
       "\n",
       "       Total_Dedup_Pct OverrepSeq AdaptCont KmerCont study                       barcode disease               disease_name sample_type     sample_type_name analyte_type library_type    center  center_name  platform platform_name   assembly  \\\n",
       "1081   50.359123        warn       pass      fail     TCGA  TCGA-A7-A26F-01B-04R-A22O-07  BRCA    BREAST INVASIVE CARCINOMA  TP          Primary solid Tumor  RNA          RNA-Seq      UNC-LCCC NaN           ILLUMINA  Illumina      unaligned   \n",
       "1082   50.832837        warn       pass      fail     TCGA  TCGA-A7-A26F-01B-04R-A22O-07  BRCA    BREAST INVASIVE CARCINOMA  TP          Primary solid Tumor  RNA          RNA-Seq      UNC-LCCC NaN           ILLUMINA  Illumina      unaligned   \n",
       "11467  43.612713        warn       pass      fail     TCGA  TCGA-A7-A26F-01B-04R-A22O-07  BRCA    BREAST INVASIVE CARCINOMA  TP          Primary solid Tumor  RNA          RNA-Seq      UNC-LCCC NaN           ILLUMINA  Illumina      unaligned   \n",
       "11468  43.449230        pass       pass      fail     TCGA  TCGA-A7-A26F-01B-04R-A22O-07  BRCA    BREAST INVASIVE CARCINOMA  TP          Primary solid Tumor  RNA          RNA-Seq      UNC-LCCC NaN           ILLUMINA  Illumina      unaligned   \n",
       "18852  73.752683        warn       pass      fail     TCGA  TCGA-A7-A26F-01B-04R-A22O-07  BRCA    BREAST INVASIVE CARCINOMA  TP          Primary solid Tumor  RNA          RNA-Seq      UNC-LCCC NaN           ILLUMINA  Illumina      unaligned   \n",
       "18853  62.638952        warn       pass      fail     TCGA  TCGA-A7-A26F-01B-04R-A22O-07  BRCA    BREAST INVASIVE CARCINOMA  TP          Primary solid Tumor  RNA          RNA-Seq      UNC-LCCC NaN           ILLUMINA  Illumina      unaligned   \n",
       "\n",
       "                                                                                                    filename    files_size                          checksum                           analysis_id                            aliquot_id                        participant_id  \\\n",
       "1081   UNCID_2364669.1B907925-B33C-4E4A-96E0-65F15B4712B9.121011_UNC15-SN850_0238_AD13P9ACXX_3_CAGATC.tar.gz  1.174962e+10  b2635cc07552bd262a14101d51cc3586  0c30f5b1-5ed5-48d1-b8df-df4611761dd3  1B907925-B33C-4E4A-96E0-65F15B4712B9  3b7b9c1e-a84c-47ed-983c-9e4b00cbf01a   \n",
       "1082   UNCID_2364669.1B907925-B33C-4E4A-96E0-65F15B4712B9.121011_UNC15-SN850_0238_AD13P9ACXX_3_CAGATC.tar.gz  1.174962e+10  b2635cc07552bd262a14101d51cc3586  0c30f5b1-5ed5-48d1-b8df-df4611761dd3  1B907925-B33C-4E4A-96E0-65F15B4712B9  3b7b9c1e-a84c-47ed-983c-9e4b00cbf01a   \n",
       "11467  UNCID_2355700.1B907925-B33C-4E4A-96E0-65F15B4712B9.120710_UNC12-SN629_0215_BC0WRNACXX_4_TGACCA.tar.gz  5.597906e+09  d9a7716157290ede2d13614b8ac1bcb8  822d3bb2-b845-4073-a5fb-7ecf9e5c10a1  1B907925-B33C-4E4A-96E0-65F15B4712B9  3b7b9c1e-a84c-47ed-983c-9e4b00cbf01a   \n",
       "11468  UNCID_2355700.1B907925-B33C-4E4A-96E0-65F15B4712B9.120710_UNC12-SN629_0215_BC0WRNACXX_4_TGACCA.tar.gz  5.597906e+09  d9a7716157290ede2d13614b8ac1bcb8  822d3bb2-b845-4073-a5fb-7ecf9e5c10a1  1B907925-B33C-4E4A-96E0-65F15B4712B9  3b7b9c1e-a84c-47ed-983c-9e4b00cbf01a   \n",
       "18852  UNCID_2316584.1B907925-B33C-4E4A-96E0-65F15B4712B9.120710_UNC16-SN851_0169_AC0VVKACXX_2_CAGATC.tar.gz  6.460240e+09  e52dc24517c7824b2dcd5250ff076eea  d7f11b34-6b38-4a7a-80b1-fae9b7243caf  1B907925-B33C-4E4A-96E0-65F15B4712B9  3b7b9c1e-a84c-47ed-983c-9e4b00cbf01a   \n",
       "18853  UNCID_2316584.1B907925-B33C-4E4A-96E0-65F15B4712B9.120710_UNC16-SN851_0169_AC0VVKACXX_2_CAGATC.tar.gz  6.460240e+09  e52dc24517c7824b2dcd5250ff076eea  d7f11b34-6b38-4a7a-80b1-fae9b7243caf  1B907925-B33C-4E4A-96E0-65F15B4712B9  3b7b9c1e-a84c-47ed-983c-9e4b00cbf01a   \n",
       "\n",
       "                                  sample_id tss_id sample_accession   published    uploaded    modified state sample_type_code analyte_type_code   platform_full_name file_type reason reagent_vendor reagent_name catalog_number is_custom target_file_url probe_file_url  \\\n",
       "1081   29619d1e-e8b4-411e-bbba-07f2cfb69e8a  A7     NaN              2014-02-28  2014-02-28  2014-02-28  Live  01               R                 Illumina HiSeq 2000  fasta     NaN    NaN            NaN          NaN            NaN       NaN             NaN             \n",
       "1082   29619d1e-e8b4-411e-bbba-07f2cfb69e8a  A7     NaN              2014-02-28  2014-02-28  2014-02-28  Live  01               R                 Illumina HiSeq 2000  fasta     NaN    NaN            NaN          NaN            NaN       NaN             NaN             \n",
       "11467  29619d1e-e8b4-411e-bbba-07f2cfb69e8a  A7     NaN              2014-02-21  2014-02-21  2014-02-21  Live  01               R                 Illumina HiSeq 2000  fasta     NaN    NaN            NaN          NaN            NaN       NaN             NaN             \n",
       "11468  29619d1e-e8b4-411e-bbba-07f2cfb69e8a  A7     NaN              2014-02-21  2014-02-21  2014-02-21  Live  01               R                 Illumina HiSeq 2000  fasta     NaN    NaN            NaN          NaN            NaN       NaN             NaN             \n",
       "18852  29619d1e-e8b4-411e-bbba-07f2cfb69e8a  A7     NaN              2014-01-06  2014-01-06  2014-01-06  Live  01               R                 Illumina HiSeq 2000  fasta     NaN    NaN            NaN          NaN            NaN       NaN             NaN             \n",
       "18853  29619d1e-e8b4-411e-bbba-07f2cfb69e8a  A7     NaN              2014-01-06  2014-01-06  2014-01-06  Live  01               R                 Illumina HiSeq 2000  fasta     NaN    NaN            NaN          NaN            NaN       NaN             NaN             \n",
       "\n",
       "                            CGHubAnalysisID                           AliquotUUID                                                                                                                                                                                GCSobject  objectSizeBytes pretty_size  \\\n",
       "1081   0c30f5b1-5ed5-48d1-b8df-df4611761dd3  1b907925-b33c-4e4a-96e0-65f15b4712b9  gs://5aa919de-0aa0-43ec-9ec3-288481102b6d/tcga/BRCA/RNA/RNA-Seq/UNC-LCCC/ILLUMINA/UNCID_2364669.1B907925-B33C-4E4A-96E0-65F15B4712B9.121011_UNC15-SN850_0238_AD13P9ACXX_3_CAGATC.tar.gz  11749619702      10.9 GB      \n",
       "1082   0c30f5b1-5ed5-48d1-b8df-df4611761dd3  1b907925-b33c-4e4a-96e0-65f15b4712b9  gs://5aa919de-0aa0-43ec-9ec3-288481102b6d/tcga/BRCA/RNA/RNA-Seq/UNC-LCCC/ILLUMINA/UNCID_2364669.1B907925-B33C-4E4A-96E0-65F15B4712B9.121011_UNC15-SN850_0238_AD13P9ACXX_3_CAGATC.tar.gz  11749619702      10.9 GB      \n",
       "11467  822d3bb2-b845-4073-a5fb-7ecf9e5c10a1  1b907925-b33c-4e4a-96e0-65f15b4712b9  gs://5aa919de-0aa0-43ec-9ec3-288481102b6d/tcga/BRCA/RNA/RNA-Seq/UNC-LCCC/ILLUMINA/UNCID_2355700.1B907925-B33C-4E4A-96E0-65F15B4712B9.120710_UNC12-SN629_0215_BC0WRNACXX_4_TGACCA.tar.gz  5597905621       5.2 GB       \n",
       "11468  822d3bb2-b845-4073-a5fb-7ecf9e5c10a1  1b907925-b33c-4e4a-96e0-65f15b4712b9  gs://5aa919de-0aa0-43ec-9ec3-288481102b6d/tcga/BRCA/RNA/RNA-Seq/UNC-LCCC/ILLUMINA/UNCID_2355700.1B907925-B33C-4E4A-96E0-65F15B4712B9.120710_UNC12-SN629_0215_BC0WRNACXX_4_TGACCA.tar.gz  5597905621       5.2 GB       \n",
       "18852  d7f11b34-6b38-4a7a-80b1-fae9b7243caf  1b907925-b33c-4e4a-96e0-65f15b4712b9  gs://5aa919de-0aa0-43ec-9ec3-288481102b6d/tcga/BRCA/RNA/RNA-Seq/UNC-LCCC/ILLUMINA/UNCID_2316584.1B907925-B33C-4E4A-96E0-65F15B4712B9.120710_UNC16-SN851_0169_AC0VVKACXX_2_CAGATC.tar.gz  6460239681       6.0 GB       \n",
       "18853  d7f11b34-6b38-4a7a-80b1-fae9b7243caf  1b907925-b33c-4e4a-96e0-65f15b4712b9  gs://5aa919de-0aa0-43ec-9ec3-288481102b6d/tcga/BRCA/RNA/RNA-Seq/UNC-LCCC/ILLUMINA/UNCID_2316584.1B907925-B33C-4E4A-96E0-65F15B4712B9.120710_UNC16-SN851_0169_AC0VVKACXX_2_CAGATC.tar.gz  6460239681       6.0 GB       \n",
       "\n",
       "                   handy_disease_names GCSobject_ext  \n",
       "1081   BRCA: Breast Invasive Carcinoma  .tar.gz       \n",
       "1082   BRCA: Breast Invasive Carcinoma  .tar.gz       \n",
       "11467  BRCA: Breast Invasive Carcinoma  .tar.gz       \n",
       "11468  BRCA: Breast Invasive Carcinoma  .tar.gz       \n",
       "18852  BRCA: Breast Invasive Carcinoma  .tar.gz       \n",
       "18853  BRCA: Breast Invasive Carcinoma  .tar.gz       "
      ]
     },
     "execution_count": 93,
     "metadata": {},
     "output_type": "execute_result"
    }
   ],
   "source": [
    "ndf[ndf.aliquot_id == '1B907925-B33C-4E4A-96E0-65F15B4712B9']"
   ]
  },
  {
   "cell_type": "code",
   "execution_count": null,
   "metadata": {
    "collapsed": true
   },
   "outputs": [],
   "source": []
  },
  {
   "cell_type": "code",
   "execution_count": null,
   "metadata": {
    "collapsed": true
   },
   "outputs": [],
   "source": []
  },
  {
   "cell_type": "code",
   "execution_count": null,
   "metadata": {
    "collapsed": true
   },
   "outputs": [],
   "source": []
  },
  {
   "cell_type": "code",
   "execution_count": null,
   "metadata": {
    "collapsed": true
   },
   "outputs": [],
   "source": []
  },
  {
   "cell_type": "markdown",
   "metadata": {},
   "source": [
    "### Some overall stats about the datasets analyzed"
   ]
  },
  {
   "cell_type": "code",
   "execution_count": 94,
   "metadata": {
    "collapsed": false
   },
   "outputs": [
    {
     "data": {
      "text/plain": [
       "(10668,)"
      ]
     },
     "execution_count": 94,
     "metadata": {},
     "output_type": "execute_result"
    }
   ],
   "source": [
    "# Number of samples analyzed in total\n",
    "ndf.analysis_id.unique().shape"
   ]
  },
  {
   "cell_type": "code",
   "execution_count": 95,
   "metadata": {
    "collapsed": false
   },
   "outputs": [
    {
     "data": {
      "text/plain": [
       "148092621.38545182"
      ]
     },
     "execution_count": 95,
     "metadata": {},
     "output_type": "execute_result"
    }
   ],
   "source": [
    "# How many raw reads did they have on average (before gene selection)\n",
    "\n",
    "# Each row (i.e. fastq file) has its own numTotalSeq, so use sum for each analysis_id\n",
    "ndf.groupby('analysis_id').apply(lambda g: g.numTotalSeq.sum()).mean()"
   ]
  },
  {
   "cell_type": "code",
   "execution_count": 96,
   "metadata": {
    "collapsed": false
   },
   "outputs": [],
   "source": [
    "# ndf[ndf.analysis_id == '014ee344-2844-4bc4-842e-e6d6e1e8fd9b']"
   ]
  },
  {
   "cell_type": "code",
   "execution_count": 97,
   "metadata": {
    "collapsed": true
   },
   "outputs": [],
   "source": [
    "# How many genes did we target?\n",
    "\n",
    "# 114\n",
    "\n",
    "# See details at https://github.com/bcgsc/utrtargets"
   ]
  },
  {
   "cell_type": "code",
   "execution_count": 98,
   "metadata": {
    "collapsed": false
   },
   "outputs": [
    {
     "data": {
      "text/plain": [
       "array([1])"
      ]
     },
     "execution_count": 98,
     "metadata": {},
     "output_type": "execute_result"
    }
   ],
   "source": [
    "# What were the read lengths?\n",
    "ndf.groupby('analysis_id').apply(lambda g: g.maxLength.unique().shape[0]).unique()"
   ]
  },
  {
   "cell_type": "code",
   "execution_count": 99,
   "metadata": {
    "collapsed": false
   },
   "outputs": [],
   "source": [
    "_df = ndf.groupby('analysis_id').apply(lambda g: g.maxLength.unique()[0]).value_counts().to_frame(name='#')"
   ]
  },
  {
   "cell_type": "code",
   "execution_count": 100,
   "metadata": {
    "collapsed": false
   },
   "outputs": [],
   "source": [
    "_df['%'] = _df['#'].apply(lambda x:x / _df['#'].sum())"
   ]
  },
  {
   "cell_type": "code",
   "execution_count": 101,
   "metadata": {
    "collapsed": false
   },
   "outputs": [
    {
     "data": {
      "text/html": [
       "<div>\n",
       "<table border=\"1\" class=\"dataframe\">\n",
       "  <thead>\n",
       "    <tr style=\"text-align: right;\">\n",
       "      <th></th>\n",
       "      <th>#</th>\n",
       "      <th>%</th>\n",
       "    </tr>\n",
       "  </thead>\n",
       "  <tbody>\n",
       "    <tr>\n",
       "      <th>48</th>\n",
       "      <td>7445</td>\n",
       "      <td>0.697882</td>\n",
       "    </tr>\n",
       "    <tr>\n",
       "      <th>50</th>\n",
       "      <td>2010</td>\n",
       "      <td>0.188414</td>\n",
       "    </tr>\n",
       "    <tr>\n",
       "      <th>75</th>\n",
       "      <td>1041</td>\n",
       "      <td>0.097582</td>\n",
       "    </tr>\n",
       "    <tr>\n",
       "      <th>76</th>\n",
       "      <td>170</td>\n",
       "      <td>0.015936</td>\n",
       "    </tr>\n",
       "    <tr>\n",
       "      <th>100</th>\n",
       "      <td>2</td>\n",
       "      <td>0.000187</td>\n",
       "    </tr>\n",
       "  </tbody>\n",
       "</table>\n",
       "</div>"
      ],
      "text/plain": [
       "        #         %\n",
       "48   7445  0.697882\n",
       "50   2010  0.188414\n",
       "75   1041  0.097582\n",
       "76   170   0.015936\n",
       "100  2     0.000187"
      ]
     },
     "execution_count": 101,
     "metadata": {},
     "output_type": "execute_result"
    }
   ],
   "source": [
    "_df"
   ]
  },
  {
   "cell_type": "code",
   "execution_count": 102,
   "metadata": {
    "collapsed": false
   },
   "outputs": [],
   "source": [
    "_df = _df.reset_index().rename(columns={'index': 'read_len'})"
   ]
  },
  {
   "cell_type": "code",
   "execution_count": 103,
   "metadata": {
    "collapsed": false
   },
   "outputs": [
    {
     "data": {
      "text/html": [
       "<div>\n",
       "<table border=\"1\" class=\"dataframe\">\n",
       "  <thead>\n",
       "    <tr style=\"text-align: right;\">\n",
       "      <th></th>\n",
       "      <th>read_len</th>\n",
       "      <th>#</th>\n",
       "      <th>%</th>\n",
       "    </tr>\n",
       "  </thead>\n",
       "  <tbody>\n",
       "    <tr>\n",
       "      <th>0</th>\n",
       "      <td>48</td>\n",
       "      <td>7445</td>\n",
       "      <td>0.697882</td>\n",
       "    </tr>\n",
       "    <tr>\n",
       "      <th>1</th>\n",
       "      <td>50</td>\n",
       "      <td>2010</td>\n",
       "      <td>0.188414</td>\n",
       "    </tr>\n",
       "    <tr>\n",
       "      <th>2</th>\n",
       "      <td>75</td>\n",
       "      <td>1041</td>\n",
       "      <td>0.097582</td>\n",
       "    </tr>\n",
       "    <tr>\n",
       "      <th>3</th>\n",
       "      <td>76</td>\n",
       "      <td>170</td>\n",
       "      <td>0.015936</td>\n",
       "    </tr>\n",
       "    <tr>\n",
       "      <th>4</th>\n",
       "      <td>100</td>\n",
       "      <td>2</td>\n",
       "      <td>0.000187</td>\n",
       "    </tr>\n",
       "  </tbody>\n",
       "</table>\n",
       "</div>"
      ],
      "text/plain": [
       "   read_len     #         %\n",
       "0  48        7445  0.697882\n",
       "1  50        2010  0.188414\n",
       "2  75        1041  0.097582\n",
       "3  76        170   0.015936\n",
       "4  100       2     0.000187"
      ]
     },
     "execution_count": 103,
     "metadata": {},
     "output_type": "execute_result"
    }
   ],
   "source": [
    "_df"
   ]
  },
  {
   "cell_type": "code",
   "execution_count": 104,
   "metadata": {
    "collapsed": false
   },
   "outputs": [
    {
     "data": {
      "text/plain": [
       "51.467472815898013"
      ]
     },
     "execution_count": 104,
     "metadata": {},
     "output_type": "execute_result"
    }
   ],
   "source": [
    "# average read length over all samples\n",
    "(_df.read_len * _df['%']).sum()"
   ]
  },
  {
   "cell_type": "code",
   "execution_count": null,
   "metadata": {
    "collapsed": true
   },
   "outputs": [],
   "source": []
  },
  {
   "cell_type": "markdown",
   "metadata": {},
   "source": [
    "### Future processing of the data will be by center, starting with BI since it have the smallest number of samples, then UNC-LCCC."
   ]
  },
  {
   "cell_type": "markdown",
   "metadata": {},
   "source": [
    "# BI"
   ]
  },
  {
   "cell_type": "code",
   "execution_count": 105,
   "metadata": {
    "collapsed": true
   },
   "outputs": [],
   "source": [
    "bi_df = ndf[ndf.center == 'BI']"
   ]
  },
  {
   "cell_type": "code",
   "execution_count": 106,
   "metadata": {
    "collapsed": false
   },
   "outputs": [
    {
     "data": {
      "text/plain": [
       "(170,)"
      ]
     },
     "execution_count": 106,
     "metadata": {},
     "output_type": "execute_result"
    }
   ],
   "source": [
    "bi_df.GCSobject.unique().shape"
   ]
  },
  {
   "cell_type": "code",
   "execution_count": 107,
   "metadata": {
    "collapsed": false
   },
   "outputs": [
    {
     "data": {
      "text/plain": [
       "count    3.400000e+02\n",
       "mean     6.898863e+09\n",
       "std      9.992603e+08\n",
       "min      4.102832e+09\n",
       "25%      6.292599e+09\n",
       "50%      6.849823e+09\n",
       "75%      7.417438e+09\n",
       "max      1.297000e+10\n",
       "Name: objectSizeBytes, dtype: float64"
      ]
     },
     "execution_count": 107,
     "metadata": {},
     "output_type": "execute_result"
    }
   ],
   "source": [
    "# So the mean is about 6GB\n",
    "bi_df.objectSizeBytes.describe()"
   ]
  },
  {
   "cell_type": "code",
   "execution_count": 108,
   "metadata": {
    "collapsed": false
   },
   "outputs": [
    {
     "data": {
      "text/plain": [
       "GBM    340\n",
       "Name: disease, dtype: int64"
      ]
     },
     "execution_count": 108,
     "metadata": {},
     "output_type": "execute_result"
    }
   ],
   "source": [
    "bi_df.disease.value_counts()"
   ]
  },
  {
   "cell_type": "code",
   "execution_count": 109,
   "metadata": {
    "collapsed": false
   },
   "outputs": [
    {
     "data": {
      "text/plain": [
       "GLIOBLASTOMA MULTIFORME    340\n",
       "Name: disease_name, dtype: int64"
      ]
     },
     "execution_count": 109,
     "metadata": {},
     "output_type": "execute_result"
    }
   ],
   "source": [
    "bi_df.disease_name.value_counts()"
   ]
  },
  {
   "cell_type": "code",
   "execution_count": 110,
   "metadata": {
    "collapsed": false
   },
   "outputs": [
    {
     "data": {
      "text/plain": [
       "76    340\n",
       "Name: maxLength, dtype: int64"
      ]
     },
     "execution_count": 110,
     "metadata": {},
     "output_type": "execute_result"
    }
   ],
   "source": [
    "bi_df.maxLength.value_counts()"
   ]
  },
  {
   "cell_type": "code",
   "execution_count": 111,
   "metadata": {
    "collapsed": false
   },
   "outputs": [
    {
     "data": {
      "text/html": [
       "<div>\n",
       "<table border=\"1\" class=\"dataframe\">\n",
       "  <thead>\n",
       "    <tr style=\"text-align: right;\">\n",
       "      <th></th>\n",
       "      <th>CGHub_analysisID</th>\n",
       "      <th>AliquotBarcode</th>\n",
       "      <th>fastqFilename</th>\n",
       "      <th>FastQC_html_url</th>\n",
       "      <th>FastQC_zip_url</th>\n",
       "      <th>BasicStats</th>\n",
       "      <th>numTotalSeq</th>\n",
       "      <th>numPoorSeq</th>\n",
       "      <th>minLength</th>\n",
       "      <th>maxLength</th>\n",
       "      <th>delLength</th>\n",
       "      <th>pctGC</th>\n",
       "      <th>SeqLenDist</th>\n",
       "      <th>SeqDupLev</th>\n",
       "      <th>Total_Dedup_Pct</th>\n",
       "      <th>OverrepSeq</th>\n",
       "      <th>AdaptCont</th>\n",
       "      <th>KmerCont</th>\n",
       "      <th>study</th>\n",
       "      <th>barcode</th>\n",
       "      <th>disease</th>\n",
       "      <th>disease_name</th>\n",
       "      <th>sample_type</th>\n",
       "      <th>sample_type_name</th>\n",
       "      <th>analyte_type</th>\n",
       "      <th>library_type</th>\n",
       "      <th>center</th>\n",
       "      <th>center_name</th>\n",
       "      <th>platform</th>\n",
       "      <th>platform_name</th>\n",
       "      <th>assembly</th>\n",
       "      <th>filename</th>\n",
       "      <th>files_size</th>\n",
       "      <th>checksum</th>\n",
       "      <th>analysis_id</th>\n",
       "      <th>aliquot_id</th>\n",
       "      <th>participant_id</th>\n",
       "      <th>sample_id</th>\n",
       "      <th>tss_id</th>\n",
       "      <th>sample_accession</th>\n",
       "      <th>published</th>\n",
       "      <th>uploaded</th>\n",
       "      <th>modified</th>\n",
       "      <th>state</th>\n",
       "      <th>sample_type_code</th>\n",
       "      <th>analyte_type_code</th>\n",
       "      <th>platform_full_name</th>\n",
       "      <th>file_type</th>\n",
       "      <th>reason</th>\n",
       "      <th>reagent_vendor</th>\n",
       "      <th>reagent_name</th>\n",
       "      <th>catalog_number</th>\n",
       "      <th>is_custom</th>\n",
       "      <th>target_file_url</th>\n",
       "      <th>probe_file_url</th>\n",
       "      <th>CGHubAnalysisID</th>\n",
       "      <th>AliquotUUID</th>\n",
       "      <th>GCSobject</th>\n",
       "      <th>objectSizeBytes</th>\n",
       "      <th>pretty_size</th>\n",
       "      <th>handy_disease_names</th>\n",
       "      <th>GCSobject_ext</th>\n",
       "    </tr>\n",
       "  </thead>\n",
       "  <tbody>\n",
       "    <tr>\n",
       "      <th>13090</th>\n",
       "      <td>9579bb44-a931-46a9-ad86-784479904719</td>\n",
       "      <td>TCGA-14-0736-02A-01R-2005-01</td>\n",
       "      <td>G17467.TCGA-14-0736-02A-01R-2005-01.2.bam_1.fastq</td>\n",
       "      <td>https://storage.cloud.google.com/isb-cgc-open/tcga-qc/GBM/RNA/RNA-Seq/BI/ILLUMINA/9579bb44-a931-46a9-ad86-784479904719-G17467.TCGA-14-0736-02A-01R-2005-01.2.bam_1_fastqc.html</td>\n",
       "      <td>https://storage.cloud.google.com/isb-cgc-open/tcga-qc/GBM/RNA/RNA-Seq/BI/ILLUMINA/9579bb44-a931-46a9-ad86-784479904719-G17467.TCGA-14-0736-02A-01R-2005-01.2.bam_1_fastqc.zip</td>\n",
       "      <td>pass</td>\n",
       "      <td>39321150</td>\n",
       "      <td>0</td>\n",
       "      <td>76</td>\n",
       "      <td>76</td>\n",
       "      <td>1</td>\n",
       "      <td>49</td>\n",
       "      <td>pass</td>\n",
       "      <td>fail</td>\n",
       "      <td>45.680475</td>\n",
       "      <td>fail</td>\n",
       "      <td>pass</td>\n",
       "      <td>fail</td>\n",
       "      <td>TCGA</td>\n",
       "      <td>TCGA-14-0736-02A-01R-2005-01</td>\n",
       "      <td>GBM</td>\n",
       "      <td>GLIOBLASTOMA MULTIFORME</td>\n",
       "      <td>TR</td>\n",
       "      <td>Recurrent Solid Tumor</td>\n",
       "      <td>RNA</td>\n",
       "      <td>RNA-Seq</td>\n",
       "      <td>BI</td>\n",
       "      <td>NaN</td>\n",
       "      <td>ILLUMINA</td>\n",
       "      <td>Illumina</td>\n",
       "      <td>unaligned</td>\n",
       "      <td>G17467.TCGA-14-0736-02A-01R-2005-01.2.tar.gz</td>\n",
       "      <td>4.102832e+09</td>\n",
       "      <td>dc81b685776f5d12efa03c37ae81493c</td>\n",
       "      <td>9579bb44-a931-46a9-ad86-784479904719</td>\n",
       "      <td>b469eb7c-723f-4870-b4e4-ebfaae7a118b</td>\n",
       "      <td>cdfcf14d-ed6c-419f-88f5-e7dee96fcaf6</td>\n",
       "      <td>c0926a99-c67b-4793-b731-8fdc3eef96eb</td>\n",
       "      <td>14</td>\n",
       "      <td>NaN</td>\n",
       "      <td>2013-12-16</td>\n",
       "      <td>2013-12-16</td>\n",
       "      <td>2013-12-16</td>\n",
       "      <td>Live</td>\n",
       "      <td>02</td>\n",
       "      <td>R</td>\n",
       "      <td>Illumina HiSeq 2000</td>\n",
       "      <td>fasta</td>\n",
       "      <td>NaN</td>\n",
       "      <td>NaN</td>\n",
       "      <td>NaN</td>\n",
       "      <td>NaN</td>\n",
       "      <td>NaN</td>\n",
       "      <td>NaN</td>\n",
       "      <td>NaN</td>\n",
       "      <td>9579bb44-a931-46a9-ad86-784479904719</td>\n",
       "      <td>b469eb7c-723f-4870-b4e4-ebfaae7a118b</td>\n",
       "      <td>gs://5aa919de-0aa0-43ec-9ec3-288481102b6d/tcga/GBM/RNA/RNA-Seq/BI/ILLUMINA/G17467.TCGA-14-0736-02A-01R-2005-01.2.tar.gz</td>\n",
       "      <td>4102832413</td>\n",
       "      <td>3.8 GB</td>\n",
       "      <td>GBM: Glioblastoma Multiforme</td>\n",
       "      <td>.tar.gz</td>\n",
       "    </tr>\n",
       "  </tbody>\n",
       "</table>\n",
       "</div>"
      ],
      "text/plain": [
       "                           CGHub_analysisID                AliquotBarcode                                      fastqFilename  \\\n",
       "13090  9579bb44-a931-46a9-ad86-784479904719  TCGA-14-0736-02A-01R-2005-01  G17467.TCGA-14-0736-02A-01R-2005-01.2.bam_1.fastq   \n",
       "\n",
       "                                                                                                                                                                      FastQC_html_url  \\\n",
       "13090  https://storage.cloud.google.com/isb-cgc-open/tcga-qc/GBM/RNA/RNA-Seq/BI/ILLUMINA/9579bb44-a931-46a9-ad86-784479904719-G17467.TCGA-14-0736-02A-01R-2005-01.2.bam_1_fastqc.html   \n",
       "\n",
       "                                                                                                                                                                      FastQC_zip_url BasicStats  numTotalSeq  numPoorSeq  minLength  maxLength  delLength  pctGC SeqLenDist SeqDupLev  Total_Dedup_Pct  \\\n",
       "13090  https://storage.cloud.google.com/isb-cgc-open/tcga-qc/GBM/RNA/RNA-Seq/BI/ILLUMINA/9579bb44-a931-46a9-ad86-784479904719-G17467.TCGA-14-0736-02A-01R-2005-01.2.bam_1_fastqc.zip  pass       39321150     0           76         76         1          49     pass       fail      45.680475         \n",
       "\n",
       "      OverrepSeq AdaptCont KmerCont study                       barcode disease             disease_name sample_type       sample_type_name analyte_type library_type center  center_name  platform platform_name   assembly                                      filename    files_size  \\\n",
       "13090  fail       pass      fail     TCGA  TCGA-14-0736-02A-01R-2005-01  GBM     GLIOBLASTOMA MULTIFORME  TR          Recurrent Solid Tumor  RNA          RNA-Seq      BI    NaN           ILLUMINA  Illumina      unaligned  G17467.TCGA-14-0736-02A-01R-2005-01.2.tar.gz  4.102832e+09   \n",
       "\n",
       "                               checksum                           analysis_id                            aliquot_id                        participant_id                             sample_id tss_id sample_accession   published    uploaded    modified state sample_type_code analyte_type_code  \\\n",
       "13090  dc81b685776f5d12efa03c37ae81493c  9579bb44-a931-46a9-ad86-784479904719  b469eb7c-723f-4870-b4e4-ebfaae7a118b  cdfcf14d-ed6c-419f-88f5-e7dee96fcaf6  c0926a99-c67b-4793-b731-8fdc3eef96eb  14     NaN              2013-12-16  2013-12-16  2013-12-16  Live  02               R                  \n",
       "\n",
       "        platform_full_name file_type reason reagent_vendor reagent_name catalog_number is_custom target_file_url probe_file_url                       CGHubAnalysisID                           AliquotUUID  \\\n",
       "13090  Illumina HiSeq 2000  fasta     NaN    NaN            NaN          NaN            NaN       NaN             NaN            9579bb44-a931-46a9-ad86-784479904719  b469eb7c-723f-4870-b4e4-ebfaae7a118b   \n",
       "\n",
       "                                                                                                                     GCSobject  objectSizeBytes pretty_size           handy_disease_names GCSobject_ext  \n",
       "13090  gs://5aa919de-0aa0-43ec-9ec3-288481102b6d/tcga/GBM/RNA/RNA-Seq/BI/ILLUMINA/G17467.TCGA-14-0736-02A-01R-2005-01.2.tar.gz  4102832413       3.8 GB      GBM: Glioblastoma Multiforme  .tar.gz       "
      ]
     },
     "execution_count": 111,
     "metadata": {},
     "output_type": "execute_result"
    }
   ],
   "source": [
    "bi_df.sort_values('objectSizeBytes').head(1)"
   ]
  },
  {
   "cell_type": "code",
   "execution_count": 112,
   "metadata": {
    "collapsed": false
   },
   "outputs": [],
   "source": [
    "bi_df.sort_values('objectSizeBytes')[['GCSobject', 'pretty_size', 'maxLength']].\\\n",
    "    drop_duplicates().to_csv('bi_gcs_objects.csv', sep='\\t', index=False)"
   ]
  },
  {
   "cell_type": "markdown",
   "metadata": {},
   "source": [
    "# BCCAGSC"
   ]
  },
  {
   "cell_type": "code",
   "execution_count": 113,
   "metadata": {
    "collapsed": true
   },
   "outputs": [],
   "source": [
    "gsc_df = ndf[ndf.center == 'BCCAGSC']"
   ]
  },
  {
   "cell_type": "code",
   "execution_count": 114,
   "metadata": {
    "collapsed": false
   },
   "outputs": [
    {
     "data": {
      "text/plain": [
       "count    2.826000e+03\n",
       "mean     1.190733e+10\n",
       "std      4.973603e+09\n",
       "min      3.286098e+09\n",
       "25%      7.009208e+09\n",
       "50%      1.247165e+10\n",
       "75%      1.566970e+10\n",
       "max      2.972934e+10\n",
       "Name: objectSizeBytes, dtype: float64"
      ]
     },
     "execution_count": 114,
     "metadata": {},
     "output_type": "execute_result"
    }
   ],
   "source": [
    "gsc_df.objectSizeBytes.describe()"
   ]
  },
  {
   "cell_type": "code",
   "execution_count": 115,
   "metadata": {
    "collapsed": false,
    "scrolled": true
   },
   "outputs": [
    {
     "data": {
      "text/plain": [
       "75     2090\n",
       "50     732 \n",
       "100    4   \n",
       "Name: maxLength, dtype: int64"
      ]
     },
     "execution_count": 115,
     "metadata": {},
     "output_type": "execute_result"
    }
   ],
   "source": [
    "gsc_df.maxLength.value_counts()"
   ]
  },
  {
   "cell_type": "code",
   "execution_count": 116,
   "metadata": {
    "collapsed": false
   },
   "outputs": [
    {
     "data": {
      "text/plain": [
       "(1226,)"
      ]
     },
     "execution_count": 116,
     "metadata": {},
     "output_type": "execute_result"
    }
   ],
   "source": [
    "gsc_df.GCSobject.unique().shape"
   ]
  },
  {
   "cell_type": "code",
   "execution_count": 117,
   "metadata": {
    "collapsed": true
   },
   "outputs": [],
   "source": [
    "gsc_df.sort_values('objectSizeBytes')[['GCSobject', 'pretty_size', 'maxLength']].\\\n",
    "    drop_duplicates().to_csv('gsc_gcs_objects.csv', sep='\\t', index=False)"
   ]
  },
  {
   "cell_type": "markdown",
   "metadata": {},
   "source": [
    "# UNC-LCCC"
   ]
  },
  {
   "cell_type": "code",
   "execution_count": 118,
   "metadata": {
    "collapsed": false
   },
   "outputs": [],
   "source": [
    "unc_df = ndf[ndf.center == 'UNC-LCCC']"
   ]
  },
  {
   "cell_type": "code",
   "execution_count": 119,
   "metadata": {
    "collapsed": false
   },
   "outputs": [
    {
     "data": {
      "text/plain": [
       "48    14890\n",
       "50    3654 \n",
       "Name: maxLength, dtype: int64"
      ]
     },
     "execution_count": 119,
     "metadata": {},
     "output_type": "execute_result"
    }
   ],
   "source": [
    "unc_df.maxLength.value_counts()"
   ]
  },
  {
   "cell_type": "code",
   "execution_count": 120,
   "metadata": {
    "collapsed": false
   },
   "outputs": [
    {
     "data": {
      "text/plain": [
       "(9272,)"
      ]
     },
     "execution_count": 120,
     "metadata": {},
     "output_type": "execute_result"
    }
   ],
   "source": [
    "unc_df.GCSobject.unique().shape"
   ]
  },
  {
   "cell_type": "code",
   "execution_count": 121,
   "metadata": {
    "collapsed": true
   },
   "outputs": [],
   "source": [
    "unc_df.sort_values('objectSizeBytes')[['GCSobject', 'pretty_size', 'maxLength']].\\\n",
    "    drop_duplicates().to_csv('unc_gcs_objects.csv', sep='\\t', index=False)"
   ]
  },
  {
   "cell_type": "markdown",
   "metadata": {},
   "source": [
    "#### Object size distribution"
   ]
  },
  {
   "cell_type": "code",
   "execution_count": 122,
   "metadata": {
    "collapsed": false
   },
   "outputs": [
    {
     "data": {
      "text/plain": [
       "<matplotlib.text.Text at 0x7f16c7aef0b8>"
      ]
     },
     "execution_count": 122,
     "metadata": {},
     "output_type": "execute_result"
    },
    {
     "data": {
      "image/png": "[encoded data removed]",
      "text/plain": [
       "<matplotlib.figure.Figure at 0x7f16c7366240>"
      ]
     },
     "metadata": {},
     "output_type": "display_data"
    }
   ],
   "source": [
    "fig = plt.figure()\n",
    "ax = fig.add_subplot(111)\n",
    "\n",
    "bins = np.linspace(0, 3e10, 100)\n",
    "ax.hist(bi_df.objectSizeBytes.values, bins=bins, normed=True, alpha=0.4, label='BI')\n",
    "ax.hist(unc_df.objectSizeBytes.values, bins=bins, normed=True, alpha=0.4, label='UNC_LCCC')\n",
    "ax.hist(gsc_df.objectSizeBytes.values, bins=bins, normed=True, alpha=0.4, label='BCCAGSC')\n",
    "ax.legend()\n",
    "ax.set_xlabel('size (KB)')"
   ]
  },
  {
   "cell_type": "code",
   "execution_count": null,
   "metadata": {
    "collapsed": true
   },
   "outputs": [],
   "source": []
  },
  {
   "cell_type": "code",
   "execution_count": null,
   "metadata": {
    "collapsed": true
   },
   "outputs": [],
   "source": []
  },
  {
   "cell_type": "markdown",
   "metadata": {},
   "source": [
    "## fixing failed runs"
   ]
  },
  {
   "cell_type": "code",
   "execution_count": 123,
   "metadata": {
    "collapsed": false
   },
   "outputs": [
    {
     "ename": "FileNotFoundError",
     "evalue": "[Errno 2] No such file or directory: '/projects/btl2/zxue/tasrkleat/TCGA-results/lele'",
     "output_type": "error",
     "traceback": [
      "\u001b[0;31m---------------------------------------------------------------------------\u001b[0m",
      "\u001b[0;31mFileNotFoundError\u001b[0m                         Traceback (most recent call last)",
      "\u001b[0;32m<ipython-input-123-0f07ea997ae7>\u001b[0m in \u001b[0;36m<module>\u001b[0;34m()\u001b[0m\n\u001b[1;32m      1\u001b[0m \u001b[0mids\u001b[0m \u001b[0;34m=\u001b[0m \u001b[0;34m[\u001b[0m\u001b[0;34m]\u001b[0m\u001b[0;34m\u001b[0m\u001b[0m\n\u001b[0;32m----> 2\u001b[0;31m \u001b[0;32mwith\u001b[0m \u001b[0mopen\u001b[0m\u001b[0;34m(\u001b[0m\u001b[0;34m'/projects/btl2/zxue/tasrkleat/TCGA-results/lele'\u001b[0m\u001b[0;34m)\u001b[0m \u001b[0;32mas\u001b[0m \u001b[0minf\u001b[0m\u001b[0;34m:\u001b[0m\u001b[0;34m\u001b[0m\u001b[0m\n\u001b[0m\u001b[1;32m      3\u001b[0m     \u001b[0;32mfor\u001b[0m \u001b[0mline\u001b[0m \u001b[0;32min\u001b[0m \u001b[0minf\u001b[0m\u001b[0;34m:\u001b[0m\u001b[0;34m\u001b[0m\u001b[0m\n\u001b[1;32m      4\u001b[0m         \u001b[0mi\u001b[0m \u001b[0;34m=\u001b[0m \u001b[0;36m0\u001b[0m\u001b[0;34m\u001b[0m\u001b[0m\n\u001b[1;32m      5\u001b[0m         \u001b[0;32mwhile\u001b[0m \u001b[0mi\u001b[0m \u001b[0;34m<\u001b[0m \u001b[0;36m3\u001b[0m\u001b[0;34m:\u001b[0m\u001b[0;34m\u001b[0m\u001b[0m\n",
      "\u001b[0;31mFileNotFoundError\u001b[0m: [Errno 2] No such file or directory: '/projects/btl2/zxue/tasrkleat/TCGA-results/lele'"
     ]
    }
   ],
   "source": [
    "ids = []\n",
    "with open('/projects/btl2/zxue/tasrkleat/TCGA-results/lele') as inf:\n",
    "    for line in inf:\n",
    "        i = 0\n",
    "        while i < 3:\n",
    "            line = os.path.dirname(line)\n",
    "            i += 1\n",
    "        id_ = os.path.basename(line)\n",
    "        ids.append(id_)"
   ]
  },
  {
   "cell_type": "code",
   "execution_count": null,
   "metadata": {
    "collapsed": false
   },
   "outputs": [],
   "source": [
    "udf = ndf[-ndf.filename.isin(ids)]"
   ]
  },
  {
   "cell_type": "code",
   "execution_count": null,
   "metadata": {
    "collapsed": true
   },
   "outputs": [],
   "source": [
    "udf = udf.copy()"
   ]
  },
  {
   "cell_type": "code",
   "execution_count": null,
   "metadata": {
    "collapsed": false
   },
   "outputs": [],
   "source": [
    "udf.analysis_id.unique().shape"
   ]
  },
  {
   "cell_type": "code",
   "execution_count": null,
   "metadata": {
    "collapsed": false
   },
   "outputs": [],
   "source": [
    "udf.filename.head()"
   ]
  },
  {
   "cell_type": "code",
   "execution_count": null,
   "metadata": {
    "collapsed": false
   },
   "outputs": [],
   "source": [
    "udf.head(2)"
   ]
  },
  {
   "cell_type": "code",
   "execution_count": null,
   "metadata": {
    "collapsed": false
   },
   "outputs": [],
   "source": [
    "# from googleapiclient import discovery\n",
    "# from googleapiclient import http\n",
    "\n",
    "# from oauth2client.client import GoogleCredentials\n",
    "\n",
    "# credentials = GoogleCredentials.get_application_default()\n",
    "\n",
    "# service = discovery.build('storage', 'v1', credentials=credentials)\n",
    "\n",
    "# service.objects()."
   ]
  },
  {
   "cell_type": "code",
   "execution_count": null,
   "metadata": {
    "collapsed": true
   },
   "outputs": [],
   "source": []
  },
  {
   "cell_type": "code",
   "execution_count": null,
   "metadata": {
    "collapsed": false
   },
   "outputs": [],
   "source": [
    "udf_logs = udf.GCSobject.apply(lambda x: re.sub(r'gs://[^/]+', 'gs://tasrkleat', x ) + '/logs').unique()"
   ]
  },
  {
   "cell_type": "code",
   "execution_count": null,
   "metadata": {
    "collapsed": false
   },
   "outputs": [],
   "source": [
    "with open('/projects/btl2/zxue/tasrkleat/TCGA-results/no_output.txt', 'wt') as opf:\n",
    "    for _ in sorted(udf_logs):\n",
    "        opf.write('{0}\\n'.format(_))"
   ]
  },
  {
   "cell_type": "code",
   "execution_count": null,
   "metadata": {
    "collapsed": false
   },
   "outputs": [],
   "source": [
    "udf.head(1)"
   ]
  },
  {
   "cell_type": "code",
   "execution_count": null,
   "metadata": {
    "collapsed": true
   },
   "outputs": [],
   "source": []
  },
  {
   "cell_type": "code",
   "execution_count": null,
   "metadata": {
    "collapsed": false
   },
   "outputs": [],
   "source": [
    "udf[['analysis_id', 'center']].drop_duplicates().center.value_counts()"
   ]
  },
  {
   "cell_type": "code",
   "execution_count": null,
   "metadata": {
    "collapsed": false
   },
   "outputs": [],
   "source": [
    "udf.drop(udf[udf.center == 'BCCAGSC'].index, inplace=True)"
   ]
  },
  {
   "cell_type": "code",
   "execution_count": null,
   "metadata": {
    "collapsed": false
   },
   "outputs": [],
   "source": [
    "udf.shape"
   ]
  },
  {
   "cell_type": "code",
   "execution_count": null,
   "metadata": {
    "collapsed": true
   },
   "outputs": [],
   "source": [
    "udf.sort_values('objectSizeBytes')[['GCSobject', 'pretty_size', 'maxLength']].\\\n",
    "    drop_duplicates().to_csv('missing_runs_gcs_objects.csv', sep='\\t', index=False)"
   ]
  },
  {
   "cell_type": "code",
   "execution_count": null,
   "metadata": {
    "collapsed": false
   },
   "outputs": [],
   "source": [
    "ndf[ndf.GCSobject.str.contains('TCGA-AB-2992-03A-01T-0735-13_rnaseq_fastq.tar')]"
   ]
  },
  {
   "cell_type": "code",
   "execution_count": null,
   "metadata": {
    "collapsed": true
   },
   "outputs": [],
   "source": []
  },
  {
   "cell_type": "code",
   "execution_count": null,
   "metadata": {
    "collapsed": true
   },
   "outputs": [],
   "source": []
  }
 ],
 "metadata": {
  "kernelspec": {
   "display_name": "Python 3",
   "language": "python",
   "name": "python3"
  },
  "language_info": {
   "codemirror_mode": {
    "name": "ipython",
    "version": 3
   },
   "file_extension": ".py",
   "mimetype": "text/x-python",
   "name": "python",
   "nbconvert_exporter": "python",
   "pygments_lexer": "ipython3",
   "version": "3.5.2"
  }
 },
 "nbformat": 4,
 "nbformat_minor": 0
}
