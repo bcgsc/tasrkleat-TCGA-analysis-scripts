{
 "cells": [
  {
   "cell_type": "markdown",
   "metadata": {},
   "source": [
    "# Cancer Genomics Hub Summary Statistics"
   ]
  },
  {
   "cell_type": "code",
   "execution_count": 1,
   "metadata": {
    "collapsed": false
   },
   "outputs": [],
   "source": [
    "import os\n",
    "\n",
    "import pandas as pd\n",
    "pd.set_option('max_columns', 50)\n",
    "pd.set_option('max_rows', 1000)\n",
    "\n",
    "import matplotlib\n",
    "import matplotlib.pyplot as plt\n",
    "matplotlib.style.use('ggplot')\n",
    "%matplotlib inline\n",
    "matplotlib.rcParams['figure.figsize'] = (15, 9)\n"
   ]
  },
  {
   "cell_type": "markdown",
   "metadata": {},
   "source": [
    "http://stackoverflow.com/questions/18770504/resize-ipython-notebook-output-window"
   ]
  },
  {
   "cell_type": "code",
   "execution_count": 2,
   "metadata": {
    "collapsed": false
   },
   "outputs": [
    {
     "data": {
      "application/javascript": [
       "IPython.OutputArea.auto_scroll_threshold = 1000;"
      ],
      "text/plain": [
       "<IPython.core.display.Javascript object>"
      ]
     },
     "metadata": {},
     "output_type": "display_data"
    }
   ],
   "source": [
    "%%javascript\n",
    "IPython.OutputArea.auto_scroll_threshold = 1000;"
   ]
  },
  {
   "cell_type": "markdown",
   "metadata": {},
   "source": [
    "The `LATEST_MANIFEST.tsv` file is being updated daily, see [here](https://cghub.ucsc.edu/summary_stats.html) for more information"
   ]
  },
  {
   "cell_type": "code",
   "execution_count": 3,
   "metadata": {
    "collapsed": false
   },
   "outputs": [],
   "source": [
    "df = pd.read_csv('https://cghub.ucsc.edu/reports/SUMMARY_STATS/LATEST_MANIFEST.tsv', low_memory=False, sep='\\t')"
   ]
  },
  {
   "cell_type": "markdown",
   "metadata": {},
   "source": [
    "##### Last time it's run:"
   ]
  },
  {
   "cell_type": "code",
   "execution_count": 4,
   "metadata": {
    "collapsed": false
   },
   "outputs": [
    {
     "name": "stdout",
     "output_type": "stream",
     "text": [
      "2016-04-27 12:38:56.109711\n"
     ]
    }
   ],
   "source": [
    "import datetime\n",
    "print(datetime.datetime.now())"
   ]
  },
  {
   "cell_type": "markdown",
   "metadata": {},
   "source": [
    "## Available columns"
   ]
  },
  {
   "cell_type": "markdown",
   "metadata": {},
   "source": [
    "See detailed description of each column [here](https://cghub.ucsc.edu/summary_stats.html)"
   ]
  },
  {
   "cell_type": "code",
   "execution_count": 5,
   "metadata": {
    "collapsed": false
   },
   "outputs": [
    {
     "name": "stdout",
     "output_type": "stream",
     "text": [
      " 0: aliquot_id                 1: analysis_id                2: analyte_type             \n",
      " 4: assembly                   5: barcode                    6: catalog_number           \n",
      " 8: center_name                9: checksum                  10: disease                  \n",
      "12: file_type                 13: filename                  14: files_size               \n",
      "16: library_type              17: modified                  18: participant_id           \n",
      "20: platform_full_name        21: platform_name             22: probe_file_url           \n",
      "24: reagent_name              25: reagent_vendor            26: reason                   \n",
      "28: sample_id                 29: sample_type               30: sample_type_code         \n",
      "32: state                     33: study                     34: target_file_url          \n",
      "36: uploaded                 \n"
     ]
    }
   ],
   "source": [
    "interval = 3\n",
    "for k, c in enumerate(sorted(df.columns)):\n",
    "    if (k + 1) % 4 == 0:\n",
    "        print\n",
    "    else:\n",
    "        print '{0:2d}: {1:25s}'.format(k, c),"
   ]
  },
  {
   "cell_type": "code",
   "execution_count": 7,
   "metadata": {
    "collapsed": false
   },
   "outputs": [],
   "source": [
    "import math\n",
    "def lower(s):\n",
    "    if isinstance(s, float) and math.isnan(s):\n",
    "        return s\n",
    "    else:\n",
    "        return s.lower()\n",
    "\n",
    "# lower case for better readability\n",
    "df.disease_name = df.disease_name.apply(lower)"
   ]
  },
  {
   "cell_type": "markdown",
   "metadata": {},
   "source": [
    "## Available studies (e.g. TCGA, CCLE)"
   ]
  },
  {
   "cell_type": "markdown",
   "metadata": {},
   "source": [
    "sorted by the number of entries"
   ]
  },
  {
   "cell_type": "code",
   "execution_count": 8,
   "metadata": {
    "collapsed": false,
    "scrolled": true
   },
   "outputs": [
    {
     "data": {
      "text/html": [
       "<div>\n",
       "<table border=\"1\" class=\"dataframe\">\n",
       "  <thead>\n",
       "    <tr style=\"text-align: right;\">\n",
       "      <th></th>\n",
       "      <th>index</th>\n",
       "      <th>count</th>\n",
       "      <th>%</th>\n",
       "    </tr>\n",
       "  </thead>\n",
       "  <tbody>\n",
       "    <tr>\n",
       "      <th>0</th>\n",
       "      <td>TCGA</td>\n",
       "      <td>99372</td>\n",
       "      <td>78.14%</td>\n",
       "    </tr>\n",
       "    <tr>\n",
       "      <th>1</th>\n",
       "      <td>TCGA MC3 VARIANT CALLING PROJECT</td>\n",
       "      <td>10532</td>\n",
       "      <td>8.28%</td>\n",
       "    </tr>\n",
       "    <tr>\n",
       "      <th>2</th>\n",
       "      <td>TARGET</td>\n",
       "      <td>10453</td>\n",
       "      <td>8.22%</td>\n",
       "    </tr>\n",
       "    <tr>\n",
       "      <th>3</th>\n",
       "      <td>PCAWG 2.0</td>\n",
       "      <td>3911</td>\n",
       "      <td>3.08%</td>\n",
       "    </tr>\n",
       "    <tr>\n",
       "      <th>4</th>\n",
       "      <td>CCLE</td>\n",
       "      <td>1296</td>\n",
       "      <td>1.02%</td>\n",
       "    </tr>\n",
       "    <tr>\n",
       "      <th>5</th>\n",
       "      <td>CGHUB GENERAL TEST</td>\n",
       "      <td>330</td>\n",
       "      <td>0.26%</td>\n",
       "    </tr>\n",
       "    <tr>\n",
       "      <th>6</th>\n",
       "      <td>TCGA STUDY FOR HOLDING AMONG OTHERS, FILES WHI...</td>\n",
       "      <td>291</td>\n",
       "      <td>0.23%</td>\n",
       "    </tr>\n",
       "    <tr>\n",
       "      <th>7</th>\n",
       "      <td>CGCI</td>\n",
       "      <td>213</td>\n",
       "      <td>0.17%</td>\n",
       "    </tr>\n",
       "    <tr>\n",
       "      <th>8</th>\n",
       "      <td>REBC</td>\n",
       "      <td>202</td>\n",
       "      <td>0.16%</td>\n",
       "    </tr>\n",
       "    <tr>\n",
       "      <th>9</th>\n",
       "      <td>TARGET STUDY FOR HOLDING NOT FULLY REPAIRED CG...</td>\n",
       "      <td>194</td>\n",
       "      <td>0.15%</td>\n",
       "    </tr>\n",
       "    <tr>\n",
       "      <th>10</th>\n",
       "      <td>PCAWG_TEST</td>\n",
       "      <td>95</td>\n",
       "      <td>0.07%</td>\n",
       "    </tr>\n",
       "    <tr>\n",
       "      <th>11</th>\n",
       "      <td>PAWG</td>\n",
       "      <td>82</td>\n",
       "      <td>0.06%</td>\n",
       "    </tr>\n",
       "    <tr>\n",
       "      <th>12</th>\n",
       "      <td>PCAWG_CHECK</td>\n",
       "      <td>77</td>\n",
       "      <td>0.06%</td>\n",
       "    </tr>\n",
       "    <tr>\n",
       "      <th>13</th>\n",
       "      <td>TCGA BENCHMARK</td>\n",
       "      <td>55</td>\n",
       "      <td>0.04%</td>\n",
       "    </tr>\n",
       "    <tr>\n",
       "      <th>14</th>\n",
       "      <td>CGHUB CGI TEST</td>\n",
       "      <td>31</td>\n",
       "      <td>0.02%</td>\n",
       "    </tr>\n",
       "    <tr>\n",
       "      <th>15</th>\n",
       "      <td>TARGET GDC CHECKING</td>\n",
       "      <td>28</td>\n",
       "      <td>0.02%</td>\n",
       "    </tr>\n",
       "    <tr>\n",
       "      <th>16</th>\n",
       "      <td>CGHUB PERFORMANCE TEST</td>\n",
       "      <td>7</td>\n",
       "      <td>0.01%</td>\n",
       "    </tr>\n",
       "    <tr>\n",
       "      <th>17</th>\n",
       "      <td>CGHUB GENERAL TEST DEPRECATED</td>\n",
       "      <td>3</td>\n",
       "      <td>0.00%</td>\n",
       "    </tr>\n",
       "    <tr>\n",
       "      <th>18</th>\n",
       "      <td>CDDP</td>\n",
       "      <td>1</td>\n",
       "      <td>0.00%</td>\n",
       "    </tr>\n",
       "  </tbody>\n",
       "</table>\n",
       "</div>"
      ],
      "text/plain": [
       "                                                index  count       %\n",
       "0                                                TCGA  99372  78.14%\n",
       "1                    TCGA MC3 VARIANT CALLING PROJECT  10532   8.28%\n",
       "2                                              TARGET  10453   8.22%\n",
       "3                                           PCAWG 2.0   3911   3.08%\n",
       "4                                                CCLE   1296   1.02%\n",
       "5                                  CGHUB GENERAL TEST    330   0.26%\n",
       "6   TCGA STUDY FOR HOLDING AMONG OTHERS, FILES WHI...    291   0.23%\n",
       "7                                                CGCI    213   0.17%\n",
       "8                                                REBC    202   0.16%\n",
       "9   TARGET STUDY FOR HOLDING NOT FULLY REPAIRED CG...    194   0.15%\n",
       "10                                         PCAWG_TEST     95   0.07%\n",
       "11                                               PAWG     82   0.06%\n",
       "12                                        PCAWG_CHECK     77   0.06%\n",
       "13                                     TCGA BENCHMARK     55   0.04%\n",
       "14                                     CGHUB CGI TEST     31   0.02%\n",
       "15                                TARGET GDC CHECKING     28   0.02%\n",
       "16                             CGHUB PERFORMANCE TEST      7   0.01%\n",
       "17                      CGHUB GENERAL TEST DEPRECATED      3   0.00%\n",
       "18                                               CDDP      1   0.00%"
      ]
     },
     "execution_count": 8,
     "metadata": {},
     "output_type": "execute_result"
    }
   ],
   "source": [
    "_df = df.study\\\n",
    "    .value_counts()\\\n",
    "    .to_frame()\\\n",
    "    .reset_index()\\\n",
    "    .rename(columns={'study': 'count'})\n",
    "_df['%'] = (_df['count'] / df.shape[0]).apply('{0:.2%}'.format)\n",
    "_df"
   ]
  },
  {
   "cell_type": "markdown",
   "metadata": {},
   "source": [
    "## Total number of samples"
   ]
  },
  {
   "cell_type": "code",
   "execution_count": 9,
   "metadata": {
    "collapsed": false,
    "scrolled": true
   },
   "outputs": [
    {
     "data": {
      "text/plain": [
       "127173"
      ]
     },
     "execution_count": 9,
     "metadata": {},
     "output_type": "execute_result"
    }
   ],
   "source": [
    "df.shape[0]"
   ]
  },
  {
   "cell_type": "markdown",
   "metadata": {},
   "source": [
    "## Sample distribution by disease name"
   ]
  },
  {
   "cell_type": "code",
   "execution_count": 10,
   "metadata": {
    "collapsed": true
   },
   "outputs": [],
   "source": [
    "def count_func(df, study_name):\n",
    "    \"\"\"helper function that does the counting\"\"\"\n",
    "    _df = df[df.study == study_name].groupby(['study', 'disease_name'])\\\n",
    "    .count()[['barcode']]\\\n",
    "    .rename(columns={'barcode': 'count'})\\\n",
    "    .reset_index()\\\n",
    "    .sort_values(['study', 'count'])[::-1]\\\n",
    "    .set_index(['study', 'disease_name'])\n",
    "    _df['%'] = (_df['count'] / df.shape[0]).apply('{0:.2%}'.format)\n",
    "    return _df"
   ]
  },
  {
   "cell_type": "markdown",
   "metadata": {},
   "source": [
    "### TCGA"
   ]
  },
  {
   "cell_type": "code",
   "execution_count": 11,
   "metadata": {
    "collapsed": false
   },
   "outputs": [
    {
     "data": {
      "text/html": [
       "<div>\n",
       "<table border=\"1\" class=\"dataframe\">\n",
       "  <thead>\n",
       "    <tr style=\"text-align: right;\">\n",
       "      <th></th>\n",
       "      <th></th>\n",
       "      <th>count</th>\n",
       "      <th>%</th>\n",
       "    </tr>\n",
       "    <tr>\n",
       "      <th>study</th>\n",
       "      <th>disease_name</th>\n",
       "      <th></th>\n",
       "      <th></th>\n",
       "    </tr>\n",
       "  </thead>\n",
       "  <tbody>\n",
       "    <tr>\n",
       "      <th rowspan=\"34\" valign=\"top\">TCGA</th>\n",
       "      <th>kidney renal clear cell carcinoma</th>\n",
       "      <td>8946</td>\n",
       "      <td>7.03%</td>\n",
       "    </tr>\n",
       "    <tr>\n",
       "      <th>breast invasive carcinoma</th>\n",
       "      <td>7642</td>\n",
       "      <td>6.01%</td>\n",
       "    </tr>\n",
       "    <tr>\n",
       "      <th>ovarian serous cystadenocarcinoma</th>\n",
       "      <td>5964</td>\n",
       "      <td>4.69%</td>\n",
       "    </tr>\n",
       "    <tr>\n",
       "      <th>stomach adenocarcinoma</th>\n",
       "      <td>5384</td>\n",
       "      <td>4.23%</td>\n",
       "    </tr>\n",
       "    <tr>\n",
       "      <th>colon adenocarcinoma</th>\n",
       "      <td>5360</td>\n",
       "      <td>4.21%</td>\n",
       "    </tr>\n",
       "    <tr>\n",
       "      <th>lung adenocarcinoma</th>\n",
       "      <td>5031</td>\n",
       "      <td>3.96%</td>\n",
       "    </tr>\n",
       "    <tr>\n",
       "      <th>uterine corpus endometrioid carcinoma</th>\n",
       "      <td>4554</td>\n",
       "      <td>3.58%</td>\n",
       "    </tr>\n",
       "    <tr>\n",
       "      <th>head and neck squamous cell carcinoma</th>\n",
       "      <td>4554</td>\n",
       "      <td>3.58%</td>\n",
       "    </tr>\n",
       "    <tr>\n",
       "      <th>thyroid carcinoma</th>\n",
       "      <td>4428</td>\n",
       "      <td>3.48%</td>\n",
       "    </tr>\n",
       "    <tr>\n",
       "      <th>lung squamous cell carcinoma</th>\n",
       "      <td>4290</td>\n",
       "      <td>3.37%</td>\n",
       "    </tr>\n",
       "    <tr>\n",
       "      <th>skin cutaneous melanoma</th>\n",
       "      <td>4056</td>\n",
       "      <td>3.19%</td>\n",
       "    </tr>\n",
       "    <tr>\n",
       "      <th>brain lower grade glioma</th>\n",
       "      <td>4028</td>\n",
       "      <td>3.17%</td>\n",
       "    </tr>\n",
       "    <tr>\n",
       "      <th>prostate adenocarcinoma</th>\n",
       "      <td>3509</td>\n",
       "      <td>2.76%</td>\n",
       "    </tr>\n",
       "    <tr>\n",
       "      <th>bladder urothelial carcinoma</th>\n",
       "      <td>3263</td>\n",
       "      <td>2.57%</td>\n",
       "    </tr>\n",
       "    <tr>\n",
       "      <th>glioblastoma multiforme</th>\n",
       "      <td>3023</td>\n",
       "      <td>2.38%</td>\n",
       "    </tr>\n",
       "    <tr>\n",
       "      <th>liver hepatocellular carcinoma</th>\n",
       "      <td>2823</td>\n",
       "      <td>2.22%</td>\n",
       "    </tr>\n",
       "    <tr>\n",
       "      <th>cervical squamous cell carcinoma and endocervical adenocarcinoma</th>\n",
       "      <td>2618</td>\n",
       "      <td>2.06%</td>\n",
       "    </tr>\n",
       "    <tr>\n",
       "      <th>acute myeloid leukemia</th>\n",
       "      <td>2561</td>\n",
       "      <td>2.01%</td>\n",
       "    </tr>\n",
       "    <tr>\n",
       "      <th>kidney renal papillary cell carcinoma</th>\n",
       "      <td>2421</td>\n",
       "      <td>1.90%</td>\n",
       "    </tr>\n",
       "    <tr>\n",
       "      <th>sarcoma</th>\n",
       "      <td>2372</td>\n",
       "      <td>1.87%</td>\n",
       "    </tr>\n",
       "    <tr>\n",
       "      <th>rectum adenocarcinoma</th>\n",
       "      <td>2031</td>\n",
       "      <td>1.60%</td>\n",
       "    </tr>\n",
       "    <tr>\n",
       "      <th>pancreatic adenocarcinoma</th>\n",
       "      <td>1799</td>\n",
       "      <td>1.41%</td>\n",
       "    </tr>\n",
       "    <tr>\n",
       "      <th>esophageal carcinoma</th>\n",
       "      <td>1680</td>\n",
       "      <td>1.32%</td>\n",
       "    </tr>\n",
       "    <tr>\n",
       "      <th>pheochromocytoma and paraganglioma</th>\n",
       "      <td>1262</td>\n",
       "      <td>0.99%</td>\n",
       "    </tr>\n",
       "    <tr>\n",
       "      <th>testicular germ cell tumors</th>\n",
       "      <td>1046</td>\n",
       "      <td>0.82%</td>\n",
       "    </tr>\n",
       "    <tr>\n",
       "      <th>kidney chromophobe</th>\n",
       "      <td>875</td>\n",
       "      <td>0.69%</td>\n",
       "    </tr>\n",
       "    <tr>\n",
       "      <th>thymoma</th>\n",
       "      <td>864</td>\n",
       "      <td>0.68%</td>\n",
       "    </tr>\n",
       "    <tr>\n",
       "      <th>uveal melanoma</th>\n",
       "      <td>632</td>\n",
       "      <td>0.50%</td>\n",
       "    </tr>\n",
       "    <tr>\n",
       "      <th>adrenocortical carcinoma</th>\n",
       "      <td>606</td>\n",
       "      <td>0.48%</td>\n",
       "    </tr>\n",
       "    <tr>\n",
       "      <th>mesothelioma</th>\n",
       "      <td>593</td>\n",
       "      <td>0.47%</td>\n",
       "    </tr>\n",
       "    <tr>\n",
       "      <th>uterine carcinosarcoma</th>\n",
       "      <td>381</td>\n",
       "      <td>0.30%</td>\n",
       "    </tr>\n",
       "    <tr>\n",
       "      <th>cholangiocarcinoma</th>\n",
       "      <td>335</td>\n",
       "      <td>0.26%</td>\n",
       "    </tr>\n",
       "    <tr>\n",
       "      <th>lymphoid neoplasm diffuse large b-cell lymphoma</th>\n",
       "      <td>280</td>\n",
       "      <td>0.22%</td>\n",
       "    </tr>\n",
       "    <tr>\n",
       "      <th>controls</th>\n",
       "      <td>143</td>\n",
       "      <td>0.11%</td>\n",
       "    </tr>\n",
       "  </tbody>\n",
       "</table>\n",
       "</div>"
      ],
      "text/plain": [
       "                                                          count      %\n",
       "study disease_name                                                    \n",
       "TCGA  kidney renal clear cell carcinoma                    8946  7.03%\n",
       "      breast invasive carcinoma                            7642  6.01%\n",
       "      ovarian serous cystadenocarcinoma                    5964  4.69%\n",
       "      stomach adenocarcinoma                               5384  4.23%\n",
       "      colon adenocarcinoma                                 5360  4.21%\n",
       "      lung adenocarcinoma                                  5031  3.96%\n",
       "      uterine corpus endometrioid carcinoma                4554  3.58%\n",
       "      head and neck squamous cell carcinoma                4554  3.58%\n",
       "      thyroid carcinoma                                    4428  3.48%\n",
       "      lung squamous cell carcinoma                         4290  3.37%\n",
       "      skin cutaneous melanoma                              4056  3.19%\n",
       "      brain lower grade glioma                             4028  3.17%\n",
       "      prostate adenocarcinoma                              3509  2.76%\n",
       "      bladder urothelial carcinoma                         3263  2.57%\n",
       "      glioblastoma multiforme                              3023  2.38%\n",
       "      liver hepatocellular carcinoma                       2823  2.22%\n",
       "      cervical squamous cell carcinoma and endocervic...   2618  2.06%\n",
       "      acute myeloid leukemia                               2561  2.01%\n",
       "      kidney renal papillary cell carcinoma                2421  1.90%\n",
       "      sarcoma                                              2372  1.87%\n",
       "      rectum adenocarcinoma                                2031  1.60%\n",
       "      pancreatic adenocarcinoma                            1799  1.41%\n",
       "      esophageal carcinoma                                 1680  1.32%\n",
       "      pheochromocytoma and paraganglioma                   1262  0.99%\n",
       "      testicular germ cell tumors                          1046  0.82%\n",
       "      kidney chromophobe                                    875  0.69%\n",
       "      thymoma                                               864  0.68%\n",
       "      uveal melanoma                                        632  0.50%\n",
       "      adrenocortical carcinoma                              606  0.48%\n",
       "      mesothelioma                                          593  0.47%\n",
       "      uterine carcinosarcoma                                381  0.30%\n",
       "      cholangiocarcinoma                                    335  0.26%\n",
       "      lymphoid neoplasm diffuse large b-cell lymphoma       280  0.22%\n",
       "      controls                                              143  0.11%"
      ]
     },
     "execution_count": 11,
     "metadata": {},
     "output_type": "execute_result"
    }
   ],
   "source": [
    "count_func(df, 'TCGA')"
   ]
  },
  {
   "cell_type": "markdown",
   "metadata": {},
   "source": [
    "### CCLE"
   ]
  },
  {
   "cell_type": "code",
   "execution_count": 12,
   "metadata": {
    "collapsed": false
   },
   "outputs": [
    {
     "data": {
      "text/html": [
       "<div>\n",
       "<table border=\"1\" class=\"dataframe\">\n",
       "  <thead>\n",
       "    <tr style=\"text-align: right;\">\n",
       "      <th></th>\n",
       "      <th></th>\n",
       "      <th>count</th>\n",
       "      <th>%</th>\n",
       "    </tr>\n",
       "    <tr>\n",
       "      <th>study</th>\n",
       "      <th>disease_name</th>\n",
       "      <th></th>\n",
       "      <th></th>\n",
       "    </tr>\n",
       "  </thead>\n",
       "  <tbody>\n",
       "    <tr>\n",
       "      <th rowspan=\"22\" valign=\"top\">CCLE</th>\n",
       "      <th>lung squamous cell carcinoma</th>\n",
       "      <td>220</td>\n",
       "      <td>0.17%</td>\n",
       "    </tr>\n",
       "    <tr>\n",
       "      <th>chronic lymphocytic leukemia</th>\n",
       "      <td>124</td>\n",
       "      <td>0.10%</td>\n",
       "    </tr>\n",
       "    <tr>\n",
       "      <th>breast invasive carcinoma</th>\n",
       "      <td>101</td>\n",
       "      <td>0.08%</td>\n",
       "    </tr>\n",
       "    <tr>\n",
       "      <th>lymphoid neoplasm diffuse large b-cell lymphoma</th>\n",
       "      <td>86</td>\n",
       "      <td>0.07%</td>\n",
       "    </tr>\n",
       "    <tr>\n",
       "      <th>brain lower grade glioma</th>\n",
       "      <td>83</td>\n",
       "      <td>0.07%</td>\n",
       "    </tr>\n",
       "    <tr>\n",
       "      <th>colon adenocarcinoma</th>\n",
       "      <td>74</td>\n",
       "      <td>0.06%</td>\n",
       "    </tr>\n",
       "    <tr>\n",
       "      <th>skin cutaneous melanoma</th>\n",
       "      <td>69</td>\n",
       "      <td>0.05%</td>\n",
       "    </tr>\n",
       "    <tr>\n",
       "      <th>ovarian serous cystadenocarcinoma</th>\n",
       "      <td>60</td>\n",
       "      <td>0.05%</td>\n",
       "    </tr>\n",
       "    <tr>\n",
       "      <th>stomach adenocarcinoma</th>\n",
       "      <td>57</td>\n",
       "      <td>0.04%</td>\n",
       "    </tr>\n",
       "    <tr>\n",
       "      <th>pancreatic adenocarcinoma</th>\n",
       "      <td>57</td>\n",
       "      <td>0.04%</td>\n",
       "    </tr>\n",
       "    <tr>\n",
       "      <th>sarcoma</th>\n",
       "      <td>53</td>\n",
       "      <td>0.04%</td>\n",
       "    </tr>\n",
       "    <tr>\n",
       "      <th>head and neck squamous cell carcinoma</th>\n",
       "      <td>51</td>\n",
       "      <td>0.04%</td>\n",
       "    </tr>\n",
       "    <tr>\n",
       "      <th>liver hepatocellular carcinoma</th>\n",
       "      <td>49</td>\n",
       "      <td>0.04%</td>\n",
       "    </tr>\n",
       "    <tr>\n",
       "      <th>multiple myeloma</th>\n",
       "      <td>43</td>\n",
       "      <td>0.03%</td>\n",
       "    </tr>\n",
       "    <tr>\n",
       "      <th>cervical squamous cell carcinoma and endocervical adenocarcinoma</th>\n",
       "      <td>41</td>\n",
       "      <td>0.03%</td>\n",
       "    </tr>\n",
       "    <tr>\n",
       "      <th>kidney renal clear cell carcinoma</th>\n",
       "      <td>33</td>\n",
       "      <td>0.03%</td>\n",
       "    </tr>\n",
       "    <tr>\n",
       "      <th>bladder urothelial carcinoma</th>\n",
       "      <td>32</td>\n",
       "      <td>0.03%</td>\n",
       "    </tr>\n",
       "    <tr>\n",
       "      <th>esophageal carcinoma</th>\n",
       "      <td>29</td>\n",
       "      <td>0.02%</td>\n",
       "    </tr>\n",
       "    <tr>\n",
       "      <th>thyroid carcinoma</th>\n",
       "      <td>15</td>\n",
       "      <td>0.01%</td>\n",
       "    </tr>\n",
       "    <tr>\n",
       "      <th>prostate adenocarcinoma</th>\n",
       "      <td>11</td>\n",
       "      <td>0.01%</td>\n",
       "    </tr>\n",
       "    <tr>\n",
       "      <th>uterine corpus endometrioid carcinoma</th>\n",
       "      <td>4</td>\n",
       "      <td>0.00%</td>\n",
       "    </tr>\n",
       "    <tr>\n",
       "      <th>mesothelioma</th>\n",
       "      <td>2</td>\n",
       "      <td>0.00%</td>\n",
       "    </tr>\n",
       "  </tbody>\n",
       "</table>\n",
       "</div>"
      ],
      "text/plain": [
       "                                                          count      %\n",
       "study disease_name                                                    \n",
       "CCLE  lung squamous cell carcinoma                          220  0.17%\n",
       "      chronic lymphocytic leukemia                          124  0.10%\n",
       "      breast invasive carcinoma                             101  0.08%\n",
       "      lymphoid neoplasm diffuse large b-cell lymphoma        86  0.07%\n",
       "      brain lower grade glioma                               83  0.07%\n",
       "      colon adenocarcinoma                                   74  0.06%\n",
       "      skin cutaneous melanoma                                69  0.05%\n",
       "      ovarian serous cystadenocarcinoma                      60  0.05%\n",
       "      stomach adenocarcinoma                                 57  0.04%\n",
       "      pancreatic adenocarcinoma                              57  0.04%\n",
       "      sarcoma                                                53  0.04%\n",
       "      head and neck squamous cell carcinoma                  51  0.04%\n",
       "      liver hepatocellular carcinoma                         49  0.04%\n",
       "      multiple myeloma                                       43  0.03%\n",
       "      cervical squamous cell carcinoma and endocervic...     41  0.03%\n",
       "      kidney renal clear cell carcinoma                      33  0.03%\n",
       "      bladder urothelial carcinoma                           32  0.03%\n",
       "      esophageal carcinoma                                   29  0.02%\n",
       "      thyroid carcinoma                                      15  0.01%\n",
       "      prostate adenocarcinoma                                11  0.01%\n",
       "      uterine corpus endometrioid carcinoma                   4  0.00%\n",
       "      mesothelioma                                            2  0.00%"
      ]
     },
     "execution_count": 12,
     "metadata": {},
     "output_type": "execute_result"
    }
   ],
   "source": [
    "count_func(df, 'CCLE')"
   ]
  },
  {
   "cell_type": "markdown",
   "metadata": {},
   "source": [
    "### TARGET"
   ]
  },
  {
   "cell_type": "code",
   "execution_count": 13,
   "metadata": {
    "collapsed": false
   },
   "outputs": [
    {
     "data": {
      "text/html": [
       "<div>\n",
       "<table border=\"1\" class=\"dataframe\">\n",
       "  <thead>\n",
       "    <tr style=\"text-align: right;\">\n",
       "      <th></th>\n",
       "      <th></th>\n",
       "      <th>count</th>\n",
       "      <th>%</th>\n",
       "    </tr>\n",
       "    <tr>\n",
       "      <th>study</th>\n",
       "      <th>disease_name</th>\n",
       "      <th></th>\n",
       "      <th></th>\n",
       "    </tr>\n",
       "  </thead>\n",
       "  <tbody>\n",
       "    <tr>\n",
       "      <th rowspan=\"6\" valign=\"top\">TARGET</th>\n",
       "      <th>acute myeloid leukemia (non-tcga)</th>\n",
       "      <td>3206</td>\n",
       "      <td>2.52%</td>\n",
       "    </tr>\n",
       "    <tr>\n",
       "      <th>acute lymphoblastic leukemia</th>\n",
       "      <td>2984</td>\n",
       "      <td>2.35%</td>\n",
       "    </tr>\n",
       "    <tr>\n",
       "      <th>neuroblastoma</th>\n",
       "      <td>2048</td>\n",
       "      <td>1.61%</td>\n",
       "    </tr>\n",
       "    <tr>\n",
       "      <th>wilms tumor</th>\n",
       "      <td>1425</td>\n",
       "      <td>1.12%</td>\n",
       "    </tr>\n",
       "    <tr>\n",
       "      <th>osteosarcoma</th>\n",
       "      <td>207</td>\n",
       "      <td>0.16%</td>\n",
       "    </tr>\n",
       "    <tr>\n",
       "      <th>clear cell sarcoma of the kidney</th>\n",
       "      <td>39</td>\n",
       "      <td>0.03%</td>\n",
       "    </tr>\n",
       "  </tbody>\n",
       "</table>\n",
       "</div>"
      ],
      "text/plain": [
       "                                          count      %\n",
       "study  disease_name                                   \n",
       "TARGET acute myeloid leukemia (non-tcga)   3206  2.52%\n",
       "       acute lymphoblastic leukemia        2984  2.35%\n",
       "       neuroblastoma                       2048  1.61%\n",
       "       wilms tumor                         1425  1.12%\n",
       "       osteosarcoma                         207  0.16%\n",
       "       clear cell sarcoma of the kidney      39  0.03%"
      ]
     },
     "execution_count": 13,
     "metadata": {},
     "output_type": "execute_result"
    }
   ],
   "source": [
    "count_func(df, 'TARGET')"
   ]
  }
 ],
 "metadata": {
  "kernelspec": {
   "display_name": "Python 2",
   "language": "python",
   "name": "python2"
  },
  "language_info": {
   "codemirror_mode": {
    "name": "ipython",
    "version": 2
   },
   "file_extension": ".py",
   "mimetype": "text/x-python",
   "name": "python",
   "nbconvert_exporter": "python",
   "pygments_lexer": "ipython2",
   "version": "2.7.11"
  }
 },
 "nbformat": 4,
 "nbformat_minor": 0
}
