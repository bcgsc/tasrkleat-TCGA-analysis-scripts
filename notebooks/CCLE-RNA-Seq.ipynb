{
 "cells": [
  {
   "cell_type": "code",
   "execution_count": 1,
   "metadata": {
    "collapsed": true
   },
   "outputs": [],
   "source": [
    "import pandas as pd\n",
    "df = pd.read_csv('https://cghub.ucsc.edu/reports/SUMMARY_STATS/LATEST_MANIFEST.tsv',\n",
    "                 low_memory=False, sep='\\t')"
   ]
  },
  {
   "cell_type": "code",
   "execution_count": 2,
   "metadata": {
    "collapsed": false
   },
   "outputs": [
    {
     "name": "stdout",
     "output_type": "stream",
     "text": [
      "2016-04-22\n"
     ]
    }
   ],
   "source": [
    "# Last time it's run:\n",
    "import datetime\n",
    "print(datetime.datetime.today().date())"
   ]
  },
  {
   "cell_type": "code",
   "execution_count": 3,
   "metadata": {
    "collapsed": false
   },
   "outputs": [],
   "source": [
    "# only interested in those with state equals Live\n",
    "ndf = df[(df.study == 'CCLE') & (df.library_type == 'RNA-Seq') & (df.state == 'Live')]"
   ]
  },
  {
   "cell_type": "code",
   "execution_count": 4,
   "metadata": {
    "collapsed": true
   },
   "outputs": [],
   "source": [
    "from misc.utils import count"
   ]
  },
  {
   "cell_type": "markdown",
   "metadata": {},
   "source": [
    "## Library types"
   ]
  },
  {
   "cell_type": "code",
   "execution_count": 5,
   "metadata": {
    "collapsed": false
   },
   "outputs": [
    {
     "data": {
      "text/html": [
       "<div>\n",
       "<table border=\"1\" class=\"dataframe\">\n",
       "  <thead>\n",
       "    <tr style=\"text-align: right;\">\n",
       "      <th></th>\n",
       "      <th>study</th>\n",
       "      <th>percent</th>\n",
       "    </tr>\n",
       "    <tr>\n",
       "      <th>library_type</th>\n",
       "      <th></th>\n",
       "      <th></th>\n",
       "    </tr>\n",
       "  </thead>\n",
       "  <tbody>\n",
       "    <tr>\n",
       "      <th>RNA-Seq</th>\n",
       "      <td>935</td>\n",
       "      <td>100.00%</td>\n",
       "    </tr>\n",
       "  </tbody>\n",
       "</table>\n",
       "</div>"
      ],
      "text/plain": [
       "              study  percent\n",
       "library_type                \n",
       "RNA-Seq         935  100.00%"
      ]
     },
     "execution_count": 5,
     "metadata": {},
     "output_type": "execute_result"
    }
   ],
   "source": [
    "count(ndf, 'library_type')"
   ]
  },
  {
   "cell_type": "markdown",
   "metadata": {},
   "source": [
    "## File types"
   ]
  },
  {
   "cell_type": "code",
   "execution_count": 6,
   "metadata": {
    "collapsed": false
   },
   "outputs": [
    {
     "data": {
      "text/html": [
       "<div>\n",
       "<table border=\"1\" class=\"dataframe\">\n",
       "  <thead>\n",
       "    <tr style=\"text-align: right;\">\n",
       "      <th></th>\n",
       "      <th>study</th>\n",
       "      <th>percent</th>\n",
       "    </tr>\n",
       "    <tr>\n",
       "      <th>file_type</th>\n",
       "      <th></th>\n",
       "      <th></th>\n",
       "    </tr>\n",
       "  </thead>\n",
       "  <tbody>\n",
       "    <tr>\n",
       "      <th>bam</th>\n",
       "      <td>935</td>\n",
       "      <td>100.00%</td>\n",
       "    </tr>\n",
       "  </tbody>\n",
       "</table>\n",
       "</div>"
      ],
      "text/plain": [
       "           study  percent\n",
       "file_type                \n",
       "bam          935  100.00%"
      ]
     },
     "execution_count": 6,
     "metadata": {},
     "output_type": "execute_result"
    }
   ],
   "source": [
    "count(ndf, 'file_type')"
   ]
  },
  {
   "cell_type": "markdown",
   "metadata": {},
   "source": [
    "## Disease types"
   ]
  },
  {
   "cell_type": "code",
   "execution_count": 7,
   "metadata": {
    "collapsed": false
   },
   "outputs": [
    {
     "data": {
      "text/html": [
       "<div>\n",
       "<table border=\"1\" class=\"dataframe\">\n",
       "  <thead>\n",
       "    <tr style=\"text-align: right;\">\n",
       "      <th></th>\n",
       "      <th></th>\n",
       "      <th>study</th>\n",
       "      <th>percent</th>\n",
       "    </tr>\n",
       "    <tr>\n",
       "      <th>disease</th>\n",
       "      <th>disease_name</th>\n",
       "      <th></th>\n",
       "      <th></th>\n",
       "    </tr>\n",
       "  </thead>\n",
       "  <tbody>\n",
       "    <tr>\n",
       "      <th>MESO</th>\n",
       "      <th>MESOTHELIOMA</th>\n",
       "      <td>1</td>\n",
       "      <td>0.11%</td>\n",
       "    </tr>\n",
       "    <tr>\n",
       "      <th>UCEC</th>\n",
       "      <th>UTERINE CORPUS ENDOMETRIOID CARCINOMA</th>\n",
       "      <td>3</td>\n",
       "      <td>0.32%</td>\n",
       "    </tr>\n",
       "    <tr>\n",
       "      <th>PRAD</th>\n",
       "      <th>PROSTATE ADENOCARCINOMA</th>\n",
       "      <td>7</td>\n",
       "      <td>0.75%</td>\n",
       "    </tr>\n",
       "    <tr>\n",
       "      <th>THCA</th>\n",
       "      <th>THYROID CARCINOMA</th>\n",
       "      <td>12</td>\n",
       "      <td>1.28%</td>\n",
       "    </tr>\n",
       "    <tr>\n",
       "      <th>CESC</th>\n",
       "      <th>CERVICAL SQUAMOUS CELL CARCINOMA AND ENDOCERVICAL ADENOCARCINOMA</th>\n",
       "      <td>25</td>\n",
       "      <td>2.67%</td>\n",
       "    </tr>\n",
       "    <tr>\n",
       "      <th>MM</th>\n",
       "      <th>MULTIPLE MYELOMA</th>\n",
       "      <td>25</td>\n",
       "      <td>2.67%</td>\n",
       "    </tr>\n",
       "    <tr>\n",
       "      <th>KIRC</th>\n",
       "      <th>KIDNEY RENAL CLEAR CELL CARCINOMA</th>\n",
       "      <td>25</td>\n",
       "      <td>2.67%</td>\n",
       "    </tr>\n",
       "    <tr>\n",
       "      <th>BLCA</th>\n",
       "      <th>BLADDER UROTHELIAL CARCINOMA</th>\n",
       "      <td>26</td>\n",
       "      <td>2.78%</td>\n",
       "    </tr>\n",
       "    <tr>\n",
       "      <th>ESCA</th>\n",
       "      <th>ESOPHAGEAL CARCINOMA</th>\n",
       "      <td>26</td>\n",
       "      <td>2.78%</td>\n",
       "    </tr>\n",
       "    <tr>\n",
       "      <th>LIHC</th>\n",
       "      <th>LIVER HEPATOCELLULAR CARCINOMA</th>\n",
       "      <td>32</td>\n",
       "      <td>3.42%</td>\n",
       "    </tr>\n",
       "    <tr>\n",
       "      <th>HNSC</th>\n",
       "      <th>HEAD AND NECK SQUAMOUS CELL CARCINOMA</th>\n",
       "      <td>33</td>\n",
       "      <td>3.53%</td>\n",
       "    </tr>\n",
       "    <tr>\n",
       "      <th>SARC</th>\n",
       "      <th>SARCOMA</th>\n",
       "      <td>40</td>\n",
       "      <td>4.28%</td>\n",
       "    </tr>\n",
       "    <tr>\n",
       "      <th>PAAD</th>\n",
       "      <th>PANCREATIC ADENOCARCINOMA</th>\n",
       "      <td>41</td>\n",
       "      <td>4.39%</td>\n",
       "    </tr>\n",
       "    <tr>\n",
       "      <th>STAD</th>\n",
       "      <th>STOMACH ADENOCARCINOMA</th>\n",
       "      <td>41</td>\n",
       "      <td>4.39%</td>\n",
       "    </tr>\n",
       "    <tr>\n",
       "      <th>OV</th>\n",
       "      <th>OVARIAN SEROUS CYSTADENOCARCINOMA</th>\n",
       "      <td>45</td>\n",
       "      <td>4.81%</td>\n",
       "    </tr>\n",
       "    <tr>\n",
       "      <th>SKCM</th>\n",
       "      <th>SKIN CUTANEOUS MELANOMA</th>\n",
       "      <td>52</td>\n",
       "      <td>5.56%</td>\n",
       "    </tr>\n",
       "    <tr>\n",
       "      <th>BRCA</th>\n",
       "      <th>BREAST INVASIVE CARCINOMA</th>\n",
       "      <td>56</td>\n",
       "      <td>5.99%</td>\n",
       "    </tr>\n",
       "    <tr>\n",
       "      <th>DLBC</th>\n",
       "      <th>LYMPHOID NEOPLASM DIFFUSE LARGE B-CELL LYMPHOMA</th>\n",
       "      <td>57</td>\n",
       "      <td>6.10%</td>\n",
       "    </tr>\n",
       "    <tr>\n",
       "      <th>COAD</th>\n",
       "      <th>COLON ADENOCARCINOMA</th>\n",
       "      <td>58</td>\n",
       "      <td>6.20%</td>\n",
       "    </tr>\n",
       "    <tr>\n",
       "      <th>LGG</th>\n",
       "      <th>BRAIN LOWER GRADE GLIOMA</th>\n",
       "      <td>65</td>\n",
       "      <td>6.95%</td>\n",
       "    </tr>\n",
       "    <tr>\n",
       "      <th>LCLL</th>\n",
       "      <th>CHRONIC LYMPHOCYTIC LEUKEMIA</th>\n",
       "      <td>81</td>\n",
       "      <td>8.66%</td>\n",
       "    </tr>\n",
       "    <tr>\n",
       "      <th>LUSC</th>\n",
       "      <th>LUNG SQUAMOUS CELL CARCINOMA</th>\n",
       "      <td>184</td>\n",
       "      <td>19.68%</td>\n",
       "    </tr>\n",
       "  </tbody>\n",
       "</table>\n",
       "</div>"
      ],
      "text/plain": [
       "                                                            study percent\n",
       "disease disease_name                                                     \n",
       "MESO    MESOTHELIOMA                                            1   0.11%\n",
       "UCEC    UTERINE CORPUS ENDOMETRIOID CARCINOMA                   3   0.32%\n",
       "PRAD    PROSTATE ADENOCARCINOMA                                 7   0.75%\n",
       "THCA    THYROID CARCINOMA                                      12   1.28%\n",
       "CESC    CERVICAL SQUAMOUS CELL CARCINOMA AND ENDOCERVIC...     25   2.67%\n",
       "MM      MULTIPLE MYELOMA                                       25   2.67%\n",
       "KIRC    KIDNEY RENAL CLEAR CELL CARCINOMA                      25   2.67%\n",
       "BLCA    BLADDER UROTHELIAL CARCINOMA                           26   2.78%\n",
       "ESCA    ESOPHAGEAL CARCINOMA                                   26   2.78%\n",
       "LIHC    LIVER HEPATOCELLULAR CARCINOMA                         32   3.42%\n",
       "HNSC    HEAD AND NECK SQUAMOUS CELL CARCINOMA                  33   3.53%\n",
       "SARC    SARCOMA                                                40   4.28%\n",
       "PAAD    PANCREATIC ADENOCARCINOMA                              41   4.39%\n",
       "STAD    STOMACH ADENOCARCINOMA                                 41   4.39%\n",
       "OV      OVARIAN SEROUS CYSTADENOCARCINOMA                      45   4.81%\n",
       "SKCM    SKIN CUTANEOUS MELANOMA                                52   5.56%\n",
       "BRCA    BREAST INVASIVE CARCINOMA                              56   5.99%\n",
       "DLBC    LYMPHOID NEOPLASM DIFFUSE LARGE B-CELL LYMPHOMA        57   6.10%\n",
       "COAD    COLON ADENOCARCINOMA                                   58   6.20%\n",
       "LGG     BRAIN LOWER GRADE GLIOMA                               65   6.95%\n",
       "LCLL    CHRONIC LYMPHOCYTIC LEUKEMIA                           81   8.66%\n",
       "LUSC    LUNG SQUAMOUS CELL CARCINOMA                          184  19.68%"
      ]
     },
     "execution_count": 7,
     "metadata": {},
     "output_type": "execute_result"
    }
   ],
   "source": [
    "count(ndf, ['disease', 'disease_name'])"
   ]
  },
  {
   "cell_type": "markdown",
   "metadata": {},
   "source": [
    "## Number of samples"
   ]
  },
  {
   "cell_type": "code",
   "execution_count": 8,
   "metadata": {
    "collapsed": false
   },
   "outputs": [
    {
     "data": {
      "text/plain": [
       "935"
      ]
     },
     "execution_count": 8,
     "metadata": {},
     "output_type": "execute_result"
    }
   ],
   "source": [
    "ndf.shape[0]"
   ]
  },
  {
   "cell_type": "markdown",
   "metadata": {},
   "source": [
    "## File sizes"
   ]
  },
  {
   "cell_type": "code",
   "execution_count": 9,
   "metadata": {
    "collapsed": false
   },
   "outputs": [
    {
     "data": {
      "text/plain": [
       "count    935.0 Bytes\n",
       "mean         13.8 GB\n",
       "std           3.3 GB\n",
       "min           4.8 GB\n",
       "25%          11.7 GB\n",
       "50%          13.4 GB\n",
       "75%          16.1 GB\n",
       "max          34.2 GB\n",
       "Name: files_size, dtype: object"
      ]
     },
     "execution_count": 9,
     "metadata": {},
     "output_type": "execute_result"
    }
   ],
   "source": [
    "# Note: the count doesn't make sense when converting to filesize, so it's shown separately\n",
    "from misc.utils import sizeof_fmt\n",
    "# args: pass a sep character for better readbility. See sizeof_fmt?? for more details\n",
    "ndf.files_size.describe().apply(sizeof_fmt, args=(' ',))"
   ]
  },
  {
   "cell_type": "markdown",
   "metadata": {},
   "source": [
    "#### Would be interesting to find out what the smallest and biggest files are"
   ]
  },
  {
   "cell_type": "code",
   "execution_count": 17,
   "metadata": {
    "collapsed": false
   },
   "outputs": [
    {
     "name": "stdout",
     "output_type": "stream",
     "text": [
      "['aliquot_id', 'analysis_id', 'analyte_type', 'analyte_type_code', 'assembly', 'barcode', 'catalog_number', 'center', 'center_name', 'checksum', 'disease', 'disease_name', 'file_type', 'filename', 'files_size', 'files_size_readable', 'is_custom', 'library_type', 'modified', 'participant_id', 'platform', 'platform_full_name', 'platform_name', 'probe_file_url', 'published', 'reagent_name', 'reagent_vendor', 'reason', 'sample_accession', 'sample_id', 'sample_type', 'sample_type_code', 'sample_type_name', 'state', 'study', 'target_file_url', 'tss_id', 'uploaded']\n"
     ]
    }
   ],
   "source": [
    "print(sorted(ndf.columns.tolist()))"
   ]
  },
  {
   "cell_type": "code",
   "execution_count": 18,
   "metadata": {
    "collapsed": false
   },
   "outputs": [
    {
     "data": {
      "text/html": [
       "<div>\n",
       "<table border=\"1\" class=\"dataframe\">\n",
       "  <thead>\n",
       "    <tr style=\"text-align: right;\">\n",
       "      <th></th>\n",
       "      <th>aliquot_id</th>\n",
       "      <th>disease_name</th>\n",
       "      <th>sample_type_name</th>\n",
       "      <th>filename</th>\n",
       "      <th>file_type</th>\n",
       "      <th>files_size</th>\n",
       "      <th>files_size_readable</th>\n",
       "      <th>library_type</th>\n",
       "      <th>state</th>\n",
       "    </tr>\n",
       "  </thead>\n",
       "  <tbody>\n",
       "    <tr>\n",
       "      <th>0</th>\n",
       "      <td>bdda4bb5-c124-4976-ab0f-5ed93325029e</td>\n",
       "      <td>BREAST INVASIVE CARCINOMA</td>\n",
       "      <td>Cell Lines</td>\n",
       "      <td>G28034.MDA-MB-361.1.bam</td>\n",
       "      <td>bam</td>\n",
       "      <td>5.159984e+09</td>\n",
       "      <td>4.8 GB</td>\n",
       "      <td>RNA-Seq</td>\n",
       "      <td>Live</td>\n",
       "    </tr>\n",
       "    <tr>\n",
       "      <th>1</th>\n",
       "      <td>b39aceb7-b5a0-4d66-a258-5dab2e605093</td>\n",
       "      <td>BLADDER UROTHELIAL CARCINOMA</td>\n",
       "      <td>Cell Lines</td>\n",
       "      <td>G30630.VM-CUB1.3.bam</td>\n",
       "      <td>bam</td>\n",
       "      <td>5.645505e+09</td>\n",
       "      <td>5.3 GB</td>\n",
       "      <td>RNA-Seq</td>\n",
       "      <td>Live</td>\n",
       "    </tr>\n",
       "    <tr>\n",
       "      <th>2</th>\n",
       "      <td>94df1b60-37a3-4bbc-8ab0-50d1462d9f20</td>\n",
       "      <td>KIDNEY RENAL CLEAR CELL CARCINOMA</td>\n",
       "      <td>Cell Lines</td>\n",
       "      <td>G30603.TUHR4TKB.1.bam</td>\n",
       "      <td>bam</td>\n",
       "      <td>6.278609e+09</td>\n",
       "      <td>5.8 GB</td>\n",
       "      <td>RNA-Seq</td>\n",
       "      <td>Live</td>\n",
       "    </tr>\n",
       "    <tr>\n",
       "      <th>934</th>\n",
       "      <td>7bf1907c-bc47-47ee-9eeb-6d0ddf66aa28</td>\n",
       "      <td>UTERINE CORPUS ENDOMETRIOID CARCINOMA</td>\n",
       "      <td>Cell Lines</td>\n",
       "      <td>G41715.JHUEM-1.5.bam</td>\n",
       "      <td>bam</td>\n",
       "      <td>3.676008e+10</td>\n",
       "      <td>34.2 GB</td>\n",
       "      <td>RNA-Seq</td>\n",
       "      <td>Live</td>\n",
       "    </tr>\n",
       "  </tbody>\n",
       "</table>\n",
       "</div>"
      ],
      "text/plain": [
       "                               aliquot_id                           disease_name sample_type_name                 filename file_type    files_size files_size_readable library_type state\n",
       "0    bdda4bb5-c124-4976-ab0f-5ed93325029e              BREAST INVASIVE CARCINOMA       Cell Lines  G28034.MDA-MB-361.1.bam       bam  5.159984e+09              4.8 GB      RNA-Seq  Live\n",
       "1    b39aceb7-b5a0-4d66-a258-5dab2e605093           BLADDER UROTHELIAL CARCINOMA       Cell Lines     G30630.VM-CUB1.3.bam       bam  5.645505e+09              5.3 GB      RNA-Seq  Live\n",
       "2    94df1b60-37a3-4bbc-8ab0-50d1462d9f20      KIDNEY RENAL CLEAR CELL CARCINOMA       Cell Lines    G30603.TUHR4TKB.1.bam       bam  6.278609e+09              5.8 GB      RNA-Seq  Live\n",
       "934  7bf1907c-bc47-47ee-9eeb-6d0ddf66aa28  UTERINE CORPUS ENDOMETRIOID CARCINOMA       Cell Lines     G41715.JHUEM-1.5.bam       bam  3.676008e+10             34.2 GB      RNA-Seq  Live"
      ]
     },
     "execution_count": 18,
     "metadata": {},
     "output_type": "execute_result"
    }
   ],
   "source": [
    "cols_to_show = ['aliquot_id', 'disease_name', 'sample_type_name', 'filename', 'file_type',\n",
    "                'files_size', 'files_size_readable', 'library_type', 'state']\n",
    "# turn off warning, http://stackoverflow.com/questions/20625582/how-to-deal-with-this-pandas-warning\n",
    "ndf.is_copy = False\n",
    "ndf['files_size_readable'] = ndf.files_size.apply(sizeof_fmt)\n",
    "sorted_ndf = ndf.sort_values('files_size').reset_index()\n",
    "sorted_ndf.ix[[0, 1, 2, sorted_ndf.shape[0]-1]][cols_to_show]"
   ]
  },
  {
   "cell_type": "code",
   "execution_count": null,
   "metadata": {
    "collapsed": true
   },
   "outputs": [],
   "source": []
  }
 ],
 "metadata": {
  "kernelspec": {
   "display_name": "Python 2",
   "language": "python",
   "name": "python2"
  },
  "language_info": {
   "codemirror_mode": {
    "name": "ipython",
    "version": 2
   },
   "file_extension": ".py",
   "mimetype": "text/x-python",
   "name": "python",
   "nbconvert_exporter": "python",
   "pygments_lexer": "ipython2",
   "version": "2.7.11"
  }
 },
 "nbformat": 4,
 "nbformat_minor": 0
}
