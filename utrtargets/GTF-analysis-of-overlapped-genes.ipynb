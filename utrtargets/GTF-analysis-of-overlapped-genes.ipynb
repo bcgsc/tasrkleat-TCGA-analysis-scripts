{
 "cells": [
  {
   "cell_type": "code",
   "execution_count": 1,
   "metadata": {
    "collapsed": false
   },
   "outputs": [],
   "source": [
    "from eda_import import *\n",
    "import pysam"
   ]
  },
  {
   "cell_type": "code",
   "execution_count": 2,
   "metadata": {
    "collapsed": false
   },
   "outputs": [
    {
     "name": "stdout",
     "output_type": "stream",
     "text": [
      "2018-05-09 09:18:43.001480\n"
     ]
    }
   ],
   "source": [
    "print(datetime.datetime.today())"
   ]
  },
  {
   "cell_type": "code",
   "execution_count": 3,
   "metadata": {
    "collapsed": false
   },
   "outputs": [],
   "source": [
    "from extract_targets import extract_info"
   ]
  },
  {
   "cell_type": "code",
   "execution_count": 4,
   "metadata": {
    "collapsed": true
   },
   "outputs": [],
   "source": [
    "gtf = './reference_data/Homo_sapiens.GRCh37.75.gtf'"
   ]
  },
  {
   "cell_type": "code",
   "execution_count": 5,
   "metadata": {
    "collapsed": false
   },
   "outputs": [
    {
     "name": "stdout",
     "output_type": "stream",
     "text": [
      "reading ./reference_data/Homo_sapiens.GRCh37.75.gtf...\n",
      "CPU times: user 18.7 s, sys: 1.39 s, total: 20.1 s\n",
      "Wall time: 20.1 s\n"
     ]
    }
   ],
   "source": [
    "%%time\n",
    "# http://uswest.ensembl.org/info/website/upload/gff.html\n",
    "names = ['seqname', 'source', 'feature', 'start', 'end', 'score', 'strand', 'frame',\n",
    "         'attribute']\n",
    "# adf: annotation df\n",
    "print('reading {0}...'.format(gtf))\n",
    "df = pd.read_csv(gtf, header=None, sep='\\t', comment='#', low_memory=False, names=names)"
   ]
  },
  {
   "cell_type": "code",
   "execution_count": 6,
   "metadata": {
    "collapsed": false
   },
   "outputs": [
    {
     "name": "stdout",
     "output_type": "stream",
     "text": [
      "extracting length...\n",
      "extracting transcript id...\n",
      "extracting gene id...\n",
      "extracting gene name...\n",
      "CPU times: user 36.1 s, sys: 1.21 s, total: 37.3 s\n",
      "Wall time: 37.3 s\n"
     ]
    }
   ],
   "source": [
    "%time extract_info(df)"
   ]
  },
  {
   "cell_type": "code",
   "execution_count": 7,
   "metadata": {
    "collapsed": false
   },
   "outputs": [
    {
     "data": {
      "text/html": [
       "<div>\n",
       "<style>\n",
       "    .dataframe thead tr:only-child th {\n",
       "        text-align: right;\n",
       "    }\n",
       "\n",
       "    .dataframe thead th {\n",
       "        text-align: left;\n",
       "    }\n",
       "\n",
       "    .dataframe tbody tr th {\n",
       "        vertical-align: top;\n",
       "    }\n",
       "</style>\n",
       "<table border=\"1\" class=\"dataframe\">\n",
       "  <thead>\n",
       "    <tr style=\"text-align: right;\">\n",
       "      <th></th>\n",
       "      <th>seqname</th>\n",
       "      <th>source</th>\n",
       "      <th>feature</th>\n",
       "      <th>start</th>\n",
       "      <th>end</th>\n",
       "      <th>score</th>\n",
       "      <th>strand</th>\n",
       "      <th>frame</th>\n",
       "      <th>len</th>\n",
       "      <th>transcript_id</th>\n",
       "      <th>gene_id</th>\n",
       "      <th>gene_name</th>\n",
       "    </tr>\n",
       "  </thead>\n",
       "  <tbody>\n",
       "    <tr>\n",
       "      <th>0</th>\n",
       "      <td>1</td>\n",
       "      <td>pseudogene</td>\n",
       "      <td>gene</td>\n",
       "      <td>11869</td>\n",
       "      <td>14412</td>\n",
       "      <td>.</td>\n",
       "      <td>+</td>\n",
       "      <td>.</td>\n",
       "      <td>2544</td>\n",
       "      <td></td>\n",
       "      <td>ENSG00000223972</td>\n",
       "      <td>DDX11L1</td>\n",
       "    </tr>\n",
       "    <tr>\n",
       "      <th>1</th>\n",
       "      <td>1</td>\n",
       "      <td>processed_transcript</td>\n",
       "      <td>transcript</td>\n",
       "      <td>11869</td>\n",
       "      <td>14409</td>\n",
       "      <td>.</td>\n",
       "      <td>+</td>\n",
       "      <td>.</td>\n",
       "      <td>2541</td>\n",
       "      <td>ENST00000456328</td>\n",
       "      <td>ENSG00000223972</td>\n",
       "      <td>DDX11L1</td>\n",
       "    </tr>\n",
       "  </tbody>\n",
       "</table>\n",
       "</div>"
      ],
      "text/plain": [
       "  seqname                source     feature  start    end score strand frame   len    transcript_id          gene_id gene_name\n",
       "0  1       pseudogene            gene        11869  14412  .     +      .     2544                   ENSG00000223972  DDX11L1 \n",
       "1  1       processed_transcript  transcript  11869  14409  .     +      .     2541  ENST00000456328  ENSG00000223972  DDX11L1 "
      ]
     },
     "execution_count": 7,
     "metadata": {},
     "output_type": "execute_result"
    }
   ],
   "source": [
    "df.head(2)"
   ]
  },
  {
   "cell_type": "markdown",
   "metadata": {},
   "source": [
    "# See overlaps among genes"
   ]
  },
  {
   "cell_type": "code",
   "execution_count": 8,
   "metadata": {
    "collapsed": true
   },
   "outputs": [],
   "source": [
    "chrs = list(map(str, range(1, 23))) + ['X', 'Y', 'MT']"
   ]
  },
  {
   "cell_type": "code",
   "execution_count": 9,
   "metadata": {
    "collapsed": true
   },
   "outputs": [],
   "source": [
    "subdf = df.query('seqname in {0}'.format(chrs)).query(\n",
    "    'source in [\"protein_coding\", \"nonsense_mediated_decay\"]'\n",
    "    ).query('feature == \"gene\"').copy()"
   ]
  },
  {
   "cell_type": "code",
   "execution_count": 10,
   "metadata": {
    "collapsed": false
   },
   "outputs": [
    {
     "data": {
      "text/plain": [
       "(20327,)"
      ]
     },
     "execution_count": 10,
     "metadata": {},
     "output_type": "execute_result"
    }
   ],
   "source": [
    "subdf.gene_id.unique().shape"
   ]
  },
  {
   "cell_type": "markdown",
   "metadata": {},
   "source": [
    "This number makes sense compared to the number of genes in the genome normally discussed."
   ]
  },
  {
   "cell_type": "code",
   "execution_count": 11,
   "metadata": {
    "collapsed": false
   },
   "outputs": [
    {
     "data": {
      "text/html": [
       "<div>\n",
       "<style>\n",
       "    .dataframe thead tr:only-child th {\n",
       "        text-align: right;\n",
       "    }\n",
       "\n",
       "    .dataframe thead th {\n",
       "        text-align: left;\n",
       "    }\n",
       "\n",
       "    .dataframe tbody tr th {\n",
       "        vertical-align: top;\n",
       "    }\n",
       "</style>\n",
       "<table border=\"1\" class=\"dataframe\">\n",
       "  <thead>\n",
       "    <tr style=\"text-align: right;\">\n",
       "      <th></th>\n",
       "      <th>seqname</th>\n",
       "      <th>source</th>\n",
       "      <th>feature</th>\n",
       "      <th>start</th>\n",
       "      <th>end</th>\n",
       "      <th>score</th>\n",
       "      <th>strand</th>\n",
       "      <th>frame</th>\n",
       "      <th>len</th>\n",
       "      <th>transcript_id</th>\n",
       "      <th>gene_id</th>\n",
       "      <th>gene_name</th>\n",
       "    </tr>\n",
       "  </thead>\n",
       "  <tbody>\n",
       "    <tr>\n",
       "      <th>109</th>\n",
       "      <td>1</td>\n",
       "      <td>protein_coding</td>\n",
       "      <td>gene</td>\n",
       "      <td>69091</td>\n",
       "      <td>70008</td>\n",
       "      <td>.</td>\n",
       "      <td>+</td>\n",
       "      <td>.</td>\n",
       "      <td>918</td>\n",
       "      <td></td>\n",
       "      <td>ENSG00000186092</td>\n",
       "      <td>OR4F5</td>\n",
       "    </tr>\n",
       "    <tr>\n",
       "      <th>140</th>\n",
       "      <td>1</td>\n",
       "      <td>protein_coding</td>\n",
       "      <td>gene</td>\n",
       "      <td>134901</td>\n",
       "      <td>139379</td>\n",
       "      <td>.</td>\n",
       "      <td>-</td>\n",
       "      <td>.</td>\n",
       "      <td>4479</td>\n",
       "      <td></td>\n",
       "      <td>ENSG00000237683</td>\n",
       "      <td>AL627309.1</td>\n",
       "    </tr>\n",
       "  </tbody>\n",
       "</table>\n",
       "</div>"
      ],
      "text/plain": [
       "    seqname          source feature   start     end score strand frame   len transcript_id          gene_id   gene_name\n",
       "109  1       protein_coding  gene    69091   70008   .     +      .     918                 ENSG00000186092  OR4F5     \n",
       "140  1       protein_coding  gene    134901  139379  .     -      .     4479                ENSG00000237683  AL627309.1"
      ]
     },
     "execution_count": 11,
     "metadata": {},
     "output_type": "execute_result"
    }
   ],
   "source": [
    "subdf.head(2)"
   ]
  },
  {
   "cell_type": "code",
   "execution_count": 12,
   "metadata": {
    "collapsed": false
   },
   "outputs": [
    {
     "data": {
      "text/html": [
       "<div>\n",
       "<style>\n",
       "    .dataframe thead tr:only-child th {\n",
       "        text-align: right;\n",
       "    }\n",
       "\n",
       "    .dataframe thead th {\n",
       "        text-align: left;\n",
       "    }\n",
       "\n",
       "    .dataframe tbody tr th {\n",
       "        vertical-align: top;\n",
       "    }\n",
       "</style>\n",
       "<table border=\"1\" class=\"dataframe\">\n",
       "  <thead>\n",
       "    <tr style=\"text-align: right;\">\n",
       "      <th>seqname</th>\n",
       "      <th>1</th>\n",
       "      <th>19</th>\n",
       "      <th>11</th>\n",
       "      <th>2</th>\n",
       "      <th>17</th>\n",
       "      <th>3</th>\n",
       "      <th>12</th>\n",
       "      <th>6</th>\n",
       "      <th>7</th>\n",
       "      <th>5</th>\n",
       "      <th>16</th>\n",
       "      <th>X</th>\n",
       "      <th>9</th>\n",
       "      <th>10</th>\n",
       "      <th>4</th>\n",
       "      <th>8</th>\n",
       "      <th>14</th>\n",
       "      <th>15</th>\n",
       "      <th>20</th>\n",
       "      <th>22</th>\n",
       "      <th>13</th>\n",
       "      <th>18</th>\n",
       "      <th>21</th>\n",
       "      <th>Y</th>\n",
       "      <th>MT</th>\n",
       "    </tr>\n",
       "  </thead>\n",
       "  <tbody>\n",
       "    <tr>\n",
       "      <th>count</th>\n",
       "      <td>2076</td>\n",
       "      <td>1481</td>\n",
       "      <td>1317</td>\n",
       "      <td>1281</td>\n",
       "      <td>1208</td>\n",
       "      <td>1078</td>\n",
       "      <td>1070</td>\n",
       "      <td>1052</td>\n",
       "      <td>917</td>\n",
       "      <td>893</td>\n",
       "      <td>875</td>\n",
       "      <td>830</td>\n",
       "      <td>805</td>\n",
       "      <td>771</td>\n",
       "      <td>767</td>\n",
       "      <td>701</td>\n",
       "      <td>652</td>\n",
       "      <td>617</td>\n",
       "      <td>560</td>\n",
       "      <td>450</td>\n",
       "      <td>329</td>\n",
       "      <td>288</td>\n",
       "      <td>242</td>\n",
       "      <td>54</td>\n",
       "      <td>13</td>\n",
       "    </tr>\n",
       "  </tbody>\n",
       "</table>\n",
       "</div>"
      ],
      "text/plain": [
       "seqname     1    19    11     2    17     3    12     6    7    5   16    X    9   10    4    8   14   15   20   22   13   18   21   Y  MT\n",
       "count    2076  1481  1317  1281  1208  1078  1070  1052  917  893  875  830  805  771  767  701  652  617  560  450  329  288  242  54  13"
      ]
     },
     "execution_count": 12,
     "metadata": {},
     "output_type": "execute_result"
    }
   ],
   "source": [
    "subdf.groupby('seqname').apply(\n",
    "    lambda g: g.gene_id.unique().shape[0]\n",
    "    ).sort_values(ascending=False).to_frame(name='count').T"
   ]
  },
  {
   "cell_type": "markdown",
   "metadata": {},
   "source": [
    "Even chr1 has just a bit over 2k genes!"
   ]
  },
  {
   "cell_type": "markdown",
   "metadata": {},
   "source": [
    "# Analyze overlap"
   ]
  },
  {
   "cell_type": "code",
   "execution_count": 28,
   "metadata": {
    "collapsed": false
   },
   "outputs": [],
   "source": [
    "df_neigh_gene_pairs_list = []\n",
    "for _chr in chrs:\n",
    "    chrdf = subdf.query('seqname == \"{0}\"'.format(_chr)).sort_values('start')\n",
    "    \n",
    "    gene_names = chrdf.gene_name.values\n",
    "\n",
    "    # For each gene but the first and last, create a pair of placeholders for start and end\n",
    "    gn_pairs = np.concatenate([\n",
    "        gene_names[0:1], \n",
    "        np.repeat(gene_names[1:-1], 2), \n",
    "        gene_names[-1:]\n",
    "    ]).reshape(-1, 2)\n",
    "\n",
    "    # pairs of (end_of_1st_gene, start_of_next_gene)\n",
    "    endstart = chrdf[['start', 'end']].values.ravel()[1:-1].reshape(-1, 2)\n",
    "\n",
    "    endstart_df = pd.DataFrame(endstart, columns=['gene1_end', 'gene2_start'])\n",
    "\n",
    "    endstart_df['gene1'] = gn_pairs[:,0]\n",
    "    endstart_df['gene2'] = gn_pairs[:,1]\n",
    "    endstart_df['diff'] = endstart_df.gene2_start - endstart_df.gene1_end\n",
    "    endstart_df['has_overlap'] = endstart_df.apply(lambda row: row['diff'] < 0, axis=1)\n",
    "    # endstart_df['diff'].plot.hist(bins=np.arange(-1e5, 1e5, 1e4), figsize=(6, 4))\n",
    "    endstart_df['seqname'] = _chr\n",
    "    \n",
    "    df_neigh_gene_pairs_list.append(endstart_df)"
   ]
  },
  {
   "cell_type": "code",
   "execution_count": 40,
   "metadata": {
    "collapsed": true
   },
   "outputs": [],
   "source": [
    "df_neigh_gene_pairs = pd.concat(df_neigh_gene_pairs_list)"
   ]
  },
  {
   "cell_type": "code",
   "execution_count": 41,
   "metadata": {
    "collapsed": false
   },
   "outputs": [
    {
     "data": {
      "text/html": [
       "<div>\n",
       "<style>\n",
       "    .dataframe thead tr:only-child th {\n",
       "        text-align: right;\n",
       "    }\n",
       "\n",
       "    .dataframe thead th {\n",
       "        text-align: left;\n",
       "    }\n",
       "\n",
       "    .dataframe tbody tr th {\n",
       "        vertical-align: top;\n",
       "    }\n",
       "</style>\n",
       "<table border=\"1\" class=\"dataframe\">\n",
       "  <thead>\n",
       "    <tr style=\"text-align: right;\">\n",
       "      <th></th>\n",
       "      <th>gene1_end</th>\n",
       "      <th>gene2_start</th>\n",
       "      <th>gene1</th>\n",
       "      <th>gene2</th>\n",
       "      <th>diff</th>\n",
       "      <th>has_overlap</th>\n",
       "      <th>seqname</th>\n",
       "    </tr>\n",
       "  </thead>\n",
       "  <tbody>\n",
       "    <tr>\n",
       "      <th>0</th>\n",
       "      <td>70008</td>\n",
       "      <td>134901</td>\n",
       "      <td>OR4F5</td>\n",
       "      <td>AL627309.1</td>\n",
       "      <td>64893</td>\n",
       "      <td>False</td>\n",
       "      <td>1</td>\n",
       "    </tr>\n",
       "    <tr>\n",
       "      <th>1</th>\n",
       "      <td>139379</td>\n",
       "      <td>367640</td>\n",
       "      <td>AL627309.1</td>\n",
       "      <td>OR4F29</td>\n",
       "      <td>228261</td>\n",
       "      <td>False</td>\n",
       "      <td>1</td>\n",
       "    </tr>\n",
       "  </tbody>\n",
       "</table>\n",
       "</div>"
      ],
      "text/plain": [
       "   gene1_end  gene2_start       gene1       gene2    diff  has_overlap seqname\n",
       "0  70008      134901       OR4F5       AL627309.1  64893   False        1     \n",
       "1  139379     367640       AL627309.1  OR4F29      228261  False        1     "
      ]
     },
     "execution_count": 41,
     "metadata": {},
     "output_type": "execute_result"
    }
   ],
   "source": [
    "df_neigh_gene_pairs.head(2)"
   ]
  },
  {
   "cell_type": "code",
   "execution_count": 46,
   "metadata": {
    "collapsed": true
   },
   "outputs": [],
   "source": [
    "def calc_overlap_ratio(_df):\n",
    "    a = _df.query('diff < 0').shape[0] \n",
    "    b = _df.shape[0]\n",
    "    return a / b"
   ]
  },
  {
   "cell_type": "code",
   "execution_count": 47,
   "metadata": {
    "collapsed": false
   },
   "outputs": [
    {
     "data": {
      "text/plain": [
       "0.18569599054280367"
      ]
     },
     "execution_count": 47,
     "metadata": {},
     "output_type": "execute_result"
    }
   ],
   "source": [
    "calc_overlap_ratio(df_neigh_gene_pairs)"
   ]
  },
  {
   "cell_type": "markdown",
   "metadata": {},
   "source": [
    "Overall, 18.6% of neighbouring genes overlap across all chromosomes."
   ]
  },
  {
   "cell_type": "code",
   "execution_count": 51,
   "metadata": {
    "collapsed": false
   },
   "outputs": [],
   "source": [
    "df_res = df_neigh_gene_pairs.groupby('seqname').apply(\n",
    "    calc_overlap_ratio).to_frame('overlap_ratio').reset_index()"
   ]
  },
  {
   "cell_type": "code",
   "execution_count": 52,
   "metadata": {
    "collapsed": true
   },
   "outputs": [],
   "source": [
    "chr_lens = df.groupby('seqname').apply(\n",
    "    lambda g: g.end.max() - g.start.min()).to_frame(name='len').reset_index()"
   ]
  },
  {
   "cell_type": "code",
   "execution_count": 53,
   "metadata": {
    "collapsed": true
   },
   "outputs": [],
   "source": [
    "df_overlap = df_res.merge(chr_lens, on='seqname', how='left').sort_values('overlap_ratio')"
   ]
  },
  {
   "cell_type": "code",
   "execution_count": 54,
   "metadata": {
    "collapsed": true
   },
   "outputs": [],
   "source": [
    "df_overlap.set_index('seqname', drop=True, inplace=True)"
   ]
  },
  {
   "cell_type": "code",
   "execution_count": 55,
   "metadata": {
    "collapsed": false
   },
   "outputs": [
    {
     "data": {
      "text/html": [
       "<div>\n",
       "<style>\n",
       "    .dataframe thead tr:only-child th {\n",
       "        text-align: right;\n",
       "    }\n",
       "\n",
       "    .dataframe thead th {\n",
       "        text-align: left;\n",
       "    }\n",
       "\n",
       "    .dataframe tbody tr th {\n",
       "        vertical-align: top;\n",
       "    }\n",
       "</style>\n",
       "<table border=\"1\" class=\"dataframe\">\n",
       "  <thead>\n",
       "    <tr style=\"text-align: right;\">\n",
       "      <th></th>\n",
       "      <th>overlap_ratio</th>\n",
       "      <th>len</th>\n",
       "    </tr>\n",
       "    <tr>\n",
       "      <th>seqname</th>\n",
       "      <th></th>\n",
       "      <th></th>\n",
       "    </tr>\n",
       "  </thead>\n",
       "  <tbody>\n",
       "    <tr>\n",
       "      <th>X</th>\n",
       "      <td>0.088058</td>\n",
       "      <td>155087438</td>\n",
       "    </tr>\n",
       "    <tr>\n",
       "      <th>13</th>\n",
       "      <td>0.112805</td>\n",
       "      <td>96058111</td>\n",
       "    </tr>\n",
       "  </tbody>\n",
       "</table>\n",
       "</div>"
      ],
      "text/plain": [
       "         overlap_ratio        len\n",
       "seqname                          \n",
       "X        0.088058       155087438\n",
       "13       0.112805       96058111 "
      ]
     },
     "execution_count": 55,
     "metadata": {},
     "output_type": "execute_result"
    }
   ],
   "source": [
    "df_overlap.head(2)"
   ]
  },
  {
   "cell_type": "code",
   "execution_count": 56,
   "metadata": {
    "collapsed": false
   },
   "outputs": [
    {
     "data": {
      "text/plain": [
       "(-1, 25)"
      ]
     },
     "execution_count": 56,
     "metadata": {},
     "output_type": "execute_result"
    },
    {
     "data": {
      "image/png": "[encoded data removed]",
      "text/plain": [
       "<matplotlib.figure.Figure at 0x7f875daa8cc0>"
      ]
     },
     "metadata": {},
     "output_type": "display_data"
    }
   ],
   "source": [
    "ax = df_overlap.overlap_ratio.plot.bar(figsize=(12, 8))\n",
    "ax2 = ax.twinx()\n",
    "\n",
    "ax.set_xlabel('seqname')\n",
    "ax.set_ylabel('overlap ratio of neighbouring gene pairs')\n",
    "\n",
    "df_overlap['len'].plot(ax=ax2, lw=5, color='white')\n",
    "df_overlap['len'].plot(ax=ax2, lw=1, marker='o', color='red')\n",
    "ax2.set_ylabel('chromosome length (bp)')\n",
    "\n",
    "for p in ax.patches:\n",
    "    ax.text(p.get_x() + p.get_width()/2., p.get_height() + 0.002,\n",
    "                '{0:.2f}'.format(p.get_height()),\n",
    "                ha='center', va='bottom')\n",
    "\n",
    "ax.set_xlim(-1, 25)"
   ]
  },
  {
   "cell_type": "code",
   "execution_count": 57,
   "metadata": {
    "collapsed": false
   },
   "outputs": [
    {
     "data": {
      "text/html": [
       "<div>\n",
       "<style>\n",
       "    .dataframe thead tr:only-child th {\n",
       "        text-align: right;\n",
       "    }\n",
       "\n",
       "    .dataframe thead th {\n",
       "        text-align: left;\n",
       "    }\n",
       "\n",
       "    .dataframe tbody tr th {\n",
       "        vertical-align: top;\n",
       "    }\n",
       "</style>\n",
       "<table border=\"1\" class=\"dataframe\">\n",
       "  <thead>\n",
       "    <tr style=\"text-align: right;\">\n",
       "      <th></th>\n",
       "      <th>overlap_ratio</th>\n",
       "      <th>len</th>\n",
       "    </tr>\n",
       "    <tr>\n",
       "      <th>seqname</th>\n",
       "      <th></th>\n",
       "      <th></th>\n",
       "    </tr>\n",
       "  </thead>\n",
       "  <tbody>\n",
       "    <tr>\n",
       "      <th>X</th>\n",
       "      <td>0.088058</td>\n",
       "      <td>155087438</td>\n",
       "    </tr>\n",
       "    <tr>\n",
       "      <th>13</th>\n",
       "      <td>0.112805</td>\n",
       "      <td>96058111</td>\n",
       "    </tr>\n",
       "    <tr>\n",
       "      <th>Y</th>\n",
       "      <td>0.132075</td>\n",
       "      <td>56348845</td>\n",
       "    </tr>\n",
       "    <tr>\n",
       "      <th>10</th>\n",
       "      <td>0.140260</td>\n",
       "      <td>135425372</td>\n",
       "    </tr>\n",
       "    <tr>\n",
       "      <th>4</th>\n",
       "      <td>0.140992</td>\n",
       "      <td>190964728</td>\n",
       "    </tr>\n",
       "    <tr>\n",
       "      <th>21</th>\n",
       "      <td>0.145228</td>\n",
       "      <td>38427966</td>\n",
       "    </tr>\n",
       "    <tr>\n",
       "      <th>1</th>\n",
       "      <td>0.148916</td>\n",
       "      <td>249219373</td>\n",
       "    </tr>\n",
       "    <tr>\n",
       "      <th>18</th>\n",
       "      <td>0.156794</td>\n",
       "      <td>77994326</td>\n",
       "    </tr>\n",
       "    <tr>\n",
       "      <th>9</th>\n",
       "      <td>0.161692</td>\n",
       "      <td>141138161</td>\n",
       "    </tr>\n",
       "    <tr>\n",
       "      <th>20</th>\n",
       "      <td>0.166369</td>\n",
       "      <td>62876594</td>\n",
       "    </tr>\n",
       "    <tr>\n",
       "      <th>MT</th>\n",
       "      <td>0.166667</td>\n",
       "      <td>15446</td>\n",
       "    </tr>\n",
       "    <tr>\n",
       "      <th>8</th>\n",
       "      <td>0.174286</td>\n",
       "      <td>146267325</td>\n",
       "    </tr>\n",
       "    <tr>\n",
       "      <th>6</th>\n",
       "      <td>0.176974</td>\n",
       "      <td>170959941</td>\n",
       "    </tr>\n",
       "    <tr>\n",
       "      <th>2</th>\n",
       "      <td>0.179688</td>\n",
       "      <td>243122011</td>\n",
       "    </tr>\n",
       "    <tr>\n",
       "      <th>7</th>\n",
       "      <td>0.183406</td>\n",
       "      <td>158955095</td>\n",
       "    </tr>\n",
       "    <tr>\n",
       "      <th>11</th>\n",
       "      <td>0.189210</td>\n",
       "      <td>134870013</td>\n",
       "    </tr>\n",
       "    <tr>\n",
       "      <th>15</th>\n",
       "      <td>0.194805</td>\n",
       "      <td>82435529</td>\n",
       "    </tr>\n",
       "    <tr>\n",
       "      <th>5</th>\n",
       "      <td>0.206278</td>\n",
       "      <td>180841118</td>\n",
       "    </tr>\n",
       "    <tr>\n",
       "      <th>22</th>\n",
       "      <td>0.209354</td>\n",
       "      <td>35177580</td>\n",
       "    </tr>\n",
       "    <tr>\n",
       "      <th>12</th>\n",
       "      <td>0.211413</td>\n",
       "      <td>133747528</td>\n",
       "    </tr>\n",
       "    <tr>\n",
       "      <th>3</th>\n",
       "      <td>0.211699</td>\n",
       "      <td>197889816</td>\n",
       "    </tr>\n",
       "    <tr>\n",
       "      <th>17</th>\n",
       "      <td>0.233637</td>\n",
       "      <td>81183612</td>\n",
       "    </tr>\n",
       "    <tr>\n",
       "      <th>19</th>\n",
       "      <td>0.234459</td>\n",
       "      <td>59051063</td>\n",
       "    </tr>\n",
       "    <tr>\n",
       "      <th>14</th>\n",
       "      <td>0.251920</td>\n",
       "      <td>88177816</td>\n",
       "    </tr>\n",
       "    <tr>\n",
       "      <th>16</th>\n",
       "      <td>0.255149</td>\n",
       "      <td>90227533</td>\n",
       "    </tr>\n",
       "  </tbody>\n",
       "</table>\n",
       "</div>"
      ],
      "text/plain": [
       "         overlap_ratio        len\n",
       "seqname                          \n",
       "X        0.088058       155087438\n",
       "13       0.112805       96058111 \n",
       "Y        0.132075       56348845 \n",
       "10       0.140260       135425372\n",
       "4        0.140992       190964728\n",
       "21       0.145228       38427966 \n",
       "1        0.148916       249219373\n",
       "18       0.156794       77994326 \n",
       "9        0.161692       141138161\n",
       "20       0.166369       62876594 \n",
       "MT       0.166667       15446    \n",
       "8        0.174286       146267325\n",
       "6        0.176974       170959941\n",
       "2        0.179688       243122011\n",
       "7        0.183406       158955095\n",
       "11       0.189210       134870013\n",
       "15       0.194805       82435529 \n",
       "5        0.206278       180841118\n",
       "22       0.209354       35177580 \n",
       "12       0.211413       133747528\n",
       "3        0.211699       197889816\n",
       "17       0.233637       81183612 \n",
       "19       0.234459       59051063 \n",
       "14       0.251920       88177816 \n",
       "16       0.255149       90227533 "
      ]
     },
     "execution_count": 57,
     "metadata": {},
     "output_type": "execute_result"
    }
   ],
   "source": [
    "df_overlap.sort_values('overlap_ratio')"
   ]
  },
  {
   "cell_type": "code",
   "execution_count": null,
   "metadata": {
    "collapsed": true
   },
   "outputs": [],
   "source": []
  },
  {
   "cell_type": "markdown",
   "metadata": {},
   "source": [
    "### look at one chr a time, for debugging purpose"
   ]
  },
  {
   "cell_type": "code",
   "execution_count": 66,
   "metadata": {
    "collapsed": true
   },
   "outputs": [],
   "source": [
    "chrdf = subdf.query('seqname == \"1\"').sort_values('start')"
   ]
  },
  {
   "cell_type": "code",
   "execution_count": 67,
   "metadata": {
    "collapsed": false
   },
   "outputs": [],
   "source": [
    "assert chrdf.shape == (2076, 12)"
   ]
  },
  {
   "cell_type": "code",
   "execution_count": 68,
   "metadata": {
    "collapsed": false
   },
   "outputs": [
    {
     "data": {
      "text/html": [
       "<div>\n",
       "<style>\n",
       "    .dataframe thead tr:only-child th {\n",
       "        text-align: right;\n",
       "    }\n",
       "\n",
       "    .dataframe thead th {\n",
       "        text-align: left;\n",
       "    }\n",
       "\n",
       "    .dataframe tbody tr th {\n",
       "        vertical-align: top;\n",
       "    }\n",
       "</style>\n",
       "<table border=\"1\" class=\"dataframe\">\n",
       "  <thead>\n",
       "    <tr style=\"text-align: right;\">\n",
       "      <th></th>\n",
       "      <th>seqname</th>\n",
       "      <th>source</th>\n",
       "      <th>feature</th>\n",
       "      <th>start</th>\n",
       "      <th>end</th>\n",
       "      <th>score</th>\n",
       "      <th>strand</th>\n",
       "      <th>frame</th>\n",
       "      <th>len</th>\n",
       "      <th>transcript_id</th>\n",
       "      <th>gene_id</th>\n",
       "      <th>gene_name</th>\n",
       "    </tr>\n",
       "  </thead>\n",
       "  <tbody>\n",
       "    <tr>\n",
       "      <th>109</th>\n",
       "      <td>1</td>\n",
       "      <td>protein_coding</td>\n",
       "      <td>gene</td>\n",
       "      <td>69091</td>\n",
       "      <td>70008</td>\n",
       "      <td>.</td>\n",
       "      <td>+</td>\n",
       "      <td>.</td>\n",
       "      <td>918</td>\n",
       "      <td></td>\n",
       "      <td>ENSG00000186092</td>\n",
       "      <td>OR4F5</td>\n",
       "    </tr>\n",
       "    <tr>\n",
       "      <th>140</th>\n",
       "      <td>1</td>\n",
       "      <td>protein_coding</td>\n",
       "      <td>gene</td>\n",
       "      <td>134901</td>\n",
       "      <td>139379</td>\n",
       "      <td>.</td>\n",
       "      <td>-</td>\n",
       "      <td>.</td>\n",
       "      <td>4479</td>\n",
       "      <td></td>\n",
       "      <td>ENSG00000237683</td>\n",
       "      <td>AL627309.1</td>\n",
       "    </tr>\n",
       "    <tr>\n",
       "      <th>276</th>\n",
       "      <td>1</td>\n",
       "      <td>protein_coding</td>\n",
       "      <td>gene</td>\n",
       "      <td>367640</td>\n",
       "      <td>368634</td>\n",
       "      <td>.</td>\n",
       "      <td>+</td>\n",
       "      <td>.</td>\n",
       "      <td>995</td>\n",
       "      <td></td>\n",
       "      <td>ENSG00000235249</td>\n",
       "      <td>OR4F29</td>\n",
       "    </tr>\n",
       "    <tr>\n",
       "      <th>373</th>\n",
       "      <td>1</td>\n",
       "      <td>protein_coding</td>\n",
       "      <td>gene</td>\n",
       "      <td>621059</td>\n",
       "      <td>622053</td>\n",
       "      <td>.</td>\n",
       "      <td>-</td>\n",
       "      <td>.</td>\n",
       "      <td>995</td>\n",
       "      <td></td>\n",
       "      <td>ENSG00000185097</td>\n",
       "      <td>OR4F16</td>\n",
       "    </tr>\n",
       "    <tr>\n",
       "      <th>510</th>\n",
       "      <td>1</td>\n",
       "      <td>protein_coding</td>\n",
       "      <td>gene</td>\n",
       "      <td>738532</td>\n",
       "      <td>739137</td>\n",
       "      <td>.</td>\n",
       "      <td>-</td>\n",
       "      <td>.</td>\n",
       "      <td>606</td>\n",
       "      <td></td>\n",
       "      <td>ENSG00000269831</td>\n",
       "      <td>AL669831.1</td>\n",
       "    </tr>\n",
       "    <tr>\n",
       "      <th>605</th>\n",
       "      <td>1</td>\n",
       "      <td>protein_coding</td>\n",
       "      <td>gene</td>\n",
       "      <td>818043</td>\n",
       "      <td>819983</td>\n",
       "      <td>.</td>\n",
       "      <td>+</td>\n",
       "      <td>.</td>\n",
       "      <td>1941</td>\n",
       "      <td></td>\n",
       "      <td>ENSG00000269308</td>\n",
       "      <td>AL645608.2</td>\n",
       "    </tr>\n",
       "    <tr>\n",
       "      <th>637</th>\n",
       "      <td>1</td>\n",
       "      <td>protein_coding</td>\n",
       "      <td>gene</td>\n",
       "      <td>860260</td>\n",
       "      <td>879955</td>\n",
       "      <td>.</td>\n",
       "      <td>+</td>\n",
       "      <td>.</td>\n",
       "      <td>19696</td>\n",
       "      <td></td>\n",
       "      <td>ENSG00000187634</td>\n",
       "      <td>SAMD11</td>\n",
       "    </tr>\n",
       "    <tr>\n",
       "      <th>756</th>\n",
       "      <td>1</td>\n",
       "      <td>protein_coding</td>\n",
       "      <td>gene</td>\n",
       "      <td>861264</td>\n",
       "      <td>866445</td>\n",
       "      <td>.</td>\n",
       "      <td>-</td>\n",
       "      <td>.</td>\n",
       "      <td>5182</td>\n",
       "      <td></td>\n",
       "      <td>ENSG00000268179</td>\n",
       "      <td>AL645608.1</td>\n",
       "    </tr>\n",
       "    <tr>\n",
       "      <th>771</th>\n",
       "      <td>1</td>\n",
       "      <td>protein_coding</td>\n",
       "      <td>gene</td>\n",
       "      <td>879584</td>\n",
       "      <td>894689</td>\n",
       "      <td>.</td>\n",
       "      <td>-</td>\n",
       "      <td>.</td>\n",
       "      <td>15106</td>\n",
       "      <td></td>\n",
       "      <td>ENSG00000188976</td>\n",
       "      <td>NOC2L</td>\n",
       "    </tr>\n",
       "    <tr>\n",
       "      <th>853</th>\n",
       "      <td>1</td>\n",
       "      <td>protein_coding</td>\n",
       "      <td>gene</td>\n",
       "      <td>895967</td>\n",
       "      <td>901095</td>\n",
       "      <td>.</td>\n",
       "      <td>+</td>\n",
       "      <td>.</td>\n",
       "      <td>5129</td>\n",
       "      <td></td>\n",
       "      <td>ENSG00000187961</td>\n",
       "      <td>KLHL17</td>\n",
       "    </tr>\n",
       "  </tbody>\n",
       "</table>\n",
       "</div>"
      ],
      "text/plain": [
       "    seqname          source feature   start     end score strand frame    len transcript_id          gene_id   gene_name\n",
       "109  1       protein_coding  gene    69091   70008   .     +      .     918                  ENSG00000186092  OR4F5     \n",
       "140  1       protein_coding  gene    134901  139379  .     -      .     4479                 ENSG00000237683  AL627309.1\n",
       "276  1       protein_coding  gene    367640  368634  .     +      .     995                  ENSG00000235249  OR4F29    \n",
       "373  1       protein_coding  gene    621059  622053  .     -      .     995                  ENSG00000185097  OR4F16    \n",
       "510  1       protein_coding  gene    738532  739137  .     -      .     606                  ENSG00000269831  AL669831.1\n",
       "605  1       protein_coding  gene    818043  819983  .     +      .     1941                 ENSG00000269308  AL645608.2\n",
       "637  1       protein_coding  gene    860260  879955  .     +      .     19696                ENSG00000187634  SAMD11    \n",
       "756  1       protein_coding  gene    861264  866445  .     -      .     5182                 ENSG00000268179  AL645608.1\n",
       "771  1       protein_coding  gene    879584  894689  .     -      .     15106                ENSG00000188976  NOC2L     \n",
       "853  1       protein_coding  gene    895967  901095  .     +      .     5129                 ENSG00000187961  KLHL17    "
      ]
     },
     "execution_count": 68,
     "metadata": {},
     "output_type": "execute_result"
    }
   ],
   "source": [
    "chrdf.head(10)"
   ]
  },
  {
   "cell_type": "code",
   "execution_count": 69,
   "metadata": {
    "collapsed": false
   },
   "outputs": [],
   "source": [
    "gene_names = chrdf.gene_name.values"
   ]
  },
  {
   "cell_type": "code",
   "execution_count": 73,
   "metadata": {
    "collapsed": false
   },
   "outputs": [],
   "source": [
    "# For each gene but the first and last, create a pair of placeholders for start and end\n",
    "gn_pairs = np.concatenate([\n",
    "    gene_names[0:1], \n",
    "    np.repeat(gene_names[1:-1], 2), \n",
    "    gene_names[-1:]\n",
    "]).reshape(-1, 2)"
   ]
  },
  {
   "cell_type": "code",
   "execution_count": 74,
   "metadata": {
    "collapsed": false
   },
   "outputs": [],
   "source": [
    "assert gn_pairs.shape == (2075, 2)"
   ]
  },
  {
   "cell_type": "code",
   "execution_count": 75,
   "metadata": {
    "collapsed": false
   },
   "outputs": [],
   "source": [
    "# pairs of (end_of_1st_gene, start_of_next_gene)\n",
    "endstart = chrdf[['start', 'end']].values.ravel()[1:-1].reshape(-1, 2)"
   ]
  },
  {
   "cell_type": "code",
   "execution_count": 76,
   "metadata": {
    "collapsed": false
   },
   "outputs": [],
   "source": [
    "endstart_df = pd.DataFrame(endstart, columns=['gene1_end', 'gene2_start'])"
   ]
  },
  {
   "cell_type": "code",
   "execution_count": 78,
   "metadata": {
    "collapsed": false
   },
   "outputs": [],
   "source": [
    "assert endstart_df.shape == (2075, 2)"
   ]
  },
  {
   "cell_type": "code",
   "execution_count": 79,
   "metadata": {
    "collapsed": false
   },
   "outputs": [],
   "source": [
    "endstart_df['gene1'] = gn_pairs[:,0]"
   ]
  },
  {
   "cell_type": "code",
   "execution_count": 80,
   "metadata": {
    "collapsed": true
   },
   "outputs": [],
   "source": [
    "endstart_df['gene2'] = gn_pairs[:,1]"
   ]
  },
  {
   "cell_type": "code",
   "execution_count": 82,
   "metadata": {
    "collapsed": true
   },
   "outputs": [],
   "source": [
    "endstart_df['diff'] = endstart_df.gene2_start - endstart_df.gene1_end"
   ]
  },
  {
   "cell_type": "code",
   "execution_count": 85,
   "metadata": {
    "collapsed": false
   },
   "outputs": [
    {
     "data": {
      "text/html": [
       "<div>\n",
       "<style>\n",
       "    .dataframe thead tr:only-child th {\n",
       "        text-align: right;\n",
       "    }\n",
       "\n",
       "    .dataframe thead th {\n",
       "        text-align: left;\n",
       "    }\n",
       "\n",
       "    .dataframe tbody tr th {\n",
       "        vertical-align: top;\n",
       "    }\n",
       "</style>\n",
       "<table border=\"1\" class=\"dataframe\">\n",
       "  <thead>\n",
       "    <tr style=\"text-align: right;\">\n",
       "      <th></th>\n",
       "      <th>gene1_end</th>\n",
       "      <th>gene2_start</th>\n",
       "      <th>gene1</th>\n",
       "      <th>gene2</th>\n",
       "      <th>diff</th>\n",
       "    </tr>\n",
       "  </thead>\n",
       "  <tbody>\n",
       "    <tr>\n",
       "      <th>0</th>\n",
       "      <td>70008</td>\n",
       "      <td>134901</td>\n",
       "      <td>OR4F5</td>\n",
       "      <td>AL627309.1</td>\n",
       "      <td>64893</td>\n",
       "    </tr>\n",
       "    <tr>\n",
       "      <th>1</th>\n",
       "      <td>139379</td>\n",
       "      <td>367640</td>\n",
       "      <td>AL627309.1</td>\n",
       "      <td>OR4F29</td>\n",
       "      <td>228261</td>\n",
       "    </tr>\n",
       "  </tbody>\n",
       "</table>\n",
       "</div>"
      ],
      "text/plain": [
       "   gene1_end  gene2_start       gene1       gene2    diff\n",
       "0  70008      134901       OR4F5       AL627309.1  64893 \n",
       "1  139379     367640       AL627309.1  OR4F29      228261"
      ]
     },
     "execution_count": 85,
     "metadata": {},
     "output_type": "execute_result"
    }
   ],
   "source": [
    "endstart_df.head(2)"
   ]
  },
  {
   "cell_type": "code",
   "execution_count": 86,
   "metadata": {
    "collapsed": false
   },
   "outputs": [],
   "source": [
    "endstart_df['has_overlap'] = endstart_df.apply(lambda row: row['diff'] < 0, axis=1)"
   ]
  },
  {
   "cell_type": "code",
   "execution_count": 87,
   "metadata": {
    "collapsed": false
   },
   "outputs": [
    {
     "data": {
      "text/html": [
       "<div>\n",
       "<style>\n",
       "    .dataframe thead tr:only-child th {\n",
       "        text-align: right;\n",
       "    }\n",
       "\n",
       "    .dataframe thead th {\n",
       "        text-align: left;\n",
       "    }\n",
       "\n",
       "    .dataframe tbody tr th {\n",
       "        vertical-align: top;\n",
       "    }\n",
       "</style>\n",
       "<table border=\"1\" class=\"dataframe\">\n",
       "  <thead>\n",
       "    <tr style=\"text-align: right;\">\n",
       "      <th></th>\n",
       "      <th>gene1_end</th>\n",
       "      <th>gene2_start</th>\n",
       "      <th>gene1</th>\n",
       "      <th>gene2</th>\n",
       "      <th>diff</th>\n",
       "      <th>has_overlap</th>\n",
       "    </tr>\n",
       "  </thead>\n",
       "  <tbody>\n",
       "    <tr>\n",
       "      <th>0</th>\n",
       "      <td>70008</td>\n",
       "      <td>134901</td>\n",
       "      <td>OR4F5</td>\n",
       "      <td>AL627309.1</td>\n",
       "      <td>64893</td>\n",
       "      <td>False</td>\n",
       "    </tr>\n",
       "    <tr>\n",
       "      <th>1</th>\n",
       "      <td>139379</td>\n",
       "      <td>367640</td>\n",
       "      <td>AL627309.1</td>\n",
       "      <td>OR4F29</td>\n",
       "      <td>228261</td>\n",
       "      <td>False</td>\n",
       "    </tr>\n",
       "  </tbody>\n",
       "</table>\n",
       "</div>"
      ],
      "text/plain": [
       "   gene1_end  gene2_start       gene1       gene2    diff  has_overlap\n",
       "0  70008      134901       OR4F5       AL627309.1  64893   False      \n",
       "1  139379     367640       AL627309.1  OR4F29      228261  False      "
      ]
     },
     "execution_count": 87,
     "metadata": {},
     "output_type": "execute_result"
    }
   ],
   "source": [
    "endstart_df.head(2)"
   ]
  },
  {
   "cell_type": "code",
   "execution_count": 90,
   "metadata": {
    "collapsed": false
   },
   "outputs": [
    {
     "data": {
      "text/plain": [
       "<matplotlib.axes._subplots.AxesSubplot at 0x7fa44f69d748>"
      ]
     },
     "execution_count": 90,
     "metadata": {},
     "output_type": "execute_result"
    },
    {
     "data": {
      "image/png": "[encoded data removed]",
      "text/plain": [
       "<matplotlib.figure.Figure at 0x7fa44f6347f0>"
      ]
     },
     "metadata": {},
     "output_type": "display_data"
    }
   ],
   "source": [
    "endstart_df['diff'].plot.hist(bins=np.arange(-1e5, 1e5, 1e4), figsize=(6, 4))"
   ]
  },
  {
   "cell_type": "code",
   "execution_count": 91,
   "metadata": {
    "collapsed": false
   },
   "outputs": [],
   "source": [
    "assert chrdf.shape == (2076, 12)"
   ]
  },
  {
   "cell_type": "code",
   "execution_count": 92,
   "metadata": {
    "collapsed": false
   },
   "outputs": [],
   "source": [
    "assert endstart_df.shape == (2075, 6)"
   ]
  },
  {
   "cell_type": "code",
   "execution_count": 94,
   "metadata": {
    "collapsed": false
   },
   "outputs": [
    {
     "data": {
      "text/html": [
       "<div>\n",
       "<style>\n",
       "    .dataframe thead tr:only-child th {\n",
       "        text-align: right;\n",
       "    }\n",
       "\n",
       "    .dataframe thead th {\n",
       "        text-align: left;\n",
       "    }\n",
       "\n",
       "    .dataframe tbody tr th {\n",
       "        vertical-align: top;\n",
       "    }\n",
       "</style>\n",
       "<table border=\"1\" class=\"dataframe\">\n",
       "  <thead>\n",
       "    <tr style=\"text-align: right;\">\n",
       "      <th></th>\n",
       "      <th>gene1_end</th>\n",
       "      <th>gene2_start</th>\n",
       "      <th>gene1</th>\n",
       "      <th>gene2</th>\n",
       "      <th>diff</th>\n",
       "      <th>has_overlap</th>\n",
       "    </tr>\n",
       "  </thead>\n",
       "  <tbody>\n",
       "    <tr>\n",
       "      <th>0</th>\n",
       "      <td>70008</td>\n",
       "      <td>134901</td>\n",
       "      <td>OR4F5</td>\n",
       "      <td>AL627309.1</td>\n",
       "      <td>64893</td>\n",
       "      <td>False</td>\n",
       "    </tr>\n",
       "    <tr>\n",
       "      <th>1</th>\n",
       "      <td>139379</td>\n",
       "      <td>367640</td>\n",
       "      <td>AL627309.1</td>\n",
       "      <td>OR4F29</td>\n",
       "      <td>228261</td>\n",
       "      <td>False</td>\n",
       "    </tr>\n",
       "  </tbody>\n",
       "</table>\n",
       "</div>"
      ],
      "text/plain": [
       "   gene1_end  gene2_start       gene1       gene2    diff  has_overlap\n",
       "0  70008      134901       OR4F5       AL627309.1  64893   False      \n",
       "1  139379     367640       AL627309.1  OR4F29      228261  False      "
      ]
     },
     "execution_count": 94,
     "metadata": {},
     "output_type": "execute_result"
    }
   ],
   "source": [
    "endstart_df.head(2)"
   ]
  },
  {
   "cell_type": "code",
   "execution_count": 95,
   "metadata": {
    "collapsed": false
   },
   "outputs": [],
   "source": [
    "overlapped_gene_pairs = endstart_df.query('diff < 0')['diff'].shape[0] \n",
    "assert overlapped_gene_pairs == 309"
   ]
  },
  {
   "cell_type": "code",
   "execution_count": 97,
   "metadata": {
    "collapsed": false
   },
   "outputs": [],
   "source": [
    "all_gene_pairs = endstart_df.shape[0]"
   ]
  },
  {
   "cell_type": "code",
   "execution_count": 98,
   "metadata": {
    "collapsed": true
   },
   "outputs": [],
   "source": [
    "assert overlapped_gene_pairs / all_gene_pairs == 0.1489156626506024"
   ]
  },
  {
   "cell_type": "markdown",
   "metadata": {},
   "source": [
    "So ~15% of genes overlap, that's quite a bit"
   ]
  }
 ],
 "metadata": {
  "anaconda-cloud": {},
  "kernelspec": {
   "display_name": "Python [default]",
   "language": "python",
   "name": "python3"
  },
  "language_info": {
   "codemirror_mode": {
    "name": "ipython",
    "version": 3
   },
   "file_extension": ".py",
   "mimetype": "text/x-python",
   "name": "python",
   "nbconvert_exporter": "python",
   "pygments_lexer": "ipython3",
   "version": "3.5.3"
  }
 },
 "nbformat": 4,
 "nbformat_minor": 1
}
