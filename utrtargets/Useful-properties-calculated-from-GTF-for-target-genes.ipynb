{
 "cells": [
  {
   "cell_type": "code",
   "execution_count": 2,
   "metadata": {
    "collapsed": true
   },
   "outputs": [],
   "source": [
    "#!/usr/bin/env python\n",
    "\n",
    "import sys\n",
    "import re\n",
    "import itertools\n",
    "\n",
    "import pandas as pd\n",
    "pd.set_option('display.max_columns', 250)\n",
    "import numpy as np\n",
    "\n",
    "import matplotlib\n",
    "import matplotlib.pyplot as plt\n",
    "import matplotlib.cm as cm\n",
    "from mpl_toolkits.mplot3d import Axes3D\n",
    "matplotlib.style.use('ggplot')\n",
    "%matplotlib inline\n",
    "matplotlib.rcParams['figure.figsize'] = (16, 9)\n",
    "\n",
    "from IPython.display import display\n",
    "\n",
    "import pysam"
   ]
  },
  {
   "cell_type": "code",
   "execution_count": 3,
   "metadata": {
    "collapsed": true
   },
   "outputs": [],
   "source": [
    "from extract_targets import extract_info"
   ]
  },
  {
   "cell_type": "code",
   "execution_count": 43,
   "metadata": {
    "collapsed": false
   },
   "outputs": [
    {
     "data": {
      "text/plain": [
       "u'/projects/btl2/zxue/tasrkleat/test-results-gmap/utrtargets'"
      ]
     },
     "execution_count": 43,
     "metadata": {},
     "output_type": "execute_result"
    }
   ],
   "source": [
    "pwd"
   ]
  },
  {
   "cell_type": "code",
   "execution_count": 4,
   "metadata": {
    "collapsed": true
   },
   "outputs": [],
   "source": [
    "gtf = 'reference/Homo_sapiens.GRCh37.75.gtf'"
   ]
  },
  {
   "cell_type": "code",
   "execution_count": 5,
   "metadata": {
    "collapsed": false
   },
   "outputs": [
    {
     "name": "stdout",
     "output_type": "stream",
     "text": [
      "reading reference/Homo_sapiens.GRCh37.75.gtf...\n"
     ]
    }
   ],
   "source": [
    "# http://uswest.ensembl.org/info/website/upload/gff.html\n",
    "names = ['seqname', 'source', 'feature', 'start', 'end', 'score', 'strand', 'frame', 'attribute']\n",
    "# adf: annotation df\n",
    "print('reading {0}...'.format(gtf))\n",
    "df = pd.read_csv(gtf, header=None, sep='\\t', comment='#', low_memory=False, names=names)"
   ]
  },
  {
   "cell_type": "code",
   "execution_count": 6,
   "metadata": {
    "collapsed": false
   },
   "outputs": [
    {
     "name": "stdout",
     "output_type": "stream",
     "text": [
      "extracting length...\n",
      "extracting transcript id...\n",
      "extracting gene id...\n",
      "extracting gene name...\n"
     ]
    }
   ],
   "source": [
    "extract_info(df)"
   ]
  },
  {
   "cell_type": "code",
   "execution_count": null,
   "metadata": {
    "collapsed": true
   },
   "outputs": [],
   "source": []
  },
  {
   "cell_type": "code",
   "execution_count": null,
   "metadata": {
    "collapsed": true
   },
   "outputs": [],
   "source": []
  },
  {
   "cell_type": "code",
   "execution_count": null,
   "metadata": {
    "collapsed": true
   },
   "outputs": [],
   "source": []
  },
  {
   "cell_type": "markdown",
   "metadata": {},
   "source": [
    "### Does target genes overlap at all?"
   ]
  },
  {
   "cell_type": "code",
   "execution_count": 7,
   "metadata": {
    "collapsed": true
   },
   "outputs": [],
   "source": [
    "TARGET_GENES = []\n",
    "with open('./targets-for-tasrkleat/target_genes.txt') as inf:\n",
    "    for line in inf:\n",
    "        TARGET_GENES.append(line.strip())"
   ]
  },
  {
   "cell_type": "code",
   "execution_count": 8,
   "metadata": {
    "collapsed": false
   },
   "outputs": [
    {
     "data": {
      "text/plain": [
       "'ABL1 AKT1 AKT2 ALK AMER1 APC ATM AXIN1 BAP1 BCL6 BRAF BRCA1 BRCA2 CARD11 CCND1 CCND2 CCNE1 CD47 CDH1 CDKN2A CDKN2C CEBPA CHURC1 CREBBP CTNNB1 CYLD DICER1 DRAM1 EGFR EP300 ERBB2 EZH2 FAS FBXW7 FGF2 FGFR2 FGFR3 FLT3 GATA3 GNA11 GNAQ GNAS HNF1A HRAS IDH1 IGF2BP1 JUN KDM6A KDR KIT KMT2A KRAS MAP2K1 MAP2K2 MAP2K4 MAX MDM2 MDM4 MEN1 MET MITF MLH1 MSH2 MSH6 MYC MYCL MYCN MYD88 NF1 NF2 NFE2L2 NFE2L3 NFYA NKX2-1 NOTCH1 NOTCH2 NRAS NSUN5 PAX5 PDGFRA PIK3CA PIK3R1 PRKAR1A PTCH1 PTEN RAB10 RB1 REL RET RNF43 RTCA SEC24A SETD2 SMAD4 SMARCA4 SMARCB1 SMO SOCS1 SOX2 STAT3 STK11 STK17A SUFU TERT TET2 TNFAIP3 TP53 TRAF7 TSC1 TSC2 TSHR TXNL4A VHL WT1'"
      ]
     },
     "execution_count": 8,
     "metadata": {},
     "output_type": "execute_result"
    }
   ],
   "source": [
    "' '.join(TARGET_GENES)"
   ]
  },
  {
   "cell_type": "code",
   "execution_count": 10,
   "metadata": {
    "collapsed": false
   },
   "outputs": [],
   "source": [
    "target_df = df.query('gene_name in {0}'.format(TARGET_GENES))\n",
    "# remove those from unassembled region\n",
    "target_df = target_df[-target_df.seqname.str.contains('PATCH')]"
   ]
  },
  {
   "cell_type": "code",
   "execution_count": 11,
   "metadata": {
    "collapsed": false
   },
   "outputs": [
    {
     "data": {
      "text/html": [
       "<div>\n",
       "<table border=\"1\" class=\"dataframe\">\n",
       "  <thead>\n",
       "    <tr style=\"text-align: right;\">\n",
       "      <th></th>\n",
       "      <th>seqname</th>\n",
       "      <th>source</th>\n",
       "      <th>feature</th>\n",
       "      <th>start</th>\n",
       "      <th>end</th>\n",
       "      <th>score</th>\n",
       "      <th>strand</th>\n",
       "      <th>frame</th>\n",
       "      <th>len</th>\n",
       "      <th>transcript_id</th>\n",
       "      <th>gene_id</th>\n",
       "      <th>gene_name</th>\n",
       "    </tr>\n",
       "  </thead>\n",
       "  <tbody>\n",
       "    <tr>\n",
       "      <th>63846</th>\n",
       "      <td>1</td>\n",
       "      <td>protein_coding</td>\n",
       "      <td>gene</td>\n",
       "      <td>40361098</td>\n",
       "      <td>40367928</td>\n",
       "      <td>.</td>\n",
       "      <td>-</td>\n",
       "      <td>.</td>\n",
       "      <td>6831</td>\n",
       "      <td></td>\n",
       "      <td>ENSG00000116990</td>\n",
       "      <td>MYCL</td>\n",
       "    </tr>\n",
       "    <tr>\n",
       "      <th>63847</th>\n",
       "      <td>1</td>\n",
       "      <td>protein_coding</td>\n",
       "      <td>transcript</td>\n",
       "      <td>40361098</td>\n",
       "      <td>40367685</td>\n",
       "      <td>.</td>\n",
       "      <td>-</td>\n",
       "      <td>.</td>\n",
       "      <td>6588</td>\n",
       "      <td>ENST00000397332</td>\n",
       "      <td>ENSG00000116990</td>\n",
       "      <td>MYCL</td>\n",
       "    </tr>\n",
       "  </tbody>\n",
       "</table>\n",
       "</div>"
      ],
      "text/plain": [
       "      seqname          source     feature     start       end score strand frame   len    transcript_id          gene_id gene_name\n",
       "63846       1  protein_coding        gene  40361098  40367928     .      -     .  6831                   ENSG00000116990      MYCL\n",
       "63847       1  protein_coding  transcript  40361098  40367685     .      -     .  6588  ENST00000397332  ENSG00000116990      MYCL"
      ]
     },
     "execution_count": 11,
     "metadata": {},
     "output_type": "execute_result"
    }
   ],
   "source": [
    "target_df.head(2)"
   ]
  },
  {
   "cell_type": "code",
   "execution_count": 12,
   "metadata": {
    "collapsed": false
   },
   "outputs": [
    {
     "name": "stdout",
     "output_type": "stream",
     "text": [
      "(114,)\n",
      "(114,)\n"
     ]
    }
   ],
   "source": [
    "print(target_df.gene_id.unique().shape)\n",
    "print(target_df.gene_name.unique().shape)"
   ]
  },
  {
   "cell_type": "code",
   "execution_count": 13,
   "metadata": {
    "collapsed": true
   },
   "outputs": [],
   "source": [
    "def check_intersection(grp):\n",
    "    _df = grp.groupby('gene_name').apply(lambda r: pd.Series([r.start.min(), r.end.max()]))\n",
    "    _df.columns = ['start', 'end']\n",
    "    \n",
    "    has_intersection = False\n",
    "    for (ki, ri), (kj, rj) in itertools.combinations(_df.iterrows(), 2):\n",
    "        intersection = set(range(ri.start, ri.end)).intersection(range(rj.start, rj.end))\n",
    "        if len(intersection) > 0:\n",
    "            print(ki, ri.start, ri.end, kj, rj.start, rj.end, intersection)\n",
    "            has_intersection = True\n",
    "    return has_intersection"
   ]
  },
  {
   "cell_type": "code",
   "execution_count": 14,
   "metadata": {
    "collapsed": false
   },
   "outputs": [
    {
     "data": {
      "text/plain": [
       "False"
      ]
     },
     "execution_count": 14,
     "metadata": {},
     "output_type": "execute_result"
    }
   ],
   "source": [
    "target_df.groupby('seqname').apply(check_intersection).any()"
   ]
  },
  {
   "cell_type": "markdown",
   "metadata": {},
   "source": [
    "That it return False means there is no overlap/intersection among those target genes, so the calculation of expression level is straightforward"
   ]
  },
  {
   "cell_type": "code",
   "execution_count": null,
   "metadata": {
    "collapsed": true
   },
   "outputs": [],
   "source": []
  },
  {
   "cell_type": "code",
   "execution_count": null,
   "metadata": {
    "collapsed": true
   },
   "outputs": [],
   "source": []
  },
  {
   "cell_type": "code",
   "execution_count": null,
   "metadata": {
    "collapsed": true
   },
   "outputs": [],
   "source": []
  },
  {
   "cell_type": "code",
   "execution_count": null,
   "metadata": {
    "collapsed": true
   },
   "outputs": [],
   "source": []
  },
  {
   "cell_type": "markdown",
   "metadata": {},
   "source": [
    "### Total length of target genes"
   ]
  },
  {
   "cell_type": "code",
   "execution_count": 15,
   "metadata": {
    "collapsed": false
   },
   "outputs": [
    {
     "data": {
      "text/plain": [
       "(114,)"
      ]
     },
     "execution_count": 15,
     "metadata": {},
     "output_type": "execute_result"
    }
   ],
   "source": [
    "target_df.gene_name.unique().shape"
   ]
  },
  {
   "cell_type": "code",
   "execution_count": 16,
   "metadata": {
    "collapsed": true
   },
   "outputs": [],
   "source": [
    "target_gene_coords = target_df.groupby('gene_name').apply(lambda r: pd.Series([r.start.min(), r.end.max()]))\n",
    "target_gene_coords.rename(columns={0: 'start', 1: 'end'}, inplace=True)\n",
    "target_gene_coords['len'] = target_gene_coords.end - target_gene_coords.start + 1"
   ]
  },
  {
   "cell_type": "code",
   "execution_count": 17,
   "metadata": {
    "collapsed": false
   },
   "outputs": [
    {
     "data": {
      "text/plain": [
       "9351022"
      ]
     },
     "execution_count": 17,
     "metadata": {},
     "output_type": "execute_result"
    }
   ],
   "source": [
    "target_gene_coords.len.sum()"
   ]
  },
  {
   "cell_type": "markdown",
   "metadata": {},
   "source": [
    "###### corroborate with calcuation at the gene level"
   ]
  },
  {
   "cell_type": "markdown",
   "metadata": {},
   "source": [
    "variable `target_df` doesn't contain feature (e.g. exon, etc) bummer, reprocess a copy of df"
   ]
  },
  {
   "cell_type": "code",
   "execution_count": 18,
   "metadata": {
    "collapsed": false
   },
   "outputs": [],
   "source": [
    "ndf = df.copy()"
   ]
  },
  {
   "cell_type": "code",
   "execution_count": 19,
   "metadata": {
    "collapsed": false
   },
   "outputs": [
    {
     "data": {
      "text/html": [
       "<div>\n",
       "<table border=\"1\" class=\"dataframe\">\n",
       "  <thead>\n",
       "    <tr style=\"text-align: right;\">\n",
       "      <th></th>\n",
       "      <th>seqname</th>\n",
       "      <th>source</th>\n",
       "      <th>feature</th>\n",
       "      <th>start</th>\n",
       "      <th>end</th>\n",
       "      <th>score</th>\n",
       "      <th>strand</th>\n",
       "      <th>frame</th>\n",
       "      <th>len</th>\n",
       "      <th>transcript_id</th>\n",
       "      <th>gene_id</th>\n",
       "      <th>gene_name</th>\n",
       "    </tr>\n",
       "  </thead>\n",
       "  <tbody>\n",
       "    <tr>\n",
       "      <th>0</th>\n",
       "      <td>1</td>\n",
       "      <td>pseudogene</td>\n",
       "      <td>gene</td>\n",
       "      <td>11869</td>\n",
       "      <td>14412</td>\n",
       "      <td>.</td>\n",
       "      <td>+</td>\n",
       "      <td>.</td>\n",
       "      <td>2544</td>\n",
       "      <td></td>\n",
       "      <td>ENSG00000223972</td>\n",
       "      <td>DDX11L1</td>\n",
       "    </tr>\n",
       "    <tr>\n",
       "      <th>1</th>\n",
       "      <td>1</td>\n",
       "      <td>processed_transcript</td>\n",
       "      <td>transcript</td>\n",
       "      <td>11869</td>\n",
       "      <td>14409</td>\n",
       "      <td>.</td>\n",
       "      <td>+</td>\n",
       "      <td>.</td>\n",
       "      <td>2541</td>\n",
       "      <td>ENST00000456328</td>\n",
       "      <td>ENSG00000223972</td>\n",
       "      <td>DDX11L1</td>\n",
       "    </tr>\n",
       "  </tbody>\n",
       "</table>\n",
       "</div>"
      ],
      "text/plain": [
       "  seqname                source     feature  start    end score strand frame   len    transcript_id          gene_id gene_name\n",
       "0       1            pseudogene        gene  11869  14412     .      +     .  2544                   ENSG00000223972   DDX11L1\n",
       "1       1  processed_transcript  transcript  11869  14409     .      +     .  2541  ENST00000456328  ENSG00000223972   DDX11L1"
      ]
     },
     "execution_count": 19,
     "metadata": {},
     "output_type": "execute_result"
    }
   ],
   "source": [
    "ndf.head(2)"
   ]
  },
  {
   "cell_type": "code",
   "execution_count": 20,
   "metadata": {
    "collapsed": false
   },
   "outputs": [],
   "source": [
    "target_ndf = ndf.query('gene_name in {0}'.format(TARGET_GENES))\n",
    "# remove those from unassembled region\n",
    "target_ndf = target_ndf[-target_ndf.seqname.str.contains('PATCH')]"
   ]
  },
  {
   "cell_type": "code",
   "execution_count": 21,
   "metadata": {
    "collapsed": false
   },
   "outputs": [
    {
     "data": {
      "text/plain": [
       "(114,)"
      ]
     },
     "execution_count": 21,
     "metadata": {},
     "output_type": "execute_result"
    }
   ],
   "source": [
    "target_ndf.gene_id.unique().shape"
   ]
  },
  {
   "cell_type": "code",
   "execution_count": 22,
   "metadata": {
    "collapsed": false
   },
   "outputs": [
    {
     "data": {
      "text/plain": [
       "exon           10341\n",
       "CDS             7360\n",
       "UTR             2421\n",
       "transcript      1191\n",
       "stop_codon       550\n",
       "start_codon      544\n",
       "gene             114\n",
       "Name: feature, dtype: int64"
      ]
     },
     "execution_count": 22,
     "metadata": {},
     "output_type": "execute_result"
    }
   ],
   "source": [
    "target_ndf.feature.value_counts()"
   ]
  },
  {
   "cell_type": "code",
   "execution_count": 23,
   "metadata": {
    "collapsed": true
   },
   "outputs": [],
   "source": [
    "target_genes = target_ndf.query('feature == \"gene\"').copy()"
   ]
  },
  {
   "cell_type": "code",
   "execution_count": 24,
   "metadata": {
    "collapsed": true
   },
   "outputs": [],
   "source": [
    "target_genes['len'] = target_genes.end - target_genes.start + 1"
   ]
  },
  {
   "cell_type": "code",
   "execution_count": 25,
   "metadata": {
    "collapsed": false
   },
   "outputs": [
    {
     "data": {
      "text/plain": [
       "9351022"
      ]
     },
     "execution_count": 25,
     "metadata": {},
     "output_type": "execute_result"
    }
   ],
   "source": [
    "target_genes.len.sum()"
   ]
  },
  {
   "cell_type": "code",
   "execution_count": null,
   "metadata": {
    "collapsed": true
   },
   "outputs": [],
   "source": []
  },
  {
   "cell_type": "markdown",
   "metadata": {},
   "source": [
    "### Total length of exons of target genes"
   ]
  },
  {
   "cell_type": "code",
   "execution_count": 26,
   "metadata": {
    "collapsed": true
   },
   "outputs": [],
   "source": [
    "target_exons = target_ndf.query(\"feature in ['exon']\").copy()"
   ]
  },
  {
   "cell_type": "code",
   "execution_count": 27,
   "metadata": {
    "collapsed": false
   },
   "outputs": [
    {
     "data": {
      "text/plain": [
       "array(['exon'], dtype=object)"
      ]
     },
     "execution_count": 27,
     "metadata": {},
     "output_type": "execute_result"
    }
   ],
   "source": [
    "target_exons.feature.unique()"
   ]
  },
  {
   "cell_type": "code",
   "execution_count": 28,
   "metadata": {
    "collapsed": false
   },
   "outputs": [
    {
     "data": {
      "text/html": [
       "<div>\n",
       "<table border=\"1\" class=\"dataframe\">\n",
       "  <thead>\n",
       "    <tr style=\"text-align: right;\">\n",
       "      <th></th>\n",
       "      <th>seqname</th>\n",
       "      <th>source</th>\n",
       "      <th>feature</th>\n",
       "      <th>start</th>\n",
       "      <th>end</th>\n",
       "      <th>score</th>\n",
       "      <th>strand</th>\n",
       "      <th>frame</th>\n",
       "      <th>len</th>\n",
       "      <th>transcript_id</th>\n",
       "      <th>gene_id</th>\n",
       "      <th>gene_name</th>\n",
       "    </tr>\n",
       "  </thead>\n",
       "  <tbody>\n",
       "    <tr>\n",
       "      <th>63848</th>\n",
       "      <td>1</td>\n",
       "      <td>protein_coding</td>\n",
       "      <td>exon</td>\n",
       "      <td>40367480</td>\n",
       "      <td>40367685</td>\n",
       "      <td>.</td>\n",
       "      <td>-</td>\n",
       "      <td>.</td>\n",
       "      <td>206</td>\n",
       "      <td>ENST00000397332</td>\n",
       "      <td>ENSG00000116990</td>\n",
       "      <td>MYCL</td>\n",
       "    </tr>\n",
       "    <tr>\n",
       "      <th>63851</th>\n",
       "      <td>1</td>\n",
       "      <td>protein_coding</td>\n",
       "      <td>exon</td>\n",
       "      <td>40366611</td>\n",
       "      <td>40367115</td>\n",
       "      <td>.</td>\n",
       "      <td>-</td>\n",
       "      <td>.</td>\n",
       "      <td>505</td>\n",
       "      <td>ENST00000397332</td>\n",
       "      <td>ENSG00000116990</td>\n",
       "      <td>MYCL</td>\n",
       "    </tr>\n",
       "    <tr>\n",
       "      <th>63853</th>\n",
       "      <td>1</td>\n",
       "      <td>protein_coding</td>\n",
       "      <td>exon</td>\n",
       "      <td>40361098</td>\n",
       "      <td>40363642</td>\n",
       "      <td>.</td>\n",
       "      <td>-</td>\n",
       "      <td>.</td>\n",
       "      <td>2545</td>\n",
       "      <td>ENST00000397332</td>\n",
       "      <td>ENSG00000116990</td>\n",
       "      <td>MYCL</td>\n",
       "    </tr>\n",
       "    <tr>\n",
       "      <th>63859</th>\n",
       "      <td>1</td>\n",
       "      <td>protein_coding</td>\n",
       "      <td>exon</td>\n",
       "      <td>40366611</td>\n",
       "      <td>40367554</td>\n",
       "      <td>.</td>\n",
       "      <td>-</td>\n",
       "      <td>.</td>\n",
       "      <td>944</td>\n",
       "      <td>ENST00000372816</td>\n",
       "      <td>ENSG00000116990</td>\n",
       "      <td>MYCL</td>\n",
       "    </tr>\n",
       "    <tr>\n",
       "      <th>63862</th>\n",
       "      <td>1</td>\n",
       "      <td>protein_coding</td>\n",
       "      <td>exon</td>\n",
       "      <td>40362899</td>\n",
       "      <td>40363642</td>\n",
       "      <td>.</td>\n",
       "      <td>-</td>\n",
       "      <td>.</td>\n",
       "      <td>744</td>\n",
       "      <td>ENST00000372816</td>\n",
       "      <td>ENSG00000116990</td>\n",
       "      <td>MYCL</td>\n",
       "    </tr>\n",
       "  </tbody>\n",
       "</table>\n",
       "</div>"
      ],
      "text/plain": [
       "      seqname          source feature     start       end score strand frame   len    transcript_id          gene_id gene_name\n",
       "63848       1  protein_coding    exon  40367480  40367685     .      -     .   206  ENST00000397332  ENSG00000116990      MYCL\n",
       "63851       1  protein_coding    exon  40366611  40367115     .      -     .   505  ENST00000397332  ENSG00000116990      MYCL\n",
       "63853       1  protein_coding    exon  40361098  40363642     .      -     .  2545  ENST00000397332  ENSG00000116990      MYCL\n",
       "63859       1  protein_coding    exon  40366611  40367554     .      -     .   944  ENST00000372816  ENSG00000116990      MYCL\n",
       "63862       1  protein_coding    exon  40362899  40363642     .      -     .   744  ENST00000372816  ENSG00000116990      MYCL"
      ]
     },
     "execution_count": 28,
     "metadata": {},
     "output_type": "execute_result"
    }
   ],
   "source": [
    "target_exons.head()"
   ]
  },
  {
   "cell_type": "code",
   "execution_count": 29,
   "metadata": {
    "collapsed": false
   },
   "outputs": [],
   "source": [
    "target_exons['len'] = target_exons.end - target_exons.start + 1"
   ]
  },
  {
   "cell_type": "code",
   "execution_count": 30,
   "metadata": {
    "collapsed": false
   },
   "outputs": [
    {
     "data": {
      "text/plain": [
       "2546405"
      ]
     },
     "execution_count": 30,
     "metadata": {},
     "output_type": "execute_result"
    }
   ],
   "source": [
    "target_exons.len.sum()"
   ]
  },
  {
   "cell_type": "code",
   "execution_count": 31,
   "metadata": {
    "collapsed": false
   },
   "outputs": [
    {
     "data": {
      "text/plain": [
       "0.27231301562545784"
      ]
     },
     "execution_count": 31,
     "metadata": {},
     "output_type": "execute_result"
    }
   ],
   "source": [
    "target_exons.len.sum() / float(target_genes.len.sum())"
   ]
  },
  {
   "cell_type": "code",
   "execution_count": null,
   "metadata": {
    "collapsed": true
   },
   "outputs": [],
   "source": []
  },
  {
   "cell_type": "markdown",
   "metadata": {
    "collapsed": true
   },
   "source": [
    "### Stop codon counts"
   ]
  },
  {
   "cell_type": "code",
   "execution_count": 35,
   "metadata": {
    "collapsed": false
   },
   "outputs": [],
   "source": [
    "stop_codons_df = target_ndf.query('feature == \"stop_codon\"').groupby(['gene_name']).apply(lambda g: tuple(sorted(g.start.unique()))).rename('start').reset_index()\n",
    "stop_codons_df['neighbor_dist'] = stop_codons_df.start.apply(lambda v: tuple(np.diff(v).tolist()))\n",
    "stop_codons_df['num_sc'] = stop_codons_df.start.apply(lambda x: len(x))"
   ]
  },
  {
   "cell_type": "code",
   "execution_count": 36,
   "metadata": {
    "collapsed": false
   },
   "outputs": [
    {
     "data": {
      "text/html": [
       "<div>\n",
       "<table border=\"1\" class=\"dataframe\">\n",
       "  <thead>\n",
       "    <tr style=\"text-align: right;\">\n",
       "      <th></th>\n",
       "      <th>gene_name</th>\n",
       "      <th>start</th>\n",
       "      <th>neighbor_dist</th>\n",
       "      <th>num_sc</th>\n",
       "    </tr>\n",
       "  </thead>\n",
       "  <tbody>\n",
       "    <tr>\n",
       "      <th>0</th>\n",
       "      <td>ABL1</td>\n",
       "      <td>(133761068,)</td>\n",
       "      <td>()</td>\n",
       "      <td>1</td>\n",
       "    </tr>\n",
       "    <tr>\n",
       "      <th>1</th>\n",
       "      <td>AKT1</td>\n",
       "      <td>(105235923, 105236678)</td>\n",
       "      <td>(755,)</td>\n",
       "      <td>2</td>\n",
       "    </tr>\n",
       "  </tbody>\n",
       "</table>\n",
       "</div>"
      ],
      "text/plain": [
       "  gene_name                   start neighbor_dist  num_sc\n",
       "0      ABL1            (133761068,)            ()       1\n",
       "1      AKT1  (105235923, 105236678)        (755,)       2"
      ]
     },
     "execution_count": 36,
     "metadata": {},
     "output_type": "execute_result"
    }
   ],
   "source": [
    "stop_codons_df.head(2)"
   ]
  },
  {
   "cell_type": "markdown",
   "metadata": {},
   "source": [
    "Gene candidates that show differential preference in cleavage site in some cancer types "
   ]
  },
  {
   "cell_type": "code",
   "execution_count": 47,
   "metadata": {
    "collapsed": false
   },
   "outputs": [
    {
     "data": {
      "text/html": [
       "<div>\n",
       "<table border=\"1\" class=\"dataframe\">\n",
       "  <thead>\n",
       "    <tr style=\"text-align: right;\">\n",
       "      <th></th>\n",
       "      <th>seqname</th>\n",
       "      <th>source</th>\n",
       "      <th>feature</th>\n",
       "      <th>start</th>\n",
       "      <th>end</th>\n",
       "      <th>score</th>\n",
       "      <th>strand</th>\n",
       "      <th>frame</th>\n",
       "      <th>len</th>\n",
       "      <th>transcript_id</th>\n",
       "      <th>gene_id</th>\n",
       "      <th>gene_name</th>\n",
       "    </tr>\n",
       "  </thead>\n",
       "  <tbody>\n",
       "    <tr>\n",
       "      <th>81161</th>\n",
       "      <td>1</td>\n",
       "      <td>protein_coding</td>\n",
       "      <td>gene</td>\n",
       "      <td>51426417</td>\n",
       "      <td>51440305</td>\n",
       "      <td>.</td>\n",
       "      <td>+</td>\n",
       "      <td>.</td>\n",
       "      <td>13889</td>\n",
       "      <td></td>\n",
       "      <td>ENSG00000123080</td>\n",
       "      <td>CDKN2C</td>\n",
       "    </tr>\n",
       "    <tr>\n",
       "      <th>280090</th>\n",
       "      <td>2</td>\n",
       "      <td>protein_coding</td>\n",
       "      <td>gene</td>\n",
       "      <td>61108656</td>\n",
       "      <td>61158745</td>\n",
       "      <td>.</td>\n",
       "      <td>+</td>\n",
       "      <td>.</td>\n",
       "      <td>50090</td>\n",
       "      <td></td>\n",
       "      <td>ENSG00000162924</td>\n",
       "      <td>REL</td>\n",
       "    </tr>\n",
       "    <tr>\n",
       "      <th>619894</th>\n",
       "      <td>4</td>\n",
       "      <td>protein_coding</td>\n",
       "      <td>gene</td>\n",
       "      <td>55524085</td>\n",
       "      <td>55606881</td>\n",
       "      <td>.</td>\n",
       "      <td>+</td>\n",
       "      <td>.</td>\n",
       "      <td>82797</td>\n",
       "      <td></td>\n",
       "      <td>ENSG00000157404</td>\n",
       "      <td>KIT</td>\n",
       "    </tr>\n",
       "    <tr>\n",
       "      <th>659930</th>\n",
       "      <td>4</td>\n",
       "      <td>protein_coding</td>\n",
       "      <td>gene</td>\n",
       "      <td>123747863</td>\n",
       "      <td>123819391</td>\n",
       "      <td>.</td>\n",
       "      <td>+</td>\n",
       "      <td>.</td>\n",
       "      <td>71529</td>\n",
       "      <td></td>\n",
       "      <td>ENSG00000138685</td>\n",
       "      <td>FGF2</td>\n",
       "    </tr>\n",
       "    <tr>\n",
       "      <th>1720326</th>\n",
       "      <td>13</td>\n",
       "      <td>protein_coding</td>\n",
       "      <td>gene</td>\n",
       "      <td>32889611</td>\n",
       "      <td>32973805</td>\n",
       "      <td>.</td>\n",
       "      <td>+</td>\n",
       "      <td>.</td>\n",
       "      <td>84195</td>\n",
       "      <td></td>\n",
       "      <td>ENSG00000139618</td>\n",
       "      <td>BRCA2</td>\n",
       "    </tr>\n",
       "    <tr>\n",
       "      <th>1898308</th>\n",
       "      <td>15</td>\n",
       "      <td>protein_coding</td>\n",
       "      <td>gene</td>\n",
       "      <td>66679155</td>\n",
       "      <td>66784650</td>\n",
       "      <td>.</td>\n",
       "      <td>+</td>\n",
       "      <td>.</td>\n",
       "      <td>105496</td>\n",
       "      <td></td>\n",
       "      <td>ENSG00000169032</td>\n",
       "      <td>MAP2K1</td>\n",
       "    </tr>\n",
       "    <tr>\n",
       "      <th>2404484</th>\n",
       "      <td>19</td>\n",
       "      <td>protein_coding</td>\n",
       "      <td>gene</td>\n",
       "      <td>30302805</td>\n",
       "      <td>30315215</td>\n",
       "      <td>.</td>\n",
       "      <td>+</td>\n",
       "      <td>.</td>\n",
       "      <td>12411</td>\n",
       "      <td></td>\n",
       "      <td>ENSG00000105173</td>\n",
       "      <td>CCNE1</td>\n",
       "    </tr>\n",
       "  </tbody>\n",
       "</table>\n",
       "</div>"
      ],
      "text/plain": [
       "        seqname          source feature      start        end score strand frame     len transcript_id          gene_id gene_name\n",
       "81161         1  protein_coding    gene   51426417   51440305     .      +     .   13889                ENSG00000123080    CDKN2C\n",
       "280090        2  protein_coding    gene   61108656   61158745     .      +     .   50090                ENSG00000162924       REL\n",
       "619894        4  protein_coding    gene   55524085   55606881     .      +     .   82797                ENSG00000157404       KIT\n",
       "659930        4  protein_coding    gene  123747863  123819391     .      +     .   71529                ENSG00000138685      FGF2\n",
       "1720326      13  protein_coding    gene   32889611   32973805     .      +     .   84195                ENSG00000139618     BRCA2\n",
       "1898308      15  protein_coding    gene   66679155   66784650     .      +     .  105496                ENSG00000169032    MAP2K1\n",
       "2404484      19  protein_coding    gene   30302805   30315215     .      +     .   12411                ENSG00000105173     CCNE1"
      ]
     },
     "execution_count": 47,
     "metadata": {},
     "output_type": "execute_result"
    }
   ],
   "source": [
    "df.query('feature == \"gene\"').query('gene_name in {0}'.format(stop_codons_df.query('num_sc == 1').gene_name.unique().tolist()))"
   ]
  },
  {
   "cell_type": "code",
   "execution_count": 45,
   "metadata": {
    "collapsed": false,
    "scrolled": true
   },
   "outputs": [],
   "source": [
    "pref_diff_gene_candidates = [\n",
    "    'BRCA1', 'BRCA2', 'CCNE1', 'CDKN2A', 'CDKN2C', 'CHURC1', 'CYLD',\n",
    "    'DRAM1', 'EGFR', 'EZH2', 'FGF2', 'FLT3', 'GNAS', 'HNF1A', 'KIT',\n",
    "    'MAP2K1', 'MAX', 'MDM2', 'MET', 'MITF', 'MYCL', 'PIK3R1', 'PTCH1',\n",
    "    'REL', 'RNF43', 'STAT3', 'WT1']\n",
    "stop_codons_df = stop_codons_df.query('gene_name in {0}'.format(pref_diff_gene_candidates)).sort_values('num_sc')"
   ]
  },
  {
   "cell_type": "code",
   "execution_count": null,
   "metadata": {
    "collapsed": true
   },
   "outputs": [],
   "source": []
  },
  {
   "cell_type": "code",
   "execution_count": null,
   "metadata": {
    "collapsed": true
   },
   "outputs": [],
   "source": []
  },
  {
   "cell_type": "markdown",
   "metadata": {
    "collapsed": true
   },
   "source": [
    "6 Genes from Cell paper https://www.ncbi.nlm.nih.gov/pubmed/19703394\n",
    "\n",
    "1. ENSG00000100697, DICER1, DICER1\n",
    "1. ENSG00000110092, CCND1, Cyclin D1\n",
    "1. ENSG00000084733, RAB10, RAS oncogene family\n",
    "1. ENSG00000138685, FGF2, Fibroblast growth factor 2\n",
    "1. ENSG00000118971, CCND2, Cyclin D2\n",
    "1. ENSG00000159217, IGF2BP1 (aka IMP-1), Insulin-Like Growth Factor 2 MRNA Binding Protein 1"
   ]
  },
  {
   "cell_type": "code",
   "execution_count": 40,
   "metadata": {
    "collapsed": true
   },
   "outputs": [],
   "source": [
    "cell_genes = ['CCND1', 'CCND2', 'DICER1', 'FGF2', 'IGF2BP1', 'RAB10']"
   ]
  },
  {
   "cell_type": "code",
   "execution_count": 41,
   "metadata": {
    "collapsed": false
   },
   "outputs": [
    {
     "data": {
      "text/plain": [
       "{'FGF2'}"
      ]
     },
     "execution_count": 41,
     "metadata": {},
     "output_type": "execute_result"
    }
   ],
   "source": [
    "set(pref_diff_gene_candidates).intersection(set(cell_genes))"
   ]
  },
  {
   "cell_type": "code",
   "execution_count": 42,
   "metadata": {
    "collapsed": false
   },
   "outputs": [
    {
     "data": {
      "text/html": [
       "<div>\n",
       "<table border=\"1\" class=\"dataframe\">\n",
       "  <thead>\n",
       "    <tr style=\"text-align: right;\">\n",
       "      <th></th>\n",
       "      <th>gene_name</th>\n",
       "      <th>start</th>\n",
       "      <th>neighbor_dist</th>\n",
       "      <th>num_sc</th>\n",
       "    </tr>\n",
       "  </thead>\n",
       "  <tbody>\n",
       "    <tr>\n",
       "      <th>14</th>\n",
       "      <td>CCND1</td>\n",
       "      <td>(69462765, 69466048)</td>\n",
       "      <td>(3283,)</td>\n",
       "      <td>2</td>\n",
       "    </tr>\n",
       "    <tr>\n",
       "      <th>15</th>\n",
       "      <td>CCND2</td>\n",
       "      <td>(4409173,)</td>\n",
       "      <td>()</td>\n",
       "      <td>1</td>\n",
       "    </tr>\n",
       "    <tr>\n",
       "      <th>26</th>\n",
       "      <td>DICER1</td>\n",
       "      <td>(95556835, 95556951)</td>\n",
       "      <td>(116,)</td>\n",
       "      <td>2</td>\n",
       "    </tr>\n",
       "    <tr>\n",
       "      <th>34</th>\n",
       "      <td>FGF2</td>\n",
       "      <td>(123813549,)</td>\n",
       "      <td>()</td>\n",
       "      <td>1</td>\n",
       "    </tr>\n",
       "    <tr>\n",
       "      <th>45</th>\n",
       "      <td>IGF2BP1</td>\n",
       "      <td>(47126804,)</td>\n",
       "      <td>()</td>\n",
       "      <td>1</td>\n",
       "    </tr>\n",
       "    <tr>\n",
       "      <th>85</th>\n",
       "      <td>RAB10</td>\n",
       "      <td>(26357888,)</td>\n",
       "      <td>()</td>\n",
       "      <td>1</td>\n",
       "    </tr>\n",
       "  </tbody>\n",
       "</table>\n",
       "</div>"
      ],
      "text/plain": [
       "   gene_name                 start neighbor_dist  num_sc\n",
       "14     CCND1  (69462765, 69466048)       (3283,)       2\n",
       "15     CCND2            (4409173,)            ()       1\n",
       "26    DICER1  (95556835, 95556951)        (116,)       2\n",
       "34      FGF2          (123813549,)            ()       1\n",
       "45   IGF2BP1           (47126804,)            ()       1\n",
       "85     RAB10           (26357888,)            ()       1"
      ]
     },
     "execution_count": 42,
     "metadata": {},
     "output_type": "execute_result"
    }
   ],
   "source": [
    "stop_codons_df.query('gene_name in {0}'.format(['CCND1', 'CCND2', 'DICER1', 'FGF2', 'IGF2BP1', 'RAB10']))"
   ]
  },
  {
   "cell_type": "code",
   "execution_count": null,
   "metadata": {
    "collapsed": true
   },
   "outputs": [],
   "source": []
  },
  {
   "cell_type": "markdown",
   "metadata": {},
   "source": [
    "### Investigating how UTR tail corresponds to Stop codons"
   ]
  },
  {
   "cell_type": "code",
   "execution_count": 87,
   "metadata": {
    "collapsed": false
   },
   "outputs": [],
   "source": [
    "def get_cds_utr_iterator(group, strand):\n",
    "    res = group[group.feature.isin(['CDS', 'UTR'])].sort_values('start')\n",
    "    if strand == '+':\n",
    "        return res.iterrows()\n",
    "    elif strand == '-':\n",
    "        return res.ix[::-1].iterrows()\n",
    "\n",
    "def help_func(grp):\n",
    "    # adopted from https://github.com/bcgsc/utrtargets/blob/master/extract_targets.py\n",
    "    \"\"\"get the coordinates of exons that contain 3' UTRs and one extra neighboring\n",
    "    exon, much more selective than get_coords. The later is preferred, but this\n",
    "    function is kept for later reference\n",
    "    \"\"\"\n",
    "    # init, U3: 3' UTR\n",
    "    U3_head = U3_tail = np.NaN\n",
    "    \n",
    "    strand = grp.strand.values[0]\n",
    "\n",
    "    tip = 'end' if strand == '+' else 'start'\n",
    "    _sr = grp.query('feature == \"stop_codon\"')[tip]\n",
    "    if _sr.shape[0] > 0:\n",
    "        stop_codon_tail = _sr.values[0]\n",
    "    else:\n",
    "        stop_codon_tail = np.NaN\n",
    "    \n",
    "    state = '5UTR'              # starting from 5' UTR\n",
    "    U3s = []\n",
    "    for idx, row in get_cds_utr_iterator(grp, strand):\n",
    "        if row.feature == 'CDS':\n",
    "            state = 'CDS'\n",
    "        else:\n",
    "            if state == '5UTR':\n",
    "                pass\n",
    "            elif state == 'CDS' or '3UTR':\n",
    "                state == '3UTR'\n",
    "                U3s.append((row.start, row.end))\n",
    "    if len(U3s) > 0:\n",
    "        if strand == '+':\n",
    "            U3_head = min(itertools.chain(*U3s))\n",
    "            U3_tail = max(itertools.chain(*U3s))\n",
    "        else:\n",
    "            U3_head = max(itertools.chain(*U3s))\n",
    "            U3_tail = min(itertools.chain(*U3s))\n",
    "    return pd.Series((stop_codon_tail, U3_head, U3_tail))"
   ]
  },
  {
   "cell_type": "code",
   "execution_count": 88,
   "metadata": {
    "collapsed": false
   },
   "outputs": [
    {
     "data": {
      "text/plain": [
       "(1191, 6)"
      ]
     },
     "execution_count": 88,
     "metadata": {},
     "output_type": "execute_result"
    }
   ],
   "source": [
    "stop_codon_utr_df = target_ndf.query('feature != \"gene\"').groupby(\n",
    "    ['gene_name', 'strand', 'transcript_id']).apply(\n",
    "    help_func).rename(\n",
    "    columns={0:'stop_codon_tail', 1:'UTR_head', 2:'UTR_tail'}).sort_values('UTR_tail')\n",
    "stop_codon_utr_df = stop_codon_utr_df.reset_index()\n",
    "stop_codon_utr_df.shape"
   ]
  },
  {
   "cell_type": "code",
   "execution_count": 89,
   "metadata": {
    "collapsed": false
   },
   "outputs": [],
   "source": [
    "stop_codon_utr_df.sort_values(['gene_name', 'UTR_tail'], inplace=True)"
   ]
  },
  {
   "cell_type": "code",
   "execution_count": 90,
   "metadata": {
    "collapsed": false
   },
   "outputs": [],
   "source": [
    "stop_codon_utr_df['UTR_tail_neighbour_dist'] = stop_codon_utr_df.UTR_tail.diff()"
   ]
  },
  {
   "cell_type": "markdown",
   "metadata": {},
   "source": [
    "Show an example"
   ]
  },
  {
   "cell_type": "code",
   "execution_count": 91,
   "metadata": {
    "collapsed": false
   },
   "outputs": [
    {
     "data": {
      "text/html": [
       "<div>\n",
       "<table border=\"1\" class=\"dataframe\">\n",
       "  <thead>\n",
       "    <tr style=\"text-align: right;\">\n",
       "      <th></th>\n",
       "      <th>gene_name</th>\n",
       "      <th>strand</th>\n",
       "      <th>transcript_id</th>\n",
       "      <th>stop_codon_tail</th>\n",
       "      <th>UTR_head</th>\n",
       "      <th>UTR_tail</th>\n",
       "      <th>UTR_tail_neighbour_dist</th>\n",
       "    </tr>\n",
       "  </thead>\n",
       "  <tbody>\n",
       "    <tr>\n",
       "      <th>11</th>\n",
       "      <td>TERT</td>\n",
       "      <td>-</td>\n",
       "      <td>ENST00000310581</td>\n",
       "      <td>1253843</td>\n",
       "      <td>1253842</td>\n",
       "      <td>1253282</td>\n",
       "      <td>-</td>\n",
       "    </tr>\n",
       "    <tr>\n",
       "      <th>12</th>\n",
       "      <td>TERT</td>\n",
       "      <td>-</td>\n",
       "      <td>ENST00000296820</td>\n",
       "      <td>1266627</td>\n",
       "      <td>1266626</td>\n",
       "      <td>1253289</td>\n",
       "      <td>7</td>\n",
       "    </tr>\n",
       "    <tr>\n",
       "      <th>13</th>\n",
       "      <td>TERT</td>\n",
       "      <td>-</td>\n",
       "      <td>ENST00000460137</td>\n",
       "      <td>1266627</td>\n",
       "      <td>1266626</td>\n",
       "      <td>1253843</td>\n",
       "      <td>554</td>\n",
       "    </tr>\n",
       "    <tr>\n",
       "      <th>14</th>\n",
       "      <td>TERT</td>\n",
       "      <td>-</td>\n",
       "      <td>ENST00000508104</td>\n",
       "      <td>1266627</td>\n",
       "      <td>1266626</td>\n",
       "      <td>1266565</td>\n",
       "      <td>12722</td>\n",
       "    </tr>\n",
       "    <tr>\n",
       "      <th>1138</th>\n",
       "      <td>TERT</td>\n",
       "      <td>-</td>\n",
       "      <td>ENST00000334602</td>\n",
       "      <td>1253843</td>\n",
       "      <td>-</td>\n",
       "      <td>-</td>\n",
       "      <td>-</td>\n",
       "    </tr>\n",
       "    <tr>\n",
       "      <th>1139</th>\n",
       "      <td>TERT</td>\n",
       "      <td>-</td>\n",
       "      <td>ENST00000484238</td>\n",
       "      <td>-</td>\n",
       "      <td>-</td>\n",
       "      <td>-</td>\n",
       "      <td>-</td>\n",
       "    </tr>\n",
       "    <tr>\n",
       "      <th>1140</th>\n",
       "      <td>TERT</td>\n",
       "      <td>-</td>\n",
       "      <td>ENST00000503656</td>\n",
       "      <td>-</td>\n",
       "      <td>-</td>\n",
       "      <td>-</td>\n",
       "      <td>-</td>\n",
       "    </tr>\n",
       "    <tr>\n",
       "      <th>1141</th>\n",
       "      <td>TERT</td>\n",
       "      <td>-</td>\n",
       "      <td>ENST00000522877</td>\n",
       "      <td>-</td>\n",
       "      <td>-</td>\n",
       "      <td>-</td>\n",
       "      <td>-</td>\n",
       "    </tr>\n",
       "  </tbody>\n",
       "</table>\n",
       "</div>"
      ],
      "text/plain": [
       "     gene_name strand    transcript_id stop_codon_tail UTR_head UTR_tail UTR_tail_neighbour_dist\n",
       "11        TERT      -  ENST00000310581         1253843  1253842  1253282                       -\n",
       "12        TERT      -  ENST00000296820         1266627  1266626  1253289                       7\n",
       "13        TERT      -  ENST00000460137         1266627  1266626  1253843                     554\n",
       "14        TERT      -  ENST00000508104         1266627  1266626  1266565                   12722\n",
       "1138      TERT      -  ENST00000334602         1253843        -        -                       -\n",
       "1139      TERT      -  ENST00000484238               -        -        -                       -\n",
       "1140      TERT      -  ENST00000503656               -        -        -                       -\n",
       "1141      TERT      -  ENST00000522877               -        -        -                       -"
      ]
     },
     "execution_count": 91,
     "metadata": {},
     "output_type": "execute_result"
    }
   ],
   "source": [
    "stop_codon_utr_df.query('gene_name == \"TERT\"').fillna('-').applymap(lambda x: '{:.0f}'.format(x) if isinstance(x, float) else x)"
   ]
  },
  {
   "cell_type": "markdown",
   "metadata": {},
   "source": [
    "Visualize them"
   ]
  },
  {
   "cell_type": "code",
   "execution_count": 92,
   "metadata": {
    "collapsed": false
   },
   "outputs": [
    {
     "name": "stdout",
     "output_type": "stream",
     "text": [
      "working on CDKN2A...\n",
      "working on CHURC1...\n",
      "working on EZH2...\n",
      "working on MITF...\n",
      "working on TERT...\n",
      "working on WT1...\n"
     ]
    },
    {
     "data": {
      "image/png": "[encoded data removed]",
      "text/plain": [
       "<matplotlib.figure.Figure at 0x7f9a6e32d150>"
      ]
     },
     "metadata": {},
     "output_type": "display_data"
    }
   ],
   "source": [
    "fig, axes = plt.subplots(3, 2, sharex=False, sharey=False, figsize=(12, 14))\n",
    "axes = axes.ravel()\n",
    "\n",
    "\n",
    "muti_stop_codon_genes = sorted(['CHURC1', 'MITF', 'TERT', 'WT1', 'EZH2', 'CDKN2A'])\n",
    "for k, current_gene in enumerate(muti_stop_codon_genes):\n",
    "    print('working on {0}...'.format(current_gene))\n",
    "    _su_df = stop_codon_utr_df.query('gene_name == \"{0}\"'.format(current_gene)).copy()\n",
    "    strand = _su_df.strand.unique()[0]\n",
    "    if strand == '+':\n",
    "        offset = _su_df['UTR_head'].min()\n",
    "    else:\n",
    "        offset = _su_df['UTR_head'].max()\n",
    "#     _su_df['UTR_head_scaled'] = (_su_df.UTR_head - offset).abs()\n",
    "#     _su_df['UTR_tail_scaled'] = (_su_df.UTR_tail - offset).abs()\n",
    "    _su_df['UTR_head_scaled'] = (_su_df.UTR_head - offset)\n",
    "    _su_df['UTR_tail_scaled'] = (_su_df.UTR_tail - offset)\n",
    "\n",
    "    # start plotting\n",
    "    \n",
    "    ax = axes[k]\n",
    "#     _su_df.plot.scatter(ax=ax, x='UTR_head_scaled', y='UTR_tail_scaled', \n",
    "#                         alpha=1, edgecolor='black', linewidth=1, marker='x', s=100)\n",
    "\n",
    "    _su_df.plot.scatter(ax=ax, x='UTR_tail_scaled',  y='UTR_head_scaled',\n",
    "                        alpha=1, edgecolor='black', linewidth=1, marker='x', s=100)\n",
    "\n",
    "    xlim = ax.get_xlim()\n",
    "    ylim = ax.get_ylim()\n",
    "\n",
    "    for i in _su_df.UTR_head_scaled.unique():\n",
    "        ax.plot(xlim, [i, i], '--', color='black', alpha=1, lw=.5)\n",
    "\n",
    "    for i in _su_df.UTR_tail_scaled.unique():\n",
    "        ax.plot([i, i], ylim, '--', color='black', alpha=1, lw=.5)\n",
    "        \n",
    "    ax.set_xlim(xlim)\n",
    "    ax.set_ylim(ylim)\n",
    "    ax.set_title('{0} ({1})'.format(current_gene, strand))\n",
    "    if k % 2 != 0:\n",
    "        ax.set_ylabel('')\n",
    "    if k < len(muti_stop_codon_genes) - 2:\n",
    "        ax.set_xlabel('')\n",
    "\n",
    "plt.tight_layout()\n",
    "plt.savefig('multi-codon-gene-visualization.png', dpi=200)"
   ]
  },
  {
   "cell_type": "code",
   "execution_count": null,
   "metadata": {
    "collapsed": true
   },
   "outputs": [],
   "source": []
  },
  {
   "cell_type": "code",
   "execution_count": null,
   "metadata": {
    "collapsed": true
   },
   "outputs": [],
   "source": []
  },
  {
   "cell_type": "code",
   "execution_count": null,
   "metadata": {
    "collapsed": true
   },
   "outputs": [],
   "source": []
  },
  {
   "cell_type": "markdown",
   "metadata": {
    "collapsed": true
   },
   "source": [
    "# UTR end counts"
   ]
  },
  {
   "cell_type": "code",
   "execution_count": 93,
   "metadata": {
    "collapsed": true
   },
   "outputs": [],
   "source": [
    "def extract_utr_ends_per_gene(grp):\n",
    "    return np.sort(grp.groupby('transcript_id').apply(calc_utr_end_per_transcript).unique())\n",
    "\n",
    "def calc_utr_end_per_transcript(grp):\n",
    "    if grp.strand.unique()[0] == '+':\n",
    "        return max(grp.end.unique())\n",
    "    else:\n",
    "        return min(grp.start.unique())"
   ]
  },
  {
   "cell_type": "code",
   "execution_count": 94,
   "metadata": {
    "collapsed": false
   },
   "outputs": [],
   "source": [
    "# test case for ENSG00000068078, FGFR3\n",
    "_test_grp = target_ndf.query('feature == \"UTR\"').groupby(['gene_id', 'gene_name']).get_group(('ENSG00000068078', 'FGFR3'))\n",
    "assert extract_utr_ends_per_gene(_test_grp).tolist() == [1810592, 1810598, 1810599]"
   ]
  },
  {
   "cell_type": "code",
   "execution_count": 95,
   "metadata": {
    "collapsed": true
   },
   "outputs": [],
   "source": [
    "utr_ends_df = target_ndf.query('feature == \"UTR\"').groupby(['gene_id', 'gene_name']).apply(extract_utr_ends_per_gene).rename('end').reset_index()\n",
    "utr_ends_df['len'] = utr_ends_df['end'].apply(lambda x: len(x))"
   ]
  },
  {
   "cell_type": "markdown",
   "metadata": {},
   "source": [
    "Gene candidates that show differential preference in cleavage site in some cancer types "
   ]
  },
  {
   "cell_type": "code",
   "execution_count": 96,
   "metadata": {
    "collapsed": false,
    "scrolled": true
   },
   "outputs": [
    {
     "data": {
      "text/html": [
       "<div>\n",
       "<table border=\"1\" class=\"dataframe\">\n",
       "  <thead>\n",
       "    <tr style=\"text-align: right;\">\n",
       "      <th></th>\n",
       "      <th>gene_id</th>\n",
       "      <th>gene_name</th>\n",
       "      <th>end</th>\n",
       "      <th>len</th>\n",
       "    </tr>\n",
       "  </thead>\n",
       "  <tbody>\n",
       "    <tr>\n",
       "      <th>21</th>\n",
       "      <td>ENSG00000105173</td>\n",
       "      <td>CCNE1</td>\n",
       "      <td>[30303462, 30314917, 30315119, 30315214, 30315...</td>\n",
       "      <td>5</td>\n",
       "    </tr>\n",
       "    <tr>\n",
       "      <th>75</th>\n",
       "      <td>ENSG00000147889</td>\n",
       "      <td>CDKN2A</td>\n",
       "      <td>[21967751, 21967752, 21967990, 21967995, 21968...</td>\n",
       "      <td>12</td>\n",
       "    </tr>\n",
       "    <tr>\n",
       "      <th>113</th>\n",
       "      <td>ENSG00000258289</td>\n",
       "      <td>CHURC1</td>\n",
       "      <td>[65397655, 65399038, 65401103, 65401913, 65402...</td>\n",
       "      <td>7</td>\n",
       "    </tr>\n",
       "    <tr>\n",
       "      <th>24</th>\n",
       "      <td>ENSG00000106462</td>\n",
       "      <td>EZH2</td>\n",
       "      <td>[148504475, 148504476, 148504477, 148504574, 1...</td>\n",
       "      <td>6</td>\n",
       "    </tr>\n",
       "    <tr>\n",
       "      <th>64</th>\n",
       "      <td>ENSG00000138685</td>\n",
       "      <td>FGF2</td>\n",
       "      <td>[123816619, 123819391]</td>\n",
       "      <td>2</td>\n",
       "    </tr>\n",
       "    <tr>\n",
       "      <th>105</th>\n",
       "      <td>ENSG00000187098</td>\n",
       "      <td>MITF</td>\n",
       "      <td>[69812992, 69915441, 69928336, 70014721, 70014...</td>\n",
       "      <td>11</td>\n",
       "    </tr>\n",
       "    <tr>\n",
       "      <th>82</th>\n",
       "      <td>ENSG00000162924</td>\n",
       "      <td>REL</td>\n",
       "      <td>[61150119, 61158745]</td>\n",
       "      <td>2</td>\n",
       "    </tr>\n",
       "    <tr>\n",
       "      <th>84</th>\n",
       "      <td>ENSG00000164362</td>\n",
       "      <td>TERT</td>\n",
       "      <td>[1253282, 1253289, 1253843, 1266565]</td>\n",
       "      <td>4</td>\n",
       "    </tr>\n",
       "    <tr>\n",
       "      <th>101</th>\n",
       "      <td>ENSG00000184937</td>\n",
       "      <td>WT1</td>\n",
       "      <td>[32409321, 32409324, 32409330, 32410225, 32410...</td>\n",
       "      <td>7</td>\n",
       "    </tr>\n",
       "  </tbody>\n",
       "</table>\n",
       "</div>"
      ],
      "text/plain": [
       "             gene_id gene_name                                                end  len\n",
       "21   ENSG00000105173     CCNE1  [30303462, 30314917, 30315119, 30315214, 30315...    5\n",
       "75   ENSG00000147889    CDKN2A  [21967751, 21967752, 21967990, 21967995, 21968...   12\n",
       "113  ENSG00000258289    CHURC1  [65397655, 65399038, 65401103, 65401913, 65402...    7\n",
       "24   ENSG00000106462      EZH2  [148504475, 148504476, 148504477, 148504574, 1...    6\n",
       "64   ENSG00000138685      FGF2                             [123816619, 123819391]    2\n",
       "105  ENSG00000187098      MITF  [69812992, 69915441, 69928336, 70014721, 70014...   11\n",
       "82   ENSG00000162924       REL                               [61150119, 61158745]    2\n",
       "84   ENSG00000164362      TERT               [1253282, 1253289, 1253843, 1266565]    4\n",
       "101  ENSG00000184937       WT1  [32409321, 32409324, 32409330, 32410225, 32410...    7"
      ]
     },
     "execution_count": 96,
     "metadata": {},
     "output_type": "execute_result"
    }
   ],
   "source": [
    "# pref_diff_gene_candidates = ['CCNE1', 'CDKN2A', 'EZH2', 'FGF2', 'FGFR3', 'MITF', 'PIK3CA', 'REL', 'SOX2', 'VHL']\n",
    "pref_diff_gene_candidates = ['CCNE1', 'CDKN2A', 'CHURC1', 'EZH2', 'FGF2', 'MITF', 'REL', 'TERT', 'WT1']\n",
    "utr_ends_df[utr_ends_df.gene_name.isin(pref_diff_gene_candidates)].sort_values('gene_name')"
   ]
  },
  {
   "cell_type": "code",
   "execution_count": null,
   "metadata": {
    "collapsed": true
   },
   "outputs": [],
   "source": []
  },
  {
   "cell_type": "markdown",
   "metadata": {
    "collapsed": true
   },
   "source": [
    "6 Genes from Cell paper https://www.ncbi.nlm.nih.gov/pubmed/19703394\n",
    "\n",
    "1. ENSG00000100697, DICER1, DICER1\n",
    "1. ENSG00000110092, CCND1, Cyclin D1\n",
    "1. ENSG00000084733, RAB10, RAS oncogene family\n",
    "1. ENSG00000138685, FGF2, Fibroblast growth factor 2\n",
    "1. ENSG00000118971, CCND2, Cyclin D2\n",
    "1. ENSG00000159217, IGF2BP1 (aka IMP-1), Insulin-Like Growth Factor 2 MRNA Binding Protein 1"
   ]
  },
  {
   "cell_type": "code",
   "execution_count": 97,
   "metadata": {
    "collapsed": false
   },
   "outputs": [
    {
     "data": {
      "text/html": [
       "<div>\n",
       "<table border=\"1\" class=\"dataframe\">\n",
       "  <thead>\n",
       "    <tr style=\"text-align: right;\">\n",
       "      <th></th>\n",
       "      <th>gene_id</th>\n",
       "      <th>gene_name</th>\n",
       "      <th>end</th>\n",
       "      <th>len</th>\n",
       "    </tr>\n",
       "  </thead>\n",
       "  <tbody>\n",
       "    <tr>\n",
       "      <th>11</th>\n",
       "      <td>ENSG00000084733</td>\n",
       "      <td>RAB10</td>\n",
       "      <td>[26360323]</td>\n",
       "      <td>1</td>\n",
       "    </tr>\n",
       "    <tr>\n",
       "      <th>18</th>\n",
       "      <td>ENSG00000100697</td>\n",
       "      <td>DICER1</td>\n",
       "      <td>[95552565, 95552566, 95556658, 95556805, 95556...</td>\n",
       "      <td>7</td>\n",
       "    </tr>\n",
       "    <tr>\n",
       "      <th>30</th>\n",
       "      <td>ENSG00000110092</td>\n",
       "      <td>CCND1</td>\n",
       "      <td>[69463008, 69469242]</td>\n",
       "      <td>2</td>\n",
       "    </tr>\n",
       "    <tr>\n",
       "      <th>39</th>\n",
       "      <td>ENSG00000118971</td>\n",
       "      <td>CCND2</td>\n",
       "      <td>[4407134, 4414516]</td>\n",
       "      <td>2</td>\n",
       "    </tr>\n",
       "    <tr>\n",
       "      <th>64</th>\n",
       "      <td>ENSG00000138685</td>\n",
       "      <td>FGF2</td>\n",
       "      <td>[123816619, 123819391]</td>\n",
       "      <td>2</td>\n",
       "    </tr>\n",
       "    <tr>\n",
       "      <th>81</th>\n",
       "      <td>ENSG00000159217</td>\n",
       "      <td>IGF2BP1</td>\n",
       "      <td>[47133012]</td>\n",
       "      <td>1</td>\n",
       "    </tr>\n",
       "  </tbody>\n",
       "</table>\n",
       "</div>"
      ],
      "text/plain": [
       "            gene_id gene_name                                                end  len\n",
       "11  ENSG00000084733     RAB10                                         [26360323]    1\n",
       "18  ENSG00000100697    DICER1  [95552565, 95552566, 95556658, 95556805, 95556...    7\n",
       "30  ENSG00000110092     CCND1                               [69463008, 69469242]    2\n",
       "39  ENSG00000118971     CCND2                                 [4407134, 4414516]    2\n",
       "64  ENSG00000138685      FGF2                             [123816619, 123819391]    2\n",
       "81  ENSG00000159217   IGF2BP1                                         [47133012]    1"
      ]
     },
     "execution_count": 97,
     "metadata": {},
     "output_type": "execute_result"
    }
   ],
   "source": [
    "utr_ends_df[utr_ends_df.gene_name.isin(['CCND1', 'CCND2', 'DICER1', 'FGF2', 'IGF2BP1', 'RAB10'])]"
   ]
  },
  {
   "cell_type": "code",
   "execution_count": null,
   "metadata": {
    "collapsed": true
   },
   "outputs": [],
   "source": []
  },
  {
   "cell_type": "code",
   "execution_count": null,
   "metadata": {
    "collapsed": true
   },
   "outputs": [],
   "source": []
  },
  {
   "cell_type": "code",
   "execution_count": null,
   "metadata": {
    "collapsed": true
   },
   "outputs": [],
   "source": []
  },
  {
   "cell_type": "code",
   "execution_count": 98,
   "metadata": {
    "collapsed": true
   },
   "outputs": [],
   "source": [
    "current_gene = 'EZH2'"
   ]
  },
  {
   "cell_type": "code",
   "execution_count": 99,
   "metadata": {
    "collapsed": false
   },
   "outputs": [
    {
     "data": {
      "text/html": [
       "<div>\n",
       "<table border=\"1\" class=\"dataframe\">\n",
       "  <thead>\n",
       "    <tr style=\"text-align: right;\">\n",
       "      <th></th>\n",
       "      <th>seqname</th>\n",
       "      <th>source</th>\n",
       "      <th>feature</th>\n",
       "      <th>start</th>\n",
       "      <th>end</th>\n",
       "      <th>score</th>\n",
       "      <th>strand</th>\n",
       "      <th>frame</th>\n",
       "      <th>len</th>\n",
       "      <th>transcript_id</th>\n",
       "      <th>gene_id</th>\n",
       "      <th>gene_name</th>\n",
       "    </tr>\n",
       "  </thead>\n",
       "  <tbody>\n",
       "    <tr>\n",
       "      <th>63846</th>\n",
       "      <td>1</td>\n",
       "      <td>protein_coding</td>\n",
       "      <td>gene</td>\n",
       "      <td>40361098</td>\n",
       "      <td>40367928</td>\n",
       "      <td>.</td>\n",
       "      <td>-</td>\n",
       "      <td>.</td>\n",
       "      <td>6831</td>\n",
       "      <td></td>\n",
       "      <td>ENSG00000116990</td>\n",
       "      <td>MYCL</td>\n",
       "    </tr>\n",
       "    <tr>\n",
       "      <th>63847</th>\n",
       "      <td>1</td>\n",
       "      <td>protein_coding</td>\n",
       "      <td>transcript</td>\n",
       "      <td>40361098</td>\n",
       "      <td>40367685</td>\n",
       "      <td>.</td>\n",
       "      <td>-</td>\n",
       "      <td>.</td>\n",
       "      <td>6588</td>\n",
       "      <td>ENST00000397332</td>\n",
       "      <td>ENSG00000116990</td>\n",
       "      <td>MYCL</td>\n",
       "    </tr>\n",
       "    <tr>\n",
       "      <th>63848</th>\n",
       "      <td>1</td>\n",
       "      <td>protein_coding</td>\n",
       "      <td>exon</td>\n",
       "      <td>40367480</td>\n",
       "      <td>40367685</td>\n",
       "      <td>.</td>\n",
       "      <td>-</td>\n",
       "      <td>.</td>\n",
       "      <td>206</td>\n",
       "      <td>ENST00000397332</td>\n",
       "      <td>ENSG00000116990</td>\n",
       "      <td>MYCL</td>\n",
       "    </tr>\n",
       "    <tr>\n",
       "      <th>63849</th>\n",
       "      <td>1</td>\n",
       "      <td>protein_coding</td>\n",
       "      <td>CDS</td>\n",
       "      <td>40367480</td>\n",
       "      <td>40367560</td>\n",
       "      <td>.</td>\n",
       "      <td>-</td>\n",
       "      <td>0</td>\n",
       "      <td>81</td>\n",
       "      <td>ENST00000397332</td>\n",
       "      <td>ENSG00000116990</td>\n",
       "      <td>MYCL</td>\n",
       "    </tr>\n",
       "    <tr>\n",
       "      <th>63850</th>\n",
       "      <td>1</td>\n",
       "      <td>protein_coding</td>\n",
       "      <td>start_codon</td>\n",
       "      <td>40367558</td>\n",
       "      <td>40367560</td>\n",
       "      <td>.</td>\n",
       "      <td>-</td>\n",
       "      <td>0</td>\n",
       "      <td>3</td>\n",
       "      <td>ENST00000397332</td>\n",
       "      <td>ENSG00000116990</td>\n",
       "      <td>MYCL</td>\n",
       "    </tr>\n",
       "  </tbody>\n",
       "</table>\n",
       "</div>"
      ],
      "text/plain": [
       "      seqname          source      feature     start       end score strand frame   len    transcript_id          gene_id gene_name\n",
       "63846       1  protein_coding         gene  40361098  40367928     .      -     .  6831                   ENSG00000116990      MYCL\n",
       "63847       1  protein_coding   transcript  40361098  40367685     .      -     .  6588  ENST00000397332  ENSG00000116990      MYCL\n",
       "63848       1  protein_coding         exon  40367480  40367685     .      -     .   206  ENST00000397332  ENSG00000116990      MYCL\n",
       "63849       1  protein_coding          CDS  40367480  40367560     .      -     0    81  ENST00000397332  ENSG00000116990      MYCL\n",
       "63850       1  protein_coding  start_codon  40367558  40367560     .      -     0     3  ENST00000397332  ENSG00000116990      MYCL"
      ]
     },
     "execution_count": 99,
     "metadata": {},
     "output_type": "execute_result"
    }
   ],
   "source": [
    "target_ndf.head()"
   ]
  },
  {
   "cell_type": "code",
   "execution_count": 100,
   "metadata": {
    "collapsed": false
   },
   "outputs": [
    {
     "data": {
      "text/plain": [
       "array(['ENST00000492143', 'ENST00000478654', 'ENST00000460911',\n",
       "       'ENST00000350995', 'ENST00000320356', 'ENST00000541220',\n",
       "       'ENST00000476773', 'ENST00000483967', 'ENST00000469631',\n",
       "       'ENST00000498186', 'ENST00000483012', 'ENST00000536783'], dtype=object)"
      ]
     },
     "execution_count": 100,
     "metadata": {},
     "output_type": "execute_result"
    }
   ],
   "source": [
    "target_ndf.query('feature == \"transcript\"').query('gene_name == \"{0}\"'.format(current_gene)).transcript_id.unique()"
   ]
  },
  {
   "cell_type": "code",
   "execution_count": 101,
   "metadata": {
    "collapsed": false
   },
   "outputs": [
    {
     "data": {
      "text/html": [
       "<div>\n",
       "<table border=\"1\" class=\"dataframe\">\n",
       "  <thead>\n",
       "    <tr style=\"text-align: right;\">\n",
       "      <th></th>\n",
       "      <th>seqname</th>\n",
       "      <th>source</th>\n",
       "      <th>feature</th>\n",
       "      <th>start</th>\n",
       "      <th>end</th>\n",
       "      <th>score</th>\n",
       "      <th>strand</th>\n",
       "      <th>frame</th>\n",
       "      <th>len</th>\n",
       "      <th>transcript_id</th>\n",
       "      <th>gene_id</th>\n",
       "      <th>gene_name</th>\n",
       "    </tr>\n",
       "  </thead>\n",
       "  <tbody>\n",
       "    <tr>\n",
       "      <th>1030802</th>\n",
       "      <td>7</td>\n",
       "      <td>nonsense_mediated_decay</td>\n",
       "      <td>transcript</td>\n",
       "      <td>148504475</td>\n",
       "      <td>148581375</td>\n",
       "      <td>.</td>\n",
       "      <td>-</td>\n",
       "      <td>.</td>\n",
       "      <td>76901</td>\n",
       "      <td>ENST00000492143</td>\n",
       "      <td>ENSG00000106462</td>\n",
       "      <td>EZH2</td>\n",
       "    </tr>\n",
       "    <tr>\n",
       "      <th>1030845</th>\n",
       "      <td>7</td>\n",
       "      <td>protein_coding</td>\n",
       "      <td>transcript</td>\n",
       "      <td>148504476</td>\n",
       "      <td>148581251</td>\n",
       "      <td>.</td>\n",
       "      <td>-</td>\n",
       "      <td>.</td>\n",
       "      <td>76776</td>\n",
       "      <td>ENST00000478654</td>\n",
       "      <td>ENSG00000106462</td>\n",
       "      <td>EZH2</td>\n",
       "    </tr>\n",
       "    <tr>\n",
       "      <th>1030890</th>\n",
       "      <td>7</td>\n",
       "      <td>protein_coding</td>\n",
       "      <td>transcript</td>\n",
       "      <td>148504477</td>\n",
       "      <td>148581337</td>\n",
       "      <td>.</td>\n",
       "      <td>-</td>\n",
       "      <td>.</td>\n",
       "      <td>76861</td>\n",
       "      <td>ENST00000460911</td>\n",
       "      <td>ENSG00000106462</td>\n",
       "      <td>EZH2</td>\n",
       "    </tr>\n",
       "    <tr>\n",
       "      <th>1030935</th>\n",
       "      <td>7</td>\n",
       "      <td>protein_coding</td>\n",
       "      <td>transcript</td>\n",
       "      <td>148504477</td>\n",
       "      <td>148581340</td>\n",
       "      <td>.</td>\n",
       "      <td>-</td>\n",
       "      <td>.</td>\n",
       "      <td>76864</td>\n",
       "      <td>ENST00000350995</td>\n",
       "      <td>ENSG00000106462</td>\n",
       "      <td>EZH2</td>\n",
       "    </tr>\n",
       "    <tr>\n",
       "      <th>1030978</th>\n",
       "      <td>7</td>\n",
       "      <td>protein_coding</td>\n",
       "      <td>transcript</td>\n",
       "      <td>148504477</td>\n",
       "      <td>148581370</td>\n",
       "      <td>.</td>\n",
       "      <td>-</td>\n",
       "      <td>.</td>\n",
       "      <td>76894</td>\n",
       "      <td>ENST00000320356</td>\n",
       "      <td>ENSG00000106462</td>\n",
       "      <td>EZH2</td>\n",
       "    </tr>\n",
       "    <tr>\n",
       "      <th>1031023</th>\n",
       "      <td>7</td>\n",
       "      <td>protein_coding</td>\n",
       "      <td>transcript</td>\n",
       "      <td>148504477</td>\n",
       "      <td>148581370</td>\n",
       "      <td>.</td>\n",
       "      <td>-</td>\n",
       "      <td>.</td>\n",
       "      <td>76894</td>\n",
       "      <td>ENST00000541220</td>\n",
       "      <td>ENSG00000106462</td>\n",
       "      <td>EZH2</td>\n",
       "    </tr>\n",
       "    <tr>\n",
       "      <th>1031066</th>\n",
       "      <td>7</td>\n",
       "      <td>protein_coding</td>\n",
       "      <td>transcript</td>\n",
       "      <td>148504574</td>\n",
       "      <td>148580601</td>\n",
       "      <td>.</td>\n",
       "      <td>-</td>\n",
       "      <td>.</td>\n",
       "      <td>76028</td>\n",
       "      <td>ENST00000476773</td>\n",
       "      <td>ENSG00000106462</td>\n",
       "      <td>EZH2</td>\n",
       "    </tr>\n",
       "    <tr>\n",
       "      <th>1031109</th>\n",
       "      <td>7</td>\n",
       "      <td>protein_coding</td>\n",
       "      <td>transcript</td>\n",
       "      <td>148504617</td>\n",
       "      <td>148581379</td>\n",
       "      <td>.</td>\n",
       "      <td>-</td>\n",
       "      <td>.</td>\n",
       "      <td>76763</td>\n",
       "      <td>ENST00000483967</td>\n",
       "      <td>ENSG00000106462</td>\n",
       "      <td>EZH2</td>\n",
       "    </tr>\n",
       "    <tr>\n",
       "      <th>1031154</th>\n",
       "      <td>7</td>\n",
       "      <td>retained_intron</td>\n",
       "      <td>transcript</td>\n",
       "      <td>148507292</td>\n",
       "      <td>148508915</td>\n",
       "      <td>.</td>\n",
       "      <td>-</td>\n",
       "      <td>.</td>\n",
       "      <td>1624</td>\n",
       "      <td>ENST00000469631</td>\n",
       "      <td>ENSG00000106462</td>\n",
       "      <td>EZH2</td>\n",
       "    </tr>\n",
       "    <tr>\n",
       "      <th>1031157</th>\n",
       "      <td>7</td>\n",
       "      <td>retained_intron</td>\n",
       "      <td>transcript</td>\n",
       "      <td>148514449</td>\n",
       "      <td>148581379</td>\n",
       "      <td>.</td>\n",
       "      <td>-</td>\n",
       "      <td>.</td>\n",
       "      <td>66931</td>\n",
       "      <td>ENST00000498186</td>\n",
       "      <td>ENSG00000106462</td>\n",
       "      <td>EZH2</td>\n",
       "    </tr>\n",
       "    <tr>\n",
       "      <th>1031168</th>\n",
       "      <td>7</td>\n",
       "      <td>nonsense_mediated_decay</td>\n",
       "      <td>transcript</td>\n",
       "      <td>148515129</td>\n",
       "      <td>148581413</td>\n",
       "      <td>.</td>\n",
       "      <td>-</td>\n",
       "      <td>.</td>\n",
       "      <td>66285</td>\n",
       "      <td>ENST00000483012</td>\n",
       "      <td>ENSG00000106462</td>\n",
       "      <td>EZH2</td>\n",
       "    </tr>\n",
       "    <tr>\n",
       "      <th>1031197</th>\n",
       "      <td>7</td>\n",
       "      <td>protein_coding</td>\n",
       "      <td>transcript</td>\n",
       "      <td>148515129</td>\n",
       "      <td>148581413</td>\n",
       "      <td>.</td>\n",
       "      <td>-</td>\n",
       "      <td>.</td>\n",
       "      <td>66285</td>\n",
       "      <td>ENST00000536783</td>\n",
       "      <td>ENSG00000106462</td>\n",
       "      <td>EZH2</td>\n",
       "    </tr>\n",
       "  </tbody>\n",
       "</table>\n",
       "</div>"
      ],
      "text/plain": [
       "        seqname                   source     feature      start        end score strand frame    len    transcript_id          gene_id gene_name\n",
       "1030802       7  nonsense_mediated_decay  transcript  148504475  148581375     .      -     .  76901  ENST00000492143  ENSG00000106462      EZH2\n",
       "1030845       7           protein_coding  transcript  148504476  148581251     .      -     .  76776  ENST00000478654  ENSG00000106462      EZH2\n",
       "1030890       7           protein_coding  transcript  148504477  148581337     .      -     .  76861  ENST00000460911  ENSG00000106462      EZH2\n",
       "1030935       7           protein_coding  transcript  148504477  148581340     .      -     .  76864  ENST00000350995  ENSG00000106462      EZH2\n",
       "1030978       7           protein_coding  transcript  148504477  148581370     .      -     .  76894  ENST00000320356  ENSG00000106462      EZH2\n",
       "1031023       7           protein_coding  transcript  148504477  148581370     .      -     .  76894  ENST00000541220  ENSG00000106462      EZH2\n",
       "1031066       7           protein_coding  transcript  148504574  148580601     .      -     .  76028  ENST00000476773  ENSG00000106462      EZH2\n",
       "1031109       7           protein_coding  transcript  148504617  148581379     .      -     .  76763  ENST00000483967  ENSG00000106462      EZH2\n",
       "1031154       7          retained_intron  transcript  148507292  148508915     .      -     .   1624  ENST00000469631  ENSG00000106462      EZH2\n",
       "1031157       7          retained_intron  transcript  148514449  148581379     .      -     .  66931  ENST00000498186  ENSG00000106462      EZH2\n",
       "1031168       7  nonsense_mediated_decay  transcript  148515129  148581413     .      -     .  66285  ENST00000483012  ENSG00000106462      EZH2\n",
       "1031197       7           protein_coding  transcript  148515129  148581413     .      -     .  66285  ENST00000536783  ENSG00000106462      EZH2"
      ]
     },
     "execution_count": 101,
     "metadata": {},
     "output_type": "execute_result"
    }
   ],
   "source": [
    "target_ndf.query('feature == \"transcript\"').query('gene_name == \"{0}\"'.format(current_gene))"
   ]
  },
  {
   "cell_type": "code",
   "execution_count": 102,
   "metadata": {
    "collapsed": false
   },
   "outputs": [
    {
     "data": {
      "text/html": [
       "<div>\n",
       "<table border=\"1\" class=\"dataframe\">\n",
       "  <thead>\n",
       "    <tr style=\"text-align: right;\">\n",
       "      <th></th>\n",
       "      <th>seqname</th>\n",
       "      <th>source</th>\n",
       "      <th>feature</th>\n",
       "      <th>start</th>\n",
       "      <th>end</th>\n",
       "      <th>score</th>\n",
       "      <th>strand</th>\n",
       "      <th>frame</th>\n",
       "      <th>len</th>\n",
       "      <th>transcript_id</th>\n",
       "      <th>gene_id</th>\n",
       "      <th>gene_name</th>\n",
       "    </tr>\n",
       "  </thead>\n",
       "  <tbody>\n",
       "    <tr>\n",
       "      <th>1030833</th>\n",
       "      <td>7</td>\n",
       "      <td>nonsense_mediated_decay</td>\n",
       "      <td>UTR</td>\n",
       "      <td>148581256</td>\n",
       "      <td>148581375</td>\n",
       "      <td>.</td>\n",
       "      <td>-</td>\n",
       "      <td>.</td>\n",
       "      <td>120</td>\n",
       "      <td>ENST00000492143</td>\n",
       "      <td>ENSG00000106462</td>\n",
       "      <td>EZH2</td>\n",
       "    </tr>\n",
       "    <tr>\n",
       "      <th>1030834</th>\n",
       "      <td>7</td>\n",
       "      <td>nonsense_mediated_decay</td>\n",
       "      <td>UTR</td>\n",
       "      <td>148544391</td>\n",
       "      <td>148544397</td>\n",
       "      <td>.</td>\n",
       "      <td>-</td>\n",
       "      <td>.</td>\n",
       "      <td>7</td>\n",
       "      <td>ENST00000492143</td>\n",
       "      <td>ENSG00000106462</td>\n",
       "      <td>EZH2</td>\n",
       "    </tr>\n",
       "    <tr>\n",
       "      <th>1030835</th>\n",
       "      <td>7</td>\n",
       "      <td>nonsense_mediated_decay</td>\n",
       "      <td>UTR</td>\n",
       "      <td>148516070</td>\n",
       "      <td>148516130</td>\n",
       "      <td>.</td>\n",
       "      <td>-</td>\n",
       "      <td>.</td>\n",
       "      <td>61</td>\n",
       "      <td>ENST00000492143</td>\n",
       "      <td>ENSG00000106462</td>\n",
       "      <td>EZH2</td>\n",
       "    </tr>\n",
       "    <tr>\n",
       "      <th>1030836</th>\n",
       "      <td>7</td>\n",
       "      <td>nonsense_mediated_decay</td>\n",
       "      <td>UTR</td>\n",
       "      <td>148513776</td>\n",
       "      <td>148515209</td>\n",
       "      <td>.</td>\n",
       "      <td>-</td>\n",
       "      <td>.</td>\n",
       "      <td>1434</td>\n",
       "      <td>ENST00000492143</td>\n",
       "      <td>ENSG00000106462</td>\n",
       "      <td>EZH2</td>\n",
       "    </tr>\n",
       "    <tr>\n",
       "      <th>1030837</th>\n",
       "      <td>7</td>\n",
       "      <td>nonsense_mediated_decay</td>\n",
       "      <td>UTR</td>\n",
       "      <td>148512598</td>\n",
       "      <td>148512638</td>\n",
       "      <td>.</td>\n",
       "      <td>-</td>\n",
       "      <td>.</td>\n",
       "      <td>41</td>\n",
       "      <td>ENST00000492143</td>\n",
       "      <td>ENSG00000106462</td>\n",
       "      <td>EZH2</td>\n",
       "    </tr>\n",
       "    <tr>\n",
       "      <th>1030838</th>\n",
       "      <td>7</td>\n",
       "      <td>nonsense_mediated_decay</td>\n",
       "      <td>UTR</td>\n",
       "      <td>148512006</td>\n",
       "      <td>148512131</td>\n",
       "      <td>.</td>\n",
       "      <td>-</td>\n",
       "      <td>.</td>\n",
       "      <td>126</td>\n",
       "      <td>ENST00000492143</td>\n",
       "      <td>ENSG00000106462</td>\n",
       "      <td>EZH2</td>\n",
       "    </tr>\n",
       "    <tr>\n",
       "      <th>1030839</th>\n",
       "      <td>7</td>\n",
       "      <td>nonsense_mediated_decay</td>\n",
       "      <td>UTR</td>\n",
       "      <td>148511051</td>\n",
       "      <td>148511229</td>\n",
       "      <td>.</td>\n",
       "      <td>-</td>\n",
       "      <td>.</td>\n",
       "      <td>179</td>\n",
       "      <td>ENST00000492143</td>\n",
       "      <td>ENSG00000106462</td>\n",
       "      <td>EZH2</td>\n",
       "    </tr>\n",
       "    <tr>\n",
       "      <th>1030840</th>\n",
       "      <td>7</td>\n",
       "      <td>nonsense_mediated_decay</td>\n",
       "      <td>UTR</td>\n",
       "      <td>148508717</td>\n",
       "      <td>148508812</td>\n",
       "      <td>.</td>\n",
       "      <td>-</td>\n",
       "      <td>.</td>\n",
       "      <td>96</td>\n",
       "      <td>ENST00000492143</td>\n",
       "      <td>ENSG00000106462</td>\n",
       "      <td>EZH2</td>\n",
       "    </tr>\n",
       "    <tr>\n",
       "      <th>1030841</th>\n",
       "      <td>7</td>\n",
       "      <td>nonsense_mediated_decay</td>\n",
       "      <td>UTR</td>\n",
       "      <td>148507425</td>\n",
       "      <td>148507506</td>\n",
       "      <td>.</td>\n",
       "      <td>-</td>\n",
       "      <td>.</td>\n",
       "      <td>82</td>\n",
       "      <td>ENST00000492143</td>\n",
       "      <td>ENSG00000106462</td>\n",
       "      <td>EZH2</td>\n",
       "    </tr>\n",
       "    <tr>\n",
       "      <th>1030842</th>\n",
       "      <td>7</td>\n",
       "      <td>nonsense_mediated_decay</td>\n",
       "      <td>UTR</td>\n",
       "      <td>148506402</td>\n",
       "      <td>148506482</td>\n",
       "      <td>.</td>\n",
       "      <td>-</td>\n",
       "      <td>.</td>\n",
       "      <td>81</td>\n",
       "      <td>ENST00000492143</td>\n",
       "      <td>ENSG00000106462</td>\n",
       "      <td>EZH2</td>\n",
       "    </tr>\n",
       "    <tr>\n",
       "      <th>1030843</th>\n",
       "      <td>7</td>\n",
       "      <td>nonsense_mediated_decay</td>\n",
       "      <td>UTR</td>\n",
       "      <td>148506163</td>\n",
       "      <td>148506247</td>\n",
       "      <td>.</td>\n",
       "      <td>-</td>\n",
       "      <td>.</td>\n",
       "      <td>85</td>\n",
       "      <td>ENST00000492143</td>\n",
       "      <td>ENSG00000106462</td>\n",
       "      <td>EZH2</td>\n",
       "    </tr>\n",
       "    <tr>\n",
       "      <th>1030844</th>\n",
       "      <td>7</td>\n",
       "      <td>nonsense_mediated_decay</td>\n",
       "      <td>UTR</td>\n",
       "      <td>148504475</td>\n",
       "      <td>148504798</td>\n",
       "      <td>.</td>\n",
       "      <td>-</td>\n",
       "      <td>.</td>\n",
       "      <td>324</td>\n",
       "      <td>ENST00000492143</td>\n",
       "      <td>ENSG00000106462</td>\n",
       "      <td>EZH2</td>\n",
       "    </tr>\n",
       "    <tr>\n",
       "      <th>1030886</th>\n",
       "      <td>7</td>\n",
       "      <td>protein_coding</td>\n",
       "      <td>UTR</td>\n",
       "      <td>148581152</td>\n",
       "      <td>148581251</td>\n",
       "      <td>.</td>\n",
       "      <td>-</td>\n",
       "      <td>.</td>\n",
       "      <td>100</td>\n",
       "      <td>ENST00000478654</td>\n",
       "      <td>ENSG00000106462</td>\n",
       "      <td>EZH2</td>\n",
       "    </tr>\n",
       "    <tr>\n",
       "      <th>1030887</th>\n",
       "      <td>7</td>\n",
       "      <td>protein_coding</td>\n",
       "      <td>UTR</td>\n",
       "      <td>148580289</td>\n",
       "      <td>148580353</td>\n",
       "      <td>.</td>\n",
       "      <td>-</td>\n",
       "      <td>.</td>\n",
       "      <td>65</td>\n",
       "      <td>ENST00000478654</td>\n",
       "      <td>ENSG00000106462</td>\n",
       "      <td>EZH2</td>\n",
       "    </tr>\n",
       "    <tr>\n",
       "      <th>1030888</th>\n",
       "      <td>7</td>\n",
       "      <td>protein_coding</td>\n",
       "      <td>UTR</td>\n",
       "      <td>148544391</td>\n",
       "      <td>148544397</td>\n",
       "      <td>.</td>\n",
       "      <td>-</td>\n",
       "      <td>.</td>\n",
       "      <td>7</td>\n",
       "      <td>ENST00000478654</td>\n",
       "      <td>ENSG00000106462</td>\n",
       "      <td>EZH2</td>\n",
       "    </tr>\n",
       "    <tr>\n",
       "      <th>1030889</th>\n",
       "      <td>7</td>\n",
       "      <td>protein_coding</td>\n",
       "      <td>UTR</td>\n",
       "      <td>148504476</td>\n",
       "      <td>148504737</td>\n",
       "      <td>.</td>\n",
       "      <td>-</td>\n",
       "      <td>.</td>\n",
       "      <td>262</td>\n",
       "      <td>ENST00000478654</td>\n",
       "      <td>ENSG00000106462</td>\n",
       "      <td>EZH2</td>\n",
       "    </tr>\n",
       "    <tr>\n",
       "      <th>1030932</th>\n",
       "      <td>7</td>\n",
       "      <td>protein_coding</td>\n",
       "      <td>UTR</td>\n",
       "      <td>148581256</td>\n",
       "      <td>148581337</td>\n",
       "      <td>.</td>\n",
       "      <td>-</td>\n",
       "      <td>.</td>\n",
       "      <td>82</td>\n",
       "      <td>ENST00000460911</td>\n",
       "      <td>ENSG00000106462</td>\n",
       "      <td>EZH2</td>\n",
       "    </tr>\n",
       "    <tr>\n",
       "      <th>1030933</th>\n",
       "      <td>7</td>\n",
       "      <td>protein_coding</td>\n",
       "      <td>UTR</td>\n",
       "      <td>148544391</td>\n",
       "      <td>148544397</td>\n",
       "      <td>.</td>\n",
       "      <td>-</td>\n",
       "      <td>.</td>\n",
       "      <td>7</td>\n",
       "      <td>ENST00000460911</td>\n",
       "      <td>ENSG00000106462</td>\n",
       "      <td>EZH2</td>\n",
       "    </tr>\n",
       "    <tr>\n",
       "      <th>1030934</th>\n",
       "      <td>7</td>\n",
       "      <td>protein_coding</td>\n",
       "      <td>UTR</td>\n",
       "      <td>148504477</td>\n",
       "      <td>148504737</td>\n",
       "      <td>.</td>\n",
       "      <td>-</td>\n",
       "      <td>.</td>\n",
       "      <td>261</td>\n",
       "      <td>ENST00000460911</td>\n",
       "      <td>ENSG00000106462</td>\n",
       "      <td>EZH2</td>\n",
       "    </tr>\n",
       "    <tr>\n",
       "      <th>1030975</th>\n",
       "      <td>7</td>\n",
       "      <td>protein_coding</td>\n",
       "      <td>UTR</td>\n",
       "      <td>148581256</td>\n",
       "      <td>148581340</td>\n",
       "      <td>.</td>\n",
       "      <td>-</td>\n",
       "      <td>.</td>\n",
       "      <td>85</td>\n",
       "      <td>ENST00000350995</td>\n",
       "      <td>ENSG00000106462</td>\n",
       "      <td>EZH2</td>\n",
       "    </tr>\n",
       "    <tr>\n",
       "      <th>1030976</th>\n",
       "      <td>7</td>\n",
       "      <td>protein_coding</td>\n",
       "      <td>UTR</td>\n",
       "      <td>148544391</td>\n",
       "      <td>148544397</td>\n",
       "      <td>.</td>\n",
       "      <td>-</td>\n",
       "      <td>.</td>\n",
       "      <td>7</td>\n",
       "      <td>ENST00000350995</td>\n",
       "      <td>ENSG00000106462</td>\n",
       "      <td>EZH2</td>\n",
       "    </tr>\n",
       "    <tr>\n",
       "      <th>1030977</th>\n",
       "      <td>7</td>\n",
       "      <td>protein_coding</td>\n",
       "      <td>UTR</td>\n",
       "      <td>148504477</td>\n",
       "      <td>148504737</td>\n",
       "      <td>.</td>\n",
       "      <td>-</td>\n",
       "      <td>.</td>\n",
       "      <td>261</td>\n",
       "      <td>ENST00000350995</td>\n",
       "      <td>ENSG00000106462</td>\n",
       "      <td>EZH2</td>\n",
       "    </tr>\n",
       "    <tr>\n",
       "      <th>1031020</th>\n",
       "      <td>7</td>\n",
       "      <td>protein_coding</td>\n",
       "      <td>UTR</td>\n",
       "      <td>148581256</td>\n",
       "      <td>148581370</td>\n",
       "      <td>.</td>\n",
       "      <td>-</td>\n",
       "      <td>.</td>\n",
       "      <td>115</td>\n",
       "      <td>ENST00000320356</td>\n",
       "      <td>ENSG00000106462</td>\n",
       "      <td>EZH2</td>\n",
       "    </tr>\n",
       "    <tr>\n",
       "      <th>1031021</th>\n",
       "      <td>7</td>\n",
       "      <td>protein_coding</td>\n",
       "      <td>UTR</td>\n",
       "      <td>148544391</td>\n",
       "      <td>148544397</td>\n",
       "      <td>.</td>\n",
       "      <td>-</td>\n",
       "      <td>.</td>\n",
       "      <td>7</td>\n",
       "      <td>ENST00000320356</td>\n",
       "      <td>ENSG00000106462</td>\n",
       "      <td>EZH2</td>\n",
       "    </tr>\n",
       "    <tr>\n",
       "      <th>1031022</th>\n",
       "      <td>7</td>\n",
       "      <td>protein_coding</td>\n",
       "      <td>UTR</td>\n",
       "      <td>148504477</td>\n",
       "      <td>148504737</td>\n",
       "      <td>.</td>\n",
       "      <td>-</td>\n",
       "      <td>.</td>\n",
       "      <td>261</td>\n",
       "      <td>ENST00000320356</td>\n",
       "      <td>ENSG00000106462</td>\n",
       "      <td>EZH2</td>\n",
       "    </tr>\n",
       "    <tr>\n",
       "      <th>1031063</th>\n",
       "      <td>7</td>\n",
       "      <td>protein_coding</td>\n",
       "      <td>UTR</td>\n",
       "      <td>148581256</td>\n",
       "      <td>148581370</td>\n",
       "      <td>.</td>\n",
       "      <td>-</td>\n",
       "      <td>.</td>\n",
       "      <td>115</td>\n",
       "      <td>ENST00000541220</td>\n",
       "      <td>ENSG00000106462</td>\n",
       "      <td>EZH2</td>\n",
       "    </tr>\n",
       "    <tr>\n",
       "      <th>1031064</th>\n",
       "      <td>7</td>\n",
       "      <td>protein_coding</td>\n",
       "      <td>UTR</td>\n",
       "      <td>148544391</td>\n",
       "      <td>148544397</td>\n",
       "      <td>.</td>\n",
       "      <td>-</td>\n",
       "      <td>.</td>\n",
       "      <td>7</td>\n",
       "      <td>ENST00000541220</td>\n",
       "      <td>ENSG00000106462</td>\n",
       "      <td>EZH2</td>\n",
       "    </tr>\n",
       "    <tr>\n",
       "      <th>1031065</th>\n",
       "      <td>7</td>\n",
       "      <td>protein_coding</td>\n",
       "      <td>UTR</td>\n",
       "      <td>148504477</td>\n",
       "      <td>148504737</td>\n",
       "      <td>.</td>\n",
       "      <td>-</td>\n",
       "      <td>.</td>\n",
       "      <td>261</td>\n",
       "      <td>ENST00000541220</td>\n",
       "      <td>ENSG00000106462</td>\n",
       "      <td>EZH2</td>\n",
       "    </tr>\n",
       "    <tr>\n",
       "      <th>1031106</th>\n",
       "      <td>7</td>\n",
       "      <td>protein_coding</td>\n",
       "      <td>UTR</td>\n",
       "      <td>148580289</td>\n",
       "      <td>148580601</td>\n",
       "      <td>.</td>\n",
       "      <td>-</td>\n",
       "      <td>.</td>\n",
       "      <td>313</td>\n",
       "      <td>ENST00000476773</td>\n",
       "      <td>ENSG00000106462</td>\n",
       "      <td>EZH2</td>\n",
       "    </tr>\n",
       "    <tr>\n",
       "      <th>1031107</th>\n",
       "      <td>7</td>\n",
       "      <td>protein_coding</td>\n",
       "      <td>UTR</td>\n",
       "      <td>148544391</td>\n",
       "      <td>148544397</td>\n",
       "      <td>.</td>\n",
       "      <td>-</td>\n",
       "      <td>.</td>\n",
       "      <td>7</td>\n",
       "      <td>ENST00000476773</td>\n",
       "      <td>ENSG00000106462</td>\n",
       "      <td>EZH2</td>\n",
       "    </tr>\n",
       "    <tr>\n",
       "      <th>1031108</th>\n",
       "      <td>7</td>\n",
       "      <td>protein_coding</td>\n",
       "      <td>UTR</td>\n",
       "      <td>148504574</td>\n",
       "      <td>148504737</td>\n",
       "      <td>.</td>\n",
       "      <td>-</td>\n",
       "      <td>.</td>\n",
       "      <td>164</td>\n",
       "      <td>ENST00000476773</td>\n",
       "      <td>ENSG00000106462</td>\n",
       "      <td>EZH2</td>\n",
       "    </tr>\n",
       "    <tr>\n",
       "      <th>1031151</th>\n",
       "      <td>7</td>\n",
       "      <td>protein_coding</td>\n",
       "      <td>UTR</td>\n",
       "      <td>148581256</td>\n",
       "      <td>148581379</td>\n",
       "      <td>.</td>\n",
       "      <td>-</td>\n",
       "      <td>.</td>\n",
       "      <td>124</td>\n",
       "      <td>ENST00000483967</td>\n",
       "      <td>ENSG00000106462</td>\n",
       "      <td>EZH2</td>\n",
       "    </tr>\n",
       "    <tr>\n",
       "      <th>1031152</th>\n",
       "      <td>7</td>\n",
       "      <td>protein_coding</td>\n",
       "      <td>UTR</td>\n",
       "      <td>148544391</td>\n",
       "      <td>148544397</td>\n",
       "      <td>.</td>\n",
       "      <td>-</td>\n",
       "      <td>.</td>\n",
       "      <td>7</td>\n",
       "      <td>ENST00000483967</td>\n",
       "      <td>ENSG00000106462</td>\n",
       "      <td>EZH2</td>\n",
       "    </tr>\n",
       "    <tr>\n",
       "      <th>1031153</th>\n",
       "      <td>7</td>\n",
       "      <td>protein_coding</td>\n",
       "      <td>UTR</td>\n",
       "      <td>148504617</td>\n",
       "      <td>148504737</td>\n",
       "      <td>.</td>\n",
       "      <td>-</td>\n",
       "      <td>.</td>\n",
       "      <td>121</td>\n",
       "      <td>ENST00000483967</td>\n",
       "      <td>ENSG00000106462</td>\n",
       "      <td>EZH2</td>\n",
       "    </tr>\n",
       "    <tr>\n",
       "      <th>1031187</th>\n",
       "      <td>7</td>\n",
       "      <td>nonsense_mediated_decay</td>\n",
       "      <td>UTR</td>\n",
       "      <td>148581256</td>\n",
       "      <td>148581413</td>\n",
       "      <td>.</td>\n",
       "      <td>-</td>\n",
       "      <td>.</td>\n",
       "      <td>158</td>\n",
       "      <td>ENST00000483012</td>\n",
       "      <td>ENSG00000106462</td>\n",
       "      <td>EZH2</td>\n",
       "    </tr>\n",
       "    <tr>\n",
       "      <th>1031188</th>\n",
       "      <td>7</td>\n",
       "      <td>nonsense_mediated_decay</td>\n",
       "      <td>UTR</td>\n",
       "      <td>148544391</td>\n",
       "      <td>148544397</td>\n",
       "      <td>.</td>\n",
       "      <td>-</td>\n",
       "      <td>.</td>\n",
       "      <td>7</td>\n",
       "      <td>ENST00000483012</td>\n",
       "      <td>ENSG00000106462</td>\n",
       "      <td>EZH2</td>\n",
       "    </tr>\n",
       "    <tr>\n",
       "      <th>1031189</th>\n",
       "      <td>7</td>\n",
       "      <td>nonsense_mediated_decay</td>\n",
       "      <td>UTR</td>\n",
       "      <td>148529726</td>\n",
       "      <td>148529832</td>\n",
       "      <td>.</td>\n",
       "      <td>-</td>\n",
       "      <td>.</td>\n",
       "      <td>107</td>\n",
       "      <td>ENST00000483012</td>\n",
       "      <td>ENSG00000106462</td>\n",
       "      <td>EZH2</td>\n",
       "    </tr>\n",
       "    <tr>\n",
       "      <th>1031190</th>\n",
       "      <td>7</td>\n",
       "      <td>nonsense_mediated_decay</td>\n",
       "      <td>UTR</td>\n",
       "      <td>148526820</td>\n",
       "      <td>148526940</td>\n",
       "      <td>.</td>\n",
       "      <td>-</td>\n",
       "      <td>.</td>\n",
       "      <td>121</td>\n",
       "      <td>ENST00000483012</td>\n",
       "      <td>ENSG00000106462</td>\n",
       "      <td>EZH2</td>\n",
       "    </tr>\n",
       "    <tr>\n",
       "      <th>1031191</th>\n",
       "      <td>7</td>\n",
       "      <td>nonsense_mediated_decay</td>\n",
       "      <td>UTR</td>\n",
       "      <td>148525832</td>\n",
       "      <td>148525972</td>\n",
       "      <td>.</td>\n",
       "      <td>-</td>\n",
       "      <td>.</td>\n",
       "      <td>141</td>\n",
       "      <td>ENST00000483012</td>\n",
       "      <td>ENSG00000106462</td>\n",
       "      <td>EZH2</td>\n",
       "    </tr>\n",
       "    <tr>\n",
       "      <th>1031192</th>\n",
       "      <td>7</td>\n",
       "      <td>nonsense_mediated_decay</td>\n",
       "      <td>UTR</td>\n",
       "      <td>148524256</td>\n",
       "      <td>148524358</td>\n",
       "      <td>.</td>\n",
       "      <td>-</td>\n",
       "      <td>.</td>\n",
       "      <td>103</td>\n",
       "      <td>ENST00000483012</td>\n",
       "      <td>ENSG00000106462</td>\n",
       "      <td>EZH2</td>\n",
       "    </tr>\n",
       "    <tr>\n",
       "      <th>1031193</th>\n",
       "      <td>7</td>\n",
       "      <td>nonsense_mediated_decay</td>\n",
       "      <td>UTR</td>\n",
       "      <td>148523561</td>\n",
       "      <td>148523724</td>\n",
       "      <td>.</td>\n",
       "      <td>-</td>\n",
       "      <td>.</td>\n",
       "      <td>164</td>\n",
       "      <td>ENST00000483012</td>\n",
       "      <td>ENSG00000106462</td>\n",
       "      <td>EZH2</td>\n",
       "    </tr>\n",
       "    <tr>\n",
       "      <th>1031194</th>\n",
       "      <td>7</td>\n",
       "      <td>nonsense_mediated_decay</td>\n",
       "      <td>UTR</td>\n",
       "      <td>148516688</td>\n",
       "      <td>148516779</td>\n",
       "      <td>.</td>\n",
       "      <td>-</td>\n",
       "      <td>.</td>\n",
       "      <td>92</td>\n",
       "      <td>ENST00000483012</td>\n",
       "      <td>ENSG00000106462</td>\n",
       "      <td>EZH2</td>\n",
       "    </tr>\n",
       "    <tr>\n",
       "      <th>1031195</th>\n",
       "      <td>7</td>\n",
       "      <td>nonsense_mediated_decay</td>\n",
       "      <td>UTR</td>\n",
       "      <td>148516070</td>\n",
       "      <td>148516151</td>\n",
       "      <td>.</td>\n",
       "      <td>-</td>\n",
       "      <td>.</td>\n",
       "      <td>82</td>\n",
       "      <td>ENST00000483012</td>\n",
       "      <td>ENSG00000106462</td>\n",
       "      <td>EZH2</td>\n",
       "    </tr>\n",
       "    <tr>\n",
       "      <th>1031196</th>\n",
       "      <td>7</td>\n",
       "      <td>nonsense_mediated_decay</td>\n",
       "      <td>UTR</td>\n",
       "      <td>148515129</td>\n",
       "      <td>148515209</td>\n",
       "      <td>.</td>\n",
       "      <td>-</td>\n",
       "      <td>.</td>\n",
       "      <td>81</td>\n",
       "      <td>ENST00000483012</td>\n",
       "      <td>ENSG00000106462</td>\n",
       "      <td>EZH2</td>\n",
       "    </tr>\n",
       "    <tr>\n",
       "      <th>1031219</th>\n",
       "      <td>7</td>\n",
       "      <td>protein_coding</td>\n",
       "      <td>UTR</td>\n",
       "      <td>148581256</td>\n",
       "      <td>148581413</td>\n",
       "      <td>.</td>\n",
       "      <td>-</td>\n",
       "      <td>.</td>\n",
       "      <td>158</td>\n",
       "      <td>ENST00000536783</td>\n",
       "      <td>ENSG00000106462</td>\n",
       "      <td>EZH2</td>\n",
       "    </tr>\n",
       "    <tr>\n",
       "      <th>1031220</th>\n",
       "      <td>7</td>\n",
       "      <td>protein_coding</td>\n",
       "      <td>UTR</td>\n",
       "      <td>148544274</td>\n",
       "      <td>148544397</td>\n",
       "      <td>.</td>\n",
       "      <td>-</td>\n",
       "      <td>.</td>\n",
       "      <td>124</td>\n",
       "      <td>ENST00000536783</td>\n",
       "      <td>ENSG00000106462</td>\n",
       "      <td>EZH2</td>\n",
       "    </tr>\n",
       "    <tr>\n",
       "      <th>1031221</th>\n",
       "      <td>7</td>\n",
       "      <td>protein_coding</td>\n",
       "      <td>UTR</td>\n",
       "      <td>148543562</td>\n",
       "      <td>148543690</td>\n",
       "      <td>.</td>\n",
       "      <td>-</td>\n",
       "      <td>.</td>\n",
       "      <td>129</td>\n",
       "      <td>ENST00000536783</td>\n",
       "      <td>ENSG00000106462</td>\n",
       "      <td>EZH2</td>\n",
       "    </tr>\n",
       "    <tr>\n",
       "      <th>1031222</th>\n",
       "      <td>7</td>\n",
       "      <td>protein_coding</td>\n",
       "      <td>UTR</td>\n",
       "      <td>148533914</td>\n",
       "      <td>148534092</td>\n",
       "      <td>.</td>\n",
       "      <td>-</td>\n",
       "      <td>.</td>\n",
       "      <td>179</td>\n",
       "      <td>ENST00000536783</td>\n",
       "      <td>ENSG00000106462</td>\n",
       "      <td>EZH2</td>\n",
       "    </tr>\n",
       "    <tr>\n",
       "      <th>1031223</th>\n",
       "      <td>7</td>\n",
       "      <td>protein_coding</td>\n",
       "      <td>UTR</td>\n",
       "      <td>148529762</td>\n",
       "      <td>148529842</td>\n",
       "      <td>.</td>\n",
       "      <td>-</td>\n",
       "      <td>.</td>\n",
       "      <td>81</td>\n",
       "      <td>ENST00000536783</td>\n",
       "      <td>ENSG00000106462</td>\n",
       "      <td>EZH2</td>\n",
       "    </tr>\n",
       "    <tr>\n",
       "      <th>1031224</th>\n",
       "      <td>7</td>\n",
       "      <td>protein_coding</td>\n",
       "      <td>UTR</td>\n",
       "      <td>148516070</td>\n",
       "      <td>148516130</td>\n",
       "      <td>.</td>\n",
       "      <td>-</td>\n",
       "      <td>.</td>\n",
       "      <td>61</td>\n",
       "      <td>ENST00000536783</td>\n",
       "      <td>ENSG00000106462</td>\n",
       "      <td>EZH2</td>\n",
       "    </tr>\n",
       "    <tr>\n",
       "      <th>1031225</th>\n",
       "      <td>7</td>\n",
       "      <td>protein_coding</td>\n",
       "      <td>UTR</td>\n",
       "      <td>148515129</td>\n",
       "      <td>148515209</td>\n",
       "      <td>.</td>\n",
       "      <td>-</td>\n",
       "      <td>.</td>\n",
       "      <td>81</td>\n",
       "      <td>ENST00000536783</td>\n",
       "      <td>ENSG00000106462</td>\n",
       "      <td>EZH2</td>\n",
       "    </tr>\n",
       "  </tbody>\n",
       "</table>\n",
       "</div>"
      ],
      "text/plain": [
       "        seqname                   source feature      start        end score strand frame   len    transcript_id          gene_id gene_name\n",
       "1030833       7  nonsense_mediated_decay     UTR  148581256  148581375     .      -     .   120  ENST00000492143  ENSG00000106462      EZH2\n",
       "1030834       7  nonsense_mediated_decay     UTR  148544391  148544397     .      -     .     7  ENST00000492143  ENSG00000106462      EZH2\n",
       "1030835       7  nonsense_mediated_decay     UTR  148516070  148516130     .      -     .    61  ENST00000492143  ENSG00000106462      EZH2\n",
       "1030836       7  nonsense_mediated_decay     UTR  148513776  148515209     .      -     .  1434  ENST00000492143  ENSG00000106462      EZH2\n",
       "1030837       7  nonsense_mediated_decay     UTR  148512598  148512638     .      -     .    41  ENST00000492143  ENSG00000106462      EZH2\n",
       "1030838       7  nonsense_mediated_decay     UTR  148512006  148512131     .      -     .   126  ENST00000492143  ENSG00000106462      EZH2\n",
       "1030839       7  nonsense_mediated_decay     UTR  148511051  148511229     .      -     .   179  ENST00000492143  ENSG00000106462      EZH2\n",
       "1030840       7  nonsense_mediated_decay     UTR  148508717  148508812     .      -     .    96  ENST00000492143  ENSG00000106462      EZH2\n",
       "1030841       7  nonsense_mediated_decay     UTR  148507425  148507506     .      -     .    82  ENST00000492143  ENSG00000106462      EZH2\n",
       "1030842       7  nonsense_mediated_decay     UTR  148506402  148506482     .      -     .    81  ENST00000492143  ENSG00000106462      EZH2\n",
       "1030843       7  nonsense_mediated_decay     UTR  148506163  148506247     .      -     .    85  ENST00000492143  ENSG00000106462      EZH2\n",
       "1030844       7  nonsense_mediated_decay     UTR  148504475  148504798     .      -     .   324  ENST00000492143  ENSG00000106462      EZH2\n",
       "1030886       7           protein_coding     UTR  148581152  148581251     .      -     .   100  ENST00000478654  ENSG00000106462      EZH2\n",
       "1030887       7           protein_coding     UTR  148580289  148580353     .      -     .    65  ENST00000478654  ENSG00000106462      EZH2\n",
       "1030888       7           protein_coding     UTR  148544391  148544397     .      -     .     7  ENST00000478654  ENSG00000106462      EZH2\n",
       "1030889       7           protein_coding     UTR  148504476  148504737     .      -     .   262  ENST00000478654  ENSG00000106462      EZH2\n",
       "1030932       7           protein_coding     UTR  148581256  148581337     .      -     .    82  ENST00000460911  ENSG00000106462      EZH2\n",
       "1030933       7           protein_coding     UTR  148544391  148544397     .      -     .     7  ENST00000460911  ENSG00000106462      EZH2\n",
       "1030934       7           protein_coding     UTR  148504477  148504737     .      -     .   261  ENST00000460911  ENSG00000106462      EZH2\n",
       "1030975       7           protein_coding     UTR  148581256  148581340     .      -     .    85  ENST00000350995  ENSG00000106462      EZH2\n",
       "1030976       7           protein_coding     UTR  148544391  148544397     .      -     .     7  ENST00000350995  ENSG00000106462      EZH2\n",
       "1030977       7           protein_coding     UTR  148504477  148504737     .      -     .   261  ENST00000350995  ENSG00000106462      EZH2\n",
       "1031020       7           protein_coding     UTR  148581256  148581370     .      -     .   115  ENST00000320356  ENSG00000106462      EZH2\n",
       "1031021       7           protein_coding     UTR  148544391  148544397     .      -     .     7  ENST00000320356  ENSG00000106462      EZH2\n",
       "1031022       7           protein_coding     UTR  148504477  148504737     .      -     .   261  ENST00000320356  ENSG00000106462      EZH2\n",
       "1031063       7           protein_coding     UTR  148581256  148581370     .      -     .   115  ENST00000541220  ENSG00000106462      EZH2\n",
       "1031064       7           protein_coding     UTR  148544391  148544397     .      -     .     7  ENST00000541220  ENSG00000106462      EZH2\n",
       "1031065       7           protein_coding     UTR  148504477  148504737     .      -     .   261  ENST00000541220  ENSG00000106462      EZH2\n",
       "1031106       7           protein_coding     UTR  148580289  148580601     .      -     .   313  ENST00000476773  ENSG00000106462      EZH2\n",
       "1031107       7           protein_coding     UTR  148544391  148544397     .      -     .     7  ENST00000476773  ENSG00000106462      EZH2\n",
       "1031108       7           protein_coding     UTR  148504574  148504737     .      -     .   164  ENST00000476773  ENSG00000106462      EZH2\n",
       "1031151       7           protein_coding     UTR  148581256  148581379     .      -     .   124  ENST00000483967  ENSG00000106462      EZH2\n",
       "1031152       7           protein_coding     UTR  148544391  148544397     .      -     .     7  ENST00000483967  ENSG00000106462      EZH2\n",
       "1031153       7           protein_coding     UTR  148504617  148504737     .      -     .   121  ENST00000483967  ENSG00000106462      EZH2\n",
       "1031187       7  nonsense_mediated_decay     UTR  148581256  148581413     .      -     .   158  ENST00000483012  ENSG00000106462      EZH2\n",
       "1031188       7  nonsense_mediated_decay     UTR  148544391  148544397     .      -     .     7  ENST00000483012  ENSG00000106462      EZH2\n",
       "1031189       7  nonsense_mediated_decay     UTR  148529726  148529832     .      -     .   107  ENST00000483012  ENSG00000106462      EZH2\n",
       "1031190       7  nonsense_mediated_decay     UTR  148526820  148526940     .      -     .   121  ENST00000483012  ENSG00000106462      EZH2\n",
       "1031191       7  nonsense_mediated_decay     UTR  148525832  148525972     .      -     .   141  ENST00000483012  ENSG00000106462      EZH2\n",
       "1031192       7  nonsense_mediated_decay     UTR  148524256  148524358     .      -     .   103  ENST00000483012  ENSG00000106462      EZH2\n",
       "1031193       7  nonsense_mediated_decay     UTR  148523561  148523724     .      -     .   164  ENST00000483012  ENSG00000106462      EZH2\n",
       "1031194       7  nonsense_mediated_decay     UTR  148516688  148516779     .      -     .    92  ENST00000483012  ENSG00000106462      EZH2\n",
       "1031195       7  nonsense_mediated_decay     UTR  148516070  148516151     .      -     .    82  ENST00000483012  ENSG00000106462      EZH2\n",
       "1031196       7  nonsense_mediated_decay     UTR  148515129  148515209     .      -     .    81  ENST00000483012  ENSG00000106462      EZH2\n",
       "1031219       7           protein_coding     UTR  148581256  148581413     .      -     .   158  ENST00000536783  ENSG00000106462      EZH2\n",
       "1031220       7           protein_coding     UTR  148544274  148544397     .      -     .   124  ENST00000536783  ENSG00000106462      EZH2\n",
       "1031221       7           protein_coding     UTR  148543562  148543690     .      -     .   129  ENST00000536783  ENSG00000106462      EZH2\n",
       "1031222       7           protein_coding     UTR  148533914  148534092     .      -     .   179  ENST00000536783  ENSG00000106462      EZH2\n",
       "1031223       7           protein_coding     UTR  148529762  148529842     .      -     .    81  ENST00000536783  ENSG00000106462      EZH2\n",
       "1031224       7           protein_coding     UTR  148516070  148516130     .      -     .    61  ENST00000536783  ENSG00000106462      EZH2\n",
       "1031225       7           protein_coding     UTR  148515129  148515209     .      -     .    81  ENST00000536783  ENSG00000106462      EZH2"
      ]
     },
     "execution_count": 102,
     "metadata": {},
     "output_type": "execute_result"
    }
   ],
   "source": [
    "target_ndf.query('feature == \"UTR\"').query('gene_name == \"{0}\"'.format(current_gene))"
   ]
  },
  {
   "cell_type": "code",
   "execution_count": null,
   "metadata": {
    "collapsed": true
   },
   "outputs": [],
   "source": []
  },
  {
   "cell_type": "code",
   "execution_count": null,
   "metadata": {
    "collapsed": true
   },
   "outputs": [],
   "source": []
  },
  {
   "cell_type": "code",
   "execution_count": null,
   "metadata": {
    "collapsed": true
   },
   "outputs": [],
   "source": []
  },
  {
   "cell_type": "code",
   "execution_count": null,
   "metadata": {
    "collapsed": true
   },
   "outputs": [],
   "source": []
  },
  {
   "cell_type": "markdown",
   "metadata": {},
   "source": [
    "### Trying to disambiguate belongings of clv sites for FGFR3, MITF, EZH2, CDKN2A"
   ]
  },
  {
   "cell_type": "code",
   "execution_count": 103,
   "metadata": {
    "collapsed": true
   },
   "outputs": [],
   "source": [
    "# target_ndf.feature.value_counts()\n",
    "\n",
    "\n",
    "\n",
    "# kleat_detected_sites = {\n",
    "#     'FGFR3': [1810582, 1810607],\n",
    "#     'MITF': [70014710, 70014730, 70014790, 70014809, 70014827, 70014966, 70014986, 70015171, 70015190, 70017471, 70017488, 70017505],\n",
    "# #     'EZH2': [148504461, 148504484, 148504566, 148504586, 148504605, 148504625, 148515120, 148515140]\n",
    "#     'EZH2': [148504484, 148504566, 148515140],\n",
    "#     'CDKN2A': [21967741, 21967765, 21967979, 21968003, 21968040, 21968060, 21968095, 21968115, 21968169, 21968190, 21969556, 21969578, 21970706, 21970725]\n",
    "# }\n",
    "\n",
    "# cols_to_drop = ['source', 'feature', 'score', 'frame']\n",
    "# genes = kleat_detected_sites.keys()\n",
    "# df_tr = target_ndf.query('feature == \"transcript\"').query('gene_name in {0}'.format(genes)).drop(cols_to_drop, axis=1)\n",
    "# df_st = target_ndf.query('feature == \"utr_end\"').query('gene_name in {0}'.format(genes)).drop(cols_to_drop, axis=1)\n",
    "# df_trst = df_tr.merge(df_st, on=['seqname', 'gene_name', 'gene_id', 'strand', 'transcript_id'], suffixes=['_transcript', '_utr_end'])\n",
    "\n",
    "# transcripts_assignment = []\n",
    "# for key, grp in df_trst.groupby(['gene_name']):\n",
    "#     gene_name = key\n",
    "#     for site in kleat_detected_sites[gene_name]:\n",
    "#         if grp.strand.unique()[0] == '+':\n",
    "#             tid = grp.loc[np.argmin(np.abs(grp['end_transcript'] - site + 1))].transcript_id\n",
    "#         else:\n",
    "#             tid = grp.loc[np.argmin(np.abs(site - grp['start_transcript'] + 1))].transcript_id\n",
    "#         transcripts_assignment.append((gene_name, tid, site))\n",
    "\n",
    "# assigned = pd.DataFrame(transcripts_assignment, columns=['gene_name', 'transcript_id', 'clv_site'])\n",
    "\n",
    "# assigned.shape\n",
    "\n",
    "# merged = assigned.merge(df_trst, on=['gene_name', 'transcript_id'])\n",
    "\n",
    "# def calc_utr_len(row):\n",
    "#     if row.strand == '+':\n",
    "#         return row.clv_site - row.end_utr_end + 1\n",
    "#     else:\n",
    "#         return row.start_utr_end - row.clv_site + 1\n",
    "\n",
    "# merged['utr_len'] = merged.apply(calc_utr_len, axis=1)\n",
    "\n",
    "# merged[['gene_name', 'clv_site', 'utr_len']].sort_values('clv_site')"
   ]
  },
  {
   "cell_type": "code",
   "execution_count": null,
   "metadata": {
    "collapsed": true
   },
   "outputs": [],
   "source": []
  },
  {
   "cell_type": "code",
   "execution_count": null,
   "metadata": {
    "collapsed": true
   },
   "outputs": [],
   "source": []
  },
  {
   "cell_type": "code",
   "execution_count": null,
   "metadata": {
    "collapsed": true
   },
   "outputs": [],
   "source": []
  },
  {
   "cell_type": "code",
   "execution_count": 104,
   "metadata": {
    "collapsed": false
   },
   "outputs": [],
   "source": [
    "# candidate_transcripts = []\n",
    "# for start in start_vals:\n",
    "#     _df = target_ndf[target_ndf.transcript_id.isin(target_ndf.query('feature == \"utr_end\"').query('start == {0}'.format(start)).transcript_id.values)].query('feature == \"transcript\"')\n",
    "#     dd = _df.loc[_df.end.argmax()][['transcript_id', 'start', 'end']].to_dict()\n",
    "#     dd.update({'start_of_utr_end': start})\n",
    "#     candidate_transcripts.append(dd)\n",
    "# candidate_transcripts\n",
    "\n",
    "\n",
    "\n",
    "# curr_gene = 'CDKN2A'\n",
    "\n",
    "# detected_sites = kleat_detected_sites[curr_gene]\n",
    "\n",
    "# start_vals = utr_ends_df.query('gene_name == \"{0}\"'.format(curr_gene)).start.values[0]\n",
    "# start_vals\n",
    "\n",
    "# candidate_transcripts = []\n",
    "# for start in start_vals:\n",
    "#     _df = target_ndf[target_ndf.transcript_id.isin(target_ndf.query('feature == \"utr_end\"').query('start == {0}'.format(start)).transcript_id.values)].query('feature == \"transcript\"')\n",
    "#     dd = _df.loc[_df.end.argmax()][['transcript_id', 'start', 'end']].to_dict()\n",
    "#     dd.update({'start_of_utr_end': start})\n",
    "#     candidate_transcripts.append(dd)\n",
    "# candidate_transcripts\n",
    "\n",
    "# for site in detected_sites:\n",
    "#     print(site),\n",
    "#     for trpt in candidate_transcripts:\n",
    "#         # deuau: dist to end of annotated UTR\n",
    "# #         print('UTR len: {0}, deuau: {1}'.format(site - trpt['start_of_utr_end'], trpt['end'] - site)), '\\t',\n",
    "#         print('UTR len: {0}, deuau: {1}'.format(site - trpt['start_of_utr_end'], trpt['start'] - site)), '\\t',\n",
    "#     print"
   ]
  },
  {
   "cell_type": "code",
   "execution_count": null,
   "metadata": {
    "collapsed": true
   },
   "outputs": [],
   "source": []
  },
  {
   "cell_type": "code",
   "execution_count": null,
   "metadata": {
    "collapsed": true
   },
   "outputs": [],
   "source": []
  },
  {
   "cell_type": "code",
   "execution_count": 105,
   "metadata": {
    "collapsed": true
   },
   "outputs": [],
   "source": [
    "# # curr_gene = 'FGFR3'\n",
    "# curr_gene = 'MITF'\n",
    "\n",
    "# detected_sites = kleat_detected_sites[curr_gene]\n",
    "\n",
    "# start_vals = utr_ends_df.query('gene_name == \"{0}\"'.format(curr_gene)).start.values[0]\n",
    "# start_vals\n",
    "\n",
    "# candidate_transcripts = []\n",
    "# for start in start_vals:\n",
    "#     _df = target_ndf[target_ndf.transcript_id.isin(target_ndf.query('feature == \"utr_end\"').query('start == {0}'.format(start)).transcript_id.values)].query('feature == \"transcript\"')\n",
    "#     dd = _df.loc[_df.end.argmax()][['transcript_id', 'end']].to_dict()\n",
    "#     dd.update({'start_of_utr_end': start})\n",
    "#     candidate_transcripts.append(dd)\n",
    "# candidate_transcripts\n",
    "\n",
    "# 70014397 - 69990392\n",
    "\n",
    "# for site in detected_sites:\n",
    "#     for trpt in candidate_transcripts:\n",
    "#         # deuau: dist to end of annotated UTR\n",
    "#         print('CS: {0}, UTR len: {1}, deuau: {2}'.format(site, site - trpt['start_of_utr_end'], trpt['end'] - site)), '\\t',\n",
    "#     print"
   ]
  },
  {
   "cell_type": "code",
   "execution_count": null,
   "metadata": {
    "collapsed": true
   },
   "outputs": [],
   "source": []
  },
  {
   "cell_type": "code",
   "execution_count": null,
   "metadata": {
    "collapsed": true
   },
   "outputs": [],
   "source": []
  },
  {
   "cell_type": "code",
   "execution_count": null,
   "metadata": {
    "collapsed": true
   },
   "outputs": [],
   "source": []
  },
  {
   "cell_type": "code",
   "execution_count": null,
   "metadata": {
    "collapsed": true
   },
   "outputs": [],
   "source": []
  }
 ],
 "metadata": {
  "anaconda-cloud": {},
  "kernelspec": {
   "display_name": "Python [default]",
   "language": "python",
   "name": "python2"
  },
  "language_info": {
   "codemirror_mode": {
    "name": "ipython",
    "version": 2
   },
   "file_extension": ".py",
   "mimetype": "text/x-python",
   "name": "python",
   "nbconvert_exporter": "python",
   "pygments_lexer": "ipython2",
   "version": "2.7.12"
  }
 },
 "nbformat": 4,
 "nbformat_minor": 1
}
