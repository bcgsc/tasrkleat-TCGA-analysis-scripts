{
 "cells": [
  {
   "cell_type": "code",
   "execution_count": 1,
   "metadata": {
    "collapsed": false
   },
   "outputs": [],
   "source": [
    "#!/usr/bin/env python\n",
    "\n",
    "import sys\n",
    "import re\n",
    "import itertools\n",
    "import datetime\n",
    "\n",
    "import pandas as pd\n",
    "pd.set_option('display.max_columns', 250)\n",
    "import numpy as np\n",
    "\n",
    "import matplotlib\n",
    "import matplotlib.pyplot as plt\n",
    "import matplotlib.cm as cm\n",
    "from mpl_toolkits.mplot3d import Axes3D\n",
    "matplotlib.style.use('ggplot')\n",
    "%matplotlib inline\n",
    "matplotlib.rcParams['figure.figsize'] = (16, 9)\n",
    "\n",
    "from IPython.display import display\n",
    "\n",
    "import pysam"
   ]
  },
  {
   "cell_type": "code",
   "execution_count": 2,
   "metadata": {
    "collapsed": false
   },
   "outputs": [
    {
     "name": "stdout",
     "output_type": "stream",
     "text": [
      "2017-08-18 15:31:34.391582\n"
     ]
    }
   ],
   "source": [
    "print(datetime.datetime.today())"
   ]
  },
  {
   "cell_type": "code",
   "execution_count": 3,
   "metadata": {
    "collapsed": false
   },
   "outputs": [],
   "source": [
    "from extract_targets import extract_info"
   ]
  },
  {
   "cell_type": "code",
   "execution_count": 4,
   "metadata": {
    "collapsed": true
   },
   "outputs": [],
   "source": [
    "gtf = 'reference/Homo_sapiens.GRCh37.75.gtf'"
   ]
  },
  {
   "cell_type": "code",
   "execution_count": 5,
   "metadata": {
    "collapsed": false
   },
   "outputs": [
    {
     "name": "stdout",
     "output_type": "stream",
     "text": [
      "reading reference/Homo_sapiens.GRCh37.75.gtf...\n"
     ]
    }
   ],
   "source": [
    "# http://uswest.ensembl.org/info/website/upload/gff.html\n",
    "names = ['seqname', 'source', 'feature', 'start', 'end', 'score', 'strand', 'frame', 'attribute']\n",
    "# adf: annotation df\n",
    "print('reading {0}...'.format(gtf))\n",
    "df = pd.read_csv(gtf, header=None, sep='\\t', comment='#', low_memory=False, names=names)"
   ]
  },
  {
   "cell_type": "code",
   "execution_count": 6,
   "metadata": {
    "collapsed": false
   },
   "outputs": [
    {
     "name": "stdout",
     "output_type": "stream",
     "text": [
      "extracting length...\n",
      "extracting transcript id...\n",
      "extracting gene id...\n",
      "extracting gene name...\n"
     ]
    }
   ],
   "source": [
    "extract_info(df)"
   ]
  },
  {
   "cell_type": "markdown",
   "metadata": {},
   "source": [
    "# Count stop codons per gene"
   ]
  },
  {
   "cell_type": "code",
   "execution_count": 7,
   "metadata": {
    "collapsed": false
   },
   "outputs": [],
   "source": [
    "sc_count = df.query('source == \"protein_coding\"').groupby('gene_name').apply(lambda g: g.query('feature == \"stop_codon\"').shape[0])"
   ]
  },
  {
   "cell_type": "code",
   "execution_count": 8,
   "metadata": {
    "collapsed": false
   },
   "outputs": [
    {
     "data": {
      "text/plain": [
       "gene_name\n",
       "A1BG       1\n",
       "A1CF       7\n",
       "A2M        1\n",
       "A2ML1      2\n",
       "A3GALT2    2\n",
       "dtype: int64"
      ]
     },
     "execution_count": 8,
     "metadata": {},
     "output_type": "execute_result"
    }
   ],
   "source": [
    "sc_count.head()"
   ]
  },
  {
   "cell_type": "code",
   "execution_count": 9,
   "metadata": {
    "collapsed": false
   },
   "outputs": [
    {
     "data": {
      "text/plain": [
       "0.6791048406713694"
      ]
     },
     "execution_count": 9,
     "metadata": {},
     "output_type": "execute_result"
    }
   ],
   "source": [
    "sc_count[sc_count > 1].shape[0] / float(sc_count.shape[0])"
   ]
  },
  {
   "cell_type": "markdown",
   "metadata": {
    "collapsed": true
   },
   "source": [
    "about 68% of genes have multiple stop codons"
   ]
  },
  {
   "cell_type": "markdown",
   "metadata": {},
   "source": [
    "# % of protein coding genes over whole genome"
   ]
  },
  {
   "cell_type": "code",
   "execution_count": 12,
   "metadata": {
    "collapsed": true
   },
   "outputs": [],
   "source": [
    "protein_coding_length = df.query('source == \"protein_coding\"').query('feature == \"gene\"')['len'].sum()"
   ]
  },
  {
   "cell_type": "code",
   "execution_count": 13,
   "metadata": {
    "collapsed": false
   },
   "outputs": [
    {
     "data": {
      "text/plain": [
       "1395707084"
      ]
     },
     "execution_count": 13,
     "metadata": {},
     "output_type": "execute_result"
    }
   ],
   "source": [
    "protein_coding_length"
   ]
  },
  {
   "cell_type": "code",
   "execution_count": 14,
   "metadata": {
    "collapsed": false
   },
   "outputs": [
    {
     "data": {
      "text/plain": [
       "0.46523569466666664"
      ]
     },
     "execution_count": 14,
     "metadata": {},
     "output_type": "execute_result"
    }
   ],
   "source": [
    "protein_coding_length / 3e9"
   ]
  },
  {
   "cell_type": "code",
   "execution_count": 15,
   "metadata": {
    "collapsed": true
   },
   "outputs": [],
   "source": [
    "protein_coding_exon_length = df.query('source == \"protein_coding\"').query('feature == \"exon\"')['len'].sum()"
   ]
  },
  {
   "cell_type": "code",
   "execution_count": 16,
   "metadata": {
    "collapsed": false
   },
   "outputs": [
    {
     "data": {
      "text/plain": [
       "192167710"
      ]
     },
     "execution_count": 16,
     "metadata": {},
     "output_type": "execute_result"
    }
   ],
   "source": [
    "protein_coding_exon_length"
   ]
  },
  {
   "cell_type": "code",
   "execution_count": 17,
   "metadata": {
    "collapsed": false
   },
   "outputs": [
    {
     "data": {
      "text/plain": [
       "0.064055903333333331"
      ]
     },
     "execution_count": 17,
     "metadata": {},
     "output_type": "execute_result"
    }
   ],
   "source": [
    "protein_coding_exon_length / 3e9"
   ]
  },
  {
   "cell_type": "markdown",
   "metadata": {},
   "source": [
    "This number includes repeated count of multiple transcripts per gene"
   ]
  },
  {
   "cell_type": "code",
   "execution_count": 19,
   "metadata": {
    "collapsed": true
   },
   "outputs": [],
   "source": [
    "beg_end_pairs = df.query('source == \"protein_coding\"').query('feature == \"exon\"')[['start', 'end']].values"
   ]
  },
  {
   "cell_type": "code",
   "execution_count": 31,
   "metadata": {
    "collapsed": false
   },
   "outputs": [],
   "source": [
    "bases = set([])\n",
    "for pair in beg_end_pairs:\n",
    "    bases.update(np.arange(pair[0], pair[1]))"
   ]
  },
  {
   "cell_type": "code",
   "execution_count": 33,
   "metadata": {
    "collapsed": false
   },
   "outputs": [
    {
     "data": {
      "text/plain": [
       "0.021202568"
      ]
     },
     "execution_count": 33,
     "metadata": {},
     "output_type": "execute_result"
    }
   ],
   "source": [
    "len(bases) / 3e9"
   ]
  },
  {
   "cell_type": "markdown",
   "metadata": {},
   "source": [
    "Based on this calculation, it's about 2% of the genome that's protein-coding, NOT including introns"
   ]
  },
  {
   "cell_type": "code",
   "execution_count": null,
   "metadata": {
    "collapsed": true
   },
   "outputs": [],
   "source": []
  },
  {
   "cell_type": "code",
   "execution_count": null,
   "metadata": {
    "collapsed": true
   },
   "outputs": [],
   "source": []
  },
  {
   "cell_type": "markdown",
   "metadata": {},
   "source": [
    "# See overlaps among genes"
   ]
  },
  {
   "cell_type": "code",
   "execution_count": 122,
   "metadata": {
    "collapsed": true
   },
   "outputs": [],
   "source": [
    "chrs = list(map(str, range(1, 23))) + ['X', 'Y', 'MT']"
   ]
  },
  {
   "cell_type": "code",
   "execution_count": 123,
   "metadata": {
    "collapsed": false
   },
   "outputs": [],
   "source": [
    "subdf = df.query('seqname in {0}'.format(chrs)).query('source in [\"protein_coding\", \"nonsense_mediated_decay\"]').query('feature == \"gene\"').copy()"
   ]
  },
  {
   "cell_type": "code",
   "execution_count": 124,
   "metadata": {
    "collapsed": false
   },
   "outputs": [
    {
     "data": {
      "text/plain": [
       "(20327, 12)"
      ]
     },
     "execution_count": 124,
     "metadata": {},
     "output_type": "execute_result"
    }
   ],
   "source": [
    "subdf.shape"
   ]
  },
  {
   "cell_type": "code",
   "execution_count": 125,
   "metadata": {
    "collapsed": false
   },
   "outputs": [
    {
     "data": {
      "text/html": [
       "<div>\n",
       "<table border=\"1\" class=\"dataframe\">\n",
       "  <thead>\n",
       "    <tr style=\"text-align: right;\">\n",
       "      <th></th>\n",
       "      <th>seqname</th>\n",
       "      <th>source</th>\n",
       "      <th>feature</th>\n",
       "      <th>start</th>\n",
       "      <th>end</th>\n",
       "      <th>score</th>\n",
       "      <th>strand</th>\n",
       "      <th>frame</th>\n",
       "      <th>len</th>\n",
       "      <th>transcript_id</th>\n",
       "      <th>gene_id</th>\n",
       "      <th>gene_name</th>\n",
       "    </tr>\n",
       "  </thead>\n",
       "  <tbody>\n",
       "    <tr>\n",
       "      <th>109</th>\n",
       "      <td>1</td>\n",
       "      <td>protein_coding</td>\n",
       "      <td>gene</td>\n",
       "      <td>69091</td>\n",
       "      <td>70008</td>\n",
       "      <td>.</td>\n",
       "      <td>+</td>\n",
       "      <td>.</td>\n",
       "      <td>918</td>\n",
       "      <td></td>\n",
       "      <td>ENSG00000186092</td>\n",
       "      <td>OR4F5</td>\n",
       "    </tr>\n",
       "    <tr>\n",
       "      <th>140</th>\n",
       "      <td>1</td>\n",
       "      <td>protein_coding</td>\n",
       "      <td>gene</td>\n",
       "      <td>134901</td>\n",
       "      <td>139379</td>\n",
       "      <td>.</td>\n",
       "      <td>-</td>\n",
       "      <td>.</td>\n",
       "      <td>4479</td>\n",
       "      <td></td>\n",
       "      <td>ENSG00000237683</td>\n",
       "      <td>AL627309.1</td>\n",
       "    </tr>\n",
       "  </tbody>\n",
       "</table>\n",
       "</div>"
      ],
      "text/plain": [
       "    seqname          source feature   start     end score strand frame   len transcript_id          gene_id   gene_name\n",
       "109       1  protein_coding    gene   69091   70008     .      +     .   918                ENSG00000186092       OR4F5\n",
       "140       1  protein_coding    gene  134901  139379     .      -     .  4479                ENSG00000237683  AL627309.1"
      ]
     },
     "execution_count": 125,
     "metadata": {},
     "output_type": "execute_result"
    }
   ],
   "source": [
    "subdf.head(2)"
   ]
  },
  {
   "cell_type": "code",
   "execution_count": 126,
   "metadata": {
    "collapsed": false
   },
   "outputs": [
    {
     "data": {
      "text/html": [
       "<div>\n",
       "<table border=\"1\" class=\"dataframe\">\n",
       "  <thead>\n",
       "    <tr style=\"text-align: right;\">\n",
       "      <th>seqname</th>\n",
       "      <th>1</th>\n",
       "      <th>19</th>\n",
       "      <th>11</th>\n",
       "      <th>2</th>\n",
       "      <th>17</th>\n",
       "      <th>3</th>\n",
       "      <th>12</th>\n",
       "      <th>6</th>\n",
       "      <th>7</th>\n",
       "      <th>5</th>\n",
       "      <th>16</th>\n",
       "      <th>X</th>\n",
       "      <th>9</th>\n",
       "      <th>10</th>\n",
       "      <th>4</th>\n",
       "      <th>8</th>\n",
       "      <th>14</th>\n",
       "      <th>15</th>\n",
       "      <th>20</th>\n",
       "      <th>22</th>\n",
       "      <th>13</th>\n",
       "      <th>18</th>\n",
       "      <th>21</th>\n",
       "      <th>Y</th>\n",
       "      <th>MT</th>\n",
       "    </tr>\n",
       "  </thead>\n",
       "  <tbody>\n",
       "    <tr>\n",
       "      <th>count</th>\n",
       "      <td>2076</td>\n",
       "      <td>1481</td>\n",
       "      <td>1317</td>\n",
       "      <td>1281</td>\n",
       "      <td>1208</td>\n",
       "      <td>1078</td>\n",
       "      <td>1070</td>\n",
       "      <td>1052</td>\n",
       "      <td>917</td>\n",
       "      <td>893</td>\n",
       "      <td>875</td>\n",
       "      <td>830</td>\n",
       "      <td>805</td>\n",
       "      <td>771</td>\n",
       "      <td>767</td>\n",
       "      <td>701</td>\n",
       "      <td>652</td>\n",
       "      <td>617</td>\n",
       "      <td>560</td>\n",
       "      <td>450</td>\n",
       "      <td>329</td>\n",
       "      <td>288</td>\n",
       "      <td>242</td>\n",
       "      <td>54</td>\n",
       "      <td>13</td>\n",
       "    </tr>\n",
       "  </tbody>\n",
       "</table>\n",
       "</div>"
      ],
      "text/plain": [
       "seqname     1    19    11     2    17     3    12     6    7    5   16    X    9   10    4    8   14   15   20   22   13   18   21   Y  MT\n",
       "count    2076  1481  1317  1281  1208  1078  1070  1052  917  893  875  830  805  771  767  701  652  617  560  450  329  288  242  54  13"
      ]
     },
     "execution_count": 126,
     "metadata": {},
     "output_type": "execute_result"
    }
   ],
   "source": [
    "subdf.groupby('seqname').count()['source'].sort_values(ascending=False).to_frame(name='count').T"
   ]
  },
  {
   "cell_type": "markdown",
   "metadata": {},
   "source": [
    "Even chr1 has just a bit over 2k genes!"
   ]
  },
  {
   "cell_type": "markdown",
   "metadata": {},
   "source": [
    "### look at one chr a time"
   ]
  },
  {
   "cell_type": "code",
   "execution_count": 127,
   "metadata": {
    "collapsed": true
   },
   "outputs": [],
   "source": [
    "chrdf = subdf.query('seqname == \"1\"').sort_values('start')"
   ]
  },
  {
   "cell_type": "code",
   "execution_count": 128,
   "metadata": {
    "collapsed": false
   },
   "outputs": [
    {
     "data": {
      "text/plain": [
       "(2076, 12)"
      ]
     },
     "execution_count": 128,
     "metadata": {},
     "output_type": "execute_result"
    }
   ],
   "source": [
    "chrdf.shape"
   ]
  },
  {
   "cell_type": "code",
   "execution_count": 129,
   "metadata": {
    "collapsed": false
   },
   "outputs": [
    {
     "data": {
      "text/html": [
       "<div>\n",
       "<table border=\"1\" class=\"dataframe\">\n",
       "  <thead>\n",
       "    <tr style=\"text-align: right;\">\n",
       "      <th></th>\n",
       "      <th>seqname</th>\n",
       "      <th>source</th>\n",
       "      <th>feature</th>\n",
       "      <th>start</th>\n",
       "      <th>end</th>\n",
       "      <th>score</th>\n",
       "      <th>strand</th>\n",
       "      <th>frame</th>\n",
       "      <th>len</th>\n",
       "      <th>transcript_id</th>\n",
       "      <th>gene_id</th>\n",
       "      <th>gene_name</th>\n",
       "    </tr>\n",
       "  </thead>\n",
       "  <tbody>\n",
       "    <tr>\n",
       "      <th>109</th>\n",
       "      <td>1</td>\n",
       "      <td>protein_coding</td>\n",
       "      <td>gene</td>\n",
       "      <td>69091</td>\n",
       "      <td>70008</td>\n",
       "      <td>.</td>\n",
       "      <td>+</td>\n",
       "      <td>.</td>\n",
       "      <td>918</td>\n",
       "      <td></td>\n",
       "      <td>ENSG00000186092</td>\n",
       "      <td>OR4F5</td>\n",
       "    </tr>\n",
       "    <tr>\n",
       "      <th>140</th>\n",
       "      <td>1</td>\n",
       "      <td>protein_coding</td>\n",
       "      <td>gene</td>\n",
       "      <td>134901</td>\n",
       "      <td>139379</td>\n",
       "      <td>.</td>\n",
       "      <td>-</td>\n",
       "      <td>.</td>\n",
       "      <td>4479</td>\n",
       "      <td></td>\n",
       "      <td>ENSG00000237683</td>\n",
       "      <td>AL627309.1</td>\n",
       "    </tr>\n",
       "    <tr>\n",
       "      <th>276</th>\n",
       "      <td>1</td>\n",
       "      <td>protein_coding</td>\n",
       "      <td>gene</td>\n",
       "      <td>367640</td>\n",
       "      <td>368634</td>\n",
       "      <td>.</td>\n",
       "      <td>+</td>\n",
       "      <td>.</td>\n",
       "      <td>995</td>\n",
       "      <td></td>\n",
       "      <td>ENSG00000235249</td>\n",
       "      <td>OR4F29</td>\n",
       "    </tr>\n",
       "    <tr>\n",
       "      <th>373</th>\n",
       "      <td>1</td>\n",
       "      <td>protein_coding</td>\n",
       "      <td>gene</td>\n",
       "      <td>621059</td>\n",
       "      <td>622053</td>\n",
       "      <td>.</td>\n",
       "      <td>-</td>\n",
       "      <td>.</td>\n",
       "      <td>995</td>\n",
       "      <td></td>\n",
       "      <td>ENSG00000185097</td>\n",
       "      <td>OR4F16</td>\n",
       "    </tr>\n",
       "    <tr>\n",
       "      <th>510</th>\n",
       "      <td>1</td>\n",
       "      <td>protein_coding</td>\n",
       "      <td>gene</td>\n",
       "      <td>738532</td>\n",
       "      <td>739137</td>\n",
       "      <td>.</td>\n",
       "      <td>-</td>\n",
       "      <td>.</td>\n",
       "      <td>606</td>\n",
       "      <td></td>\n",
       "      <td>ENSG00000269831</td>\n",
       "      <td>AL669831.1</td>\n",
       "    </tr>\n",
       "    <tr>\n",
       "      <th>605</th>\n",
       "      <td>1</td>\n",
       "      <td>protein_coding</td>\n",
       "      <td>gene</td>\n",
       "      <td>818043</td>\n",
       "      <td>819983</td>\n",
       "      <td>.</td>\n",
       "      <td>+</td>\n",
       "      <td>.</td>\n",
       "      <td>1941</td>\n",
       "      <td></td>\n",
       "      <td>ENSG00000269308</td>\n",
       "      <td>AL645608.2</td>\n",
       "    </tr>\n",
       "    <tr>\n",
       "      <th>637</th>\n",
       "      <td>1</td>\n",
       "      <td>protein_coding</td>\n",
       "      <td>gene</td>\n",
       "      <td>860260</td>\n",
       "      <td>879955</td>\n",
       "      <td>.</td>\n",
       "      <td>+</td>\n",
       "      <td>.</td>\n",
       "      <td>19696</td>\n",
       "      <td></td>\n",
       "      <td>ENSG00000187634</td>\n",
       "      <td>SAMD11</td>\n",
       "    </tr>\n",
       "    <tr>\n",
       "      <th>756</th>\n",
       "      <td>1</td>\n",
       "      <td>protein_coding</td>\n",
       "      <td>gene</td>\n",
       "      <td>861264</td>\n",
       "      <td>866445</td>\n",
       "      <td>.</td>\n",
       "      <td>-</td>\n",
       "      <td>.</td>\n",
       "      <td>5182</td>\n",
       "      <td></td>\n",
       "      <td>ENSG00000268179</td>\n",
       "      <td>AL645608.1</td>\n",
       "    </tr>\n",
       "    <tr>\n",
       "      <th>771</th>\n",
       "      <td>1</td>\n",
       "      <td>protein_coding</td>\n",
       "      <td>gene</td>\n",
       "      <td>879584</td>\n",
       "      <td>894689</td>\n",
       "      <td>.</td>\n",
       "      <td>-</td>\n",
       "      <td>.</td>\n",
       "      <td>15106</td>\n",
       "      <td></td>\n",
       "      <td>ENSG00000188976</td>\n",
       "      <td>NOC2L</td>\n",
       "    </tr>\n",
       "    <tr>\n",
       "      <th>853</th>\n",
       "      <td>1</td>\n",
       "      <td>protein_coding</td>\n",
       "      <td>gene</td>\n",
       "      <td>895967</td>\n",
       "      <td>901095</td>\n",
       "      <td>.</td>\n",
       "      <td>+</td>\n",
       "      <td>.</td>\n",
       "      <td>5129</td>\n",
       "      <td></td>\n",
       "      <td>ENSG00000187961</td>\n",
       "      <td>KLHL17</td>\n",
       "    </tr>\n",
       "  </tbody>\n",
       "</table>\n",
       "</div>"
      ],
      "text/plain": [
       "    seqname          source feature   start     end score strand frame    len transcript_id          gene_id   gene_name\n",
       "109       1  protein_coding    gene   69091   70008     .      +     .    918                ENSG00000186092       OR4F5\n",
       "140       1  protein_coding    gene  134901  139379     .      -     .   4479                ENSG00000237683  AL627309.1\n",
       "276       1  protein_coding    gene  367640  368634     .      +     .    995                ENSG00000235249      OR4F29\n",
       "373       1  protein_coding    gene  621059  622053     .      -     .    995                ENSG00000185097      OR4F16\n",
       "510       1  protein_coding    gene  738532  739137     .      -     .    606                ENSG00000269831  AL669831.1\n",
       "605       1  protein_coding    gene  818043  819983     .      +     .   1941                ENSG00000269308  AL645608.2\n",
       "637       1  protein_coding    gene  860260  879955     .      +     .  19696                ENSG00000187634      SAMD11\n",
       "756       1  protein_coding    gene  861264  866445     .      -     .   5182                ENSG00000268179  AL645608.1\n",
       "771       1  protein_coding    gene  879584  894689     .      -     .  15106                ENSG00000188976       NOC2L\n",
       "853       1  protein_coding    gene  895967  901095     .      +     .   5129                ENSG00000187961      KLHL17"
      ]
     },
     "execution_count": 129,
     "metadata": {},
     "output_type": "execute_result"
    }
   ],
   "source": [
    "chrdf.head(10)"
   ]
  },
  {
   "cell_type": "code",
   "execution_count": 130,
   "metadata": {
    "collapsed": false
   },
   "outputs": [],
   "source": [
    "gene_names = chrdf.gene_name.values"
   ]
  },
  {
   "cell_type": "code",
   "execution_count": 131,
   "metadata": {
    "collapsed": false
   },
   "outputs": [],
   "source": [
    "gn_pairs = np.concatenate([gene_names[0:1], np.repeat(gene_names[1:-1], 2), gene_names[-1:]]).reshape(-1, 2)"
   ]
  },
  {
   "cell_type": "code",
   "execution_count": 132,
   "metadata": {
    "collapsed": false
   },
   "outputs": [
    {
     "data": {
      "text/plain": [
       "(2075, 2)"
      ]
     },
     "execution_count": 132,
     "metadata": {},
     "output_type": "execute_result"
    }
   ],
   "source": [
    "gn_pairs.shape"
   ]
  },
  {
   "cell_type": "code",
   "execution_count": 133,
   "metadata": {
    "collapsed": false
   },
   "outputs": [],
   "source": [
    "# pairs of (end_of_1st_gene, start_of_next_gene)\n",
    "endstart = chrdf[['start', 'end']].values.ravel()[1:-1].reshape(-1, 2)"
   ]
  },
  {
   "cell_type": "code",
   "execution_count": 134,
   "metadata": {
    "collapsed": false
   },
   "outputs": [],
   "source": [
    "endstart_df = pd.DataFrame(endstart, columns=['gene1_end', 'gene2_start'])"
   ]
  },
  {
   "cell_type": "code",
   "execution_count": 135,
   "metadata": {
    "collapsed": false
   },
   "outputs": [
    {
     "data": {
      "text/plain": [
       "(2075, 2)"
      ]
     },
     "execution_count": 135,
     "metadata": {},
     "output_type": "execute_result"
    }
   ],
   "source": [
    "endstart_df.shape"
   ]
  },
  {
   "cell_type": "code",
   "execution_count": 136,
   "metadata": {
    "collapsed": false
   },
   "outputs": [],
   "source": [
    "endstart_df['gene1'] = gn_pairs[:,0]"
   ]
  },
  {
   "cell_type": "code",
   "execution_count": 137,
   "metadata": {
    "collapsed": true
   },
   "outputs": [],
   "source": [
    "endstart_df['gene2'] = gn_pairs[:,1]"
   ]
  },
  {
   "cell_type": "code",
   "execution_count": 138,
   "metadata": {
    "collapsed": false
   },
   "outputs": [
    {
     "data": {
      "text/html": [
       "<div>\n",
       "<table border=\"1\" class=\"dataframe\">\n",
       "  <thead>\n",
       "    <tr style=\"text-align: right;\">\n",
       "      <th></th>\n",
       "      <th>gene1_end</th>\n",
       "      <th>gene2_start</th>\n",
       "      <th>gene1</th>\n",
       "      <th>gene2</th>\n",
       "    </tr>\n",
       "  </thead>\n",
       "  <tbody>\n",
       "    <tr>\n",
       "      <th>0</th>\n",
       "      <td>70008</td>\n",
       "      <td>134901</td>\n",
       "      <td>OR4F5</td>\n",
       "      <td>AL627309.1</td>\n",
       "    </tr>\n",
       "    <tr>\n",
       "      <th>1</th>\n",
       "      <td>139379</td>\n",
       "      <td>367640</td>\n",
       "      <td>AL627309.1</td>\n",
       "      <td>OR4F29</td>\n",
       "    </tr>\n",
       "  </tbody>\n",
       "</table>\n",
       "</div>"
      ],
      "text/plain": [
       "   gene1_end  gene2_start       gene1       gene2\n",
       "0      70008       134901       OR4F5  AL627309.1\n",
       "1     139379       367640  AL627309.1      OR4F29"
      ]
     },
     "execution_count": 138,
     "metadata": {},
     "output_type": "execute_result"
    }
   ],
   "source": [
    "endstart_df.head(2)"
   ]
  },
  {
   "cell_type": "code",
   "execution_count": 139,
   "metadata": {
    "collapsed": true
   },
   "outputs": [],
   "source": [
    "endstart_df['diff'] = endstart_df.gene2_start - endstart_df.gene1_end"
   ]
  },
  {
   "cell_type": "code",
   "execution_count": 140,
   "metadata": {
    "collapsed": false
   },
   "outputs": [],
   "source": [
    "endstart_df['has_overlap'] = endstart_df.apply(lambda row: row.diff < 0, axis=1)"
   ]
  },
  {
   "cell_type": "code",
   "execution_count": 141,
   "metadata": {
    "collapsed": false
   },
   "outputs": [
    {
     "data": {
      "text/html": [
       "<div>\n",
       "<table border=\"1\" class=\"dataframe\">\n",
       "  <thead>\n",
       "    <tr style=\"text-align: right;\">\n",
       "      <th></th>\n",
       "      <th>gene1_end</th>\n",
       "      <th>gene2_start</th>\n",
       "      <th>gene1</th>\n",
       "      <th>gene2</th>\n",
       "      <th>diff</th>\n",
       "      <th>has_overlap</th>\n",
       "    </tr>\n",
       "  </thead>\n",
       "  <tbody>\n",
       "    <tr>\n",
       "      <th>0</th>\n",
       "      <td>70008</td>\n",
       "      <td>134901</td>\n",
       "      <td>OR4F5</td>\n",
       "      <td>AL627309.1</td>\n",
       "      <td>64893</td>\n",
       "      <td>False</td>\n",
       "    </tr>\n",
       "    <tr>\n",
       "      <th>1</th>\n",
       "      <td>139379</td>\n",
       "      <td>367640</td>\n",
       "      <td>AL627309.1</td>\n",
       "      <td>OR4F29</td>\n",
       "      <td>228261</td>\n",
       "      <td>False</td>\n",
       "    </tr>\n",
       "  </tbody>\n",
       "</table>\n",
       "</div>"
      ],
      "text/plain": [
       "   gene1_end  gene2_start       gene1       gene2    diff has_overlap\n",
       "0      70008       134901       OR4F5  AL627309.1   64893       False\n",
       "1     139379       367640  AL627309.1      OR4F29  228261       False"
      ]
     },
     "execution_count": 141,
     "metadata": {},
     "output_type": "execute_result"
    }
   ],
   "source": [
    "endstart_df.head(2)"
   ]
  },
  {
   "cell_type": "code",
   "execution_count": 142,
   "metadata": {
    "collapsed": false
   },
   "outputs": [
    {
     "data": {
      "text/plain": [
       "<matplotlib.axes._subplots.AxesSubplot at 0x7f6d5e812c50>"
      ]
     },
     "execution_count": 142,
     "metadata": {},
     "output_type": "execute_result"
    },
    {
     "data": {
      "image/png": "[encoded data removed]",
      "text/plain": [
       "<matplotlib.figure.Figure at 0x7f6d5e9f7110>"
      ]
     },
     "metadata": {},
     "output_type": "display_data"
    }
   ],
   "source": [
    "endstart_df['diff'].plot.hist(bins=np.arange(-1e5, 1e5, 1e4))"
   ]
  },
  {
   "cell_type": "code",
   "execution_count": 143,
   "metadata": {
    "collapsed": false
   },
   "outputs": [
    {
     "data": {
      "text/plain": [
       "(2076, 12)"
      ]
     },
     "execution_count": 143,
     "metadata": {},
     "output_type": "execute_result"
    }
   ],
   "source": [
    "chrdf.shape"
   ]
  },
  {
   "cell_type": "code",
   "execution_count": 144,
   "metadata": {
    "collapsed": false
   },
   "outputs": [
    {
     "data": {
      "text/plain": [
       "(2075, 6)"
      ]
     },
     "execution_count": 144,
     "metadata": {},
     "output_type": "execute_result"
    }
   ],
   "source": [
    "endstart_df.shape"
   ]
  },
  {
   "cell_type": "code",
   "execution_count": 145,
   "metadata": {
    "collapsed": false
   },
   "outputs": [
    {
     "data": {
      "text/plain": [
       "(309,)"
      ]
     },
     "execution_count": 145,
     "metadata": {},
     "output_type": "execute_result"
    }
   ],
   "source": [
    "endstart_df.query('diff < 0')['diff'].shape"
   ]
  },
  {
   "cell_type": "code",
   "execution_count": 146,
   "metadata": {
    "collapsed": false
   },
   "outputs": [
    {
     "data": {
      "text/plain": [
       "0.1489156626506024"
      ]
     },
     "execution_count": 146,
     "metadata": {},
     "output_type": "execute_result"
    }
   ],
   "source": [
    "endstart_df.query('diff < 0').shape[0] / float(endstart_df.shape[0])"
   ]
  },
  {
   "cell_type": "markdown",
   "metadata": {},
   "source": [
    "So ~15% of genes overlap, that's quite a bit"
   ]
  },
  {
   "cell_type": "code",
   "execution_count": null,
   "metadata": {
    "collapsed": true
   },
   "outputs": [],
   "source": []
  },
  {
   "cell_type": "code",
   "execution_count": null,
   "metadata": {
    "collapsed": true
   },
   "outputs": [],
   "source": []
  },
  {
   "cell_type": "code",
   "execution_count": null,
   "metadata": {
    "collapsed": true
   },
   "outputs": [],
   "source": []
  },
  {
   "cell_type": "code",
   "execution_count": null,
   "metadata": {
    "collapsed": true
   },
   "outputs": [],
   "source": []
  },
  {
   "cell_type": "code",
   "execution_count": null,
   "metadata": {
    "collapsed": true
   },
   "outputs": [],
   "source": []
  },
  {
   "cell_type": "markdown",
   "metadata": {},
   "source": [
    "## How many genes have multiple transcripts"
   ]
  },
  {
   "cell_type": "code",
   "execution_count": 6,
   "metadata": {
    "collapsed": false
   },
   "outputs": [],
   "source": [
    "gs = df[(df.source == 'protein_coding') & (df.feature.isin(['transcript']))].groupby('gene_id')"
   ]
  },
  {
   "cell_type": "code",
   "execution_count": 7,
   "metadata": {
    "collapsed": false
   },
   "outputs": [],
   "source": [
    "cdf = gs.count().ix[:,1]"
   ]
  },
  {
   "cell_type": "code",
   "execution_count": 8,
   "metadata": {
    "collapsed": false
   },
   "outputs": [
    {
     "data": {
      "text/plain": [
       "(16627,)"
      ]
     },
     "execution_count": 8,
     "metadata": {},
     "output_type": "execute_result"
    }
   ],
   "source": [
    "cdf[cdf > 1].shape"
   ]
  },
  {
   "cell_type": "code",
   "execution_count": 9,
   "metadata": {
    "collapsed": false
   },
   "outputs": [
    {
     "data": {
      "text/plain": [
       "(22642,)"
      ]
     },
     "execution_count": 9,
     "metadata": {},
     "output_type": "execute_result"
    }
   ],
   "source": [
    "cdf.shape"
   ]
  },
  {
   "cell_type": "code",
   "execution_count": 10,
   "metadata": {
    "collapsed": false
   },
   "outputs": [
    {
     "data": {
      "text/plain": [
       "0.7343432558961223"
      ]
     },
     "execution_count": 10,
     "metadata": {},
     "output_type": "execute_result"
    }
   ],
   "source": [
    "cdf[cdf > 1].shape[0] / float(cdf.shape[0])"
   ]
  },
  {
   "cell_type": "markdown",
   "metadata": {},
   "source": [
    "So over 73% of genes have more than one transcripts"
   ]
  },
  {
   "cell_type": "code",
   "execution_count": null,
   "metadata": {
    "collapsed": true
   },
   "outputs": [],
   "source": []
  },
  {
   "cell_type": "markdown",
   "metadata": {},
   "source": [
    "## Show strand uniqueness per gene"
   ]
  },
  {
   "cell_type": "code",
   "execution_count": 11,
   "metadata": {
    "collapsed": false
   },
   "outputs": [],
   "source": [
    "res = df.groupby(['gene_id', 'gene_name']).apply(lambda g: g.strand.unique().shape[0])"
   ]
  },
  {
   "cell_type": "code",
   "execution_count": 12,
   "metadata": {
    "collapsed": false
   },
   "outputs": [
    {
     "data": {
      "text/plain": [
       "(63677,)"
      ]
     },
     "execution_count": 12,
     "metadata": {},
     "output_type": "execute_result"
    }
   ],
   "source": [
    "res.shape"
   ]
  },
  {
   "cell_type": "code",
   "execution_count": 13,
   "metadata": {
    "collapsed": false
   },
   "outputs": [
    {
     "data": {
      "text/plain": [
       "True"
      ]
     },
     "execution_count": 13,
     "metadata": {},
     "output_type": "execute_result"
    }
   ],
   "source": [
    "(res == 1).all()"
   ]
  },
  {
   "cell_type": "markdown",
   "metadata": {},
   "source": [
    "Take a look at a few example where gene name is shared by multiple transcript id, so if gene_name and gene_id are mixed, it may lead to strand non-uniqueness"
   ]
  },
  {
   "cell_type": "code",
   "execution_count": 14,
   "metadata": {
    "collapsed": false
   },
   "outputs": [],
   "source": [
    "# df[df.gene_name == 'U1']"
   ]
  },
  {
   "cell_type": "code",
   "execution_count": 15,
   "metadata": {
    "collapsed": false
   },
   "outputs": [
    {
     "data": {
      "text/plain": [
       "(63677,)"
      ]
     },
     "execution_count": 15,
     "metadata": {},
     "output_type": "execute_result"
    }
   ],
   "source": [
    "df.gene_id.unique().shape"
   ]
  },
  {
   "cell_type": "markdown",
   "metadata": {},
   "source": [
    "That it returns True means all genes have only one unique strand."
   ]
  },
  {
   "cell_type": "code",
   "execution_count": null,
   "metadata": {
    "collapsed": true
   },
   "outputs": [],
   "source": []
  },
  {
   "cell_type": "markdown",
   "metadata": {},
   "source": [
    "## Distribution of distances between neighboring cleavage sites of the same gene in the annotation"
   ]
  },
  {
   "cell_type": "code",
   "execution_count": 16,
   "metadata": {
    "collapsed": false,
    "scrolled": true
   },
   "outputs": [
    {
     "data": {
      "text/html": [
       "<div>\n",
       "<table border=\"1\" class=\"dataframe\">\n",
       "  <thead>\n",
       "    <tr style=\"text-align: right;\">\n",
       "      <th></th>\n",
       "      <th>seqname</th>\n",
       "      <th>source</th>\n",
       "      <th>feature</th>\n",
       "      <th>start</th>\n",
       "      <th>end</th>\n",
       "      <th>score</th>\n",
       "      <th>strand</th>\n",
       "      <th>frame</th>\n",
       "      <th>len</th>\n",
       "      <th>transcript_id</th>\n",
       "      <th>gene_id</th>\n",
       "      <th>gene_name</th>\n",
       "    </tr>\n",
       "  </thead>\n",
       "  <tbody>\n",
       "    <tr>\n",
       "      <th>0</th>\n",
       "      <td>1</td>\n",
       "      <td>pseudogene</td>\n",
       "      <td>gene</td>\n",
       "      <td>11869</td>\n",
       "      <td>14412</td>\n",
       "      <td>.</td>\n",
       "      <td>+</td>\n",
       "      <td>.</td>\n",
       "      <td>2544</td>\n",
       "      <td></td>\n",
       "      <td>ENSG00000223972</td>\n",
       "      <td>DDX11L1</td>\n",
       "    </tr>\n",
       "  </tbody>\n",
       "</table>\n",
       "</div>"
      ],
      "text/plain": [
       "  seqname      source feature  start    end score strand frame   len transcript_id          gene_id gene_name\n",
       "0       1  pseudogene    gene  11869  14412     .      +     .  2544                ENSG00000223972   DDX11L1"
      ]
     },
     "execution_count": 16,
     "metadata": {},
     "output_type": "execute_result"
    }
   ],
   "source": [
    "df.head(1)"
   ]
  },
  {
   "cell_type": "code",
   "execution_count": 17,
   "metadata": {
    "collapsed": false
   },
   "outputs": [],
   "source": [
    "def calc_clv_site(transcript_row):\n",
    "    if transcript_row.strand == '+':\n",
    "        return transcript_row.end\n",
    "    elif transcript_row.strand == '-':\n",
    "        return transcript_row.start\n",
    "    else:\n",
    "        raise"
   ]
  },
  {
   "cell_type": "code",
   "execution_count": 18,
   "metadata": {
    "collapsed": false
   },
   "outputs": [
    {
     "name": "stdout",
     "output_type": "stream",
     "text": [
      "CPU times: user 10.4 s, sys: 35 ms, total: 10.5 s\n",
      "Wall time: 10.4 s\n"
     ]
    }
   ],
   "source": [
    "%time clv_sites = df.query('source == \"protein_coding\"').query('feature == \"transcript\"').groupby(['gene_name', 'gene_id']).apply(lambda g: g.apply(calc_clv_site, axis=1))"
   ]
  },
  {
   "cell_type": "code",
   "execution_count": 19,
   "metadata": {
    "collapsed": false
   },
   "outputs": [
    {
     "name": "stdout",
     "output_type": "stream",
     "text": [
      "CPU times: user 1.48 s, sys: 1 ms, total: 1.48 s\n",
      "Wall time: 1.48 s\n"
     ]
    }
   ],
   "source": [
    "%time neighbor_dist = clv_sites.to_frame(name='clv_site').reset_index(level=[0, 1]).groupby(['gene_name', 'gene_id']).apply(lambda g: np.diff(np.sort(g.clv_site.unique())))"
   ]
  },
  {
   "cell_type": "code",
   "execution_count": 20,
   "metadata": {
    "collapsed": false
   },
   "outputs": [],
   "source": [
    "ndser = pd.Series(np.concatenate(neighbor_dist.values))"
   ]
  },
  {
   "cell_type": "code",
   "execution_count": 21,
   "metadata": {
    "collapsed": false
   },
   "outputs": [
    {
     "data": {
      "text/plain": [
       "0.20284296439023503"
      ]
     },
     "execution_count": 21,
     "metadata": {},
     "output_type": "execute_result"
    }
   ],
   "source": [
    "ndser[ndser <= 20].shape[0] / float(ndser.shape[0])"
   ]
  },
  {
   "cell_type": "markdown",
   "metadata": {},
   "source": [
    "So 20% of the neighbouring cleavage sites in the annotation are <= 20 bp away."
   ]
  },
  {
   "cell_type": "markdown",
   "metadata": {},
   "source": [
    "See the distribution"
   ]
  },
  {
   "cell_type": "code",
   "execution_count": 22,
   "metadata": {
    "collapsed": false
   },
   "outputs": [
    {
     "data": {
      "text/html": [
       "<div>\n",
       "<table border=\"1\" class=\"dataframe\">\n",
       "  <thead>\n",
       "    <tr style=\"text-align: right;\">\n",
       "      <th></th>\n",
       "      <th>count</th>\n",
       "      <th>mean</th>\n",
       "      <th>std</th>\n",
       "      <th>min</th>\n",
       "      <th>0%</th>\n",
       "      <th>5%</th>\n",
       "      <th>10%</th>\n",
       "      <th>15.0%</th>\n",
       "      <th>20%</th>\n",
       "      <th>25%</th>\n",
       "      <th>30.0%</th>\n",
       "      <th>35%</th>\n",
       "      <th>40%</th>\n",
       "      <th>45%</th>\n",
       "      <th>50%</th>\n",
       "      <th>55.0%</th>\n",
       "      <th>60.0%</th>\n",
       "      <th>65%</th>\n",
       "      <th>70%</th>\n",
       "      <th>75%</th>\n",
       "      <th>80%</th>\n",
       "      <th>85.0%</th>\n",
       "      <th>90%</th>\n",
       "      <th>95%</th>\n",
       "      <th>100%</th>\n",
       "      <th>max</th>\n",
       "    </tr>\n",
       "  </thead>\n",
       "  <tbody>\n",
       "    <tr>\n",
       "      <th>distance</th>\n",
       "      <td>55013</td>\n",
       "      <td>7580</td>\n",
       "      <td>31822</td>\n",
       "      <td>1</td>\n",
       "      <td>1</td>\n",
       "      <td>2</td>\n",
       "      <td>4</td>\n",
       "      <td>8</td>\n",
       "      <td>20</td>\n",
       "      <td>40</td>\n",
       "      <td>74</td>\n",
       "      <td>128</td>\n",
       "      <td>211</td>\n",
       "      <td>332</td>\n",
       "      <td>518</td>\n",
       "      <td>789</td>\n",
       "      <td>1151</td>\n",
       "      <td>1663</td>\n",
       "      <td>2355</td>\n",
       "      <td>3449</td>\n",
       "      <td>5304</td>\n",
       "      <td>8707</td>\n",
       "      <td>15727</td>\n",
       "      <td>34007</td>\n",
       "      <td>1585161</td>\n",
       "      <td>1585161</td>\n",
       "    </tr>\n",
       "  </tbody>\n",
       "</table>\n",
       "</div>"
      ],
      "text/plain": [
       "          count  mean    std  min  0%  5%  10%  15.0%  20%  25%  30.0%  35%  40%  45%  50%  55.0%  60.0%   65%   70%   75%   80%  85.0%    90%    95%     100%      max\n",
       "distance  55013  7580  31822    1   1   2    4      8   20   40     74  128  211  332  518    789   1151  1663  2355  3449  5304   8707  15727  34007  1585161  1585161"
      ]
     },
     "execution_count": 22,
     "metadata": {},
     "output_type": "execute_result"
    }
   ],
   "source": [
    "ndser.describe(percentiles=np.arange(0, 1.01, 0.05)).astype(int).to_frame(name='distance').T"
   ]
  },
  {
   "cell_type": "code",
   "execution_count": 23,
   "metadata": {
    "collapsed": false
   },
   "outputs": [
    {
     "data": {
      "text/plain": [
       "<matplotlib.text.Text at 0x7fb774e71e10>"
      ]
     },
     "execution_count": 23,
     "metadata": {},
     "output_type": "execute_result"
    },
    {
     "data": {
      "image/png": "[encoded data removed]",
      "text/plain": [
       "<matplotlib.figure.Figure at 0x7fb78062c190>"
      ]
     },
     "metadata": {},
     "output_type": "display_data"
    }
   ],
   "source": [
    "ax = ndser[ndser <= 15727].plot.hist(bins=100)\n",
    "ax.set_title('~90% of the neighbouring distances')"
   ]
  },
  {
   "cell_type": "code",
   "execution_count": null,
   "metadata": {
    "collapsed": true
   },
   "outputs": [],
   "source": []
  },
  {
   "cell_type": "markdown",
   "metadata": {},
   "source": [
    "## See how many cleavage sites correspond to multiple stop codons in the annotation"
   ]
  },
  {
   "cell_type": "code",
   "execution_count": 24,
   "metadata": {
    "collapsed": false
   },
   "outputs": [
    {
     "data": {
      "text/plain": [
       "exon              1306656\n",
       "CDS                791856\n",
       "UTR                304070\n",
       "transcript         215170\n",
       "stop_codon          73411\n",
       "start_codon         73358\n",
       "gene                63677\n",
       "Selenocysteine        114\n",
       "Name: feature, dtype: int64"
      ]
     },
     "execution_count": 24,
     "metadata": {},
     "output_type": "execute_result"
    }
   ],
   "source": [
    "df.feature.value_counts()"
   ]
  },
  {
   "cell_type": "code",
   "execution_count": 25,
   "metadata": {
    "collapsed": true
   },
   "outputs": [],
   "source": [
    "def calc_clv_site_and_stop_codon(grp):\n",
    "    strand = grp.strand.unique()[0]\n",
    "    tran = grp.query('feature == \"transcript\"')\n",
    "    stop = grp.query('feature == \"stop_codon\"')\n",
    "    if strand == '+':\n",
    "        clv_site = tran.end.values[0] if tran.shape[0] > 0 else -1\n",
    "        stop_site = stop.end.values[0] if stop.shape[0] > 0 else -1\n",
    "    elif strand == '-':\n",
    "        clv_site = tran.start.values[0] if tran.shape[0] > 0 else -1\n",
    "        stop_site = stop.start.values[0] if stop.shape[0] > 0 else -1\n",
    "    return pd.Series([clv_site, stop_site])"
   ]
  },
  {
   "cell_type": "code",
   "execution_count": 26,
   "metadata": {
    "collapsed": false
   },
   "outputs": [
    {
     "name": "stdout",
     "output_type": "stream",
     "text": [
      "CPU times: user 3min 17s, sys: 381 ms, total: 3min 18s\n",
      "Wall time: 3min 18s\n"
     ]
    }
   ],
   "source": [
    "%time clv_stop = df.query('source == \"protein_coding\"').query('feature in [\"transcript\", \"stop_codon\"]').groupby(['gene_name', 'gene_id', 'transcript_id']).apply(calc_clv_site_and_stop_codon)"
   ]
  },
  {
   "cell_type": "code",
   "execution_count": 27,
   "metadata": {
    "collapsed": true
   },
   "outputs": [],
   "source": [
    "clv_stop.columns = ['clv_site', 'stop_codon_tail']"
   ]
  },
  {
   "cell_type": "code",
   "execution_count": 28,
   "metadata": {
    "collapsed": false
   },
   "outputs": [],
   "source": [
    "clv_stop = clv_stop.astype(int)"
   ]
  },
  {
   "cell_type": "code",
   "execution_count": 29,
   "metadata": {
    "collapsed": false
   },
   "outputs": [
    {
     "data": {
      "text/html": [
       "<div>\n",
       "<table border=\"1\" class=\"dataframe\">\n",
       "  <thead>\n",
       "    <tr style=\"text-align: right;\">\n",
       "      <th></th>\n",
       "      <th></th>\n",
       "      <th></th>\n",
       "      <th>clv_site</th>\n",
       "      <th>stop_codon_tail</th>\n",
       "    </tr>\n",
       "    <tr>\n",
       "      <th>gene_name</th>\n",
       "      <th>gene_id</th>\n",
       "      <th>transcript_id</th>\n",
       "      <th></th>\n",
       "      <th></th>\n",
       "    </tr>\n",
       "  </thead>\n",
       "  <tbody>\n",
       "    <tr>\n",
       "      <th rowspan=\"2\" valign=\"top\">A1BG</th>\n",
       "      <th rowspan=\"2\" valign=\"top\">ENSG00000121410</th>\n",
       "      <th>ENST00000263100</th>\n",
       "      <td>58858216</td>\n",
       "      <td>58858388</td>\n",
       "    </tr>\n",
       "    <tr>\n",
       "      <th>ENST00000600966</th>\n",
       "      <td>58861960</td>\n",
       "      <td>-1</td>\n",
       "    </tr>\n",
       "  </tbody>\n",
       "</table>\n",
       "</div>"
      ],
      "text/plain": [
       "                                           clv_site  stop_codon_tail\n",
       "gene_name gene_id         transcript_id                             \n",
       "A1BG      ENSG00000121410 ENST00000263100  58858216         58858388\n",
       "                          ENST00000600966  58861960               -1"
      ]
     },
     "execution_count": 29,
     "metadata": {},
     "output_type": "execute_result"
    }
   ],
   "source": [
    "clv_stop.head(2)"
   ]
  },
  {
   "cell_type": "code",
   "execution_count": 30,
   "metadata": {
    "collapsed": true
   },
   "outputs": [],
   "source": [
    "# scc stop_codons_count; > 0 remove entries that have stop_codon_tail == -1\n",
    "scc_per_gene = clv_stop.reset_index().query('stop_codon_tail > 0').groupby(['gene_name', 'gene_id']).apply(lambda g: g.stop_codon_tail.unique().shape[0])"
   ]
  },
  {
   "cell_type": "code",
   "execution_count": 31,
   "metadata": {
    "collapsed": false
   },
   "outputs": [],
   "source": [
    "# cs: clv site\n",
    "scc_per_cs = clv_stop.reset_index().query('stop_codon_tail > 0').groupby(['gene_name', 'gene_id', 'clv_site']).apply(lambda g: g.stop_codon_tail.unique().shape[0])"
   ]
  },
  {
   "cell_type": "code",
   "execution_count": 32,
   "metadata": {
    "collapsed": false
   },
   "outputs": [],
   "source": [
    "scc_per_gene_df = scc_per_gene.to_frame(name='scc_per_gene').reset_index()"
   ]
  },
  {
   "cell_type": "code",
   "execution_count": 33,
   "metadata": {
    "collapsed": false,
    "scrolled": true
   },
   "outputs": [],
   "source": [
    "scc_per_cs_df = scc_per_cs.to_frame(name='scc_per_cs').reset_index()"
   ]
  },
  {
   "cell_type": "code",
   "execution_count": 34,
   "metadata": {
    "collapsed": false
   },
   "outputs": [
    {
     "data": {
      "text/html": [
       "<div>\n",
       "<table border=\"1\" class=\"dataframe\">\n",
       "  <thead>\n",
       "    <tr style=\"text-align: right;\">\n",
       "      <th></th>\n",
       "      <th>gene_name</th>\n",
       "      <th>gene_id</th>\n",
       "      <th>scc_per_gene</th>\n",
       "    </tr>\n",
       "  </thead>\n",
       "  <tbody>\n",
       "    <tr>\n",
       "      <th>0</th>\n",
       "      <td>A1BG</td>\n",
       "      <td>ENSG00000121410</td>\n",
       "      <td>1</td>\n",
       "    </tr>\n",
       "  </tbody>\n",
       "</table>\n",
       "</div>"
      ],
      "text/plain": [
       "  gene_name          gene_id  scc_per_gene\n",
       "0      A1BG  ENSG00000121410             1"
      ]
     },
     "execution_count": 34,
     "metadata": {},
     "output_type": "execute_result"
    }
   ],
   "source": [
    "scc_per_gene_df.head(1)"
   ]
  },
  {
   "cell_type": "code",
   "execution_count": 35,
   "metadata": {
    "collapsed": false,
    "scrolled": true
   },
   "outputs": [
    {
     "data": {
      "text/html": [
       "<div>\n",
       "<table border=\"1\" class=\"dataframe\">\n",
       "  <thead>\n",
       "    <tr style=\"text-align: right;\">\n",
       "      <th></th>\n",
       "      <th>gene_name</th>\n",
       "      <th>gene_id</th>\n",
       "      <th>clv_site</th>\n",
       "      <th>scc_per_cs</th>\n",
       "    </tr>\n",
       "  </thead>\n",
       "  <tbody>\n",
       "    <tr>\n",
       "      <th>0</th>\n",
       "      <td>A1BG</td>\n",
       "      <td>ENSG00000121410</td>\n",
       "      <td>58858216</td>\n",
       "      <td>1</td>\n",
       "    </tr>\n",
       "  </tbody>\n",
       "</table>\n",
       "</div>"
      ],
      "text/plain": [
       "  gene_name          gene_id  clv_site  scc_per_cs\n",
       "0      A1BG  ENSG00000121410  58858216           1"
      ]
     },
     "execution_count": 35,
     "metadata": {},
     "output_type": "execute_result"
    }
   ],
   "source": [
    "scc_per_cs_df.head(1)"
   ]
  },
  {
   "cell_type": "code",
   "execution_count": 36,
   "metadata": {
    "collapsed": false
   },
   "outputs": [],
   "source": [
    "scc_df = scc_per_cs_df.merge(scc_per_gene_df, on=['gene_name', 'gene_id'])"
   ]
  },
  {
   "cell_type": "code",
   "execution_count": 37,
   "metadata": {
    "collapsed": false
   },
   "outputs": [
    {
     "data": {
      "text/html": [
       "<div>\n",
       "<table border=\"1\" class=\"dataframe\">\n",
       "  <thead>\n",
       "    <tr style=\"text-align: right;\">\n",
       "      <th></th>\n",
       "      <th>gene_name</th>\n",
       "      <th>gene_id</th>\n",
       "      <th>clv_site</th>\n",
       "      <th>scc_per_cs</th>\n",
       "      <th>scc_per_gene</th>\n",
       "    </tr>\n",
       "  </thead>\n",
       "  <tbody>\n",
       "    <tr>\n",
       "      <th>0</th>\n",
       "      <td>A1BG</td>\n",
       "      <td>ENSG00000121410</td>\n",
       "      <td>58858216</td>\n",
       "      <td>1</td>\n",
       "      <td>1</td>\n",
       "    </tr>\n",
       "  </tbody>\n",
       "</table>\n",
       "</div>"
      ],
      "text/plain": [
       "  gene_name          gene_id  clv_site  scc_per_cs  scc_per_gene\n",
       "0      A1BG  ENSG00000121410  58858216           1             1"
      ]
     },
     "execution_count": 37,
     "metadata": {},
     "output_type": "execute_result"
    }
   ],
   "source": [
    "scc_df.head(1)"
   ]
  },
  {
   "cell_type": "markdown",
   "metadata": {},
   "source": [
    "From here onforwards, just manipulate this one dataframe is good for simplicity"
   ]
  },
  {
   "cell_type": "code",
   "execution_count": 38,
   "metadata": {
    "collapsed": false
   },
   "outputs": [
    {
     "data": {
      "text/plain": [
       "22181"
      ]
     },
     "execution_count": 38,
     "metadata": {},
     "output_type": "execute_result"
    }
   ],
   "source": [
    "num_genes = scc_df.gene_id.unique().shape[0]\n",
    "num_genes"
   ]
  },
  {
   "cell_type": "code",
   "execution_count": 39,
   "metadata": {
    "collapsed": false
   },
   "outputs": [
    {
     "name": "stdout",
     "output_type": "stream",
     "text": [
      "31869\n",
      "1.43677020874\n"
     ]
    }
   ],
   "source": [
    "num_stop_codons = scc_df.drop(['clv_site', 'scc_per_cs'], axis=1).drop_duplicates().scc_per_gene.sum()\n",
    "print(num_stop_codons)\n",
    "print(num_stop_codons / float(num_genes))"
   ]
  },
  {
   "cell_type": "code",
   "execution_count": 40,
   "metadata": {
    "collapsed": false
   },
   "outputs": [
    {
     "name": "stdout",
     "output_type": "stream",
     "text": [
      "51899\n",
      "2.33979532032\n"
     ]
    }
   ],
   "source": [
    "num_clv_sites = scc_df.shape[0]\n",
    "print(num_clv_sites)\n",
    "print(num_clv_sites / float(num_genes))"
   ]
  },
  {
   "cell_type": "markdown",
   "metadata": {},
   "source": [
    "So there are ~32k stop codons 52k annotated clv sites in total, 1.4 sc and 2.3 per gene in average"
   ]
  },
  {
   "cell_type": "code",
   "execution_count": 41,
   "metadata": {
    "collapsed": false
   },
   "outputs": [
    {
     "data": {
      "text/plain": [
       "<matplotlib.text.Text at 0x7fb775492450>"
      ]
     },
     "execution_count": 41,
     "metadata": {},
     "output_type": "execute_result"
    },
    {
     "data": {
      "image/png": "[encoded data removed]",
      "text/plain": [
       "<matplotlib.figure.Figure at 0x7fb77621ef50>"
      ]
     },
     "metadata": {},
     "output_type": "display_data"
    }
   ],
   "source": [
    "ax = scc_df.drop(['clv_site', 'scc_per_cs'], axis=1).drop_duplicates().scc_per_gene.plot.hist(bins=20)\n",
    "ax.set_title('# stop codons per gene')"
   ]
  },
  {
   "cell_type": "code",
   "execution_count": 42,
   "metadata": {
    "collapsed": false
   },
   "outputs": [
    {
     "data": {
      "text/plain": [
       "<matplotlib.text.Text at 0x7fb76b17ccd0>"
      ]
     },
     "execution_count": 42,
     "metadata": {},
     "output_type": "execute_result"
    },
    {
     "data": {
      "image/png": "[encoded data removed]",
      "text/plain": [
       "<matplotlib.figure.Figure at 0x7fb77869ec50>"
      ]
     },
     "metadata": {},
     "output_type": "display_data"
    }
   ],
   "source": [
    "ax = scc_df.groupby('gene_id').count()['clv_site'].plot.hist(bins=30)\n",
    "ax.set_title('# clv sites per gene')"
   ]
  },
  {
   "cell_type": "code",
   "execution_count": 43,
   "metadata": {
    "collapsed": false
   },
   "outputs": [],
   "source": [
    "# scc_df.groupby('gene_id').count()['clv_site'].value_counts()"
   ]
  },
  {
   "cell_type": "code",
   "execution_count": 44,
   "metadata": {
    "collapsed": false
   },
   "outputs": [
    {
     "data": {
      "text/plain": [
       "[<matplotlib.axis.XTick at 0x7fb76d86c9d0>,\n",
       " <matplotlib.axis.XTick at 0x7fb76d86cc10>,\n",
       " <matplotlib.axis.XTick at 0x7fb778c6ad50>,\n",
       " <matplotlib.axis.XTick at 0x7fb778c6b290>,\n",
       " <matplotlib.axis.XTick at 0x7fb778c6ba10>,\n",
       " <matplotlib.axis.XTick at 0x7fb76d88d390>,\n",
       " <matplotlib.axis.XTick at 0x7fb76d8fef50>,\n",
       " <matplotlib.axis.XTick at 0x7fb778c6a910>,\n",
       " <matplotlib.axis.XTick at 0x7fb778c6a410>,\n",
       " <matplotlib.axis.XTick at 0x7fb76f07ea50>,\n",
       " <matplotlib.axis.XTick at 0x7fb778c0e790>,\n",
       " <matplotlib.axis.XTick at 0x7fb778c0ef10>,\n",
       " <matplotlib.axis.XTick at 0x7fb778c1c6d0>]"
      ]
     },
     "execution_count": 44,
     "metadata": {},
     "output_type": "execute_result"
    },
    {
     "data": {
      "image/png": "[encoded data removed]",
      "text/plain": [
       "<matplotlib.figure.Figure at 0x7fb781275f90>"
      ]
     },
     "metadata": {},
     "output_type": "display_data"
    }
   ],
   "source": [
    "ax = scc_df.groupby('gene_id').count()['clv_site'].plot.hist(bins=30)\n",
    "ax.set_title('# clv sites per gene')\n",
    "ax.set_xticks(np.arange(0, 25, 2))"
   ]
  },
  {
   "cell_type": "markdown",
   "metadata": {},
   "source": [
    "A gene can have up to 22 clv sites or 10 stop codons"
   ]
  },
  {
   "cell_type": "code",
   "execution_count": 45,
   "metadata": {
    "collapsed": false
   },
   "outputs": [
    {
     "data": {
      "text/plain": [
       "0.3065236012803751"
      ]
     },
     "execution_count": 45,
     "metadata": {},
     "output_type": "execute_result"
    }
   ],
   "source": [
    "scc_df.query('scc_per_gene > 1').gene_id.unique().shape[0] / float(num_genes)"
   ]
  },
  {
   "cell_type": "code",
   "execution_count": 46,
   "metadata": {
    "collapsed": false
   },
   "outputs": [
    {
     "data": {
      "text/plain": [
       "0.05708017715965065"
      ]
     },
     "execution_count": 46,
     "metadata": {},
     "output_type": "execute_result"
    }
   ],
   "source": [
    "scc_df.query('(scc_per_gene > 1) & (scc_per_cs > 1)').shape[0] / float(scc_df.query('scc_per_gene > 1').shape[0])"
   ]
  },
  {
   "cell_type": "code",
   "execution_count": 47,
   "metadata": {
    "collapsed": false
   },
   "outputs": [
    {
     "data": {
      "text/plain": [
       "0.45685279187817257"
      ]
     },
     "execution_count": 47,
     "metadata": {},
     "output_type": "execute_result"
    }
   ],
   "source": [
    "scc_df.query('(scc_per_gene > 1) & (scc_per_cs > 1) & (scc_per_cs < scc_per_gene)').shape[0] / float(scc_df.query('(scc_per_cs > 1)').shape[0])"
   ]
  },
  {
   "cell_type": "markdown",
   "metadata": {},
   "source": [
    "Based on the annotation, about 31% of the protein coding genes have more than one stop codons. Among them, 5.7% of their cleavage sites are mapped to over 1 stop codons, yet of which, 46% do not map to all available stop codons of their respective genes."
   ]
  },
  {
   "cell_type": "markdown",
   "metadata": {},
   "source": [
    "#### Now look at ratio more quantitatively"
   ]
  },
  {
   "cell_type": "code",
   "execution_count": 48,
   "metadata": {
    "collapsed": true
   },
   "outputs": [],
   "source": [
    "scc_df['ratio'] = scc_df.scc_per_cs / scc_df.scc_per_gene"
   ]
  },
  {
   "cell_type": "code",
   "execution_count": 50,
   "metadata": {
    "collapsed": false
   },
   "outputs": [],
   "source": [
    "scc_df['ratio_in_str'] = scc_df.scc_per_cs.astype(str) + '/' + scc_df.scc_per_gene.astype(str)"
   ]
  },
  {
   "cell_type": "code",
   "execution_count": 51,
   "metadata": {
    "collapsed": false
   },
   "outputs": [],
   "source": [
    "ratio_df = scc_df.ratio_in_str.value_counts().to_frame(name='count')"
   ]
  },
  {
   "cell_type": "code",
   "execution_count": 52,
   "metadata": {
    "collapsed": false
   },
   "outputs": [],
   "source": [
    "ratio_df['sort_key'] = ratio_df.index.map(lambda s: [int(_) for _ in s.split('/')[::-1]])"
   ]
  },
  {
   "cell_type": "code",
   "execution_count": 53,
   "metadata": {
    "collapsed": false
   },
   "outputs": [
    {
     "data": {
      "text/plain": [
       "<matplotlib.text.Text at 0x7fb776c10990>"
      ]
     },
     "execution_count": 53,
     "metadata": {},
     "output_type": "execute_result"
    },
    {
     "data": {
      "image/png": "[encoded data removed]",
      "text/plain": [
       "<matplotlib.figure.Figure at 0x7fb77851c950>"
      ]
     },
     "metadata": {},
     "output_type": "display_data"
    }
   ],
   "source": [
    "ax = ratio_df.sort_values('sort_key')['count'].plot.bar()\n",
    "ax.set_title('Dist of ratio of stop codons per clv site')"
   ]
  },
  {
   "cell_type": "code",
   "execution_count": 54,
   "metadata": {
    "collapsed": false
   },
   "outputs": [
    {
     "data": {
      "text/html": [
       "<div>\n",
       "<table border=\"1\" class=\"dataframe\">\n",
       "  <thead>\n",
       "    <tr style=\"text-align: right;\">\n",
       "      <th></th>\n",
       "      <th>1/1</th>\n",
       "      <th>1/2</th>\n",
       "      <th>2/2</th>\n",
       "      <th>1/3</th>\n",
       "      <th>2/3</th>\n",
       "      <th>3/3</th>\n",
       "      <th>1/4</th>\n",
       "      <th>2/4</th>\n",
       "      <th>3/4</th>\n",
       "      <th>4/4</th>\n",
       "      <th>1/5</th>\n",
       "      <th>2/5</th>\n",
       "      <th>3/5</th>\n",
       "      <th>5/5</th>\n",
       "      <th>1/6</th>\n",
       "      <th>2/6</th>\n",
       "      <th>3/6</th>\n",
       "      <th>4/6</th>\n",
       "      <th>6/6</th>\n",
       "      <th>1/7</th>\n",
       "      <th>2/7</th>\n",
       "      <th>3/7</th>\n",
       "      <th>5/7</th>\n",
       "      <th>1/8</th>\n",
       "      <th>2/8</th>\n",
       "      <th>4/8</th>\n",
       "      <th>1/9</th>\n",
       "      <th>2/9</th>\n",
       "      <th>3/9</th>\n",
       "      <th>1/10</th>\n",
       "      <th>2/10</th>\n",
       "    </tr>\n",
       "  </thead>\n",
       "  <tbody>\n",
       "    <tr>\n",
       "      <th>count</th>\n",
       "      <td>27740</td>\n",
       "      <td>14050</td>\n",
       "      <td>711</td>\n",
       "      <td>5445</td>\n",
       "      <td>370</td>\n",
       "      <td>33</td>\n",
       "      <td>1997</td>\n",
       "      <td>115</td>\n",
       "      <td>21</td>\n",
       "      <td>2</td>\n",
       "      <td>839</td>\n",
       "      <td>50</td>\n",
       "      <td>33</td>\n",
       "      <td>2</td>\n",
       "      <td>286</td>\n",
       "      <td>14</td>\n",
       "      <td>3</td>\n",
       "      <td>1</td>\n",
       "      <td>1</td>\n",
       "      <td>102</td>\n",
       "      <td>6</td>\n",
       "      <td>4</td>\n",
       "      <td>1</td>\n",
       "      <td>29</td>\n",
       "      <td>4</td>\n",
       "      <td>1</td>\n",
       "      <td>23</td>\n",
       "      <td>4</td>\n",
       "      <td>1</td>\n",
       "      <td>9</td>\n",
       "      <td>2</td>\n",
       "    </tr>\n",
       "  </tbody>\n",
       "</table>\n",
       "</div>"
      ],
      "text/plain": [
       "         1/1    1/2  2/2   1/3  2/3  3/3   1/4  2/4  3/4  4/4  1/5  2/5  3/5  5/5  1/6  2/6  3/6  4/6  6/6  1/7  2/7  3/7  5/7  1/8  2/8  4/8  1/9  2/9  3/9  1/10  2/10\n",
       "count  27740  14050  711  5445  370   33  1997  115   21    2  839   50   33    2  286   14    3    1    1  102    6    4    1   29    4    1   23    4    1     9     2"
      ]
     },
     "execution_count": 54,
     "metadata": {},
     "output_type": "execute_result"
    }
   ],
   "source": [
    "ratio_df.sort_values('sort_key')['count'].to_frame().T"
   ]
  },
  {
   "cell_type": "markdown",
   "metadata": {},
   "source": [
    "So many cases of how stop codons are used are possible, but they're neither random nor exhaustively"
   ]
  },
  {
   "cell_type": "code",
   "execution_count": null,
   "metadata": {
    "collapsed": true
   },
   "outputs": [],
   "source": []
  },
  {
   "cell_type": "markdown",
   "metadata": {
    "collapsed": true
   },
   "source": [
    "### How many transcripts don't have UTR?"
   ]
  },
  {
   "cell_type": "code",
   "execution_count": 58,
   "metadata": {
    "collapsed": true
   },
   "outputs": [],
   "source": [
    "ndf = df.query('source == \"protein_coding\"').query('feature != \"gene\"')"
   ]
  },
  {
   "cell_type": "code",
   "execution_count": 59,
   "metadata": {
    "collapsed": false
   },
   "outputs": [
    {
     "data": {
      "text/html": [
       "<div>\n",
       "<table border=\"1\" class=\"dataframe\">\n",
       "  <thead>\n",
       "    <tr style=\"text-align: right;\">\n",
       "      <th></th>\n",
       "      <th>seqname</th>\n",
       "      <th>source</th>\n",
       "      <th>feature</th>\n",
       "      <th>start</th>\n",
       "      <th>end</th>\n",
       "      <th>score</th>\n",
       "      <th>strand</th>\n",
       "      <th>frame</th>\n",
       "      <th>len</th>\n",
       "      <th>transcript_id</th>\n",
       "      <th>gene_id</th>\n",
       "      <th>gene_name</th>\n",
       "    </tr>\n",
       "  </thead>\n",
       "  <tbody>\n",
       "    <tr>\n",
       "      <th>110</th>\n",
       "      <td>1</td>\n",
       "      <td>protein_coding</td>\n",
       "      <td>transcript</td>\n",
       "      <td>69091</td>\n",
       "      <td>70008</td>\n",
       "      <td>.</td>\n",
       "      <td>+</td>\n",
       "      <td>.</td>\n",
       "      <td>918</td>\n",
       "      <td>ENST00000335137</td>\n",
       "      <td>ENSG00000186092</td>\n",
       "      <td>OR4F5</td>\n",
       "    </tr>\n",
       "    <tr>\n",
       "      <th>111</th>\n",
       "      <td>1</td>\n",
       "      <td>protein_coding</td>\n",
       "      <td>exon</td>\n",
       "      <td>69091</td>\n",
       "      <td>70008</td>\n",
       "      <td>.</td>\n",
       "      <td>+</td>\n",
       "      <td>.</td>\n",
       "      <td>918</td>\n",
       "      <td>ENST00000335137</td>\n",
       "      <td>ENSG00000186092</td>\n",
       "      <td>OR4F5</td>\n",
       "    </tr>\n",
       "  </tbody>\n",
       "</table>\n",
       "</div>"
      ],
      "text/plain": [
       "    seqname          source     feature  start    end score strand frame  len    transcript_id          gene_id gene_name\n",
       "110       1  protein_coding  transcript  69091  70008     .      +     .  918  ENST00000335137  ENSG00000186092     OR4F5\n",
       "111       1  protein_coding        exon  69091  70008     .      +     .  918  ENST00000335137  ENSG00000186092     OR4F5"
      ]
     },
     "execution_count": 59,
     "metadata": {},
     "output_type": "execute_result"
    }
   ],
   "source": [
    "ndf.head(2)"
   ]
  },
  {
   "cell_type": "code",
   "execution_count": 60,
   "metadata": {
    "collapsed": true
   },
   "outputs": [],
   "source": [
    "for (k, g) in ndf.groupby('transcript_id'):\n",
    "    break"
   ]
  },
  {
   "cell_type": "code",
   "execution_count": 67,
   "metadata": {
    "collapsed": false
   },
   "outputs": [
    {
     "name": "stdout",
     "output_type": "stream",
     "text": [
      "CPU times: user 1min 42s, sys: 33 ms, total: 1min 42s\n",
      "Wall time: 1min 42s\n"
     ]
    }
   ],
   "source": [
    "%time has_utr_df = ndf.groupby('transcript_id').apply(lambda grp: grp.query('feature == \"UTR\"').shape[0] > 0)"
   ]
  },
  {
   "cell_type": "code",
   "execution_count": 68,
   "metadata": {
    "collapsed": false
   },
   "outputs": [
    {
     "data": {
      "text/plain": [
       "True     85661\n",
       "False     4612\n",
       "dtype: int64"
      ]
     },
     "execution_count": 68,
     "metadata": {},
     "output_type": "execute_result"
    }
   ],
   "source": [
    "has_utr_df.value_counts()"
   ]
  },
  {
   "cell_type": "code",
   "execution_count": 72,
   "metadata": {
    "collapsed": false
   },
   "outputs": [
    {
     "data": {
      "text/plain": [
       "0.05384013728534572"
      ]
     },
     "execution_count": 72,
     "metadata": {},
     "output_type": "execute_result"
    }
   ],
   "source": [
    "4612 / 85661."
   ]
  },
  {
   "cell_type": "markdown",
   "metadata": {},
   "source": [
    "So 5.4% of the annotated transcripts don't have UTR"
   ]
  },
  {
   "cell_type": "code",
   "execution_count": 69,
   "metadata": {
    "collapsed": false
   },
   "outputs": [
    {
     "name": "stdout",
     "output_type": "stream",
     "text": [
      "CPU times: user 1min 42s, sys: 40 ms, total: 1min 42s\n",
      "Wall time: 1min 42s\n"
     ]
    }
   ],
   "source": [
    "%time has_sc_df = ndf.groupby('transcript_id').apply(lambda grp: grp.query('feature == \"stop_codon\"').shape[0] > 0)"
   ]
  },
  {
   "cell_type": "code",
   "execution_count": 70,
   "metadata": {
    "collapsed": false
   },
   "outputs": [
    {
     "data": {
      "text/plain": [
       "True     62800\n",
       "False    27473\n",
       "dtype: int64"
      ]
     },
     "execution_count": 70,
     "metadata": {},
     "output_type": "execute_result"
    }
   ],
   "source": [
    "has_sc_df.value_counts()"
   ]
  },
  {
   "cell_type": "code",
   "execution_count": 73,
   "metadata": {
    "collapsed": false
   },
   "outputs": [
    {
     "data": {
      "text/plain": [
       "0.437468152866242"
      ]
     },
     "execution_count": 73,
     "metadata": {},
     "output_type": "execute_result"
    }
   ],
   "source": [
    "27473 / 62800."
   ]
  },
  {
   "cell_type": "markdown",
   "metadata": {},
   "source": [
    "44% of annotated transcripts don't have stop codons!!! How come?\n",
    "Ans: there are transcripts that have UTR but not stop codons annotated: e.g. BRCA2-ENST00000470094, BRCA2-ENST00000470094, DRAM1-ENST00000549365, but the are three are all nonsense_mediated_decay (NMD). However, PIK3R1-ENST00000517698 is also a NMD, but it has annotated start and stop codons. Confused :("
   ]
  },
  {
   "cell_type": "code",
   "execution_count": null,
   "metadata": {
    "collapsed": true
   },
   "outputs": [],
   "source": []
  }
 ],
 "metadata": {
  "anaconda-cloud": {},
  "kernelspec": {
   "display_name": "Python [default]",
   "language": "python",
   "name": "python3"
  },
  "language_info": {
   "codemirror_mode": {
    "name": "ipython",
    "version": 3
   },
   "file_extension": ".py",
   "mimetype": "text/x-python",
   "name": "python",
   "nbconvert_exporter": "python",
   "pygments_lexer": "ipython3",
   "version": "3.5.2"
  }
 },
 "nbformat": 4,
 "nbformat_minor": 1
}
