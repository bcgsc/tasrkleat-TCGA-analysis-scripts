{
 "cells": [
  {
   "cell_type": "code",
   "execution_count": 1,
   "metadata": {
    "collapsed": false
   },
   "outputs": [],
   "source": [
    "from eda_import import *"
   ]
  },
  {
   "cell_type": "code",
   "execution_count": 2,
   "metadata": {
    "collapsed": false
   },
   "outputs": [],
   "source": [
    "df_kleat = pd.read_csv('./UHR/C1/tasrkleat-results/kleat/styleA-filtered-benchmark.txt',\n",
    "                      header=None, names=['filename', 'sensitivity', 'precision', 'f1'], sep=' ')\n",
    "df_kleat['program'] = 'KLEAT'\n",
    "df_kleat['filter_style'] = 'A'"
   ]
  },
  {
   "cell_type": "code",
   "execution_count": 3,
   "metadata": {
    "collapsed": true
   },
   "outputs": [],
   "source": [
    "df_kleat_tbr = pd.read_csv('./UHR/C1/tasrkleat-results/kleat/styleB-filtered-benchmark.txt',\n",
    "                          header=None, names=['filename', 'sensitivity', 'precision', 'f1'], sep=' ')\n",
    "df_kleat_tbr['program'] = 'KLEAT'\n",
    "df_kleat_tbr['filter_style'] = 'B'"
   ]
  },
  {
   "cell_type": "code",
   "execution_count": 4,
   "metadata": {
    "collapsed": false
   },
   "outputs": [
    {
     "data": {
      "text/html": [
       "<div>\n",
       "<style>\n",
       "    .dataframe thead tr:only-child th {\n",
       "        text-align: right;\n",
       "    }\n",
       "\n",
       "    .dataframe thead th {\n",
       "        text-align: left;\n",
       "    }\n",
       "\n",
       "    .dataframe tbody tr th {\n",
       "        vertical-align: top;\n",
       "    }\n",
       "</style>\n",
       "<table border=\"1\" class=\"dataframe\">\n",
       "  <thead>\n",
       "    <tr style=\"text-align: right;\">\n",
       "      <th></th>\n",
       "      <th>filename</th>\n",
       "      <th>sensitivity</th>\n",
       "      <th>precision</th>\n",
       "      <th>f1</th>\n",
       "      <th>program</th>\n",
       "      <th>filter_style</th>\n",
       "    </tr>\n",
       "  </thead>\n",
       "  <tbody>\n",
       "    <tr>\n",
       "      <th>0</th>\n",
       "      <td>./UHR/C1/tasrkleat-results/kleat/postproc-styleB-tbr-tuning/tbr_gt_1.csv</td>\n",
       "      <td>0.113086</td>\n",
       "      <td>0.546875</td>\n",
       "      <td>0.187416</td>\n",
       "      <td>KLEAT</td>\n",
       "      <td>B</td>\n",
       "    </tr>\n",
       "    <tr>\n",
       "      <th>1</th>\n",
       "      <td>./UHR/C1/tasrkleat-results/kleat/postproc-styleB-tbr-tuning/tbr_gt_2.csv</td>\n",
       "      <td>0.090468</td>\n",
       "      <td>0.691358</td>\n",
       "      <td>0.160000</td>\n",
       "      <td>KLEAT</td>\n",
       "      <td>B</td>\n",
       "    </tr>\n",
       "  </tbody>\n",
       "</table>\n",
       "</div>"
      ],
      "text/plain": [
       "                                                                   filename  sensitivity  precision        f1 program filter_style\n",
       "0  ./UHR/C1/tasrkleat-results/kleat/postproc-styleB-tbr-tuning/tbr_gt_1.csv  0.113086     0.546875   0.187416  KLEAT   B          \n",
       "1  ./UHR/C1/tasrkleat-results/kleat/postproc-styleB-tbr-tuning/tbr_gt_2.csv  0.090468     0.691358   0.160000  KLEAT   B          "
      ]
     },
     "execution_count": 4,
     "metadata": {},
     "output_type": "execute_result"
    }
   ],
   "source": [
    "df_kleat_tbr.head(2)"
   ]
  },
  {
   "cell_type": "code",
   "execution_count": 5,
   "metadata": {
    "collapsed": true
   },
   "outputs": [],
   "source": [
    "df_cm2 = pd.read_csv(\n",
    "    './ContextMap2/ContextMap_v2.7.9_static/cm2-output-parameter-sweep/UHR/C1/vs-polyA-Seq.concat.csv',\n",
    "     header=None, names=['filename', 'sensitivity', 'precision', 'f1'], sep=' ')\n",
    "df_cm2['program'] = 'ContextMap 2'"
   ]
  },
  {
   "cell_type": "code",
   "execution_count": 6,
   "metadata": {
    "collapsed": false
   },
   "outputs": [
    {
     "data": {
      "text/html": [
       "<div>\n",
       "<style>\n",
       "    .dataframe thead tr:only-child th {\n",
       "        text-align: right;\n",
       "    }\n",
       "\n",
       "    .dataframe thead th {\n",
       "        text-align: left;\n",
       "    }\n",
       "\n",
       "    .dataframe tbody tr th {\n",
       "        vertical-align: top;\n",
       "    }\n",
       "</style>\n",
       "<table border=\"1\" class=\"dataframe\">\n",
       "  <thead>\n",
       "    <tr style=\"text-align: right;\">\n",
       "      <th></th>\n",
       "      <th>filename</th>\n",
       "      <th>sensitivity</th>\n",
       "      <th>precision</th>\n",
       "      <th>f1</th>\n",
       "      <th>program</th>\n",
       "    </tr>\n",
       "  </thead>\n",
       "  <tbody>\n",
       "    <tr>\n",
       "      <th>0</th>\n",
       "      <td>../ContextMap2/ContextMap_v2.7.9_static/cm2-output-parameter-sweep/UHR/C1/04/02/polyA_tails.bed</td>\n",
       "      <td>0.074313</td>\n",
       "      <td>0.807018</td>\n",
       "      <td>0.136095</td>\n",
       "      <td>ContextMap 2</td>\n",
       "    </tr>\n",
       "    <tr>\n",
       "      <th>1</th>\n",
       "      <td>../ContextMap2/ContextMap_v2.7.9_static/cm2-output-parameter-sweep/UHR/C1/04/03/polyA_tails.bed</td>\n",
       "      <td>0.053312</td>\n",
       "      <td>0.785714</td>\n",
       "      <td>0.099849</td>\n",
       "      <td>ContextMap 2</td>\n",
       "    </tr>\n",
       "  </tbody>\n",
       "</table>\n",
       "</div>"
      ],
      "text/plain": [
       "                                                                                          filename  sensitivity  precision        f1       program\n",
       "0  ../ContextMap2/ContextMap_v2.7.9_static/cm2-output-parameter-sweep/UHR/C1/04/02/polyA_tails.bed  0.074313     0.807018   0.136095  ContextMap 2\n",
       "1  ../ContextMap2/ContextMap_v2.7.9_static/cm2-output-parameter-sweep/UHR/C1/04/03/polyA_tails.bed  0.053312     0.785714   0.099849  ContextMap 2"
      ]
     },
     "execution_count": 6,
     "metadata": {},
     "output_type": "execute_result"
    }
   ],
   "source": [
    "df_cm2.head(2)"
   ]
  },
  {
   "cell_type": "code",
   "execution_count": 7,
   "metadata": {
    "collapsed": true
   },
   "outputs": [],
   "source": [
    "df = pd.concat([df_kleat, df_kleat_tbr, df_cm2])"
   ]
  },
  {
   "cell_type": "code",
   "execution_count": 8,
   "metadata": {
    "collapsed": false
   },
   "outputs": [
    {
     "data": {
      "text/html": [
       "<div>\n",
       "<style>\n",
       "    .dataframe thead tr:only-child th {\n",
       "        text-align: right;\n",
       "    }\n",
       "\n",
       "    .dataframe thead th {\n",
       "        text-align: left;\n",
       "    }\n",
       "\n",
       "    .dataframe tbody tr th {\n",
       "        vertical-align: top;\n",
       "    }\n",
       "</style>\n",
       "<table border=\"1\" class=\"dataframe\">\n",
       "  <thead>\n",
       "    <tr style=\"text-align: right;\">\n",
       "      <th></th>\n",
       "      <th>f1</th>\n",
       "      <th>filename</th>\n",
       "      <th>filter_style</th>\n",
       "      <th>precision</th>\n",
       "      <th>program</th>\n",
       "      <th>sensitivity</th>\n",
       "    </tr>\n",
       "  </thead>\n",
       "  <tbody>\n",
       "    <tr>\n",
       "      <th>0</th>\n",
       "      <td>0.258696</td>\n",
       "      <td>./UHR/C1/tasrkleat-results/kleat/postproc-styleA-polyA-confidence/nda15-ltc0-nbr0-maxbrtl0-hxm16.csv</td>\n",
       "      <td>A</td>\n",
       "      <td>0.395349</td>\n",
       "      <td>KLEAT</td>\n",
       "      <td>0.192246</td>\n",
       "    </tr>\n",
       "    <tr>\n",
       "      <th>1</th>\n",
       "      <td>0.248432</td>\n",
       "      <td>./UHR/C1/tasrkleat-results/kleat/postproc-styleA-polyA-confidence/nda15-ltc0-nbr0-maxbrtl0-hxm2.csv</td>\n",
       "      <td>A</td>\n",
       "      <td>0.556180</td>\n",
       "      <td>KLEAT</td>\n",
       "      <td>0.159935</td>\n",
       "    </tr>\n",
       "    <tr>\n",
       "      <th>2</th>\n",
       "      <td>0.258696</td>\n",
       "      <td>./UHR/C1/tasrkleat-results/kleat/postproc-styleA-polyA-confidence/nda15-ltc0-nbr0-maxbrtl2-hxm16.csv</td>\n",
       "      <td>A</td>\n",
       "      <td>0.395349</td>\n",
       "      <td>KLEAT</td>\n",
       "      <td>0.192246</td>\n",
       "    </tr>\n",
       "    <tr>\n",
       "      <th>3</th>\n",
       "      <td>0.248432</td>\n",
       "      <td>./UHR/C1/tasrkleat-results/kleat/postproc-styleA-polyA-confidence/nda15-ltc0-nbr0-maxbrtl2-hxm2.csv</td>\n",
       "      <td>A</td>\n",
       "      <td>0.556180</td>\n",
       "      <td>KLEAT</td>\n",
       "      <td>0.159935</td>\n",
       "    </tr>\n",
       "    <tr>\n",
       "      <th>4</th>\n",
       "      <td>0.258696</td>\n",
       "      <td>./UHR/C1/tasrkleat-results/kleat/postproc-styleA-polyA-confidence/nda15-ltc0-nbr0-maxbrtl4-hxm16.csv</td>\n",
       "      <td>A</td>\n",
       "      <td>0.395349</td>\n",
       "      <td>KLEAT</td>\n",
       "      <td>0.192246</td>\n",
       "    </tr>\n",
       "  </tbody>\n",
       "</table>\n",
       "</div>"
      ],
      "text/plain": [
       "         f1                                                                                              filename filter_style  precision program  sensitivity\n",
       "0  0.258696  ./UHR/C1/tasrkleat-results/kleat/postproc-styleA-polyA-confidence/nda15-ltc0-nbr0-maxbrtl0-hxm16.csv  A            0.395349   KLEAT   0.192246   \n",
       "1  0.248432  ./UHR/C1/tasrkleat-results/kleat/postproc-styleA-polyA-confidence/nda15-ltc0-nbr0-maxbrtl0-hxm2.csv   A            0.556180   KLEAT   0.159935   \n",
       "2  0.258696  ./UHR/C1/tasrkleat-results/kleat/postproc-styleA-polyA-confidence/nda15-ltc0-nbr0-maxbrtl2-hxm16.csv  A            0.395349   KLEAT   0.192246   \n",
       "3  0.248432  ./UHR/C1/tasrkleat-results/kleat/postproc-styleA-polyA-confidence/nda15-ltc0-nbr0-maxbrtl2-hxm2.csv   A            0.556180   KLEAT   0.159935   \n",
       "4  0.258696  ./UHR/C1/tasrkleat-results/kleat/postproc-styleA-polyA-confidence/nda15-ltc0-nbr0-maxbrtl4-hxm16.csv  A            0.395349   KLEAT   0.192246   "
      ]
     },
     "execution_count": 8,
     "metadata": {},
     "output_type": "execute_result"
    }
   ],
   "source": [
    "df.head()"
   ]
  },
  {
   "cell_type": "code",
   "execution_count": 9,
   "metadata": {
    "collapsed": false
   },
   "outputs": [
    {
     "data": {
      "text/plain": [
       "KLEAT           1161\n",
       "ContextMap 2    28  \n",
       "Name: program, dtype: int64"
      ]
     },
     "execution_count": 9,
     "metadata": {},
     "output_type": "execute_result"
    }
   ],
   "source": [
    "df.program.value_counts()"
   ]
  },
  {
   "cell_type": "code",
   "execution_count": 10,
   "metadata": {
    "collapsed": false
   },
   "outputs": [
    {
     "data": {
      "text/plain": [
       "(1189, 6)"
      ]
     },
     "execution_count": 10,
     "metadata": {},
     "output_type": "execute_result"
    }
   ],
   "source": [
    "df.shape"
   ]
  },
  {
   "cell_type": "code",
   "execution_count": 11,
   "metadata": {
    "collapsed": false
   },
   "outputs": [],
   "source": [
    "def assign_color(row):\n",
    "    v = row.program\n",
    "    if v == 'KLEAT':\n",
    "        if row.filter_style == 'A':\n",
    "            return 'red'\n",
    "        elif row.filter_style == 'B':\n",
    "            return 'orange'\n",
    "        else:\n",
    "            raise\n",
    "    elif v == 'ContextMap 2':\n",
    "        return 'blue'\n",
    "    elif v == 'DaPars':\n",
    "        return 'magenta'\n",
    "    else:\n",
    "        raise\n",
    "    \n",
    "df['color'] = df.apply(assign_color, axis=1)"
   ]
  },
  {
   "cell_type": "code",
   "execution_count": 12,
   "metadata": {
    "collapsed": true
   },
   "outputs": [],
   "source": [
    "# Adding datapoints from DaPars\n",
    "# df_dapars = pd.read_csv('dapars/', sep='\\t')"
   ]
  },
  {
   "cell_type": "code",
   "execution_count": 15,
   "metadata": {
    "collapsed": false
   },
   "outputs": [
    {
     "data": {
      "text/html": [
       "<div>\n",
       "<style>\n",
       "    .dataframe thead tr:only-child th {\n",
       "        text-align: right;\n",
       "    }\n",
       "\n",
       "    .dataframe thead th {\n",
       "        text-align: left;\n",
       "    }\n",
       "\n",
       "    .dataframe tbody tr th {\n",
       "        vertical-align: top;\n",
       "    }\n",
       "</style>\n",
       "<table border=\"1\" class=\"dataframe\">\n",
       "  <thead>\n",
       "    <tr style=\"text-align: right;\">\n",
       "      <th></th>\n",
       "      <th>f1</th>\n",
       "      <th>filename</th>\n",
       "      <th>filter_style</th>\n",
       "      <th>precision</th>\n",
       "      <th>program</th>\n",
       "      <th>sensitivity</th>\n",
       "      <th>color</th>\n",
       "    </tr>\n",
       "  </thead>\n",
       "  <tbody>\n",
       "    <tr>\n",
       "      <th>205</th>\n",
       "      <td>0.241895</td>\n",
       "      <td>./UHR/C1/tasrkleat-results/kleat/postproc-styleA-polyA-confidence/nda25-ltc4-nbr2-maxbrtl4-hxm2.csv</td>\n",
       "      <td>A</td>\n",
       "      <td>0.530055</td>\n",
       "      <td>KLEAT</td>\n",
       "      <td>0.156704</td>\n",
       "      <td>red</td>\n",
       "    </tr>\n",
       "  </tbody>\n",
       "</table>\n",
       "</div>"
      ],
      "text/plain": [
       "           f1                                                                                             filename filter_style  precision program  sensitivity color\n",
       "205  0.241895  ./UHR/C1/tasrkleat-results/kleat/postproc-styleA-polyA-confidence/nda25-ltc4-nbr2-maxbrtl4-hxm2.csv  A            0.530055   KLEAT   0.156704     red "
      ]
     },
     "metadata": {},
     "output_type": "display_data"
    },
    {
     "data": {
      "image/png": "[encoded data removed]",
      "text/plain": [
       "<matplotlib.figure.Figure at 0x7ff1392cb940>"
      ]
     },
     "metadata": {},
     "output_type": "display_data"
    }
   ],
   "source": [
    "ax = plt.axes()\n",
    "\n",
    "colors = 'rgb'\n",
    "\n",
    "# mask for manuscript filter\n",
    "mask = df.filename.str.contains('nda25-ltc4-nbr2-maxbrtl4-hxm2.csv')\n",
    "for color in ['red', 'orange']:\n",
    "    _df = df[-mask].query('color == \"{0}\"'.format(color))\n",
    "    color2label_dd = {\n",
    "        'red': 'KLEAT, A-style filter',\n",
    "        'orange': 'KLEAT, B-style filter ',\n",
    "        'blue': 'ContextMap2',\n",
    "    }\n",
    "    label = color2label_dd[color]\n",
    "    ax.scatter(_df.precision, _df.sensitivity, \n",
    "               color=_df.color.values,\n",
    "               s=15,\n",
    "               edgecolor='grey',\n",
    "               linewidth=0.5,\n",
    "               label=label)\n",
    "\n",
    "display(df[mask])\n",
    "df[mask].plot.scatter(ax=ax,\n",
    "    x='precision', y='sensitivity', color='black', marker='*', s=100, label='KLEAT, current filter')\n",
    "   \n",
    "# for proper ordering\n",
    "for color in ['blue']:\n",
    "    _df = df[-mask].query('color == \"{0}\"'.format(color))\n",
    "    color2label_dd = {\n",
    "        'red': 'KLEAT, A-style filter',\n",
    "        'orange': 'KLEAT, B-style filter ',\n",
    "        'blue': 'ContextMap 2',\n",
    "    }\n",
    "    label = color2label_dd[color]\n",
    "    ax.scatter(_df.precision, _df.sensitivity, \n",
    "               color=_df.color.values,\n",
    "               s=15,\n",
    "               edgecolor='grey',\n",
    "               linewidth=0.5,\n",
    "               label=label)\n",
    "    \n",
    "    \n",
    "# dapars UHRC1 vs HBRC4\n",
    "ax.scatter([0.3883495145631068], [0.12924071082390953], color='cyan',\n",
    "               s=15,\n",
    "               edgecolor='grey', linewidth=0.5, label='DaPars')\n",
    "\n",
    "    \n",
    "ax.legend(bbox_to_anchor=(1.04,1), loc=\"upper left\", scatterpoints=1)\n",
    "ax.set_xlabel('Precision')\n",
    "ax.set_ylabel('Sensitivity')\n",
    "ax.grid()\n",
    "# ax.set_xlim([0, 1])\n",
    "# ax.set_ylim([0, 1])"
   ]
  },
  {
   "cell_type": "code",
   "execution_count": null,
   "metadata": {
    "collapsed": true
   },
   "outputs": [],
   "source": []
  }
 ],
 "metadata": {
  "anaconda-cloud": {},
  "kernelspec": {
   "display_name": "Python [default]",
   "language": "python",
   "name": "python3"
  },
  "language_info": {
   "codemirror_mode": {
    "name": "ipython",
    "version": 3
   },
   "file_extension": ".py",
   "mimetype": "text/x-python",
   "name": "python",
   "nbconvert_exporter": "python",
   "pygments_lexer": "ipython3",
   "version": "3.5.3"
  }
 },
 "nbformat": 4,
 "nbformat_minor": 2
}
