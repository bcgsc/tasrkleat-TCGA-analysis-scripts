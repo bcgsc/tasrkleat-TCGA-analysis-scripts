{
 "cells": [
  {
   "cell_type": "code",
   "execution_count": 1,
   "metadata": {
    "collapsed": false
   },
   "outputs": [],
   "source": [
    "from eda_import import *"
   ]
  },
  {
   "cell_type": "code",
   "execution_count": 2,
   "metadata": {
    "collapsed": false
   },
   "outputs": [],
   "source": [
    "from utils.cluster import cluster_clv_sites"
   ]
  },
  {
   "cell_type": "code",
   "execution_count": 5,
   "metadata": {
    "collapsed": true
   },
   "outputs": [],
   "source": [
    "# UHRC1\n",
    "input_bed = '/projects/btl/zxue/tasrkleat-TCGA-results/tasrkleat-TCGA-analysis-scripts/benchmark-kleat/UHR/C1/polyA-Seq/GSM747475_human_maqc-UHR1.sites.clustered.hg19.bed.gz'"
   ]
  },
  {
   "cell_type": "code",
   "execution_count": 6,
   "metadata": {
    "collapsed": false
   },
   "outputs": [],
   "source": [
    "outdir = os.path.dirname(input_bed)\n",
    "\n",
    "df_polya = pd.read_csv(\n",
    "    input_bed, header=None, sep='\\t',\n",
    "    names=['seqname', 'clv', 'clv1', 'hexamer_str', 'unknown', 'strand'])"
   ]
  },
  {
   "cell_type": "code",
   "execution_count": 7,
   "metadata": {
    "collapsed": false
   },
   "outputs": [
    {
     "data": {
      "text/html": [
       "<div>\n",
       "<style>\n",
       "    .dataframe thead tr:only-child th {\n",
       "        text-align: right;\n",
       "    }\n",
       "\n",
       "    .dataframe thead th {\n",
       "        text-align: left;\n",
       "    }\n",
       "\n",
       "    .dataframe tbody tr th {\n",
       "        vertical-align: top;\n",
       "    }\n",
       "</style>\n",
       "<table border=\"1\" class=\"dataframe\">\n",
       "  <thead>\n",
       "    <tr style=\"text-align: right;\">\n",
       "      <th></th>\n",
       "      <th>seqname</th>\n",
       "      <th>clv</th>\n",
       "      <th>clv1</th>\n",
       "      <th>hexamer_str</th>\n",
       "      <th>unknown</th>\n",
       "      <th>strand</th>\n",
       "    </tr>\n",
       "  </thead>\n",
       "  <tbody>\n",
       "    <tr>\n",
       "      <th>0</th>\n",
       "      <td>chr1</td>\n",
       "      <td>16442</td>\n",
       "      <td>16443</td>\n",
       "      <td>6.264|CATAAA</td>\n",
       "      <td>2</td>\n",
       "      <td>-</td>\n",
       "    </tr>\n",
       "    <tr>\n",
       "      <th>1</th>\n",
       "      <td>chr1</td>\n",
       "      <td>85379</td>\n",
       "      <td>85380</td>\n",
       "      <td>7.387|none</td>\n",
       "      <td>2</td>\n",
       "      <td>-</td>\n",
       "    </tr>\n",
       "    <tr>\n",
       "      <th>2</th>\n",
       "      <td>chr1</td>\n",
       "      <td>89297</td>\n",
       "      <td>89298</td>\n",
       "      <td>6.583|AGTAAA</td>\n",
       "      <td>3</td>\n",
       "      <td>-</td>\n",
       "    </tr>\n",
       "    <tr>\n",
       "      <th>3</th>\n",
       "      <td>chr1</td>\n",
       "      <td>123727</td>\n",
       "      <td>123728</td>\n",
       "      <td>10.25|AATAAA</td>\n",
       "      <td>1</td>\n",
       "      <td>-</td>\n",
       "    </tr>\n",
       "    <tr>\n",
       "      <th>4</th>\n",
       "      <td>chr1</td>\n",
       "      <td>564950</td>\n",
       "      <td>564951</td>\n",
       "      <td>5.730|none</td>\n",
       "      <td>1</td>\n",
       "      <td>-</td>\n",
       "    </tr>\n",
       "  </tbody>\n",
       "</table>\n",
       "</div>"
      ],
      "text/plain": [
       "  seqname     clv    clv1   hexamer_str  unknown strand\n",
       "0  chr1    16442   16443   6.264|CATAAA  2        -    \n",
       "1  chr1    85379   85380   7.387|none    2        -    \n",
       "2  chr1    89297   89298   6.583|AGTAAA  3        -    \n",
       "3  chr1    123727  123728  10.25|AATAAA  1        -    \n",
       "4  chr1    564950  564951  5.730|none    1        -    "
      ]
     },
     "execution_count": 7,
     "metadata": {},
     "output_type": "execute_result"
    }
   ],
   "source": [
    "df_polya.head()"
   ]
  },
  {
   "cell_type": "markdown",
   "metadata": {},
   "source": [
    "# Filter against the coordinates of 114 genes"
   ]
  },
  {
   "cell_type": "code",
   "execution_count": 8,
   "metadata": {
    "collapsed": true
   },
   "outputs": [],
   "source": [
    "ndf_polya = df_polya.drop(['clv1', 'unknown'], axis=1)"
   ]
  },
  {
   "cell_type": "code",
   "execution_count": 10,
   "metadata": {
    "collapsed": false
   },
   "outputs": [],
   "source": [
    "df_gene_coords = pd.read_csv('./114_gene_coordinates.csv')"
   ]
  },
  {
   "cell_type": "code",
   "execution_count": 13,
   "metadata": {
    "collapsed": false,
    "scrolled": true
   },
   "outputs": [
    {
     "data": {
      "text/plain": [
       "(114, 16)"
      ]
     },
     "execution_count": 13,
     "metadata": {},
     "output_type": "execute_result"
    }
   ],
   "source": [
    "df_gene_coords.shape"
   ]
  },
  {
   "cell_type": "code",
   "execution_count": 14,
   "metadata": {
    "collapsed": false
   },
   "outputs": [
    {
     "data": {
      "text/html": [
       "<div>\n",
       "<style>\n",
       "    .dataframe thead tr:only-child th {\n",
       "        text-align: right;\n",
       "    }\n",
       "\n",
       "    .dataframe thead th {\n",
       "        text-align: left;\n",
       "    }\n",
       "\n",
       "    .dataframe tbody tr th {\n",
       "        vertical-align: top;\n",
       "    }\n",
       "</style>\n",
       "<table border=\"1\" class=\"dataframe\">\n",
       "  <thead>\n",
       "    <tr style=\"text-align: right;\">\n",
       "      <th></th>\n",
       "      <th>seqname</th>\n",
       "      <th>source</th>\n",
       "      <th>feature</th>\n",
       "      <th>start</th>\n",
       "      <th>end</th>\n",
       "      <th>score</th>\n",
       "      <th>strand</th>\n",
       "      <th>frame</th>\n",
       "      <th>len</th>\n",
       "      <th>transcript_id</th>\n",
       "      <th>gene_id</th>\n",
       "      <th>gene_name</th>\n",
       "      <th>gene_source</th>\n",
       "      <th>transcript_source</th>\n",
       "      <th>is_cds_end_NF</th>\n",
       "      <th>is_cds_start_NF</th>\n",
       "    </tr>\n",
       "  </thead>\n",
       "  <tbody>\n",
       "    <tr>\n",
       "      <th>0</th>\n",
       "      <td>chr1</td>\n",
       "      <td>protein_coding</td>\n",
       "      <td>gene</td>\n",
       "      <td>40361098</td>\n",
       "      <td>40367928</td>\n",
       "      <td>.</td>\n",
       "      <td>-</td>\n",
       "      <td>.</td>\n",
       "      <td>6831</td>\n",
       "      <td>NaN</td>\n",
       "      <td>ENSG00000116990</td>\n",
       "      <td>MYCL</td>\n",
       "      <td>ensembl_havana</td>\n",
       "      <td>NaN</td>\n",
       "      <td>False</td>\n",
       "      <td>False</td>\n",
       "    </tr>\n",
       "    <tr>\n",
       "      <th>1</th>\n",
       "      <td>chr1</td>\n",
       "      <td>protein_coding</td>\n",
       "      <td>gene</td>\n",
       "      <td>51426417</td>\n",
       "      <td>51440305</td>\n",
       "      <td>.</td>\n",
       "      <td>+</td>\n",
       "      <td>.</td>\n",
       "      <td>13889</td>\n",
       "      <td>NaN</td>\n",
       "      <td>ENSG00000123080</td>\n",
       "      <td>CDKN2C</td>\n",
       "      <td>ensembl_havana</td>\n",
       "      <td>NaN</td>\n",
       "      <td>False</td>\n",
       "      <td>False</td>\n",
       "    </tr>\n",
       "  </tbody>\n",
       "</table>\n",
       "</div>"
      ],
      "text/plain": [
       "  seqname          source feature     start       end score strand frame    len  transcript_id          gene_id gene_name     gene_source  transcript_source  is_cds_end_NF  is_cds_start_NF\n",
       "0  chr1    protein_coding  gene    40361098  40367928  .     -      .     6831  NaN             ENSG00000116990  MYCL      ensembl_havana NaN                 False          False          \n",
       "1  chr1    protein_coding  gene    51426417  51440305  .     +      .     13889 NaN             ENSG00000123080  CDKN2C    ensembl_havana NaN                 False          False          "
      ]
     },
     "execution_count": 14,
     "metadata": {},
     "output_type": "execute_result"
    }
   ],
   "source": [
    "df_gene_coords.head(2)"
   ]
  },
  {
   "cell_type": "code",
   "execution_count": 15,
   "metadata": {
    "collapsed": false
   },
   "outputs": [
    {
     "data": {
      "text/plain": [
       "array(['chr1', 'chr2', 'chr3', 'chr4', 'chr5', 'chr6', 'chr7', 'X', 'chr8',\n",
       "       'chr9', 'chr10', 'chr11', 'chr12', 'chr13', 'chr14', 'chr15',\n",
       "       'chr16', 'chr17', 'chr18', 'chr20', 'chr19', 'chr22'], dtype=object)"
      ]
     },
     "execution_count": 15,
     "metadata": {},
     "output_type": "execute_result"
    }
   ],
   "source": [
    "df_gene_coords.seqname.unique()"
   ]
  },
  {
   "cell_type": "code",
   "execution_count": 16,
   "metadata": {
    "collapsed": false
   },
   "outputs": [],
   "source": [
    "COORDS_DD = df_gene_coords.groupby(['seqname', 'strand']).apply(lambda g: g[['start', 'end']].values).to_dict()\n",
    "def is_from_target_gene(row):\n",
    "    key = (row.seqname, row.strand)\n",
    "    coord_list = COORDS_DD.get(key)\n",
    "    if coord_list is None:\n",
    "        return False\n",
    "    \n",
    "    valid = False\n",
    "    for (beg, end) in coord_list:\n",
    "        if row.clv >= beg and row.clv <= end:\n",
    "            valid = True\n",
    "            break\n",
    "    return valid"
   ]
  },
  {
   "cell_type": "code",
   "execution_count": 17,
   "metadata": {
    "collapsed": false
   },
   "outputs": [
    {
     "name": "stdout",
     "output_type": "stream",
     "text": [
      "CPU times: user 19.7 s, sys: 0 ns, total: 19.7 s\n",
      "Wall time: 19.6 s\n"
     ]
    }
   ],
   "source": [
    "%time ndf_polya['within_target_gene'] = ndf_polya.apply(is_from_target_gene, axis=1)"
   ]
  },
  {
   "cell_type": "code",
   "execution_count": 18,
   "metadata": {
    "collapsed": false
   },
   "outputs": [
    {
     "data": {
      "text/plain": [
       "False    103277\n",
       "True     619   \n",
       "Name: within_target_gene, dtype: int64"
      ]
     },
     "execution_count": 18,
     "metadata": {},
     "output_type": "execute_result"
    }
   ],
   "source": [
    "ndf_polya.within_target_gene.value_counts()"
   ]
  },
  {
   "cell_type": "code",
   "execution_count": 19,
   "metadata": {
    "collapsed": true
   },
   "outputs": [],
   "source": [
    "odf_polya = ndf_polya.query('within_target_gene == True')"
   ]
  },
  {
   "cell_type": "code",
   "execution_count": 20,
   "metadata": {
    "collapsed": false
   },
   "outputs": [
    {
     "data": {
      "text/html": [
       "<div>\n",
       "<style>\n",
       "    .dataframe thead tr:only-child th {\n",
       "        text-align: right;\n",
       "    }\n",
       "\n",
       "    .dataframe thead th {\n",
       "        text-align: left;\n",
       "    }\n",
       "\n",
       "    .dataframe tbody tr th {\n",
       "        vertical-align: top;\n",
       "    }\n",
       "</style>\n",
       "<table border=\"1\" class=\"dataframe\">\n",
       "  <thead>\n",
       "    <tr style=\"text-align: right;\">\n",
       "      <th></th>\n",
       "      <th>seqname</th>\n",
       "      <th>clv</th>\n",
       "      <th>hexamer_str</th>\n",
       "      <th>strand</th>\n",
       "      <th>within_target_gene</th>\n",
       "    </tr>\n",
       "  </thead>\n",
       "  <tbody>\n",
       "    <tr>\n",
       "      <th>1229</th>\n",
       "      <td>chr1</td>\n",
       "      <td>40361100</td>\n",
       "      <td>5.386|AATAAA</td>\n",
       "      <td>-</td>\n",
       "      <td>True</td>\n",
       "    </tr>\n",
       "    <tr>\n",
       "      <th>1230</th>\n",
       "      <td>chr1</td>\n",
       "      <td>40361235</td>\n",
       "      <td>7.453|none</td>\n",
       "      <td>-</td>\n",
       "      <td>True</td>\n",
       "    </tr>\n",
       "  </tbody>\n",
       "</table>\n",
       "</div>"
      ],
      "text/plain": [
       "     seqname       clv   hexamer_str strand  within_target_gene\n",
       "1229  chr1    40361100  5.386|AATAAA  -      True              \n",
       "1230  chr1    40361235  7.453|none    -      True              "
      ]
     },
     "execution_count": 20,
     "metadata": {},
     "output_type": "execute_result"
    }
   ],
   "source": [
    "odf_polya.head(2)"
   ]
  },
  {
   "cell_type": "code",
   "execution_count": 21,
   "metadata": {
    "collapsed": false
   },
   "outputs": [
    {
     "data": {
      "text/plain": [
       "(619, 5)"
      ]
     },
     "execution_count": 21,
     "metadata": {},
     "output_type": "execute_result"
    }
   ],
   "source": [
    "odf_polya.shape"
   ]
  },
  {
   "cell_type": "markdown",
   "metadata": {},
   "source": [
    "# Cluster doesn't change the results "
   ]
  },
  {
   "cell_type": "markdown",
   "metadata": {},
   "source": [
    "polyA-seq results could've been clustered already"
   ]
  },
  {
   "cell_type": "code",
   "execution_count": 24,
   "metadata": {
    "collapsed": false
   },
   "outputs": [
    {
     "name": "stdout",
     "output_type": "stream",
     "text": [
      "0 clustering...\n",
      "1 clustering...\n",
      "CPU times: user 1.58 s, sys: 8.88 ms, total: 1.59 s\n",
      "Wall time: 1.58 s\n"
     ]
    }
   ],
   "source": [
    "def cluster_to_stable(input_df):\n",
    "    _df = input_df.copy()\n",
    "    for i in range(2):\n",
    "        print('{0} clustering...'.format(i))\n",
    "        _df = _df.groupby(['seqname', 'strand']).apply(cluster_clv_sites, 20).reset_index(drop=True)\n",
    "    return _df\n",
    "\n",
    "cutoff = 20 # bp\n",
    "%time pdf_polya = cluster_to_stable(odf_polya)\n",
    "\n",
    "assert pdf_polya[['seqname', 'strand', 'clv']].drop_duplicates().shape[0] == 619"
   ]
  },
  {
   "cell_type": "markdown",
   "metadata": {},
   "source": [
    "So clustering polya-seq does not change the results!"
   ]
  },
  {
   "cell_type": "code",
   "execution_count": null,
   "metadata": {
    "collapsed": true
   },
   "outputs": [],
   "source": []
  },
  {
   "cell_type": "code",
   "execution_count": 25,
   "metadata": {
    "collapsed": true
   },
   "outputs": [],
   "source": [
    "odf_polya.to_csv(os.path.join(outdir, 'polyA-Seq-truth-114-genes.csv'), index=False)"
   ]
  },
  {
   "cell_type": "code",
   "execution_count": null,
   "metadata": {
    "collapsed": true
   },
   "outputs": [],
   "source": []
  }
 ],
 "metadata": {
  "anaconda-cloud": {},
  "kernelspec": {
   "display_name": "Python [default]",
   "language": "python",
   "name": "python3"
  },
  "language_info": {
   "codemirror_mode": {
    "name": "ipython",
    "version": 3
   },
   "file_extension": ".py",
   "mimetype": "text/x-python",
   "name": "python",
   "nbconvert_exporter": "python",
   "pygments_lexer": "ipython3",
   "version": "3.5.3"
  }
 },
 "nbformat": 4,
 "nbformat_minor": 2
}
