{
 "cells": [
  {
   "cell_type": "markdown",
   "metadata": {},
   "source": [
    "This notebook summarizes interested statistics from CGHub based on the [LATEST_MANIFEST.tsv]('https://cghub.ucsc.edu/reports/SUMMARY_STATS/LATEST_MANIFEST.tsv') file using [pandas](http://pandas.pydata.org/)."
   ]
  },
  {
   "cell_type": "code",
   "execution_count": 2,
   "metadata": {
    "collapsed": false
   },
   "outputs": [],
   "source": [
    "import pandas as pd"
   ]
  },
  {
   "cell_type": "code",
   "execution_count": 70,
   "metadata": {
    "collapsed": false
   },
   "outputs": [],
   "source": [
    "df = pd.read_csv('https://cghub.ucsc.edu/reports/SUMMARY_STATS/LATEST_MANIFEST.tsv', low_memory=False, sep='\\t')"
   ]
  },
  {
   "cell_type": "markdown",
   "metadata": {},
   "source": [
    "# The `LATEST_MANIFEST.tsv` file is being updated daily, see [here](https://cghub.ucsc.edu/summary_stats.html) for more information."
   ]
  },
  {
   "cell_type": "code",
   "execution_count": 12,
   "metadata": {
    "collapsed": false
   },
   "outputs": [
    {
     "name": "stdout",
     "output_type": "stream",
     "text": [
      "2016-03-24\n"
     ]
    }
   ],
   "source": [
    "# Last time it's run:\n",
    "import datetime\n",
    "print(datetime.datetime.today().date())"
   ]
  },
  {
   "cell_type": "markdown",
   "metadata": {},
   "source": [
    "See what studies are available in the file, e.g. **TCGA** and **CCLE**."
   ]
  },
  {
   "cell_type": "code",
   "execution_count": 71,
   "metadata": {
    "collapsed": false
   },
   "outputs": [
    {
     "data": {
      "text/plain": [
       "['CCLE',\n",
       " 'CGCI',\n",
       " 'CGHUB CGI TEST',\n",
       " 'CGHUB GENERAL TEST',\n",
       " 'CGHUB GENERAL TEST DEPRECATED',\n",
       " 'CGHUB PERFORMANCE TEST',\n",
       " 'PAWG',\n",
       " 'PCAWG 2.0',\n",
       " 'PCAWG_CHECK',\n",
       " 'PCAWG_TEST',\n",
       " 'REBC',\n",
       " 'TARGET',\n",
       " 'TARGET GDC CHECKING',\n",
       " 'TARGET STUDY FOR HOLDING NOT FULLY REPAIRED CGI FILES AND OTHER RELATED PROBLEMS',\n",
       " 'TCGA',\n",
       " 'TCGA BENCHMARK',\n",
       " 'TCGA MC3 VARIANT CALLING PROJECT',\n",
       " 'TCGA STUDY FOR HOLDING AMONG OTHERS, FILES WHICH ARE SUPPRESSED FOR QUALITY REASONS BUT ARE CITED']"
      ]
     },
     "execution_count": 71,
     "metadata": {},
     "output_type": "execute_result"
    }
   ],
   "source": [
    "sorted(df.study.unique())"
   ]
  },
  {
   "cell_type": "markdown",
   "metadata": {},
   "source": [
    "## Check available columns. For detailed explanation of all columns, see [here](https://cghub.ucsc.edu/manifest_description.html)"
   ]
  },
  {
   "cell_type": "code",
   "execution_count": 6,
   "metadata": {
    "collapsed": false
   },
   "outputs": [
    {
     "data": {
      "text/plain": [
       "['aliquot_id',\n",
       " 'analysis_id',\n",
       " 'analyte_type',\n",
       " 'analyte_type_code',\n",
       " 'assembly',\n",
       " 'barcode',\n",
       " 'catalog_number',\n",
       " 'center',\n",
       " 'center_name',\n",
       " 'checksum',\n",
       " 'disease',\n",
       " 'disease_name',\n",
       " 'file_type',\n",
       " 'filename',\n",
       " 'files_size',\n",
       " 'is_custom',\n",
       " 'library_type',\n",
       " 'modified',\n",
       " 'participant_id',\n",
       " 'platform',\n",
       " 'platform_full_name',\n",
       " 'platform_name',\n",
       " 'probe_file_url',\n",
       " 'published',\n",
       " 'reagent_name',\n",
       " 'reagent_vendor',\n",
       " 'reason',\n",
       " 'sample_accession',\n",
       " 'sample_id',\n",
       " 'sample_type',\n",
       " 'sample_type_code',\n",
       " 'sample_type_name',\n",
       " 'state',\n",
       " 'study',\n",
       " 'target_file_url',\n",
       " 'tss_id',\n",
       " 'uploaded']"
      ]
     },
     "execution_count": 6,
     "metadata": {},
     "output_type": "execute_result"
    }
   ],
   "source": [
    "sorted(df.columns)"
   ]
  },
  {
   "cell_type": "markdown",
   "metadata": {},
   "source": [
    "Check available library_types in CCLE and count them"
   ]
  },
  {
   "cell_type": "code",
   "execution_count": 72,
   "metadata": {
    "collapsed": false
   },
   "outputs": [],
   "source": [
    "# it can be any column other than 'study'\n",
    "count = df[df.study == 'CCLE'][['study', 'library_type']].groupby('library_type').count().sort_values('study')\n",
    "count['percent'] = (count.study / count.sum().values[0]).apply('{0:.2%}'.format)"
   ]
  },
  {
   "cell_type": "markdown",
   "metadata": {},
   "source": [
    "So in CCLE, most of the samples are RNA-Seq."
   ]
  },
  {
   "cell_type": "code",
   "execution_count": 73,
   "metadata": {
    "collapsed": false
   },
   "outputs": [
    {
     "data": {
      "text/html": [
       "<div>\n",
       "<table border=\"1\" class=\"dataframe\">\n",
       "  <thead>\n",
       "    <tr style=\"text-align: right;\">\n",
       "      <th></th>\n",
       "      <th>study</th>\n",
       "      <th>percent</th>\n",
       "    </tr>\n",
       "    <tr>\n",
       "      <th>library_type</th>\n",
       "      <th></th>\n",
       "      <th></th>\n",
       "    </tr>\n",
       "  </thead>\n",
       "  <tbody>\n",
       "    <tr>\n",
       "      <th>WGS</th>\n",
       "      <td>28</td>\n",
       "      <td>2.16%</td>\n",
       "    </tr>\n",
       "    <tr>\n",
       "      <th>WXS</th>\n",
       "      <td>329</td>\n",
       "      <td>25.39%</td>\n",
       "    </tr>\n",
       "    <tr>\n",
       "      <th>RNA-Seq</th>\n",
       "      <td>939</td>\n",
       "      <td>72.45%</td>\n",
       "    </tr>\n",
       "  </tbody>\n",
       "</table>\n",
       "</div>"
      ],
      "text/plain": [
       "              study percent\n",
       "library_type               \n",
       "WGS              28   2.16%\n",
       "WXS             329  25.39%\n",
       "RNA-Seq         939  72.45%"
      ]
     },
     "execution_count": 73,
     "metadata": {},
     "output_type": "execute_result"
    }
   ],
   "source": [
    "count"
   ]
  },
  {
   "cell_type": "markdown",
   "metadata": {},
   "source": [
    "What about file types, files sizes, etc? More summary will be put on an separate notebook, [CCLE manifest summary](/notebooks/CGHub-manifest-summary-CCLE.ipynb), similarly there are TCGA related summaries, see the file list at [Home](/)."
   ]
  },
  {
   "cell_type": "markdown",
   "metadata": {},
   "source": [
    "Similar count for TCGA"
   ]
  },
  {
   "cell_type": "code",
   "execution_count": 75,
   "metadata": {
    "collapsed": true
   },
   "outputs": [],
   "source": [
    "# it can be any column other than 'study'\n",
    "count = df[df.study == 'TCGA'][['study', 'library_type']].groupby('library_type').count().sort_values('study')\n",
    "count['percent'] = (count.study / count.sum().values[0]).apply('{0:.2%}'.format)"
   ]
  },
  {
   "cell_type": "code",
   "execution_count": 76,
   "metadata": {
    "collapsed": false
   },
   "outputs": [
    {
     "data": {
      "text/html": [
       "<div>\n",
       "<table border=\"1\" class=\"dataframe\">\n",
       "  <thead>\n",
       "    <tr style=\"text-align: right;\">\n",
       "      <th></th>\n",
       "      <th>study</th>\n",
       "      <th>percent</th>\n",
       "    </tr>\n",
       "    <tr>\n",
       "      <th>library_type</th>\n",
       "      <th></th>\n",
       "      <th></th>\n",
       "    </tr>\n",
       "  </thead>\n",
       "  <tbody>\n",
       "    <tr>\n",
       "      <th>OTHER</th>\n",
       "      <td>16</td>\n",
       "      <td>0.02%</td>\n",
       "    </tr>\n",
       "    <tr>\n",
       "      <th>Bisulfite-Seq</th>\n",
       "      <td>65</td>\n",
       "      <td>0.07%</td>\n",
       "    </tr>\n",
       "    <tr>\n",
       "      <th>AMPLICON</th>\n",
       "      <td>2158</td>\n",
       "      <td>2.19%</td>\n",
       "    </tr>\n",
       "    <tr>\n",
       "      <th>WGS</th>\n",
       "      <td>5473</td>\n",
       "      <td>5.55%</td>\n",
       "    </tr>\n",
       "    <tr>\n",
       "      <th>VALIDATION</th>\n",
       "      <td>11396</td>\n",
       "      <td>11.56%</td>\n",
       "    </tr>\n",
       "    <tr>\n",
       "      <th>miRNA-Seq</th>\n",
       "      <td>19427</td>\n",
       "      <td>19.71%</td>\n",
       "    </tr>\n",
       "    <tr>\n",
       "      <th>RNA-Seq</th>\n",
       "      <td>27164</td>\n",
       "      <td>27.56%</td>\n",
       "    </tr>\n",
       "    <tr>\n",
       "      <th>WXS</th>\n",
       "      <td>32868</td>\n",
       "      <td>33.35%</td>\n",
       "    </tr>\n",
       "  </tbody>\n",
       "</table>\n",
       "</div>"
      ],
      "text/plain": [
       "               study percent\n",
       "library_type                \n",
       "OTHER             16   0.02%\n",
       "Bisulfite-Seq     65   0.07%\n",
       "AMPLICON        2158   2.19%\n",
       "WGS             5473   5.55%\n",
       "VALIDATION     11396  11.56%\n",
       "miRNA-Seq      19427  19.71%\n",
       "RNA-Seq        27164  27.56%\n",
       "WXS            32868  33.35%"
      ]
     },
     "execution_count": 76,
     "metadata": {},
     "output_type": "execute_result"
    }
   ],
   "source": [
    "count"
   ]
  }
 ],
 "metadata": {
  "kernelspec": {
   "display_name": "Python 2",
   "language": "python",
   "name": "python2"
  },
  "language_info": {
   "codemirror_mode": {
    "name": "ipython",
    "version": 2
   },
   "file_extension": ".py",
   "mimetype": "text/x-python",
   "name": "python",
   "nbconvert_exporter": "python",
   "pygments_lexer": "ipython2",
   "version": "2.7.11"
  }
 },
 "nbformat": 4,
 "nbformat_minor": 0
}
