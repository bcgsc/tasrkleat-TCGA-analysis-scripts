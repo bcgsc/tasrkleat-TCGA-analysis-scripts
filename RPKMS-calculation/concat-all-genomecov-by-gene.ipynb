{
 "cells": [
  {
   "cell_type": "code",
   "execution_count": 1,
   "metadata": {
    "collapsed": false
   },
   "outputs": [],
   "source": [
    "from eda_import import *"
   ]
  },
  {
   "cell_type": "code",
   "execution_count": 4,
   "metadata": {
    "collapsed": false
   },
   "outputs": [
    {
     "name": "stdout",
     "output_type": "stream",
     "text": [
      "500,1000,1500,2000,2500,3000,3500,4000,4500,5000,5500,6000,6500,7000,7500,8000,8500,9000,9500,10000,10500,CPU times: user 18.8 s, sys: 1.95 s, total: 20.7 s\n",
      "Wall time: 1min 2s\n"
     ]
    }
   ],
   "source": [
    "%%time\n",
    "with gzip.open('ls.genomecov.txt.gz', 'rt') as inf:\n",
    "    inputs = [\n",
    "        os.path.join(os.path.dirname(_), 'genomecov-by-gene.csv')\n",
    "        for _ in inf.readlines()\n",
    "    ]\n",
    "\n",
    "\n",
    "dfs = []\n",
    "for k, infile in enumerate(inputs):\n",
    "    if (k + 1) % 500 == 0:\n",
    "        print(k + 1, end=',')\n",
    "    df = pd.read_csv(infile)\n",
    "    df['source_file'] = os.path.abspath(infile)\n",
    "    dfs.append(df)"
   ]
  },
  {
   "cell_type": "code",
   "execution_count": 5,
   "metadata": {
    "collapsed": false
   },
   "outputs": [
    {
     "name": "stdout",
     "output_type": "stream",
     "text": [
      "CPU times: user 6.51 s, sys: 184 ms, total: 6.69 s\n",
      "Wall time: 6.64 s\n"
     ]
    }
   ],
   "source": [
    "%time combined = pd.concat(dfs)"
   ]
  },
  {
   "cell_type": "code",
   "execution_count": 6,
   "metadata": {
    "collapsed": false
   },
   "outputs": [
    {
     "data": {
      "text/html": [
       "<div>\n",
       "<style>\n",
       "    .dataframe thead tr:only-child th {\n",
       "        text-align: right;\n",
       "    }\n",
       "\n",
       "    .dataframe thead th {\n",
       "        text-align: left;\n",
       "    }\n",
       "\n",
       "    .dataframe tbody tr th {\n",
       "        vertical-align: top;\n",
       "    }\n",
       "</style>\n",
       "<table border=\"1\" class=\"dataframe\">\n",
       "  <thead>\n",
       "    <tr style=\"text-align: right;\">\n",
       "      <th></th>\n",
       "      <th>gene_name</th>\n",
       "      <th>cov_average_num_bases</th>\n",
       "      <th>source_file</th>\n",
       "    </tr>\n",
       "  </thead>\n",
       "  <tbody>\n",
       "    <tr>\n",
       "      <th>0</th>\n",
       "      <td>ABL1</td>\n",
       "      <td>83.905369</td>\n",
       "      <td>/projects/btl/zxue/tasrkleat-TCGA-results/tasrkleat-TCGA-analysis-scripts/RPKMS-calculation/tcga/KICH/RNA/RNA-Seq/UNC-LCCC/ILLUMINA/UNCID_2186137.d42c9589-3960-4964-be28-83d275bdc672.121106_UNC11-SN627_0258_AC11WRACXX_6_TGACCA.tar.gz/tasrkleat-results/align_reads2genome/genomecov-by-gene.csv</td>\n",
       "    </tr>\n",
       "  </tbody>\n",
       "</table>\n",
       "</div>"
      ],
      "text/plain": [
       "  gene_name  cov_average_num_bases  \\\n",
       "0  ABL1      83.905369               \n",
       "\n",
       "                                                                                                                                                                                                                                                                                            source_file  \n",
       "0  /projects/btl/zxue/tasrkleat-TCGA-results/tasrkleat-TCGA-analysis-scripts/RPKMS-calculation/tcga/KICH/RNA/RNA-Seq/UNC-LCCC/ILLUMINA/UNCID_2186137.d42c9589-3960-4964-be28-83d275bdc672.121106_UNC11-SN627_0258_AC11WRACXX_6_TGACCA.tar.gz/tasrkleat-results/align_reads2genome/genomecov-by-gene.csv  "
      ]
     },
     "execution_count": 6,
     "metadata": {},
     "output_type": "execute_result"
    }
   ],
   "source": [
    "combined.head(1)"
   ]
  },
  {
   "cell_type": "code",
   "execution_count": null,
   "metadata": {
    "collapsed": true
   },
   "outputs": [],
   "source": []
  },
  {
   "cell_type": "markdown",
   "metadata": {},
   "source": [
    "Load metadata, to obtain analysis_id"
   ]
  },
  {
   "cell_type": "code",
   "execution_count": 7,
   "metadata": {
    "collapsed": false
   },
   "outputs": [],
   "source": [
    "df_gcs_listing = pd.read_csv('./metadata/GCS_listing_27apr2016.csv.gz', compression='gzip')"
   ]
  },
  {
   "cell_type": "code",
   "execution_count": 8,
   "metadata": {
    "collapsed": true
   },
   "outputs": [],
   "source": [
    "df_gcs_listing.rename(columns={'CGHubAnalysisID':'analysis_id'}, inplace=True)"
   ]
  },
  {
   "cell_type": "code",
   "execution_count": 9,
   "metadata": {
    "collapsed": false
   },
   "outputs": [
    {
     "data": {
      "text/html": [
       "<div>\n",
       "<style>\n",
       "    .dataframe thead tr:only-child th {\n",
       "        text-align: right;\n",
       "    }\n",
       "\n",
       "    .dataframe thead th {\n",
       "        text-align: left;\n",
       "    }\n",
       "\n",
       "    .dataframe tbody tr th {\n",
       "        vertical-align: top;\n",
       "    }\n",
       "</style>\n",
       "<table border=\"1\" class=\"dataframe\">\n",
       "  <thead>\n",
       "    <tr style=\"text-align: right;\">\n",
       "      <th></th>\n",
       "      <th>analysis_id</th>\n",
       "      <th>AliquotBarcode</th>\n",
       "      <th>AliquotUUID</th>\n",
       "      <th>GCSobject</th>\n",
       "      <th>objectSizeBytes</th>\n",
       "    </tr>\n",
       "  </thead>\n",
       "  <tbody>\n",
       "    <tr>\n",
       "      <th>0</th>\n",
       "      <td>00007994-abeb-4b16-a6ad-7230300a29e9</td>\n",
       "      <td>TCGA-AA-3495-01A-01R-1410-07</td>\n",
       "      <td>c18465ae-447d-46c8-8b54-0156ab502265</td>\n",
       "      <td>gs://5aa919de-0aa0-43ec-9ec3-288481102b6d/tcga/COAD/RNA/RNA-Seq/UNC-LCCC/ILLUMINA/UNCID_1620885.c18465ae-447d-46c8-8b54-0156ab502265.sorted_genome_alignments.bam</td>\n",
       "      <td>1972948726</td>\n",
       "    </tr>\n",
       "  </tbody>\n",
       "</table>\n",
       "</div>"
      ],
      "text/plain": [
       "                            analysis_id                AliquotBarcode                           AliquotUUID                                                                                                                                                          GCSobject  objectSizeBytes\n",
       "0  00007994-abeb-4b16-a6ad-7230300a29e9  TCGA-AA-3495-01A-01R-1410-07  c18465ae-447d-46c8-8b54-0156ab502265  gs://5aa919de-0aa0-43ec-9ec3-288481102b6d/tcga/COAD/RNA/RNA-Seq/UNC-LCCC/ILLUMINA/UNCID_1620885.c18465ae-447d-46c8-8b54-0156ab502265.sorted_genome_alignments.bam  1972948726     "
      ]
     },
     "execution_count": 9,
     "metadata": {},
     "output_type": "execute_result"
    }
   ],
   "source": [
    "df_gcs_listing.head(1)"
   ]
  },
  {
   "cell_type": "code",
   "execution_count": 29,
   "metadata": {
    "collapsed": false
   },
   "outputs": [],
   "source": [
    "df_gcs_listing['source_file'] = df_gcs_listing.GCSobject.apply(\n",
    "    lambda x: x.replace('gs://5aa919de-0aa0-43ec-9ec3-288481102b6d/', \n",
    "                        '/projects/btl/zxue/tasrkleat-TCGA-results/tasrkleat-TCGA-analysis-scripts/RPKMS-calculation/') + '/tasrkleat-results/align_reads2genome/genomecov-by-gene.csv')"
   ]
  },
  {
   "cell_type": "code",
   "execution_count": 30,
   "metadata": {
    "collapsed": false
   },
   "outputs": [
    {
     "data": {
      "text/html": [
       "<div>\n",
       "<style>\n",
       "    .dataframe thead tr:only-child th {\n",
       "        text-align: right;\n",
       "    }\n",
       "\n",
       "    .dataframe thead th {\n",
       "        text-align: left;\n",
       "    }\n",
       "\n",
       "    .dataframe tbody tr th {\n",
       "        vertical-align: top;\n",
       "    }\n",
       "</style>\n",
       "<table border=\"1\" class=\"dataframe\">\n",
       "  <thead>\n",
       "    <tr style=\"text-align: right;\">\n",
       "      <th></th>\n",
       "      <th>analysis_id</th>\n",
       "      <th>AliquotBarcode</th>\n",
       "      <th>AliquotUUID</th>\n",
       "      <th>GCSobject</th>\n",
       "      <th>objectSizeBytes</th>\n",
       "      <th>fname</th>\n",
       "      <th>source_file</th>\n",
       "    </tr>\n",
       "  </thead>\n",
       "  <tbody>\n",
       "    <tr>\n",
       "      <th>9765</th>\n",
       "      <td>1d811d54-caa1-41f3-bfc2-400eebdd97ef</td>\n",
       "      <td>TCGA-KN-8425-01A-11R-2315-07</td>\n",
       "      <td>d42c9589-3960-4964-be28-83d275bdc672</td>\n",
       "      <td>gs://5aa919de-0aa0-43ec-9ec3-288481102b6d/tcga/KICH/RNA/RNA-Seq/UNC-LCCC/ILLUMINA/UNCID_2186137.d42c9589-3960-4964-be28-83d275bdc672.121106_UNC11-SN627_0258_AC11WRACXX_6_TGACCA.tar.gz</td>\n",
       "      <td>8282670365</td>\n",
       "      <td>/projects/btl/zxue/tasrkleat-TCGA-results/tcga/KICH/RNA/RNA-Seq/UNC-LCCC/ILLUMINA/UNCID_2186137.d42c9589-3960-4964-be28-83d275bdc672.121106_UNC11-SN627_0258_AC11WRACXX_6_TGACCA.tar.gz/tasrkleat-results/align_reads2genome/genomecov-by-gene.csv</td>\n",
       "      <td>/projects/btl/zxue/tasrkleat-TCGA-results/tasrkleat-TCGA-analysis-scripts/RPKMS-calculation/tcga/KICH/RNA/RNA-Seq/UNC-LCCC/ILLUMINA/UNCID_2186137.d42c9589-3960-4964-be28-83d275bdc672.121106_UNC11-SN627_0258_AC11WRACXX_6_TGACCA.tar.gz/tasrkleat-results/align_reads2genome/genomecov-by-gene.csv</td>\n",
       "    </tr>\n",
       "  </tbody>\n",
       "</table>\n",
       "</div>"
      ],
      "text/plain": [
       "                               analysis_id                AliquotBarcode                           AliquotUUID                                                                                                                                                                                GCSobject  \\\n",
       "9765  1d811d54-caa1-41f3-bfc2-400eebdd97ef  TCGA-KN-8425-01A-11R-2315-07  d42c9589-3960-4964-be28-83d275bdc672  gs://5aa919de-0aa0-43ec-9ec3-288481102b6d/tcga/KICH/RNA/RNA-Seq/UNC-LCCC/ILLUMINA/UNCID_2186137.d42c9589-3960-4964-be28-83d275bdc672.121106_UNC11-SN627_0258_AC11WRACXX_6_TGACCA.tar.gz   \n",
       "\n",
       "      objectSizeBytes                                                                                                                                                                                                                                               fname  \\\n",
       "9765  8282670365       /projects/btl/zxue/tasrkleat-TCGA-results/tcga/KICH/RNA/RNA-Seq/UNC-LCCC/ILLUMINA/UNCID_2186137.d42c9589-3960-4964-be28-83d275bdc672.121106_UNC11-SN627_0258_AC11WRACXX_6_TGACCA.tar.gz/tasrkleat-results/align_reads2genome/genomecov-by-gene.csv   \n",
       "\n",
       "                                                                                                                                                                                                                                                                                               source_file  \n",
       "9765  /projects/btl/zxue/tasrkleat-TCGA-results/tasrkleat-TCGA-analysis-scripts/RPKMS-calculation/tcga/KICH/RNA/RNA-Seq/UNC-LCCC/ILLUMINA/UNCID_2186137.d42c9589-3960-4964-be28-83d275bdc672.121106_UNC11-SN627_0258_AC11WRACXX_6_TGACCA.tar.gz/tasrkleat-results/align_reads2genome/genomecov-by-gene.csv  "
      ]
     },
     "execution_count": 30,
     "metadata": {},
     "output_type": "execute_result"
    }
   ],
   "source": [
    "df_gcs_listing[df_gcs_listing.GCSobject.str.contains('SN627_0258_AC11WRACXX_6_TGACCA')]"
   ]
  },
  {
   "cell_type": "code",
   "execution_count": 31,
   "metadata": {
    "collapsed": false
   },
   "outputs": [
    {
     "name": "stdout",
     "output_type": "stream",
     "text": [
      "CPU times: user 502 ms, sys: 71.2 ms, total: 573 ms\n",
      "Wall time: 571 ms\n"
     ]
    }
   ],
   "source": [
    "%%time\n",
    "merged = combined.merge(\n",
    "    df_gcs_listing[['source_file', 'analysis_id']].drop_duplicates(), how='left', on='source_file')"
   ]
  },
  {
   "cell_type": "code",
   "execution_count": 32,
   "metadata": {
    "collapsed": false
   },
   "outputs": [
    {
     "data": {
      "text/plain": [
       "(1216152, 4)"
      ]
     },
     "execution_count": 32,
     "metadata": {},
     "output_type": "execute_result"
    }
   ],
   "source": [
    "merged.shape"
   ]
  },
  {
   "cell_type": "code",
   "execution_count": 34,
   "metadata": {
    "collapsed": false
   },
   "outputs": [
    {
     "data": {
      "text/html": [
       "<div>\n",
       "<style>\n",
       "    .dataframe thead tr:only-child th {\n",
       "        text-align: right;\n",
       "    }\n",
       "\n",
       "    .dataframe thead th {\n",
       "        text-align: left;\n",
       "    }\n",
       "\n",
       "    .dataframe tbody tr th {\n",
       "        vertical-align: top;\n",
       "    }\n",
       "</style>\n",
       "<table border=\"1\" class=\"dataframe\">\n",
       "  <thead>\n",
       "    <tr style=\"text-align: right;\">\n",
       "      <th></th>\n",
       "      <th>gene_name</th>\n",
       "      <th>cov_average_num_bases</th>\n",
       "      <th>source_file</th>\n",
       "      <th>analysis_id</th>\n",
       "    </tr>\n",
       "  </thead>\n",
       "  <tbody>\n",
       "    <tr>\n",
       "      <th>0</th>\n",
       "      <td>ABL1</td>\n",
       "      <td>83.905369</td>\n",
       "      <td>/projects/btl/zxue/tasrkleat-TCGA-results/tasrkleat-TCGA-analysis-scripts/RPKMS-calculation/tcga/KICH/RNA/RNA-Seq/UNC-LCCC/ILLUMINA/UNCID_2186137.d42c9589-3960-4964-be28-83d275bdc672.121106_UNC11-SN627_0258_AC11WRACXX_6_TGACCA.tar.gz/tasrkleat-results/align_reads2genome/genomecov-by-gene.csv</td>\n",
       "      <td>1d811d54-caa1-41f3-bfc2-400eebdd97ef</td>\n",
       "    </tr>\n",
       "    <tr>\n",
       "      <th>1</th>\n",
       "      <td>AKT1</td>\n",
       "      <td>380.787244</td>\n",
       "      <td>/projects/btl/zxue/tasrkleat-TCGA-results/tasrkleat-TCGA-analysis-scripts/RPKMS-calculation/tcga/KICH/RNA/RNA-Seq/UNC-LCCC/ILLUMINA/UNCID_2186137.d42c9589-3960-4964-be28-83d275bdc672.121106_UNC11-SN627_0258_AC11WRACXX_6_TGACCA.tar.gz/tasrkleat-results/align_reads2genome/genomecov-by-gene.csv</td>\n",
       "      <td>1d811d54-caa1-41f3-bfc2-400eebdd97ef</td>\n",
       "    </tr>\n",
       "  </tbody>\n",
       "</table>\n",
       "</div>"
      ],
      "text/plain": [
       "  gene_name  cov_average_num_bases  \\\n",
       "0  ABL1      83.905369               \n",
       "1  AKT1      380.787244              \n",
       "\n",
       "                                                                                                                                                                                                                                                                                            source_file  \\\n",
       "0  /projects/btl/zxue/tasrkleat-TCGA-results/tasrkleat-TCGA-analysis-scripts/RPKMS-calculation/tcga/KICH/RNA/RNA-Seq/UNC-LCCC/ILLUMINA/UNCID_2186137.d42c9589-3960-4964-be28-83d275bdc672.121106_UNC11-SN627_0258_AC11WRACXX_6_TGACCA.tar.gz/tasrkleat-results/align_reads2genome/genomecov-by-gene.csv   \n",
       "1  /projects/btl/zxue/tasrkleat-TCGA-results/tasrkleat-TCGA-analysis-scripts/RPKMS-calculation/tcga/KICH/RNA/RNA-Seq/UNC-LCCC/ILLUMINA/UNCID_2186137.d42c9589-3960-4964-be28-83d275bdc672.121106_UNC11-SN627_0258_AC11WRACXX_6_TGACCA.tar.gz/tasrkleat-results/align_reads2genome/genomecov-by-gene.csv   \n",
       "\n",
       "                            analysis_id  \n",
       "0  1d811d54-caa1-41f3-bfc2-400eebdd97ef  \n",
       "1  1d811d54-caa1-41f3-bfc2-400eebdd97ef  "
      ]
     },
     "execution_count": 34,
     "metadata": {},
     "output_type": "execute_result"
    }
   ],
   "source": [
    "merged.head(2)"
   ]
  },
  {
   "cell_type": "code",
   "execution_count": 36,
   "metadata": {
    "collapsed": false
   },
   "outputs": [
    {
     "name": "stdout",
     "output_type": "stream",
     "text": [
      "CPU times: user 4.2 s, sys: 173 ms, total: 4.37 s\n",
      "Wall time: 4.57 s\n"
     ]
    }
   ],
   "source": [
    "%time merged.drop('source_file', axis=1).to_csv('./results/genomecov-by-gene-all-samples.csv', index=False)"
   ]
  },
  {
   "cell_type": "code",
   "execution_count": null,
   "metadata": {
    "collapsed": true
   },
   "outputs": [],
   "source": []
  }
 ],
 "metadata": {
  "kernelspec": {
   "display_name": "Python [default]",
   "language": "python",
   "name": "python3"
  }
 },
 "nbformat": 4,
 "nbformat_minor": 2
}
